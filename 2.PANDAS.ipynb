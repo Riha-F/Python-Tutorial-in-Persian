{
 "cells": [
  {
   "cell_type": "markdown",
   "id": "b826b9a7-5b38-471f-8201-e5e97e2aee81",
   "metadata": {},
   "source": [
    "<h1 align=ltr style=\"line-height:200%;font-family:vazir;color:#0099cc\">\n",
    "<font face=\"vazir\" size=6 color=\"blue\" >\n",
    "Tutorial in Persian\n",
    "    <br>\n",
    "    by Reyhane Faraji\n",
    "    </font>\n",
    "</h1>"
   ]
  },
  {
   "cell_type": "markdown",
   "id": "779b6c0c-a9dd-4c41-9f11-c6b3af17e73d",
   "metadata": {},
   "source": [
    "<h1 align=center style=\"line-height:200%;font-family:vazir;color:#0099cc\">\n",
    "<font face=\"vazir\" size=10 color=\"maroon\" >\n",
    "PANDAS\n",
    "</font>\n",
    "</h1>"
   ]
  },
  {
   "cell_type": "code",
   "execution_count": 1,
   "id": "004cc9f6-58f5-4b54-a658-2fb2922e424a",
   "metadata": {},
   "outputs": [],
   "source": [
    "import pandas as pd\n",
    "import numpy as np"
   ]
  },
  {
   "cell_type": "markdown",
   "id": "a23c087e-efe4-4cac-8bc1-c0275764a9a9",
   "metadata": {},
   "source": [
    "<br>\n",
    "<div dir=rtl id=\"start\" style=\"direction:rtl;line-height:200%;\">\n",
    "\t<font face=\"vazir\" size=7 color='Red'>\n",
    "    دیتا سری (Data Series)\n",
    "    </font>\n",
    "</div>"
   ]
  },
  {
   "cell_type": "markdown",
   "id": "3bb58e04-9f05-4a97-841e-3c5d42a21a65",
   "metadata": {
    "id": "ZRjNvNoBmES8"
   },
   "source": [
    "<p dir=rtl style=\"direction: rtl;text-align: right;line-height:200%;font-family:vazir;font-size:medium\">\n",
    "<font face=\"vazir\" size=4>\n",
    " ساده ترین ساختمان داده پانداس، دیتاسری، بسیار شبیه آرایه یک بعدی نامپای است. در واقع یک آرایه یک بعدی به همراه نمایه های (index) خاص. راحت ترین راه ایجاد سری استفاده از لیست پایتون است.\n",
    "</font>\n",
    "</p>"
   ]
  },
  {
   "cell_type": "code",
   "execution_count": 2,
   "id": "1e29ff5e-46de-405b-a286-c934b9f85375",
   "metadata": {},
   "outputs": [],
   "source": [
    "s_int = pd.Series([1,2,3,4,5])\n",
    "\n",
    "s_float = pd.Series([1.1, 2.2 ,3.3, 4.4])\n",
    "\n",
    "s_str = pd.Series([\"parsa\", \"parto\", \"hamed\", \"sajjad\"])"
   ]
  },
  {
   "cell_type": "markdown",
   "id": "ed257764-a67f-4140-8d8d-4723c699c5c4",
   "metadata": {
    "id": "ZRjNvNoBmES8"
   },
   "source": [
    "<p dir=rtl style=\"direction: rtl;text-align: right;line-height:200%;font-family:vazir;font-size:medium\">\n",
    "<font face=\"vazir\" size=3 color='midnightblue'>\n",
    "هر سری در کنار آرایه ای از مقادیر، آرایه ای از نمایه هم در خود جای داده است.\n",
    "</font>\n",
    "</p>"
   ]
  },
  {
   "cell_type": "code",
   "execution_count": 3,
   "id": "dec09875-b7cb-498c-92b9-f67a3467dd13",
   "metadata": {},
   "outputs": [
    {
     "data": {
      "text/plain": [
       "0    1\n",
       "1    2\n",
       "2    3\n",
       "3    4\n",
       "4    5\n",
       "dtype: int64"
      ]
     },
     "execution_count": 3,
     "metadata": {},
     "output_type": "execute_result"
    }
   ],
   "source": [
    "s_int"
   ]
  },
  {
   "cell_type": "markdown",
   "id": "6788eb83-0e09-47e9-9527-e29f974ef2ac",
   "metadata": {
    "id": "ZRjNvNoBmES8"
   },
   "source": [
    "<p dir=rtl style=\"direction: rtl;text-align: right;line-height:200%;font-family:vazir;font-size:medium\">\n",
    "<font face=\"vazir\" size=4>\n",
    " برای دسترسی به نمایه سری، پانداس ویژگی index و برای مقادیر اصلی، ویژگی values را تعریف کرده است.\n",
    "</font>\n",
    "</p>"
   ]
  },
  {
   "cell_type": "code",
   "execution_count": 4,
   "id": "31af9501-d838-4d3d-969a-32d372086cf1",
   "metadata": {},
   "outputs": [
    {
     "data": {
      "text/plain": [
       "RangeIndex(start=0, stop=5, step=1)"
      ]
     },
     "execution_count": 4,
     "metadata": {},
     "output_type": "execute_result"
    }
   ],
   "source": [
    "s_int.index"
   ]
  },
  {
   "cell_type": "code",
   "execution_count": 5,
   "id": "70032dea-6ce6-45cc-8674-0105e2646d1d",
   "metadata": {},
   "outputs": [
    {
     "data": {
      "text/plain": [
       "array([1, 2, 3, 4, 5], dtype=int64)"
      ]
     },
     "execution_count": 5,
     "metadata": {},
     "output_type": "execute_result"
    }
   ],
   "source": [
    "s_int.values"
   ]
  },
  {
   "cell_type": "markdown",
   "id": "7d4bc3e1-b2c1-4ab2-ab30-7a74da891a76",
   "metadata": {
    "id": "ZRjNvNoBmES8"
   },
   "source": [
    "<p dir=rtl style=\"direction: rtl;text-align: right;line-height:200%;font-family:vazir;font-size:medium\">\n",
    "<font face=\"vazir\" size=4>\n",
    " اگر به مقادیر به صورت لیست نیاز باشد از تابع to_list استفاده می کنیم.\n",
    "</font>\n",
    "</p>"
   ]
  },
  {
   "cell_type": "code",
   "execution_count": 6,
   "id": "5fc8721f-4878-4fa3-93b1-1eebcddafc94",
   "metadata": {},
   "outputs": [
    {
     "data": {
      "text/plain": [
       "[1, 2, 3, 4, 5]"
      ]
     },
     "execution_count": 6,
     "metadata": {},
     "output_type": "execute_result"
    }
   ],
   "source": [
    "s_int.to_list()"
   ]
  },
  {
   "cell_type": "markdown",
   "id": "07ae7176-e4c8-48ed-9e9f-8ec6689b38c6",
   "metadata": {
    "id": "ZRjNvNoBmES8"
   },
   "source": [
    "<p dir=rtl style=\"direction: rtl;text-align: right;line-height:200%;font-family:vazir;font-size:medium\">\n",
    "<font face=\"vazir\" size=4>\n",
    " از آنجا که پانداس بر اساس نامپای ساخته شده است، تمام اعمالی که با یک آرایه نامپای انجام دادیم را میتوانیم روی سری پانداس اعمال کنیم.\n",
    "</font>\n",
    "</p>"
   ]
  },
  {
   "cell_type": "code",
   "execution_count": 7,
   "id": "0e51443a-b343-4241-bf0d-ff5f42af7bc1",
   "metadata": {},
   "outputs": [
    {
     "data": {
      "text/plain": [
       "5"
      ]
     },
     "execution_count": 7,
     "metadata": {},
     "output_type": "execute_result"
    }
   ],
   "source": [
    "np.max(s_int)"
   ]
  },
  {
   "cell_type": "markdown",
   "id": "a604c115-1dcf-425d-bd45-9cab796b85f3",
   "metadata": {
    "id": "ZRjNvNoBmES8"
   },
   "source": [
    "<p dir=rtl style=\"direction: rtl;text-align: right;line-height:200%;font-family:vazir;font-size:medium\">\n",
    "<font face=\"vazir\" size=3 color='midnightblue'>\n",
    "توابع روی valueها اعمال میشوند و نمایه ها (index) فقط برای آدرس دهی هستند.\n",
    "</font>\n",
    "</p>"
   ]
  },
  {
   "cell_type": "markdown",
   "id": "edcfbc86-f791-47dc-b276-0c9985a56859",
   "metadata": {
    "id": "ZRjNvNoBmES8"
   },
   "source": [
    "<p dir=rtl style=\"direction: rtl;text-align: right;line-height:200%;font-family:vazir;font-size:medium\">\n",
    "<font face=\"vazir\" size=4>\n",
    "میتوانیم برای سری نمایه تعریف کنیم. به دو صورت:\n",
    "    <br>\n",
    "    همان اول کار، همزمان با تعریف سری\n",
    "    <br>\n",
    "    یا با تابع index (با index نمایه های سری تغییر میکند و یک کپی از آن برگردانده نمیشود.)\n",
    "</font>\n",
    "</p>"
   ]
  },
  {
   "cell_type": "code",
   "execution_count": 8,
   "id": "5f90da05-726a-484e-add5-8f5409065303",
   "metadata": {},
   "outputs": [
    {
     "data": {
      "text/plain": [
       "a    19\n",
       "b    16\n",
       "c    20\n",
       "dtype: int64"
      ]
     },
     "execution_count": 8,
     "metadata": {},
     "output_type": "execute_result"
    }
   ],
   "source": [
    "s = pd.Series([19,16,20],index=['a','b','c'])\n",
    "s"
   ]
  },
  {
   "cell_type": "code",
   "execution_count": 9,
   "id": "9baf9998-23c6-4e19-9e47-b794152b38e0",
   "metadata": {},
   "outputs": [
    {
     "data": {
      "text/plain": [
       "ali      19\n",
       "gholi    16\n",
       "vali     20\n",
       "dtype: int64"
      ]
     },
     "execution_count": 9,
     "metadata": {},
     "output_type": "execute_result"
    }
   ],
   "source": [
    "s.index = ['ali','gholi','vali']\n",
    "s"
   ]
  },
  {
   "cell_type": "markdown",
   "id": "909665c4-f8c6-45c2-b68a-9ca869915bfa",
   "metadata": {
    "id": "ZRjNvNoBmES8"
   },
   "source": [
    "<p dir=rtl style=\"direction: rtl;text-align: right;line-height:200%;font-family:vazir;font-size:medium\">\n",
    "<font face=\"vazir\" size=4>\n",
    " با دستور []s هم میتوانیم به مقدار مربوط به یک نمایه خاص دسترسی پیدا کنیم، هم آن را تغییر دهیم.\n",
    "</font>\n",
    "</p>"
   ]
  },
  {
   "cell_type": "code",
   "execution_count": 10,
   "id": "bcddfc0a-cfa9-4074-af2c-fd7ead2a5282",
   "metadata": {},
   "outputs": [
    {
     "data": {
      "text/plain": [
       "16"
      ]
     },
     "execution_count": 10,
     "metadata": {},
     "output_type": "execute_result"
    }
   ],
   "source": [
    "s['gholi']"
   ]
  },
  {
   "cell_type": "code",
   "execution_count": 11,
   "id": "f5d8a149-ff48-4a1c-b662-946024c361e8",
   "metadata": {},
   "outputs": [
    {
     "data": {
      "text/plain": [
       "ali      19\n",
       "gholi    20\n",
       "vali     20\n",
       "dtype: int64"
      ]
     },
     "execution_count": 11,
     "metadata": {},
     "output_type": "execute_result"
    }
   ],
   "source": [
    "s['gholi']=20\n",
    "s"
   ]
  },
  {
   "cell_type": "markdown",
   "id": "7355ebc2-b5bc-4396-aafb-dc405ed3d0f9",
   "metadata": {
    "id": "ZRjNvNoBmES8"
   },
   "source": [
    "<p dir=rtl style=\"direction: rtl;text-align: right;line-height:200%;font-family:vazir;font-size:medium\">\n",
    "<font face=\"vazir\" size=4>\n",
    " میتوانیم یک سری را با کمک دیکشنری هم مقداردهی کنیم و بسازیم.\n",
    "    </font>\n",
    "</p>"
   ]
  },
  {
   "cell_type": "code",
   "execution_count": 12,
   "id": "5c295e51-e206-4bce-b2aa-ef2bcaf0eb63",
   "metadata": {},
   "outputs": [
    {
     "data": {
      "text/plain": [
       "Ali      19\n",
       "Gholi    16\n",
       "Vali     20\n",
       "dtype: int64"
      ]
     },
     "execution_count": 12,
     "metadata": {},
     "output_type": "execute_result"
    }
   ],
   "source": [
    "s_dict = {\"Ali\" : 19 ,\"Gholi\" : 16 ,\"Vali\" : 20}\n",
    "s = pd.Series(s_dict)\n",
    "s"
   ]
  },
  {
   "cell_type": "markdown",
   "id": "df54dd33-775d-4262-92f5-dfb19afe2aa8",
   "metadata": {},
   "source": [
    "<br>\n",
    "<div dir=rtl id=\"start\" style=\"direction:rtl;line-height:200%;\">\n",
    "\t<font face=\"vazir\" size=7 color='Red'>\n",
    "    دیتا فریم (DataFrame)\n",
    "    </font>\n",
    "</div>"
   ]
  },
  {
   "cell_type": "markdown",
   "id": "b371a1fc-aec1-49d0-b931-d6e23d8e0c75",
   "metadata": {
    "id": "ZRjNvNoBmES8"
   },
   "source": [
    "<p dir=rtl style=\"direction: rtl;text-align: right;line-height:200%;font-family:vazir;font-size:medium\">\n",
    "<font face=\"vazir\" size=4>\n",
    " ساختار دیتافریم شبیه جدولهای مجموعه داده ها طراحی شده است.\n",
    "    <br>\n",
    "     برای ساخت یک دیتافریم میتوانیم هم از دیکشنری و هم از یک لیست ساده استفاده کنیم و با دستور pd.DataFrame آنرا بسازیم.\n",
    "    </font>\n",
    "</p>"
   ]
  },
  {
   "cell_type": "code",
   "execution_count": 13,
   "id": "3d28daac-2ac4-494a-a255-5eb740735fd0",
   "metadata": {},
   "outputs": [
    {
     "data": {
      "text/html": [
       "<div>\n",
       "<style scoped>\n",
       "    .dataframe tbody tr th:only-of-type {\n",
       "        vertical-align: middle;\n",
       "    }\n",
       "\n",
       "    .dataframe tbody tr th {\n",
       "        vertical-align: top;\n",
       "    }\n",
       "\n",
       "    .dataframe thead th {\n",
       "        text-align: right;\n",
       "    }\n",
       "</style>\n",
       "<table border=\"1\" class=\"dataframe\">\n",
       "  <thead>\n",
       "    <tr style=\"text-align: right;\">\n",
       "      <th></th>\n",
       "      <th>model</th>\n",
       "      <th>Color</th>\n",
       "      <th>HP</th>\n",
       "      <th>Weight (KG)</th>\n",
       "      <th>price</th>\n",
       "    </tr>\n",
       "  </thead>\n",
       "  <tbody>\n",
       "    <tr>\n",
       "      <th>0</th>\n",
       "      <td>Peykan</td>\n",
       "      <td>Red</td>\n",
       "      <td>48</td>\n",
       "      <td>990</td>\n",
       "      <td>33</td>\n",
       "    </tr>\n",
       "    <tr>\n",
       "      <th>1</th>\n",
       "      <td>BMW X6</td>\n",
       "      <td>White</td>\n",
       "      <td>335</td>\n",
       "      <td>2320</td>\n",
       "      <td>2400</td>\n",
       "    </tr>\n",
       "    <tr>\n",
       "      <th>2</th>\n",
       "      <td>Peugeot 206</td>\n",
       "      <td>Black</td>\n",
       "      <td>105</td>\n",
       "      <td>1025</td>\n",
       "      <td>105</td>\n",
       "    </tr>\n",
       "    <tr>\n",
       "      <th>3</th>\n",
       "      <td>Tiba</td>\n",
       "      <td>White</td>\n",
       "      <td>87</td>\n",
       "      <td>1027</td>\n",
       "      <td>120</td>\n",
       "    </tr>\n",
       "    <tr>\n",
       "      <th>4</th>\n",
       "      <td>Nissan Junior</td>\n",
       "      <td>Blue</td>\n",
       "      <td>93</td>\n",
       "      <td>1540</td>\n",
       "      <td>230</td>\n",
       "    </tr>\n",
       "    <tr>\n",
       "      <th>5</th>\n",
       "      <td>Peykan Vanet</td>\n",
       "      <td>Red</td>\n",
       "      <td>80</td>\n",
       "      <td>960</td>\n",
       "      <td>68</td>\n",
       "    </tr>\n",
       "    <tr>\n",
       "      <th>6</th>\n",
       "      <td>renault 5</td>\n",
       "      <td>Silver</td>\n",
       "      <td>48</td>\n",
       "      <td>850</td>\n",
       "      <td>38</td>\n",
       "    </tr>\n",
       "  </tbody>\n",
       "</table>\n",
       "</div>"
      ],
      "text/plain": [
       "           model   Color   HP  Weight (KG)  price\n",
       "0         Peykan     Red   48          990     33\n",
       "1         BMW X6   White  335         2320   2400\n",
       "2    Peugeot 206   Black  105         1025    105\n",
       "3           Tiba   White   87         1027    120\n",
       "4  Nissan Junior    Blue   93         1540    230\n",
       "5   Peykan Vanet     Red   80          960     68\n",
       "6      renault 5  Silver   48          850     38"
      ]
     },
     "execution_count": 13,
     "metadata": {},
     "output_type": "execute_result"
    }
   ],
   "source": [
    "cars_dictionary = {\n",
    "    \"model\" :[ \"Peykan\", \"BMW X6\", \"Peugeot 206\", \"Tiba\", \"Nissan Junior\", \"Peykan Vanet\", \"renault 5\"],\n",
    "    \"Color\" :[\"Red\", \"White\", \"Black\", \"White\", \"Blue\", \"Red\", \"Silver\"],\n",
    "    \"HP\" :[48, 335, 105, 87, 93, 80, 48],\n",
    "    \"Weight (KG)\": [990, 2320, 1025, 1027, 1540, 960, 850],\n",
    "    \"price\" :[33, 2400, 105, 120, 230, 68, 38]\n",
    "}\n",
    "\n",
    "df = pd.DataFrame(cars_dictionary)\n",
    "\n",
    "df"
   ]
  },
  {
   "cell_type": "markdown",
   "id": "44de4d68-4b65-4a45-a7f0-eb1eca63ae43",
   "metadata": {
    "id": "ZRjNvNoBmES8"
   },
   "source": [
    "<p dir=rtl style=\"direction: rtl;text-align: right;line-height:200%;font-family:vazir;font-size:medium\">\n",
    "<font face=\"vazir\" size=4>\n",
    " کلیدهای دیکشنری به عنوان اسم سرستونها در دیتافریم استفاده میشوند نه نمایه دیتافریم. سرستونها یا همان کلیدهای دیکشنری با عنوان columns در دیتافریم شناخته میشوند.\n",
    "    </font>\n",
    "</p>"
   ]
  },
  {
   "cell_type": "code",
   "execution_count": 14,
   "id": "2e1e154d-ecb3-4aa5-86fa-db68f4aa0c13",
   "metadata": {},
   "outputs": [
    {
     "data": {
      "text/plain": [
       "Index(['model', 'Color', 'HP', 'Weight (KG)', 'price'], dtype='object')"
      ]
     },
     "execution_count": 14,
     "metadata": {},
     "output_type": "execute_result"
    }
   ],
   "source": [
    "df.columns"
   ]
  },
  {
   "cell_type": "markdown",
   "id": "b5952877-eda5-4369-9660-05b906c1029a",
   "metadata": {
    "id": "ZRjNvNoBmES8"
   },
   "source": [
    "<p dir=rtl style=\"direction: rtl;text-align: right;line-height:200%;font-family:vazir;font-size:medium\">\n",
    "<font face=\"vazir\" size=3 color='midnightblue'>\n",
    "ساختار نمایه در پانداس با type مشخص میشود:\n",
    "    <br>\n",
    "    (دقت کنید که این لیست، از نوع object نیست بلکه ساختارداده‌ی خاصی در پانداس است که نمایه‌ها را ذخیره می‌کند)\n",
    "</font>\n",
    "</p>"
   ]
  },
  {
   "cell_type": "code",
   "execution_count": 15,
   "id": "959dc52a-f6a7-4352-89e9-b43f9145dde0",
   "metadata": {},
   "outputs": [
    {
     "data": {
      "text/plain": [
       "pandas.core.indexes.base.Index"
      ]
     },
     "execution_count": 15,
     "metadata": {},
     "output_type": "execute_result"
    }
   ],
   "source": [
    "type(df.columns)"
   ]
  },
  {
   "cell_type": "markdown",
   "id": "dbcfa85c-44df-4f79-8652-184408f6715e",
   "metadata": {
    "id": "ZRjNvNoBmES8"
   },
   "source": [
    "<p dir=rtl style=\"direction: rtl;text-align: right;line-height:200%;font-family:vazir;font-size:medium\">\n",
    "<font face=\"vazir\" size=4>\n",
    " برای دسترسی یا تغییر نمایه‌های جدول می‌توانیم از ویژگی index مانند آنچه در دیتاسری انجام می‌دادیم استفاده کنیم. لطفا دقت کنید که این نمایه‌ها همان اعداد نشان ‌داده شده در کنار هر سطر هستند و می‌توانند هرمقداری بگیرند.\n",
    "    </font>\n",
    "</p>"
   ]
  },
  {
   "cell_type": "code",
   "execution_count": 16,
   "id": "b8cd83e0-28f6-4df0-86a0-d6b3b1c925f9",
   "metadata": {},
   "outputs": [
    {
     "data": {
      "text/plain": [
       "RangeIndex(start=0, stop=7, step=1)"
      ]
     },
     "execution_count": 16,
     "metadata": {},
     "output_type": "execute_result"
    }
   ],
   "source": [
    "df.index"
   ]
  },
  {
   "cell_type": "markdown",
   "id": "a840c7e8-90f7-426d-83a8-baac79e8e913",
   "metadata": {
    "id": "ZRjNvNoBmES8"
   },
   "source": [
    "<p dir=rtl style=\"direction: rtl;text-align: right;line-height:200%;font-family:vazir;font-size:medium\">\n",
    "<font face=\"vazir\" size=3 color='midnightblue'>\n",
    "اگر بخواهیم اندیسهای دیتافریم از 1 شروع شوند، از دو دستور زیر میتوانیم استفاده کنیم:\n",
    "</font>\n",
    "</p>"
   ]
  },
  {
   "cell_type": "code",
   "execution_count": 17,
   "id": "73f0867d-2cdb-49ae-b236-0df639d0bc89",
   "metadata": {},
   "outputs": [
    {
     "data": {
      "text/html": [
       "<div>\n",
       "<style scoped>\n",
       "    .dataframe tbody tr th:only-of-type {\n",
       "        vertical-align: middle;\n",
       "    }\n",
       "\n",
       "    .dataframe tbody tr th {\n",
       "        vertical-align: top;\n",
       "    }\n",
       "\n",
       "    .dataframe thead th {\n",
       "        text-align: right;\n",
       "    }\n",
       "</style>\n",
       "<table border=\"1\" class=\"dataframe\">\n",
       "  <thead>\n",
       "    <tr style=\"text-align: right;\">\n",
       "      <th></th>\n",
       "      <th>model</th>\n",
       "      <th>Color</th>\n",
       "      <th>HP</th>\n",
       "      <th>Weight (KG)</th>\n",
       "      <th>price</th>\n",
       "    </tr>\n",
       "  </thead>\n",
       "  <tbody>\n",
       "    <tr>\n",
       "      <th>1</th>\n",
       "      <td>Peykan</td>\n",
       "      <td>Red</td>\n",
       "      <td>48</td>\n",
       "      <td>990</td>\n",
       "      <td>33</td>\n",
       "    </tr>\n",
       "    <tr>\n",
       "      <th>2</th>\n",
       "      <td>BMW X6</td>\n",
       "      <td>White</td>\n",
       "      <td>335</td>\n",
       "      <td>2320</td>\n",
       "      <td>2400</td>\n",
       "    </tr>\n",
       "    <tr>\n",
       "      <th>3</th>\n",
       "      <td>Peugeot 206</td>\n",
       "      <td>Black</td>\n",
       "      <td>105</td>\n",
       "      <td>1025</td>\n",
       "      <td>105</td>\n",
       "    </tr>\n",
       "    <tr>\n",
       "      <th>4</th>\n",
       "      <td>Tiba</td>\n",
       "      <td>White</td>\n",
       "      <td>87</td>\n",
       "      <td>1027</td>\n",
       "      <td>120</td>\n",
       "    </tr>\n",
       "    <tr>\n",
       "      <th>5</th>\n",
       "      <td>Nissan Junior</td>\n",
       "      <td>Blue</td>\n",
       "      <td>93</td>\n",
       "      <td>1540</td>\n",
       "      <td>230</td>\n",
       "    </tr>\n",
       "    <tr>\n",
       "      <th>6</th>\n",
       "      <td>Peykan Vanet</td>\n",
       "      <td>Red</td>\n",
       "      <td>80</td>\n",
       "      <td>960</td>\n",
       "      <td>68</td>\n",
       "    </tr>\n",
       "    <tr>\n",
       "      <th>7</th>\n",
       "      <td>renault 5</td>\n",
       "      <td>Silver</td>\n",
       "      <td>48</td>\n",
       "      <td>850</td>\n",
       "      <td>38</td>\n",
       "    </tr>\n",
       "  </tbody>\n",
       "</table>\n",
       "</div>"
      ],
      "text/plain": [
       "           model   Color   HP  Weight (KG)  price\n",
       "1         Peykan     Red   48          990     33\n",
       "2         BMW X6   White  335         2320   2400\n",
       "3    Peugeot 206   Black  105         1025    105\n",
       "4           Tiba   White   87         1027    120\n",
       "5  Nissan Junior    Blue   93         1540    230\n",
       "6   Peykan Vanet     Red   80          960     68\n",
       "7      renault 5  Silver   48          850     38"
      ]
     },
     "execution_count": 17,
     "metadata": {},
     "output_type": "execute_result"
    }
   ],
   "source": [
    "df.index +=1\n",
    "df"
   ]
  },
  {
   "cell_type": "code",
   "execution_count": 18,
   "id": "239b0ec1-06ea-44a2-8fd5-cffc47401f2f",
   "metadata": {},
   "outputs": [
    {
     "data": {
      "text/html": [
       "<div>\n",
       "<style scoped>\n",
       "    .dataframe tbody tr th:only-of-type {\n",
       "        vertical-align: middle;\n",
       "    }\n",
       "\n",
       "    .dataframe tbody tr th {\n",
       "        vertical-align: top;\n",
       "    }\n",
       "\n",
       "    .dataframe thead th {\n",
       "        text-align: right;\n",
       "    }\n",
       "</style>\n",
       "<table border=\"1\" class=\"dataframe\">\n",
       "  <thead>\n",
       "    <tr style=\"text-align: right;\">\n",
       "      <th></th>\n",
       "      <th>model</th>\n",
       "      <th>Color</th>\n",
       "      <th>HP</th>\n",
       "      <th>Weight (KG)</th>\n",
       "      <th>price</th>\n",
       "    </tr>\n",
       "  </thead>\n",
       "  <tbody>\n",
       "    <tr>\n",
       "      <th>1</th>\n",
       "      <td>Peykan</td>\n",
       "      <td>Red</td>\n",
       "      <td>48</td>\n",
       "      <td>990</td>\n",
       "      <td>33</td>\n",
       "    </tr>\n",
       "    <tr>\n",
       "      <th>2</th>\n",
       "      <td>BMW X6</td>\n",
       "      <td>White</td>\n",
       "      <td>335</td>\n",
       "      <td>2320</td>\n",
       "      <td>2400</td>\n",
       "    </tr>\n",
       "    <tr>\n",
       "      <th>3</th>\n",
       "      <td>Peugeot 206</td>\n",
       "      <td>Black</td>\n",
       "      <td>105</td>\n",
       "      <td>1025</td>\n",
       "      <td>105</td>\n",
       "    </tr>\n",
       "    <tr>\n",
       "      <th>4</th>\n",
       "      <td>Tiba</td>\n",
       "      <td>White</td>\n",
       "      <td>87</td>\n",
       "      <td>1027</td>\n",
       "      <td>120</td>\n",
       "    </tr>\n",
       "    <tr>\n",
       "      <th>5</th>\n",
       "      <td>Nissan Junior</td>\n",
       "      <td>Blue</td>\n",
       "      <td>93</td>\n",
       "      <td>1540</td>\n",
       "      <td>230</td>\n",
       "    </tr>\n",
       "    <tr>\n",
       "      <th>6</th>\n",
       "      <td>Peykan Vanet</td>\n",
       "      <td>Red</td>\n",
       "      <td>80</td>\n",
       "      <td>960</td>\n",
       "      <td>68</td>\n",
       "    </tr>\n",
       "    <tr>\n",
       "      <th>7</th>\n",
       "      <td>renault 5</td>\n",
       "      <td>Silver</td>\n",
       "      <td>48</td>\n",
       "      <td>850</td>\n",
       "      <td>38</td>\n",
       "    </tr>\n",
       "  </tbody>\n",
       "</table>\n",
       "</div>"
      ],
      "text/plain": [
       "           model   Color   HP  Weight (KG)  price\n",
       "1         Peykan     Red   48          990     33\n",
       "2         BMW X6   White  335         2320   2400\n",
       "3    Peugeot 206   Black  105         1025    105\n",
       "4           Tiba   White   87         1027    120\n",
       "5  Nissan Junior    Blue   93         1540    230\n",
       "6   Peykan Vanet     Red   80          960     68\n",
       "7      renault 5  Silver   48          850     38"
      ]
     },
     "execution_count": 18,
     "metadata": {},
     "output_type": "execute_result"
    }
   ],
   "source": [
    "df.index = np.arange(1,8)\n",
    "df"
   ]
  },
  {
   "cell_type": "markdown",
   "id": "7a4311f0-2c5b-42c9-a855-198582d12fb4",
   "metadata": {},
   "source": [
    "<br>\n",
    "<div dir=rtl id=\"start\" style=\"direction:rtl;line-height:200%;\">\n",
    "\t<font face=\"vazir\" size=6 color='Orange'>\n",
    "    دیتافریم، چند سری به هم چسبیده\n",
    "    </font>\n",
    "</div>"
   ]
  },
  {
   "cell_type": "markdown",
   "id": "9302877c-5570-42e3-a80f-0bc90ac5f94e",
   "metadata": {
    "id": "ZRjNvNoBmES8"
   },
   "source": [
    "<p dir=rtl style=\"direction: rtl;text-align: right;line-height:200%;font-family:vazir;font-size:medium\">\n",
    "<font face=\"vazir\" size=4>\n",
    " برای نمایش یک ستون از دیتافریم از دستور ['columns' name']df استفاده میکنیم.\n",
    "    </font>\n",
    "</p>"
   ]
  },
  {
   "cell_type": "code",
   "execution_count": 19,
   "id": "4af6294e-2380-40c9-84a5-ae35529b33b3",
   "metadata": {},
   "outputs": [
    {
     "data": {
      "text/plain": [
       "1       Red\n",
       "2     White\n",
       "3     Black\n",
       "4     White\n",
       "5      Blue\n",
       "6       Red\n",
       "7    Silver\n",
       "Name: Color, dtype: object"
      ]
     },
     "execution_count": 19,
     "metadata": {},
     "output_type": "execute_result"
    }
   ],
   "source": [
    "df['Color']"
   ]
  },
  {
   "cell_type": "markdown",
   "id": "c2cc4ae8-591b-4b48-89fa-e9fe504e8c44",
   "metadata": {
    "id": "ZRjNvNoBmES8"
   },
   "source": [
    "<p dir=rtl style=\"direction: rtl;text-align: right;line-height:200%;font-family:vazir;font-size:medium\">\n",
    "<font face=\"vazir\" size=4>\n",
    " اگر یک ردیف از دیتافریم را به صورت یک سری تصور کنیم، با دستورهای زیر میتوانیم یک ردیف را صدا بزنیم:\n",
    "    <br>\n",
    "    اگر شماره اندیس ردیف را داشته باشیم، از دستور df.iloc[index number] استفاده میکنیم.(در این حالت، نمایه ها نام ستونها هستند)\n",
    "    <br>\n",
    "    اگر بخواهیم یک ردیف خاص را با نام صدا کنیم از دستور df.loc['name'] استفاده میکنیم (باید حتما نامی را صدا بزنیم که در دیتافریم به صورت نمایه تعریف شده باشد).\n",
    "    </font>\n",
    "</p>"
   ]
  },
  {
   "cell_type": "code",
   "execution_count": 20,
   "id": "b1ccec87-7a92-4672-920e-eec71a59e54d",
   "metadata": {},
   "outputs": [
    {
     "data": {
      "text/plain": [
       "model          Peykan\n",
       "Color             Red\n",
       "HP                 48\n",
       "Weight (KG)       990\n",
       "price              33\n",
       "Name: 1, dtype: object"
      ]
     },
     "execution_count": 20,
     "metadata": {},
     "output_type": "execute_result"
    }
   ],
   "source": [
    "df.iloc[0] # it returns the row with index 0"
   ]
  },
  {
   "cell_type": "code",
   "execution_count": 21,
   "id": "8cd88e84-893f-4f3f-a75d-043dd03d2a74",
   "metadata": {},
   "outputs": [],
   "source": [
    "#df.loc['Peykan'] #if we put peykan as index this would be right"
   ]
  },
  {
   "cell_type": "markdown",
   "id": "06910221-e8e6-43c8-bc07-e32960e1356a",
   "metadata": {},
   "source": [
    "<img src='./2.pandas_file/01.jpg'/>"
   ]
  },
  {
   "cell_type": "markdown",
   "id": "96fd91a3-a654-4806-b779-431f2c6978d4",
   "metadata": {
    "id": "ZRjNvNoBmES8"
   },
   "source": [
    "<p dir=rtl style=\"direction: rtl;text-align: right;line-height:200%;font-family:vazir;font-size:medium\">\n",
    "<font face=\"vazir\" size=4>\n",
    " برای دسترسی به تمامی مقادیر یک دیتافریم به صورت یک آرایه نامپای میتوانیم از value استفاده کنیم.\n",
    "    </font>\n",
    "</p>"
   ]
  },
  {
   "cell_type": "code",
   "execution_count": 22,
   "id": "263c9755-6d14-467f-a028-9de85cd43509",
   "metadata": {},
   "outputs": [
    {
     "data": {
      "text/plain": [
       "array([['Peykan', 'Red', 48, 990, 33],\n",
       "       ['BMW X6', 'White', 335, 2320, 2400],\n",
       "       ['Peugeot 206', 'Black', 105, 1025, 105],\n",
       "       ['Tiba', 'White', 87, 1027, 120],\n",
       "       ['Nissan Junior', 'Blue', 93, 1540, 230],\n",
       "       ['Peykan Vanet', 'Red', 80, 960, 68],\n",
       "       ['renault 5', 'Silver', 48, 850, 38]], dtype=object)"
      ]
     },
     "execution_count": 22,
     "metadata": {},
     "output_type": "execute_result"
    }
   ],
   "source": [
    "df.values"
   ]
  },
  {
   "cell_type": "markdown",
   "id": "771caad7-8d6f-4f37-86c9-87dc42aa87ba",
   "metadata": {
    "id": "ZRjNvNoBmES8"
   },
   "source": [
    "<p dir=rtl style=\"direction: rtl;text-align: right;line-height:200%;font-family:vazir;font-size:medium\">\n",
    "<font face=\"vazir\" size=4>\n",
    "برای تبدیل دیتافریم به سری از دستور pd.Series استفاده میکنیم.\n",
    "    <br>\n",
    "    ستونی که قرار است به عنوان value باشد را به صورت df['col2'].values و ستونی که قرا است به عنوان اندیس باشد را با دستور index=df['col1'] مشخص میکنیم"
   ]
  },
  {
   "cell_type": "code",
   "execution_count": 23,
   "id": "91cb03e2-3902-42e6-8958-510a8170dbe2",
   "metadata": {},
   "outputs": [
    {
     "data": {
      "text/plain": [
       "model\n",
       "Peykan             33\n",
       "BMW X6           2400\n",
       "Peugeot 206       105\n",
       "Tiba              120\n",
       "Nissan Junior     230\n",
       "Peykan Vanet       68\n",
       "renault 5          38\n",
       "dtype: int64"
      ]
     },
     "execution_count": 23,
     "metadata": {},
     "output_type": "execute_result"
    }
   ],
   "source": [
    "new_series = pd.Series(df['price'].values, index=df['model'])\n",
    "new_series"
   ]
  },
  {
   "cell_type": "markdown",
   "id": "667ebbaf-9fa4-44cc-adbc-5a47834e2e0f",
   "metadata": {
    "id": "ZRjNvNoBmES8"
   },
   "source": [
    "<p dir=rtl style=\"direction: rtl;text-align: right;line-height:200%;font-family:vazir;font-size:medium\">\n",
    "<font face=\"vazir\" size=4>\n",
    "برای از بین بردن اسامی در سری از دو دستور زیر استفاده میکنیم:"
   ]
  },
  {
   "cell_type": "code",
   "execution_count": 24,
   "id": "00e7cf35-47cf-482f-a0d5-d6ac7cffcfb8",
   "metadata": {},
   "outputs": [
    {
     "data": {
      "text/plain": [
       "Peykan             33\n",
       "BMW X6           2400\n",
       "Peugeot 206       105\n",
       "Tiba              120\n",
       "Nissan Junior     230\n",
       "Peykan Vanet       68\n",
       "renault 5          38\n",
       "dtype: int64"
      ]
     },
     "execution_count": 24,
     "metadata": {},
     "output_type": "execute_result"
    }
   ],
   "source": [
    "new_series.name=None\n",
    "new_series.index.name=None\n",
    "new_series"
   ]
  },
  {
   "cell_type": "markdown",
   "id": "c75722c9-e6fc-4b55-aed1-f8da0b71f73d",
   "metadata": {},
   "source": [
    "<br>\n",
    "<div dir=rtl id=\"start\" style=\"direction:rtl;line-height:200%;\">\n",
    "\t<font face=\"vazir\" size=6 color='Orange'>\n",
    "    ساخت دیتافریم با لیست\n",
    "    </font>\n",
    "</div>"
   ]
  },
  {
   "cell_type": "markdown",
   "id": "b98d05af-621d-48e7-996e-00bbb81e5efa",
   "metadata": {
    "id": "ZRjNvNoBmES8"
   },
   "source": [
    "<p dir=rtl style=\"direction: rtl;text-align: right;line-height:200%;font-family:vazir;font-size:medium\">\n",
    "<font face=\"vazir\" size=4>\n",
    " ساخت دیتافریم با استفاده از لیست بسیار شبیه ساخت آن با دیکشنری است. به طوری که هر ردیف دیتافریم در یک لیست قرار میگیرد و تمام لیستهای ردیف باز به صورت لیست آورده میشوند.\n",
    "    </font>\n",
    "</p>"
   ]
  },
  {
   "cell_type": "code",
   "execution_count": 25,
   "id": "7b965e6d-b635-426f-9543-8ada48fd4455",
   "metadata": {},
   "outputs": [
    {
     "data": {
      "text/html": [
       "<div>\n",
       "<style scoped>\n",
       "    .dataframe tbody tr th:only-of-type {\n",
       "        vertical-align: middle;\n",
       "    }\n",
       "\n",
       "    .dataframe tbody tr th {\n",
       "        vertical-align: top;\n",
       "    }\n",
       "\n",
       "    .dataframe thead th {\n",
       "        text-align: right;\n",
       "    }\n",
       "</style>\n",
       "<table border=\"1\" class=\"dataframe\">\n",
       "  <thead>\n",
       "    <tr style=\"text-align: right;\">\n",
       "      <th></th>\n",
       "      <th>0</th>\n",
       "      <th>1</th>\n",
       "      <th>2</th>\n",
       "      <th>3</th>\n",
       "      <th>4</th>\n",
       "    </tr>\n",
       "  </thead>\n",
       "  <tbody>\n",
       "    <tr>\n",
       "      <th>0</th>\n",
       "      <td>Peykan</td>\n",
       "      <td>Red</td>\n",
       "      <td>48</td>\n",
       "      <td>990</td>\n",
       "      <td>33</td>\n",
       "    </tr>\n",
       "    <tr>\n",
       "      <th>1</th>\n",
       "      <td>BMW X6</td>\n",
       "      <td>White</td>\n",
       "      <td>335</td>\n",
       "      <td>2320</td>\n",
       "      <td>2400</td>\n",
       "    </tr>\n",
       "    <tr>\n",
       "      <th>2</th>\n",
       "      <td>Peugeot 206</td>\n",
       "      <td>Black</td>\n",
       "      <td>105</td>\n",
       "      <td>1025</td>\n",
       "      <td>105</td>\n",
       "    </tr>\n",
       "    <tr>\n",
       "      <th>3</th>\n",
       "      <td>Tiba</td>\n",
       "      <td>White</td>\n",
       "      <td>87</td>\n",
       "      <td>1027</td>\n",
       "      <td>120</td>\n",
       "    </tr>\n",
       "    <tr>\n",
       "      <th>4</th>\n",
       "      <td>Nissan Junior</td>\n",
       "      <td>Blue</td>\n",
       "      <td>93</td>\n",
       "      <td>1540</td>\n",
       "      <td>230</td>\n",
       "    </tr>\n",
       "    <tr>\n",
       "      <th>5</th>\n",
       "      <td>Nissan Junior</td>\n",
       "      <td>Red</td>\n",
       "      <td>93</td>\n",
       "      <td>1540</td>\n",
       "      <td>186</td>\n",
       "    </tr>\n",
       "    <tr>\n",
       "      <th>6</th>\n",
       "      <td>renault 5</td>\n",
       "      <td>Silver</td>\n",
       "      <td>48</td>\n",
       "      <td>850</td>\n",
       "      <td>38</td>\n",
       "    </tr>\n",
       "  </tbody>\n",
       "</table>\n",
       "</div>"
      ],
      "text/plain": [
       "               0       1    2     3     4\n",
       "0         Peykan     Red   48   990    33\n",
       "1         BMW X6   White  335  2320  2400\n",
       "2    Peugeot 206   Black  105  1025   105\n",
       "3           Tiba   White   87  1027   120\n",
       "4  Nissan Junior    Blue   93  1540   230\n",
       "5  Nissan Junior     Red   93  1540   186\n",
       "6      renault 5  Silver   48   850    38"
      ]
     },
     "execution_count": 25,
     "metadata": {},
     "output_type": "execute_result"
    }
   ],
   "source": [
    "car_list = [['Peykan', 'Red', 48, 990, 33],\n",
    "       ['BMW X6', 'White', 335, 2320, 2400],\n",
    "       ['Peugeot 206', 'Black', 105, 1025, 105],\n",
    "       ['Tiba', 'White', 87, 1027, 120],\n",
    "       ['Nissan Junior', 'Blue', 93, 1540, 230],\n",
    "       ['Nissan Junior', 'Red', 93, 1540, 186],\n",
    "       ['renault 5', 'Silver', 48, 850, 38]]\n",
    "df2 = pd.DataFrame(car_list)\n",
    "df2"
   ]
  },
  {
   "cell_type": "markdown",
   "id": "7825df40-6a65-48ba-84c9-0628b48914be",
   "metadata": {
    "id": "ZRjNvNoBmES8"
   },
   "source": [
    "<p dir=rtl style=\"direction: rtl;text-align: right;line-height:200%;font-family:vazir;font-size:medium\">\n",
    "<font face=\"vazir\" size=4>\n",
    " با این دستور سرستونها و نمایه ها از 0 تا (L-1) مقداردهی میشوند.\n",
    "    <br>\n",
    "    با استفاده از دستورهای index , columns میتوانیم مقادیر نمایه و ستونها را چه در هنگام تعریف دیتافریم چه بعد از آن، تغییر دهیم.\n",
    "    </font>\n",
    "</p>"
   ]
  },
  {
   "cell_type": "code",
   "execution_count": 26,
   "id": "cb43e84f-7e19-493c-81b9-7c98276d89ec",
   "metadata": {},
   "outputs": [
    {
     "data": {
      "text/html": [
       "<div>\n",
       "<style scoped>\n",
       "    .dataframe tbody tr th:only-of-type {\n",
       "        vertical-align: middle;\n",
       "    }\n",
       "\n",
       "    .dataframe tbody tr th {\n",
       "        vertical-align: top;\n",
       "    }\n",
       "\n",
       "    .dataframe thead th {\n",
       "        text-align: right;\n",
       "    }\n",
       "</style>\n",
       "<table border=\"1\" class=\"dataframe\">\n",
       "  <thead>\n",
       "    <tr style=\"text-align: right;\">\n",
       "      <th></th>\n",
       "      <th>model</th>\n",
       "      <th>Color</th>\n",
       "      <th>HP</th>\n",
       "      <th>Weight (KG)</th>\n",
       "      <th>price</th>\n",
       "    </tr>\n",
       "  </thead>\n",
       "  <tbody>\n",
       "    <tr>\n",
       "      <th>a</th>\n",
       "      <td>Peykan</td>\n",
       "      <td>Red</td>\n",
       "      <td>48</td>\n",
       "      <td>990</td>\n",
       "      <td>33</td>\n",
       "    </tr>\n",
       "    <tr>\n",
       "      <th>b</th>\n",
       "      <td>BMW X6</td>\n",
       "      <td>White</td>\n",
       "      <td>335</td>\n",
       "      <td>2320</td>\n",
       "      <td>2400</td>\n",
       "    </tr>\n",
       "    <tr>\n",
       "      <th>c</th>\n",
       "      <td>Peugeot 206</td>\n",
       "      <td>Black</td>\n",
       "      <td>105</td>\n",
       "      <td>1025</td>\n",
       "      <td>105</td>\n",
       "    </tr>\n",
       "    <tr>\n",
       "      <th>d</th>\n",
       "      <td>Tiba</td>\n",
       "      <td>White</td>\n",
       "      <td>87</td>\n",
       "      <td>1027</td>\n",
       "      <td>120</td>\n",
       "    </tr>\n",
       "    <tr>\n",
       "      <th>e</th>\n",
       "      <td>Nissan Junior</td>\n",
       "      <td>Blue</td>\n",
       "      <td>93</td>\n",
       "      <td>1540</td>\n",
       "      <td>230</td>\n",
       "    </tr>\n",
       "    <tr>\n",
       "      <th>f</th>\n",
       "      <td>Nissan Junior</td>\n",
       "      <td>Red</td>\n",
       "      <td>93</td>\n",
       "      <td>1540</td>\n",
       "      <td>186</td>\n",
       "    </tr>\n",
       "    <tr>\n",
       "      <th>g</th>\n",
       "      <td>renault 5</td>\n",
       "      <td>Silver</td>\n",
       "      <td>48</td>\n",
       "      <td>850</td>\n",
       "      <td>38</td>\n",
       "    </tr>\n",
       "  </tbody>\n",
       "</table>\n",
       "</div>"
      ],
      "text/plain": [
       "           model   Color   HP  Weight (KG)  price\n",
       "a         Peykan     Red   48          990     33\n",
       "b         BMW X6   White  335         2320   2400\n",
       "c    Peugeot 206   Black  105         1025    105\n",
       "d           Tiba   White   87         1027    120\n",
       "e  Nissan Junior    Blue   93         1540    230\n",
       "f  Nissan Junior     Red   93         1540    186\n",
       "g      renault 5  Silver   48          850     38"
      ]
     },
     "execution_count": 26,
     "metadata": {},
     "output_type": "execute_result"
    }
   ],
   "source": [
    "df2 = pd.DataFrame(car_list, \n",
    "                  index = ['a','b','c','d','e','f','g'],\n",
    "                  columns= ['model' , 'Color' , 'HP', 'Weight (KG)', 'price'])\n",
    "df2"
   ]
  },
  {
   "cell_type": "markdown",
   "id": "6042ed65-c4cf-4296-9e32-79a6a85cb973",
   "metadata": {
    "id": "ZRjNvNoBmES8"
   },
   "source": [
    "<p dir=rtl style=\"direction: rtl;text-align: right;line-height:200%;font-family:vazir;font-size:medium\">\n",
    "<font face=\"vazir\" size=4>\n",
    " ساخت دیتافریم با استفاده از 2 لیست که یکی به عنوان اندیس باشد:\n",
    "    </font>\n",
    "</p>"
   ]
  },
  {
   "cell_type": "code",
   "execution_count": 27,
   "id": "ef3b8147-fb95-41fa-a15f-22a5e3120dfa",
   "metadata": {},
   "outputs": [
    {
     "data": {
      "text/html": [
       "<div>\n",
       "<style scoped>\n",
       "    .dataframe tbody tr th:only-of-type {\n",
       "        vertical-align: middle;\n",
       "    }\n",
       "\n",
       "    .dataframe tbody tr th {\n",
       "        vertical-align: top;\n",
       "    }\n",
       "\n",
       "    .dataframe thead th {\n",
       "        text-align: right;\n",
       "    }\n",
       "</style>\n",
       "<table border=\"1\" class=\"dataframe\">\n",
       "  <thead>\n",
       "    <tr style=\"text-align: right;\">\n",
       "      <th></th>\n",
       "      <th>age</th>\n",
       "    </tr>\n",
       "  </thead>\n",
       "  <tbody>\n",
       "    <tr>\n",
       "      <th>Ali</th>\n",
       "      <td>32</td>\n",
       "    </tr>\n",
       "    <tr>\n",
       "      <th>Sara</th>\n",
       "      <td>45</td>\n",
       "    </tr>\n",
       "    <tr>\n",
       "      <th>Ahmad</th>\n",
       "      <td>50</td>\n",
       "    </tr>\n",
       "  </tbody>\n",
       "</table>\n",
       "</div>"
      ],
      "text/plain": [
       "       age\n",
       "Ali     32\n",
       "Sara    45\n",
       "Ahmad   50"
      ]
     },
     "execution_count": 27,
     "metadata": {},
     "output_type": "execute_result"
    }
   ],
   "source": [
    "name = ['Ali', 'Sara', 'Ahmad']\n",
    "age = [32, 45, 50]\n",
    "df3 = pd.DataFrame(age, index = name, columns = ['age'])\n",
    "df3"
   ]
  },
  {
   "cell_type": "markdown",
   "id": "3851a161-ae70-4edd-9d21-85c0295d2d3d",
   "metadata": {
    "id": "ZRjNvNoBmES8"
   },
   "source": [
    "<p dir=rtl style=\"direction: rtl;text-align: right;line-height:200%;font-family:vazir;font-size:medium\">\n",
    "<font face=\"vazir\" size=3 color='midnightblue'>\n",
    "    میتوانیم اسم ستون را متفاوت با اسم لیست داده شده انتخاب کنیم.\n",
    "</font>\n",
    "</p>"
   ]
  },
  {
   "cell_type": "code",
   "execution_count": 28,
   "id": "86ac46d6-192e-4f84-a7d6-c74bc3776839",
   "metadata": {},
   "outputs": [
    {
     "data": {
      "text/html": [
       "<div>\n",
       "<style scoped>\n",
       "    .dataframe tbody tr th:only-of-type {\n",
       "        vertical-align: middle;\n",
       "    }\n",
       "\n",
       "    .dataframe tbody tr th {\n",
       "        vertical-align: top;\n",
       "    }\n",
       "\n",
       "    .dataframe thead th {\n",
       "        text-align: right;\n",
       "    }\n",
       "</style>\n",
       "<table border=\"1\" class=\"dataframe\">\n",
       "  <thead>\n",
       "    <tr style=\"text-align: right;\">\n",
       "      <th></th>\n",
       "      <th>Age</th>\n",
       "    </tr>\n",
       "  </thead>\n",
       "  <tbody>\n",
       "    <tr>\n",
       "      <th>Ali</th>\n",
       "      <td>32</td>\n",
       "    </tr>\n",
       "    <tr>\n",
       "      <th>Sara</th>\n",
       "      <td>45</td>\n",
       "    </tr>\n",
       "    <tr>\n",
       "      <th>Ahmad</th>\n",
       "      <td>50</td>\n",
       "    </tr>\n",
       "  </tbody>\n",
       "</table>\n",
       "</div>"
      ],
      "text/plain": [
       "       Age\n",
       "Ali     32\n",
       "Sara    45\n",
       "Ahmad   50"
      ]
     },
     "execution_count": 28,
     "metadata": {},
     "output_type": "execute_result"
    }
   ],
   "source": [
    "df3 = pd.DataFrame(age, index = name, columns = ['Age'])\n",
    "df3"
   ]
  },
  {
   "cell_type": "markdown",
   "id": "1ae69d46-c6c2-45bc-8231-831a78fb2413",
   "metadata": {
    "id": "ZRjNvNoBmES8"
   },
   "source": [
    "<p dir=rtl style=\"direction: rtl;text-align: right;line-height:200%;font-family:vazir;font-size:medium\">\n",
    "<font face=\"vazir\" size=4>\n",
    " با دستور replace میتوانیم مقدار ستونها را تغییر دهیم.\n",
    "    <br>\n",
    "    پارامتر inplace اگر True باشد،  تغییرات را در دیتافریم اولیه اعمال میکند.\n",
    "    </font>\n",
    "</p>"
   ]
  },
  {
   "cell_type": "code",
   "execution_count": 29,
   "id": "a7d9470d-a2f8-4b64-8320-a8a4e76ee492",
   "metadata": {},
   "outputs": [
    {
     "data": {
      "text/plain": [
       "Ali      40\n",
       "Sara     45\n",
       "Ahmad    50\n",
       "Name: Age, dtype: int64"
      ]
     },
     "execution_count": 29,
     "metadata": {},
     "output_type": "execute_result"
    }
   ],
   "source": [
    "df3['Age'].replace({32:40})"
   ]
  },
  {
   "cell_type": "code",
   "execution_count": 30,
   "id": "e1549857-01b5-430f-b853-a181f75a01a1",
   "metadata": {},
   "outputs": [
    {
     "data": {
      "text/html": [
       "<div>\n",
       "<style scoped>\n",
       "    .dataframe tbody tr th:only-of-type {\n",
       "        vertical-align: middle;\n",
       "    }\n",
       "\n",
       "    .dataframe tbody tr th {\n",
       "        vertical-align: top;\n",
       "    }\n",
       "\n",
       "    .dataframe thead th {\n",
       "        text-align: right;\n",
       "    }\n",
       "</style>\n",
       "<table border=\"1\" class=\"dataframe\">\n",
       "  <thead>\n",
       "    <tr style=\"text-align: right;\">\n",
       "      <th></th>\n",
       "      <th>Age</th>\n",
       "    </tr>\n",
       "  </thead>\n",
       "  <tbody>\n",
       "    <tr>\n",
       "      <th>Ali</th>\n",
       "      <td>32</td>\n",
       "    </tr>\n",
       "    <tr>\n",
       "      <th>Sara</th>\n",
       "      <td>45</td>\n",
       "    </tr>\n",
       "    <tr>\n",
       "      <th>Ahmad</th>\n",
       "      <td>50</td>\n",
       "    </tr>\n",
       "  </tbody>\n",
       "</table>\n",
       "</div>"
      ],
      "text/plain": [
       "       Age\n",
       "Ali     32\n",
       "Sara    45\n",
       "Ahmad   50"
      ]
     },
     "execution_count": 30,
     "metadata": {},
     "output_type": "execute_result"
    }
   ],
   "source": [
    "df3"
   ]
  },
  {
   "cell_type": "code",
   "execution_count": 31,
   "id": "37f05ab0-eaab-47a0-a6a6-8f6bb981b854",
   "metadata": {},
   "outputs": [
    {
     "data": {
      "text/html": [
       "<div>\n",
       "<style scoped>\n",
       "    .dataframe tbody tr th:only-of-type {\n",
       "        vertical-align: middle;\n",
       "    }\n",
       "\n",
       "    .dataframe tbody tr th {\n",
       "        vertical-align: top;\n",
       "    }\n",
       "\n",
       "    .dataframe thead th {\n",
       "        text-align: right;\n",
       "    }\n",
       "</style>\n",
       "<table border=\"1\" class=\"dataframe\">\n",
       "  <thead>\n",
       "    <tr style=\"text-align: right;\">\n",
       "      <th></th>\n",
       "      <th>Age</th>\n",
       "    </tr>\n",
       "  </thead>\n",
       "  <tbody>\n",
       "    <tr>\n",
       "      <th>Ali</th>\n",
       "      <td>40</td>\n",
       "    </tr>\n",
       "    <tr>\n",
       "      <th>Sara</th>\n",
       "      <td>45</td>\n",
       "    </tr>\n",
       "    <tr>\n",
       "      <th>Ahmad</th>\n",
       "      <td>50</td>\n",
       "    </tr>\n",
       "  </tbody>\n",
       "</table>\n",
       "</div>"
      ],
      "text/plain": [
       "       Age\n",
       "Ali     40\n",
       "Sara    45\n",
       "Ahmad   50"
      ]
     },
     "execution_count": 31,
     "metadata": {},
     "output_type": "execute_result"
    }
   ],
   "source": [
    "df3['Age'].replace({32:40},inplace=True)\n",
    "df3"
   ]
  },
  {
   "cell_type": "markdown",
   "id": "c7dd2bd5-a533-4b63-b49c-52299542ffa9",
   "metadata": {},
   "source": [
    "<br>\n",
    "<div dir=rtl id=\"start\" style=\"direction:rtl;line-height:200%;\">\n",
    "\t<font face=\"vazir\" size=7 color='Red'>\n",
    "    بررسی دیتافریم\n",
    "    </font>\n",
    "</div>"
   ]
  },
  {
   "cell_type": "markdown",
   "id": "7df42d42-98e7-4201-a49c-6f349e0b7805",
   "metadata": {
    "id": "ZRjNvNoBmES8"
   },
   "source": [
    "<p dir=rtl style=\"direction: rtl;text-align: right;line-height:200%;font-family:vazir;font-size:medium\">\n",
    "<font face=\"vazir\" size=4>\n",
    " دیتافریم ماشینها را در نظر بگیرید؛ با استفاده از تابع head چند سطر اول (پیشفرض 5 تا) و با استفاده از تابع tail چند سطر آخر را میتوانیم ببینیم.\n",
    "    </font>\n",
    "</p>"
   ]
  },
  {
   "cell_type": "code",
   "execution_count": 32,
   "id": "f6fa7d60-c69c-49fb-ad16-62237db4db76",
   "metadata": {},
   "outputs": [
    {
     "data": {
      "text/html": [
       "<div>\n",
       "<style scoped>\n",
       "    .dataframe tbody tr th:only-of-type {\n",
       "        vertical-align: middle;\n",
       "    }\n",
       "\n",
       "    .dataframe tbody tr th {\n",
       "        vertical-align: top;\n",
       "    }\n",
       "\n",
       "    .dataframe thead th {\n",
       "        text-align: right;\n",
       "    }\n",
       "</style>\n",
       "<table border=\"1\" class=\"dataframe\">\n",
       "  <thead>\n",
       "    <tr style=\"text-align: right;\">\n",
       "      <th></th>\n",
       "      <th>model</th>\n",
       "      <th>Color</th>\n",
       "      <th>HP</th>\n",
       "      <th>Weight (KG)</th>\n",
       "      <th>price</th>\n",
       "    </tr>\n",
       "  </thead>\n",
       "  <tbody>\n",
       "    <tr>\n",
       "      <th>a</th>\n",
       "      <td>Peykan</td>\n",
       "      <td>Red</td>\n",
       "      <td>48</td>\n",
       "      <td>990</td>\n",
       "      <td>33</td>\n",
       "    </tr>\n",
       "    <tr>\n",
       "      <th>b</th>\n",
       "      <td>BMW X6</td>\n",
       "      <td>White</td>\n",
       "      <td>335</td>\n",
       "      <td>2320</td>\n",
       "      <td>2400</td>\n",
       "    </tr>\n",
       "    <tr>\n",
       "      <th>c</th>\n",
       "      <td>Peugeot 206</td>\n",
       "      <td>Black</td>\n",
       "      <td>105</td>\n",
       "      <td>1025</td>\n",
       "      <td>105</td>\n",
       "    </tr>\n",
       "  </tbody>\n",
       "</table>\n",
       "</div>"
      ],
      "text/plain": [
       "         model  Color   HP  Weight (KG)  price\n",
       "a       Peykan    Red   48          990     33\n",
       "b       BMW X6  White  335         2320   2400\n",
       "c  Peugeot 206  Black  105         1025    105"
      ]
     },
     "execution_count": 32,
     "metadata": {},
     "output_type": "execute_result"
    }
   ],
   "source": [
    "df2.head(3)"
   ]
  },
  {
   "cell_type": "code",
   "execution_count": 33,
   "id": "c6743805-110c-4560-88cf-3e3c42d52684",
   "metadata": {},
   "outputs": [
    {
     "data": {
      "text/html": [
       "<div>\n",
       "<style scoped>\n",
       "    .dataframe tbody tr th:only-of-type {\n",
       "        vertical-align: middle;\n",
       "    }\n",
       "\n",
       "    .dataframe tbody tr th {\n",
       "        vertical-align: top;\n",
       "    }\n",
       "\n",
       "    .dataframe thead th {\n",
       "        text-align: right;\n",
       "    }\n",
       "</style>\n",
       "<table border=\"1\" class=\"dataframe\">\n",
       "  <thead>\n",
       "    <tr style=\"text-align: right;\">\n",
       "      <th></th>\n",
       "      <th>model</th>\n",
       "      <th>Color</th>\n",
       "      <th>HP</th>\n",
       "      <th>Weight (KG)</th>\n",
       "      <th>price</th>\n",
       "    </tr>\n",
       "  </thead>\n",
       "  <tbody>\n",
       "    <tr>\n",
       "      <th>c</th>\n",
       "      <td>Peugeot 206</td>\n",
       "      <td>Black</td>\n",
       "      <td>105</td>\n",
       "      <td>1025</td>\n",
       "      <td>105</td>\n",
       "    </tr>\n",
       "    <tr>\n",
       "      <th>d</th>\n",
       "      <td>Tiba</td>\n",
       "      <td>White</td>\n",
       "      <td>87</td>\n",
       "      <td>1027</td>\n",
       "      <td>120</td>\n",
       "    </tr>\n",
       "    <tr>\n",
       "      <th>e</th>\n",
       "      <td>Nissan Junior</td>\n",
       "      <td>Blue</td>\n",
       "      <td>93</td>\n",
       "      <td>1540</td>\n",
       "      <td>230</td>\n",
       "    </tr>\n",
       "    <tr>\n",
       "      <th>f</th>\n",
       "      <td>Nissan Junior</td>\n",
       "      <td>Red</td>\n",
       "      <td>93</td>\n",
       "      <td>1540</td>\n",
       "      <td>186</td>\n",
       "    </tr>\n",
       "    <tr>\n",
       "      <th>g</th>\n",
       "      <td>renault 5</td>\n",
       "      <td>Silver</td>\n",
       "      <td>48</td>\n",
       "      <td>850</td>\n",
       "      <td>38</td>\n",
       "    </tr>\n",
       "  </tbody>\n",
       "</table>\n",
       "</div>"
      ],
      "text/plain": [
       "           model   Color   HP  Weight (KG)  price\n",
       "c    Peugeot 206   Black  105         1025    105\n",
       "d           Tiba   White   87         1027    120\n",
       "e  Nissan Junior    Blue   93         1540    230\n",
       "f  Nissan Junior     Red   93         1540    186\n",
       "g      renault 5  Silver   48          850     38"
      ]
     },
     "execution_count": 33,
     "metadata": {},
     "output_type": "execute_result"
    }
   ],
   "source": [
    "df2.tail()"
   ]
  },
  {
   "cell_type": "markdown",
   "id": "3c96484e-c8e7-4669-bcfb-86a047218cee",
   "metadata": {
    "id": "ZRjNvNoBmES8"
   },
   "source": [
    "<p dir=rtl style=\"direction: rtl;text-align: right;line-height:200%;font-family:vazir;font-size:medium\">\n",
    "<font face=\"vazir\" size=4>\n",
    "اگر چند تا از سطرهای وسط را بخواهیم از [] استفاده میکنیم.\n",
    "    <br>\n",
    "    از سطر x تا یکی قبل از y:"
   ]
  },
  {
   "cell_type": "code",
   "execution_count": 34,
   "id": "78f231ed-4891-4806-9253-3dc17978a15e",
   "metadata": {},
   "outputs": [
    {
     "data": {
      "text/html": [
       "<div>\n",
       "<style scoped>\n",
       "    .dataframe tbody tr th:only-of-type {\n",
       "        vertical-align: middle;\n",
       "    }\n",
       "\n",
       "    .dataframe tbody tr th {\n",
       "        vertical-align: top;\n",
       "    }\n",
       "\n",
       "    .dataframe thead th {\n",
       "        text-align: right;\n",
       "    }\n",
       "</style>\n",
       "<table border=\"1\" class=\"dataframe\">\n",
       "  <thead>\n",
       "    <tr style=\"text-align: right;\">\n",
       "      <th></th>\n",
       "      <th>model</th>\n",
       "      <th>Color</th>\n",
       "      <th>HP</th>\n",
       "      <th>Weight (KG)</th>\n",
       "      <th>price</th>\n",
       "    </tr>\n",
       "  </thead>\n",
       "  <tbody>\n",
       "    <tr>\n",
       "      <th>b</th>\n",
       "      <td>BMW X6</td>\n",
       "      <td>White</td>\n",
       "      <td>335</td>\n",
       "      <td>2320</td>\n",
       "      <td>2400</td>\n",
       "    </tr>\n",
       "    <tr>\n",
       "      <th>c</th>\n",
       "      <td>Peugeot 206</td>\n",
       "      <td>Black</td>\n",
       "      <td>105</td>\n",
       "      <td>1025</td>\n",
       "      <td>105</td>\n",
       "    </tr>\n",
       "    <tr>\n",
       "      <th>d</th>\n",
       "      <td>Tiba</td>\n",
       "      <td>White</td>\n",
       "      <td>87</td>\n",
       "      <td>1027</td>\n",
       "      <td>120</td>\n",
       "    </tr>\n",
       "  </tbody>\n",
       "</table>\n",
       "</div>"
      ],
      "text/plain": [
       "         model  Color   HP  Weight (KG)  price\n",
       "b       BMW X6  White  335         2320   2400\n",
       "c  Peugeot 206  Black  105         1025    105\n",
       "d         Tiba  White   87         1027    120"
      ]
     },
     "execution_count": 34,
     "metadata": {},
     "output_type": "execute_result"
    }
   ],
   "source": [
    "# df2[x:y]\n",
    "df2[1:4]"
   ]
  },
  {
   "cell_type": "markdown",
   "id": "5b7e84eb-7e5b-4387-97ef-b953a22433a4",
   "metadata": {
    "id": "ZRjNvNoBmES8"
   },
   "source": [
    "<p dir=rtl style=\"direction: rtl;text-align: right;line-height:200%;font-family:vazir;font-size:medium\">\n",
    "<font face=\"vazir\" size=4>\n",
    " برای انتخاب چند سطر تصادفی از تابع sample استفاده میکنیم.\n",
    "    </font>\n",
    "</p>"
   ]
  },
  {
   "cell_type": "code",
   "execution_count": 35,
   "id": "876b9c2d-e431-4cfb-b0a6-3b008d430e2e",
   "metadata": {},
   "outputs": [
    {
     "data": {
      "text/html": [
       "<div>\n",
       "<style scoped>\n",
       "    .dataframe tbody tr th:only-of-type {\n",
       "        vertical-align: middle;\n",
       "    }\n",
       "\n",
       "    .dataframe tbody tr th {\n",
       "        vertical-align: top;\n",
       "    }\n",
       "\n",
       "    .dataframe thead th {\n",
       "        text-align: right;\n",
       "    }\n",
       "</style>\n",
       "<table border=\"1\" class=\"dataframe\">\n",
       "  <thead>\n",
       "    <tr style=\"text-align: right;\">\n",
       "      <th></th>\n",
       "      <th>model</th>\n",
       "      <th>Color</th>\n",
       "      <th>HP</th>\n",
       "      <th>Weight (KG)</th>\n",
       "      <th>price</th>\n",
       "    </tr>\n",
       "  </thead>\n",
       "  <tbody>\n",
       "    <tr>\n",
       "      <th>a</th>\n",
       "      <td>Peykan</td>\n",
       "      <td>Red</td>\n",
       "      <td>48</td>\n",
       "      <td>990</td>\n",
       "      <td>33</td>\n",
       "    </tr>\n",
       "    <tr>\n",
       "      <th>b</th>\n",
       "      <td>BMW X6</td>\n",
       "      <td>White</td>\n",
       "      <td>335</td>\n",
       "      <td>2320</td>\n",
       "      <td>2400</td>\n",
       "    </tr>\n",
       "    <tr>\n",
       "      <th>f</th>\n",
       "      <td>Nissan Junior</td>\n",
       "      <td>Red</td>\n",
       "      <td>93</td>\n",
       "      <td>1540</td>\n",
       "      <td>186</td>\n",
       "    </tr>\n",
       "    <tr>\n",
       "      <th>c</th>\n",
       "      <td>Peugeot 206</td>\n",
       "      <td>Black</td>\n",
       "      <td>105</td>\n",
       "      <td>1025</td>\n",
       "      <td>105</td>\n",
       "    </tr>\n",
       "  </tbody>\n",
       "</table>\n",
       "</div>"
      ],
      "text/plain": [
       "           model  Color   HP  Weight (KG)  price\n",
       "a         Peykan    Red   48          990     33\n",
       "b         BMW X6  White  335         2320   2400\n",
       "f  Nissan Junior    Red   93         1540    186\n",
       "c    Peugeot 206  Black  105         1025    105"
      ]
     },
     "execution_count": 35,
     "metadata": {},
     "output_type": "execute_result"
    }
   ],
   "source": [
    "df2.sample(4, random_state = 42)"
   ]
  },
  {
   "cell_type": "markdown",
   "id": "0cc02d5d-2159-44e9-9794-5cf7772cc945",
   "metadata": {
    "id": "ZRjNvNoBmES8"
   },
   "source": [
    "<p dir=rtl style=\"direction: rtl;text-align: right;line-height:200%;font-family:vazir;font-size:medium\">\n",
    "<font face=\"vazir\" size=3 color='midnightblue'>\n",
    "   پارامتر random_state، مانند تمامی توابع تصادفی دیگر در پایتون برای ثابت نگاه داشتن خروجی آن استفاده شده است تا در صورتی که شما این تابع را اجرا کردید نیز، خروجی مشابهی بگیرید.\n",
    "    <br>\n",
    "مقدار 4 در واقع پارامتر n در این تابع را مقداردهی می‌کند که به معنی برداشت ۴ سطر تصادفی از دیتافریم df2 است. \n",
    "</font>\n",
    "</p>"
   ]
  },
  {
   "cell_type": "markdown",
   "id": "7b408ab1-9e85-40ca-968e-f1f67fb9b3fd",
   "metadata": {
    "id": "ZRjNvNoBmES8"
   },
   "source": [
    "<p dir=rtl style=\"direction: rtl;text-align: right;line-height:200%;font-family:vazir;font-size:medium\">\n",
    "<font face=\"vazir\" size=4>\n",
    " در صورتی که تعداد سطر‌ها برای ما مشخص نباشد و بخواهیم درصد خاصی از آن‌ها را جدا کنیم می‌توانیم به جای مقدار‌دهی پارامتر n از پارامتر frac استفاده کنیم.\n",
    "    </font>\n",
    "</p>"
   ]
  },
  {
   "cell_type": "code",
   "execution_count": 36,
   "id": "f8933972-78bc-4e44-b7a3-aa10f523661a",
   "metadata": {},
   "outputs": [
    {
     "data": {
      "text/html": [
       "<div>\n",
       "<style scoped>\n",
       "    .dataframe tbody tr th:only-of-type {\n",
       "        vertical-align: middle;\n",
       "    }\n",
       "\n",
       "    .dataframe tbody tr th {\n",
       "        vertical-align: top;\n",
       "    }\n",
       "\n",
       "    .dataframe thead th {\n",
       "        text-align: right;\n",
       "    }\n",
       "</style>\n",
       "<table border=\"1\" class=\"dataframe\">\n",
       "  <thead>\n",
       "    <tr style=\"text-align: right;\">\n",
       "      <th></th>\n",
       "      <th>model</th>\n",
       "      <th>Color</th>\n",
       "      <th>HP</th>\n",
       "      <th>Weight (KG)</th>\n",
       "      <th>price</th>\n",
       "    </tr>\n",
       "  </thead>\n",
       "  <tbody>\n",
       "    <tr>\n",
       "      <th>a</th>\n",
       "      <td>Peykan</td>\n",
       "      <td>Red</td>\n",
       "      <td>48</td>\n",
       "      <td>990</td>\n",
       "      <td>33</td>\n",
       "    </tr>\n",
       "    <tr>\n",
       "      <th>b</th>\n",
       "      <td>BMW X6</td>\n",
       "      <td>White</td>\n",
       "      <td>335</td>\n",
       "      <td>2320</td>\n",
       "      <td>2400</td>\n",
       "    </tr>\n",
       "    <tr>\n",
       "      <th>f</th>\n",
       "      <td>Nissan Junior</td>\n",
       "      <td>Red</td>\n",
       "      <td>93</td>\n",
       "      <td>1540</td>\n",
       "      <td>186</td>\n",
       "    </tr>\n",
       "  </tbody>\n",
       "</table>\n",
       "</div>"
      ],
      "text/plain": [
       "           model  Color   HP  Weight (KG)  price\n",
       "a         Peykan    Red   48          990     33\n",
       "b         BMW X6  White  335         2320   2400\n",
       "f  Nissan Junior    Red   93         1540    186"
      ]
     },
     "execution_count": 36,
     "metadata": {},
     "output_type": "execute_result"
    }
   ],
   "source": [
    "df2.sample(frac=0.4 , random_state = 42)"
   ]
  },
  {
   "cell_type": "markdown",
   "id": "f393b1de-ddae-4e15-b1fe-29d2ded3243c",
   "metadata": {
    "id": "ZRjNvNoBmES8"
   },
   "source": [
    "<p dir=rtl style=\"direction: rtl;text-align: right;line-height:200%;font-family:vazir;font-size:medium\">\n",
    "<font face=\"vazir\" size=3 color='midnightblue'>\n",
    "به دلیل انتخاب تصادفی، نمایه ها به ترتیب نخواهند بود. برای دوباره نویسی نمایه از پارامتر ignore_index استفاده میکنیم و مقدار آن را برابر با True قرار میدهیم.\n",
    "    </font>\n",
    "</p>"
   ]
  },
  {
   "cell_type": "code",
   "execution_count": 37,
   "id": "b9935711-c668-4bb0-bf8a-14c98c1cd8d3",
   "metadata": {},
   "outputs": [
    {
     "data": {
      "text/html": [
       "<div>\n",
       "<style scoped>\n",
       "    .dataframe tbody tr th:only-of-type {\n",
       "        vertical-align: middle;\n",
       "    }\n",
       "\n",
       "    .dataframe tbody tr th {\n",
       "        vertical-align: top;\n",
       "    }\n",
       "\n",
       "    .dataframe thead th {\n",
       "        text-align: right;\n",
       "    }\n",
       "</style>\n",
       "<table border=\"1\" class=\"dataframe\">\n",
       "  <thead>\n",
       "    <tr style=\"text-align: right;\">\n",
       "      <th></th>\n",
       "      <th>model</th>\n",
       "      <th>Color</th>\n",
       "      <th>HP</th>\n",
       "      <th>Weight (KG)</th>\n",
       "      <th>price</th>\n",
       "    </tr>\n",
       "  </thead>\n",
       "  <tbody>\n",
       "    <tr>\n",
       "      <th>0</th>\n",
       "      <td>Peykan</td>\n",
       "      <td>Red</td>\n",
       "      <td>48</td>\n",
       "      <td>990</td>\n",
       "      <td>33</td>\n",
       "    </tr>\n",
       "    <tr>\n",
       "      <th>1</th>\n",
       "      <td>BMW X6</td>\n",
       "      <td>White</td>\n",
       "      <td>335</td>\n",
       "      <td>2320</td>\n",
       "      <td>2400</td>\n",
       "    </tr>\n",
       "    <tr>\n",
       "      <th>2</th>\n",
       "      <td>Nissan Junior</td>\n",
       "      <td>Red</td>\n",
       "      <td>93</td>\n",
       "      <td>1540</td>\n",
       "      <td>186</td>\n",
       "    </tr>\n",
       "  </tbody>\n",
       "</table>\n",
       "</div>"
      ],
      "text/plain": [
       "           model  Color   HP  Weight (KG)  price\n",
       "0         Peykan    Red   48          990     33\n",
       "1         BMW X6  White  335         2320   2400\n",
       "2  Nissan Junior    Red   93         1540    186"
      ]
     },
     "execution_count": 37,
     "metadata": {},
     "output_type": "execute_result"
    }
   ],
   "source": [
    "df2.sample(frac=0.4, ignore_index=True , random_state = 42)"
   ]
  },
  {
   "cell_type": "markdown",
   "id": "58b8a1c4-1bdf-49a9-918a-54006fec1fc5",
   "metadata": {
    "id": "ZRjNvNoBmES8"
   },
   "source": [
    "<p dir=rtl style=\"direction: rtl;text-align: right;line-height:200%;font-family:vazir;font-size:medium\">\n",
    "<font face=\"vazir\" size=4>\n",
    "برای داشتن یک دید کلی از دیتافریم از دو تابع info , describe استفاده میکنیم.\n",
    "     </font>\n",
    "</p>"
   ]
  },
  {
   "cell_type": "markdown",
   "id": "74d39aee-abe3-4b64-a582-8549c3d8e083",
   "metadata": {
    "id": "ZRjNvNoBmES8"
   },
   "source": [
    "<p dir=rtl style=\"direction: rtl;text-align: right;line-height:200%;font-family:vazir;font-size:medium\">\n",
    "<font face=\"vazir\" size=3 color='midnightblue'>\n",
    "    خروجی تابع info()، تمامی ساختار دیتافریم را برای ما نشان می‌دهد.برای تمامی ستون‌ها، می‌توانیم نوع مقادیر Dtype را مشاهده کنیم. به طور معمول مقادیر عددی را به صورت int یا float در نظر می‌گیریم مگر آن‌که این ستون حاوی مقادیر خالی (null) باشد.\n",
    "    </font>\n",
    "</p>"
   ]
  },
  {
   "cell_type": "code",
   "execution_count": 38,
   "id": "3603c202-9e9a-4640-9acb-c4f7a66f99d9",
   "metadata": {},
   "outputs": [
    {
     "name": "stdout",
     "output_type": "stream",
     "text": [
      "<class 'pandas.core.frame.DataFrame'>\n",
      "Index: 7 entries, a to g\n",
      "Data columns (total 5 columns):\n",
      " #   Column       Non-Null Count  Dtype \n",
      "---  ------       --------------  ----- \n",
      " 0   model        7 non-null      object\n",
      " 1   Color        7 non-null      object\n",
      " 2   HP           7 non-null      int64 \n",
      " 3   Weight (KG)  7 non-null      int64 \n",
      " 4   price        7 non-null      int64 \n",
      "dtypes: int64(3), object(2)\n",
      "memory usage: 336.0+ bytes\n"
     ]
    }
   ],
   "source": [
    "df2.info()"
   ]
  },
  {
   "cell_type": "markdown",
   "id": "de85b470-fdc9-4ac6-aadd-546ed96f64be",
   "metadata": {
    "id": "ZRjNvNoBmES8"
   },
   "source": [
    "<p dir=rtl style=\"direction: rtl;text-align: right;line-height:200%;font-family:vazir;font-size:medium\">\n",
    "<font face=\"vazir\" size=3 color='midnightblue'>\n",
    "برای پیدا کردن تعداد سطرها و ستون‌ها از دستور زیر استفاده می‌کنیم:\n",
    "    </font>\n",
    "</p>"
   ]
  },
  {
   "cell_type": "markdown",
   "id": "6053b1e3-2306-4b9b-bdb0-16832d2f0dd2",
   "metadata": {
    "id": "ZRjNvNoBmES8"
   },
   "source": [
    "<p dir=rtl style=\"direction: rtl;text-align: right;line-height:200%;font-family:vazir;font-size:medium\">\n",
    "<font face=\"vazir\" size=3 color='midnightblue'>\n",
    "    </font>\n",
    "    </div>\n",
    "\n",
    "```python\n",
    "count_row = df.shape[0]  # Gives number of rows\n",
    "count_col = df.shape[1]  # Gives number of columns\n",
    "```\n",
    "</p>"
   ]
  },
  {
   "cell_type": "code",
   "execution_count": 39,
   "id": "b1feeed7-8f5f-470f-8646-71fdf7a8360e",
   "metadata": {},
   "outputs": [
    {
     "name": "stdout",
     "output_type": "stream",
     "text": [
      "7 5\n"
     ]
    }
   ],
   "source": [
    "count_row = df2.shape[0]  # Gives number of rows\n",
    "count_col = df2.shape[1]  # Gives number of columns\n",
    "print(count_row,count_col)"
   ]
  },
  {
   "cell_type": "markdown",
   "id": "0f9c4390-11d2-444f-947a-31835ec44aa2",
   "metadata": {
    "id": "ZRjNvNoBmES8"
   },
   "source": [
    "<p dir=rtl style=\"direction: rtl;text-align: right;line-height:200%;font-family:vazir;font-size:medium\">\n",
    "<font face=\"vazir\" size=3 color='midnightblue'>\n",
    "    تابع describe مشخصات آماری دیتافریم را به ما میدهد.(تنها روی ستونهایی که مقادیر عددی دارند اعمال میشود.)\n",
    "    </font>\n",
    "</p>"
   ]
  },
  {
   "cell_type": "code",
   "execution_count": 40,
   "id": "ad704d90-cf02-4c4f-90a2-3e9144aefa90",
   "metadata": {},
   "outputs": [
    {
     "data": {
      "text/html": [
       "<div>\n",
       "<style scoped>\n",
       "    .dataframe tbody tr th:only-of-type {\n",
       "        vertical-align: middle;\n",
       "    }\n",
       "\n",
       "    .dataframe tbody tr th {\n",
       "        vertical-align: top;\n",
       "    }\n",
       "\n",
       "    .dataframe thead th {\n",
       "        text-align: right;\n",
       "    }\n",
       "</style>\n",
       "<table border=\"1\" class=\"dataframe\">\n",
       "  <thead>\n",
       "    <tr style=\"text-align: right;\">\n",
       "      <th></th>\n",
       "      <th>HP</th>\n",
       "      <th>Weight (KG)</th>\n",
       "      <th>price</th>\n",
       "    </tr>\n",
       "  </thead>\n",
       "  <tbody>\n",
       "    <tr>\n",
       "      <th>count</th>\n",
       "      <td>7.000000</td>\n",
       "      <td>7.000000</td>\n",
       "      <td>7.000000</td>\n",
       "    </tr>\n",
       "    <tr>\n",
       "      <th>mean</th>\n",
       "      <td>115.571429</td>\n",
       "      <td>1327.428571</td>\n",
       "      <td>444.571429</td>\n",
       "    </tr>\n",
       "    <tr>\n",
       "      <th>std</th>\n",
       "      <td>99.354344</td>\n",
       "      <td>516.250539</td>\n",
       "      <td>865.250225</td>\n",
       "    </tr>\n",
       "    <tr>\n",
       "      <th>min</th>\n",
       "      <td>48.000000</td>\n",
       "      <td>850.000000</td>\n",
       "      <td>33.000000</td>\n",
       "    </tr>\n",
       "    <tr>\n",
       "      <th>25%</th>\n",
       "      <td>67.500000</td>\n",
       "      <td>1007.500000</td>\n",
       "      <td>71.500000</td>\n",
       "    </tr>\n",
       "    <tr>\n",
       "      <th>50%</th>\n",
       "      <td>93.000000</td>\n",
       "      <td>1027.000000</td>\n",
       "      <td>120.000000</td>\n",
       "    </tr>\n",
       "    <tr>\n",
       "      <th>75%</th>\n",
       "      <td>99.000000</td>\n",
       "      <td>1540.000000</td>\n",
       "      <td>208.000000</td>\n",
       "    </tr>\n",
       "    <tr>\n",
       "      <th>max</th>\n",
       "      <td>335.000000</td>\n",
       "      <td>2320.000000</td>\n",
       "      <td>2400.000000</td>\n",
       "    </tr>\n",
       "  </tbody>\n",
       "</table>\n",
       "</div>"
      ],
      "text/plain": [
       "               HP  Weight (KG)        price\n",
       "count    7.000000     7.000000     7.000000\n",
       "mean   115.571429  1327.428571   444.571429\n",
       "std     99.354344   516.250539   865.250225\n",
       "min     48.000000   850.000000    33.000000\n",
       "25%     67.500000  1007.500000    71.500000\n",
       "50%     93.000000  1027.000000   120.000000\n",
       "75%     99.000000  1540.000000   208.000000\n",
       "max    335.000000  2320.000000  2400.000000"
      ]
     },
     "execution_count": 40,
     "metadata": {},
     "output_type": "execute_result"
    }
   ],
   "source": [
    "df2.describe()"
   ]
  },
  {
   "cell_type": "markdown",
   "id": "7b1a91e6-cbd0-4f9b-9ffb-fb1f3dc49b1f",
   "metadata": {
    "id": "ZRjNvNoBmES8"
   },
   "source": [
    "<p dir=rtl style=\"direction: rtl;text-align: right;line-height:200%;font-family:vazir;font-size:medium\">\n",
    "<font face=\"vazir\" size=3 color='midnightblue'>\n",
    "با دستور loc میتوانیم هر کدام از مقادیر را فراخوانی کنیم.\n",
    "    </font>\n",
    "</p>"
   ]
  },
  {
   "cell_type": "code",
   "execution_count": 41,
   "id": "fcefff1c-bac1-403b-a6e6-7a1d1bcaf1ee",
   "metadata": {},
   "outputs": [
    {
     "data": {
      "text/plain": [
       "HP               99.0\n",
       "Weight (KG)    1540.0\n",
       "price           208.0\n",
       "Name: 75%, dtype: float64"
      ]
     },
     "execution_count": 41,
     "metadata": {},
     "output_type": "execute_result"
    }
   ],
   "source": [
    "df2.describe().loc['75%']"
   ]
  },
  {
   "cell_type": "markdown",
   "id": "6e23a0ba-7001-4370-9526-9fbf06930efb",
   "metadata": {
    "id": "ZRjNvNoBmES8"
   },
   "source": [
    "<p dir=rtl style=\"direction: rtl;text-align: right;line-height:200%;font-family:vazir;font-size:medium\">\n",
    "<font face=\"vazir\" size=4>\n",
    "برای محاسبه max , min یک ستون مانند دستورات نامپای عمل میکنیم و تابع max , min را روی ستون اعمال میکنیم.\n",
    "    </font>\n",
    "</p>"
   ]
  },
  {
   "cell_type": "code",
   "execution_count": 42,
   "id": "ed18ea7b-1ab9-4ed9-abee-f4879c596890",
   "metadata": {},
   "outputs": [
    {
     "data": {
      "text/plain": [
       "335"
      ]
     },
     "execution_count": 42,
     "metadata": {},
     "output_type": "execute_result"
    }
   ],
   "source": [
    "n_max = df2['HP'].max()\n",
    "n_max"
   ]
  },
  {
   "cell_type": "markdown",
   "id": "e90fd066-278e-40ca-8ee1-a9e09bf60e06",
   "metadata": {
    "id": "ZRjNvNoBmES8"
   },
   "source": [
    "<p dir=rtl style=\"direction: rtl;text-align: right;line-height:200%;font-family:vazir;font-size:medium\">\n",
    "<font face=\"vazir\" size=4>\n",
    "برای بررسی یک ستون و دیدن مقادیر یکتای آن از دستور unique استفاده میکنیم."
   ]
  },
  {
   "cell_type": "code",
   "execution_count": 43,
   "id": "b8b6f563-3788-49d0-87ba-73f98bb06147",
   "metadata": {},
   "outputs": [
    {
     "data": {
      "text/plain": [
       "array(['Red', 'White', 'Black', 'Blue', 'Silver'], dtype=object)"
      ]
     },
     "execution_count": 43,
     "metadata": {},
     "output_type": "execute_result"
    }
   ],
   "source": [
    "df2['Color'].unique()"
   ]
  },
  {
   "cell_type": "markdown",
   "id": "282efa71-dc86-47d6-9f3d-83a4f9364eb8",
   "metadata": {
    "id": "ZRjNvNoBmES8"
   },
   "source": [
    "<p dir=rtl style=\"direction: rtl;text-align: right;line-height:200%;font-family:vazir;font-size:medium\">\n",
    "<font face=\"vazir\" size=4>\n",
    "اگر بخواهیم علاوه بر داده های یونیک یک ستون تعداد هر کدام هم بشماریم از دستور value_counts روی هر ستون به طور مستقل استفاده میکنیم.    \n",
    "    </font>\n",
    "</p>"
   ]
  },
  {
   "cell_type": "code",
   "execution_count": 44,
   "id": "acb7518d-45c0-45a2-96b4-b18c83d5a783",
   "metadata": {},
   "outputs": [
    {
     "data": {
      "text/plain": [
       "Red       2\n",
       "White     2\n",
       "Black     1\n",
       "Blue      1\n",
       "Silver    1\n",
       "Name: Color, dtype: int64"
      ]
     },
     "execution_count": 44,
     "metadata": {},
     "output_type": "execute_result"
    }
   ],
   "source": [
    "df2['Color'].value_counts()"
   ]
  },
  {
   "cell_type": "markdown",
   "id": "7f8b89a4-70c3-4f71-bea6-ff8e237a441d",
   "metadata": {
    "id": "ZRjNvNoBmES8"
   },
   "source": [
    "<p dir=rtl style=\"direction: rtl;text-align: right;line-height:200%;font-family:vazir;font-size:medium\">\n",
    "<font face=\"vazir\" size=3 color='midnightblue'>\n",
    "اگر بخواهیم یک مقدار خاص را در ستون بشماریم با [] جلوی دستور قرار میدهیم.\n",
    "    </font>\n",
    "</p>"
   ]
  },
  {
   "cell_type": "code",
   "execution_count": 45,
   "id": "99b11de7-2ad7-4f48-bd5a-e33a3fc7c0a6",
   "metadata": {},
   "outputs": [
    {
     "data": {
      "text/plain": [
       "2"
      ]
     },
     "execution_count": 45,
     "metadata": {},
     "output_type": "execute_result"
    }
   ],
   "source": [
    "df2['Color'].value_counts()['Red']"
   ]
  },
  {
   "cell_type": "markdown",
   "id": "411ce5ae-4e6b-41b4-a753-d7cfe2e148e1",
   "metadata": {
    "id": "ZRjNvNoBmES8"
   },
   "source": [
    "<p dir=rtl style=\"direction: rtl;text-align: right;line-height:200%;font-family:vazir;font-size:medium\">\n",
    "<font face=\"vazir\" size=3 color='midnightblue'>\n",
    "برای مرتب کردن مقادیر میتوانیم از پارامتر ascending استفاده کنیم.\n",
    "    <br>\n",
    "    اگر مقدار پارامتر را True قرار دهیم مقادیر را صعودی مرتب میکند و اگر False قرار دهیم، نزولی. \n",
    "    </font>\n",
    "</p>"
   ]
  },
  {
   "cell_type": "code",
   "execution_count": 46,
   "id": "9ff5b8b5-b710-4abd-979c-ab6cad60f5e1",
   "metadata": {},
   "outputs": [
    {
     "data": {
      "text/plain": [
       "Black     1\n",
       "Blue      1\n",
       "Silver    1\n",
       "Red       2\n",
       "White     2\n",
       "Name: Color, dtype: int64"
      ]
     },
     "execution_count": 46,
     "metadata": {},
     "output_type": "execute_result"
    }
   ],
   "source": [
    "df2['Color'].value_counts(ascending=True)"
   ]
  },
  {
   "cell_type": "markdown",
   "id": "adc042da-1aca-440c-9925-d09c52a5450b",
   "metadata": {
    "id": "ZRjNvNoBmES8"
   },
   "source": [
    "<p dir=rtl style=\"direction: rtl;text-align: right;line-height:200%;font-family:vazir;font-size:medium\">\n",
    "<font face=\"vazir\" size=4>\n",
    "برای مرتب کردن یک سری از دستور sort_values میتوانیم استفاده کنیم (پارامتر ascending به طور پیشفرض True است).\n",
    "    </font>\n",
    "</p>"
   ]
  },
  {
   "cell_type": "code",
   "execution_count": 47,
   "id": "45d5d8d5-9b96-4e75-bd9d-93c8e95346a2",
   "metadata": {},
   "outputs": [
    {
     "data": {
      "text/plain": [
       "a      33\n",
       "g      38\n",
       "c     105\n",
       "d     120\n",
       "f     186\n",
       "e     230\n",
       "b    2400\n",
       "Name: price, dtype: int64"
      ]
     },
     "execution_count": 47,
     "metadata": {},
     "output_type": "execute_result"
    }
   ],
   "source": [
    "df2['price'].sort_values()"
   ]
  },
  {
   "cell_type": "code",
   "execution_count": 48,
   "id": "7e59ff0e-4595-4b0d-9617-15dab6e22bea",
   "metadata": {},
   "outputs": [
    {
     "data": {
      "text/plain": [
       "b    2400\n",
       "e     230\n",
       "f     186\n",
       "d     120\n",
       "c     105\n",
       "g      38\n",
       "a      33\n",
       "Name: price, dtype: int64"
      ]
     },
     "execution_count": 48,
     "metadata": {},
     "output_type": "execute_result"
    }
   ],
   "source": [
    "df2['price'].sort_values(ascending=False)"
   ]
  },
  {
   "cell_type": "markdown",
   "id": "d142fab8-5594-4da8-b3d4-028e9b39472c",
   "metadata": {
    "id": "ZRjNvNoBmES8"
   },
   "source": [
    "<p dir=rtl style=\"direction: rtl;text-align: right;line-height:200%;font-family:vazir;font-size:medium\">\n",
    "<font face=\"vazir\" size=4>\n",
    "برای چک کردن یک حرف یا یک لغت در مقادیر رشته ای یک ستون از دستور (' ')df.col_name.str.contains استفاده میکنیم.\n",
    "    <font>\n",
    "    </p>"
   ]
  },
  {
   "cell_type": "code",
   "execution_count": 49,
   "id": "cda4658d-399e-4449-bd7d-3624e5146d1a",
   "metadata": {},
   "outputs": [
    {
     "data": {
      "text/html": [
       "<div>\n",
       "<style scoped>\n",
       "    .dataframe tbody tr th:only-of-type {\n",
       "        vertical-align: middle;\n",
       "    }\n",
       "\n",
       "    .dataframe tbody tr th {\n",
       "        vertical-align: top;\n",
       "    }\n",
       "\n",
       "    .dataframe thead th {\n",
       "        text-align: right;\n",
       "    }\n",
       "</style>\n",
       "<table border=\"1\" class=\"dataframe\">\n",
       "  <thead>\n",
       "    <tr style=\"text-align: right;\">\n",
       "      <th></th>\n",
       "      <th>model</th>\n",
       "      <th>Color</th>\n",
       "      <th>HP</th>\n",
       "      <th>Weight (KG)</th>\n",
       "      <th>price</th>\n",
       "    </tr>\n",
       "  </thead>\n",
       "  <tbody>\n",
       "    <tr>\n",
       "      <th>a</th>\n",
       "      <td>Peykan</td>\n",
       "      <td>Red</td>\n",
       "      <td>48</td>\n",
       "      <td>990</td>\n",
       "      <td>33</td>\n",
       "    </tr>\n",
       "    <tr>\n",
       "      <th>f</th>\n",
       "      <td>Nissan Junior</td>\n",
       "      <td>Red</td>\n",
       "      <td>93</td>\n",
       "      <td>1540</td>\n",
       "      <td>186</td>\n",
       "    </tr>\n",
       "  </tbody>\n",
       "</table>\n",
       "</div>"
      ],
      "text/plain": [
       "           model Color  HP  Weight (KG)  price\n",
       "a         Peykan   Red  48          990     33\n",
       "f  Nissan Junior   Red  93         1540    186"
      ]
     },
     "execution_count": 49,
     "metadata": {},
     "output_type": "execute_result"
    }
   ],
   "source": [
    "R_df2 = df2[df2.Color.str.contains('R')]\n",
    "R_df2"
   ]
  },
  {
   "cell_type": "markdown",
   "id": "e4cbc912-5710-43cc-9058-7e4d4bb10828",
   "metadata": {
    "id": "ZRjNvNoBmES8"
   },
   "source": [
    "<p dir=rtl style=\"direction: rtl;text-align: right;line-height:200%;font-family:vazir;font-size:medium\">\n",
    "<font face=\"vazir\" size=3 color='midnightblue'>\n",
    "اگر یک لیست داشته باشیم که بخواهیم چک کنیم اسامی در یک ستون در آن لیست قرار دارد یا خیر، ابتدا لیست را تعریف میکنیم. یک پارامتر به شکل\n"
   ]
  },
  {
   "cell_type": "markdown",
   "id": "5863059a-fa66-4cff-83c4-478446f82c62",
   "metadata": {
    "id": "ZRjNvNoBmES8"
   },
   "source": [
    "<p dir=rtl style=\"direction: rtl;text-align: right;line-height:200%;font-family:vazir;font-size:medium\">\n",
    "<font face=\"vazir\" size=3 color='midnightblue'>\n",
    "\n",
    "```python\n",
    "parameter = '|'.join(mylist)\n",
    "```\n",
    "<p>"
   ]
  },
  {
   "cell_type": "markdown",
   "id": "83009e0b-6dfe-4e72-a02f-489d951c7a0e",
   "metadata": {
    "id": "ZRjNvNoBmES8"
   },
   "source": [
    "<p dir=rtl style=\"direction: rtl;text-align: right;line-height:200%;font-family:vazir;font-size:medium\">\n",
    "<font face=\"vazir\" size=3 color='midnightblue'>  \n",
    "    تعریف میکنیم و این پارامتر را در مقابل contains قرار میدهیم."
   ]
  },
  {
   "cell_type": "code",
   "execution_count": 50,
   "id": "5a51b8ea-0c4c-4d5c-a8d1-ffe4ebdbd560",
   "metadata": {},
   "outputs": [
    {
     "data": {
      "text/html": [
       "<div>\n",
       "<style scoped>\n",
       "    .dataframe tbody tr th:only-of-type {\n",
       "        vertical-align: middle;\n",
       "    }\n",
       "\n",
       "    .dataframe tbody tr th {\n",
       "        vertical-align: top;\n",
       "    }\n",
       "\n",
       "    .dataframe thead th {\n",
       "        text-align: right;\n",
       "    }\n",
       "</style>\n",
       "<table border=\"1\" class=\"dataframe\">\n",
       "  <thead>\n",
       "    <tr style=\"text-align: right;\">\n",
       "      <th></th>\n",
       "      <th>model</th>\n",
       "      <th>Color</th>\n",
       "      <th>HP</th>\n",
       "      <th>Weight (KG)</th>\n",
       "      <th>price</th>\n",
       "    </tr>\n",
       "  </thead>\n",
       "  <tbody>\n",
       "    <tr>\n",
       "      <th>a</th>\n",
       "      <td>Peykan</td>\n",
       "      <td>Red</td>\n",
       "      <td>48</td>\n",
       "      <td>990</td>\n",
       "      <td>33</td>\n",
       "    </tr>\n",
       "    <tr>\n",
       "      <th>b</th>\n",
       "      <td>BMW X6</td>\n",
       "      <td>White</td>\n",
       "      <td>335</td>\n",
       "      <td>2320</td>\n",
       "      <td>2400</td>\n",
       "    </tr>\n",
       "    <tr>\n",
       "      <th>d</th>\n",
       "      <td>Tiba</td>\n",
       "      <td>White</td>\n",
       "      <td>87</td>\n",
       "      <td>1027</td>\n",
       "      <td>120</td>\n",
       "    </tr>\n",
       "    <tr>\n",
       "      <th>f</th>\n",
       "      <td>Nissan Junior</td>\n",
       "      <td>Red</td>\n",
       "      <td>93</td>\n",
       "      <td>1540</td>\n",
       "      <td>186</td>\n",
       "    </tr>\n",
       "  </tbody>\n",
       "</table>\n",
       "</div>"
      ],
      "text/plain": [
       "           model  Color   HP  Weight (KG)  price\n",
       "a         Peykan    Red   48          990     33\n",
       "b         BMW X6  White  335         2320   2400\n",
       "d           Tiba  White   87         1027    120\n",
       "f  Nissan Junior    Red   93         1540    186"
      ]
     },
     "execution_count": 50,
     "metadata": {},
     "output_type": "execute_result"
    }
   ],
   "source": [
    "mylist=['Red','White']\n",
    "parameter = '|'.join(mylist)\n",
    "list_df2 = df2[df2.Color.str.contains(parameter)]\n",
    "list_df2\n"
   ]
  },
  {
   "cell_type": "markdown",
   "id": "57ac1a5e-2a14-45d2-9e1e-4d9838d48047",
   "metadata": {},
   "source": [
    "<br>\n",
    "<div dir=rtl id=\"start\" style=\"direction:rtl;line-height:200%;\">\n",
    "\t<font face=\"vazir\" size=7 color='Red'>\n",
    "کار با دیتافریم\n",
    "    </font>\n",
    "</div>"
   ]
  },
  {
   "cell_type": "markdown",
   "id": "69e5642b-3f08-46e2-a4eb-dffb40a1bcbc",
   "metadata": {
    "id": "ZRjNvNoBmES8"
   },
   "source": [
    "<p dir=rtl style=\"direction: rtl;text-align: right;line-height:200%;font-family:vazir;font-size:medium\">\n",
    "<font face=\"vazir\" size=4>\n",
    "دیتافریم ماشینها را در نظر میگیریم و این بار نام ماشینها را به عنوان اندیس قرار میدهیم.\n",
    "    </font>\n",
    "</p>"
   ]
  },
  {
   "cell_type": "code",
   "execution_count": 51,
   "id": "007d72f8-7467-4d58-9525-9c4223e522e8",
   "metadata": {},
   "outputs": [
    {
     "data": {
      "text/html": [
       "<div>\n",
       "<style scoped>\n",
       "    .dataframe tbody tr th:only-of-type {\n",
       "        vertical-align: middle;\n",
       "    }\n",
       "\n",
       "    .dataframe tbody tr th {\n",
       "        vertical-align: top;\n",
       "    }\n",
       "\n",
       "    .dataframe thead th {\n",
       "        text-align: right;\n",
       "    }\n",
       "</style>\n",
       "<table border=\"1\" class=\"dataframe\">\n",
       "  <thead>\n",
       "    <tr style=\"text-align: right;\">\n",
       "      <th></th>\n",
       "      <th>Color</th>\n",
       "      <th>HP</th>\n",
       "      <th>Weight (KG)</th>\n",
       "      <th>price</th>\n",
       "    </tr>\n",
       "  </thead>\n",
       "  <tbody>\n",
       "    <tr>\n",
       "      <th>Peykan</th>\n",
       "      <td>Red</td>\n",
       "      <td>48</td>\n",
       "      <td>990</td>\n",
       "      <td>33</td>\n",
       "    </tr>\n",
       "    <tr>\n",
       "      <th>BMW X6</th>\n",
       "      <td>White</td>\n",
       "      <td>335</td>\n",
       "      <td>2320</td>\n",
       "      <td>2400</td>\n",
       "    </tr>\n",
       "    <tr>\n",
       "      <th>Peugeot 206</th>\n",
       "      <td>Black</td>\n",
       "      <td>105</td>\n",
       "      <td>1025</td>\n",
       "      <td>105</td>\n",
       "    </tr>\n",
       "    <tr>\n",
       "      <th>Tiba</th>\n",
       "      <td>White</td>\n",
       "      <td>87</td>\n",
       "      <td>1027</td>\n",
       "      <td>120</td>\n",
       "    </tr>\n",
       "    <tr>\n",
       "      <th>Nissan Junior</th>\n",
       "      <td>Blue</td>\n",
       "      <td>93</td>\n",
       "      <td>1540</td>\n",
       "      <td>230</td>\n",
       "    </tr>\n",
       "    <tr>\n",
       "      <th>Peykan Vanet</th>\n",
       "      <td>Red</td>\n",
       "      <td>80</td>\n",
       "      <td>960</td>\n",
       "      <td>68</td>\n",
       "    </tr>\n",
       "    <tr>\n",
       "      <th>renault 5</th>\n",
       "      <td>Silver</td>\n",
       "      <td>48</td>\n",
       "      <td>850</td>\n",
       "      <td>38</td>\n",
       "    </tr>\n",
       "  </tbody>\n",
       "</table>\n",
       "</div>"
      ],
      "text/plain": [
       "                Color   HP  Weight (KG)  price\n",
       "Peykan            Red   48          990     33\n",
       "BMW X6          White  335         2320   2400\n",
       "Peugeot 206     Black  105         1025    105\n",
       "Tiba            White   87         1027    120\n",
       "Nissan Junior    Blue   93         1540    230\n",
       "Peykan Vanet      Red   80          960     68\n",
       "renault 5      Silver   48          850     38"
      ]
     },
     "execution_count": 51,
     "metadata": {},
     "output_type": "execute_result"
    }
   ],
   "source": [
    "cars_dictionary = {\n",
    "    \"Color\" :[\"Red\", \"White\", \"Black\", \"White\", \"Blue\", \"Red\", \"Silver\"],\n",
    "    \"HP\" :[48, 335, 105, 87, 93, 80, 48],\n",
    "    \"Weight (KG)\": [990, 2320, 1025, 1027, 1540, 960, 850],\n",
    "    \"price\" :[33, 2400, 105, 120, 230, 68, 38]\n",
    "}\n",
    "\n",
    "df = pd.DataFrame(cars_dictionary , index = [ \"Peykan\", \"BMW X6\", \"Peugeot 206\", \"Tiba\", \"Nissan Junior\", \"Peykan Vanet\", \"renault 5\"])\n",
    "\n",
    "df"
   ]
  },
  {
   "cell_type": "markdown",
   "id": "fd079ad6-ca4b-4644-b249-bb6c1ae6569d",
   "metadata": {},
   "source": [
    "<br>\n",
    "<div dir=rtl id=\"start\" style=\"direction:rtl;line-height:200%;\">\n",
    "\t<font face=\"vazir\" size=6 color='Orange'>\n",
    "نمایه‌سازی ستون‌ها\n",
    "    </font>\n",
    "</div>"
   ]
  },
  {
   "cell_type": "markdown",
   "id": "b437db3b-5610-4f39-80ad-45540fcb1878",
   "metadata": {
    "id": "ZRjNvNoBmES8"
   },
   "source": [
    "<p dir=rtl style=\"direction: rtl;text-align: right;line-height:200%;font-family:vazir;font-size:medium\">\n",
    "<font face=\"vazir\" size=4>\n",
    "برای دسترسی به یک ستون از دستور df['name'] یا df.name استفاده میکنیم. در حالت دوم اگر اسم ستون فاصله داشته باشد یا برابر با یکی از کلمات رزرو شده پایتون باشد یا بخواهیم روی نامها iteration انجام دهیم، توصیه نمیشود.    </font>\n",
    "</p>"
   ]
  },
  {
   "cell_type": "code",
   "execution_count": 52,
   "id": "27400378-5d4a-4f9a-a560-b1d2394dcc82",
   "metadata": {},
   "outputs": [
    {
     "data": {
      "text/plain": [
       "Peykan              Red\n",
       "BMW X6            White\n",
       "Peugeot 206       Black\n",
       "Tiba              White\n",
       "Nissan Junior      Blue\n",
       "Peykan Vanet        Red\n",
       "renault 5        Silver\n",
       "Name: Color, dtype: object"
      ]
     },
     "execution_count": 52,
     "metadata": {},
     "output_type": "execute_result"
    }
   ],
   "source": [
    "df['Color']"
   ]
  },
  {
   "cell_type": "code",
   "execution_count": 53,
   "id": "849f9785-11b1-4ce8-9a56-80e922c41d51",
   "metadata": {},
   "outputs": [
    {
     "data": {
      "text/plain": [
       "Peykan              Red\n",
       "BMW X6            White\n",
       "Peugeot 206       Black\n",
       "Tiba              White\n",
       "Nissan Junior      Blue\n",
       "Peykan Vanet        Red\n",
       "renault 5        Silver\n",
       "Name: Color, dtype: object"
      ]
     },
     "execution_count": 53,
     "metadata": {},
     "output_type": "execute_result"
    }
   ],
   "source": [
    "df.Color"
   ]
  },
  {
   "cell_type": "markdown",
   "id": "93dd753d-0ef2-46f2-a98d-619e887262bb",
   "metadata": {
    "id": "ZRjNvNoBmES8"
   },
   "source": [
    "<p dir=rtl style=\"direction: rtl;text-align: right;line-height:200%;font-family:vazir;font-size:medium\">\n",
    "<font face=\"vazir\" size=3 color='midnightblue'>\n",
    "اگر بخواهیم به جای یک ستون، چند ستون‌ را بازیابی کنیم، باید اسم ستون‌ها را درون یک لیست گذاشته و سپس آن لیست را درون براکت ([ ])، روبروی اسم تابع بنویسیم.\n",
    "    <br>\n",
    "    دیتافریم بدست آمده یک زیرمجموعه از دیتافریم اصلی است که با تغییر هر کدام دیگری دچار تغییر میشود.\n",
    "    </font>\n",
    "</p>"
   ]
  },
  {
   "cell_type": "code",
   "execution_count": 54,
   "id": "c3bd6c40-b3ab-48a1-8198-5f97268f36e6",
   "metadata": {},
   "outputs": [
    {
     "data": {
      "text/html": [
       "<div>\n",
       "<style scoped>\n",
       "    .dataframe tbody tr th:only-of-type {\n",
       "        vertical-align: middle;\n",
       "    }\n",
       "\n",
       "    .dataframe tbody tr th {\n",
       "        vertical-align: top;\n",
       "    }\n",
       "\n",
       "    .dataframe thead th {\n",
       "        text-align: right;\n",
       "    }\n",
       "</style>\n",
       "<table border=\"1\" class=\"dataframe\">\n",
       "  <thead>\n",
       "    <tr style=\"text-align: right;\">\n",
       "      <th></th>\n",
       "      <th>Color</th>\n",
       "      <th>price</th>\n",
       "    </tr>\n",
       "  </thead>\n",
       "  <tbody>\n",
       "    <tr>\n",
       "      <th>Peykan</th>\n",
       "      <td>Red</td>\n",
       "      <td>33</td>\n",
       "    </tr>\n",
       "    <tr>\n",
       "      <th>BMW X6</th>\n",
       "      <td>White</td>\n",
       "      <td>2400</td>\n",
       "    </tr>\n",
       "    <tr>\n",
       "      <th>Peugeot 206</th>\n",
       "      <td>Black</td>\n",
       "      <td>105</td>\n",
       "    </tr>\n",
       "    <tr>\n",
       "      <th>Tiba</th>\n",
       "      <td>White</td>\n",
       "      <td>120</td>\n",
       "    </tr>\n",
       "    <tr>\n",
       "      <th>Nissan Junior</th>\n",
       "      <td>Blue</td>\n",
       "      <td>230</td>\n",
       "    </tr>\n",
       "    <tr>\n",
       "      <th>Peykan Vanet</th>\n",
       "      <td>Red</td>\n",
       "      <td>68</td>\n",
       "    </tr>\n",
       "    <tr>\n",
       "      <th>renault 5</th>\n",
       "      <td>Silver</td>\n",
       "      <td>38</td>\n",
       "    </tr>\n",
       "  </tbody>\n",
       "</table>\n",
       "</div>"
      ],
      "text/plain": [
       "                Color  price\n",
       "Peykan            Red     33\n",
       "BMW X6          White   2400\n",
       "Peugeot 206     Black    105\n",
       "Tiba            White    120\n",
       "Nissan Junior    Blue    230\n",
       "Peykan Vanet      Red     68\n",
       "renault 5      Silver     38"
      ]
     },
     "execution_count": 54,
     "metadata": {},
     "output_type": "execute_result"
    }
   ],
   "source": [
    "df[[\"Color\" , \"price\"]]"
   ]
  },
  {
   "cell_type": "markdown",
   "id": "04779c25-26a1-4f5c-9eda-5003940bac67",
   "metadata": {
    "id": "ZRjNvNoBmES8"
   },
   "source": [
    "<p dir=rtl style=\"direction: rtl;text-align: right;line-height:200%;font-family:vazir;font-size:medium\">\n",
    "<font face=\"vazir\" size=4>\n",
    "پیموندن (iterate) نام ستون‌ها:\n",
    "    <br>\n",
    "    با استفاده از ویژگی df.columns، می‌توانیم به لیستی شامل نام ستون‌ها دسترسی پیدا کنیم.\n",
    "    </font>\n",
    "</p>"
   ]
  },
  {
   "cell_type": "code",
   "execution_count": 55,
   "id": "dd71520e-1be5-4681-8f7d-9eaf968b3a34",
   "metadata": {},
   "outputs": [
    {
     "data": {
      "text/plain": [
       "Index(['Color', 'HP', 'Weight (KG)', 'price'], dtype='object')"
      ]
     },
     "execution_count": 55,
     "metadata": {},
     "output_type": "execute_result"
    }
   ],
   "source": [
    "df.columns"
   ]
  },
  {
   "cell_type": "markdown",
   "id": "618b99be-03b7-44f4-af97-39a368ad813f",
   "metadata": {},
   "source": [
    "<br>\n",
    "<div dir=rtl id=\"start\" style=\"direction:rtl;line-height:200%;\">\n",
    "\t<font face=\"vazir\" size=6 color='Orange'>\n",
    "نمایه‌سازی سطر‌ها\n",
    "    </font>\n",
    "</div>"
   ]
  },
  {
   "cell_type": "markdown",
   "id": "81a36192-6307-4e7e-81ed-941c5813906f",
   "metadata": {
    "id": "ZRjNvNoBmES8"
   },
   "source": [
    "<p dir=rtl style=\"direction: rtl;text-align: right;line-height:200%;font-family:vazir;font-size:medium\">\n",
    "<font face=\"vazir\" size=4>\n",
    "برای دسترسی به سطر‌های دیتافریم، می‌توانیم از دو روش loc و iloc استفاده کنیم. هر دو این توابع، از نمایه‌ی (index) دیتافریم برای آدرس‌دهی استفاده می‌کنند؛ اما در تابع iloc، از شماره‌ی نمایه، مانند لیست نامپای، برای آدرس‌دهی استفاده می‌شود در حالی که در تابع loc، دقیقا همان نام نمایه را برای نمایه‌سازی استفاده می‌کنیم.\n",
    "    </font>\n",
    "</p>"
   ]
  },
  {
   "cell_type": "code",
   "execution_count": 56,
   "id": "3222606e-9145-4d5a-88dd-0e3bd0e7b3d2",
   "metadata": {},
   "outputs": [
    {
     "data": {
      "text/plain": [
       "Color          Black\n",
       "HP               105\n",
       "Weight (KG)     1025\n",
       "price            105\n",
       "Name: Peugeot 206, dtype: object"
      ]
     },
     "execution_count": 56,
     "metadata": {},
     "output_type": "execute_result"
    }
   ],
   "source": [
    "df.iloc[2]"
   ]
  },
  {
   "cell_type": "code",
   "execution_count": 57,
   "id": "fdbfae72-2b64-45eb-ac1c-46b525a49730",
   "metadata": {},
   "outputs": [
    {
     "data": {
      "text/plain": [
       "Color          White\n",
       "HP                87\n",
       "Weight (KG)     1027\n",
       "price            120\n",
       "Name: Tiba, dtype: object"
      ]
     },
     "execution_count": 57,
     "metadata": {},
     "output_type": "execute_result"
    }
   ],
   "source": [
    "df.loc[\"Tiba\"]"
   ]
  },
  {
   "cell_type": "markdown",
   "id": "4cf8ee81-b526-4bc5-a4c6-d5d4cde5bcef",
   "metadata": {},
   "source": [
    "<img src='./2.pandas_file/02.jpg'/>"
   ]
  },
  {
   "cell_type": "markdown",
   "id": "50bc7e3e-8581-4477-a3cd-874ccb3b4ddb",
   "metadata": {
    "id": "ZRjNvNoBmES8"
   },
   "source": [
    "<p dir=rtl style=\"direction: rtl;text-align: right;line-height:200%;font-family:vazir;font-size:medium\">\n",
    "<font face=\"vazir\" size=3 color='midnightblue'>\n",
    "نکته:\n",
    "    <br>\n",
    "دقت کنید که تفاوت loc و iloc، تنها در حالتی است که دیتافریم، دارای نمایه‌های تعریف شده‌ای باشد. در غیر این صورت نام نمایه‌ها با شماره‌ی آن‌ها برابر است و برای آدرس دهی استفاده از هر دو تابع مشابه خواهد بود.\n",
    "    </font>\n",
    "</p>"
   ]
  },
  {
   "cell_type": "markdown",
   "id": "07e7f68c-2269-4f7e-aafe-d0c5142bff96",
   "metadata": {},
   "source": [
    "<br>\n",
    "<div dir=rtl id=\"start\" style=\"direction:rtl;line-height:200%;\">\n",
    "\t<font face=\"vazir\" size=6 color='Orange'>\n",
    "نمایه‌سازی با دیدگاه مبتنی بر آرایه‌ی دوبعدی\n",
    "    </font>\n",
    "</div>"
   ]
  },
  {
   "cell_type": "markdown",
   "id": "f9a9d218-e1d3-472a-abbf-09f884f7dad3",
   "metadata": {
    "id": "ZRjNvNoBmES8"
   },
   "source": [
    "<p dir=rtl style=\"direction: rtl;text-align: right;line-height:200%;font-family:vazir;font-size:medium\">\n",
    "<font face=\"vazir\" size=4>\n",
    "با مقداردهی دو تابع loc , iloc میتوانیم به یک عنصر یا بخشی از یک دیتافریم دسترسی پیدا کنیم.\n",
    "    </font>\n",
    "</p>"
   ]
  },
  {
   "cell_type": "markdown",
   "id": "7375fda0-edce-45cb-964a-4e87c1ad86f0",
   "metadata": {
    "id": "ZRjNvNoBmES8"
   },
   "source": [
    "<p dir=rtl style=\"direction: rtl;text-align: right;line-height:200%;font-family:vazir;font-size:medium\">\n",
    "<font face=\"vazir\" size=3 color='midnightblue'>\n",
    "    فراخوانی سطر شماره 2 و ستون شماره 3:\n",
    "    </font>\n",
    "</p>"
   ]
  },
  {
   "cell_type": "code",
   "execution_count": 58,
   "id": "ae249e66-cb0f-4212-87d7-728f4ee87668",
   "metadata": {},
   "outputs": [
    {
     "data": {
      "text/plain": [
       "105"
      ]
     },
     "execution_count": 58,
     "metadata": {},
     "output_type": "execute_result"
    }
   ],
   "source": [
    "df.iloc[2,3]"
   ]
  },
  {
   "cell_type": "markdown",
   "id": "7385c18d-f46b-44ba-8c57-c61e04305981",
   "metadata": {
    "id": "ZRjNvNoBmES8"
   },
   "source": [
    "<p dir=rtl style=\"direction: rtl;text-align: right;line-height:200%;font-family:vazir;font-size:medium\">\n",
    "<font face=\"vazir\" size=3 color='midnightblue'>\n",
    "    فراخوانی سطرهای شماره 2 و 3 ستونهای شماره 1 تا 3 (شامل خود 3 نمیشود):\n",
    "    </font>\n",
    "</p>"
   ]
  },
  {
   "cell_type": "code",
   "execution_count": 59,
   "id": "1a2b5292-193b-48fa-8e3c-e5493a8def9a",
   "metadata": {},
   "outputs": [
    {
     "data": {
      "text/html": [
       "<div>\n",
       "<style scoped>\n",
       "    .dataframe tbody tr th:only-of-type {\n",
       "        vertical-align: middle;\n",
       "    }\n",
       "\n",
       "    .dataframe tbody tr th {\n",
       "        vertical-align: top;\n",
       "    }\n",
       "\n",
       "    .dataframe thead th {\n",
       "        text-align: right;\n",
       "    }\n",
       "</style>\n",
       "<table border=\"1\" class=\"dataframe\">\n",
       "  <thead>\n",
       "    <tr style=\"text-align: right;\">\n",
       "      <th></th>\n",
       "      <th>HP</th>\n",
       "      <th>Weight (KG)</th>\n",
       "    </tr>\n",
       "  </thead>\n",
       "  <tbody>\n",
       "    <tr>\n",
       "      <th>Peugeot 206</th>\n",
       "      <td>105</td>\n",
       "      <td>1025</td>\n",
       "    </tr>\n",
       "    <tr>\n",
       "      <th>Tiba</th>\n",
       "      <td>87</td>\n",
       "      <td>1027</td>\n",
       "    </tr>\n",
       "  </tbody>\n",
       "</table>\n",
       "</div>"
      ],
      "text/plain": [
       "              HP  Weight (KG)\n",
       "Peugeot 206  105         1025\n",
       "Tiba          87         1027"
      ]
     },
     "execution_count": 59,
     "metadata": {},
     "output_type": "execute_result"
    }
   ],
   "source": [
    "df.iloc[[2,3], 1:3] "
   ]
  },
  {
   "cell_type": "markdown",
   "id": "b01e345d-39c1-4fd5-b594-c6353b380a55",
   "metadata": {
    "id": "ZRjNvNoBmES8"
   },
   "source": [
    "<p dir=rtl style=\"direction: rtl;text-align: right;line-height:200%;font-family:vazir;font-size:medium\">\n",
    "<font face=\"vazir\" size=3 color='midnightblue'>\n",
    "از سطر اول تا 2 تا مانده به آخر، 2 تا 2 تا:  \n",
    "    </font>\n",
    "</p>"
   ]
  },
  {
   "cell_type": "code",
   "execution_count": 60,
   "id": "fb64fe08-b24f-46f4-84bb-6ff7c6717666",
   "metadata": {},
   "outputs": [
    {
     "data": {
      "text/html": [
       "<div>\n",
       "<style scoped>\n",
       "    .dataframe tbody tr th:only-of-type {\n",
       "        vertical-align: middle;\n",
       "    }\n",
       "\n",
       "    .dataframe tbody tr th {\n",
       "        vertical-align: top;\n",
       "    }\n",
       "\n",
       "    .dataframe thead th {\n",
       "        text-align: right;\n",
       "    }\n",
       "</style>\n",
       "<table border=\"1\" class=\"dataframe\">\n",
       "  <thead>\n",
       "    <tr style=\"text-align: right;\">\n",
       "      <th></th>\n",
       "      <th>Color</th>\n",
       "      <th>HP</th>\n",
       "      <th>Weight (KG)</th>\n",
       "      <th>price</th>\n",
       "    </tr>\n",
       "  </thead>\n",
       "  <tbody>\n",
       "    <tr>\n",
       "      <th>Peykan</th>\n",
       "      <td>Red</td>\n",
       "      <td>48</td>\n",
       "      <td>990</td>\n",
       "      <td>33</td>\n",
       "    </tr>\n",
       "    <tr>\n",
       "      <th>Peugeot 206</th>\n",
       "      <td>Black</td>\n",
       "      <td>105</td>\n",
       "      <td>1025</td>\n",
       "      <td>105</td>\n",
       "    </tr>\n",
       "    <tr>\n",
       "      <th>Nissan Junior</th>\n",
       "      <td>Blue</td>\n",
       "      <td>93</td>\n",
       "      <td>1540</td>\n",
       "      <td>230</td>\n",
       "    </tr>\n",
       "  </tbody>\n",
       "</table>\n",
       "</div>"
      ],
      "text/plain": [
       "               Color   HP  Weight (KG)  price\n",
       "Peykan           Red   48          990     33\n",
       "Peugeot 206    Black  105         1025    105\n",
       "Nissan Junior   Blue   93         1540    230"
      ]
     },
     "execution_count": 60,
     "metadata": {},
     "output_type": "execute_result"
    }
   ],
   "source": [
    "df.iloc[:-2:2]"
   ]
  },
  {
   "cell_type": "markdown",
   "id": "2a42a814-b3ee-4bda-af85-0b4127146d1c",
   "metadata": {
    "id": "ZRjNvNoBmES8"
   },
   "source": [
    "<p dir=rtl style=\"direction: rtl;text-align: right;line-height:200%;font-family:vazir;font-size:medium\">\n",
    "<font face=\"vazir\" size=3 color='midnightblue'>\n",
    "ردیف Tiba و ستون price:  \n",
    "    </font>\n",
    "</p>"
   ]
  },
  {
   "cell_type": "code",
   "execution_count": 61,
   "id": "ffb00775-8150-4b56-a035-5f2f9cce29a2",
   "metadata": {},
   "outputs": [
    {
     "data": {
      "text/plain": [
       "120"
      ]
     },
     "execution_count": 61,
     "metadata": {},
     "output_type": "execute_result"
    }
   ],
   "source": [
    "df.loc['Tiba','price']"
   ]
  },
  {
   "cell_type": "markdown",
   "id": "e56f48d1-a3e9-4fd4-aa35-0d59bb96230d",
   "metadata": {
    "id": "ZRjNvNoBmES8"
   },
   "source": [
    "<p dir=rtl style=\"direction: rtl;text-align: right;line-height:200%;font-family:vazir;font-size:medium\">\n",
    "<font face=\"vazir\" size=3 color='midnightblue'>\n",
    "سطر Tiba و Peugeot 206، ستون HP تا price: \n",
    "    </font>\n",
    "</p>"
   ]
  },
  {
   "cell_type": "code",
   "execution_count": 62,
   "id": "f519b2ee-7aea-436c-ac83-2a40a5b5d565",
   "metadata": {},
   "outputs": [
    {
     "data": {
      "text/html": [
       "<div>\n",
       "<style scoped>\n",
       "    .dataframe tbody tr th:only-of-type {\n",
       "        vertical-align: middle;\n",
       "    }\n",
       "\n",
       "    .dataframe tbody tr th {\n",
       "        vertical-align: top;\n",
       "    }\n",
       "\n",
       "    .dataframe thead th {\n",
       "        text-align: right;\n",
       "    }\n",
       "</style>\n",
       "<table border=\"1\" class=\"dataframe\">\n",
       "  <thead>\n",
       "    <tr style=\"text-align: right;\">\n",
       "      <th></th>\n",
       "      <th>HP</th>\n",
       "      <th>Weight (KG)</th>\n",
       "      <th>price</th>\n",
       "    </tr>\n",
       "  </thead>\n",
       "  <tbody>\n",
       "    <tr>\n",
       "      <th>Peugeot 206</th>\n",
       "      <td>105</td>\n",
       "      <td>1025</td>\n",
       "      <td>105</td>\n",
       "    </tr>\n",
       "    <tr>\n",
       "      <th>Tiba</th>\n",
       "      <td>87</td>\n",
       "      <td>1027</td>\n",
       "      <td>120</td>\n",
       "    </tr>\n",
       "  </tbody>\n",
       "</table>\n",
       "</div>"
      ],
      "text/plain": [
       "              HP  Weight (KG)  price\n",
       "Peugeot 206  105         1025    105\n",
       "Tiba          87         1027    120"
      ]
     },
     "execution_count": 62,
     "metadata": {},
     "output_type": "execute_result"
    }
   ],
   "source": [
    "df.loc[[\"Peugeot 206\",\"Tiba\"] , \"HP\":\"price\"]"
   ]
  },
  {
   "cell_type": "markdown",
   "id": "dc3cb38a-fc70-4b87-83a5-fae07ef8221b",
   "metadata": {
    "id": "ZRjNvNoBmES8"
   },
   "source": [
    "<p dir=rtl style=\"direction: rtl;text-align: right;line-height:200%;font-family:vazir;font-size:medium\">\n",
    "<font face=\"vazir\" size=3 color='midnightblue'>\n",
    "* در حالت iloc از 1:3، خود ستون سوم شامل نمیشود. ولی در حالت loc[ , \"HP\":\"price\"]، ستون price شامل میشود.\n",
    "    </font>\n",
    "</p>"
   ]
  },
  {
   "cell_type": "markdown",
   "id": "eb40fd7f-6fdb-406e-8bee-b74fd5fb822c",
   "metadata": {},
   "source": [
    "<br>\n",
    "<div dir=rtl id=\"start\" style=\"direction:rtl;line-height:200%;\">\n",
    "\t<font face=\"vazir\" size=6 color='Orange'>\n",
    "اعمال تغییرات روی دیتافریم\n",
    "    </font>\n",
    "</div>"
   ]
  },
  {
   "cell_type": "markdown",
   "id": "088f1d6f-3ccc-4adb-98a5-725796146ef5",
   "metadata": {
    "id": "ZRjNvNoBmES8"
   },
   "source": [
    "<p dir=rtl style=\"direction: rtl;text-align: right;line-height:200%;font-family:vazir;font-size:medium\">\n",
    "<font face=\"vazir\" size=4>\n",
    "برای تغییر نام ستونها از دستور df.rename استفاده میکنیم. اگر بخواهیم دیتافریم جدید جایگزین اولی شود، پارامتر inplace را برابر True قرار میدهیم.\n",
    "    </font>\n",
    "</p>"
   ]
  },
  {
   "cell_type": "code",
   "execution_count": 63,
   "id": "be32678e-b17c-4f84-a9fc-69f83d2df043",
   "metadata": {},
   "outputs": [
    {
     "data": {
      "text/html": [
       "<div>\n",
       "<style scoped>\n",
       "    .dataframe tbody tr th:only-of-type {\n",
       "        vertical-align: middle;\n",
       "    }\n",
       "\n",
       "    .dataframe tbody tr th {\n",
       "        vertical-align: top;\n",
       "    }\n",
       "\n",
       "    .dataframe thead th {\n",
       "        text-align: right;\n",
       "    }\n",
       "</style>\n",
       "<table border=\"1\" class=\"dataframe\">\n",
       "  <thead>\n",
       "    <tr style=\"text-align: right;\">\n",
       "      <th></th>\n",
       "      <th>model</th>\n",
       "      <th>Car_Color</th>\n",
       "      <th>HP</th>\n",
       "      <th>Weight (KG)</th>\n",
       "      <th>Car Price</th>\n",
       "    </tr>\n",
       "  </thead>\n",
       "  <tbody>\n",
       "    <tr>\n",
       "      <th>a</th>\n",
       "      <td>Peykan</td>\n",
       "      <td>Red</td>\n",
       "      <td>48</td>\n",
       "      <td>990</td>\n",
       "      <td>33</td>\n",
       "    </tr>\n",
       "    <tr>\n",
       "      <th>b</th>\n",
       "      <td>BMW X6</td>\n",
       "      <td>White</td>\n",
       "      <td>335</td>\n",
       "      <td>2320</td>\n",
       "      <td>2400</td>\n",
       "    </tr>\n",
       "    <tr>\n",
       "      <th>c</th>\n",
       "      <td>Peugeot 206</td>\n",
       "      <td>Black</td>\n",
       "      <td>105</td>\n",
       "      <td>1025</td>\n",
       "      <td>105</td>\n",
       "    </tr>\n",
       "    <tr>\n",
       "      <th>d</th>\n",
       "      <td>Tiba</td>\n",
       "      <td>White</td>\n",
       "      <td>87</td>\n",
       "      <td>1027</td>\n",
       "      <td>120</td>\n",
       "    </tr>\n",
       "    <tr>\n",
       "      <th>e</th>\n",
       "      <td>Nissan Junior</td>\n",
       "      <td>Blue</td>\n",
       "      <td>93</td>\n",
       "      <td>1540</td>\n",
       "      <td>230</td>\n",
       "    </tr>\n",
       "    <tr>\n",
       "      <th>f</th>\n",
       "      <td>Nissan Junior</td>\n",
       "      <td>Red</td>\n",
       "      <td>93</td>\n",
       "      <td>1540</td>\n",
       "      <td>186</td>\n",
       "    </tr>\n",
       "    <tr>\n",
       "      <th>g</th>\n",
       "      <td>renault 5</td>\n",
       "      <td>Silver</td>\n",
       "      <td>48</td>\n",
       "      <td>850</td>\n",
       "      <td>38</td>\n",
       "    </tr>\n",
       "  </tbody>\n",
       "</table>\n",
       "</div>"
      ],
      "text/plain": [
       "           model Car_Color   HP  Weight (KG)  Car Price\n",
       "a         Peykan       Red   48          990         33\n",
       "b         BMW X6     White  335         2320       2400\n",
       "c    Peugeot 206     Black  105         1025        105\n",
       "d           Tiba     White   87         1027        120\n",
       "e  Nissan Junior      Blue   93         1540        230\n",
       "f  Nissan Junior       Red   93         1540        186\n",
       "g      renault 5    Silver   48          850         38"
      ]
     },
     "execution_count": 63,
     "metadata": {},
     "output_type": "execute_result"
    }
   ],
   "source": [
    "df2.rename(columns={'price':'Car Price','Color':'Car_Color'}, inplace=True)\n",
    "df2"
   ]
  },
  {
   "cell_type": "markdown",
   "id": "13ea587a-c511-4f33-878f-a3b1db751a72",
   "metadata": {
    "id": "ZRjNvNoBmES8"
   },
   "source": [
    "<p dir=rtl style=\"direction: rtl;text-align: right;line-height:200%;font-family:vazir;font-size:medium\">\n",
    "<font face=\"vazir\" size=4>\n",
    "برای اضافه کردن یک ستون جدید به دیتافریم، آن را داخل [] قرار میدهیم.\n",
    "    </font>\n",
    "</p>"
   ]
  },
  {
   "cell_type": "code",
   "execution_count": 64,
   "id": "02316bc7-edc5-4d43-ae31-e961d66cddf1",
   "metadata": {},
   "outputs": [
    {
     "data": {
      "text/html": [
       "<div>\n",
       "<style scoped>\n",
       "    .dataframe tbody tr th:only-of-type {\n",
       "        vertical-align: middle;\n",
       "    }\n",
       "\n",
       "    .dataframe tbody tr th {\n",
       "        vertical-align: top;\n",
       "    }\n",
       "\n",
       "    .dataframe thead th {\n",
       "        text-align: right;\n",
       "    }\n",
       "</style>\n",
       "<table border=\"1\" class=\"dataframe\">\n",
       "  <thead>\n",
       "    <tr style=\"text-align: right;\">\n",
       "      <th></th>\n",
       "      <th>model</th>\n",
       "      <th>Car_Color</th>\n",
       "      <th>HP</th>\n",
       "      <th>Weight (KG)</th>\n",
       "      <th>Car Price</th>\n",
       "      <th>new column</th>\n",
       "    </tr>\n",
       "  </thead>\n",
       "  <tbody>\n",
       "    <tr>\n",
       "      <th>a</th>\n",
       "      <td>Peykan</td>\n",
       "      <td>Red</td>\n",
       "      <td>48</td>\n",
       "      <td>990</td>\n",
       "      <td>33</td>\n",
       "      <td>33000</td>\n",
       "    </tr>\n",
       "    <tr>\n",
       "      <th>b</th>\n",
       "      <td>BMW X6</td>\n",
       "      <td>White</td>\n",
       "      <td>335</td>\n",
       "      <td>2320</td>\n",
       "      <td>2400</td>\n",
       "      <td>2400000</td>\n",
       "    </tr>\n",
       "    <tr>\n",
       "      <th>c</th>\n",
       "      <td>Peugeot 206</td>\n",
       "      <td>Black</td>\n",
       "      <td>105</td>\n",
       "      <td>1025</td>\n",
       "      <td>105</td>\n",
       "      <td>105000</td>\n",
       "    </tr>\n",
       "    <tr>\n",
       "      <th>d</th>\n",
       "      <td>Tiba</td>\n",
       "      <td>White</td>\n",
       "      <td>87</td>\n",
       "      <td>1027</td>\n",
       "      <td>120</td>\n",
       "      <td>120000</td>\n",
       "    </tr>\n",
       "    <tr>\n",
       "      <th>e</th>\n",
       "      <td>Nissan Junior</td>\n",
       "      <td>Blue</td>\n",
       "      <td>93</td>\n",
       "      <td>1540</td>\n",
       "      <td>230</td>\n",
       "      <td>230000</td>\n",
       "    </tr>\n",
       "    <tr>\n",
       "      <th>f</th>\n",
       "      <td>Nissan Junior</td>\n",
       "      <td>Red</td>\n",
       "      <td>93</td>\n",
       "      <td>1540</td>\n",
       "      <td>186</td>\n",
       "      <td>186000</td>\n",
       "    </tr>\n",
       "    <tr>\n",
       "      <th>g</th>\n",
       "      <td>renault 5</td>\n",
       "      <td>Silver</td>\n",
       "      <td>48</td>\n",
       "      <td>850</td>\n",
       "      <td>38</td>\n",
       "      <td>38000</td>\n",
       "    </tr>\n",
       "  </tbody>\n",
       "</table>\n",
       "</div>"
      ],
      "text/plain": [
       "           model Car_Color   HP  Weight (KG)  Car Price  new column\n",
       "a         Peykan       Red   48          990         33       33000\n",
       "b         BMW X6     White  335         2320       2400     2400000\n",
       "c    Peugeot 206     Black  105         1025        105      105000\n",
       "d           Tiba     White   87         1027        120      120000\n",
       "e  Nissan Junior      Blue   93         1540        230      230000\n",
       "f  Nissan Junior       Red   93         1540        186      186000\n",
       "g      renault 5    Silver   48          850         38       38000"
      ]
     },
     "execution_count": 64,
     "metadata": {},
     "output_type": "execute_result"
    }
   ],
   "source": [
    "df2['new column']=df2['Car Price']*1000\n",
    "df2"
   ]
  },
  {
   "cell_type": "markdown",
   "id": "50aeab0e-badd-4032-8693-c4a739ed3f7c",
   "metadata": {
    "id": "ZRjNvNoBmES8"
   },
   "source": [
    "<p dir=rtl style=\"direction: rtl;text-align: right;line-height:200%;font-family:vazir;font-size:medium\">\n",
    "<font face=\"vazir\" size=4>\n",
    "برای جایگزینی یک کاراکتر با یک کاراکتر دیگر در نام ستونها از دستور replace استفاده میکنیم.\n",
    "    </font>\n",
    "</p>"
   ]
  },
  {
   "cell_type": "code",
   "execution_count": 65,
   "id": "46b9cb05-4470-4d8e-8f83-dfa92021cacf",
   "metadata": {},
   "outputs": [
    {
     "data": {
      "text/html": [
       "<div>\n",
       "<style scoped>\n",
       "    .dataframe tbody tr th:only-of-type {\n",
       "        vertical-align: middle;\n",
       "    }\n",
       "\n",
       "    .dataframe tbody tr th {\n",
       "        vertical-align: top;\n",
       "    }\n",
       "\n",
       "    .dataframe thead th {\n",
       "        text-align: right;\n",
       "    }\n",
       "</style>\n",
       "<table border=\"1\" class=\"dataframe\">\n",
       "  <thead>\n",
       "    <tr style=\"text-align: right;\">\n",
       "      <th></th>\n",
       "      <th>model</th>\n",
       "      <th>Car_Color</th>\n",
       "      <th>HP</th>\n",
       "      <th>Weight (KG)</th>\n",
       "      <th>Car Price</th>\n",
       "      <th>new column</th>\n",
       "    </tr>\n",
       "  </thead>\n",
       "  <tbody>\n",
       "    <tr>\n",
       "      <th>a</th>\n",
       "      <td>Peykan</td>\n",
       "      <td>Red</td>\n",
       "      <td>48</td>\n",
       "      <td>990</td>\n",
       "      <td>33</td>\n",
       "      <td>33000</td>\n",
       "    </tr>\n",
       "    <tr>\n",
       "      <th>b</th>\n",
       "      <td>BMW X6</td>\n",
       "      <td>White</td>\n",
       "      <td>335</td>\n",
       "      <td>2320</td>\n",
       "      <td>2400</td>\n",
       "      <td>2400000</td>\n",
       "    </tr>\n",
       "    <tr>\n",
       "      <th>c</th>\n",
       "      <td>Peugeot 206</td>\n",
       "      <td>Black</td>\n",
       "      <td>105</td>\n",
       "      <td>1025</td>\n",
       "      <td>105</td>\n",
       "      <td>105000</td>\n",
       "    </tr>\n",
       "    <tr>\n",
       "      <th>d</th>\n",
       "      <td>Tiba</td>\n",
       "      <td>White</td>\n",
       "      <td>87</td>\n",
       "      <td>1027</td>\n",
       "      <td>120</td>\n",
       "      <td>120000</td>\n",
       "    </tr>\n",
       "    <tr>\n",
       "      <th>e</th>\n",
       "      <td>Nissan Junior</td>\n",
       "      <td>Blue</td>\n",
       "      <td>93</td>\n",
       "      <td>1540</td>\n",
       "      <td>230</td>\n",
       "      <td>230000</td>\n",
       "    </tr>\n",
       "    <tr>\n",
       "      <th>f</th>\n",
       "      <td>Nissan Junior</td>\n",
       "      <td>Red</td>\n",
       "      <td>93</td>\n",
       "      <td>1540</td>\n",
       "      <td>186</td>\n",
       "      <td>186000</td>\n",
       "    </tr>\n",
       "    <tr>\n",
       "      <th>g</th>\n",
       "      <td>renault 5</td>\n",
       "      <td>Silver</td>\n",
       "      <td>48</td>\n",
       "      <td>850</td>\n",
       "      <td>38</td>\n",
       "      <td>38000</td>\n",
       "    </tr>\n",
       "  </tbody>\n",
       "</table>\n",
       "</div>"
      ],
      "text/plain": [
       "           model Car_Color   HP  Weight (KG)  Car Price  new column\n",
       "a         Peykan       Red   48          990         33       33000\n",
       "b         BMW X6     White  335         2320       2400     2400000\n",
       "c    Peugeot 206     Black  105         1025        105      105000\n",
       "d           Tiba     White   87         1027        120      120000\n",
       "e  Nissan Junior      Blue   93         1540        230      230000\n",
       "f  Nissan Junior       Red   93         1540        186      186000\n",
       "g      renault 5    Silver   48          850         38       38000"
      ]
     },
     "execution_count": 65,
     "metadata": {},
     "output_type": "execute_result"
    }
   ],
   "source": [
    "df2.columns.str.replace(' ','-')\n",
    "df2"
   ]
  },
  {
   "cell_type": "markdown",
   "id": "e30a8ef2-d43a-48a0-a1ef-896095a42fc2",
   "metadata": {
    "id": "ZRjNvNoBmES8"
   },
   "source": [
    "<p dir=rtl style=\"direction: rtl;text-align: right;line-height:200%;font-family:vazir;font-size:medium\">\n",
    "<font face=\"vazir\" size=4>\n",
    "برای حذف سطرهایی با شرط خاص و نگه داشتن بقیه سطرهای دیتافریم از ~ استفاده میکنیم.\n",
    "    <br>\n",
    "    مثلا برای حذف سطرهایی که حرف R را در ستون Color دارند و نگه داشتن بقیه سطرها:  \n",
    "    </font>\n",
    "</p>"
   ]
  },
  {
   "cell_type": "code",
   "execution_count": 66,
   "id": "497d25f3-6c23-4efd-95df-c372fd683c24",
   "metadata": {},
   "outputs": [
    {
     "data": {
      "text/html": [
       "<div>\n",
       "<style scoped>\n",
       "    .dataframe tbody tr th:only-of-type {\n",
       "        vertical-align: middle;\n",
       "    }\n",
       "\n",
       "    .dataframe tbody tr th {\n",
       "        vertical-align: top;\n",
       "    }\n",
       "\n",
       "    .dataframe thead th {\n",
       "        text-align: right;\n",
       "    }\n",
       "</style>\n",
       "<table border=\"1\" class=\"dataframe\">\n",
       "  <thead>\n",
       "    <tr style=\"text-align: right;\">\n",
       "      <th></th>\n",
       "      <th>Color</th>\n",
       "      <th>HP</th>\n",
       "      <th>Weight (KG)</th>\n",
       "      <th>price</th>\n",
       "    </tr>\n",
       "  </thead>\n",
       "  <tbody>\n",
       "    <tr>\n",
       "      <th>BMW X6</th>\n",
       "      <td>White</td>\n",
       "      <td>335</td>\n",
       "      <td>2320</td>\n",
       "      <td>2400</td>\n",
       "    </tr>\n",
       "    <tr>\n",
       "      <th>Peugeot 206</th>\n",
       "      <td>Black</td>\n",
       "      <td>105</td>\n",
       "      <td>1025</td>\n",
       "      <td>105</td>\n",
       "    </tr>\n",
       "    <tr>\n",
       "      <th>Tiba</th>\n",
       "      <td>White</td>\n",
       "      <td>87</td>\n",
       "      <td>1027</td>\n",
       "      <td>120</td>\n",
       "    </tr>\n",
       "    <tr>\n",
       "      <th>Nissan Junior</th>\n",
       "      <td>Blue</td>\n",
       "      <td>93</td>\n",
       "      <td>1540</td>\n",
       "      <td>230</td>\n",
       "    </tr>\n",
       "    <tr>\n",
       "      <th>renault 5</th>\n",
       "      <td>Silver</td>\n",
       "      <td>48</td>\n",
       "      <td>850</td>\n",
       "      <td>38</td>\n",
       "    </tr>\n",
       "  </tbody>\n",
       "</table>\n",
       "</div>"
      ],
      "text/plain": [
       "                Color   HP  Weight (KG)  price\n",
       "BMW X6          White  335         2320   2400\n",
       "Peugeot 206     Black  105         1025    105\n",
       "Tiba            White   87         1027    120\n",
       "Nissan Junior    Blue   93         1540    230\n",
       "renault 5      Silver   48          850     38"
      ]
     },
     "execution_count": 66,
     "metadata": {},
     "output_type": "execute_result"
    }
   ],
   "source": [
    "no_R_df = df[~df['Color'].str.contains('R',na=False)]\n",
    "no_R_df"
   ]
  },
  {
   "cell_type": "markdown",
   "id": "03217fa5-dc52-40df-8dcc-fe18bf279e09",
   "metadata": {},
   "source": [
    "<br>\n",
    "<div dir=rtl id=\"start\" style=\"direction:rtl;line-height:200%;\">\n",
    "\t<font face=\"vazir\" size=7 color='Red'>\n",
    "انتخاب شرطی\n",
    "    </font>\n",
    "</div>"
   ]
  },
  {
   "cell_type": "markdown",
   "id": "43a4cfe1-ea64-4132-8c56-7aa80147579d",
   "metadata": {
    "id": "ZRjNvNoBmES8"
   },
   "source": [
    "<p dir=rtl style=\"direction: rtl;text-align: right;line-height:200%;font-family:vazir;font-size:medium\">\n",
    "<font face=\"vazir\" size=4>\n",
    "با کمک برخی ویژگیها و توابع میتوانیم بخشی از یک دیتافریم را فیلتر کنیم. مثلا با دستور df.name>x اینکه مقادیر یک ستون از عدد x  بزرگتر است را بررسی می کنیم. \n",
    "    </font>\n",
    "</p>"
   ]
  },
  {
   "cell_type": "code",
   "execution_count": 67,
   "id": "3a5cd652-34bb-4e99-86cd-13cd034d71d4",
   "metadata": {},
   "outputs": [
    {
     "data": {
      "text/plain": [
       "Peykan           False\n",
       "BMW X6            True\n",
       "Peugeot 206      False\n",
       "Tiba              True\n",
       "Nissan Junior     True\n",
       "Peykan Vanet     False\n",
       "renault 5        False\n",
       "Name: price, dtype: bool"
      ]
     },
     "execution_count": 67,
     "metadata": {},
     "output_type": "execute_result"
    }
   ],
   "source": [
    "df.price > 110"
   ]
  },
  {
   "cell_type": "markdown",
   "id": "5c723640-c18f-448a-b961-dae595abd27b",
   "metadata": {
    "id": "ZRjNvNoBmES8"
   },
   "source": [
    "<p dir=rtl style=\"direction: rtl;text-align: right;line-height:200%;font-family:vazir;font-size:medium\">\n",
    "<font face=\"vazir\" size=4>\n",
    "با دستور df[df.name>x] کل دیتافریم را فیلتر میکنیم و بخشی از دیتافریم که این ویژگی را دارد به ما میدهد.\n",
    "    </font>\n",
    "</p>"
   ]
  },
  {
   "cell_type": "code",
   "execution_count": 68,
   "id": "75448c26-44e4-4181-898b-53e200fbf643",
   "metadata": {},
   "outputs": [
    {
     "data": {
      "text/html": [
       "<div>\n",
       "<style scoped>\n",
       "    .dataframe tbody tr th:only-of-type {\n",
       "        vertical-align: middle;\n",
       "    }\n",
       "\n",
       "    .dataframe tbody tr th {\n",
       "        vertical-align: top;\n",
       "    }\n",
       "\n",
       "    .dataframe thead th {\n",
       "        text-align: right;\n",
       "    }\n",
       "</style>\n",
       "<table border=\"1\" class=\"dataframe\">\n",
       "  <thead>\n",
       "    <tr style=\"text-align: right;\">\n",
       "      <th></th>\n",
       "      <th>Color</th>\n",
       "      <th>HP</th>\n",
       "      <th>Weight (KG)</th>\n",
       "      <th>price</th>\n",
       "    </tr>\n",
       "  </thead>\n",
       "  <tbody>\n",
       "    <tr>\n",
       "      <th>BMW X6</th>\n",
       "      <td>White</td>\n",
       "      <td>335</td>\n",
       "      <td>2320</td>\n",
       "      <td>2400</td>\n",
       "    </tr>\n",
       "    <tr>\n",
       "      <th>Tiba</th>\n",
       "      <td>White</td>\n",
       "      <td>87</td>\n",
       "      <td>1027</td>\n",
       "      <td>120</td>\n",
       "    </tr>\n",
       "    <tr>\n",
       "      <th>Nissan Junior</th>\n",
       "      <td>Blue</td>\n",
       "      <td>93</td>\n",
       "      <td>1540</td>\n",
       "      <td>230</td>\n",
       "    </tr>\n",
       "  </tbody>\n",
       "</table>\n",
       "</div>"
      ],
      "text/plain": [
       "               Color   HP  Weight (KG)  price\n",
       "BMW X6         White  335         2320   2400\n",
       "Tiba           White   87         1027    120\n",
       "Nissan Junior   Blue   93         1540    230"
      ]
     },
     "execution_count": 68,
     "metadata": {},
     "output_type": "execute_result"
    }
   ],
   "source": [
    "df[df.price > 110]"
   ]
  },
  {
   "cell_type": "markdown",
   "id": "658ae9b9-60c3-49c2-908e-3406b4b7d0cc",
   "metadata": {},
   "source": [
    "<img src='./2.pandas_file/03.jpg'/>"
   ]
  },
  {
   "cell_type": "markdown",
   "id": "5899a4c4-0a17-42c8-a1ca-808f3ce6e706",
   "metadata": {},
   "source": [
    "<br>\n",
    "<div dir=rtl id=\"start\" style=\"direction:rtl;line-height:200%;\">\n",
    "\t<font face=\"vazir\" size=6 color='Orange'>\n",
    "عملیات منطق بولی\n",
    "    </font>\n",
    "</div>"
   ]
  },
  {
   "cell_type": "markdown",
   "id": "ad5bc0cb-72ae-459c-b833-09ec6f3b04db",
   "metadata": {
    "id": "ZRjNvNoBmES8"
   },
   "source": [
    "<p dir=rtl style=\"direction: rtl;text-align: right;line-height:200%;font-family:vazir;font-size:medium\">\n",
    "<font face=\"vazir\" size=4>\n",
    "میتوان برای دو ستون شرط گذاشت. با وی بیتی یا یای بیتی.\n",
    "    </font>\n",
    "</p>"
   ]
  },
  {
   "cell_type": "code",
   "execution_count": 69,
   "id": "272f7059-b0dd-4fe8-8f99-f53b9b09989a",
   "metadata": {},
   "outputs": [
    {
     "data": {
      "text/html": [
       "<div>\n",
       "<style scoped>\n",
       "    .dataframe tbody tr th:only-of-type {\n",
       "        vertical-align: middle;\n",
       "    }\n",
       "\n",
       "    .dataframe tbody tr th {\n",
       "        vertical-align: top;\n",
       "    }\n",
       "\n",
       "    .dataframe thead th {\n",
       "        text-align: right;\n",
       "    }\n",
       "</style>\n",
       "<table border=\"1\" class=\"dataframe\">\n",
       "  <thead>\n",
       "    <tr style=\"text-align: right;\">\n",
       "      <th></th>\n",
       "      <th>Color</th>\n",
       "      <th>HP</th>\n",
       "      <th>Weight (KG)</th>\n",
       "      <th>price</th>\n",
       "    </tr>\n",
       "  </thead>\n",
       "  <tbody>\n",
       "    <tr>\n",
       "      <th>Peykan</th>\n",
       "      <td>Red</td>\n",
       "      <td>48</td>\n",
       "      <td>990</td>\n",
       "      <td>33</td>\n",
       "    </tr>\n",
       "  </tbody>\n",
       "</table>\n",
       "</div>"
      ],
      "text/plain": [
       "       Color  HP  Weight (KG)  price\n",
       "Peykan   Red  48          990     33"
      ]
     },
     "execution_count": 69,
     "metadata": {},
     "output_type": "execute_result"
    }
   ],
   "source": [
    "df[ (df.Color == \"Red\") & (df.price < 50)]"
   ]
  },
  {
   "cell_type": "markdown",
   "id": "0edf005c-bbd8-4e14-baf9-59705663f44d",
   "metadata": {
    "id": "ZRjNvNoBmES8"
   },
   "source": [
    "<p dir=rtl style=\"direction: rtl;text-align: right;line-height:200%;font-family:vazir;font-size:medium\">\n",
    "<font face=\"vazir\" size=3 color='midnightblue'>\n",
    "میتوانیم شرطهای مختلف را با عنوان condition ذخیره کنیم و با فیلترهای متفاوت استفاده کنیم. حتما هنگام شرط گذاری باید به پرانتزها دقت شود.\n",
    "    </font>\n",
    "</p>"
   ]
  },
  {
   "cell_type": "code",
   "execution_count": 70,
   "id": "d231f304-e31e-44dc-b4f5-6aaa7a01a046",
   "metadata": {},
   "outputs": [],
   "source": [
    "condition_1 = df.Color == \"Red\"\n",
    "condition_2 = df.Color == \"White\"\n",
    "condition_3 = df.HP < 100"
   ]
  },
  {
   "cell_type": "markdown",
   "id": "67f559d2-3fba-472c-bf47-b77390d1db3d",
   "metadata": {
    "id": "ZRjNvNoBmES8"
   },
   "source": [
    "<p dir=rtl style=\"direction: rtl;text-align: right;line-height:200%;font-family:vazir;font-size:medium\">\n",
    "<font face=\"vazir\" size=3 color='midnightblue'>\n",
    "شرط اول را داشته باشد یا شرط 2 و 3 همزمان:\n",
    "    </font>\n",
    "</p>"
   ]
  },
  {
   "cell_type": "code",
   "execution_count": 71,
   "id": "1e4000e3-a926-4fbc-bddf-a530cfc01fe0",
   "metadata": {},
   "outputs": [
    {
     "data": {
      "text/html": [
       "<div>\n",
       "<style scoped>\n",
       "    .dataframe tbody tr th:only-of-type {\n",
       "        vertical-align: middle;\n",
       "    }\n",
       "\n",
       "    .dataframe tbody tr th {\n",
       "        vertical-align: top;\n",
       "    }\n",
       "\n",
       "    .dataframe thead th {\n",
       "        text-align: right;\n",
       "    }\n",
       "</style>\n",
       "<table border=\"1\" class=\"dataframe\">\n",
       "  <thead>\n",
       "    <tr style=\"text-align: right;\">\n",
       "      <th></th>\n",
       "      <th>Color</th>\n",
       "      <th>HP</th>\n",
       "      <th>Weight (KG)</th>\n",
       "      <th>price</th>\n",
       "    </tr>\n",
       "  </thead>\n",
       "  <tbody>\n",
       "    <tr>\n",
       "      <th>Peykan</th>\n",
       "      <td>Red</td>\n",
       "      <td>48</td>\n",
       "      <td>990</td>\n",
       "      <td>33</td>\n",
       "    </tr>\n",
       "    <tr>\n",
       "      <th>Tiba</th>\n",
       "      <td>White</td>\n",
       "      <td>87</td>\n",
       "      <td>1027</td>\n",
       "      <td>120</td>\n",
       "    </tr>\n",
       "    <tr>\n",
       "      <th>Peykan Vanet</th>\n",
       "      <td>Red</td>\n",
       "      <td>80</td>\n",
       "      <td>960</td>\n",
       "      <td>68</td>\n",
       "    </tr>\n",
       "  </tbody>\n",
       "</table>\n",
       "</div>"
      ],
      "text/plain": [
       "              Color  HP  Weight (KG)  price\n",
       "Peykan          Red  48          990     33\n",
       "Tiba          White  87         1027    120\n",
       "Peykan Vanet    Red  80          960     68"
      ]
     },
     "execution_count": 71,
     "metadata": {},
     "output_type": "execute_result"
    }
   ],
   "source": [
    "df[(condition_1) | ((condition_2) & condition_3)]"
   ]
  },
  {
   "cell_type": "markdown",
   "id": "e242f25a-1da5-428b-8d1e-52210b52876a",
   "metadata": {
    "id": "ZRjNvNoBmES8"
   },
   "source": [
    "<p dir=rtl style=\"direction: rtl;text-align: right;line-height:200%;font-family:vazir;font-size:medium\">\n",
    "<font face=\"vazir\" size=4>\n",
    "* برای اضافه کردن یک ستون با شرایط و مقادیر خاص بر اساس ستونهای قبلی از دستور np.select(conditions,values) استفاده میکنیم و شرایط و مقادیر را به صورت لیست قرار میدهیم."
   ]
  },
  {
   "cell_type": "code",
   "execution_count": 72,
   "id": "245904c9-43db-44aa-9f16-5c25d201791e",
   "metadata": {},
   "outputs": [
    {
     "data": {
      "text/html": [
       "<div>\n",
       "<style scoped>\n",
       "    .dataframe tbody tr th:only-of-type {\n",
       "        vertical-align: middle;\n",
       "    }\n",
       "\n",
       "    .dataframe tbody tr th {\n",
       "        vertical-align: top;\n",
       "    }\n",
       "\n",
       "    .dataframe thead th {\n",
       "        text-align: right;\n",
       "    }\n",
       "</style>\n",
       "<table border=\"1\" class=\"dataframe\">\n",
       "  <thead>\n",
       "    <tr style=\"text-align: right;\">\n",
       "      <th></th>\n",
       "      <th>Color</th>\n",
       "      <th>HP</th>\n",
       "      <th>Weight (KG)</th>\n",
       "      <th>price</th>\n",
       "      <th>price_range</th>\n",
       "    </tr>\n",
       "  </thead>\n",
       "  <tbody>\n",
       "    <tr>\n",
       "      <th>Peykan</th>\n",
       "      <td>Red</td>\n",
       "      <td>48</td>\n",
       "      <td>990</td>\n",
       "      <td>33</td>\n",
       "      <td>&lt;100</td>\n",
       "    </tr>\n",
       "    <tr>\n",
       "      <th>BMW X6</th>\n",
       "      <td>White</td>\n",
       "      <td>335</td>\n",
       "      <td>2320</td>\n",
       "      <td>2400</td>\n",
       "      <td>&gt;=1000</td>\n",
       "    </tr>\n",
       "    <tr>\n",
       "      <th>Peugeot 206</th>\n",
       "      <td>Black</td>\n",
       "      <td>105</td>\n",
       "      <td>1025</td>\n",
       "      <td>105</td>\n",
       "      <td>100-1000</td>\n",
       "    </tr>\n",
       "    <tr>\n",
       "      <th>Tiba</th>\n",
       "      <td>White</td>\n",
       "      <td>87</td>\n",
       "      <td>1027</td>\n",
       "      <td>120</td>\n",
       "      <td>100-1000</td>\n",
       "    </tr>\n",
       "    <tr>\n",
       "      <th>Nissan Junior</th>\n",
       "      <td>Blue</td>\n",
       "      <td>93</td>\n",
       "      <td>1540</td>\n",
       "      <td>230</td>\n",
       "      <td>100-1000</td>\n",
       "    </tr>\n",
       "    <tr>\n",
       "      <th>Peykan Vanet</th>\n",
       "      <td>Red</td>\n",
       "      <td>80</td>\n",
       "      <td>960</td>\n",
       "      <td>68</td>\n",
       "      <td>&lt;100</td>\n",
       "    </tr>\n",
       "    <tr>\n",
       "      <th>renault 5</th>\n",
       "      <td>Silver</td>\n",
       "      <td>48</td>\n",
       "      <td>850</td>\n",
       "      <td>38</td>\n",
       "      <td>&lt;100</td>\n",
       "    </tr>\n",
       "  </tbody>\n",
       "</table>\n",
       "</div>"
      ],
      "text/plain": [
       "                Color   HP  Weight (KG)  price price_range\n",
       "Peykan            Red   48          990     33        <100\n",
       "BMW X6          White  335         2320   2400      >=1000\n",
       "Peugeot 206     Black  105         1025    105    100-1000\n",
       "Tiba            White   87         1027    120    100-1000\n",
       "Nissan Junior    Blue   93         1540    230    100-1000\n",
       "Peykan Vanet      Red   80          960     68        <100\n",
       "renault 5      Silver   48          850     38        <100"
      ]
     },
     "execution_count": 72,
     "metadata": {},
     "output_type": "execute_result"
    }
   ],
   "source": [
    "df['price_range']=np.select([(df['price']<100),\n",
    "                             (df['price']>=100) & (df['price']<1000),\n",
    "                             (df['price']>=1000)],\n",
    "                           ['<100', '100-1000', '>=1000'])\n",
    "df"
   ]
  },
  {
   "cell_type": "markdown",
   "id": "284d7c2f-b866-48b6-8bdf-a83b245ccd8e",
   "metadata": {},
   "source": [
    "<br>\n",
    "<div dir=rtl id=\"start\" style=\"direction:rtl;line-height:200%;\">\n",
    "\t<font face=\"vazir\" size=7 color='Red'>\n",
    "کار با فایل\n",
    "    </font>\n",
    "</div>"
   ]
  },
  {
   "cell_type": "markdown",
   "id": "fd7310a8-ee07-40dd-b8ff-31f635bf8a70",
   "metadata": {
    "id": "ZRjNvNoBmES8"
   },
   "source": [
    "<p dir=rtl style=\"direction: rtl;text-align: right;line-height:200%;font-family:vazir;font-size:medium\">\n",
    "<font face=\"vazir\" size=4>\n",
    "در دنیای واقعی، داده‌ها در فرمت‌های متفاوتی ذخیره شده‌اند و ما باید بتوانیم از ابزارهای گوناگونی استفاده کنیم تا به داده‌های بیشتری دست پیدا کنیم. قسمتی از داده‌ها در فضای وب توزیع شده‌اند؛ بخشی دیگر از داده‌ها را می‌توانیم از فایل‌های متنی بازیابی کنیم؛ داده‌های بسیار زیادی در پایگاه‌های داده (Databases) ذخیره شده‌اند و مقداری دیگر از داده‌ها به کمک APIها قابل دسترس هستند. \n",
    "    </font>\n",
    "</p>"
   ]
  },
  {
   "cell_type": "markdown",
   "id": "b11a20b9-db35-4bed-a1c6-68389443c269",
   "metadata": {},
   "source": [
    "<br>\n",
    "<div dir=rtl id=\"start\" style=\"direction:rtl;line-height:200%;\">\n",
    "\t<font face=\"vazir\" size=6 color='Orange'>\n",
    "خواندن از فایل CSV\n",
    "    </font>\n",
    "</div>"
   ]
  },
  {
   "cell_type": "markdown",
   "id": "16b2c400-5416-4985-9d5b-b09aac9c86bb",
   "metadata": {
    "id": "ZRjNvNoBmES8"
   },
   "source": [
    "<p dir=rtl style=\"direction: rtl;text-align: right;line-height:200%;font-family:vazir;font-size:medium\">\n",
    "<font face=\"vazir\" size=4>\n",
    "با تابع pd.read_csv('file_name') فایل csv را میخوانیم.\n",
    "    <br>\n",
    "    در این دستور فایلی که فراخوانی میکنیم باید در همان فولدری که برنامه قرار دارد باشد. اگر قبل از نام فایل ./ اضافه شود داخل همان فولدر میتوانیم نام یک فولدر دیگر را بدهیم. اگر فولدر حاوی فایل csv کنار برنامه نباشد با هر نقطه که پشت / اضافه میشود، یک فولدر به عقب برمیگردیم و میتوانیم آدرس فایل را به ترتیب بنویسیم.\n",
    "    </font>\n",
    "</p>"
   ]
  },
  {
   "cell_type": "code",
   "execution_count": 73,
   "id": "378991be-8e77-4a10-9599-36809f21f78c",
   "metadata": {},
   "outputs": [
    {
     "data": {
      "text/html": [
       "<div>\n",
       "<style scoped>\n",
       "    .dataframe tbody tr th:only-of-type {\n",
       "        vertical-align: middle;\n",
       "    }\n",
       "\n",
       "    .dataframe tbody tr th {\n",
       "        vertical-align: top;\n",
       "    }\n",
       "\n",
       "    .dataframe thead th {\n",
       "        text-align: right;\n",
       "    }\n",
       "</style>\n",
       "<table border=\"1\" class=\"dataframe\">\n",
       "  <thead>\n",
       "    <tr style=\"text-align: right;\">\n",
       "      <th></th>\n",
       "      <th>Race</th>\n",
       "      <th>Population (2020)</th>\n",
       "      <th>Percentage</th>\n",
       "    </tr>\n",
       "  </thead>\n",
       "  <tbody>\n",
       "    <tr>\n",
       "      <th>0</th>\n",
       "      <td>Total population</td>\n",
       "      <td>5706494</td>\n",
       "      <td>100%</td>\n",
       "    </tr>\n",
       "    <tr>\n",
       "      <th>1</th>\n",
       "      <td>White or European American</td>\n",
       "      <td>4423146</td>\n",
       "      <td>77.5%</td>\n",
       "    </tr>\n",
       "    <tr>\n",
       "      <th>2</th>\n",
       "      <td>Black or African American</td>\n",
       "      <td>398434</td>\n",
       "      <td>7.0%</td>\n",
       "    </tr>\n",
       "    <tr>\n",
       "      <th>3</th>\n",
       "      <td>Native American</td>\n",
       "      <td>68641</td>\n",
       "      <td>1.2%</td>\n",
       "    </tr>\n",
       "    <tr>\n",
       "      <th>4</th>\n",
       "      <td>Asian American</td>\n",
       "      <td>299190</td>\n",
       "      <td>5.2%</td>\n",
       "    </tr>\n",
       "    <tr>\n",
       "      <th>5</th>\n",
       "      <td>Native Hawaiian and Other Pacific Islander</td>\n",
       "      <td>2918</td>\n",
       "      <td>0.1%</td>\n",
       "    </tr>\n",
       "    <tr>\n",
       "      <th>6</th>\n",
       "      <td>Some other race</td>\n",
       "      <td>168444</td>\n",
       "      <td>3.0%</td>\n",
       "    </tr>\n",
       "    <tr>\n",
       "      <th>7</th>\n",
       "      <td>Two or more races</td>\n",
       "      <td>345721</td>\n",
       "      <td>6.1%</td>\n",
       "    </tr>\n",
       "  </tbody>\n",
       "</table>\n",
       "</div>"
      ],
      "text/plain": [
       "                                         Race  Population (2020) Percentage\n",
       "0                            Total population            5706494       100%\n",
       "1                  White or European American            4423146      77.5%\n",
       "2                   Black or African American             398434       7.0%\n",
       "3                             Native American              68641       1.2%\n",
       "4                              Asian American             299190       5.2%\n",
       "5  Native Hawaiian and Other Pacific Islander               2918       0.1%\n",
       "6                             Some other race             168444       3.0%\n",
       "7                           Two or more races             345721       6.1%"
      ]
     },
     "execution_count": 73,
     "metadata": {},
     "output_type": "execute_result"
    }
   ],
   "source": [
    "df = pd.read_csv('./2.pandas_file/population.csv')\n",
    "df"
   ]
  },
  {
   "cell_type": "markdown",
   "id": "65a8da64-0a36-4d68-8be4-70bb7137d741",
   "metadata": {
    "id": "ZRjNvNoBmES8"
   },
   "source": [
    "<p dir=rtl style=\"direction: rtl;text-align: right;line-height:200%;font-family:vazir;font-size:medium\">\n",
    "<font face=\"vazir\" size=4>\n",
    "به طور پیش فرض اعداد و اطلاعات در فایل csv با استفاده از کاما , از هم جدا شده اند. حال اگر کاما نبود باید با دستور sep مشخص کنیم که از کجا جدا کند و یتون جدید را برای ما بسازد.\n",
    "    <br>\n",
    "    مثلا اگر اطلاعات با ; جدا شده باشند:"
   ]
  },
  {
   "cell_type": "code",
   "execution_count": 74,
   "id": "822c6ef3-ebb0-44b2-9175-3922058f5126",
   "metadata": {},
   "outputs": [],
   "source": [
    "# df = pd.read_csv('./2.pandas_file/population.csv',sep=':')"
   ]
  },
  {
   "cell_type": "markdown",
   "id": "f24c18eb-fd86-419e-ae40-27675148dc30",
   "metadata": {
    "id": "ZRjNvNoBmES8"
   },
   "source": [
    "<p dir=rtl style=\"direction: rtl;text-align: right;line-height:200%;font-family:vazir;font-size:medium\">\n",
    "<font face=\"vazir\" size=4>\n",
    "میتوانیم برای ستونها با پارامتر names اسم گذاری کنیم. names یک لیست از اسامی ستون هاست و تعداد اسامی در این لیست باید با تعداد ستونها برابر باشد. اسامی در این لیست باید در ' ' قرار بگیرند. "
   ]
  },
  {
   "cell_type": "code",
   "execution_count": 75,
   "id": "d491f70f-a2ee-461f-926e-f327a0242139",
   "metadata": {},
   "outputs": [
    {
     "data": {
      "text/html": [
       "<div>\n",
       "<style scoped>\n",
       "    .dataframe tbody tr th:only-of-type {\n",
       "        vertical-align: middle;\n",
       "    }\n",
       "\n",
       "    .dataframe tbody tr th {\n",
       "        vertical-align: top;\n",
       "    }\n",
       "\n",
       "    .dataframe thead th {\n",
       "        text-align: right;\n",
       "    }\n",
       "</style>\n",
       "<table border=\"1\" class=\"dataframe\">\n",
       "  <thead>\n",
       "    <tr style=\"text-align: right;\">\n",
       "      <th></th>\n",
       "      <th>Race_e</th>\n",
       "      <th>Population (2020)_e</th>\n",
       "      <th>Percentage_e</th>\n",
       "    </tr>\n",
       "  </thead>\n",
       "  <tbody>\n",
       "    <tr>\n",
       "      <th>0</th>\n",
       "      <td>Race</td>\n",
       "      <td>Population (2020)</td>\n",
       "      <td>Percentage</td>\n",
       "    </tr>\n",
       "    <tr>\n",
       "      <th>1</th>\n",
       "      <td>Total population</td>\n",
       "      <td>5706494</td>\n",
       "      <td>100%</td>\n",
       "    </tr>\n",
       "    <tr>\n",
       "      <th>2</th>\n",
       "      <td>White or European American</td>\n",
       "      <td>4423146</td>\n",
       "      <td>77.5%</td>\n",
       "    </tr>\n",
       "    <tr>\n",
       "      <th>3</th>\n",
       "      <td>Black or African American</td>\n",
       "      <td>398434</td>\n",
       "      <td>7.0%</td>\n",
       "    </tr>\n",
       "    <tr>\n",
       "      <th>4</th>\n",
       "      <td>Native American</td>\n",
       "      <td>68641</td>\n",
       "      <td>1.2%</td>\n",
       "    </tr>\n",
       "    <tr>\n",
       "      <th>5</th>\n",
       "      <td>Asian American</td>\n",
       "      <td>299190</td>\n",
       "      <td>5.2%</td>\n",
       "    </tr>\n",
       "    <tr>\n",
       "      <th>6</th>\n",
       "      <td>Native Hawaiian and Other Pacific Islander</td>\n",
       "      <td>2918</td>\n",
       "      <td>0.1%</td>\n",
       "    </tr>\n",
       "    <tr>\n",
       "      <th>7</th>\n",
       "      <td>Some other race</td>\n",
       "      <td>168444</td>\n",
       "      <td>3.0%</td>\n",
       "    </tr>\n",
       "    <tr>\n",
       "      <th>8</th>\n",
       "      <td>Two or more races</td>\n",
       "      <td>345721</td>\n",
       "      <td>6.1%</td>\n",
       "    </tr>\n",
       "  </tbody>\n",
       "</table>\n",
       "</div>"
      ],
      "text/plain": [
       "                                       Race_e Population (2020)_e Percentage_e\n",
       "0                                        Race   Population (2020)   Percentage\n",
       "1                            Total population             5706494         100%\n",
       "2                  White or European American             4423146        77.5%\n",
       "3                   Black or African American              398434         7.0%\n",
       "4                             Native American               68641         1.2%\n",
       "5                              Asian American              299190         5.2%\n",
       "6  Native Hawaiian and Other Pacific Islander                2918         0.1%\n",
       "7                             Some other race              168444         3.0%\n",
       "8                           Two or more races              345721         6.1%"
      ]
     },
     "execution_count": 75,
     "metadata": {},
     "output_type": "execute_result"
    }
   ],
   "source": [
    "df = pd.read_csv('./2.pandas_file/population.csv', names=['Race_e','Population (2020)_e','Percentage_e'])\n",
    "df"
   ]
  },
  {
   "cell_type": "markdown",
   "id": "e43741cd-5bc9-4b59-9019-2f56711411af",
   "metadata": {
    "id": "ZRjNvNoBmES8"
   },
   "source": [
    "<p dir=rtl style=\"direction: rtl;text-align: right;line-height:200%;font-family:vazir;font-size:medium\">\n",
    "<font face=\"vazir\" size=4>\n",
    "اگر فایل csv شامل کاراکترهایی باشد که قابل خواندن برای پانداس نیست، باید با پارامتر encoding، از یک انکدر استفاده کنیم که فایل را پشتیبانی کند.\n",
    "    <br>\n",
    "    مثلا انکدر 'gbk' از کاراکترهای چینی پشتیبانی میکند."
   ]
  },
  {
   "cell_type": "code",
   "execution_count": 76,
   "id": "c9d03a85-8d62-4ae5-a2df-228186203739",
   "metadata": {},
   "outputs": [],
   "source": [
    "# df = pd.read_csv('china_house.csv',encoding='gbk')"
   ]
  },
  {
   "cell_type": "markdown",
   "id": "8f1d2c99-8691-4113-a9bd-c3af80516804",
   "metadata": {
    "id": "ZRjNvNoBmES8"
   },
   "source": [
    "<p dir=rtl style=\"direction: rtl;text-align: right;line-height:200%;font-family:vazir;font-size:medium\">\n",
    "<font face=\"vazir\" size=3 color='midnightblue'>\n",
    "* هنگام ذخیره در فایل هم باید از انکدر استفاده کنیم.\n"
   ]
  },
  {
   "cell_type": "markdown",
   "id": "857085e6-d900-44a6-bb98-1f561f18fa89",
   "metadata": {},
   "source": [
    "<br>\n",
    "<div dir=rtl id=\"start\" style=\"direction:rtl;line-height:200%;\">\n",
    "\t<font face=\"vazir\" size=6 color='Orange'>\n",
    "خواندن از فایل Excel\n",
    "    </font>\n",
    "</div>"
   ]
  },
  {
   "cell_type": "markdown",
   "id": "c84a3203-0819-48bb-a2ee-c1bf574cc7f7",
   "metadata": {
    "id": "ZRjNvNoBmES8"
   },
   "source": [
    "<p dir=rtl style=\"direction: rtl;text-align: right;line-height:200%;font-family:vazir;font-size:medium\">\n",
    "<font face=\"vazir\" size=4>\n",
    "با تابع pd.read_excel('file_name') فایل Excel را میخوانیم."
   ]
  },
  {
   "cell_type": "markdown",
   "id": "ad169179-49be-4044-9c21-64310f4ac685",
   "metadata": {},
   "source": [
    "[Function's Document](https://pandas.pydata.org/docs/reference/api/pandas.read_excel.html)"
   ]
  },
  {
   "cell_type": "markdown",
   "id": "4223fa48-c8e7-42ff-94de-cec03fbabbde",
   "metadata": {},
   "source": [
    "<br>\n",
    "<div dir=rtl id=\"start\" style=\"direction:rtl;line-height:200%;\">\n",
    "\t<font face=\"vazir\" size=6 color='Orange'>\n",
    "        خواندن از HTML"
   ]
  },
  {
   "cell_type": "markdown",
   "id": "4f7c81ff-3d49-4682-a6cb-a573932d7c7c",
   "metadata": {
    "id": "ZRjNvNoBmES8"
   },
   "source": [
    "<p dir=rtl style=\"direction: rtl;text-align: right;line-height:200%;font-family:vazir;font-size:medium\">\n",
    "<font face=\"vazir\" size=4>\n",
    "در پانداس برای خواندن HTML تابع read_html تعریف شده‌است. پیش از معرفی این تابع لازم است بگوییم مبحث استخراج داده از وب بسیار پرکاربرد و البته گسترده است. ابزارهای پیشرفته‌ای مانند scrapy و selenium و beautiful soup به این منظور طراحی و پیاده‌سازی شده‌اند."
   ]
  },
  {
   "cell_type": "markdown",
   "id": "656008ce-2879-4af2-ae8f-cadc65e46cca",
   "metadata": {},
   "source": [
    "[Selenium documents, ](https://selenium-python.readthedocs.io/)\n",
    "[Scrapy, ](https://docs.scrapy.org/en/latest/intro/tutorial.html)\n",
    "[Beautiful Soup, ](https://www.crummy.com/software/BeautifulSoup/bs4/doc/)"
   ]
  },
  {
   "cell_type": "code",
   "execution_count": 77,
   "id": "cb9c96b0-4f51-41a5-b5bf-d7bf97a7969c",
   "metadata": {},
   "outputs": [],
   "source": [
    "caption = \"Racial composition of the population of Minnesota\"\n",
    "\n",
    "# df = pd.read_html('https://en.wikipedia.org/wiki/Minnesota', match=caption)[0]\n",
    "# df"
   ]
  },
  {
   "cell_type": "markdown",
   "id": "02d52ee9-3073-4364-a0a1-d1ae44c4de95",
   "metadata": {},
   "source": [
    "<br>\n",
    "<div dir=rtl id=\"start\" style=\"direction:rtl;line-height:200%;\">\n",
    "\t<font face=\"vazir\" size=6 color='Orange'>\n",
    "نوشتن در فایل CSV"
   ]
  },
  {
   "cell_type": "markdown",
   "id": "02d29dcd-63ad-4bd3-af4f-ad66ccc4c05e",
   "metadata": {
    "id": "ZRjNvNoBmES8"
   },
   "source": [
    "<p dir=rtl style=\"direction: rtl;text-align: right;line-height:200%;font-family:vazir;font-size:medium\">\n",
    "<font face=\"vazir\" size=4>\n",
    "هر دیتافریم یک تابع to_csv دارد که به شکل زیر می‌توانیم از آن استفاده کنیم.\n",
    "    <br>\n",
    "DataFrame.to_csv(path, index=True)\n",
    "    <br>\n",
    "مسیری که می‌خواهیم فایل را در آن ذخیره کنیم را در قالب یک رشته در آرگومان path می‌نویسیم.\n",
    "    <br>\n",
    "آرگومان index مقادیر بولی می‌پذیرد. اگر True باشد (حالت پیش‌فرض) نمایه (index) سطرها را نیز در فایل ذخیره می‌کند. اگر False باشد، نمایه سطر‌ها را در فایل ذخیره نمی‌کند.    "
   ]
  },
  {
   "cell_type": "code",
   "execution_count": 78,
   "id": "282fff80-ff38-41a9-8cdc-5fa21e8f8a1f",
   "metadata": {},
   "outputs": [],
   "source": [
    "df.to_csv('./2.pandas_file/population2.csv', index=False)"
   ]
  },
  {
   "cell_type": "markdown",
   "id": "7f064da5-cf1f-4255-a7ff-7a913974d875",
   "metadata": {
    "id": "ZRjNvNoBmES8"
   },
   "source": [
    "<p dir=rtl style=\"direction: rtl;text-align: right;line-height:200%;font-family:vazir;font-size:medium\">\n",
    "<font face=\"vazir\" size=4>\n",
    "در بازار کار بیشتر از SQL استفاده می‌شود. یعنی تحلیل‌گران داده حرفه‌ای داده‌ مورد نیاز خود را با کوئری زدن به دیتابیس‌ها استخراج می‌کنند."
   ]
  },
  {
   "cell_type": "markdown",
   "id": "f22c32b4-96c8-40c7-a881-5ad26139f0a5",
   "metadata": {},
   "source": [
    "[read SQL](https://pandas.pydata.org/docs/reference/api/pandas.read_sql.html)"
   ]
  },
  {
   "cell_type": "markdown",
   "id": "d7d6f1cd-2287-4353-b4a6-e03c700324f1",
   "metadata": {},
   "source": [
    "[to SQL](https://pandas.pydata.org/docs/reference/api/pandas.DataFrame.to_sql.html)"
   ]
  },
  {
   "cell_type": "markdown",
   "id": "8a5bf51a-7525-4511-bdd1-b402af368d0a",
   "metadata": {},
   "source": [
    "<br>\n",
    "<div dir=rtl id=\"start\" style=\"direction:rtl;line-height:200%;\">\n",
    "\t<font face=\"vazir\" size=7 color='Red'>\n",
    "اِعمال توابع و مرتب‌سازی\n",
    "    </font>\n",
    "</div>"
   ]
  },
  {
   "cell_type": "markdown",
   "id": "fde2aa36-4904-42c6-9c9e-75c7a9967e7f",
   "metadata": {},
   "source": [
    "<br>\n",
    "<div dir=rtl id=\"start\" style=\"direction:rtl;line-height:200%;\">\n",
    "\t<font face=\"vazir\" size=6 color='Orange'>\n",
    "تابع apply\n",
    "    </font>\n",
    "</div>"
   ]
  },
  {
   "cell_type": "markdown",
   "id": "086b122a-2a4b-44c0-96f3-cc4f3df83d29",
   "metadata": {
    "id": "ZRjNvNoBmES8"
   },
   "source": [
    "<p dir=rtl style=\"direction: rtl;text-align: right;line-height:200%;font-family:vazir;font-size:medium\">\n",
    "<font face=\"vazir\" size=4>\n",
    "با گرفتن یک تابع یا عبارت لامدا (lambda expression) آن را روی ستونها (پیش فرض) (axis = 0) یا روی سطرها (axis = 1) اعمال میکند."
   ]
  },
  {
   "cell_type": "markdown",
   "id": "38f3522f-b44f-4b9c-8c44-946dfe0b7ba5",
   "metadata": {},
   "source": [
    "<h2 align=right style=\"line-height:200%;font-family:vazir;color:#0099cc\">\n",
    "<font face=\"vazir\" color=\"#0099cc\">\n",
    "    <code>apply</code> پارامترهای مهم تابع"
   ]
  },
  {
   "cell_type": "markdown",
   "id": "557784b7-78ce-4920-8e60-15842a82fca3",
   "metadata": {
    "id": "ZRjNvNoBmES8",
    "tags": []
   },
   "source": [
    "<p dir=rtl style=\"direction: rtl;text-align: right;line-height:200%;font-family:vazir;font-size:medium\">\n",
    "<font face=\"vazir\" size=4>\n",
    "    </font>\n",
    "    </div>\n",
    "    \n",
    "```python\n",
    "DataFrame.apply(func, axis=0, raw=False, result_type=None, args=(), **kwargs)\n",
    "```   \n",
    "</p>"
   ]
  },
  {
   "cell_type": "markdown",
   "id": "5977aa33-10b1-4c2d-9bb3-5c66099f0a0b",
   "metadata": {},
   "source": [
    "<div dir=rtl id=\"start\" style=\"direction:rtl;line-height:200%;\">\n",
    "\t<font face=\"vazir\" size=3>\n",
    "\n",
    "| پارامتر     | توضیح |\n",
    "| ----------- | ----------- |\n",
    "| func        | تابعی که قصد داری روی دیتافریم اعمال کنیم.                                                                                                                                                                                                                                       |\n",
    "| axis        | - اگر 0 باشد تابع روی هر ستون اعمال می‌شود. پیش‌فرض 0 است.<br>- اگر 1 باشد تابع روی هر سطر اعمال می‌شود.                                                                                                                                                                         |\n",
    "| raw         | - اگر False باشد جنس سطر یا ستون ورودی func، دیتاسری خواهد بود. مقدار پیش‌فرض این پارامتر False است.<br>- اگر True باشد جنس سطر یا ستون ورودی func، آرایه نامپای خواهد بود. اگر func یکی از توابع نامپای باشد به دلیل بهبود عملکرد (performance) بهتر است raw را True قرار دهیم. |\n",
    "| args        | پارامتر‌های موقعیتی (positional arguments) که تابع func می‌پذیرد.                                                                                                                                                                                                                |\n",
    "| kwargs      | پارامتر‌های کلیدواژه‌ای (keyword arguments) که تابع func می‌پذیرد.                                                                                                                                                                                                               |\n",
    "| result_type | جنس خروجی را مشخص می‌کند و فقط در صورتی مورد توجه قرار می‌گیرد که `axis=0‍` باشد. می‌تواند سه مقدار expand، reduce و broadcast را داشته باشد.                                                                                                                                    |\n",
    "\n",
    "</font>\n",
    "</div>\n",
    "\n"
   ]
  },
  {
   "cell_type": "markdown",
   "id": "60d8bc66-f94d-41e6-8acb-9298fe09fafc",
   "metadata": {
    "id": "ZRjNvNoBmES8"
   },
   "source": [
    "<p dir=rtl style=\"direction: rtl;text-align: right;line-height:200%;font-family:vazir;font-size:medium\">\n",
    "<font face=\"vazir\" size=4>\n",
    "یک دیتافریم داریم و میخواهیم جمع عناصر هر سطر را حساب کنیم:\n",
    "    <br>\n",
    "    تابع sum_row را طوری تعریف می‌کنیم که یک دیتاسری به اسم row ورودی بگیرد و مقادیری که کلیدهایشان col_1 و col_2 است را با هم جمع کند."
   ]
  },
  {
   "cell_type": "code",
   "execution_count": 79,
   "id": "8b13feb7-5302-47bc-ae1d-31aef649a988",
   "metadata": {},
   "outputs": [
    {
     "data": {
      "text/html": [
       "<div>\n",
       "<style scoped>\n",
       "    .dataframe tbody tr th:only-of-type {\n",
       "        vertical-align: middle;\n",
       "    }\n",
       "\n",
       "    .dataframe tbody tr th {\n",
       "        vertical-align: top;\n",
       "    }\n",
       "\n",
       "    .dataframe thead th {\n",
       "        text-align: right;\n",
       "    }\n",
       "</style>\n",
       "<table border=\"1\" class=\"dataframe\">\n",
       "  <thead>\n",
       "    <tr style=\"text-align: right;\">\n",
       "      <th></th>\n",
       "      <th>col_1</th>\n",
       "      <th>col_2</th>\n",
       "    </tr>\n",
       "  </thead>\n",
       "  <tbody>\n",
       "    <tr>\n",
       "      <th>0</th>\n",
       "      <td>1</td>\n",
       "      <td>25</td>\n",
       "    </tr>\n",
       "    <tr>\n",
       "      <th>1</th>\n",
       "      <td>4</td>\n",
       "      <td>36</td>\n",
       "    </tr>\n",
       "    <tr>\n",
       "      <th>2</th>\n",
       "      <td>9</td>\n",
       "      <td>49</td>\n",
       "    </tr>\n",
       "    <tr>\n",
       "      <th>3</th>\n",
       "      <td>16</td>\n",
       "      <td>64</td>\n",
       "    </tr>\n",
       "  </tbody>\n",
       "</table>\n",
       "</div>"
      ],
      "text/plain": [
       "   col_1  col_2\n",
       "0      1     25\n",
       "1      4     36\n",
       "2      9     49\n",
       "3     16     64"
      ]
     },
     "execution_count": 79,
     "metadata": {},
     "output_type": "execute_result"
    }
   ],
   "source": [
    "df = pd.DataFrame()\n",
    "df['col_1'] = [1,4,9,16]\n",
    "df['col_2'] = [25,36,49,64]\n",
    "df"
   ]
  },
  {
   "cell_type": "code",
   "execution_count": 80,
   "id": "b9ce6ec6-45c1-4af6-9bb4-10d0cfecd213",
   "metadata": {},
   "outputs": [
    {
     "data": {
      "text/html": [
       "<div>\n",
       "<style scoped>\n",
       "    .dataframe tbody tr th:only-of-type {\n",
       "        vertical-align: middle;\n",
       "    }\n",
       "\n",
       "    .dataframe tbody tr th {\n",
       "        vertical-align: top;\n",
       "    }\n",
       "\n",
       "    .dataframe thead th {\n",
       "        text-align: right;\n",
       "    }\n",
       "</style>\n",
       "<table border=\"1\" class=\"dataframe\">\n",
       "  <thead>\n",
       "    <tr style=\"text-align: right;\">\n",
       "      <th></th>\n",
       "      <th>col_1</th>\n",
       "      <th>col_2</th>\n",
       "      <th>sum</th>\n",
       "    </tr>\n",
       "  </thead>\n",
       "  <tbody>\n",
       "    <tr>\n",
       "      <th>0</th>\n",
       "      <td>1</td>\n",
       "      <td>25</td>\n",
       "      <td>26</td>\n",
       "    </tr>\n",
       "    <tr>\n",
       "      <th>1</th>\n",
       "      <td>4</td>\n",
       "      <td>36</td>\n",
       "      <td>40</td>\n",
       "    </tr>\n",
       "    <tr>\n",
       "      <th>2</th>\n",
       "      <td>9</td>\n",
       "      <td>49</td>\n",
       "      <td>58</td>\n",
       "    </tr>\n",
       "    <tr>\n",
       "      <th>3</th>\n",
       "      <td>16</td>\n",
       "      <td>64</td>\n",
       "      <td>80</td>\n",
       "    </tr>\n",
       "  </tbody>\n",
       "</table>\n",
       "</div>"
      ],
      "text/plain": [
       "   col_1  col_2  sum\n",
       "0      1     25   26\n",
       "1      4     36   40\n",
       "2      9     49   58\n",
       "3     16     64   80"
      ]
     },
     "execution_count": 80,
     "metadata": {},
     "output_type": "execute_result"
    }
   ],
   "source": [
    "def sum_row (row) :\n",
    "    return row['col_2'] + row['col_1']\n",
    "\n",
    "df['sum'] = df.apply(sum_row, axis=1)\n",
    "df"
   ]
  },
  {
   "cell_type": "markdown",
   "id": "fe8ee519-54d8-43d6-bd94-879958efd3a8",
   "metadata": {
    "id": "ZRjNvNoBmES8"
   },
   "source": [
    "<p dir=rtl style=\"direction: rtl;text-align: right;line-height:200%;font-family:vazir;font-size:medium\">\n",
    "<font face=\"vazir\" size=3 color='midnightblue'>\n",
    " می‌توان با کمک عبارت لامدا نیز جمع المان‌های هر سطر را به دست آورد."
   ]
  },
  {
   "cell_type": "code",
   "execution_count": 81,
   "id": "c0be939c-730e-4163-89fc-dcd37cd40265",
   "metadata": {},
   "outputs": [
    {
     "data": {
      "text/html": [
       "<div>\n",
       "<style scoped>\n",
       "    .dataframe tbody tr th:only-of-type {\n",
       "        vertical-align: middle;\n",
       "    }\n",
       "\n",
       "    .dataframe tbody tr th {\n",
       "        vertical-align: top;\n",
       "    }\n",
       "\n",
       "    .dataframe thead th {\n",
       "        text-align: right;\n",
       "    }\n",
       "</style>\n",
       "<table border=\"1\" class=\"dataframe\">\n",
       "  <thead>\n",
       "    <tr style=\"text-align: right;\">\n",
       "      <th></th>\n",
       "      <th>col_1</th>\n",
       "      <th>col_2</th>\n",
       "      <th>sum</th>\n",
       "    </tr>\n",
       "  </thead>\n",
       "  <tbody>\n",
       "    <tr>\n",
       "      <th>0</th>\n",
       "      <td>1</td>\n",
       "      <td>25</td>\n",
       "      <td>26</td>\n",
       "    </tr>\n",
       "    <tr>\n",
       "      <th>1</th>\n",
       "      <td>4</td>\n",
       "      <td>36</td>\n",
       "      <td>40</td>\n",
       "    </tr>\n",
       "    <tr>\n",
       "      <th>2</th>\n",
       "      <td>9</td>\n",
       "      <td>49</td>\n",
       "      <td>58</td>\n",
       "    </tr>\n",
       "    <tr>\n",
       "      <th>3</th>\n",
       "      <td>16</td>\n",
       "      <td>64</td>\n",
       "      <td>80</td>\n",
       "    </tr>\n",
       "  </tbody>\n",
       "</table>\n",
       "</div>"
      ],
      "text/plain": [
       "   col_1  col_2  sum\n",
       "0      1     25   26\n",
       "1      4     36   40\n",
       "2      9     49   58\n",
       "3     16     64   80"
      ]
     },
     "execution_count": 81,
     "metadata": {},
     "output_type": "execute_result"
    }
   ],
   "source": [
    "df.drop(['sum'], axis=1, inplace=True) # Delete the previous column sum\n",
    "df['sum'] = df.apply(lambda row : row['col_1'] + row['col_2'], axis=1)\n",
    "df"
   ]
  },
  {
   "cell_type": "markdown",
   "id": "8692fbf8-0272-4fc6-9714-0b0410b6a64b",
   "metadata": {
    "id": "ZRjNvNoBmES8"
   },
   "source": [
    "<p dir=rtl style=\"direction: rtl;text-align: right;line-height:200%;font-family:vazir;font-size:medium\">\n",
    "<font face=\"vazir\" size=4>\n",
    "جمع عناصر ستونهای یک دیتافریم:"
   ]
  },
  {
   "cell_type": "code",
   "execution_count": 82,
   "id": "454c2a7e-cc2e-4cfb-8bf2-6b2d73da5400",
   "metadata": {},
   "outputs": [
    {
     "data": {
      "text/plain": [
       "col_1     30\n",
       "col_2    174\n",
       "dtype: int64"
      ]
     },
     "execution_count": 82,
     "metadata": {},
     "output_type": "execute_result"
    }
   ],
   "source": [
    "df.drop(['sum'], axis=1, inplace=True)\n",
    "df.apply(np.sum)"
   ]
  },
  {
   "cell_type": "markdown",
   "id": "1f87558b-f095-415e-b57e-02e90c9ff985",
   "metadata": {
    "id": "ZRjNvNoBmES8"
   },
   "source": [
    "<p dir=rtl style=\"direction: rtl;text-align: right;line-height:200%;font-family:vazir;font-size:medium\">\n",
    "<font face=\"vazir\" size=4>\n",
    "می خواهیم تمام عناصر یک دیتافریم را بر 2 تقسیم کنیم. این کار را به چهار روش میتوانیم انجام دهیم."
   ]
  },
  {
   "cell_type": "markdown",
   "id": "1351f2c4-8723-4d24-b104-c646f20fd239",
   "metadata": {
    "id": "ZRjNvNoBmES8"
   },
   "source": [
    "<p dir=rtl style=\"direction: rtl;text-align: right;line-height:200%;font-family:vazir;font-size:medium\">\n",
    "<font face=\"vazir\" size=3 color='midnightblue'>\n",
    "روش اول: تابع row_divide_2 را تعریف می‌کنیم و با استفاده از apply آن را سطر به سطر روی دیتافریم اعمال می‌کنیم."
   ]
  },
  {
   "cell_type": "code",
   "execution_count": 83,
   "id": "13c8d61f-80aa-4c0f-90de-8d02499ddf84",
   "metadata": {},
   "outputs": [
    {
     "data": {
      "text/html": [
       "<div>\n",
       "<style scoped>\n",
       "    .dataframe tbody tr th:only-of-type {\n",
       "        vertical-align: middle;\n",
       "    }\n",
       "\n",
       "    .dataframe tbody tr th {\n",
       "        vertical-align: top;\n",
       "    }\n",
       "\n",
       "    .dataframe thead th {\n",
       "        text-align: right;\n",
       "    }\n",
       "</style>\n",
       "<table border=\"1\" class=\"dataframe\">\n",
       "  <thead>\n",
       "    <tr style=\"text-align: right;\">\n",
       "      <th></th>\n",
       "      <th>col_1</th>\n",
       "      <th>col_2</th>\n",
       "    </tr>\n",
       "  </thead>\n",
       "  <tbody>\n",
       "    <tr>\n",
       "      <th>0</th>\n",
       "      <td>0.5</td>\n",
       "      <td>12.5</td>\n",
       "    </tr>\n",
       "    <tr>\n",
       "      <th>1</th>\n",
       "      <td>2.0</td>\n",
       "      <td>18.0</td>\n",
       "    </tr>\n",
       "    <tr>\n",
       "      <th>2</th>\n",
       "      <td>4.5</td>\n",
       "      <td>24.5</td>\n",
       "    </tr>\n",
       "    <tr>\n",
       "      <th>3</th>\n",
       "      <td>8.0</td>\n",
       "      <td>32.0</td>\n",
       "    </tr>\n",
       "  </tbody>\n",
       "</table>\n",
       "</div>"
      ],
      "text/plain": [
       "   col_1  col_2\n",
       "0    0.5   12.5\n",
       "1    2.0   18.0\n",
       "2    4.5   24.5\n",
       "3    8.0   32.0"
      ]
     },
     "execution_count": 83,
     "metadata": {},
     "output_type": "execute_result"
    }
   ],
   "source": [
    "def row_divide_2 (row) :\n",
    "  return row / 2 \n",
    "df.apply(row_divide_2, axis=1)"
   ]
  },
  {
   "cell_type": "markdown",
   "id": "cd5bb6c4-1996-4391-85f5-72486bb5fbf6",
   "metadata": {
    "id": "ZRjNvNoBmES8"
   },
   "source": [
    "<p dir=rtl style=\"direction: rtl;text-align: right;line-height:200%;font-family:vazir;font-size:medium\">\n",
    "<font face=\"vazir\" size=3 color='midnightblue'>\n",
    "روش دوم: تابع col_divide_2 را تعریف می‌کنیم و با اعمال ستون به ستون آن، همه المان‌ها را بر ۲ تقسیم می‌کنیم. "
   ]
  },
  {
   "cell_type": "code",
   "execution_count": 84,
   "id": "f43c99a4-aa08-43bc-9c9a-acbf31732c13",
   "metadata": {},
   "outputs": [
    {
     "data": {
      "text/html": [
       "<div>\n",
       "<style scoped>\n",
       "    .dataframe tbody tr th:only-of-type {\n",
       "        vertical-align: middle;\n",
       "    }\n",
       "\n",
       "    .dataframe tbody tr th {\n",
       "        vertical-align: top;\n",
       "    }\n",
       "\n",
       "    .dataframe thead th {\n",
       "        text-align: right;\n",
       "    }\n",
       "</style>\n",
       "<table border=\"1\" class=\"dataframe\">\n",
       "  <thead>\n",
       "    <tr style=\"text-align: right;\">\n",
       "      <th></th>\n",
       "      <th>col_1</th>\n",
       "      <th>col_2</th>\n",
       "    </tr>\n",
       "  </thead>\n",
       "  <tbody>\n",
       "    <tr>\n",
       "      <th>0</th>\n",
       "      <td>0.5</td>\n",
       "      <td>12.5</td>\n",
       "    </tr>\n",
       "    <tr>\n",
       "      <th>1</th>\n",
       "      <td>2.0</td>\n",
       "      <td>18.0</td>\n",
       "    </tr>\n",
       "    <tr>\n",
       "      <th>2</th>\n",
       "      <td>4.5</td>\n",
       "      <td>24.5</td>\n",
       "    </tr>\n",
       "    <tr>\n",
       "      <th>3</th>\n",
       "      <td>8.0</td>\n",
       "      <td>32.0</td>\n",
       "    </tr>\n",
       "  </tbody>\n",
       "</table>\n",
       "</div>"
      ],
      "text/plain": [
       "   col_1  col_2\n",
       "0    0.5   12.5\n",
       "1    2.0   18.0\n",
       "2    4.5   24.5\n",
       "3    8.0   32.0"
      ]
     },
     "execution_count": 84,
     "metadata": {},
     "output_type": "execute_result"
    }
   ],
   "source": [
    "def col_divide_2 (col) : \n",
    "    return col / 2 \n",
    "\n",
    "df.apply(col_divide_2)"
   ]
  },
  {
   "cell_type": "markdown",
   "id": "e5771599-dca2-44a8-8dd3-345c84431f3b",
   "metadata": {
    "id": "ZRjNvNoBmES8"
   },
   "source": [
    "<p dir=rtl style=\"direction: rtl;text-align: right;line-height:200%;font-family:vazir;font-size:medium\">\n",
    "<font face=\"vazir\" size=3 color='midnightblue'>\n",
    "روش سوم: از لامدا کمک میگیریم و تابع جدا تعریف نمیکنیم."
   ]
  },
  {
   "cell_type": "code",
   "execution_count": 85,
   "id": "5136de74-bbe6-46b3-955e-a1510cc9a895",
   "metadata": {},
   "outputs": [
    {
     "data": {
      "text/html": [
       "<div>\n",
       "<style scoped>\n",
       "    .dataframe tbody tr th:only-of-type {\n",
       "        vertical-align: middle;\n",
       "    }\n",
       "\n",
       "    .dataframe tbody tr th {\n",
       "        vertical-align: top;\n",
       "    }\n",
       "\n",
       "    .dataframe thead th {\n",
       "        text-align: right;\n",
       "    }\n",
       "</style>\n",
       "<table border=\"1\" class=\"dataframe\">\n",
       "  <thead>\n",
       "    <tr style=\"text-align: right;\">\n",
       "      <th></th>\n",
       "      <th>col_1</th>\n",
       "      <th>col_2</th>\n",
       "    </tr>\n",
       "  </thead>\n",
       "  <tbody>\n",
       "    <tr>\n",
       "      <th>0</th>\n",
       "      <td>0.5</td>\n",
       "      <td>12.5</td>\n",
       "    </tr>\n",
       "    <tr>\n",
       "      <th>1</th>\n",
       "      <td>2.0</td>\n",
       "      <td>18.0</td>\n",
       "    </tr>\n",
       "    <tr>\n",
       "      <th>2</th>\n",
       "      <td>4.5</td>\n",
       "      <td>24.5</td>\n",
       "    </tr>\n",
       "    <tr>\n",
       "      <th>3</th>\n",
       "      <td>8.0</td>\n",
       "      <td>32.0</td>\n",
       "    </tr>\n",
       "  </tbody>\n",
       "</table>\n",
       "</div>"
      ],
      "text/plain": [
       "   col_1  col_2\n",
       "0    0.5   12.5\n",
       "1    2.0   18.0\n",
       "2    4.5   24.5\n",
       "3    8.0   32.0"
      ]
     },
     "execution_count": 85,
     "metadata": {},
     "output_type": "execute_result"
    }
   ],
   "source": [
    "df.apply(lambda x : x/2)"
   ]
  },
  {
   "cell_type": "markdown",
   "id": "b0e930f0-3748-425f-bf43-443938e77153",
   "metadata": {
    "id": "ZRjNvNoBmES8"
   },
   "source": [
    "<p dir=rtl style=\"direction: rtl;text-align: right;line-height:200%;font-family:vazir;font-size:medium\">\n",
    "<font face=\"vazir\" size=3 color='midnightblue'>\n",
    "روش چهارم: بدون استفاده از apply: "
   ]
  },
  {
   "cell_type": "code",
   "execution_count": 86,
   "id": "fec01812-09b4-4f41-9086-81e698f33ebd",
   "metadata": {},
   "outputs": [
    {
     "data": {
      "text/html": [
       "<div>\n",
       "<style scoped>\n",
       "    .dataframe tbody tr th:only-of-type {\n",
       "        vertical-align: middle;\n",
       "    }\n",
       "\n",
       "    .dataframe tbody tr th {\n",
       "        vertical-align: top;\n",
       "    }\n",
       "\n",
       "    .dataframe thead th {\n",
       "        text-align: right;\n",
       "    }\n",
       "</style>\n",
       "<table border=\"1\" class=\"dataframe\">\n",
       "  <thead>\n",
       "    <tr style=\"text-align: right;\">\n",
       "      <th></th>\n",
       "      <th>col_1</th>\n",
       "      <th>col_2</th>\n",
       "    </tr>\n",
       "  </thead>\n",
       "  <tbody>\n",
       "    <tr>\n",
       "      <th>0</th>\n",
       "      <td>0.5</td>\n",
       "      <td>12.5</td>\n",
       "    </tr>\n",
       "    <tr>\n",
       "      <th>1</th>\n",
       "      <td>2.0</td>\n",
       "      <td>18.0</td>\n",
       "    </tr>\n",
       "    <tr>\n",
       "      <th>2</th>\n",
       "      <td>4.5</td>\n",
       "      <td>24.5</td>\n",
       "    </tr>\n",
       "    <tr>\n",
       "      <th>3</th>\n",
       "      <td>8.0</td>\n",
       "      <td>32.0</td>\n",
       "    </tr>\n",
       "  </tbody>\n",
       "</table>\n",
       "</div>"
      ],
      "text/plain": [
       "   col_1  col_2\n",
       "0    0.5   12.5\n",
       "1    2.0   18.0\n",
       "2    4.5   24.5\n",
       "3    8.0   32.0"
      ]
     },
     "execution_count": 86,
     "metadata": {},
     "output_type": "execute_result"
    }
   ],
   "source": [
    "df/2"
   ]
  },
  {
   "cell_type": "markdown",
   "id": "ddb40d0b-1bb1-46d7-8fab-c50dca8e0ba9",
   "metadata": {},
   "source": [
    "<br>\n",
    "<div dir=rtl id=\"start\" style=\"direction:rtl;line-height:200%;\">\n",
    "\t<font face=\"vazir\" size=6 color='Orange'>\n",
    "تابع sort_values\n",
    "    </font>\n",
    "</div>"
   ]
  },
  {
   "cell_type": "markdown",
   "id": "e4b7e982-48c1-4801-83ee-a04538e4420b",
   "metadata": {
    "id": "ZRjNvNoBmES8"
   },
   "source": [
    "<p dir=rtl style=\"direction: rtl;text-align: right;line-height:200%;font-family:vazir;font-size:medium\">\n",
    "<font face=\"vazir\" size=4>\n",
    "این تابع با ورودی گرفتن اسم ستونی که می‌خواهیم بر اساسش مرتب‌سازی انجام دهیم، دیتافریم را مرتب می‌کند. اسم ستون دلخواه را باید در پارامتر by این تابع بنویسیم.\n",
    "    <br>\n",
    "    اگر مقدار پارامتر ascending را True قرار دهیم مقادیر را صعودی مرتب میکند و اگر False قرار دهیم، نزولی."
   ]
  },
  {
   "cell_type": "markdown",
   "id": "bdba24d7-267c-44c5-baf5-d67787c63eed",
   "metadata": {},
   "source": [
    "<h2 align=right style=\"line-height:200%;font-family:vazir;color:#0099cc\">\n",
    "<font face=\"vazir\" color=\"#0099cc\">\n",
    "    <code>sort_values</code> پارامترهای مهم تابع"
   ]
  },
  {
   "cell_type": "markdown",
   "id": "0d59ffcf-3f97-4688-9372-3d8fbd6a6b8e",
   "metadata": {
    "id": "ZRjNvNoBmES8",
    "tags": []
   },
   "source": [
    "<p dir=rtl style=\"direction: rtl;text-align: right;line-height:200%;font-family:vazir;font-size:medium\">\n",
    "<font face=\"vazir\" size=4>\n",
    "    </font>\n",
    "    </div>\n",
    "    \n",
    "```python\n",
    "DataFrame.sort_values(by, axis=0, ascending=True, inplace=False, kind='quicksort',na_position='last',\\\n",
    "                      ignore_index=False, key=None)\n",
    "```   \n",
    "</p>"
   ]
  },
  {
   "cell_type": "markdown",
   "id": "ee58c01e-5dcf-4da4-9f2c-ef756506493e",
   "metadata": {},
   "source": [
    "<br>\n",
    "<div dir=rtl id=\"start\" style=\"direction:rtl;line-height:200%;\">\n",
    "\t<font face=\"vazir\" size=3>\n",
    "        \n",
    "| پارامتر| توضیحات|\n",
    "| ------------ |-------- |\n",
    "| by| می‌تواند اسم ستون یا نمایه سطر باشد. اگر بخواهیم چندین ستون یا چندین سطر را برای مرتب‌سازی در نظر بگیریم می‌توانیم لیست اسامی ستون‌ها را به این پارامتر پاس بدهیم.|\n",
    "| axis| نوع مرتب‌سازی را مشخص می‌کند که بر اساس سطر باشد یا ستون.<br><br><br>- اگر 0 باشد مرتب‌سازی ستونی است.<br>- اگر 1 باشد مرتب‌سازی سطری است.|\n",
    "| ascending| دو مقدار True یا False را می‌تواند داشته باشد.<br><br>- اگر False باشد مرتب‌سازی نزولی است. مقدار پیش‌فرض False است.<br>- اگر True باشد مرتب‌سازی صعودی است.|\n",
    "| inplace| دو مقدار True یا False را می‌تواند داشته باشد.<br><br>- اگر مقدار این پارامتر True باشد، نتیجه مرتب‌سازی درون دیتا‌فریم اصلی کپی می‌شود.<br>- اگر False باشد یک نسخه مرتب‌شده از دیتافریم را return می‌کند.|\n",
    "| kind| الگوریتم مرتب‌سازی را مشخص‌ می‌کند. به صورت پیش‌فرض روی quicksort تنظیم شده است.|\n",
    "| na_position  | محل قرارگیری NaN (Not a Number) ها را در فریم مرتب‌شده مشخص می‌کند.<br><br>- اگر last باشد در آخرین سطر‌ها قرار می‌گیرند. پیش‌فرض این پارامتر last است.<br>- اگر first باشد در سطرهای ابتدایی قرار می‌گیرند.|\n",
    "| ignore_index | چون ممکن است پس از مرتب‌سازی نمایه‌ها جابه‌جا شوند (مثلا نمایه 0 مربوط به اولین سطر نباشد)، می‌توانیم با این پارامتر نمایه‌ها را بازآرایی کنیم.<br><br>- اگر True باشد، نمایه سطرهای مرتب‌شده از 0 تا L -1 خواهد بود که L تعداد سطرهای آرایه‌است. <br>- اگر False باشد، هر سطر نمایه پیش از مرتب‌سازی را حفظ می‌کند. |\n",
    "| key| تابعی که پیش از مرتب‌سازی، روی عناصر موجود در سطرها یا ستون‌هایی که در `by` وجود دارد، اعمال می‌شود. در مثال‌ها بیشتر با این کارکرد این پارامتر آشنا می‌شویم.|\n",
    "        \n",
    "<div>"
   ]
  },
  {
   "cell_type": "code",
   "execution_count": 87,
   "id": "6c3c7451-df69-427e-8e75-f3df4e369d25",
   "metadata": {},
   "outputs": [
    {
     "data": {
      "text/html": [
       "<div>\n",
       "<style scoped>\n",
       "    .dataframe tbody tr th:only-of-type {\n",
       "        vertical-align: middle;\n",
       "    }\n",
       "\n",
       "    .dataframe tbody tr th {\n",
       "        vertical-align: top;\n",
       "    }\n",
       "\n",
       "    .dataframe thead th {\n",
       "        text-align: right;\n",
       "    }\n",
       "</style>\n",
       "<table border=\"1\" class=\"dataframe\">\n",
       "  <thead>\n",
       "    <tr style=\"text-align: right;\">\n",
       "      <th></th>\n",
       "      <th>name</th>\n",
       "      <th>stu_number</th>\n",
       "      <th>average</th>\n",
       "    </tr>\n",
       "  </thead>\n",
       "  <tbody>\n",
       "    <tr>\n",
       "      <th>0</th>\n",
       "      <td>PARTO</td>\n",
       "      <td>963613060</td>\n",
       "      <td>19.68</td>\n",
       "    </tr>\n",
       "    <tr>\n",
       "      <th>1</th>\n",
       "      <td>parsa</td>\n",
       "      <td>963613061</td>\n",
       "      <td>19.90</td>\n",
       "    </tr>\n",
       "    <tr>\n",
       "      <th>2</th>\n",
       "      <td>SAJJAD</td>\n",
       "      <td>963613062</td>\n",
       "      <td>17.27</td>\n",
       "    </tr>\n",
       "    <tr>\n",
       "      <th>3</th>\n",
       "      <td>hadi</td>\n",
       "      <td>963613063</td>\n",
       "      <td>19.50</td>\n",
       "    </tr>\n",
       "    <tr>\n",
       "      <th>4</th>\n",
       "      <td>MOHSEN</td>\n",
       "      <td>963613064</td>\n",
       "      <td>15.90</td>\n",
       "    </tr>\n",
       "    <tr>\n",
       "      <th>5</th>\n",
       "      <td>ghazale</td>\n",
       "      <td>963613065</td>\n",
       "      <td>18.20</td>\n",
       "    </tr>\n",
       "    <tr>\n",
       "      <th>6</th>\n",
       "      <td>hamed</td>\n",
       "      <td>933613080</td>\n",
       "      <td>19.34</td>\n",
       "    </tr>\n",
       "  </tbody>\n",
       "</table>\n",
       "</div>"
      ],
      "text/plain": [
       "      name stu_number  average\n",
       "0    PARTO  963613060    19.68\n",
       "1    parsa  963613061    19.90\n",
       "2   SAJJAD  963613062    17.27\n",
       "3     hadi  963613063    19.50\n",
       "4   MOHSEN  963613064    15.90\n",
       "5  ghazale  963613065    18.20\n",
       "6    hamed  933613080    19.34"
      ]
     },
     "execution_count": 87,
     "metadata": {},
     "output_type": "execute_result"
    }
   ],
   "source": [
    "stu_dictionary = {\n",
    "    \"name\" : [\"PARTO\", \"parsa\", \"SAJJAD\", \"hadi\", \"MOHSEN\", \"ghazale\", \"hamed\"] ,\n",
    "    \"stu_number\" : [\"963613060\", \"963613061\", \"963613062\", \"963613063\", \"963613064\", \"963613065\", \"933613080\"] ,\n",
    "    \"average\" : [19.68,19.90,17.27, 19.5, 15.9, 18.2, 19.34]\n",
    "}\n",
    "df = pd.DataFrame(stu_dictionary)\n",
    "df"
   ]
  },
  {
   "cell_type": "code",
   "execution_count": 88,
   "id": "04b901e9-484b-4769-821a-7abfbb468d1f",
   "metadata": {},
   "outputs": [
    {
     "data": {
      "text/html": [
       "<div>\n",
       "<style scoped>\n",
       "    .dataframe tbody tr th:only-of-type {\n",
       "        vertical-align: middle;\n",
       "    }\n",
       "\n",
       "    .dataframe tbody tr th {\n",
       "        vertical-align: top;\n",
       "    }\n",
       "\n",
       "    .dataframe thead th {\n",
       "        text-align: right;\n",
       "    }\n",
       "</style>\n",
       "<table border=\"1\" class=\"dataframe\">\n",
       "  <thead>\n",
       "    <tr style=\"text-align: right;\">\n",
       "      <th></th>\n",
       "      <th>name</th>\n",
       "      <th>stu_number</th>\n",
       "      <th>average</th>\n",
       "    </tr>\n",
       "  </thead>\n",
       "  <tbody>\n",
       "    <tr>\n",
       "      <th>1</th>\n",
       "      <td>parsa</td>\n",
       "      <td>963613061</td>\n",
       "      <td>19.90</td>\n",
       "    </tr>\n",
       "    <tr>\n",
       "      <th>0</th>\n",
       "      <td>PARTO</td>\n",
       "      <td>963613060</td>\n",
       "      <td>19.68</td>\n",
       "    </tr>\n",
       "    <tr>\n",
       "      <th>3</th>\n",
       "      <td>hadi</td>\n",
       "      <td>963613063</td>\n",
       "      <td>19.50</td>\n",
       "    </tr>\n",
       "    <tr>\n",
       "      <th>6</th>\n",
       "      <td>hamed</td>\n",
       "      <td>933613080</td>\n",
       "      <td>19.34</td>\n",
       "    </tr>\n",
       "    <tr>\n",
       "      <th>5</th>\n",
       "      <td>ghazale</td>\n",
       "      <td>963613065</td>\n",
       "      <td>18.20</td>\n",
       "    </tr>\n",
       "    <tr>\n",
       "      <th>2</th>\n",
       "      <td>SAJJAD</td>\n",
       "      <td>963613062</td>\n",
       "      <td>17.27</td>\n",
       "    </tr>\n",
       "    <tr>\n",
       "      <th>4</th>\n",
       "      <td>MOHSEN</td>\n",
       "      <td>963613064</td>\n",
       "      <td>15.90</td>\n",
       "    </tr>\n",
       "  </tbody>\n",
       "</table>\n",
       "</div>"
      ],
      "text/plain": [
       "      name stu_number  average\n",
       "1    parsa  963613061    19.90\n",
       "0    PARTO  963613060    19.68\n",
       "3     hadi  963613063    19.50\n",
       "6    hamed  933613080    19.34\n",
       "5  ghazale  963613065    18.20\n",
       "2   SAJJAD  963613062    17.27\n",
       "4   MOHSEN  963613064    15.90"
      ]
     },
     "execution_count": 88,
     "metadata": {},
     "output_type": "execute_result"
    }
   ],
   "source": [
    "df.sort_values(by='average', ascending=False)"
   ]
  },
  {
   "cell_type": "markdown",
   "id": "e097f92d-9e1a-40cf-89cb-1e032ac7ff04",
   "metadata": {
    "id": "ZRjNvNoBmES8"
   },
   "source": [
    "<p dir=rtl style=\"direction: rtl;text-align: right;line-height:200%;font-family:vazir;font-size:medium\">\n",
    "<font face=\"vazir\" size=3 color='midnightblue'>\n",
    "اگر بخواهیم بر اساس name مرتب سازی را انجام دهیم، با دستور df.sort_values('name') اول اسامی با حروف بزرگ را مرتب میکند بعد اسامی با حروف کوچک. برای رفع این مشکل ابتدا کل اسامی را به حروف کوچک تبدیل میکنیم.\n",
    "    <br>\n",
    "    می‌توانیم از پارامتر key تابع sort_values استفاده کنیم. این پارامتر با دریافت یک تابع یا یک عبارت لامدا، پیش از انجام مرتب‌سازی آن را روی ستون‌هایی که در پارامتر by آمده است، اعمال می‌کند."
   ]
  },
  {
   "cell_type": "code",
   "execution_count": 89,
   "id": "2a8116d7-f50f-410a-863f-c560fb53e973",
   "metadata": {},
   "outputs": [
    {
     "data": {
      "text/html": [
       "<div>\n",
       "<style scoped>\n",
       "    .dataframe tbody tr th:only-of-type {\n",
       "        vertical-align: middle;\n",
       "    }\n",
       "\n",
       "    .dataframe tbody tr th {\n",
       "        vertical-align: top;\n",
       "    }\n",
       "\n",
       "    .dataframe thead th {\n",
       "        text-align: right;\n",
       "    }\n",
       "</style>\n",
       "<table border=\"1\" class=\"dataframe\">\n",
       "  <thead>\n",
       "    <tr style=\"text-align: right;\">\n",
       "      <th></th>\n",
       "      <th>name</th>\n",
       "      <th>stu_number</th>\n",
       "      <th>average</th>\n",
       "    </tr>\n",
       "  </thead>\n",
       "  <tbody>\n",
       "    <tr>\n",
       "      <th>4</th>\n",
       "      <td>MOHSEN</td>\n",
       "      <td>963613064</td>\n",
       "      <td>15.90</td>\n",
       "    </tr>\n",
       "    <tr>\n",
       "      <th>0</th>\n",
       "      <td>PARTO</td>\n",
       "      <td>963613060</td>\n",
       "      <td>19.68</td>\n",
       "    </tr>\n",
       "    <tr>\n",
       "      <th>2</th>\n",
       "      <td>SAJJAD</td>\n",
       "      <td>963613062</td>\n",
       "      <td>17.27</td>\n",
       "    </tr>\n",
       "    <tr>\n",
       "      <th>5</th>\n",
       "      <td>ghazale</td>\n",
       "      <td>963613065</td>\n",
       "      <td>18.20</td>\n",
       "    </tr>\n",
       "    <tr>\n",
       "      <th>3</th>\n",
       "      <td>hadi</td>\n",
       "      <td>963613063</td>\n",
       "      <td>19.50</td>\n",
       "    </tr>\n",
       "    <tr>\n",
       "      <th>6</th>\n",
       "      <td>hamed</td>\n",
       "      <td>933613080</td>\n",
       "      <td>19.34</td>\n",
       "    </tr>\n",
       "    <tr>\n",
       "      <th>1</th>\n",
       "      <td>parsa</td>\n",
       "      <td>963613061</td>\n",
       "      <td>19.90</td>\n",
       "    </tr>\n",
       "  </tbody>\n",
       "</table>\n",
       "</div>"
      ],
      "text/plain": [
       "      name stu_number  average\n",
       "4   MOHSEN  963613064    15.90\n",
       "0    PARTO  963613060    19.68\n",
       "2   SAJJAD  963613062    17.27\n",
       "5  ghazale  963613065    18.20\n",
       "3     hadi  963613063    19.50\n",
       "6    hamed  933613080    19.34\n",
       "1    parsa  963613061    19.90"
      ]
     },
     "execution_count": 89,
     "metadata": {},
     "output_type": "execute_result"
    }
   ],
   "source": [
    "df.sort_values('name')"
   ]
  },
  {
   "cell_type": "code",
   "execution_count": 90,
   "id": "ea2e24d8-d454-4d44-b017-2336c53310f2",
   "metadata": {},
   "outputs": [
    {
     "data": {
      "text/html": [
       "<div>\n",
       "<style scoped>\n",
       "    .dataframe tbody tr th:only-of-type {\n",
       "        vertical-align: middle;\n",
       "    }\n",
       "\n",
       "    .dataframe tbody tr th {\n",
       "        vertical-align: top;\n",
       "    }\n",
       "\n",
       "    .dataframe thead th {\n",
       "        text-align: right;\n",
       "    }\n",
       "</style>\n",
       "<table border=\"1\" class=\"dataframe\">\n",
       "  <thead>\n",
       "    <tr style=\"text-align: right;\">\n",
       "      <th></th>\n",
       "      <th>name</th>\n",
       "      <th>stu_number</th>\n",
       "      <th>average</th>\n",
       "    </tr>\n",
       "  </thead>\n",
       "  <tbody>\n",
       "    <tr>\n",
       "      <th>5</th>\n",
       "      <td>ghazale</td>\n",
       "      <td>963613065</td>\n",
       "      <td>18.20</td>\n",
       "    </tr>\n",
       "    <tr>\n",
       "      <th>3</th>\n",
       "      <td>hadi</td>\n",
       "      <td>963613063</td>\n",
       "      <td>19.50</td>\n",
       "    </tr>\n",
       "    <tr>\n",
       "      <th>6</th>\n",
       "      <td>hamed</td>\n",
       "      <td>933613080</td>\n",
       "      <td>19.34</td>\n",
       "    </tr>\n",
       "    <tr>\n",
       "      <th>4</th>\n",
       "      <td>MOHSEN</td>\n",
       "      <td>963613064</td>\n",
       "      <td>15.90</td>\n",
       "    </tr>\n",
       "    <tr>\n",
       "      <th>1</th>\n",
       "      <td>parsa</td>\n",
       "      <td>963613061</td>\n",
       "      <td>19.90</td>\n",
       "    </tr>\n",
       "    <tr>\n",
       "      <th>0</th>\n",
       "      <td>PARTO</td>\n",
       "      <td>963613060</td>\n",
       "      <td>19.68</td>\n",
       "    </tr>\n",
       "    <tr>\n",
       "      <th>2</th>\n",
       "      <td>SAJJAD</td>\n",
       "      <td>963613062</td>\n",
       "      <td>17.27</td>\n",
       "    </tr>\n",
       "  </tbody>\n",
       "</table>\n",
       "</div>"
      ],
      "text/plain": [
       "      name stu_number  average\n",
       "5  ghazale  963613065    18.20\n",
       "3     hadi  963613063    19.50\n",
       "6    hamed  933613080    19.34\n",
       "4   MOHSEN  963613064    15.90\n",
       "1    parsa  963613061    19.90\n",
       "0    PARTO  963613060    19.68\n",
       "2   SAJJAD  963613062    17.27"
      ]
     },
     "execution_count": 90,
     "metadata": {},
     "output_type": "execute_result"
    }
   ],
   "source": [
    "df.sort_values(by='name', key=lambda name : name.str.lower())"
   ]
  },
  {
   "cell_type": "markdown",
   "id": "d6b8f8da-a57c-48b0-98dc-cbe975e69eb4",
   "metadata": {
    "id": "ZRjNvNoBmES8"
   },
   "source": [
    "<p dir=rtl style=\"direction: rtl;text-align: right;line-height:200%;font-family:vazir;font-size:medium\">\n",
    "<font face=\"vazir\" size=4>\n",
    "sort یک ستون به ترتیبی که میخواهیم با استفاده از یک لیست انجام میگیرد.\n"
   ]
  },
  {
   "cell_type": "code",
   "execution_count": 91,
   "id": "678d2cad-06f0-4d5a-81ea-163c8ad9896f",
   "metadata": {},
   "outputs": [
    {
     "data": {
      "text/html": [
       "<div>\n",
       "<style scoped>\n",
       "    .dataframe tbody tr th:only-of-type {\n",
       "        vertical-align: middle;\n",
       "    }\n",
       "\n",
       "    .dataframe tbody tr th {\n",
       "        vertical-align: top;\n",
       "    }\n",
       "\n",
       "    .dataframe thead th {\n",
       "        text-align: right;\n",
       "    }\n",
       "</style>\n",
       "<table border=\"1\" class=\"dataframe\">\n",
       "  <thead>\n",
       "    <tr style=\"text-align: right;\">\n",
       "      <th></th>\n",
       "      <th>name</th>\n",
       "      <th>stu_number</th>\n",
       "      <th>average</th>\n",
       "    </tr>\n",
       "  </thead>\n",
       "  <tbody>\n",
       "    <tr>\n",
       "      <th>0</th>\n",
       "      <td>NaN</td>\n",
       "      <td>963613060</td>\n",
       "      <td>19.68</td>\n",
       "    </tr>\n",
       "    <tr>\n",
       "      <th>1</th>\n",
       "      <td>NaN</td>\n",
       "      <td>963613061</td>\n",
       "      <td>19.90</td>\n",
       "    </tr>\n",
       "    <tr>\n",
       "      <th>2</th>\n",
       "      <td>NaN</td>\n",
       "      <td>963613062</td>\n",
       "      <td>17.27</td>\n",
       "    </tr>\n",
       "    <tr>\n",
       "      <th>3</th>\n",
       "      <td>NaN</td>\n",
       "      <td>963613063</td>\n",
       "      <td>19.50</td>\n",
       "    </tr>\n",
       "    <tr>\n",
       "      <th>4</th>\n",
       "      <td>NaN</td>\n",
       "      <td>963613064</td>\n",
       "      <td>15.90</td>\n",
       "    </tr>\n",
       "    <tr>\n",
       "      <th>5</th>\n",
       "      <td>NaN</td>\n",
       "      <td>963613065</td>\n",
       "      <td>18.20</td>\n",
       "    </tr>\n",
       "    <tr>\n",
       "      <th>6</th>\n",
       "      <td>NaN</td>\n",
       "      <td>933613080</td>\n",
       "      <td>19.34</td>\n",
       "    </tr>\n",
       "  </tbody>\n",
       "</table>\n",
       "</div>"
      ],
      "text/plain": [
       "  name stu_number  average\n",
       "0  NaN  963613060    19.68\n",
       "1  NaN  963613061    19.90\n",
       "2  NaN  963613062    17.27\n",
       "3  NaN  963613063    19.50\n",
       "4  NaN  963613064    15.90\n",
       "5  NaN  963613065    18.20\n",
       "6  NaN  933613080    19.34"
      ]
     },
     "execution_count": 91,
     "metadata": {},
     "output_type": "execute_result"
    }
   ],
   "source": [
    "list = ['a','b','c']\n",
    "df['name'] = pd.Categorical(df['name'],categories = list, ordered = True)\n",
    "df.sort_values('name')"
   ]
  },
  {
   "cell_type": "markdown",
   "id": "bc74157f-6fb4-4912-8c04-22da7093f835",
   "metadata": {
    "id": "ZRjNvNoBmES8"
   },
   "source": [
    "<p dir=rtl style=\"direction: rtl;text-align: right;line-height:200%;font-family:vazir;font-size:medium\">\n",
    "<font face=\"vazir\" size=4>\n",
    "برای مرتب کردن بر اساس چند ستون، اسامی ستونها را در یک لیست قرار میدهیم. نوع ascending  هم در یک لیست در مقابل پارامتر مربوطه میگذاریم."
   ]
  },
  {
   "cell_type": "code",
   "execution_count": 92,
   "id": "2b1a3ea3-a6f9-4005-b671-06430bc876eb",
   "metadata": {},
   "outputs": [
    {
     "data": {
      "text/html": [
       "<div>\n",
       "<style scoped>\n",
       "    .dataframe tbody tr th:only-of-type {\n",
       "        vertical-align: middle;\n",
       "    }\n",
       "\n",
       "    .dataframe tbody tr th {\n",
       "        vertical-align: top;\n",
       "    }\n",
       "\n",
       "    .dataframe thead th {\n",
       "        text-align: right;\n",
       "    }\n",
       "</style>\n",
       "<table border=\"1\" class=\"dataframe\">\n",
       "  <thead>\n",
       "    <tr style=\"text-align: right;\">\n",
       "      <th></th>\n",
       "      <th>name</th>\n",
       "      <th>stu_number</th>\n",
       "      <th>average</th>\n",
       "    </tr>\n",
       "  </thead>\n",
       "  <tbody>\n",
       "    <tr>\n",
       "      <th>0</th>\n",
       "      <td>parsa</td>\n",
       "      <td>963613060</td>\n",
       "      <td>19.68</td>\n",
       "    </tr>\n",
       "    <tr>\n",
       "      <th>1</th>\n",
       "      <td>parsa</td>\n",
       "      <td>963613061</td>\n",
       "      <td>19.90</td>\n",
       "    </tr>\n",
       "    <tr>\n",
       "      <th>2</th>\n",
       "      <td>ali</td>\n",
       "      <td>963613062</td>\n",
       "      <td>17.27</td>\n",
       "    </tr>\n",
       "    <tr>\n",
       "      <th>3</th>\n",
       "      <td>hadi</td>\n",
       "      <td>963613063</td>\n",
       "      <td>19.50</td>\n",
       "    </tr>\n",
       "    <tr>\n",
       "      <th>4</th>\n",
       "      <td>ali</td>\n",
       "      <td>963613064</td>\n",
       "      <td>15.90</td>\n",
       "    </tr>\n",
       "    <tr>\n",
       "      <th>5</th>\n",
       "      <td>ghazale</td>\n",
       "      <td>963613065</td>\n",
       "      <td>18.20</td>\n",
       "    </tr>\n",
       "    <tr>\n",
       "      <th>6</th>\n",
       "      <td>hamed</td>\n",
       "      <td>933613080</td>\n",
       "      <td>19.34</td>\n",
       "    </tr>\n",
       "  </tbody>\n",
       "</table>\n",
       "</div>"
      ],
      "text/plain": [
       "      name stu_number  average\n",
       "0    parsa  963613060    19.68\n",
       "1    parsa  963613061    19.90\n",
       "2      ali  963613062    17.27\n",
       "3     hadi  963613063    19.50\n",
       "4      ali  963613064    15.90\n",
       "5  ghazale  963613065    18.20\n",
       "6    hamed  933613080    19.34"
      ]
     },
     "execution_count": 92,
     "metadata": {},
     "output_type": "execute_result"
    }
   ],
   "source": [
    "stu_dictionary = {\n",
    "    \"name\" : [\"parsa\", \"parsa\", \"ali\", \"hadi\", \"ali\", \"ghazale\", \"hamed\"] ,\n",
    "    \"stu_number\" : [\"963613060\", \"963613061\", \"963613062\", \"963613063\", \"963613064\", \"963613065\", \"933613080\"] ,\n",
    "    \"average\" : [19.68,19.90,17.27, 19.5, 15.9, 18.2, 19.34]\n",
    "}\n",
    "df = pd.DataFrame(stu_dictionary)\n",
    "df"
   ]
  },
  {
   "cell_type": "code",
   "execution_count": 93,
   "id": "050d24af-17cd-4a8d-9c29-dedde26876a8",
   "metadata": {},
   "outputs": [
    {
     "data": {
      "text/html": [
       "<div>\n",
       "<style scoped>\n",
       "    .dataframe tbody tr th:only-of-type {\n",
       "        vertical-align: middle;\n",
       "    }\n",
       "\n",
       "    .dataframe tbody tr th {\n",
       "        vertical-align: top;\n",
       "    }\n",
       "\n",
       "    .dataframe thead th {\n",
       "        text-align: right;\n",
       "    }\n",
       "</style>\n",
       "<table border=\"1\" class=\"dataframe\">\n",
       "  <thead>\n",
       "    <tr style=\"text-align: right;\">\n",
       "      <th></th>\n",
       "      <th>name</th>\n",
       "      <th>stu_number</th>\n",
       "      <th>average</th>\n",
       "    </tr>\n",
       "  </thead>\n",
       "  <tbody>\n",
       "    <tr>\n",
       "      <th>2</th>\n",
       "      <td>ali</td>\n",
       "      <td>963613062</td>\n",
       "      <td>17.27</td>\n",
       "    </tr>\n",
       "    <tr>\n",
       "      <th>4</th>\n",
       "      <td>ali</td>\n",
       "      <td>963613064</td>\n",
       "      <td>15.90</td>\n",
       "    </tr>\n",
       "    <tr>\n",
       "      <th>5</th>\n",
       "      <td>ghazale</td>\n",
       "      <td>963613065</td>\n",
       "      <td>18.20</td>\n",
       "    </tr>\n",
       "    <tr>\n",
       "      <th>3</th>\n",
       "      <td>hadi</td>\n",
       "      <td>963613063</td>\n",
       "      <td>19.50</td>\n",
       "    </tr>\n",
       "    <tr>\n",
       "      <th>6</th>\n",
       "      <td>hamed</td>\n",
       "      <td>933613080</td>\n",
       "      <td>19.34</td>\n",
       "    </tr>\n",
       "    <tr>\n",
       "      <th>1</th>\n",
       "      <td>parsa</td>\n",
       "      <td>963613061</td>\n",
       "      <td>19.90</td>\n",
       "    </tr>\n",
       "    <tr>\n",
       "      <th>0</th>\n",
       "      <td>parsa</td>\n",
       "      <td>963613060</td>\n",
       "      <td>19.68</td>\n",
       "    </tr>\n",
       "  </tbody>\n",
       "</table>\n",
       "</div>"
      ],
      "text/plain": [
       "      name stu_number  average\n",
       "2      ali  963613062    17.27\n",
       "4      ali  963613064    15.90\n",
       "5  ghazale  963613065    18.20\n",
       "3     hadi  963613063    19.50\n",
       "6    hamed  933613080    19.34\n",
       "1    parsa  963613061    19.90\n",
       "0    parsa  963613060    19.68"
      ]
     },
     "execution_count": 93,
     "metadata": {},
     "output_type": "execute_result"
    }
   ],
   "source": [
    "df.sort_values(by=['name','average'],ascending=[True,False])"
   ]
  },
  {
   "cell_type": "markdown",
   "id": "fc8d6e0d-eec5-4ca7-898d-e3f7760661bf",
   "metadata": {
    "id": "ZRjNvNoBmES8"
   },
   "source": [
    "<p dir=rtl style=\"direction: rtl;text-align: right;line-height:200%;font-family:vazir;font-size:medium\">\n",
    "<font face=\"vazir\" size=4>\n",
    "* اگر بخواهیم بر اساس اندیس مرتب کنیم از sort_index استفاده میکنیم."
   ]
  },
  {
   "cell_type": "markdown",
   "id": "44a0c38e-4516-4ff6-8d5b-6d30081b8ff9",
   "metadata": {},
   "source": [
    "<br>\n",
    "<div dir=rtl id=\"start\" style=\"direction:rtl;line-height:200%;\">\n",
    "\t<font face=\"vazir\" size=7 color='Red'>\n",
    "ادغام دیتافریم ها    </font>\n",
    "</div>"
   ]
  },
  {
   "cell_type": "markdown",
   "id": "155050d8-5be2-4b82-91e4-01bd27f08ebf",
   "metadata": {
    "id": "ZRjNvNoBmES8"
   },
   "source": [
    "<p dir=rtl style=\"direction: rtl;text-align: right;line-height:200%;font-family:vazir;font-size:medium\">\n",
    "<font face=\"vazir\" size=4>\n",
    "برای ادغام دو دیتافریم از تابع pd.merge استفاده میکنیم."
   ]
  },
  {
   "cell_type": "code",
   "execution_count": 94,
   "id": "93831ded-6a1a-4d68-b4c3-d356340b9425",
   "metadata": {},
   "outputs": [
    {
     "data": {
      "text/html": [
       "<div>\n",
       "<style scoped>\n",
       "    .dataframe tbody tr th:only-of-type {\n",
       "        vertical-align: middle;\n",
       "    }\n",
       "\n",
       "    .dataframe tbody tr th {\n",
       "        vertical-align: top;\n",
       "    }\n",
       "\n",
       "    .dataframe thead th {\n",
       "        text-align: right;\n",
       "    }\n",
       "</style>\n",
       "<table border=\"1\" class=\"dataframe\">\n",
       "  <thead>\n",
       "    <tr style=\"text-align: right;\">\n",
       "      <th></th>\n",
       "      <th>model</th>\n",
       "      <th>Color</th>\n",
       "      <th>HP</th>\n",
       "      <th>Weight (KG)</th>\n",
       "      <th>year</th>\n",
       "    </tr>\n",
       "  </thead>\n",
       "  <tbody>\n",
       "    <tr>\n",
       "      <th>14234</th>\n",
       "      <td>Peykan</td>\n",
       "      <td>Red</td>\n",
       "      <td>48</td>\n",
       "      <td>990</td>\n",
       "      <td>1346</td>\n",
       "    </tr>\n",
       "    <tr>\n",
       "      <th>44234</th>\n",
       "      <td>Peykan</td>\n",
       "      <td>White</td>\n",
       "      <td>48</td>\n",
       "      <td>990</td>\n",
       "      <td>1357</td>\n",
       "    </tr>\n",
       "    <tr>\n",
       "      <th>22312</th>\n",
       "      <td>Peykan</td>\n",
       "      <td>Olive</td>\n",
       "      <td>48</td>\n",
       "      <td>990</td>\n",
       "      <td>1388</td>\n",
       "    </tr>\n",
       "    <tr>\n",
       "      <th>42348</th>\n",
       "      <td>BMW X6</td>\n",
       "      <td>Black</td>\n",
       "      <td>335</td>\n",
       "      <td>2320</td>\n",
       "      <td>1391</td>\n",
       "    </tr>\n",
       "    <tr>\n",
       "      <th>16373</th>\n",
       "      <td>BMW X6</td>\n",
       "      <td>Ametrine</td>\n",
       "      <td>335</td>\n",
       "      <td>2320</td>\n",
       "      <td>1393</td>\n",
       "    </tr>\n",
       "    <tr>\n",
       "      <th>38561</th>\n",
       "      <td>Nissan Junior</td>\n",
       "      <td>Blue</td>\n",
       "      <td>93</td>\n",
       "      <td>1540</td>\n",
       "      <td>1375</td>\n",
       "    </tr>\n",
       "    <tr>\n",
       "      <th>58193</th>\n",
       "      <td>Nissan Junior</td>\n",
       "      <td>White</td>\n",
       "      <td>93</td>\n",
       "      <td>1540</td>\n",
       "      <td>1383</td>\n",
       "    </tr>\n",
       "    <tr>\n",
       "      <th>85612</th>\n",
       "      <td>Nissan Junior</td>\n",
       "      <td>Blue</td>\n",
       "      <td>93</td>\n",
       "      <td>1540</td>\n",
       "      <td>1375</td>\n",
       "    </tr>\n",
       "    <tr>\n",
       "      <th>62471</th>\n",
       "      <td>Nissan Junior</td>\n",
       "      <td>Red</td>\n",
       "      <td>93</td>\n",
       "      <td>1540</td>\n",
       "      <td>1389</td>\n",
       "    </tr>\n",
       "  </tbody>\n",
       "</table>\n",
       "</div>"
      ],
      "text/plain": [
       "               model     Color   HP  Weight (KG)  year\n",
       "14234         Peykan       Red   48          990  1346\n",
       "44234         Peykan     White   48          990  1357\n",
       "22312         Peykan     Olive   48          990  1388\n",
       "42348         BMW X6     Black  335         2320  1391\n",
       "16373         BMW X6  Ametrine  335         2320  1393\n",
       "38561  Nissan Junior      Blue   93         1540  1375\n",
       "58193  Nissan Junior     White   93         1540  1383\n",
       "85612  Nissan Junior      Blue   93         1540  1375\n",
       "62471  Nissan Junior       Red   93         1540  1389"
      ]
     },
     "execution_count": 94,
     "metadata": {},
     "output_type": "execute_result"
    }
   ],
   "source": [
    "import pandas as pd\n",
    "import numpy as np\n",
    "cars_dictionary = {\n",
    "    \"model\" :[\"Peykan\", \"Peykan\", \"Peykan\", \"BMW X6\", \"BMW X6\", \"Nissan Junior\", \"Nissan Junior\", \"Nissan Junior\", \"Nissan Junior\"],\n",
    "    \"Color\" :[\"Red\", \"White\", \"Olive\",  \"Black\", \"Ametrine\", \"Blue\", \"White\", \"Blue\", \"Red\"],\n",
    "    \"HP\" :[48, 48, 48, 335, 335, 93, 93, 93, 93],\n",
    "    \"Weight (KG)\" :[990, 990, 990, 2320, 2320, 1540, 1540, 1540, 1540],\n",
    "    \"year\" :[1346, 1357, 1388, 1391, 1393, 1375, 1383, 1375, 1389]\n",
    "}\n",
    "\n",
    "cars_df = pd.DataFrame(cars_dictionary,\n",
    "                      index = [14234, 44234, 22312, 42348, 16373, 38561, 58193, 85612, 62471])\n",
    "cars_df"
   ]
  },
  {
   "cell_type": "code",
   "execution_count": 95,
   "id": "54466442-7d96-422e-9a36-1070f2e0934b",
   "metadata": {},
   "outputs": [
    {
     "data": {
      "text/html": [
       "<div>\n",
       "<style scoped>\n",
       "    .dataframe tbody tr th:only-of-type {\n",
       "        vertical-align: middle;\n",
       "    }\n",
       "\n",
       "    .dataframe tbody tr th {\n",
       "        vertical-align: top;\n",
       "    }\n",
       "\n",
       "    .dataframe thead th {\n",
       "        text-align: right;\n",
       "    }\n",
       "</style>\n",
       "<table border=\"1\" class=\"dataframe\">\n",
       "  <thead>\n",
       "    <tr style=\"text-align: right;\">\n",
       "      <th></th>\n",
       "      <th>model</th>\n",
       "      <th>price</th>\n",
       "    </tr>\n",
       "  </thead>\n",
       "  <tbody>\n",
       "    <tr>\n",
       "      <th>0</th>\n",
       "      <td>Peykan</td>\n",
       "      <td>40</td>\n",
       "    </tr>\n",
       "    <tr>\n",
       "      <th>1</th>\n",
       "      <td>BMW X6</td>\n",
       "      <td>5200</td>\n",
       "    </tr>\n",
       "    <tr>\n",
       "      <th>2</th>\n",
       "      <td>Nissan Junior</td>\n",
       "      <td>150</td>\n",
       "    </tr>\n",
       "  </tbody>\n",
       "</table>\n",
       "</div>"
      ],
      "text/plain": [
       "           model  price\n",
       "0         Peykan     40\n",
       "1         BMW X6   5200\n",
       "2  Nissan Junior    150"
      ]
     },
     "execution_count": 95,
     "metadata": {},
     "output_type": "execute_result"
    }
   ],
   "source": [
    "price_dictionary = {\n",
    "    \"model\" : [\"Peykan\", \"BMW X6\", \"Nissan Junior\"],\n",
    "    \"price\" : [40, 5200, 150]\n",
    "}\n",
    "price_df = pd.DataFrame(price_dictionary)\n",
    "price_df"
   ]
  },
  {
   "cell_type": "code",
   "execution_count": 96,
   "id": "ff482f42-eb1d-4e00-96cc-688a3039134f",
   "metadata": {},
   "outputs": [
    {
     "data": {
      "text/html": [
       "<div>\n",
       "<style scoped>\n",
       "    .dataframe tbody tr th:only-of-type {\n",
       "        vertical-align: middle;\n",
       "    }\n",
       "\n",
       "    .dataframe tbody tr th {\n",
       "        vertical-align: top;\n",
       "    }\n",
       "\n",
       "    .dataframe thead th {\n",
       "        text-align: right;\n",
       "    }\n",
       "</style>\n",
       "<table border=\"1\" class=\"dataframe\">\n",
       "  <thead>\n",
       "    <tr style=\"text-align: right;\">\n",
       "      <th></th>\n",
       "      <th>model</th>\n",
       "      <th>Color</th>\n",
       "      <th>HP</th>\n",
       "      <th>Weight (KG)</th>\n",
       "      <th>year</th>\n",
       "      <th>price</th>\n",
       "    </tr>\n",
       "  </thead>\n",
       "  <tbody>\n",
       "    <tr>\n",
       "      <th>0</th>\n",
       "      <td>Peykan</td>\n",
       "      <td>Red</td>\n",
       "      <td>48</td>\n",
       "      <td>990</td>\n",
       "      <td>1346</td>\n",
       "      <td>40</td>\n",
       "    </tr>\n",
       "    <tr>\n",
       "      <th>1</th>\n",
       "      <td>Peykan</td>\n",
       "      <td>White</td>\n",
       "      <td>48</td>\n",
       "      <td>990</td>\n",
       "      <td>1357</td>\n",
       "      <td>40</td>\n",
       "    </tr>\n",
       "    <tr>\n",
       "      <th>2</th>\n",
       "      <td>Peykan</td>\n",
       "      <td>Olive</td>\n",
       "      <td>48</td>\n",
       "      <td>990</td>\n",
       "      <td>1388</td>\n",
       "      <td>40</td>\n",
       "    </tr>\n",
       "    <tr>\n",
       "      <th>3</th>\n",
       "      <td>BMW X6</td>\n",
       "      <td>Black</td>\n",
       "      <td>335</td>\n",
       "      <td>2320</td>\n",
       "      <td>1391</td>\n",
       "      <td>5200</td>\n",
       "    </tr>\n",
       "    <tr>\n",
       "      <th>4</th>\n",
       "      <td>BMW X6</td>\n",
       "      <td>Ametrine</td>\n",
       "      <td>335</td>\n",
       "      <td>2320</td>\n",
       "      <td>1393</td>\n",
       "      <td>5200</td>\n",
       "    </tr>\n",
       "    <tr>\n",
       "      <th>5</th>\n",
       "      <td>Nissan Junior</td>\n",
       "      <td>Blue</td>\n",
       "      <td>93</td>\n",
       "      <td>1540</td>\n",
       "      <td>1375</td>\n",
       "      <td>150</td>\n",
       "    </tr>\n",
       "    <tr>\n",
       "      <th>6</th>\n",
       "      <td>Nissan Junior</td>\n",
       "      <td>White</td>\n",
       "      <td>93</td>\n",
       "      <td>1540</td>\n",
       "      <td>1383</td>\n",
       "      <td>150</td>\n",
       "    </tr>\n",
       "    <tr>\n",
       "      <th>7</th>\n",
       "      <td>Nissan Junior</td>\n",
       "      <td>Blue</td>\n",
       "      <td>93</td>\n",
       "      <td>1540</td>\n",
       "      <td>1375</td>\n",
       "      <td>150</td>\n",
       "    </tr>\n",
       "    <tr>\n",
       "      <th>8</th>\n",
       "      <td>Nissan Junior</td>\n",
       "      <td>Red</td>\n",
       "      <td>93</td>\n",
       "      <td>1540</td>\n",
       "      <td>1389</td>\n",
       "      <td>150</td>\n",
       "    </tr>\n",
       "  </tbody>\n",
       "</table>\n",
       "</div>"
      ],
      "text/plain": [
       "           model     Color   HP  Weight (KG)  year  price\n",
       "0         Peykan       Red   48          990  1346     40\n",
       "1         Peykan     White   48          990  1357     40\n",
       "2         Peykan     Olive   48          990  1388     40\n",
       "3         BMW X6     Black  335         2320  1391   5200\n",
       "4         BMW X6  Ametrine  335         2320  1393   5200\n",
       "5  Nissan Junior      Blue   93         1540  1375    150\n",
       "6  Nissan Junior     White   93         1540  1383    150\n",
       "7  Nissan Junior      Blue   93         1540  1375    150\n",
       "8  Nissan Junior       Red   93         1540  1389    150"
      ]
     },
     "execution_count": 96,
     "metadata": {},
     "output_type": "execute_result"
    }
   ],
   "source": [
    "pd.merge(cars_df, price_df)"
   ]
  },
  {
   "cell_type": "markdown",
   "id": "d6a70d35-790c-4d86-9571-35222f70b2df",
   "metadata": {
    "id": "ZRjNvNoBmES8"
   },
   "source": [
    "<p dir=rtl style=\"direction: rtl;text-align: right;line-height:200%;font-family:vazir;font-size:medium\">\n",
    "<font face=\"vazir\" size=4>\n",
    "ستون جدیدی با نام price، به دیتافریم اضافه شده و اطلاعات مربوط هر ماشین را با تطبیق دادن ستون model قیمت گذاری کرده است. دقت کنید که در این حالت، خود تابع pd.merge، با پیدا کردن ستونی که نام مشترکی در هر دو دیتافریم داشت (model) این ستون را به عنوان کلید برای ادغام انتخاب کرده است."
   ]
  },
  {
   "cell_type": "markdown",
   "id": "1bfa47c8-3311-4225-9903-011210a9b9c7",
   "metadata": {},
   "source": [
    "<img src='./2.pandas_file/04.jpg'>"
   ]
  },
  {
   "cell_type": "markdown",
   "id": "46006ccb-a024-4d91-b0a1-7149c2ed47d9",
   "metadata": {
    "id": "ZRjNvNoBmES8"
   },
   "source": [
    "<p dir=rtl style=\"direction: rtl;text-align: right;line-height:200%;font-family:vazir;font-size:medium\">\n",
    "<font face=\"vazir\" size=4>\n",
    "    اگر اندیس یکی از دیتافریم ها چیزی غیر از 0 تا n  باشد، آنرا حذف میکند و مجدد از 0 تا n اندیس گذاری میکند. در نتیجه عد از انجام ادغام، نمایه‌ها ریست شده و تمامی اطلاعات خود را از دست می‌دهند.* برای جلوگیری از حذف اندیس میتوانیم قبل از merge، آن دیتافریم را بازنویسی کنیم و اندیس را به عنوان ستون قرار دهیم و اندیس جدید 0 تا n تعریف کنیم.\n",
    "    <br>\n",
    "    برای این کار از تابع reset_index استفاده میکنیم."
   ]
  },
  {
   "cell_type": "code",
   "execution_count": 97,
   "id": "6ae3e97e-09a4-42ea-9e35-e7896eaa6b72",
   "metadata": {},
   "outputs": [
    {
     "data": {
      "text/html": [
       "<div>\n",
       "<style scoped>\n",
       "    .dataframe tbody tr th:only-of-type {\n",
       "        vertical-align: middle;\n",
       "    }\n",
       "\n",
       "    .dataframe tbody tr th {\n",
       "        vertical-align: top;\n",
       "    }\n",
       "\n",
       "    .dataframe thead th {\n",
       "        text-align: right;\n",
       "    }\n",
       "</style>\n",
       "<table border=\"1\" class=\"dataframe\">\n",
       "  <thead>\n",
       "    <tr style=\"text-align: right;\">\n",
       "      <th></th>\n",
       "      <th>index</th>\n",
       "      <th>model</th>\n",
       "      <th>Color</th>\n",
       "      <th>HP</th>\n",
       "      <th>Weight (KG)</th>\n",
       "      <th>year</th>\n",
       "    </tr>\n",
       "  </thead>\n",
       "  <tbody>\n",
       "    <tr>\n",
       "      <th>0</th>\n",
       "      <td>14234</td>\n",
       "      <td>Peykan</td>\n",
       "      <td>Red</td>\n",
       "      <td>48</td>\n",
       "      <td>990</td>\n",
       "      <td>1346</td>\n",
       "    </tr>\n",
       "    <tr>\n",
       "      <th>1</th>\n",
       "      <td>44234</td>\n",
       "      <td>Peykan</td>\n",
       "      <td>White</td>\n",
       "      <td>48</td>\n",
       "      <td>990</td>\n",
       "      <td>1357</td>\n",
       "    </tr>\n",
       "    <tr>\n",
       "      <th>2</th>\n",
       "      <td>22312</td>\n",
       "      <td>Peykan</td>\n",
       "      <td>Olive</td>\n",
       "      <td>48</td>\n",
       "      <td>990</td>\n",
       "      <td>1388</td>\n",
       "    </tr>\n",
       "    <tr>\n",
       "      <th>3</th>\n",
       "      <td>42348</td>\n",
       "      <td>BMW X6</td>\n",
       "      <td>Black</td>\n",
       "      <td>335</td>\n",
       "      <td>2320</td>\n",
       "      <td>1391</td>\n",
       "    </tr>\n",
       "    <tr>\n",
       "      <th>4</th>\n",
       "      <td>16373</td>\n",
       "      <td>BMW X6</td>\n",
       "      <td>Ametrine</td>\n",
       "      <td>335</td>\n",
       "      <td>2320</td>\n",
       "      <td>1393</td>\n",
       "    </tr>\n",
       "    <tr>\n",
       "      <th>5</th>\n",
       "      <td>38561</td>\n",
       "      <td>Nissan Junior</td>\n",
       "      <td>Blue</td>\n",
       "      <td>93</td>\n",
       "      <td>1540</td>\n",
       "      <td>1375</td>\n",
       "    </tr>\n",
       "    <tr>\n",
       "      <th>6</th>\n",
       "      <td>58193</td>\n",
       "      <td>Nissan Junior</td>\n",
       "      <td>White</td>\n",
       "      <td>93</td>\n",
       "      <td>1540</td>\n",
       "      <td>1383</td>\n",
       "    </tr>\n",
       "    <tr>\n",
       "      <th>7</th>\n",
       "      <td>85612</td>\n",
       "      <td>Nissan Junior</td>\n",
       "      <td>Blue</td>\n",
       "      <td>93</td>\n",
       "      <td>1540</td>\n",
       "      <td>1375</td>\n",
       "    </tr>\n",
       "    <tr>\n",
       "      <th>8</th>\n",
       "      <td>62471</td>\n",
       "      <td>Nissan Junior</td>\n",
       "      <td>Red</td>\n",
       "      <td>93</td>\n",
       "      <td>1540</td>\n",
       "      <td>1389</td>\n",
       "    </tr>\n",
       "  </tbody>\n",
       "</table>\n",
       "</div>"
      ],
      "text/plain": [
       "   index          model     Color   HP  Weight (KG)  year\n",
       "0  14234         Peykan       Red   48          990  1346\n",
       "1  44234         Peykan     White   48          990  1357\n",
       "2  22312         Peykan     Olive   48          990  1388\n",
       "3  42348         BMW X6     Black  335         2320  1391\n",
       "4  16373         BMW X6  Ametrine  335         2320  1393\n",
       "5  38561  Nissan Junior      Blue   93         1540  1375\n",
       "6  58193  Nissan Junior     White   93         1540  1383\n",
       "7  85612  Nissan Junior      Blue   93         1540  1375\n",
       "8  62471  Nissan Junior       Red   93         1540  1389"
      ]
     },
     "execution_count": 97,
     "metadata": {},
     "output_type": "execute_result"
    }
   ],
   "source": [
    "new_df = cars_df.reset_index()\n",
    "new_df"
   ]
  },
  {
   "cell_type": "code",
   "execution_count": 98,
   "id": "9106dbf9-958e-48cc-ad15-4a671475f331",
   "metadata": {},
   "outputs": [
    {
     "data": {
      "text/html": [
       "<div>\n",
       "<style scoped>\n",
       "    .dataframe tbody tr th:only-of-type {\n",
       "        vertical-align: middle;\n",
       "    }\n",
       "\n",
       "    .dataframe tbody tr th {\n",
       "        vertical-align: top;\n",
       "    }\n",
       "\n",
       "    .dataframe thead th {\n",
       "        text-align: right;\n",
       "    }\n",
       "</style>\n",
       "<table border=\"1\" class=\"dataframe\">\n",
       "  <thead>\n",
       "    <tr style=\"text-align: right;\">\n",
       "      <th></th>\n",
       "      <th>index</th>\n",
       "      <th>model</th>\n",
       "      <th>Color</th>\n",
       "      <th>HP</th>\n",
       "      <th>Weight (KG)</th>\n",
       "      <th>year</th>\n",
       "      <th>price</th>\n",
       "    </tr>\n",
       "  </thead>\n",
       "  <tbody>\n",
       "    <tr>\n",
       "      <th>0</th>\n",
       "      <td>14234</td>\n",
       "      <td>Peykan</td>\n",
       "      <td>Red</td>\n",
       "      <td>48</td>\n",
       "      <td>990</td>\n",
       "      <td>1346</td>\n",
       "      <td>40</td>\n",
       "    </tr>\n",
       "    <tr>\n",
       "      <th>1</th>\n",
       "      <td>44234</td>\n",
       "      <td>Peykan</td>\n",
       "      <td>White</td>\n",
       "      <td>48</td>\n",
       "      <td>990</td>\n",
       "      <td>1357</td>\n",
       "      <td>40</td>\n",
       "    </tr>\n",
       "    <tr>\n",
       "      <th>2</th>\n",
       "      <td>22312</td>\n",
       "      <td>Peykan</td>\n",
       "      <td>Olive</td>\n",
       "      <td>48</td>\n",
       "      <td>990</td>\n",
       "      <td>1388</td>\n",
       "      <td>40</td>\n",
       "    </tr>\n",
       "    <tr>\n",
       "      <th>3</th>\n",
       "      <td>42348</td>\n",
       "      <td>BMW X6</td>\n",
       "      <td>Black</td>\n",
       "      <td>335</td>\n",
       "      <td>2320</td>\n",
       "      <td>1391</td>\n",
       "      <td>5200</td>\n",
       "    </tr>\n",
       "    <tr>\n",
       "      <th>4</th>\n",
       "      <td>16373</td>\n",
       "      <td>BMW X6</td>\n",
       "      <td>Ametrine</td>\n",
       "      <td>335</td>\n",
       "      <td>2320</td>\n",
       "      <td>1393</td>\n",
       "      <td>5200</td>\n",
       "    </tr>\n",
       "    <tr>\n",
       "      <th>5</th>\n",
       "      <td>38561</td>\n",
       "      <td>Nissan Junior</td>\n",
       "      <td>Blue</td>\n",
       "      <td>93</td>\n",
       "      <td>1540</td>\n",
       "      <td>1375</td>\n",
       "      <td>150</td>\n",
       "    </tr>\n",
       "    <tr>\n",
       "      <th>6</th>\n",
       "      <td>58193</td>\n",
       "      <td>Nissan Junior</td>\n",
       "      <td>White</td>\n",
       "      <td>93</td>\n",
       "      <td>1540</td>\n",
       "      <td>1383</td>\n",
       "      <td>150</td>\n",
       "    </tr>\n",
       "    <tr>\n",
       "      <th>7</th>\n",
       "      <td>85612</td>\n",
       "      <td>Nissan Junior</td>\n",
       "      <td>Blue</td>\n",
       "      <td>93</td>\n",
       "      <td>1540</td>\n",
       "      <td>1375</td>\n",
       "      <td>150</td>\n",
       "    </tr>\n",
       "    <tr>\n",
       "      <th>8</th>\n",
       "      <td>62471</td>\n",
       "      <td>Nissan Junior</td>\n",
       "      <td>Red</td>\n",
       "      <td>93</td>\n",
       "      <td>1540</td>\n",
       "      <td>1389</td>\n",
       "      <td>150</td>\n",
       "    </tr>\n",
       "  </tbody>\n",
       "</table>\n",
       "</div>"
      ],
      "text/plain": [
       "   index          model     Color   HP  Weight (KG)  year  price\n",
       "0  14234         Peykan       Red   48          990  1346     40\n",
       "1  44234         Peykan     White   48          990  1357     40\n",
       "2  22312         Peykan     Olive   48          990  1388     40\n",
       "3  42348         BMW X6     Black  335         2320  1391   5200\n",
       "4  16373         BMW X6  Ametrine  335         2320  1393   5200\n",
       "5  38561  Nissan Junior      Blue   93         1540  1375    150\n",
       "6  58193  Nissan Junior     White   93         1540  1383    150\n",
       "7  85612  Nissan Junior      Blue   93         1540  1375    150\n",
       "8  62471  Nissan Junior       Red   93         1540  1389    150"
      ]
     },
     "execution_count": 98,
     "metadata": {},
     "output_type": "execute_result"
    }
   ],
   "source": [
    "pd.merge(new_df, price_df)"
   ]
  },
  {
   "cell_type": "markdown",
   "id": "602da9a2-c98d-4434-9754-bcfe24ee8531",
   "metadata": {
    "id": "ZRjNvNoBmES8"
   },
   "source": [
    "<p dir=rtl style=\"direction: rtl;text-align: right;line-height:200%;font-family:vazir;font-size:medium\">\n",
    "<font face=\"vazir\" size=4>\n",
    "اگر ستونها اسم مشترک نداشتند در دستور merge باید مشخص کنیم که از کدام دیتافریم کدام ستون را در نظر بگیرد."
   ]
  },
  {
   "cell_type": "code",
   "execution_count": 99,
   "id": "eb3db615-9f86-4b2d-9179-7808d3a9a24e",
   "metadata": {},
   "outputs": [
    {
     "data": {
      "text/html": [
       "<div>\n",
       "<style scoped>\n",
       "    .dataframe tbody tr th:only-of-type {\n",
       "        vertical-align: middle;\n",
       "    }\n",
       "\n",
       "    .dataframe tbody tr th {\n",
       "        vertical-align: top;\n",
       "    }\n",
       "\n",
       "    .dataframe thead th {\n",
       "        text-align: right;\n",
       "    }\n",
       "</style>\n",
       "<table border=\"1\" class=\"dataframe\">\n",
       "  <thead>\n",
       "    <tr style=\"text-align: right;\">\n",
       "      <th></th>\n",
       "      <th>car model</th>\n",
       "      <th>price</th>\n",
       "    </tr>\n",
       "  </thead>\n",
       "  <tbody>\n",
       "    <tr>\n",
       "      <th>0</th>\n",
       "      <td>Peykan</td>\n",
       "      <td>40</td>\n",
       "    </tr>\n",
       "    <tr>\n",
       "      <th>1</th>\n",
       "      <td>BMW X6</td>\n",
       "      <td>5200</td>\n",
       "    </tr>\n",
       "    <tr>\n",
       "      <th>2</th>\n",
       "      <td>Nissan Junior</td>\n",
       "      <td>150</td>\n",
       "    </tr>\n",
       "  </tbody>\n",
       "</table>\n",
       "</div>"
      ],
      "text/plain": [
       "       car model  price\n",
       "0         Peykan     40\n",
       "1         BMW X6   5200\n",
       "2  Nissan Junior    150"
      ]
     },
     "execution_count": 99,
     "metadata": {},
     "output_type": "execute_result"
    }
   ],
   "source": [
    "price_dictionary2 = {\n",
    "    \"car model\" : [\"Peykan\", \"BMW X6\", \"Nissan Junior\"],\n",
    "    \"price\" : [40, 5200, 150]\n",
    "}\n",
    "price_df2 = pd.DataFrame(price_dictionary2)\n",
    "price_df2"
   ]
  },
  {
   "cell_type": "code",
   "execution_count": 100,
   "id": "27634451-e3c5-4f83-8063-d46ffdafff1f",
   "metadata": {},
   "outputs": [
    {
     "data": {
      "text/html": [
       "<div>\n",
       "<style scoped>\n",
       "    .dataframe tbody tr th:only-of-type {\n",
       "        vertical-align: middle;\n",
       "    }\n",
       "\n",
       "    .dataframe tbody tr th {\n",
       "        vertical-align: top;\n",
       "    }\n",
       "\n",
       "    .dataframe thead th {\n",
       "        text-align: right;\n",
       "    }\n",
       "</style>\n",
       "<table border=\"1\" class=\"dataframe\">\n",
       "  <thead>\n",
       "    <tr style=\"text-align: right;\">\n",
       "      <th></th>\n",
       "      <th>model</th>\n",
       "      <th>Color</th>\n",
       "      <th>HP</th>\n",
       "      <th>Weight (KG)</th>\n",
       "      <th>year</th>\n",
       "      <th>car model</th>\n",
       "      <th>price</th>\n",
       "    </tr>\n",
       "  </thead>\n",
       "  <tbody>\n",
       "    <tr>\n",
       "      <th>0</th>\n",
       "      <td>Peykan</td>\n",
       "      <td>Red</td>\n",
       "      <td>48</td>\n",
       "      <td>990</td>\n",
       "      <td>1346</td>\n",
       "      <td>Peykan</td>\n",
       "      <td>40</td>\n",
       "    </tr>\n",
       "    <tr>\n",
       "      <th>1</th>\n",
       "      <td>Peykan</td>\n",
       "      <td>White</td>\n",
       "      <td>48</td>\n",
       "      <td>990</td>\n",
       "      <td>1357</td>\n",
       "      <td>Peykan</td>\n",
       "      <td>40</td>\n",
       "    </tr>\n",
       "    <tr>\n",
       "      <th>2</th>\n",
       "      <td>Peykan</td>\n",
       "      <td>Olive</td>\n",
       "      <td>48</td>\n",
       "      <td>990</td>\n",
       "      <td>1388</td>\n",
       "      <td>Peykan</td>\n",
       "      <td>40</td>\n",
       "    </tr>\n",
       "    <tr>\n",
       "      <th>3</th>\n",
       "      <td>BMW X6</td>\n",
       "      <td>Black</td>\n",
       "      <td>335</td>\n",
       "      <td>2320</td>\n",
       "      <td>1391</td>\n",
       "      <td>BMW X6</td>\n",
       "      <td>5200</td>\n",
       "    </tr>\n",
       "    <tr>\n",
       "      <th>4</th>\n",
       "      <td>BMW X6</td>\n",
       "      <td>Ametrine</td>\n",
       "      <td>335</td>\n",
       "      <td>2320</td>\n",
       "      <td>1393</td>\n",
       "      <td>BMW X6</td>\n",
       "      <td>5200</td>\n",
       "    </tr>\n",
       "    <tr>\n",
       "      <th>5</th>\n",
       "      <td>Nissan Junior</td>\n",
       "      <td>Blue</td>\n",
       "      <td>93</td>\n",
       "      <td>1540</td>\n",
       "      <td>1375</td>\n",
       "      <td>Nissan Junior</td>\n",
       "      <td>150</td>\n",
       "    </tr>\n",
       "    <tr>\n",
       "      <th>6</th>\n",
       "      <td>Nissan Junior</td>\n",
       "      <td>White</td>\n",
       "      <td>93</td>\n",
       "      <td>1540</td>\n",
       "      <td>1383</td>\n",
       "      <td>Nissan Junior</td>\n",
       "      <td>150</td>\n",
       "    </tr>\n",
       "    <tr>\n",
       "      <th>7</th>\n",
       "      <td>Nissan Junior</td>\n",
       "      <td>Blue</td>\n",
       "      <td>93</td>\n",
       "      <td>1540</td>\n",
       "      <td>1375</td>\n",
       "      <td>Nissan Junior</td>\n",
       "      <td>150</td>\n",
       "    </tr>\n",
       "    <tr>\n",
       "      <th>8</th>\n",
       "      <td>Nissan Junior</td>\n",
       "      <td>Red</td>\n",
       "      <td>93</td>\n",
       "      <td>1540</td>\n",
       "      <td>1389</td>\n",
       "      <td>Nissan Junior</td>\n",
       "      <td>150</td>\n",
       "    </tr>\n",
       "  </tbody>\n",
       "</table>\n",
       "</div>"
      ],
      "text/plain": [
       "           model     Color   HP  Weight (KG)  year      car model  price\n",
       "0         Peykan       Red   48          990  1346         Peykan     40\n",
       "1         Peykan     White   48          990  1357         Peykan     40\n",
       "2         Peykan     Olive   48          990  1388         Peykan     40\n",
       "3         BMW X6     Black  335         2320  1391         BMW X6   5200\n",
       "4         BMW X6  Ametrine  335         2320  1393         BMW X6   5200\n",
       "5  Nissan Junior      Blue   93         1540  1375  Nissan Junior    150\n",
       "6  Nissan Junior     White   93         1540  1383  Nissan Junior    150\n",
       "7  Nissan Junior      Blue   93         1540  1375  Nissan Junior    150\n",
       "8  Nissan Junior       Red   93         1540  1389  Nissan Junior    150"
      ]
     },
     "execution_count": 100,
     "metadata": {},
     "output_type": "execute_result"
    }
   ],
   "source": [
    "merged = pd.merge(cars_df, price_df2, left_on = \"model\", right_on = \"car model\") \n",
    "merged"
   ]
  },
  {
   "cell_type": "markdown",
   "id": "291515b2-2003-44ef-a58f-5fb75a9e4ce2",
   "metadata": {
    "id": "ZRjNvNoBmES8"
   },
   "source": [
    "<p dir=rtl style=\"direction: rtl;text-align: right;line-height:200%;font-family:vazir;font-size:medium\">\n",
    "<font face=\"vazir\" size=3 color='midnightblue'>\n",
    "در این حالت، به دلیل متفاوت بودن نام کلیدها هر دوی آن‌ها در نتیجه‌ی نهایی ظاهر شده‌اند. برای حذف یکی از تابع drop کمک میگیریم."
   ]
  },
  {
   "cell_type": "code",
   "execution_count": 101,
   "id": "3765a675-0c8c-4913-99b8-67326ef5cb64",
   "metadata": {},
   "outputs": [
    {
     "data": {
      "text/html": [
       "<div>\n",
       "<style scoped>\n",
       "    .dataframe tbody tr th:only-of-type {\n",
       "        vertical-align: middle;\n",
       "    }\n",
       "\n",
       "    .dataframe tbody tr th {\n",
       "        vertical-align: top;\n",
       "    }\n",
       "\n",
       "    .dataframe thead th {\n",
       "        text-align: right;\n",
       "    }\n",
       "</style>\n",
       "<table border=\"1\" class=\"dataframe\">\n",
       "  <thead>\n",
       "    <tr style=\"text-align: right;\">\n",
       "      <th></th>\n",
       "      <th>model</th>\n",
       "      <th>Color</th>\n",
       "      <th>HP</th>\n",
       "      <th>Weight (KG)</th>\n",
       "      <th>year</th>\n",
       "      <th>price</th>\n",
       "    </tr>\n",
       "  </thead>\n",
       "  <tbody>\n",
       "    <tr>\n",
       "      <th>0</th>\n",
       "      <td>Peykan</td>\n",
       "      <td>Red</td>\n",
       "      <td>48</td>\n",
       "      <td>990</td>\n",
       "      <td>1346</td>\n",
       "      <td>40</td>\n",
       "    </tr>\n",
       "    <tr>\n",
       "      <th>1</th>\n",
       "      <td>Peykan</td>\n",
       "      <td>White</td>\n",
       "      <td>48</td>\n",
       "      <td>990</td>\n",
       "      <td>1357</td>\n",
       "      <td>40</td>\n",
       "    </tr>\n",
       "    <tr>\n",
       "      <th>2</th>\n",
       "      <td>Peykan</td>\n",
       "      <td>Olive</td>\n",
       "      <td>48</td>\n",
       "      <td>990</td>\n",
       "      <td>1388</td>\n",
       "      <td>40</td>\n",
       "    </tr>\n",
       "    <tr>\n",
       "      <th>3</th>\n",
       "      <td>BMW X6</td>\n",
       "      <td>Black</td>\n",
       "      <td>335</td>\n",
       "      <td>2320</td>\n",
       "      <td>1391</td>\n",
       "      <td>5200</td>\n",
       "    </tr>\n",
       "    <tr>\n",
       "      <th>4</th>\n",
       "      <td>BMW X6</td>\n",
       "      <td>Ametrine</td>\n",
       "      <td>335</td>\n",
       "      <td>2320</td>\n",
       "      <td>1393</td>\n",
       "      <td>5200</td>\n",
       "    </tr>\n",
       "    <tr>\n",
       "      <th>5</th>\n",
       "      <td>Nissan Junior</td>\n",
       "      <td>Blue</td>\n",
       "      <td>93</td>\n",
       "      <td>1540</td>\n",
       "      <td>1375</td>\n",
       "      <td>150</td>\n",
       "    </tr>\n",
       "    <tr>\n",
       "      <th>6</th>\n",
       "      <td>Nissan Junior</td>\n",
       "      <td>White</td>\n",
       "      <td>93</td>\n",
       "      <td>1540</td>\n",
       "      <td>1383</td>\n",
       "      <td>150</td>\n",
       "    </tr>\n",
       "    <tr>\n",
       "      <th>7</th>\n",
       "      <td>Nissan Junior</td>\n",
       "      <td>Blue</td>\n",
       "      <td>93</td>\n",
       "      <td>1540</td>\n",
       "      <td>1375</td>\n",
       "      <td>150</td>\n",
       "    </tr>\n",
       "    <tr>\n",
       "      <th>8</th>\n",
       "      <td>Nissan Junior</td>\n",
       "      <td>Red</td>\n",
       "      <td>93</td>\n",
       "      <td>1540</td>\n",
       "      <td>1389</td>\n",
       "      <td>150</td>\n",
       "    </tr>\n",
       "  </tbody>\n",
       "</table>\n",
       "</div>"
      ],
      "text/plain": [
       "           model     Color   HP  Weight (KG)  year  price\n",
       "0         Peykan       Red   48          990  1346     40\n",
       "1         Peykan     White   48          990  1357     40\n",
       "2         Peykan     Olive   48          990  1388     40\n",
       "3         BMW X6     Black  335         2320  1391   5200\n",
       "4         BMW X6  Ametrine  335         2320  1393   5200\n",
       "5  Nissan Junior      Blue   93         1540  1375    150\n",
       "6  Nissan Junior     White   93         1540  1383    150\n",
       "7  Nissan Junior      Blue   93         1540  1375    150\n",
       "8  Nissan Junior       Red   93         1540  1389    150"
      ]
     },
     "execution_count": 101,
     "metadata": {},
     "output_type": "execute_result"
    }
   ],
   "source": [
    "merged.drop(columns = [\"car model\"])"
   ]
  },
  {
   "cell_type": "markdown",
   "id": "f2a7dac8-6aaa-4d5d-ba21-949f4559158d",
   "metadata": {},
   "source": [
    "<br>\n",
    "<div dir=rtl id=\"start\" style=\"direction:rtl;line-height:200%;\">\n",
    "\t<font face=\"vazir\" size=6 color='Orange'>\n",
    "استفاده از چند کلید برای ادغام"
   ]
  },
  {
   "cell_type": "markdown",
   "id": "22199372-70fb-45dc-9eae-6083f97d713f",
   "metadata": {
    "id": "ZRjNvNoBmES8"
   },
   "source": [
    "<p dir=rtl style=\"direction: rtl;text-align: right;line-height:200%;font-family:vazir;font-size:medium\">\n",
    "<font face=\"vazir\" size=4>\n",
    "برای آنکه بیشتر از یک ستون را به عنوان کلید در نظر بگیریم، از پارامترهای left_on , right_on کمک میگیریم و اسامی ستون ها را به صورت لیست در مقابل پارامترها مینویسیم.\n",
    "    "
   ]
  },
  {
   "cell_type": "code",
   "execution_count": 102,
   "id": "a96934d3-2a4c-4784-b263-0c5335511f48",
   "metadata": {},
   "outputs": [
    {
     "data": {
      "text/html": [
       "<div>\n",
       "<style scoped>\n",
       "    .dataframe tbody tr th:only-of-type {\n",
       "        vertical-align: middle;\n",
       "    }\n",
       "\n",
       "    .dataframe tbody tr th {\n",
       "        vertical-align: top;\n",
       "    }\n",
       "\n",
       "    .dataframe thead th {\n",
       "        text-align: right;\n",
       "    }\n",
       "</style>\n",
       "<table border=\"1\" class=\"dataframe\">\n",
       "  <thead>\n",
       "    <tr style=\"text-align: right;\">\n",
       "      <th></th>\n",
       "      <th>year</th>\n",
       "      <th>car model</th>\n",
       "      <th>price</th>\n",
       "    </tr>\n",
       "  </thead>\n",
       "  <tbody>\n",
       "    <tr>\n",
       "      <th>0</th>\n",
       "      <td>1346</td>\n",
       "      <td>Peykan</td>\n",
       "      <td>25</td>\n",
       "    </tr>\n",
       "    <tr>\n",
       "      <th>1</th>\n",
       "      <td>1357</td>\n",
       "      <td>Peykan</td>\n",
       "      <td>30</td>\n",
       "    </tr>\n",
       "    <tr>\n",
       "      <th>2</th>\n",
       "      <td>1388</td>\n",
       "      <td>Peykan</td>\n",
       "      <td>48</td>\n",
       "    </tr>\n",
       "    <tr>\n",
       "      <th>3</th>\n",
       "      <td>1391</td>\n",
       "      <td>BMW X6</td>\n",
       "      <td>2200</td>\n",
       "    </tr>\n",
       "    <tr>\n",
       "      <th>4</th>\n",
       "      <td>1393</td>\n",
       "      <td>BMW X6</td>\n",
       "      <td>4800</td>\n",
       "    </tr>\n",
       "    <tr>\n",
       "      <th>5</th>\n",
       "      <td>1375</td>\n",
       "      <td>Nissan Junior</td>\n",
       "      <td>105</td>\n",
       "    </tr>\n",
       "    <tr>\n",
       "      <th>6</th>\n",
       "      <td>1383</td>\n",
       "      <td>Nissan Junior</td>\n",
       "      <td>130</td>\n",
       "    </tr>\n",
       "    <tr>\n",
       "      <th>7</th>\n",
       "      <td>1389</td>\n",
       "      <td>Nissan Junior</td>\n",
       "      <td>155</td>\n",
       "    </tr>\n",
       "  </tbody>\n",
       "</table>\n",
       "</div>"
      ],
      "text/plain": [
       "   year      car model  price\n",
       "0  1346         Peykan     25\n",
       "1  1357         Peykan     30\n",
       "2  1388         Peykan     48\n",
       "3  1391         BMW X6   2200\n",
       "4  1393         BMW X6   4800\n",
       "5  1375  Nissan Junior    105\n",
       "6  1383  Nissan Junior    130\n",
       "7  1389  Nissan Junior    155"
      ]
     },
     "execution_count": 102,
     "metadata": {},
     "output_type": "execute_result"
    }
   ],
   "source": [
    "price_with_year_dictionary = {\n",
    "    \"year\" :[1346, 1357, 1388, 1391, 1393,  1375, 1383, 1389],\n",
    "    \"car model\" :[\"Peykan\", \"Peykan\", \"Peykan\", \"BMW X6\", \"BMW X6\", \"Nissan Junior\", \"Nissan Junior\", \"Nissan Junior\"],\n",
    "    \"price\" :[25, 30, 48, 2200, 4800, 105, 130, 155]\n",
    "}\n",
    "\n",
    "price_with_year_df = pd.DataFrame(price_with_year_dictionary)\n",
    "price_with_year_df"
   ]
  },
  {
   "cell_type": "code",
   "execution_count": 103,
   "id": "8c248ce2-e75c-46af-9d4d-a46c7f8fdc1b",
   "metadata": {},
   "outputs": [
    {
     "data": {
      "text/html": [
       "<div>\n",
       "<style scoped>\n",
       "    .dataframe tbody tr th:only-of-type {\n",
       "        vertical-align: middle;\n",
       "    }\n",
       "\n",
       "    .dataframe tbody tr th {\n",
       "        vertical-align: top;\n",
       "    }\n",
       "\n",
       "    .dataframe thead th {\n",
       "        text-align: right;\n",
       "    }\n",
       "</style>\n",
       "<table border=\"1\" class=\"dataframe\">\n",
       "  <thead>\n",
       "    <tr style=\"text-align: right;\">\n",
       "      <th></th>\n",
       "      <th>model</th>\n",
       "      <th>Color</th>\n",
       "      <th>HP</th>\n",
       "      <th>Weight (KG)</th>\n",
       "      <th>year</th>\n",
       "      <th>car model</th>\n",
       "      <th>price</th>\n",
       "    </tr>\n",
       "  </thead>\n",
       "  <tbody>\n",
       "    <tr>\n",
       "      <th>0</th>\n",
       "      <td>Peykan</td>\n",
       "      <td>Red</td>\n",
       "      <td>48</td>\n",
       "      <td>990</td>\n",
       "      <td>1346</td>\n",
       "      <td>Peykan</td>\n",
       "      <td>25</td>\n",
       "    </tr>\n",
       "    <tr>\n",
       "      <th>1</th>\n",
       "      <td>Peykan</td>\n",
       "      <td>White</td>\n",
       "      <td>48</td>\n",
       "      <td>990</td>\n",
       "      <td>1357</td>\n",
       "      <td>Peykan</td>\n",
       "      <td>30</td>\n",
       "    </tr>\n",
       "    <tr>\n",
       "      <th>2</th>\n",
       "      <td>Peykan</td>\n",
       "      <td>Olive</td>\n",
       "      <td>48</td>\n",
       "      <td>990</td>\n",
       "      <td>1388</td>\n",
       "      <td>Peykan</td>\n",
       "      <td>48</td>\n",
       "    </tr>\n",
       "    <tr>\n",
       "      <th>3</th>\n",
       "      <td>BMW X6</td>\n",
       "      <td>Black</td>\n",
       "      <td>335</td>\n",
       "      <td>2320</td>\n",
       "      <td>1391</td>\n",
       "      <td>BMW X6</td>\n",
       "      <td>2200</td>\n",
       "    </tr>\n",
       "    <tr>\n",
       "      <th>4</th>\n",
       "      <td>BMW X6</td>\n",
       "      <td>Ametrine</td>\n",
       "      <td>335</td>\n",
       "      <td>2320</td>\n",
       "      <td>1393</td>\n",
       "      <td>BMW X6</td>\n",
       "      <td>4800</td>\n",
       "    </tr>\n",
       "    <tr>\n",
       "      <th>5</th>\n",
       "      <td>Nissan Junior</td>\n",
       "      <td>Blue</td>\n",
       "      <td>93</td>\n",
       "      <td>1540</td>\n",
       "      <td>1375</td>\n",
       "      <td>Nissan Junior</td>\n",
       "      <td>105</td>\n",
       "    </tr>\n",
       "    <tr>\n",
       "      <th>6</th>\n",
       "      <td>Nissan Junior</td>\n",
       "      <td>Blue</td>\n",
       "      <td>93</td>\n",
       "      <td>1540</td>\n",
       "      <td>1375</td>\n",
       "      <td>Nissan Junior</td>\n",
       "      <td>105</td>\n",
       "    </tr>\n",
       "    <tr>\n",
       "      <th>7</th>\n",
       "      <td>Nissan Junior</td>\n",
       "      <td>White</td>\n",
       "      <td>93</td>\n",
       "      <td>1540</td>\n",
       "      <td>1383</td>\n",
       "      <td>Nissan Junior</td>\n",
       "      <td>130</td>\n",
       "    </tr>\n",
       "    <tr>\n",
       "      <th>8</th>\n",
       "      <td>Nissan Junior</td>\n",
       "      <td>Red</td>\n",
       "      <td>93</td>\n",
       "      <td>1540</td>\n",
       "      <td>1389</td>\n",
       "      <td>Nissan Junior</td>\n",
       "      <td>155</td>\n",
       "    </tr>\n",
       "  </tbody>\n",
       "</table>\n",
       "</div>"
      ],
      "text/plain": [
       "           model     Color   HP  Weight (KG)  year      car model  price\n",
       "0         Peykan       Red   48          990  1346         Peykan     25\n",
       "1         Peykan     White   48          990  1357         Peykan     30\n",
       "2         Peykan     Olive   48          990  1388         Peykan     48\n",
       "3         BMW X6     Black  335         2320  1391         BMW X6   2200\n",
       "4         BMW X6  Ametrine  335         2320  1393         BMW X6   4800\n",
       "5  Nissan Junior      Blue   93         1540  1375  Nissan Junior    105\n",
       "6  Nissan Junior      Blue   93         1540  1375  Nissan Junior    105\n",
       "7  Nissan Junior     White   93         1540  1383  Nissan Junior    130\n",
       "8  Nissan Junior       Red   93         1540  1389  Nissan Junior    155"
      ]
     },
     "execution_count": 103,
     "metadata": {},
     "output_type": "execute_result"
    }
   ],
   "source": [
    "pd.merge(cars_df, price_with_year_df, left_on = [\"model\" , \"year\"], right_on = [\"car model\", \"year\"])"
   ]
  },
  {
   "cell_type": "markdown",
   "id": "0313426e-1b0e-43f8-a7ba-728e41ca8c9b",
   "metadata": {},
   "source": [
    "<img src='./2.pandas_file/05.jpg'>"
   ]
  },
  {
   "cell_type": "markdown",
   "id": "cd9ace39-88a1-4b8f-8b8b-14b107f49976",
   "metadata": {
    "id": "ZRjNvNoBmES8"
   },
   "source": [
    "<p dir=rtl style=\"direction: rtl;text-align: right;line-height:200%;font-family:vazir;font-size:medium\">\n",
    "<font face=\"vazir\" size=4>\n",
    "اگر ستونی که به عنوان کلید میخواستیم استفاده کنیم به صورت اندیس در دیتافریم آمده بود، از پارامترهای left_index , right_index استفاده میکنیم. این پارامترها در حالت پیش فرض مقدار False دارند، برای این حالت باید مقدار آنها True بشود.   "
   ]
  },
  {
   "cell_type": "code",
   "execution_count": 104,
   "id": "d0e5c04b-91e3-42bb-89be-d5756bd91614",
   "metadata": {},
   "outputs": [
    {
     "data": {
      "text/html": [
       "<div>\n",
       "<style scoped>\n",
       "    .dataframe tbody tr th:only-of-type {\n",
       "        vertical-align: middle;\n",
       "    }\n",
       "\n",
       "    .dataframe tbody tr th {\n",
       "        vertical-align: top;\n",
       "    }\n",
       "\n",
       "    .dataframe thead th {\n",
       "        text-align: right;\n",
       "    }\n",
       "</style>\n",
       "<table border=\"1\" class=\"dataframe\">\n",
       "  <thead>\n",
       "    <tr style=\"text-align: right;\">\n",
       "      <th></th>\n",
       "      <th>HP</th>\n",
       "      <th>price</th>\n",
       "    </tr>\n",
       "  </thead>\n",
       "  <tbody>\n",
       "    <tr>\n",
       "      <th>Peykan</th>\n",
       "      <td>40</td>\n",
       "      <td>48</td>\n",
       "    </tr>\n",
       "    <tr>\n",
       "      <th>BMW X6</th>\n",
       "      <td>330</td>\n",
       "      <td>2200</td>\n",
       "    </tr>\n",
       "    <tr>\n",
       "      <th>Nissan Junior</th>\n",
       "      <td>87</td>\n",
       "      <td>105</td>\n",
       "    </tr>\n",
       "  </tbody>\n",
       "</table>\n",
       "</div>"
      ],
      "text/plain": [
       "                HP  price\n",
       "Peykan          40     48\n",
       "BMW X6         330   2200\n",
       "Nissan Junior   87    105"
      ]
     },
     "execution_count": 104,
     "metadata": {},
     "output_type": "execute_result"
    }
   ],
   "source": [
    "price_dictionary3 = {\n",
    "    \"HP\" :[40, 330, 87],\n",
    "    \"price\" :[48, 2200, 105]\n",
    "}\n",
    "\n",
    "price_df3 = pd.DataFrame(price_dictionary3,\n",
    "                        index = [\"Peykan\", \"BMW X6\", \"Nissan Junior\"])\n",
    "price_df3"
   ]
  },
  {
   "cell_type": "code",
   "execution_count": 105,
   "id": "b0cc7a0f-fe73-4a5e-88df-73f9b1e81548",
   "metadata": {},
   "outputs": [
    {
     "data": {
      "text/html": [
       "<div>\n",
       "<style scoped>\n",
       "    .dataframe tbody tr th:only-of-type {\n",
       "        vertical-align: middle;\n",
       "    }\n",
       "\n",
       "    .dataframe tbody tr th {\n",
       "        vertical-align: top;\n",
       "    }\n",
       "\n",
       "    .dataframe thead th {\n",
       "        text-align: right;\n",
       "    }\n",
       "</style>\n",
       "<table border=\"1\" class=\"dataframe\">\n",
       "  <thead>\n",
       "    <tr style=\"text-align: right;\">\n",
       "      <th></th>\n",
       "      <th>model</th>\n",
       "      <th>Color</th>\n",
       "      <th>HP_x</th>\n",
       "      <th>Weight (KG)</th>\n",
       "      <th>year</th>\n",
       "      <th>HP_y</th>\n",
       "      <th>price</th>\n",
       "    </tr>\n",
       "  </thead>\n",
       "  <tbody>\n",
       "    <tr>\n",
       "      <th>14234</th>\n",
       "      <td>Peykan</td>\n",
       "      <td>Red</td>\n",
       "      <td>48</td>\n",
       "      <td>990</td>\n",
       "      <td>1346</td>\n",
       "      <td>40</td>\n",
       "      <td>48</td>\n",
       "    </tr>\n",
       "    <tr>\n",
       "      <th>44234</th>\n",
       "      <td>Peykan</td>\n",
       "      <td>White</td>\n",
       "      <td>48</td>\n",
       "      <td>990</td>\n",
       "      <td>1357</td>\n",
       "      <td>40</td>\n",
       "      <td>48</td>\n",
       "    </tr>\n",
       "    <tr>\n",
       "      <th>22312</th>\n",
       "      <td>Peykan</td>\n",
       "      <td>Olive</td>\n",
       "      <td>48</td>\n",
       "      <td>990</td>\n",
       "      <td>1388</td>\n",
       "      <td>40</td>\n",
       "      <td>48</td>\n",
       "    </tr>\n",
       "    <tr>\n",
       "      <th>42348</th>\n",
       "      <td>BMW X6</td>\n",
       "      <td>Black</td>\n",
       "      <td>335</td>\n",
       "      <td>2320</td>\n",
       "      <td>1391</td>\n",
       "      <td>330</td>\n",
       "      <td>2200</td>\n",
       "    </tr>\n",
       "    <tr>\n",
       "      <th>16373</th>\n",
       "      <td>BMW X6</td>\n",
       "      <td>Ametrine</td>\n",
       "      <td>335</td>\n",
       "      <td>2320</td>\n",
       "      <td>1393</td>\n",
       "      <td>330</td>\n",
       "      <td>2200</td>\n",
       "    </tr>\n",
       "    <tr>\n",
       "      <th>38561</th>\n",
       "      <td>Nissan Junior</td>\n",
       "      <td>Blue</td>\n",
       "      <td>93</td>\n",
       "      <td>1540</td>\n",
       "      <td>1375</td>\n",
       "      <td>87</td>\n",
       "      <td>105</td>\n",
       "    </tr>\n",
       "    <tr>\n",
       "      <th>58193</th>\n",
       "      <td>Nissan Junior</td>\n",
       "      <td>White</td>\n",
       "      <td>93</td>\n",
       "      <td>1540</td>\n",
       "      <td>1383</td>\n",
       "      <td>87</td>\n",
       "      <td>105</td>\n",
       "    </tr>\n",
       "    <tr>\n",
       "      <th>85612</th>\n",
       "      <td>Nissan Junior</td>\n",
       "      <td>Blue</td>\n",
       "      <td>93</td>\n",
       "      <td>1540</td>\n",
       "      <td>1375</td>\n",
       "      <td>87</td>\n",
       "      <td>105</td>\n",
       "    </tr>\n",
       "    <tr>\n",
       "      <th>62471</th>\n",
       "      <td>Nissan Junior</td>\n",
       "      <td>Red</td>\n",
       "      <td>93</td>\n",
       "      <td>1540</td>\n",
       "      <td>1389</td>\n",
       "      <td>87</td>\n",
       "      <td>105</td>\n",
       "    </tr>\n",
       "  </tbody>\n",
       "</table>\n",
       "</div>"
      ],
      "text/plain": [
       "               model     Color  HP_x  Weight (KG)  year  HP_y  price\n",
       "14234         Peykan       Red    48          990  1346    40     48\n",
       "44234         Peykan     White    48          990  1357    40     48\n",
       "22312         Peykan     Olive    48          990  1388    40     48\n",
       "42348         BMW X6     Black   335         2320  1391   330   2200\n",
       "16373         BMW X6  Ametrine   335         2320  1393   330   2200\n",
       "38561  Nissan Junior      Blue    93         1540  1375    87    105\n",
       "58193  Nissan Junior     White    93         1540  1383    87    105\n",
       "85612  Nissan Junior      Blue    93         1540  1375    87    105\n",
       "62471  Nissan Junior       Red    93         1540  1389    87    105"
      ]
     },
     "execution_count": 105,
     "metadata": {},
     "output_type": "execute_result"
    }
   ],
   "source": [
    "pd.merge(cars_df, price_df3, left_on = \"model\" , right_index = True)"
   ]
  },
  {
   "cell_type": "markdown",
   "id": "ce4f7373-e568-44c1-a03b-a9902225cecf",
   "metadata": {
    "id": "ZRjNvNoBmES8"
   },
   "source": [
    "<p dir=rtl style=\"direction: rtl;text-align: right;line-height:200%;font-family:vazir;font-size:medium\">\n",
    "<font face=\"vazir\" size=3 color='midnightblue'>\n",
    "دیتافریمی که این بار برای قیمت استفاده کردیم، دارای اطلاعات HP یا همان اسب بخار ماشین نیز می‌شد. در این حالت، پانداس برای نگه‌ داشتن هر دو این ستون‌ها به آن‌ها پسوند‌هایی را اختصاص داده است. در حالتی که ستون تکراری داریم، می‌توانیم با استفاده از دستور drop، یکی از آن‌ها را حذف کنیم. اما اگر به مقادیر دقت کنید، متوجه متفاوت بودن این ستون‌ها می‌شوید. برای تعیین پسوند این ستونها، از پارامتر suffixes استفاده می‌کنیم."
   ]
  },
  {
   "cell_type": "code",
   "execution_count": 106,
   "id": "5e468881-22c2-415d-a8cc-d01fbf992f06",
   "metadata": {},
   "outputs": [
    {
     "data": {
      "text/html": [
       "<div>\n",
       "<style scoped>\n",
       "    .dataframe tbody tr th:only-of-type {\n",
       "        vertical-align: middle;\n",
       "    }\n",
       "\n",
       "    .dataframe tbody tr th {\n",
       "        vertical-align: top;\n",
       "    }\n",
       "\n",
       "    .dataframe thead th {\n",
       "        text-align: right;\n",
       "    }\n",
       "</style>\n",
       "<table border=\"1\" class=\"dataframe\">\n",
       "  <thead>\n",
       "    <tr style=\"text-align: right;\">\n",
       "      <th></th>\n",
       "      <th>model</th>\n",
       "      <th>Color</th>\n",
       "      <th>HP_gallery</th>\n",
       "      <th>Weight (KG)</th>\n",
       "      <th>year</th>\n",
       "      <th>HP_web</th>\n",
       "      <th>price</th>\n",
       "    </tr>\n",
       "  </thead>\n",
       "  <tbody>\n",
       "    <tr>\n",
       "      <th>14234</th>\n",
       "      <td>Peykan</td>\n",
       "      <td>Red</td>\n",
       "      <td>48</td>\n",
       "      <td>990</td>\n",
       "      <td>1346</td>\n",
       "      <td>40</td>\n",
       "      <td>48</td>\n",
       "    </tr>\n",
       "    <tr>\n",
       "      <th>44234</th>\n",
       "      <td>Peykan</td>\n",
       "      <td>White</td>\n",
       "      <td>48</td>\n",
       "      <td>990</td>\n",
       "      <td>1357</td>\n",
       "      <td>40</td>\n",
       "      <td>48</td>\n",
       "    </tr>\n",
       "    <tr>\n",
       "      <th>22312</th>\n",
       "      <td>Peykan</td>\n",
       "      <td>Olive</td>\n",
       "      <td>48</td>\n",
       "      <td>990</td>\n",
       "      <td>1388</td>\n",
       "      <td>40</td>\n",
       "      <td>48</td>\n",
       "    </tr>\n",
       "    <tr>\n",
       "      <th>42348</th>\n",
       "      <td>BMW X6</td>\n",
       "      <td>Black</td>\n",
       "      <td>335</td>\n",
       "      <td>2320</td>\n",
       "      <td>1391</td>\n",
       "      <td>330</td>\n",
       "      <td>2200</td>\n",
       "    </tr>\n",
       "    <tr>\n",
       "      <th>16373</th>\n",
       "      <td>BMW X6</td>\n",
       "      <td>Ametrine</td>\n",
       "      <td>335</td>\n",
       "      <td>2320</td>\n",
       "      <td>1393</td>\n",
       "      <td>330</td>\n",
       "      <td>2200</td>\n",
       "    </tr>\n",
       "    <tr>\n",
       "      <th>38561</th>\n",
       "      <td>Nissan Junior</td>\n",
       "      <td>Blue</td>\n",
       "      <td>93</td>\n",
       "      <td>1540</td>\n",
       "      <td>1375</td>\n",
       "      <td>87</td>\n",
       "      <td>105</td>\n",
       "    </tr>\n",
       "    <tr>\n",
       "      <th>58193</th>\n",
       "      <td>Nissan Junior</td>\n",
       "      <td>White</td>\n",
       "      <td>93</td>\n",
       "      <td>1540</td>\n",
       "      <td>1383</td>\n",
       "      <td>87</td>\n",
       "      <td>105</td>\n",
       "    </tr>\n",
       "    <tr>\n",
       "      <th>85612</th>\n",
       "      <td>Nissan Junior</td>\n",
       "      <td>Blue</td>\n",
       "      <td>93</td>\n",
       "      <td>1540</td>\n",
       "      <td>1375</td>\n",
       "      <td>87</td>\n",
       "      <td>105</td>\n",
       "    </tr>\n",
       "    <tr>\n",
       "      <th>62471</th>\n",
       "      <td>Nissan Junior</td>\n",
       "      <td>Red</td>\n",
       "      <td>93</td>\n",
       "      <td>1540</td>\n",
       "      <td>1389</td>\n",
       "      <td>87</td>\n",
       "      <td>105</td>\n",
       "    </tr>\n",
       "  </tbody>\n",
       "</table>\n",
       "</div>"
      ],
      "text/plain": [
       "               model     Color  HP_gallery  Weight (KG)  year  HP_web  price\n",
       "14234         Peykan       Red          48          990  1346      40     48\n",
       "44234         Peykan     White          48          990  1357      40     48\n",
       "22312         Peykan     Olive          48          990  1388      40     48\n",
       "42348         BMW X6     Black         335         2320  1391     330   2200\n",
       "16373         BMW X6  Ametrine         335         2320  1393     330   2200\n",
       "38561  Nissan Junior      Blue          93         1540  1375      87    105\n",
       "58193  Nissan Junior     White          93         1540  1383      87    105\n",
       "85612  Nissan Junior      Blue          93         1540  1375      87    105\n",
       "62471  Nissan Junior       Red          93         1540  1389      87    105"
      ]
     },
     "execution_count": 106,
     "metadata": {},
     "output_type": "execute_result"
    }
   ],
   "source": [
    "pd.merge(cars_df, price_df3, left_on = \"model\" , right_index = True, suffixes=('_gallery', '_web'))"
   ]
  },
  {
   "cell_type": "markdown",
   "id": "84032b4b-83bf-43eb-9671-225177762512",
   "metadata": {},
   "source": [
    "<br>\n",
    "<div dir=rtl id=\"start\" style=\"direction:rtl;line-height:200%;\">\n",
    "\t<font face=\"vazir\" size=6 color='Orange'>\n",
    "انواع ادغام"
   ]
  },
  {
   "cell_type": "markdown",
   "id": "e5fb0b07-2940-4b50-9289-df054b133abe",
   "metadata": {
    "id": "ZRjNvNoBmES8"
   },
   "source": [
    "<p dir=rtl style=\"direction: rtl;text-align: right;line-height:200%;font-family:vazir;font-size:medium\">\n",
    "<font face=\"vazir\" size=4>\n",
    "در ادغام دو دیتافریم اگر ستونهایی که به عنوان کلید نام میبریم در دو دیتافریم شبیه هم نباشند، پس از ادغام در حالت پیش فرض فقط ردیف های مشترک آورده میشوند. برای آنکه از حذف یک سری اطلاعات جلوگیری کنیم و نوع ادغام دیتافریمها را تعیین کنیم از پارامتر how استفاده میکنیم.\n",
    "    <br>\n",
    "    چهار نوع ادغام (join) داریم:   "
   ]
  },
  {
   "cell_type": "markdown",
   "id": "869505e2-2333-49ef-a164-eb137f7abdd0",
   "metadata": {},
   "source": [
    "<br>\n",
    "<div dir=rtl id=\"start\" style=\"direction:rtl;line-height:200%;\">\n",
    "<font face=\"vazir\" size=3>\n",
    "        \n",
    "| join| توضیحات|\n",
    "| ------------ |-------- |\n",
    "| inner| تنها مقادیری از کلیدها در نتیجه نهایی ظاهر می‌شود که در هر دو جدول دیده شده باشند.|\n",
    "| outer| تمامی مقادیر کلید‌ها در نتیجه ظاهر می‌شوند و برای مقادیری که یکی از دو جدول مقدار ندارد NaN در نظر گرفته می‌شود.|\n",
    "| left| فقط مقادیر کلید جدول سمت چپ در نظر گرفته می‌شود.|\n",
    "| right| فقط مقادیر کلید جدول سمت راست در نظر گرفته می‌شود.|\n"
   ]
  },
  {
   "cell_type": "markdown",
   "id": "9546f996-cacc-4dc6-bbe1-4fc30045070b",
   "metadata": {},
   "source": [
    "<img src='./2.pandas_file/06.jpg'>"
   ]
  },
  {
   "cell_type": "code",
   "execution_count": 107,
   "id": "c63d695d-7bed-4944-899a-5ab1500a45be",
   "metadata": {},
   "outputs": [
    {
     "data": {
      "text/html": [
       "<div>\n",
       "<style scoped>\n",
       "    .dataframe tbody tr th:only-of-type {\n",
       "        vertical-align: middle;\n",
       "    }\n",
       "\n",
       "    .dataframe tbody tr th {\n",
       "        vertical-align: top;\n",
       "    }\n",
       "\n",
       "    .dataframe thead th {\n",
       "        text-align: right;\n",
       "    }\n",
       "</style>\n",
       "<table border=\"1\" class=\"dataframe\">\n",
       "  <thead>\n",
       "    <tr style=\"text-align: right;\">\n",
       "      <th></th>\n",
       "      <th>model</th>\n",
       "      <th>Color</th>\n",
       "      <th>HP</th>\n",
       "      <th>Weight (KG)</th>\n",
       "    </tr>\n",
       "  </thead>\n",
       "  <tbody>\n",
       "    <tr>\n",
       "      <th>0</th>\n",
       "      <td>Peykan</td>\n",
       "      <td>Red</td>\n",
       "      <td>48</td>\n",
       "      <td>990</td>\n",
       "    </tr>\n",
       "    <tr>\n",
       "      <th>1</th>\n",
       "      <td>Peykan</td>\n",
       "      <td>White</td>\n",
       "      <td>48</td>\n",
       "      <td>990</td>\n",
       "    </tr>\n",
       "    <tr>\n",
       "      <th>2</th>\n",
       "      <td>Peykan</td>\n",
       "      <td>Olive</td>\n",
       "      <td>48</td>\n",
       "      <td>990</td>\n",
       "    </tr>\n",
       "    <tr>\n",
       "      <th>3</th>\n",
       "      <td>BMW X6</td>\n",
       "      <td>White</td>\n",
       "      <td>335</td>\n",
       "      <td>2320</td>\n",
       "    </tr>\n",
       "    <tr>\n",
       "      <th>4</th>\n",
       "      <td>Nissan Junior</td>\n",
       "      <td>Black</td>\n",
       "      <td>93</td>\n",
       "      <td>1540</td>\n",
       "    </tr>\n",
       "    <tr>\n",
       "      <th>5</th>\n",
       "      <td>Pride 131</td>\n",
       "      <td>Ametrine</td>\n",
       "      <td>71</td>\n",
       "      <td>915</td>\n",
       "    </tr>\n",
       "    <tr>\n",
       "      <th>6</th>\n",
       "      <td>Pride 131</td>\n",
       "      <td>Blue</td>\n",
       "      <td>71</td>\n",
       "      <td>915</td>\n",
       "    </tr>\n",
       "  </tbody>\n",
       "</table>\n",
       "</div>"
      ],
      "text/plain": [
       "           model     Color   HP  Weight (KG)\n",
       "0         Peykan       Red   48          990\n",
       "1         Peykan     White   48          990\n",
       "2         Peykan     Olive   48          990\n",
       "3         BMW X6     White  335         2320\n",
       "4  Nissan Junior     Black   93         1540\n",
       "5      Pride 131  Ametrine   71          915\n",
       "6      Pride 131      Blue   71          915"
      ]
     },
     "execution_count": 107,
     "metadata": {},
     "output_type": "execute_result"
    }
   ],
   "source": [
    "full_cars_dictionary = {\n",
    "    \"model\" :[\"Peykan\", \"Peykan\", \"Peykan\", \"BMW X6\", \"Nissan Junior\", \"Pride 131\", \"Pride 131\"],\n",
    "    \"Color\" :[\"Red\", \"White\", \"Olive\", \"White\", \"Black\", \"Ametrine\", \"Blue\"],\n",
    "    \"HP\" :[48, 48, 48, 335, 93, 71, 71],\n",
    "    \"Weight (KG)\" :[990, 990, 990, 2320, 1540, 915, 915]\n",
    "}\n",
    "\n",
    "full_cars_df = pd.DataFrame(full_cars_dictionary)\n",
    "full_cars_df"
   ]
  },
  {
   "cell_type": "code",
   "execution_count": 108,
   "id": "aad4db6e-9f82-4e5c-8fff-1bfa4dbd816e",
   "metadata": {},
   "outputs": [
    {
     "data": {
      "text/html": [
       "<div>\n",
       "<style scoped>\n",
       "    .dataframe tbody tr th:only-of-type {\n",
       "        vertical-align: middle;\n",
       "    }\n",
       "\n",
       "    .dataframe tbody tr th {\n",
       "        vertical-align: top;\n",
       "    }\n",
       "\n",
       "    .dataframe thead th {\n",
       "        text-align: right;\n",
       "    }\n",
       "</style>\n",
       "<table border=\"1\" class=\"dataframe\">\n",
       "  <thead>\n",
       "    <tr style=\"text-align: right;\">\n",
       "      <th></th>\n",
       "      <th>model</th>\n",
       "      <th>price</th>\n",
       "    </tr>\n",
       "  </thead>\n",
       "  <tbody>\n",
       "    <tr>\n",
       "      <th>0</th>\n",
       "      <td>Peykan</td>\n",
       "      <td>37</td>\n",
       "    </tr>\n",
       "    <tr>\n",
       "      <th>1</th>\n",
       "      <td>BMW X6</td>\n",
       "      <td>4800</td>\n",
       "    </tr>\n",
       "    <tr>\n",
       "      <th>2</th>\n",
       "      <td>Nissan Junior</td>\n",
       "      <td>105</td>\n",
       "    </tr>\n",
       "    <tr>\n",
       "      <th>3</th>\n",
       "      <td>Dena</td>\n",
       "      <td>380</td>\n",
       "    </tr>\n",
       "  </tbody>\n",
       "</table>\n",
       "</div>"
      ],
      "text/plain": [
       "           model  price\n",
       "0         Peykan     37\n",
       "1         BMW X6   4800\n",
       "2  Nissan Junior    105\n",
       "3           Dena    380"
      ]
     },
     "execution_count": 108,
     "metadata": {},
     "output_type": "execute_result"
    }
   ],
   "source": [
    "full_price_dictionary = {\n",
    "    \"model\" :[\"Peykan\", \"BMW X6\", \"Nissan Junior\", \"Dena\"],\n",
    "    \"price\" :[37, 4800, 105, 380]\n",
    "}\n",
    "\n",
    "full_price_df = pd.DataFrame(full_price_dictionary)\n",
    "full_price_df"
   ]
  },
  {
   "cell_type": "code",
   "execution_count": 109,
   "id": "588ea0a9-db07-4876-914a-f0a3d39bd876",
   "metadata": {},
   "outputs": [
    {
     "data": {
      "text/html": [
       "<div>\n",
       "<style scoped>\n",
       "    .dataframe tbody tr th:only-of-type {\n",
       "        vertical-align: middle;\n",
       "    }\n",
       "\n",
       "    .dataframe tbody tr th {\n",
       "        vertical-align: top;\n",
       "    }\n",
       "\n",
       "    .dataframe thead th {\n",
       "        text-align: right;\n",
       "    }\n",
       "</style>\n",
       "<table border=\"1\" class=\"dataframe\">\n",
       "  <thead>\n",
       "    <tr style=\"text-align: right;\">\n",
       "      <th></th>\n",
       "      <th>model</th>\n",
       "      <th>Color</th>\n",
       "      <th>HP</th>\n",
       "      <th>Weight (KG)</th>\n",
       "      <th>price</th>\n",
       "    </tr>\n",
       "  </thead>\n",
       "  <tbody>\n",
       "    <tr>\n",
       "      <th>0</th>\n",
       "      <td>Peykan</td>\n",
       "      <td>Red</td>\n",
       "      <td>48</td>\n",
       "      <td>990</td>\n",
       "      <td>37</td>\n",
       "    </tr>\n",
       "    <tr>\n",
       "      <th>1</th>\n",
       "      <td>Peykan</td>\n",
       "      <td>White</td>\n",
       "      <td>48</td>\n",
       "      <td>990</td>\n",
       "      <td>37</td>\n",
       "    </tr>\n",
       "    <tr>\n",
       "      <th>2</th>\n",
       "      <td>Peykan</td>\n",
       "      <td>Olive</td>\n",
       "      <td>48</td>\n",
       "      <td>990</td>\n",
       "      <td>37</td>\n",
       "    </tr>\n",
       "    <tr>\n",
       "      <th>3</th>\n",
       "      <td>BMW X6</td>\n",
       "      <td>White</td>\n",
       "      <td>335</td>\n",
       "      <td>2320</td>\n",
       "      <td>4800</td>\n",
       "    </tr>\n",
       "    <tr>\n",
       "      <th>4</th>\n",
       "      <td>Nissan Junior</td>\n",
       "      <td>Black</td>\n",
       "      <td>93</td>\n",
       "      <td>1540</td>\n",
       "      <td>105</td>\n",
       "    </tr>\n",
       "  </tbody>\n",
       "</table>\n",
       "</div>"
      ],
      "text/plain": [
       "           model  Color   HP  Weight (KG)  price\n",
       "0         Peykan    Red   48          990     37\n",
       "1         Peykan  White   48          990     37\n",
       "2         Peykan  Olive   48          990     37\n",
       "3         BMW X6  White  335         2320   4800\n",
       "4  Nissan Junior  Black   93         1540    105"
      ]
     },
     "execution_count": 109,
     "metadata": {},
     "output_type": "execute_result"
    }
   ],
   "source": [
    "pd.merge(full_cars_df, full_price_df)"
   ]
  },
  {
   "cell_type": "markdown",
   "id": "600ef688-273f-4628-908e-0583f55a9787",
   "metadata": {},
   "source": [
    "<img src='./2.pandas_file/07.jpg'>"
   ]
  },
  {
   "cell_type": "code",
   "execution_count": 110,
   "id": "702ec2bb-ae32-4853-9a23-a4a29f94dfe1",
   "metadata": {},
   "outputs": [
    {
     "data": {
      "text/html": [
       "<div>\n",
       "<style scoped>\n",
       "    .dataframe tbody tr th:only-of-type {\n",
       "        vertical-align: middle;\n",
       "    }\n",
       "\n",
       "    .dataframe tbody tr th {\n",
       "        vertical-align: top;\n",
       "    }\n",
       "\n",
       "    .dataframe thead th {\n",
       "        text-align: right;\n",
       "    }\n",
       "</style>\n",
       "<table border=\"1\" class=\"dataframe\">\n",
       "  <thead>\n",
       "    <tr style=\"text-align: right;\">\n",
       "      <th></th>\n",
       "      <th>model</th>\n",
       "      <th>Color</th>\n",
       "      <th>HP</th>\n",
       "      <th>Weight (KG)</th>\n",
       "      <th>price</th>\n",
       "    </tr>\n",
       "  </thead>\n",
       "  <tbody>\n",
       "    <tr>\n",
       "      <th>0</th>\n",
       "      <td>Peykan</td>\n",
       "      <td>Red</td>\n",
       "      <td>48</td>\n",
       "      <td>990</td>\n",
       "      <td>37.0</td>\n",
       "    </tr>\n",
       "    <tr>\n",
       "      <th>1</th>\n",
       "      <td>Peykan</td>\n",
       "      <td>White</td>\n",
       "      <td>48</td>\n",
       "      <td>990</td>\n",
       "      <td>37.0</td>\n",
       "    </tr>\n",
       "    <tr>\n",
       "      <th>2</th>\n",
       "      <td>Peykan</td>\n",
       "      <td>Olive</td>\n",
       "      <td>48</td>\n",
       "      <td>990</td>\n",
       "      <td>37.0</td>\n",
       "    </tr>\n",
       "    <tr>\n",
       "      <th>3</th>\n",
       "      <td>BMW X6</td>\n",
       "      <td>White</td>\n",
       "      <td>335</td>\n",
       "      <td>2320</td>\n",
       "      <td>4800.0</td>\n",
       "    </tr>\n",
       "    <tr>\n",
       "      <th>4</th>\n",
       "      <td>Nissan Junior</td>\n",
       "      <td>Black</td>\n",
       "      <td>93</td>\n",
       "      <td>1540</td>\n",
       "      <td>105.0</td>\n",
       "    </tr>\n",
       "    <tr>\n",
       "      <th>5</th>\n",
       "      <td>Pride 131</td>\n",
       "      <td>Ametrine</td>\n",
       "      <td>71</td>\n",
       "      <td>915</td>\n",
       "      <td>NaN</td>\n",
       "    </tr>\n",
       "    <tr>\n",
       "      <th>6</th>\n",
       "      <td>Pride 131</td>\n",
       "      <td>Blue</td>\n",
       "      <td>71</td>\n",
       "      <td>915</td>\n",
       "      <td>NaN</td>\n",
       "    </tr>\n",
       "  </tbody>\n",
       "</table>\n",
       "</div>"
      ],
      "text/plain": [
       "           model     Color   HP  Weight (KG)   price\n",
       "0         Peykan       Red   48          990    37.0\n",
       "1         Peykan     White   48          990    37.0\n",
       "2         Peykan     Olive   48          990    37.0\n",
       "3         BMW X6     White  335         2320  4800.0\n",
       "4  Nissan Junior     Black   93         1540   105.0\n",
       "5      Pride 131  Ametrine   71          915     NaN\n",
       "6      Pride 131      Blue   71          915     NaN"
      ]
     },
     "execution_count": 110,
     "metadata": {},
     "output_type": "execute_result"
    }
   ],
   "source": [
    "pd.merge(full_cars_df, full_price_df, how = \"left\")"
   ]
  },
  {
   "cell_type": "markdown",
   "id": "d8908572-f4ad-417e-9276-47a5064a8ee2",
   "metadata": {},
   "source": [
    "<img src='./2.pandas_file/08.jpg'>"
   ]
  },
  {
   "cell_type": "markdown",
   "id": "7d99c9a4-be75-4d40-a690-100df9b8ef06",
   "metadata": {},
   "source": [
    "<br>\n",
    "<div dir=rtl id=\"start\" style=\"direction:rtl;line-height:200%;\">\n",
    "\t<font face=\"vazir\" size=7 color='Red'>\n",
    "توابع اتصال و هم‌پوشانی"
   ]
  },
  {
   "cell_type": "markdown",
   "id": "0c64c05c-8a1d-45b3-a2d4-12660faf8cb2",
   "metadata": {
    "id": "ZRjNvNoBmES8"
   },
   "source": [
    "<p dir=rtl style=\"direction: rtl;text-align: right;line-height:200%;font-family:vazir;font-size:medium\">\n",
    "<font face=\"vazir\" size=4>\n",
    "برای اتصال دو دیتافریم علاوه بر تابع append از تابع دیگری به نام concat میتوانیم استفاده کنیم.  \n",
    "    <br>\n",
    "    پارامتر axis مشخص کننده چگونه قرار گرفتن دو دیتافریم است. اگر axis=0 باشد، سطرهای df2 زیر سطرهای df1 اضافه میشوند. \n",
    "    <br>\n",
    "   * برای مقادیری که در دیتافریم دوم موجود نیستند مقدار NaN (Not a Number) را در نظر می‌گیرد."
   ]
  },
  {
   "cell_type": "code",
   "execution_count": 111,
   "id": "72ac1e78-140b-4d4e-bca3-b2f1c11fc3ad",
   "metadata": {},
   "outputs": [
    {
     "data": {
      "text/html": [
       "<div>\n",
       "<style scoped>\n",
       "    .dataframe tbody tr th:only-of-type {\n",
       "        vertical-align: middle;\n",
       "    }\n",
       "\n",
       "    .dataframe tbody tr th {\n",
       "        vertical-align: top;\n",
       "    }\n",
       "\n",
       "    .dataframe thead th {\n",
       "        text-align: right;\n",
       "    }\n",
       "</style>\n",
       "<table border=\"1\" class=\"dataframe\">\n",
       "  <thead>\n",
       "    <tr style=\"text-align: right;\">\n",
       "      <th></th>\n",
       "      <th>model</th>\n",
       "      <th>Color</th>\n",
       "      <th>HP</th>\n",
       "      <th>Weight (KG)</th>\n",
       "      <th>year</th>\n",
       "    </tr>\n",
       "  </thead>\n",
       "  <tbody>\n",
       "    <tr>\n",
       "      <th>0</th>\n",
       "      <td>Peykan</td>\n",
       "      <td>Red</td>\n",
       "      <td>48</td>\n",
       "      <td>990</td>\n",
       "      <td>1346</td>\n",
       "    </tr>\n",
       "    <tr>\n",
       "      <th>1</th>\n",
       "      <td>Peykan</td>\n",
       "      <td>Olive</td>\n",
       "      <td>48</td>\n",
       "      <td>990</td>\n",
       "      <td>1388</td>\n",
       "    </tr>\n",
       "    <tr>\n",
       "      <th>2</th>\n",
       "      <td>BMW X6</td>\n",
       "      <td>Ametrine</td>\n",
       "      <td>335</td>\n",
       "      <td>2320</td>\n",
       "      <td>1393</td>\n",
       "    </tr>\n",
       "    <tr>\n",
       "      <th>3</th>\n",
       "      <td>Nissan Junior</td>\n",
       "      <td>White</td>\n",
       "      <td>93</td>\n",
       "      <td>1540</td>\n",
       "      <td>1383</td>\n",
       "    </tr>\n",
       "    <tr>\n",
       "      <th>4</th>\n",
       "      <td>Nissan Junior</td>\n",
       "      <td>Red</td>\n",
       "      <td>93</td>\n",
       "      <td>1540</td>\n",
       "      <td>1389</td>\n",
       "    </tr>\n",
       "  </tbody>\n",
       "</table>\n",
       "</div>"
      ],
      "text/plain": [
       "           model     Color   HP  Weight (KG)  year\n",
       "0         Peykan       Red   48          990  1346\n",
       "1         Peykan     Olive   48          990  1388\n",
       "2         BMW X6  Ametrine  335         2320  1393\n",
       "3  Nissan Junior     White   93         1540  1383\n",
       "4  Nissan Junior       Red   93         1540  1389"
      ]
     },
     "execution_count": 111,
     "metadata": {},
     "output_type": "execute_result"
    }
   ],
   "source": [
    "dictionary1 = {\n",
    "    \"model\" :[\"Peykan\", \"Peykan\", \"BMW X6\", \"Nissan Junior\", \"Nissan Junior\"],\n",
    "    \"Color\" :[\"Red\",\"Olive\", \"Ametrine\", \"White\", \"Red\"],\n",
    "    \"HP\" :[48, 48, 335, 93, 93],\n",
    "    \"Weight (KG)\" :[990, 990, 2320, 1540, 1540],\n",
    "    \"year\" :[1346, 1388, 1393, 1383, 1389]\n",
    "}\n",
    "df1 = pd.DataFrame(dictionary1)\n",
    "df1"
   ]
  },
  {
   "cell_type": "code",
   "execution_count": 112,
   "id": "9aba8f01-ee90-4eb4-a000-2200984b5bed",
   "metadata": {},
   "outputs": [
    {
     "data": {
      "text/html": [
       "<div>\n",
       "<style scoped>\n",
       "    .dataframe tbody tr th:only-of-type {\n",
       "        vertical-align: middle;\n",
       "    }\n",
       "\n",
       "    .dataframe tbody tr th {\n",
       "        vertical-align: top;\n",
       "    }\n",
       "\n",
       "    .dataframe thead th {\n",
       "        text-align: right;\n",
       "    }\n",
       "</style>\n",
       "<table border=\"1\" class=\"dataframe\">\n",
       "  <thead>\n",
       "    <tr style=\"text-align: right;\">\n",
       "      <th></th>\n",
       "      <th>model</th>\n",
       "      <th>Color</th>\n",
       "      <th>Weight (KG)</th>\n",
       "      <th>year</th>\n",
       "    </tr>\n",
       "  </thead>\n",
       "  <tbody>\n",
       "    <tr>\n",
       "      <th>0</th>\n",
       "      <td>Peykan</td>\n",
       "      <td>White</td>\n",
       "      <td>990</td>\n",
       "      <td>1357</td>\n",
       "    </tr>\n",
       "    <tr>\n",
       "      <th>1</th>\n",
       "      <td>BMW X6</td>\n",
       "      <td>Black</td>\n",
       "      <td>2320</td>\n",
       "      <td>1391</td>\n",
       "    </tr>\n",
       "    <tr>\n",
       "      <th>2</th>\n",
       "      <td>Nissan Junior</td>\n",
       "      <td>Blue</td>\n",
       "      <td>1540</td>\n",
       "      <td>1375</td>\n",
       "    </tr>\n",
       "    <tr>\n",
       "      <th>3</th>\n",
       "      <td>Nissan Junior</td>\n",
       "      <td>Blue</td>\n",
       "      <td>1540</td>\n",
       "      <td>1375</td>\n",
       "    </tr>\n",
       "  </tbody>\n",
       "</table>\n",
       "</div>"
      ],
      "text/plain": [
       "           model  Color  Weight (KG)  year\n",
       "0         Peykan  White          990  1357\n",
       "1         BMW X6  Black         2320  1391\n",
       "2  Nissan Junior   Blue         1540  1375\n",
       "3  Nissan Junior   Blue         1540  1375"
      ]
     },
     "execution_count": 112,
     "metadata": {},
     "output_type": "execute_result"
    }
   ],
   "source": [
    "dictionary2 = {\n",
    "    \"model\" :[\"Peykan\", \"BMW X6\", \"Nissan Junior\", \"Nissan Junior\"],\n",
    "    \"Color\" :[\"White\", \"Black\", \"Blue\", \"Blue\"],\n",
    "    \"Weight (KG)\" :[990, 2320, 1540, 1540],\n",
    "    \"year\" :[1357, 1391, 1375, 1375]\n",
    "}\n",
    "df2 = pd.DataFrame(dictionary2)\n",
    "df2"
   ]
  },
  {
   "cell_type": "code",
   "execution_count": 113,
   "id": "c1ac3912-0a43-4ff5-afe1-9ebe2b5ddfff",
   "metadata": {},
   "outputs": [
    {
     "data": {
      "text/html": [
       "<div>\n",
       "<style scoped>\n",
       "    .dataframe tbody tr th:only-of-type {\n",
       "        vertical-align: middle;\n",
       "    }\n",
       "\n",
       "    .dataframe tbody tr th {\n",
       "        vertical-align: top;\n",
       "    }\n",
       "\n",
       "    .dataframe thead th {\n",
       "        text-align: right;\n",
       "    }\n",
       "</style>\n",
       "<table border=\"1\" class=\"dataframe\">\n",
       "  <thead>\n",
       "    <tr style=\"text-align: right;\">\n",
       "      <th></th>\n",
       "      <th>model</th>\n",
       "      <th>Color</th>\n",
       "      <th>HP</th>\n",
       "      <th>Weight (KG)</th>\n",
       "      <th>year</th>\n",
       "    </tr>\n",
       "  </thead>\n",
       "  <tbody>\n",
       "    <tr>\n",
       "      <th>0</th>\n",
       "      <td>Peykan</td>\n",
       "      <td>Red</td>\n",
       "      <td>48.0</td>\n",
       "      <td>990</td>\n",
       "      <td>1346</td>\n",
       "    </tr>\n",
       "    <tr>\n",
       "      <th>1</th>\n",
       "      <td>Peykan</td>\n",
       "      <td>Olive</td>\n",
       "      <td>48.0</td>\n",
       "      <td>990</td>\n",
       "      <td>1388</td>\n",
       "    </tr>\n",
       "    <tr>\n",
       "      <th>2</th>\n",
       "      <td>BMW X6</td>\n",
       "      <td>Ametrine</td>\n",
       "      <td>335.0</td>\n",
       "      <td>2320</td>\n",
       "      <td>1393</td>\n",
       "    </tr>\n",
       "    <tr>\n",
       "      <th>3</th>\n",
       "      <td>Nissan Junior</td>\n",
       "      <td>White</td>\n",
       "      <td>93.0</td>\n",
       "      <td>1540</td>\n",
       "      <td>1383</td>\n",
       "    </tr>\n",
       "    <tr>\n",
       "      <th>4</th>\n",
       "      <td>Nissan Junior</td>\n",
       "      <td>Red</td>\n",
       "      <td>93.0</td>\n",
       "      <td>1540</td>\n",
       "      <td>1389</td>\n",
       "    </tr>\n",
       "    <tr>\n",
       "      <th>0</th>\n",
       "      <td>Peykan</td>\n",
       "      <td>White</td>\n",
       "      <td>NaN</td>\n",
       "      <td>990</td>\n",
       "      <td>1357</td>\n",
       "    </tr>\n",
       "    <tr>\n",
       "      <th>1</th>\n",
       "      <td>BMW X6</td>\n",
       "      <td>Black</td>\n",
       "      <td>NaN</td>\n",
       "      <td>2320</td>\n",
       "      <td>1391</td>\n",
       "    </tr>\n",
       "    <tr>\n",
       "      <th>2</th>\n",
       "      <td>Nissan Junior</td>\n",
       "      <td>Blue</td>\n",
       "      <td>NaN</td>\n",
       "      <td>1540</td>\n",
       "      <td>1375</td>\n",
       "    </tr>\n",
       "    <tr>\n",
       "      <th>3</th>\n",
       "      <td>Nissan Junior</td>\n",
       "      <td>Blue</td>\n",
       "      <td>NaN</td>\n",
       "      <td>1540</td>\n",
       "      <td>1375</td>\n",
       "    </tr>\n",
       "  </tbody>\n",
       "</table>\n",
       "</div>"
      ],
      "text/plain": [
       "           model     Color     HP  Weight (KG)  year\n",
       "0         Peykan       Red   48.0          990  1346\n",
       "1         Peykan     Olive   48.0          990  1388\n",
       "2         BMW X6  Ametrine  335.0         2320  1393\n",
       "3  Nissan Junior     White   93.0         1540  1383\n",
       "4  Nissan Junior       Red   93.0         1540  1389\n",
       "0         Peykan     White    NaN          990  1357\n",
       "1         BMW X6     Black    NaN         2320  1391\n",
       "2  Nissan Junior      Blue    NaN         1540  1375\n",
       "3  Nissan Junior      Blue    NaN         1540  1375"
      ]
     },
     "execution_count": 113,
     "metadata": {},
     "output_type": "execute_result"
    }
   ],
   "source": [
    "a = pd.concat([df1, df2], axis=0)\n",
    "a"
   ]
  },
  {
   "cell_type": "markdown",
   "id": "51bfcf09-c3d3-4c9d-805a-8fce50133335",
   "metadata": {
    "id": "ZRjNvNoBmES8"
   },
   "source": [
    "<p dir=rtl style=\"direction: rtl;text-align: right;line-height:200%;font-family:vazir;font-size:medium\">\n",
    "<font face=\"vazir\" size=3 color='midnightblue'>\n",
    "این تابع بدون تغییر نمایه‌ها دقیقا دو دیتافریم را به هم چسبانده است. برای آنکه نمایه ها را به حالت استاندارد بین 0 تا n-1 برگردانیم، از تابع reset_index استفاده میکنیم و ستون اندیس قبلی را با دستور drop حذف میکنیم."
   ]
  },
  {
   "cell_type": "code",
   "execution_count": 114,
   "id": "0b667bc4-6373-4b83-bf7b-32dc1d71b591",
   "metadata": {},
   "outputs": [
    {
     "data": {
      "text/html": [
       "<div>\n",
       "<style scoped>\n",
       "    .dataframe tbody tr th:only-of-type {\n",
       "        vertical-align: middle;\n",
       "    }\n",
       "\n",
       "    .dataframe tbody tr th {\n",
       "        vertical-align: top;\n",
       "    }\n",
       "\n",
       "    .dataframe thead th {\n",
       "        text-align: right;\n",
       "    }\n",
       "</style>\n",
       "<table border=\"1\" class=\"dataframe\">\n",
       "  <thead>\n",
       "    <tr style=\"text-align: right;\">\n",
       "      <th></th>\n",
       "      <th>model</th>\n",
       "      <th>Color</th>\n",
       "      <th>HP</th>\n",
       "      <th>Weight (KG)</th>\n",
       "      <th>year</th>\n",
       "    </tr>\n",
       "  </thead>\n",
       "  <tbody>\n",
       "    <tr>\n",
       "      <th>0</th>\n",
       "      <td>Peykan</td>\n",
       "      <td>Red</td>\n",
       "      <td>48.0</td>\n",
       "      <td>990</td>\n",
       "      <td>1346</td>\n",
       "    </tr>\n",
       "    <tr>\n",
       "      <th>1</th>\n",
       "      <td>Peykan</td>\n",
       "      <td>Olive</td>\n",
       "      <td>48.0</td>\n",
       "      <td>990</td>\n",
       "      <td>1388</td>\n",
       "    </tr>\n",
       "    <tr>\n",
       "      <th>2</th>\n",
       "      <td>BMW X6</td>\n",
       "      <td>Ametrine</td>\n",
       "      <td>335.0</td>\n",
       "      <td>2320</td>\n",
       "      <td>1393</td>\n",
       "    </tr>\n",
       "    <tr>\n",
       "      <th>3</th>\n",
       "      <td>Nissan Junior</td>\n",
       "      <td>White</td>\n",
       "      <td>93.0</td>\n",
       "      <td>1540</td>\n",
       "      <td>1383</td>\n",
       "    </tr>\n",
       "    <tr>\n",
       "      <th>4</th>\n",
       "      <td>Nissan Junior</td>\n",
       "      <td>Red</td>\n",
       "      <td>93.0</td>\n",
       "      <td>1540</td>\n",
       "      <td>1389</td>\n",
       "    </tr>\n",
       "    <tr>\n",
       "      <th>5</th>\n",
       "      <td>Peykan</td>\n",
       "      <td>White</td>\n",
       "      <td>NaN</td>\n",
       "      <td>990</td>\n",
       "      <td>1357</td>\n",
       "    </tr>\n",
       "    <tr>\n",
       "      <th>6</th>\n",
       "      <td>BMW X6</td>\n",
       "      <td>Black</td>\n",
       "      <td>NaN</td>\n",
       "      <td>2320</td>\n",
       "      <td>1391</td>\n",
       "    </tr>\n",
       "    <tr>\n",
       "      <th>7</th>\n",
       "      <td>Nissan Junior</td>\n",
       "      <td>Blue</td>\n",
       "      <td>NaN</td>\n",
       "      <td>1540</td>\n",
       "      <td>1375</td>\n",
       "    </tr>\n",
       "    <tr>\n",
       "      <th>8</th>\n",
       "      <td>Nissan Junior</td>\n",
       "      <td>Blue</td>\n",
       "      <td>NaN</td>\n",
       "      <td>1540</td>\n",
       "      <td>1375</td>\n",
       "    </tr>\n",
       "  </tbody>\n",
       "</table>\n",
       "</div>"
      ],
      "text/plain": [
       "           model     Color     HP  Weight (KG)  year\n",
       "0         Peykan       Red   48.0          990  1346\n",
       "1         Peykan     Olive   48.0          990  1388\n",
       "2         BMW X6  Ametrine  335.0         2320  1393\n",
       "3  Nissan Junior     White   93.0         1540  1383\n",
       "4  Nissan Junior       Red   93.0         1540  1389\n",
       "5         Peykan     White    NaN          990  1357\n",
       "6         BMW X6     Black    NaN         2320  1391\n",
       "7  Nissan Junior      Blue    NaN         1540  1375\n",
       "8  Nissan Junior      Blue    NaN         1540  1375"
      ]
     },
     "execution_count": 114,
     "metadata": {},
     "output_type": "execute_result"
    }
   ],
   "source": [
    "a.reset_index().drop(columns=['index'])"
   ]
  },
  {
   "cell_type": "markdown",
   "id": "9adfd1e9-27b8-4b86-91bc-3dbe4e918542",
   "metadata": {
    "id": "ZRjNvNoBmES8"
   },
   "source": [
    "<p dir=rtl style=\"direction: rtl;text-align: right;line-height:200%;font-family:vazir;font-size:medium\">\n",
    "<font face=\"vazir\" size=3 color='midnightblue'>\n",
    "میتوانیم برای حذف اندیس قبلی و جایگزینی اندیس جدید از پارامتر inplace , drop هم استفاده کنیم و مقدار آنها را برابر True قرار دهیم."
   ]
  },
  {
   "cell_type": "code",
   "execution_count": 115,
   "id": "880efafb-8d84-45d2-ba62-73612fa4a871",
   "metadata": {},
   "outputs": [
    {
     "data": {
      "text/html": [
       "<div>\n",
       "<style scoped>\n",
       "    .dataframe tbody tr th:only-of-type {\n",
       "        vertical-align: middle;\n",
       "    }\n",
       "\n",
       "    .dataframe tbody tr th {\n",
       "        vertical-align: top;\n",
       "    }\n",
       "\n",
       "    .dataframe thead th {\n",
       "        text-align: right;\n",
       "    }\n",
       "</style>\n",
       "<table border=\"1\" class=\"dataframe\">\n",
       "  <thead>\n",
       "    <tr style=\"text-align: right;\">\n",
       "      <th></th>\n",
       "      <th>model</th>\n",
       "      <th>Color</th>\n",
       "      <th>HP</th>\n",
       "      <th>Weight (KG)</th>\n",
       "      <th>year</th>\n",
       "    </tr>\n",
       "  </thead>\n",
       "  <tbody>\n",
       "    <tr>\n",
       "      <th>0</th>\n",
       "      <td>Peykan</td>\n",
       "      <td>Red</td>\n",
       "      <td>48.0</td>\n",
       "      <td>990</td>\n",
       "      <td>1346</td>\n",
       "    </tr>\n",
       "    <tr>\n",
       "      <th>1</th>\n",
       "      <td>Peykan</td>\n",
       "      <td>Olive</td>\n",
       "      <td>48.0</td>\n",
       "      <td>990</td>\n",
       "      <td>1388</td>\n",
       "    </tr>\n",
       "    <tr>\n",
       "      <th>2</th>\n",
       "      <td>BMW X6</td>\n",
       "      <td>Ametrine</td>\n",
       "      <td>335.0</td>\n",
       "      <td>2320</td>\n",
       "      <td>1393</td>\n",
       "    </tr>\n",
       "    <tr>\n",
       "      <th>3</th>\n",
       "      <td>Nissan Junior</td>\n",
       "      <td>White</td>\n",
       "      <td>93.0</td>\n",
       "      <td>1540</td>\n",
       "      <td>1383</td>\n",
       "    </tr>\n",
       "    <tr>\n",
       "      <th>4</th>\n",
       "      <td>Nissan Junior</td>\n",
       "      <td>Red</td>\n",
       "      <td>93.0</td>\n",
       "      <td>1540</td>\n",
       "      <td>1389</td>\n",
       "    </tr>\n",
       "    <tr>\n",
       "      <th>5</th>\n",
       "      <td>Peykan</td>\n",
       "      <td>White</td>\n",
       "      <td>NaN</td>\n",
       "      <td>990</td>\n",
       "      <td>1357</td>\n",
       "    </tr>\n",
       "    <tr>\n",
       "      <th>6</th>\n",
       "      <td>BMW X6</td>\n",
       "      <td>Black</td>\n",
       "      <td>NaN</td>\n",
       "      <td>2320</td>\n",
       "      <td>1391</td>\n",
       "    </tr>\n",
       "    <tr>\n",
       "      <th>7</th>\n",
       "      <td>Nissan Junior</td>\n",
       "      <td>Blue</td>\n",
       "      <td>NaN</td>\n",
       "      <td>1540</td>\n",
       "      <td>1375</td>\n",
       "    </tr>\n",
       "    <tr>\n",
       "      <th>8</th>\n",
       "      <td>Nissan Junior</td>\n",
       "      <td>Blue</td>\n",
       "      <td>NaN</td>\n",
       "      <td>1540</td>\n",
       "      <td>1375</td>\n",
       "    </tr>\n",
       "  </tbody>\n",
       "</table>\n",
       "</div>"
      ],
      "text/plain": [
       "           model     Color     HP  Weight (KG)  year\n",
       "0         Peykan       Red   48.0          990  1346\n",
       "1         Peykan     Olive   48.0          990  1388\n",
       "2         BMW X6  Ametrine  335.0         2320  1393\n",
       "3  Nissan Junior     White   93.0         1540  1383\n",
       "4  Nissan Junior       Red   93.0         1540  1389\n",
       "5         Peykan     White    NaN          990  1357\n",
       "6         BMW X6     Black    NaN         2320  1391\n",
       "7  Nissan Junior      Blue    NaN         1540  1375\n",
       "8  Nissan Junior      Blue    NaN         1540  1375"
      ]
     },
     "execution_count": 115,
     "metadata": {},
     "output_type": "execute_result"
    }
   ],
   "source": [
    "b = pd.concat([df1, df2], axis=0)\n",
    "b.reset_index(inplace=True,drop=True)\n",
    "b"
   ]
  },
  {
   "cell_type": "markdown",
   "id": "a60bd83d-2f46-4cf6-a32b-5d5170a789cb",
   "metadata": {
    "id": "ZRjNvNoBmES8"
   },
   "source": [
    "<p dir=rtl style=\"direction: rtl;text-align: right;line-height:200%;font-family:vazir;font-size:medium\">\n",
    "<font face=\"vazir\" size=4>\n",
    "اگر axis=1 باشد، ستونهای df2 کنار ستونهای df1 اضافه خواهند شد."
   ]
  },
  {
   "cell_type": "code",
   "execution_count": 116,
   "id": "5ec2bd9c-7736-4950-9ae3-41a7df3ded3a",
   "metadata": {},
   "outputs": [
    {
     "data": {
      "text/html": [
       "<div>\n",
       "<style scoped>\n",
       "    .dataframe tbody tr th:only-of-type {\n",
       "        vertical-align: middle;\n",
       "    }\n",
       "\n",
       "    .dataframe tbody tr th {\n",
       "        vertical-align: top;\n",
       "    }\n",
       "\n",
       "    .dataframe thead th {\n",
       "        text-align: right;\n",
       "    }\n",
       "</style>\n",
       "<table border=\"1\" class=\"dataframe\">\n",
       "  <thead>\n",
       "    <tr style=\"text-align: right;\">\n",
       "      <th></th>\n",
       "      <th>model</th>\n",
       "      <th>Color</th>\n",
       "      <th>HP</th>\n",
       "    </tr>\n",
       "  </thead>\n",
       "  <tbody>\n",
       "    <tr>\n",
       "      <th>0</th>\n",
       "      <td>Peykan</td>\n",
       "      <td>Red</td>\n",
       "      <td>48</td>\n",
       "    </tr>\n",
       "    <tr>\n",
       "      <th>1</th>\n",
       "      <td>Peykan</td>\n",
       "      <td>White</td>\n",
       "      <td>48</td>\n",
       "    </tr>\n",
       "    <tr>\n",
       "      <th>2</th>\n",
       "      <td>Peykan</td>\n",
       "      <td>Olive</td>\n",
       "      <td>48</td>\n",
       "    </tr>\n",
       "    <tr>\n",
       "      <th>3</th>\n",
       "      <td>BMW X6</td>\n",
       "      <td>Black</td>\n",
       "      <td>335</td>\n",
       "    </tr>\n",
       "    <tr>\n",
       "      <th>4</th>\n",
       "      <td>BMW X6</td>\n",
       "      <td>Ametrine</td>\n",
       "      <td>335</td>\n",
       "    </tr>\n",
       "    <tr>\n",
       "      <th>5</th>\n",
       "      <td>Nissan Junior</td>\n",
       "      <td>Blue</td>\n",
       "      <td>93</td>\n",
       "    </tr>\n",
       "    <tr>\n",
       "      <th>6</th>\n",
       "      <td>Nissan Junior</td>\n",
       "      <td>White</td>\n",
       "      <td>93</td>\n",
       "    </tr>\n",
       "    <tr>\n",
       "      <th>7</th>\n",
       "      <td>Nissan Junior</td>\n",
       "      <td>Blue</td>\n",
       "      <td>93</td>\n",
       "    </tr>\n",
       "    <tr>\n",
       "      <th>8</th>\n",
       "      <td>Nissan Junior</td>\n",
       "      <td>Red</td>\n",
       "      <td>93</td>\n",
       "    </tr>\n",
       "  </tbody>\n",
       "</table>\n",
       "</div>"
      ],
      "text/plain": [
       "           model     Color   HP\n",
       "0         Peykan       Red   48\n",
       "1         Peykan     White   48\n",
       "2         Peykan     Olive   48\n",
       "3         BMW X6     Black  335\n",
       "4         BMW X6  Ametrine  335\n",
       "5  Nissan Junior      Blue   93\n",
       "6  Nissan Junior     White   93\n",
       "7  Nissan Junior      Blue   93\n",
       "8  Nissan Junior       Red   93"
      ]
     },
     "execution_count": 116,
     "metadata": {},
     "output_type": "execute_result"
    }
   ],
   "source": [
    "dictionary1 = {\n",
    "    \"model\" :[\"Peykan\", \"Peykan\", \"Peykan\", \"BMW X6\", \"BMW X6\", \"Nissan Junior\", \"Nissan Junior\", \"Nissan Junior\", \"Nissan Junior\"],\n",
    "    \"Color\" :[\"Red\", \"White\", \"Olive\",  \"Black\", \"Ametrine\", \"Blue\", \"White\", \"Blue\", \"Red\"],\n",
    "    \"HP\" :[48, 48, 48, 335, 335, 93, 93, 93, 93]\n",
    "}\n",
    "df_1 = pd.DataFrame(dictionary1)\n",
    "df_1"
   ]
  },
  {
   "cell_type": "code",
   "execution_count": 117,
   "id": "c56cc4b8-0eaa-4d78-b542-e4662ab2191c",
   "metadata": {},
   "outputs": [
    {
     "data": {
      "text/html": [
       "<div>\n",
       "<style scoped>\n",
       "    .dataframe tbody tr th:only-of-type {\n",
       "        vertical-align: middle;\n",
       "    }\n",
       "\n",
       "    .dataframe tbody tr th {\n",
       "        vertical-align: top;\n",
       "    }\n",
       "\n",
       "    .dataframe thead th {\n",
       "        text-align: right;\n",
       "    }\n",
       "</style>\n",
       "<table border=\"1\" class=\"dataframe\">\n",
       "  <thead>\n",
       "    <tr style=\"text-align: right;\">\n",
       "      <th></th>\n",
       "      <th>Weight (KG)</th>\n",
       "      <th>year</th>\n",
       "    </tr>\n",
       "  </thead>\n",
       "  <tbody>\n",
       "    <tr>\n",
       "      <th>0</th>\n",
       "      <td>990</td>\n",
       "      <td>1346</td>\n",
       "    </tr>\n",
       "    <tr>\n",
       "      <th>1</th>\n",
       "      <td>990</td>\n",
       "      <td>1357</td>\n",
       "    </tr>\n",
       "    <tr>\n",
       "      <th>2</th>\n",
       "      <td>990</td>\n",
       "      <td>1388</td>\n",
       "    </tr>\n",
       "    <tr>\n",
       "      <th>3</th>\n",
       "      <td>2320</td>\n",
       "      <td>1391</td>\n",
       "    </tr>\n",
       "    <tr>\n",
       "      <th>4</th>\n",
       "      <td>2320</td>\n",
       "      <td>1393</td>\n",
       "    </tr>\n",
       "    <tr>\n",
       "      <th>5</th>\n",
       "      <td>1540</td>\n",
       "      <td>1375</td>\n",
       "    </tr>\n",
       "    <tr>\n",
       "      <th>6</th>\n",
       "      <td>1540</td>\n",
       "      <td>1383</td>\n",
       "    </tr>\n",
       "  </tbody>\n",
       "</table>\n",
       "</div>"
      ],
      "text/plain": [
       "   Weight (KG)  year\n",
       "0          990  1346\n",
       "1          990  1357\n",
       "2          990  1388\n",
       "3         2320  1391\n",
       "4         2320  1393\n",
       "5         1540  1375\n",
       "6         1540  1383"
      ]
     },
     "execution_count": 117,
     "metadata": {},
     "output_type": "execute_result"
    }
   ],
   "source": [
    "dictionary2 = {\n",
    "    \"Weight (KG)\" :[990, 990, 990, 2320, 2320, 1540, 1540],\n",
    "    \"year\" :[1346, 1357, 1388, 1391, 1393, 1375, 1383]\n",
    "}\n",
    "df_2 = pd.DataFrame(dictionary2)\n",
    "df_2"
   ]
  },
  {
   "cell_type": "code",
   "execution_count": 118,
   "id": "e0db1f61-36e9-49d2-9c5a-d4d1983bca4b",
   "metadata": {},
   "outputs": [
    {
     "data": {
      "text/html": [
       "<div>\n",
       "<style scoped>\n",
       "    .dataframe tbody tr th:only-of-type {\n",
       "        vertical-align: middle;\n",
       "    }\n",
       "\n",
       "    .dataframe tbody tr th {\n",
       "        vertical-align: top;\n",
       "    }\n",
       "\n",
       "    .dataframe thead th {\n",
       "        text-align: right;\n",
       "    }\n",
       "</style>\n",
       "<table border=\"1\" class=\"dataframe\">\n",
       "  <thead>\n",
       "    <tr style=\"text-align: right;\">\n",
       "      <th></th>\n",
       "      <th>model</th>\n",
       "      <th>Color</th>\n",
       "      <th>HP</th>\n",
       "      <th>Weight (KG)</th>\n",
       "      <th>year</th>\n",
       "      <th>model</th>\n",
       "      <th>Color</th>\n",
       "      <th>Weight (KG)</th>\n",
       "      <th>year</th>\n",
       "    </tr>\n",
       "  </thead>\n",
       "  <tbody>\n",
       "    <tr>\n",
       "      <th>0</th>\n",
       "      <td>Peykan</td>\n",
       "      <td>Red</td>\n",
       "      <td>48</td>\n",
       "      <td>990</td>\n",
       "      <td>1346</td>\n",
       "      <td>Peykan</td>\n",
       "      <td>White</td>\n",
       "      <td>990.0</td>\n",
       "      <td>1357.0</td>\n",
       "    </tr>\n",
       "    <tr>\n",
       "      <th>1</th>\n",
       "      <td>Peykan</td>\n",
       "      <td>Olive</td>\n",
       "      <td>48</td>\n",
       "      <td>990</td>\n",
       "      <td>1388</td>\n",
       "      <td>BMW X6</td>\n",
       "      <td>Black</td>\n",
       "      <td>2320.0</td>\n",
       "      <td>1391.0</td>\n",
       "    </tr>\n",
       "    <tr>\n",
       "      <th>2</th>\n",
       "      <td>BMW X6</td>\n",
       "      <td>Ametrine</td>\n",
       "      <td>335</td>\n",
       "      <td>2320</td>\n",
       "      <td>1393</td>\n",
       "      <td>Nissan Junior</td>\n",
       "      <td>Blue</td>\n",
       "      <td>1540.0</td>\n",
       "      <td>1375.0</td>\n",
       "    </tr>\n",
       "    <tr>\n",
       "      <th>3</th>\n",
       "      <td>Nissan Junior</td>\n",
       "      <td>White</td>\n",
       "      <td>93</td>\n",
       "      <td>1540</td>\n",
       "      <td>1383</td>\n",
       "      <td>Nissan Junior</td>\n",
       "      <td>Blue</td>\n",
       "      <td>1540.0</td>\n",
       "      <td>1375.0</td>\n",
       "    </tr>\n",
       "    <tr>\n",
       "      <th>4</th>\n",
       "      <td>Nissan Junior</td>\n",
       "      <td>Red</td>\n",
       "      <td>93</td>\n",
       "      <td>1540</td>\n",
       "      <td>1389</td>\n",
       "      <td>NaN</td>\n",
       "      <td>NaN</td>\n",
       "      <td>NaN</td>\n",
       "      <td>NaN</td>\n",
       "    </tr>\n",
       "  </tbody>\n",
       "</table>\n",
       "</div>"
      ],
      "text/plain": [
       "           model     Color   HP  Weight (KG)  year          model  Color  \\\n",
       "0         Peykan       Red   48          990  1346         Peykan  White   \n",
       "1         Peykan     Olive   48          990  1388         BMW X6  Black   \n",
       "2         BMW X6  Ametrine  335         2320  1393  Nissan Junior   Blue   \n",
       "3  Nissan Junior     White   93         1540  1383  Nissan Junior   Blue   \n",
       "4  Nissan Junior       Red   93         1540  1389            NaN    NaN   \n",
       "\n",
       "   Weight (KG)    year  \n",
       "0        990.0  1357.0  \n",
       "1       2320.0  1391.0  \n",
       "2       1540.0  1375.0  \n",
       "3       1540.0  1375.0  \n",
       "4          NaN     NaN  "
      ]
     },
     "execution_count": 118,
     "metadata": {},
     "output_type": "execute_result"
    }
   ],
   "source": [
    "pd.concat([df1, df2], axis=1)"
   ]
  },
  {
   "cell_type": "markdown",
   "id": "753de9d5-bf79-4d80-a330-dff7c625df8a",
   "metadata": {},
   "source": [
    "<br>\n",
    "<div dir=rtl id=\"start\" style=\"direction:rtl;line-height:200%;\">\n",
    "\t<font face=\"vazir\" size=6 color='Orange'>\n",
    "هم‌پوشانی (overlap)"
   ]
  },
  {
   "cell_type": "markdown",
   "id": "c636c049-36f7-4976-9dcc-5ff92447f16e",
   "metadata": {
    "id": "ZRjNvNoBmES8"
   },
   "source": [
    "<p dir=rtl style=\"direction: rtl;text-align: right;line-height:200%;font-family:vazir;font-size:medium\">\n",
    "<font face=\"vazir\" size=4>\n",
    "اگر دو دیتافریم به صورتی باشند که اطلاعاتی مشترک داشته باشند و همپوشانی کنند و اطلاعات دیتافریم اول برای ما ارجحیت داشته باشد، از تابع combine_first استفاده میکنیم. این تابع جاهای خالی دیتافریم اول را با اطلاعات دیتافریم دوم پر میکند و در مواردی که دو دیتافریم اطلاعات متناقض دارند، اطلاعات دیتافریم اول را نگه میدارد."
   ]
  },
  {
   "cell_type": "code",
   "execution_count": 119,
   "id": "523f2893-8b8d-441b-b949-7de50010810c",
   "metadata": {},
   "outputs": [
    {
     "data": {
      "text/html": [
       "<div>\n",
       "<style scoped>\n",
       "    .dataframe tbody tr th:only-of-type {\n",
       "        vertical-align: middle;\n",
       "    }\n",
       "\n",
       "    .dataframe tbody tr th {\n",
       "        vertical-align: top;\n",
       "    }\n",
       "\n",
       "    .dataframe thead th {\n",
       "        text-align: right;\n",
       "    }\n",
       "</style>\n",
       "<table border=\"1\" class=\"dataframe\">\n",
       "  <thead>\n",
       "    <tr style=\"text-align: right;\">\n",
       "      <th></th>\n",
       "      <th>model</th>\n",
       "      <th>Color</th>\n",
       "      <th>HP</th>\n",
       "      <th>Weight (KG)</th>\n",
       "      <th>year</th>\n",
       "    </tr>\n",
       "  </thead>\n",
       "  <tbody>\n",
       "    <tr>\n",
       "      <th>14234</th>\n",
       "      <td>Peykan</td>\n",
       "      <td>Red</td>\n",
       "      <td>48.0</td>\n",
       "      <td>NaN</td>\n",
       "      <td>1346.0</td>\n",
       "    </tr>\n",
       "    <tr>\n",
       "      <th>44234</th>\n",
       "      <td>NaN</td>\n",
       "      <td>White</td>\n",
       "      <td>NaN</td>\n",
       "      <td>990.0</td>\n",
       "      <td>NaN</td>\n",
       "    </tr>\n",
       "    <tr>\n",
       "      <th>22312</th>\n",
       "      <td>Peykan</td>\n",
       "      <td>Olive</td>\n",
       "      <td>48.0</td>\n",
       "      <td>990.0</td>\n",
       "      <td>1388.0</td>\n",
       "    </tr>\n",
       "    <tr>\n",
       "      <th>42348</th>\n",
       "      <td>BMW X6</td>\n",
       "      <td>Black</td>\n",
       "      <td>335.0</td>\n",
       "      <td>2320.0</td>\n",
       "      <td>1391.0</td>\n",
       "    </tr>\n",
       "    <tr>\n",
       "      <th>16373</th>\n",
       "      <td>BMW X6</td>\n",
       "      <td>NaN</td>\n",
       "      <td>335.0</td>\n",
       "      <td>NaN</td>\n",
       "      <td>1393.0</td>\n",
       "    </tr>\n",
       "    <tr>\n",
       "      <th>38561</th>\n",
       "      <td>NaN</td>\n",
       "      <td>Blue</td>\n",
       "      <td>NaN</td>\n",
       "      <td>1540.0</td>\n",
       "      <td>1375.0</td>\n",
       "    </tr>\n",
       "    <tr>\n",
       "      <th>58193</th>\n",
       "      <td>Nissan Junior</td>\n",
       "      <td>White</td>\n",
       "      <td>93.0</td>\n",
       "      <td>1540.0</td>\n",
       "      <td>NaN</td>\n",
       "    </tr>\n",
       "    <tr>\n",
       "      <th>85612</th>\n",
       "      <td>Nissan Junior</td>\n",
       "      <td>Blue</td>\n",
       "      <td>NaN</td>\n",
       "      <td>1540.0</td>\n",
       "      <td>1375.0</td>\n",
       "    </tr>\n",
       "    <tr>\n",
       "      <th>62471</th>\n",
       "      <td>Nissan Junior</td>\n",
       "      <td>Red</td>\n",
       "      <td>93.0</td>\n",
       "      <td>NaN</td>\n",
       "      <td>1389.0</td>\n",
       "    </tr>\n",
       "  </tbody>\n",
       "</table>\n",
       "</div>"
      ],
      "text/plain": [
       "               model  Color     HP  Weight (KG)    year\n",
       "14234         Peykan    Red   48.0          NaN  1346.0\n",
       "44234            NaN  White    NaN        990.0     NaN\n",
       "22312         Peykan  Olive   48.0        990.0  1388.0\n",
       "42348         BMW X6  Black  335.0       2320.0  1391.0\n",
       "16373         BMW X6    NaN  335.0          NaN  1393.0\n",
       "38561            NaN   Blue    NaN       1540.0  1375.0\n",
       "58193  Nissan Junior  White   93.0       1540.0     NaN\n",
       "85612  Nissan Junior   Blue    NaN       1540.0  1375.0\n",
       "62471  Nissan Junior    Red   93.0          NaN  1389.0"
      ]
     },
     "execution_count": 119,
     "metadata": {},
     "output_type": "execute_result"
    }
   ],
   "source": [
    "staff1_dictionary = {\n",
    "    \"model\" :[\"Peykan\", np.nan, \"Peykan\", \"BMW X6\", \"BMW X6\", np.nan, \"Nissan Junior\", \"Nissan Junior\", \"Nissan Junior\"],\n",
    "    \"Color\" :[\"Red\", \"White\", \"Olive\",  \"Black\", np.nan, \"Blue\", \"White\", \"Blue\", \"Red\"],\n",
    "    \"HP\" :[48, np.nan, 48, 335, 335, np.nan, 93, np.nan, 93],\n",
    "    \"Weight (KG)\" :[np.nan, 990, 990, 2320, np.nan, 1540, 1540, 1540, np.nan],\n",
    "    \"year\" :[1346, np.nan, 1388, 1391, 1393, 1375, np.nan, 1375, 1389]\n",
    "}\n",
    "\n",
    "staff1_df = pd.DataFrame(staff1_dictionary, \n",
    "                      index = [14234, 44234, 22312, 42348, 16373, 38561, 58193, 85612, 62471])\n",
    "staff1_df"
   ]
  },
  {
   "cell_type": "code",
   "execution_count": 120,
   "id": "c40944ce-86f0-4a5e-881a-a4b7085b3f71",
   "metadata": {},
   "outputs": [
    {
     "data": {
      "text/html": [
       "<div>\n",
       "<style scoped>\n",
       "    .dataframe tbody tr th:only-of-type {\n",
       "        vertical-align: middle;\n",
       "    }\n",
       "\n",
       "    .dataframe tbody tr th {\n",
       "        vertical-align: top;\n",
       "    }\n",
       "\n",
       "    .dataframe thead th {\n",
       "        text-align: right;\n",
       "    }\n",
       "</style>\n",
       "<table border=\"1\" class=\"dataframe\">\n",
       "  <thead>\n",
       "    <tr style=\"text-align: right;\">\n",
       "      <th></th>\n",
       "      <th>model</th>\n",
       "      <th>Color</th>\n",
       "      <th>HP</th>\n",
       "      <th>Weight (KG)</th>\n",
       "      <th>year</th>\n",
       "    </tr>\n",
       "  </thead>\n",
       "  <tbody>\n",
       "    <tr>\n",
       "      <th>14234</th>\n",
       "      <td>NaN</td>\n",
       "      <td>Red</td>\n",
       "      <td>48.0</td>\n",
       "      <td>NaN</td>\n",
       "      <td>NaN</td>\n",
       "    </tr>\n",
       "    <tr>\n",
       "      <th>44234</th>\n",
       "      <td>Peykan</td>\n",
       "      <td>White</td>\n",
       "      <td>48.0</td>\n",
       "      <td>990.0</td>\n",
       "      <td>1357.0</td>\n",
       "    </tr>\n",
       "    <tr>\n",
       "      <th>22312</th>\n",
       "      <td>Peykan</td>\n",
       "      <td>Green</td>\n",
       "      <td>48.0</td>\n",
       "      <td>990.0</td>\n",
       "      <td>1388.0</td>\n",
       "    </tr>\n",
       "    <tr>\n",
       "      <th>42348</th>\n",
       "      <td>NaN</td>\n",
       "      <td>Black</td>\n",
       "      <td>NaN</td>\n",
       "      <td>NaN</td>\n",
       "      <td>1391.0</td>\n",
       "    </tr>\n",
       "    <tr>\n",
       "      <th>16373</th>\n",
       "      <td>BMW X5</td>\n",
       "      <td>Ametrine</td>\n",
       "      <td>335.0</td>\n",
       "      <td>2320.0</td>\n",
       "      <td>1393.0</td>\n",
       "    </tr>\n",
       "    <tr>\n",
       "      <th>38561</th>\n",
       "      <td>Nissan Junior</td>\n",
       "      <td>NaN</td>\n",
       "      <td>93.0</td>\n",
       "      <td>1540.0</td>\n",
       "      <td>1375.0</td>\n",
       "    </tr>\n",
       "    <tr>\n",
       "      <th>58193</th>\n",
       "      <td>Nissan Junior</td>\n",
       "      <td>Gray</td>\n",
       "      <td>NaN</td>\n",
       "      <td>1540.0</td>\n",
       "      <td>1383.0</td>\n",
       "    </tr>\n",
       "    <tr>\n",
       "      <th>85612</th>\n",
       "      <td>Nissan Junior</td>\n",
       "      <td>Navy</td>\n",
       "      <td>93.0</td>\n",
       "      <td>1540.0</td>\n",
       "      <td>NaN</td>\n",
       "    </tr>\n",
       "    <tr>\n",
       "      <th>62471</th>\n",
       "      <td>Nissan Junior</td>\n",
       "      <td>NaN</td>\n",
       "      <td>93.0</td>\n",
       "      <td>NaN</td>\n",
       "      <td>1389.0</td>\n",
       "    </tr>\n",
       "  </tbody>\n",
       "</table>\n",
       "</div>"
      ],
      "text/plain": [
       "               model     Color     HP  Weight (KG)    year\n",
       "14234            NaN       Red   48.0          NaN     NaN\n",
       "44234         Peykan     White   48.0        990.0  1357.0\n",
       "22312         Peykan     Green   48.0        990.0  1388.0\n",
       "42348            NaN     Black    NaN          NaN  1391.0\n",
       "16373         BMW X5  Ametrine  335.0       2320.0  1393.0\n",
       "38561  Nissan Junior       NaN   93.0       1540.0  1375.0\n",
       "58193  Nissan Junior      Gray    NaN       1540.0  1383.0\n",
       "85612  Nissan Junior      Navy   93.0       1540.0     NaN\n",
       "62471  Nissan Junior       NaN   93.0          NaN  1389.0"
      ]
     },
     "execution_count": 120,
     "metadata": {},
     "output_type": "execute_result"
    }
   ],
   "source": [
    "staff2_dictionary = {\n",
    "    \"model\" :[np.nan, \"Peykan\", \"Peykan\", np.nan, \"BMW X5\", \"Nissan Junior\", \"Nissan Junior\", \"Nissan Junior\", \"Nissan Junior\"],\n",
    "    \"Color\" :[\"Red\", \"White\", \"Green\",  \"Black\", \"Ametrine\", np.nan, \"Gray\", \"Navy\", np.nan],\n",
    "    \"HP\" :[48, 48, 48, np.nan, 335, 93, np.nan, 93, 93],\n",
    "    \"Weight (KG)\" :[np.nan, 990, 990, np.nan, 2320, 1540, 1540, 1540, np.nan],\n",
    "    \"year\" :[np.nan, 1357, 1388, 1391, 1393, 1375, 1383, np.nan, 1389]\n",
    "}\n",
    "\n",
    "staff2_df = pd.DataFrame(staff2_dictionary, \n",
    "                      index = [14234, 44234, 22312, 42348, 16373, 38561, 58193, 85612, 62471])\n",
    "staff2_df"
   ]
  },
  {
   "cell_type": "code",
   "execution_count": 121,
   "id": "086f3ca2-3c9b-405c-b918-66d4195215fb",
   "metadata": {},
   "outputs": [
    {
     "data": {
      "text/html": [
       "<div>\n",
       "<style scoped>\n",
       "    .dataframe tbody tr th:only-of-type {\n",
       "        vertical-align: middle;\n",
       "    }\n",
       "\n",
       "    .dataframe tbody tr th {\n",
       "        vertical-align: top;\n",
       "    }\n",
       "\n",
       "    .dataframe thead th {\n",
       "        text-align: right;\n",
       "    }\n",
       "</style>\n",
       "<table border=\"1\" class=\"dataframe\">\n",
       "  <thead>\n",
       "    <tr style=\"text-align: right;\">\n",
       "      <th></th>\n",
       "      <th>model</th>\n",
       "      <th>Color</th>\n",
       "      <th>HP</th>\n",
       "      <th>Weight (KG)</th>\n",
       "      <th>year</th>\n",
       "    </tr>\n",
       "  </thead>\n",
       "  <tbody>\n",
       "    <tr>\n",
       "      <th>14234</th>\n",
       "      <td>Peykan</td>\n",
       "      <td>Red</td>\n",
       "      <td>48.0</td>\n",
       "      <td>NaN</td>\n",
       "      <td>1346.0</td>\n",
       "    </tr>\n",
       "    <tr>\n",
       "      <th>44234</th>\n",
       "      <td>Peykan</td>\n",
       "      <td>White</td>\n",
       "      <td>48.0</td>\n",
       "      <td>990.0</td>\n",
       "      <td>1357.0</td>\n",
       "    </tr>\n",
       "    <tr>\n",
       "      <th>22312</th>\n",
       "      <td>Peykan</td>\n",
       "      <td>Olive</td>\n",
       "      <td>48.0</td>\n",
       "      <td>990.0</td>\n",
       "      <td>1388.0</td>\n",
       "    </tr>\n",
       "    <tr>\n",
       "      <th>42348</th>\n",
       "      <td>BMW X6</td>\n",
       "      <td>Black</td>\n",
       "      <td>335.0</td>\n",
       "      <td>2320.0</td>\n",
       "      <td>1391.0</td>\n",
       "    </tr>\n",
       "    <tr>\n",
       "      <th>16373</th>\n",
       "      <td>BMW X6</td>\n",
       "      <td>Ametrine</td>\n",
       "      <td>335.0</td>\n",
       "      <td>2320.0</td>\n",
       "      <td>1393.0</td>\n",
       "    </tr>\n",
       "    <tr>\n",
       "      <th>38561</th>\n",
       "      <td>Nissan Junior</td>\n",
       "      <td>Blue</td>\n",
       "      <td>93.0</td>\n",
       "      <td>1540.0</td>\n",
       "      <td>1375.0</td>\n",
       "    </tr>\n",
       "    <tr>\n",
       "      <th>58193</th>\n",
       "      <td>Nissan Junior</td>\n",
       "      <td>White</td>\n",
       "      <td>93.0</td>\n",
       "      <td>1540.0</td>\n",
       "      <td>1383.0</td>\n",
       "    </tr>\n",
       "    <tr>\n",
       "      <th>85612</th>\n",
       "      <td>Nissan Junior</td>\n",
       "      <td>Blue</td>\n",
       "      <td>93.0</td>\n",
       "      <td>1540.0</td>\n",
       "      <td>1375.0</td>\n",
       "    </tr>\n",
       "    <tr>\n",
       "      <th>62471</th>\n",
       "      <td>Nissan Junior</td>\n",
       "      <td>Red</td>\n",
       "      <td>93.0</td>\n",
       "      <td>NaN</td>\n",
       "      <td>1389.0</td>\n",
       "    </tr>\n",
       "  </tbody>\n",
       "</table>\n",
       "</div>"
      ],
      "text/plain": [
       "               model     Color     HP  Weight (KG)    year\n",
       "14234         Peykan       Red   48.0          NaN  1346.0\n",
       "44234         Peykan     White   48.0        990.0  1357.0\n",
       "22312         Peykan     Olive   48.0        990.0  1388.0\n",
       "42348         BMW X6     Black  335.0       2320.0  1391.0\n",
       "16373         BMW X6  Ametrine  335.0       2320.0  1393.0\n",
       "38561  Nissan Junior      Blue   93.0       1540.0  1375.0\n",
       "58193  Nissan Junior     White   93.0       1540.0  1383.0\n",
       "85612  Nissan Junior      Blue   93.0       1540.0  1375.0\n",
       "62471  Nissan Junior       Red   93.0          NaN  1389.0"
      ]
     },
     "execution_count": 121,
     "metadata": {},
     "output_type": "execute_result"
    }
   ],
   "source": [
    "staff1_df.combine_first(staff2_df)"
   ]
  },
  {
   "cell_type": "markdown",
   "id": "8e4978b9-348e-48bc-bfc9-d14cd497252d",
   "metadata": {},
   "source": [
    "<img src='./2.pandas_file/09.jpg'>"
   ]
  },
  {
   "cell_type": "markdown",
   "id": "55469af9-a93f-4be8-98d5-4fe11d0ef184",
   "metadata": {},
   "source": [
    "<br>\n",
    "<div dir=rtl id=\"start\" style=\"direction:rtl;line-height:200%;\">\n",
    "\t<font face=\"vazir\" size=7 color='Red'>\n",
    "گروه بندی"
   ]
  },
  {
   "cell_type": "markdown",
   "id": "96e855cb-b2fd-4bee-9c82-fa664b63c188",
   "metadata": {
    "id": "ZRjNvNoBmES8"
   },
   "source": [
    "<p dir=rtl style=\"direction: rtl;text-align: right;line-height:200%;font-family:vazir;font-size:medium\">\n",
    "<font face=\"vazir\" size=4>\n",
    "با کمک تابع groupby می‌توانیم داده‌ها را بر اساس کلیدهای مختلف، گروه‌بندی کرده، و نتایجی را بر اساس هر گروه به دست آوریم."
   ]
  },
  {
   "cell_type": "code",
   "execution_count": 122,
   "id": "43ea2d8d-ca6c-4454-aa44-e84e2e2f434b",
   "metadata": {},
   "outputs": [
    {
     "data": {
      "text/html": [
       "<div>\n",
       "<style scoped>\n",
       "    .dataframe tbody tr th:only-of-type {\n",
       "        vertical-align: middle;\n",
       "    }\n",
       "\n",
       "    .dataframe tbody tr th {\n",
       "        vertical-align: top;\n",
       "    }\n",
       "\n",
       "    .dataframe thead th {\n",
       "        text-align: right;\n",
       "    }\n",
       "</style>\n",
       "<table border=\"1\" class=\"dataframe\">\n",
       "  <thead>\n",
       "    <tr style=\"text-align: right;\">\n",
       "      <th></th>\n",
       "      <th>model</th>\n",
       "      <th>Color</th>\n",
       "      <th>Weight (KG)</th>\n",
       "      <th>year</th>\n",
       "      <th>price</th>\n",
       "    </tr>\n",
       "  </thead>\n",
       "  <tbody>\n",
       "    <tr>\n",
       "      <th>0</th>\n",
       "      <td>Peykan</td>\n",
       "      <td>Red</td>\n",
       "      <td>990</td>\n",
       "      <td>1346</td>\n",
       "      <td>25</td>\n",
       "    </tr>\n",
       "    <tr>\n",
       "      <th>1</th>\n",
       "      <td>Peykan</td>\n",
       "      <td>White</td>\n",
       "      <td>1000</td>\n",
       "      <td>1357</td>\n",
       "      <td>30</td>\n",
       "    </tr>\n",
       "    <tr>\n",
       "      <th>2</th>\n",
       "      <td>Peykan</td>\n",
       "      <td>Olive</td>\n",
       "      <td>990</td>\n",
       "      <td>1388</td>\n",
       "      <td>48</td>\n",
       "    </tr>\n",
       "    <tr>\n",
       "      <th>3</th>\n",
       "      <td>BMW X6</td>\n",
       "      <td>Black</td>\n",
       "      <td>2320</td>\n",
       "      <td>1391</td>\n",
       "      <td>2200</td>\n",
       "    </tr>\n",
       "    <tr>\n",
       "      <th>4</th>\n",
       "      <td>BMW X6</td>\n",
       "      <td>Ametrine</td>\n",
       "      <td>2320</td>\n",
       "      <td>1393</td>\n",
       "      <td>4800</td>\n",
       "    </tr>\n",
       "    <tr>\n",
       "      <th>5</th>\n",
       "      <td>BMW X6</td>\n",
       "      <td>navy</td>\n",
       "      <td>2220</td>\n",
       "      <td>1393</td>\n",
       "      <td>4800</td>\n",
       "    </tr>\n",
       "    <tr>\n",
       "      <th>6</th>\n",
       "      <td>Nissan Junior</td>\n",
       "      <td>Blue</td>\n",
       "      <td>1540</td>\n",
       "      <td>1375</td>\n",
       "      <td>105</td>\n",
       "    </tr>\n",
       "    <tr>\n",
       "      <th>7</th>\n",
       "      <td>Nissan Junior</td>\n",
       "      <td>White</td>\n",
       "      <td>1540</td>\n",
       "      <td>1383</td>\n",
       "      <td>105</td>\n",
       "    </tr>\n",
       "    <tr>\n",
       "      <th>8</th>\n",
       "      <td>Nissan Junior</td>\n",
       "      <td>Blue</td>\n",
       "      <td>1600</td>\n",
       "      <td>1375</td>\n",
       "      <td>130</td>\n",
       "    </tr>\n",
       "    <tr>\n",
       "      <th>9</th>\n",
       "      <td>Nissan Junior</td>\n",
       "      <td>Red</td>\n",
       "      <td>1540</td>\n",
       "      <td>1389</td>\n",
       "      <td>145</td>\n",
       "    </tr>\n",
       "  </tbody>\n",
       "</table>\n",
       "</div>"
      ],
      "text/plain": [
       "           model     Color  Weight (KG)  year  price\n",
       "0         Peykan       Red          990  1346     25\n",
       "1         Peykan     White         1000  1357     30\n",
       "2         Peykan     Olive          990  1388     48\n",
       "3         BMW X6     Black         2320  1391   2200\n",
       "4         BMW X6  Ametrine         2320  1393   4800\n",
       "5         BMW X6      navy         2220  1393   4800\n",
       "6  Nissan Junior      Blue         1540  1375    105\n",
       "7  Nissan Junior     White         1540  1383    105\n",
       "8  Nissan Junior      Blue         1600  1375    130\n",
       "9  Nissan Junior       Red         1540  1389    145"
      ]
     },
     "execution_count": 122,
     "metadata": {},
     "output_type": "execute_result"
    }
   ],
   "source": [
    "cars_dictionary = {\n",
    "    \"model\" :[\"Peykan\", \"Peykan\", \"Peykan\", \"BMW X6\", \"BMW X6\", \"BMW X6\", \"Nissan Junior\", \"Nissan Junior\", \"Nissan Junior\", \"Nissan Junior\"],\n",
    "    \"Color\" :[\"Red\", \"White\", \"Olive\",  \"Black\", \"Ametrine\", \"navy\", \"Blue\", \"White\", \"Blue\", \"Red\"],\n",
    "    \"Weight (KG)\" :[990, 1000, 990, 2320, 2320, 2220, 1540, 1540, 1600, 1540],\n",
    "    \"year\" :[1346, 1357, 1388, 1391, 1393, 1393, 1375, 1383, 1375, 1389],\n",
    "    \"price\" :[25, 30, 48, 2200, 4800, 4800, 105, 105, 130, 145]\n",
    "}\n",
    "\n",
    "cars_df = pd.DataFrame(cars_dictionary)\n",
    "cars_df"
   ]
  },
  {
   "cell_type": "code",
   "execution_count": 123,
   "id": "c9179534-31c8-47df-a649-336d73a84650",
   "metadata": {},
   "outputs": [
    {
     "data": {
      "text/plain": [
       "pandas.core.groupby.generic.DataFrameGroupBy"
      ]
     },
     "execution_count": 123,
     "metadata": {},
     "output_type": "execute_result"
    }
   ],
   "source": [
    "grouped = cars_df.groupby('model')\n",
    "type(grouped)"
   ]
  },
  {
   "cell_type": "markdown",
   "id": "c2b48fb0-5109-49ab-b73e-4043d45af972",
   "metadata": {
    "id": "ZRjNvNoBmES8"
   },
   "source": [
    "<p dir=rtl style=\"direction: rtl;text-align: right;line-height:200%;font-family:vazir;font-size:medium\">\n",
    "<font face=\"vazir\" size=3 color='midnightblue'>\n",
    "داده‌ساختار DataFrameGroupBy برای نگه داری اطلاعات گروه‌بندی شده‌ی دیتافریم‌ها به کار می‌رود."
   ]
  },
  {
   "cell_type": "markdown",
   "id": "8125a128-aafd-418d-ad77-11f3a228f8b8",
   "metadata": {},
   "source": [
    "<br>\n",
    "<div dir=rtl id=\"start\" style=\"direction:rtl;line-height:200%;\">\n",
    "\t<font face=\"vazir\" size=6 color='Orange'>\n",
    "متد‌ها و ویژگی‌های ساختار گروه‌بندی"
   ]
  },
  {
   "cell_type": "markdown",
   "id": "c00e93dc-4428-42ed-bd55-306cd229218f",
   "metadata": {
    "id": "ZRjNvNoBmES8"
   },
   "source": [
    "<p dir=rtl style=\"direction: rtl;text-align: right;line-height:200%;font-family:vazir;font-size:medium\">\n",
    "<font face=\"vazir\" size=4>\n",
    "با اجرای کد cars_df.groupby('model')، داده‌ها بر اساس نام مدل گروه‌بندی می‌شوند؛ حال با ویژگی ngroups، می‌توانیم تعداد گروه‌های موجود در این داده ساختار را بدست آوریم."
   ]
  },
  {
   "cell_type": "code",
   "execution_count": 124,
   "id": "a9910958-2a1b-4c94-aaf1-cdbf6d4c5cc3",
   "metadata": {},
   "outputs": [
    {
     "data": {
      "text/plain": [
       "3"
      ]
     },
     "execution_count": 124,
     "metadata": {},
     "output_type": "execute_result"
    }
   ],
   "source": [
    "grouped.ngroups"
   ]
  },
  {
   "cell_type": "markdown",
   "id": "5f47ce6a-d8aa-4274-b8a4-0882e7daba33",
   "metadata": {
    "id": "ZRjNvNoBmES8"
   },
   "source": [
    "<p dir=rtl style=\"direction: rtl;text-align: right;line-height:200%;font-family:vazir;font-size:medium\">\n",
    "<font face=\"vazir\" size=4>\n",
    "در صورتی که بخواهیم از نام گروه‌ها و اعضای آن‌ها مطلع شویم می‌توانیم از ویژگی groups استفاده کنیم."
   ]
  },
  {
   "cell_type": "code",
   "execution_count": 125,
   "id": "b0eff4c8-0122-4219-adfc-36d48a08cea7",
   "metadata": {},
   "outputs": [
    {
     "data": {
      "text/plain": [
       "{'BMW X6': [3, 4, 5], 'Nissan Junior': [6, 7, 8, 9], 'Peykan': [0, 1, 2]}"
      ]
     },
     "execution_count": 125,
     "metadata": {},
     "output_type": "execute_result"
    }
   ],
   "source": [
    "grouped.groups"
   ]
  },
  {
   "cell_type": "markdown",
   "id": "61334178-7fbf-4b11-8e1c-707b3129c4ea",
   "metadata": {
    "id": "ZRjNvNoBmES8"
   },
   "source": [
    "<p dir=rtl style=\"direction: rtl;text-align: right;line-height:200%;font-family:vazir;font-size:medium\">\n",
    "<font face=\"vazir\" size=3 color='midnightblue'>\n",
    "نام هر مدل به عنوان کلید، و نمایه‌ی سطرهای مربوط به آن گروه روبه‌روی آن‌ها ذکر شده است."
   ]
  },
  {
   "cell_type": "markdown",
   "id": "59210824-4ce0-4f53-987a-c397e7d46510",
   "metadata": {
    "id": "ZRjNvNoBmES8"
   },
   "source": [
    "<p dir=rtl style=\"direction: rtl;text-align: right;line-height:200%;font-family:vazir;font-size:medium\">\n",
    "<font face=\"vazir\" size=4>\n",
    "برای فهمیدن تعداد اعضای هر گروه، از متد size() استفاده می‌کنیم."
   ]
  },
  {
   "cell_type": "code",
   "execution_count": 126,
   "id": "568a43b2-c73e-48dc-904e-ad238dbb61ad",
   "metadata": {},
   "outputs": [
    {
     "data": {
      "text/plain": [
       "model\n",
       "BMW X6           3\n",
       "Nissan Junior    4\n",
       "Peykan           3\n",
       "dtype: int64"
      ]
     },
     "execution_count": 126,
     "metadata": {},
     "output_type": "execute_result"
    }
   ],
   "source": [
    "grouped.size()"
   ]
  },
  {
   "cell_type": "markdown",
   "id": "45198403-2b78-460f-9e38-d5109dbe8b27",
   "metadata": {},
   "source": [
    "<br>\n",
    "<div dir=rtl id=\"start\" style=\"direction:rtl;line-height:200%;\">\n",
    "\t<font face=\"vazir\" size=6 color='Orange'>\n",
    "اعمال توابع روی گروه‌ها"
   ]
  },
  {
   "cell_type": "markdown",
   "id": "d16e0139-2cf0-4242-8043-75a7439b778e",
   "metadata": {
    "id": "ZRjNvNoBmES8"
   },
   "source": [
    "<p dir=rtl style=\"direction: rtl;text-align: right;line-height:200%;font-family:vazir;font-size:medium\">\n",
    "<font face=\"vazir\" size=4>\n",
    "به طور کلی توابعی که می‌توان براساس گروه‌بندی اعمال کرد، به سه دسته‌ی زیر تقسیم می‌شوند:\n",
    "    <br>\n",
    "１- تجمیع (aggregation): این توابع، برای تمامی اعضای هر گروه، تنها یک مقدار را بدست آورده و به کلید آن نسبت می‌دهند. مانند میانگین، مجموع و ...\n",
    "    <br>\n",
    "２- تبدیل (transform): این توابع، تغییراتی را با توجه به دیگر داده‌های دسته روی هر داده اعمال می‌کنند. مانند نرمال‌سازی درون دسته‌ای.\n",
    "    <br>\n",
    "３- فیلتر (filter): حذف برخی داده‌ها با توجه به اطلاعات دیگر اعضای گروه. مثلا حذف داده‌هایی که مقداری کمتر از میانگین دارند."
   ]
  },
  {
   "cell_type": "markdown",
   "id": "c0d4bfc5-d014-4462-9449-7a34002dbc17",
   "metadata": {},
   "source": [
    "<br>\n",
    "<div dir=rtl id=\"start\" style=\"direction:rtl;line-height:200%;\">\n",
    "\t<font face=\"vazir\" size=6 color='gold'>\n",
    "1) تجمیع"
   ]
  },
  {
   "cell_type": "markdown",
   "id": "6a98cc30-c9da-41bb-99fc-82749d369442",
   "metadata": {
    "id": "ZRjNvNoBmES8"
   },
   "source": [
    "<p dir=rtl style=\"direction: rtl;text-align: right;line-height:200%;font-family:vazir;font-size:medium\">\n",
    "<font face=\"vazir\" size=4>\n",
    "به طور کلی، این توابع در سه مرحله‌ی تقسیم، اعمال و ترکیب (split-apply-combine) انجام می‌شوند:\n",
    "    <br>\n",
    "１- ابتدا با استفاده از تابع groupby، دیتافریم اولیه با توجه به کلید تقسیم و دسته‌بندی می‌شود.\n",
    "    <br>\n",
    "２- سپس تابعی از نوع تجمیع روی هر گروه اعمال می‌شود تا برای هر گروه مقدار ثابتی را تولید کند.\n",
    "    <br>\n",
    "３- مقادیر خروجی گروه‌ها با هم ترکیب شده و دیتافریم جدیدی که نمایه‌های آن، مقادیر کلید گروه‌بندی هستند، تولید می‌شود.\n",
    "    <br>\n",
    "برای اعمال توابع تجمیع، کافی است از متد agg() استفاده کنیم و تابع مورد نظر را به عنوان ورودی این متد بدهیم:"
   ]
  },
  {
   "cell_type": "code",
   "execution_count": 127,
   "id": "a9d0c43a-c8da-45d4-bfc6-307dc709ed95",
   "metadata": {},
   "outputs": [
    {
     "data": {
      "text/html": [
       "<div>\n",
       "<style scoped>\n",
       "    .dataframe tbody tr th:only-of-type {\n",
       "        vertical-align: middle;\n",
       "    }\n",
       "\n",
       "    .dataframe tbody tr th {\n",
       "        vertical-align: top;\n",
       "    }\n",
       "\n",
       "    .dataframe thead th {\n",
       "        text-align: right;\n",
       "    }\n",
       "</style>\n",
       "<table border=\"1\" class=\"dataframe\">\n",
       "  <thead>\n",
       "    <tr style=\"text-align: right;\">\n",
       "      <th></th>\n",
       "      <th>price</th>\n",
       "      <th>Weight (KG)</th>\n",
       "    </tr>\n",
       "    <tr>\n",
       "      <th>model</th>\n",
       "      <th></th>\n",
       "      <th></th>\n",
       "    </tr>\n",
       "  </thead>\n",
       "  <tbody>\n",
       "    <tr>\n",
       "      <th>BMW X6</th>\n",
       "      <td>3933.333333</td>\n",
       "      <td>2286.666667</td>\n",
       "    </tr>\n",
       "    <tr>\n",
       "      <th>Nissan Junior</th>\n",
       "      <td>121.250000</td>\n",
       "      <td>1555.000000</td>\n",
       "    </tr>\n",
       "    <tr>\n",
       "      <th>Peykan</th>\n",
       "      <td>34.333333</td>\n",
       "      <td>993.333333</td>\n",
       "    </tr>\n",
       "  </tbody>\n",
       "</table>\n",
       "</div>"
      ],
      "text/plain": [
       "                     price  Weight (KG)\n",
       "model                                  \n",
       "BMW X6         3933.333333  2286.666667\n",
       "Nissan Junior   121.250000  1555.000000\n",
       "Peykan           34.333333   993.333333"
      ]
     },
     "execution_count": 127,
     "metadata": {},
     "output_type": "execute_result"
    }
   ],
   "source": [
    "grouped[['price','Weight (KG)']].agg('mean')"
   ]
  },
  {
   "cell_type": "markdown",
   "id": "cadd80a0-ec9f-41a3-93d3-9efa325708ba",
   "metadata": {
    "id": "ZRjNvNoBmES8"
   },
   "source": [
    "<p dir=rtl style=\"direction: rtl;text-align: right;line-height:200%;font-family:vazir;font-size:medium\">\n",
    "<font face=\"vazir\" size=3 color='midnightblue'>\n",
    "اگر تابع تجمیعی یک تابع Built-in پانداس باشد، میتوانیم به صورت مستقیم هم به grouped اعمال کنیم."
   ]
  },
  {
   "cell_type": "code",
   "execution_count": 128,
   "id": "54f136aa-2421-4214-bc30-2f7dc1b16535",
   "metadata": {},
   "outputs": [
    {
     "data": {
      "text/html": [
       "<div>\n",
       "<style scoped>\n",
       "    .dataframe tbody tr th:only-of-type {\n",
       "        vertical-align: middle;\n",
       "    }\n",
       "\n",
       "    .dataframe tbody tr th {\n",
       "        vertical-align: top;\n",
       "    }\n",
       "\n",
       "    .dataframe thead th {\n",
       "        text-align: right;\n",
       "    }\n",
       "</style>\n",
       "<table border=\"1\" class=\"dataframe\">\n",
       "  <thead>\n",
       "    <tr style=\"text-align: right;\">\n",
       "      <th></th>\n",
       "      <th>price</th>\n",
       "      <th>Weight (KG)</th>\n",
       "    </tr>\n",
       "    <tr>\n",
       "      <th>model</th>\n",
       "      <th></th>\n",
       "      <th></th>\n",
       "    </tr>\n",
       "  </thead>\n",
       "  <tbody>\n",
       "    <tr>\n",
       "      <th>BMW X6</th>\n",
       "      <td>3933.333333</td>\n",
       "      <td>2286.666667</td>\n",
       "    </tr>\n",
       "    <tr>\n",
       "      <th>Nissan Junior</th>\n",
       "      <td>121.250000</td>\n",
       "      <td>1555.000000</td>\n",
       "    </tr>\n",
       "    <tr>\n",
       "      <th>Peykan</th>\n",
       "      <td>34.333333</td>\n",
       "      <td>993.333333</td>\n",
       "    </tr>\n",
       "  </tbody>\n",
       "</table>\n",
       "</div>"
      ],
      "text/plain": [
       "                     price  Weight (KG)\n",
       "model                                  \n",
       "BMW X6         3933.333333  2286.666667\n",
       "Nissan Junior   121.250000  1555.000000\n",
       "Peykan           34.333333   993.333333"
      ]
     },
     "execution_count": 128,
     "metadata": {},
     "output_type": "execute_result"
    }
   ],
   "source": [
    "grouped[['price','Weight (KG)']].mean()"
   ]
  },
  {
   "cell_type": "markdown",
   "id": "5aad2b22-ac01-402b-9a88-829cf48b9ce6",
   "metadata": {
    "id": "ZRjNvNoBmES8"
   },
   "source": [
    "<p dir=rtl style=\"direction: rtl;text-align: right;line-height:200%;font-family:vazir;font-size:medium\">\n",
    "<font face=\"vazir\" size=3 color='midnightblue'>\n",
    "اگر لازم باشد یک تابع بنویسیم تا مقدار تجمیعی مورد نظر ما را حساب کند، این تابع را تعریف میکنیم و بدون استفاده از '' درون تابع agg صدا میزنیم."
   ]
  },
  {
   "cell_type": "code",
   "execution_count": 129,
   "id": "0c43d51a-451a-46c2-961c-2bb51f62d647",
   "metadata": {},
   "outputs": [
    {
     "data": {
      "text/html": [
       "<div>\n",
       "<style scoped>\n",
       "    .dataframe tbody tr th:only-of-type {\n",
       "        vertical-align: middle;\n",
       "    }\n",
       "\n",
       "    .dataframe tbody tr th {\n",
       "        vertical-align: top;\n",
       "    }\n",
       "\n",
       "    .dataframe thead th {\n",
       "        text-align: right;\n",
       "    }\n",
       "</style>\n",
       "<table border=\"1\" class=\"dataframe\">\n",
       "  <thead>\n",
       "    <tr style=\"text-align: right;\">\n",
       "      <th></th>\n",
       "      <th>price</th>\n",
       "      <th>Weight (KG)</th>\n",
       "    </tr>\n",
       "    <tr>\n",
       "      <th>model</th>\n",
       "      <th></th>\n",
       "      <th></th>\n",
       "    </tr>\n",
       "  </thead>\n",
       "  <tbody>\n",
       "    <tr>\n",
       "      <th>BMW X6</th>\n",
       "      <td>2600</td>\n",
       "      <td>100</td>\n",
       "    </tr>\n",
       "    <tr>\n",
       "      <th>Nissan Junior</th>\n",
       "      <td>40</td>\n",
       "      <td>60</td>\n",
       "    </tr>\n",
       "    <tr>\n",
       "      <th>Peykan</th>\n",
       "      <td>23</td>\n",
       "      <td>10</td>\n",
       "    </tr>\n",
       "  </tbody>\n",
       "</table>\n",
       "</div>"
      ],
      "text/plain": [
       "               price  Weight (KG)\n",
       "model                            \n",
       "BMW X6          2600          100\n",
       "Nissan Junior     40           60\n",
       "Peykan            23           10"
      ]
     },
     "execution_count": 129,
     "metadata": {},
     "output_type": "execute_result"
    }
   ],
   "source": [
    " def peak_to_peak(arr):\n",
    "     return arr.max() - arr.min()\n",
    "\n",
    "grouped[['price','Weight (KG)']].agg( peak_to_peak )"
   ]
  },
  {
   "cell_type": "markdown",
   "id": "1ead8a2f-2edc-4899-8b58-66411515b356",
   "metadata": {
    "id": "ZRjNvNoBmES8"
   },
   "source": [
    "<p dir=rtl style=\"direction: rtl;text-align: right;line-height:200%;font-family:vazir;font-size:medium\">\n",
    "<font face=\"vazir\" size=3 color='midnightblue'>\n",
    "میتوانیم همزمان چند تابع به متد agg برای اعمال روی یک ستون بدهیم. برای این کار توابع را به صورت لیست می آوریم."
   ]
  },
  {
   "cell_type": "code",
   "execution_count": 130,
   "id": "8fa35d3b-9623-4942-ab53-09a12c4fe4c4",
   "metadata": {},
   "outputs": [
    {
     "data": {
      "text/html": [
       "<div>\n",
       "<style scoped>\n",
       "    .dataframe tbody tr th:only-of-type {\n",
       "        vertical-align: middle;\n",
       "    }\n",
       "\n",
       "    .dataframe tbody tr th {\n",
       "        vertical-align: top;\n",
       "    }\n",
       "\n",
       "    .dataframe thead th {\n",
       "        text-align: right;\n",
       "    }\n",
       "</style>\n",
       "<table border=\"1\" class=\"dataframe\">\n",
       "  <thead>\n",
       "    <tr style=\"text-align: right;\">\n",
       "      <th></th>\n",
       "      <th>count</th>\n",
       "      <th>peak_to_peak</th>\n",
       "      <th>median</th>\n",
       "      <th>mean</th>\n",
       "    </tr>\n",
       "    <tr>\n",
       "      <th>model</th>\n",
       "      <th></th>\n",
       "      <th></th>\n",
       "      <th></th>\n",
       "      <th></th>\n",
       "    </tr>\n",
       "  </thead>\n",
       "  <tbody>\n",
       "    <tr>\n",
       "      <th>BMW X6</th>\n",
       "      <td>3</td>\n",
       "      <td>2600</td>\n",
       "      <td>4800.0</td>\n",
       "      <td>3933.333333</td>\n",
       "    </tr>\n",
       "    <tr>\n",
       "      <th>Nissan Junior</th>\n",
       "      <td>4</td>\n",
       "      <td>40</td>\n",
       "      <td>117.5</td>\n",
       "      <td>121.250000</td>\n",
       "    </tr>\n",
       "    <tr>\n",
       "      <th>Peykan</th>\n",
       "      <td>3</td>\n",
       "      <td>23</td>\n",
       "      <td>30.0</td>\n",
       "      <td>34.333333</td>\n",
       "    </tr>\n",
       "  </tbody>\n",
       "</table>\n",
       "</div>"
      ],
      "text/plain": [
       "               count  peak_to_peak  median         mean\n",
       "model                                                  \n",
       "BMW X6             3          2600  4800.0  3933.333333\n",
       "Nissan Junior      4            40   117.5   121.250000\n",
       "Peykan             3            23    30.0    34.333333"
      ]
     },
     "execution_count": 130,
     "metadata": {},
     "output_type": "execute_result"
    }
   ],
   "source": [
    "grouped['price'].agg(['count', peak_to_peak, 'median', 'mean'])"
   ]
  },
  {
   "cell_type": "markdown",
   "id": "88d2c20d-9944-46b9-a577-6b571ccf3519",
   "metadata": {
    "id": "ZRjNvNoBmES8"
   },
   "source": [
    "<p dir=rtl style=\"direction: rtl;text-align: right;line-height:200%;font-family:vazir;font-size:medium\">\n",
    "<font face=\"vazir\" size=3 color='midnightblue'>\n",
    "اگر بخواهیم توابع مختلف روی ستونهای مختلف اعمال کنیم از دیکشنری کمک میگیریم.\n",
    "    <br>\n",
    "    (گروه بندی بر اساس مدل، محاسبه تابع peak_to_peak برای قیمت و تابع mean برای Weight (KG): )"
   ]
  },
  {
   "cell_type": "code",
   "execution_count": 131,
   "id": "80b94833-6e6c-4f30-8b1f-866daf5e56a0",
   "metadata": {},
   "outputs": [
    {
     "data": {
      "text/html": [
       "<div>\n",
       "<style scoped>\n",
       "    .dataframe tbody tr th:only-of-type {\n",
       "        vertical-align: middle;\n",
       "    }\n",
       "\n",
       "    .dataframe tbody tr th {\n",
       "        vertical-align: top;\n",
       "    }\n",
       "\n",
       "    .dataframe thead th {\n",
       "        text-align: right;\n",
       "    }\n",
       "</style>\n",
       "<table border=\"1\" class=\"dataframe\">\n",
       "  <thead>\n",
       "    <tr style=\"text-align: right;\">\n",
       "      <th></th>\n",
       "      <th>price</th>\n",
       "      <th>Weight (KG)</th>\n",
       "    </tr>\n",
       "    <tr>\n",
       "      <th>model</th>\n",
       "      <th></th>\n",
       "      <th></th>\n",
       "    </tr>\n",
       "  </thead>\n",
       "  <tbody>\n",
       "    <tr>\n",
       "      <th>BMW X6</th>\n",
       "      <td>2600</td>\n",
       "      <td>2286.666667</td>\n",
       "    </tr>\n",
       "    <tr>\n",
       "      <th>Nissan Junior</th>\n",
       "      <td>40</td>\n",
       "      <td>1555.000000</td>\n",
       "    </tr>\n",
       "    <tr>\n",
       "      <th>Peykan</th>\n",
       "      <td>23</td>\n",
       "      <td>993.333333</td>\n",
       "    </tr>\n",
       "  </tbody>\n",
       "</table>\n",
       "</div>"
      ],
      "text/plain": [
       "               price  Weight (KG)\n",
       "model                            \n",
       "BMW X6          2600  2286.666667\n",
       "Nissan Junior     40  1555.000000\n",
       "Peykan            23   993.333333"
      ]
     },
     "execution_count": 131,
     "metadata": {},
     "output_type": "execute_result"
    }
   ],
   "source": [
    "cars_df.groupby('model').agg({'price':peak_to_peak, 'Weight (KG)':'mean'})"
   ]
  },
  {
   "cell_type": "markdown",
   "id": "57abaa33-b8c2-44c6-9933-480674af1b66",
   "metadata": {
    "id": "ZRjNvNoBmES8"
   },
   "source": [
    "<p dir=rtl style=\"direction: rtl;text-align: right;line-height:200%;font-family:vazir;font-size:medium\">\n",
    "<font face=\"vazir\" size=3 color='midnightblue'>\n",
    "برای تغییر نام ستون ها از متد rename استفاده میکنیم."
   ]
  },
  {
   "cell_type": "code",
   "execution_count": 132,
   "id": "9520f2e9-ff51-4158-a4cb-0bdead55864a",
   "metadata": {},
   "outputs": [
    {
     "data": {
      "text/html": [
       "<div>\n",
       "<style scoped>\n",
       "    .dataframe tbody tr th:only-of-type {\n",
       "        vertical-align: middle;\n",
       "    }\n",
       "\n",
       "    .dataframe tbody tr th {\n",
       "        vertical-align: top;\n",
       "    }\n",
       "\n",
       "    .dataframe thead th {\n",
       "        text-align: right;\n",
       "    }\n",
       "</style>\n",
       "<table border=\"1\" class=\"dataframe\">\n",
       "  <thead>\n",
       "    <tr style=\"text-align: right;\">\n",
       "      <th></th>\n",
       "      <th>price peak_to_peak</th>\n",
       "      <th>weight mean</th>\n",
       "    </tr>\n",
       "    <tr>\n",
       "      <th>model</th>\n",
       "      <th></th>\n",
       "      <th></th>\n",
       "    </tr>\n",
       "  </thead>\n",
       "  <tbody>\n",
       "    <tr>\n",
       "      <th>BMW X6</th>\n",
       "      <td>2600</td>\n",
       "      <td>2286.666667</td>\n",
       "    </tr>\n",
       "    <tr>\n",
       "      <th>Nissan Junior</th>\n",
       "      <td>40</td>\n",
       "      <td>1555.000000</td>\n",
       "    </tr>\n",
       "    <tr>\n",
       "      <th>Peykan</th>\n",
       "      <td>23</td>\n",
       "      <td>993.333333</td>\n",
       "    </tr>\n",
       "  </tbody>\n",
       "</table>\n",
       "</div>"
      ],
      "text/plain": [
       "               price peak_to_peak  weight mean\n",
       "model                                         \n",
       "BMW X6                       2600  2286.666667\n",
       "Nissan Junior                  40  1555.000000\n",
       "Peykan                         23   993.333333"
      ]
     },
     "execution_count": 132,
     "metadata": {},
     "output_type": "execute_result"
    }
   ],
   "source": [
    "cars_df.groupby('model').agg({'price':peak_to_peak, 'Weight (KG)':'mean'}).rename(columns={'price':'price peak_to_peak', 'Weight (KG)':'weight mean'})"
   ]
  },
  {
   "cell_type": "markdown",
   "id": "1aceaaa3-0754-4b89-9455-a07ae6e5368a",
   "metadata": {},
   "source": [
    "<br>\n",
    "<div dir=rtl id=\"start\" style=\"direction:rtl;line-height:200%;\">\n",
    "\t<font face=\"vazir\" size=5 color='gold'>\n",
    "2) تبدیل"
   ]
  },
  {
   "cell_type": "markdown",
   "id": "65412a3f-8838-496f-8ff9-db3e6d8f885a",
   "metadata": {
    "id": "ZRjNvNoBmES8"
   },
   "source": [
    "<p dir=rtl style=\"direction: rtl;text-align: right;line-height:200%;font-family:vazir;font-size:medium\">\n",
    "<font face=\"vazir\" size=4>\n",
    "برای اضافه کردن یک ستون با مقادیر محاسبه شده بر اساس سایر ستونها میتونیم از تابع transform استفاده کنیم و با پارامتر lambda تابع را تعریف کنیم.تابعی که به صورت lambda نوشته شده است، برای هر گروه یکبار انجام میشود."
   ]
  },
  {
   "cell_type": "code",
   "execution_count": 133,
   "id": "4f158045-fab7-438f-be6e-45c0ac7cedbd",
   "metadata": {},
   "outputs": [
    {
     "data": {
      "text/html": [
       "<div>\n",
       "<style scoped>\n",
       "    .dataframe tbody tr th:only-of-type {\n",
       "        vertical-align: middle;\n",
       "    }\n",
       "\n",
       "    .dataframe tbody tr th {\n",
       "        vertical-align: top;\n",
       "    }\n",
       "\n",
       "    .dataframe thead th {\n",
       "        text-align: right;\n",
       "    }\n",
       "</style>\n",
       "<table border=\"1\" class=\"dataframe\">\n",
       "  <thead>\n",
       "    <tr style=\"text-align: right;\">\n",
       "      <th></th>\n",
       "      <th>model</th>\n",
       "      <th>Color</th>\n",
       "      <th>Weight (KG)</th>\n",
       "      <th>year</th>\n",
       "      <th>price</th>\n",
       "      <th>percent</th>\n",
       "    </tr>\n",
       "  </thead>\n",
       "  <tbody>\n",
       "    <tr>\n",
       "      <th>0</th>\n",
       "      <td>Peykan</td>\n",
       "      <td>Red</td>\n",
       "      <td>990</td>\n",
       "      <td>1346</td>\n",
       "      <td>25</td>\n",
       "      <td>0.00000</td>\n",
       "    </tr>\n",
       "    <tr>\n",
       "      <th>1</th>\n",
       "      <td>Peykan</td>\n",
       "      <td>White</td>\n",
       "      <td>1000</td>\n",
       "      <td>1357</td>\n",
       "      <td>30</td>\n",
       "      <td>21.73913</td>\n",
       "    </tr>\n",
       "    <tr>\n",
       "      <th>2</th>\n",
       "      <td>Peykan</td>\n",
       "      <td>Olive</td>\n",
       "      <td>990</td>\n",
       "      <td>1388</td>\n",
       "      <td>48</td>\n",
       "      <td>100.00000</td>\n",
       "    </tr>\n",
       "    <tr>\n",
       "      <th>3</th>\n",
       "      <td>BMW X6</td>\n",
       "      <td>Black</td>\n",
       "      <td>2320</td>\n",
       "      <td>1391</td>\n",
       "      <td>2200</td>\n",
       "      <td>0.00000</td>\n",
       "    </tr>\n",
       "    <tr>\n",
       "      <th>4</th>\n",
       "      <td>BMW X6</td>\n",
       "      <td>Ametrine</td>\n",
       "      <td>2320</td>\n",
       "      <td>1393</td>\n",
       "      <td>4800</td>\n",
       "      <td>100.00000</td>\n",
       "    </tr>\n",
       "    <tr>\n",
       "      <th>5</th>\n",
       "      <td>BMW X6</td>\n",
       "      <td>navy</td>\n",
       "      <td>2220</td>\n",
       "      <td>1393</td>\n",
       "      <td>4800</td>\n",
       "      <td>100.00000</td>\n",
       "    </tr>\n",
       "    <tr>\n",
       "      <th>6</th>\n",
       "      <td>Nissan Junior</td>\n",
       "      <td>Blue</td>\n",
       "      <td>1540</td>\n",
       "      <td>1375</td>\n",
       "      <td>105</td>\n",
       "      <td>0.00000</td>\n",
       "    </tr>\n",
       "    <tr>\n",
       "      <th>7</th>\n",
       "      <td>Nissan Junior</td>\n",
       "      <td>White</td>\n",
       "      <td>1540</td>\n",
       "      <td>1383</td>\n",
       "      <td>105</td>\n",
       "      <td>0.00000</td>\n",
       "    </tr>\n",
       "    <tr>\n",
       "      <th>8</th>\n",
       "      <td>Nissan Junior</td>\n",
       "      <td>Blue</td>\n",
       "      <td>1600</td>\n",
       "      <td>1375</td>\n",
       "      <td>130</td>\n",
       "      <td>62.50000</td>\n",
       "    </tr>\n",
       "    <tr>\n",
       "      <th>9</th>\n",
       "      <td>Nissan Junior</td>\n",
       "      <td>Red</td>\n",
       "      <td>1540</td>\n",
       "      <td>1389</td>\n",
       "      <td>145</td>\n",
       "      <td>100.00000</td>\n",
       "    </tr>\n",
       "  </tbody>\n",
       "</table>\n",
       "</div>"
      ],
      "text/plain": [
       "           model     Color  Weight (KG)  year  price    percent\n",
       "0         Peykan       Red          990  1346     25    0.00000\n",
       "1         Peykan     White         1000  1357     30   21.73913\n",
       "2         Peykan     Olive          990  1388     48  100.00000\n",
       "3         BMW X6     Black         2320  1391   2200    0.00000\n",
       "4         BMW X6  Ametrine         2320  1393   4800  100.00000\n",
       "5         BMW X6      navy         2220  1393   4800  100.00000\n",
       "6  Nissan Junior      Blue         1540  1375    105    0.00000\n",
       "7  Nissan Junior     White         1540  1383    105    0.00000\n",
       "8  Nissan Junior      Blue         1600  1375    130   62.50000\n",
       "9  Nissan Junior       Red         1540  1389    145  100.00000"
      ]
     },
     "execution_count": 133,
     "metadata": {},
     "output_type": "execute_result"
    }
   ],
   "source": [
    "df_copy = cars_df.copy()\n",
    "df_copy['percent'] = df_copy.groupby('model')['price'].transform(lambda x: ((x-x.min())/(x.max()-x.min()))*100)\n",
    "df_copy"
   ]
  },
  {
   "cell_type": "markdown",
   "id": "55e4b42c-1f9e-4725-8b07-7ff2c7041b99",
   "metadata": {},
   "source": [
    "<br>\n",
    "<div dir=rtl id=\"start\" style=\"direction:rtl;line-height:200%;\">\n",
    "\t<font face=\"vazir\" size=5 color='gold'>\n",
    "3) فیلتر"
   ]
  },
  {
   "cell_type": "markdown",
   "id": "3fbd6102-26a2-4418-94d3-af1a25c1e9b2",
   "metadata": {
    "id": "ZRjNvNoBmES8"
   },
   "source": [
    "<p dir=rtl style=\"direction: rtl;text-align: right;line-height:200%;font-family:vazir;font-size:medium\">\n",
    "<font face=\"vazir\" size=4>\n",
    "اگر بخواهیم با فیلتر کردن برخی نمونه های دیتافریم را حذف کنیم، از تابع filter استفاده میکنیم. تابع تعریف شده با lambda را اعمال میکند و نمونه هایی که این تابع برایشان True باشد برمیگرداند."
   ]
  },
  {
   "cell_type": "code",
   "execution_count": 134,
   "id": "d31c2d2c-662c-4562-a4a2-12072f1618f2",
   "metadata": {},
   "outputs": [
    {
     "data": {
      "text/html": [
       "<div>\n",
       "<style scoped>\n",
       "    .dataframe tbody tr th:only-of-type {\n",
       "        vertical-align: middle;\n",
       "    }\n",
       "\n",
       "    .dataframe tbody tr th {\n",
       "        vertical-align: top;\n",
       "    }\n",
       "\n",
       "    .dataframe thead th {\n",
       "        text-align: right;\n",
       "    }\n",
       "</style>\n",
       "<table border=\"1\" class=\"dataframe\">\n",
       "  <thead>\n",
       "    <tr style=\"text-align: right;\">\n",
       "      <th></th>\n",
       "      <th>model</th>\n",
       "      <th>Color</th>\n",
       "      <th>Weight (KG)</th>\n",
       "      <th>year</th>\n",
       "      <th>price</th>\n",
       "    </tr>\n",
       "  </thead>\n",
       "  <tbody>\n",
       "    <tr>\n",
       "      <th>6</th>\n",
       "      <td>Nissan Junior</td>\n",
       "      <td>Blue</td>\n",
       "      <td>1540</td>\n",
       "      <td>1375</td>\n",
       "      <td>105</td>\n",
       "    </tr>\n",
       "    <tr>\n",
       "      <th>7</th>\n",
       "      <td>Nissan Junior</td>\n",
       "      <td>White</td>\n",
       "      <td>1540</td>\n",
       "      <td>1383</td>\n",
       "      <td>105</td>\n",
       "    </tr>\n",
       "    <tr>\n",
       "      <th>8</th>\n",
       "      <td>Nissan Junior</td>\n",
       "      <td>Blue</td>\n",
       "      <td>1600</td>\n",
       "      <td>1375</td>\n",
       "      <td>130</td>\n",
       "    </tr>\n",
       "    <tr>\n",
       "      <th>9</th>\n",
       "      <td>Nissan Junior</td>\n",
       "      <td>Red</td>\n",
       "      <td>1540</td>\n",
       "      <td>1389</td>\n",
       "      <td>145</td>\n",
       "    </tr>\n",
       "  </tbody>\n",
       "</table>\n",
       "</div>"
      ],
      "text/plain": [
       "           model  Color  Weight (KG)  year  price\n",
       "6  Nissan Junior   Blue         1540  1375    105\n",
       "7  Nissan Junior  White         1540  1383    105\n",
       "8  Nissan Junior   Blue         1600  1375    130\n",
       "9  Nissan Junior    Red         1540  1389    145"
      ]
     },
     "execution_count": 134,
     "metadata": {},
     "output_type": "execute_result"
    }
   ],
   "source": [
    "# می‌خواهیم تنها اطلاعات ماشین‌هایی را نگه داریم که از آن مدل حداقل ۴ نمونه داشته باشیم.\n",
    "cars_df.groupby('model').filter(lambda x : len(x) >= 4) "
   ]
  },
  {
   "cell_type": "markdown",
   "id": "236d9e2f-e657-402f-b353-7a21d2880f85",
   "metadata": {},
   "source": [
    "<br>\n",
    "<div dir=rtl id=\"start\" style=\"direction:rtl;line-height:200%;\">\n",
    "\t<font face=\"vazir\" size=6 color='Orange'>\n",
    "انواع کلید برای گروه‌بندی"
   ]
  },
  {
   "cell_type": "markdown",
   "id": "28e3a6cc-139b-4e5d-a941-93f70f87e792",
   "metadata": {},
   "source": [
    "<br>\n",
    "<div dir=rtl id=\"start\" style=\"direction:rtl;line-height:200%;\">\n",
    "\t<font face=\"vazir\" size=5 color='gold'>\n",
    "استفاده از آرایه به عنوان کلید"
   ]
  },
  {
   "cell_type": "markdown",
   "id": "5ba03d6d-1aba-4078-b02e-3bae4f84e985",
   "metadata": {
    "id": "ZRjNvNoBmES8"
   },
   "source": [
    "<p dir=rtl style=\"direction: rtl;text-align: right;line-height:200%;font-family:vazir;font-size:medium\">\n",
    "<font face=\"vazir\" size=4>\n",
    "یک ستون جدید تعریف میکنیم (مثلا میزان خوردگی ماشین ها) حال میخواهیم min , max قیمت را با توجه به آن بدانیم. (کلید را با () جلوی groupby قرار میدهیم.)"
   ]
  },
  {
   "cell_type": "code",
   "execution_count": 135,
   "id": "63e09d76-3bfd-4e49-adfb-12cb64f042da",
   "metadata": {},
   "outputs": [
    {
     "data": {
      "text/html": [
       "<div>\n",
       "<style scoped>\n",
       "    .dataframe tbody tr th:only-of-type {\n",
       "        vertical-align: middle;\n",
       "    }\n",
       "\n",
       "    .dataframe tbody tr th {\n",
       "        vertical-align: top;\n",
       "    }\n",
       "\n",
       "    .dataframe thead th {\n",
       "        text-align: right;\n",
       "    }\n",
       "</style>\n",
       "<table border=\"1\" class=\"dataframe\">\n",
       "  <thead>\n",
       "    <tr style=\"text-align: right;\">\n",
       "      <th></th>\n",
       "      <th>min</th>\n",
       "      <th>max</th>\n",
       "    </tr>\n",
       "  </thead>\n",
       "  <tbody>\n",
       "    <tr>\n",
       "      <th>high</th>\n",
       "      <td>30</td>\n",
       "      <td>2200</td>\n",
       "    </tr>\n",
       "    <tr>\n",
       "      <th>low</th>\n",
       "      <td>25</td>\n",
       "      <td>4800</td>\n",
       "    </tr>\n",
       "    <tr>\n",
       "      <th>medium</th>\n",
       "      <td>48</td>\n",
       "      <td>4800</td>\n",
       "    </tr>\n",
       "  </tbody>\n",
       "</table>\n",
       "</div>"
      ],
      "text/plain": [
       "        min   max\n",
       "high     30  2200\n",
       "low      25  4800\n",
       "medium   48  4800"
      ]
     },
     "execution_count": 135,
     "metadata": {},
     "output_type": "execute_result"
    }
   ],
   "source": [
    "car_impact = ['low', 'high', 'medium', 'high', 'low', 'medium', 'medium', 'low', 'low', 'high']\n",
    "cars_df.groupby(car_impact)['price'].agg(['min', 'max'])"
   ]
  },
  {
   "cell_type": "markdown",
   "id": "f79a1c21-9fe8-40a4-97d5-c37aa998ab91",
   "metadata": {},
   "source": [
    "<br>\n",
    "<div dir=rtl id=\"start\" style=\"direction:rtl;line-height:200%;\">\n",
    "\t<font face=\"vazir\" size=5 color='gold'>\n",
    "استفاده از تابع به عنوان کلید"
   ]
  },
  {
   "cell_type": "markdown",
   "id": "cbc7b68c-68cc-43f6-a096-13ac7acfa834",
   "metadata": {
    "id": "ZRjNvNoBmES8"
   },
   "source": [
    "<p dir=rtl style=\"direction: rtl;text-align: right;line-height:200%;font-family:vazir;font-size:medium\">\n",
    "<font face=\"vazir\" size=4>\n",
    "یک تابع تعریف میکنیم و میخواهیم از خروجی تابع به عنوان کلید استفاده کنیم. مانند حالت بالا آن را در () مقابل groupby قرار میدهیم.\n",
    "    <br>\n",
    "    مثلا میخواهیم سال را از روی شماره فاکتور پیدا کنیم و به عنوان کلید استفاده کنیم و عملیات جمع را برای هر سال روی قیمت انجام دهیم."
   ]
  },
  {
   "cell_type": "code",
   "execution_count": 136,
   "id": "65cf6528-657c-4d72-8a75-69a5f77073f0",
   "metadata": {},
   "outputs": [
    {
     "data": {
      "text/plain": [
       "array([3, 2, 1, 2, 2, 1, 3, 1, 2, 2])"
      ]
     },
     "execution_count": 136,
     "metadata": {},
     "output_type": "execute_result"
    }
   ],
   "source": [
    "cars_df.index = [3523, 2636, 1031, 2159, 2973, 1083, 3214, 1111, 2525, 2445]\n",
    "\n",
    "# تابعی برای پیدا کردن سال خرید ماشین\n",
    "def factor_split(number):\n",
    "    return np.array(number/1000).astype(int)\n",
    "\n",
    "factor_split(cars_df.index)"
   ]
  },
  {
   "cell_type": "code",
   "execution_count": 137,
   "id": "bb3a88f6-1c37-4aab-9309-38e76b030dac",
   "metadata": {},
   "outputs": [
    {
     "data": {
      "text/plain": [
       "1    4953\n",
       "2    7305\n",
       "3     130\n",
       "Name: price, dtype: int64"
      ]
     },
     "execution_count": 137,
     "metadata": {},
     "output_type": "execute_result"
    }
   ],
   "source": [
    "cars_df.groupby(factor_split)['price'].sum()"
   ]
  },
  {
   "cell_type": "markdown",
   "id": "25c0e77a-5a5b-4a4c-94a7-1a2598ab2791",
   "metadata": {},
   "source": [
    "<br>\n",
    "<div dir=rtl id=\"start\" style=\"direction:rtl;line-height:200%;\">\n",
    "\t<font face=\"vazir\" size=5 color='gold'>\n",
    "استفاده از چند کلید برای گروه‌بندی"
   ]
  },
  {
   "cell_type": "markdown",
   "id": "a5563e30-939f-4907-87bd-d6405dfadd71",
   "metadata": {
    "id": "ZRjNvNoBmES8"
   },
   "source": [
    "<p dir=rtl style=\"direction: rtl;text-align: right;line-height:200%;font-family:vazir;font-size:medium\">\n",
    "<font face=\"vazir\" size=4>\n",
    "در این حالت کلیدها را به صورت لیست در  مقابل groupby قرار میدهیم.\n",
    "    <br>\n",
    "    مثلا میخواهیم میانگین قیمت هر ماشین را بر اساس مدل و سال بدست آوریم. در این حالت هم مدل و هم سال، همزمان به عنوان نمایه شناخته میشوند."
   ]
  },
  {
   "cell_type": "code",
   "execution_count": 138,
   "id": "5e947563-1022-4766-8ada-bd65bb4ab8bc",
   "metadata": {},
   "outputs": [
    {
     "data": {
      "text/plain": [
       "model          year\n",
       "BMW X6         1391    2200.0\n",
       "               1393    4800.0\n",
       "Nissan Junior  1375     117.5\n",
       "               1383     105.0\n",
       "               1389     145.0\n",
       "Peykan         1346      25.0\n",
       "               1357      30.0\n",
       "               1388      48.0\n",
       "Name: price, dtype: float64"
      ]
     },
     "execution_count": 138,
     "metadata": {},
     "output_type": "execute_result"
    }
   ],
   "source": [
    "price_datas = cars_df.groupby(['model', 'year'])['price'].mean()\n",
    "price_datas"
   ]
  },
  {
   "cell_type": "markdown",
   "id": "f66083cb-4b67-4346-901d-a4c985734d22",
   "metadata": {
    "id": "ZRjNvNoBmES8"
   },
   "source": [
    "<p dir=rtl style=\"direction: rtl;text-align: right;line-height:200%;font-family:vazir;font-size:medium\">\n",
    "<font face=\"vazir\" size=4>\n",
    "اگر از تابع unstack استفاده کنیم دومین نمایه به عنوان ستون در نظر گرفته میشود و یک جدول خواهیم داشت."
   ]
  },
  {
   "cell_type": "code",
   "execution_count": 139,
   "id": "cbfddcb0-dfe1-4ee4-b442-d84410a4c394",
   "metadata": {},
   "outputs": [
    {
     "data": {
      "text/html": [
       "<div>\n",
       "<style scoped>\n",
       "    .dataframe tbody tr th:only-of-type {\n",
       "        vertical-align: middle;\n",
       "    }\n",
       "\n",
       "    .dataframe tbody tr th {\n",
       "        vertical-align: top;\n",
       "    }\n",
       "\n",
       "    .dataframe thead th {\n",
       "        text-align: right;\n",
       "    }\n",
       "</style>\n",
       "<table border=\"1\" class=\"dataframe\">\n",
       "  <thead>\n",
       "    <tr style=\"text-align: right;\">\n",
       "      <th>year</th>\n",
       "      <th>1346</th>\n",
       "      <th>1357</th>\n",
       "      <th>1375</th>\n",
       "      <th>1383</th>\n",
       "      <th>1388</th>\n",
       "      <th>1389</th>\n",
       "      <th>1391</th>\n",
       "      <th>1393</th>\n",
       "    </tr>\n",
       "    <tr>\n",
       "      <th>model</th>\n",
       "      <th></th>\n",
       "      <th></th>\n",
       "      <th></th>\n",
       "      <th></th>\n",
       "      <th></th>\n",
       "      <th></th>\n",
       "      <th></th>\n",
       "      <th></th>\n",
       "    </tr>\n",
       "  </thead>\n",
       "  <tbody>\n",
       "    <tr>\n",
       "      <th>BMW X6</th>\n",
       "      <td>NaN</td>\n",
       "      <td>NaN</td>\n",
       "      <td>NaN</td>\n",
       "      <td>NaN</td>\n",
       "      <td>NaN</td>\n",
       "      <td>NaN</td>\n",
       "      <td>2200.0</td>\n",
       "      <td>4800.0</td>\n",
       "    </tr>\n",
       "    <tr>\n",
       "      <th>Nissan Junior</th>\n",
       "      <td>NaN</td>\n",
       "      <td>NaN</td>\n",
       "      <td>117.5</td>\n",
       "      <td>105.0</td>\n",
       "      <td>NaN</td>\n",
       "      <td>145.0</td>\n",
       "      <td>NaN</td>\n",
       "      <td>NaN</td>\n",
       "    </tr>\n",
       "    <tr>\n",
       "      <th>Peykan</th>\n",
       "      <td>25.0</td>\n",
       "      <td>30.0</td>\n",
       "      <td>NaN</td>\n",
       "      <td>NaN</td>\n",
       "      <td>48.0</td>\n",
       "      <td>NaN</td>\n",
       "      <td>NaN</td>\n",
       "      <td>NaN</td>\n",
       "    </tr>\n",
       "  </tbody>\n",
       "</table>\n",
       "</div>"
      ],
      "text/plain": [
       "year           1346  1357   1375   1383  1388   1389    1391    1393\n",
       "model                                                               \n",
       "BMW X6          NaN   NaN    NaN    NaN   NaN    NaN  2200.0  4800.0\n",
       "Nissan Junior   NaN   NaN  117.5  105.0   NaN  145.0     NaN     NaN\n",
       "Peykan         25.0  30.0    NaN    NaN  48.0    NaN     NaN     NaN"
      ]
     },
     "execution_count": 139,
     "metadata": {},
     "output_type": "execute_result"
    }
   ],
   "source": [
    "price_datas.unstack()"
   ]
  },
  {
   "cell_type": "markdown",
   "id": "ee2e70d5-afb0-44b4-ab17-52c047b3a690",
   "metadata": {},
   "source": [
    "<br>\n",
    "<div dir=rtl id=\"start\" style=\"direction:rtl;line-height:200%;\">\n",
    "\t<font face=\"vazir\" size=7 color='Red'>\n",
    "نکات تکمیلی"
   ]
  },
  {
   "cell_type": "markdown",
   "id": "2c5188eb-cb20-43bd-8e48-2b74f75ec193",
   "metadata": {},
   "source": [
    "<br>\n",
    "<div dir=rtl id=\"start\" style=\"direction:rtl;line-height:200%;\">\n",
    "\t<font face=\"vazir\" size=6 color='Orange'>\n",
    "تبدیل نوع داده"
   ]
  },
  {
   "cell_type": "markdown",
   "id": "dad01ba6-6a41-4afd-afdf-8cea330693b6",
   "metadata": {
    "id": "ZRjNvNoBmES8"
   },
   "source": [
    "<p dir=rtl style=\"direction: rtl;text-align: right;line-height:200%;font-family:vazir;font-size:medium\">\n",
    "<font face=\"vazir\" size=4>\n",
    " با دستور convert_dtype میتوانیم نوع داده را به صورت خودکار تبدیل کنیم. در این حالت کل df تحت دستور تغییر خواهد کرد. مثلا داده هایی که object هستند، اگر شبیه string باشند به string تغییر میکنند. اگر شبیه False/True باشند به boolean تغییر میکنند. میتوان به این دستور پاراکتر هم داد."
   ]
  },
  {
   "cell_type": "code",
   "execution_count": 140,
   "id": "c4c783df-f813-414f-8e28-55edfa4e991e",
   "metadata": {},
   "outputs": [
    {
     "data": {
      "text/html": [
       "<div>\n",
       "<style scoped>\n",
       "    .dataframe tbody tr th:only-of-type {\n",
       "        vertical-align: middle;\n",
       "    }\n",
       "\n",
       "    .dataframe tbody tr th {\n",
       "        vertical-align: top;\n",
       "    }\n",
       "\n",
       "    .dataframe thead th {\n",
       "        text-align: right;\n",
       "    }\n",
       "</style>\n",
       "<table border=\"1\" class=\"dataframe\">\n",
       "  <thead>\n",
       "    <tr style=\"text-align: right;\">\n",
       "      <th></th>\n",
       "      <th>model</th>\n",
       "      <th>Color</th>\n",
       "      <th>HP</th>\n",
       "      <th>Weight (KG)</th>\n",
       "      <th>price</th>\n",
       "    </tr>\n",
       "  </thead>\n",
       "  <tbody>\n",
       "    <tr>\n",
       "      <th>0</th>\n",
       "      <td>Peykan</td>\n",
       "      <td>Red</td>\n",
       "      <td>48</td>\n",
       "      <td>990</td>\n",
       "      <td>33</td>\n",
       "    </tr>\n",
       "    <tr>\n",
       "      <th>1</th>\n",
       "      <td>BMW X6</td>\n",
       "      <td>White</td>\n",
       "      <td>335</td>\n",
       "      <td>2320</td>\n",
       "      <td>2400</td>\n",
       "    </tr>\n",
       "    <tr>\n",
       "      <th>2</th>\n",
       "      <td>Peugeot 206</td>\n",
       "      <td>Black</td>\n",
       "      <td>105</td>\n",
       "      <td>1025</td>\n",
       "      <td>105</td>\n",
       "    </tr>\n",
       "    <tr>\n",
       "      <th>3</th>\n",
       "      <td>Tiba</td>\n",
       "      <td>White</td>\n",
       "      <td>87</td>\n",
       "      <td>1027</td>\n",
       "      <td>120</td>\n",
       "    </tr>\n",
       "    <tr>\n",
       "      <th>4</th>\n",
       "      <td>Nissan Junior</td>\n",
       "      <td>Blue</td>\n",
       "      <td>93</td>\n",
       "      <td>1540</td>\n",
       "      <td>230</td>\n",
       "    </tr>\n",
       "    <tr>\n",
       "      <th>5</th>\n",
       "      <td>Peykan Vanet</td>\n",
       "      <td>Red</td>\n",
       "      <td>80</td>\n",
       "      <td>960</td>\n",
       "      <td>68</td>\n",
       "    </tr>\n",
       "    <tr>\n",
       "      <th>6</th>\n",
       "      <td>renault 5</td>\n",
       "      <td>Silver</td>\n",
       "      <td>48</td>\n",
       "      <td>850</td>\n",
       "      <td>38</td>\n",
       "    </tr>\n",
       "  </tbody>\n",
       "</table>\n",
       "</div>"
      ],
      "text/plain": [
       "           model   Color   HP  Weight (KG)  price\n",
       "0         Peykan     Red   48          990     33\n",
       "1         BMW X6   White  335         2320   2400\n",
       "2    Peugeot 206   Black  105         1025    105\n",
       "3           Tiba   White   87         1027    120\n",
       "4  Nissan Junior    Blue   93         1540    230\n",
       "5   Peykan Vanet     Red   80          960     68\n",
       "6      renault 5  Silver   48          850     38"
      ]
     },
     "execution_count": 140,
     "metadata": {},
     "output_type": "execute_result"
    }
   ],
   "source": [
    "cars_dictionary = {\n",
    "    \"model\" :[ \"Peykan\", \"BMW X6\", \"Peugeot 206\", \"Tiba\", \"Nissan Junior\", \"Peykan Vanet\", \"renault 5\"],\n",
    "    \"Color\" :[\"Red\", \"White\", \"Black\", \"White\", \"Blue\", \"Red\", \"Silver\"],\n",
    "    \"HP\" :[48, 335, 105, 87, 93, 80, 48],\n",
    "    \"Weight (KG)\": [990, 2320, 1025, 1027, 1540, 960, 850],\n",
    "    \"price\" :[33, 2400, 105, 120, 230, 68, 38]\n",
    "}\n",
    "\n",
    "df = pd.DataFrame(cars_dictionary)\n",
    "\n",
    "df"
   ]
  },
  {
   "cell_type": "code",
   "execution_count": 141,
   "id": "b68d9c13-8994-4c33-8b45-50a7135bc685",
   "metadata": {},
   "outputs": [
    {
     "data": {
      "text/html": [
       "<div>\n",
       "<style scoped>\n",
       "    .dataframe tbody tr th:only-of-type {\n",
       "        vertical-align: middle;\n",
       "    }\n",
       "\n",
       "    .dataframe tbody tr th {\n",
       "        vertical-align: top;\n",
       "    }\n",
       "\n",
       "    .dataframe thead th {\n",
       "        text-align: right;\n",
       "    }\n",
       "</style>\n",
       "<table border=\"1\" class=\"dataframe\">\n",
       "  <thead>\n",
       "    <tr style=\"text-align: right;\">\n",
       "      <th></th>\n",
       "      <th>model</th>\n",
       "      <th>Color</th>\n",
       "      <th>HP</th>\n",
       "      <th>Weight (KG)</th>\n",
       "      <th>price</th>\n",
       "    </tr>\n",
       "  </thead>\n",
       "  <tbody>\n",
       "    <tr>\n",
       "      <th>0</th>\n",
       "      <td>Peykan</td>\n",
       "      <td>Red</td>\n",
       "      <td>48</td>\n",
       "      <td>990</td>\n",
       "      <td>33</td>\n",
       "    </tr>\n",
       "    <tr>\n",
       "      <th>1</th>\n",
       "      <td>BMW X6</td>\n",
       "      <td>White</td>\n",
       "      <td>335</td>\n",
       "      <td>2320</td>\n",
       "      <td>2400</td>\n",
       "    </tr>\n",
       "    <tr>\n",
       "      <th>2</th>\n",
       "      <td>Peugeot 206</td>\n",
       "      <td>Black</td>\n",
       "      <td>105</td>\n",
       "      <td>1025</td>\n",
       "      <td>105</td>\n",
       "    </tr>\n",
       "    <tr>\n",
       "      <th>3</th>\n",
       "      <td>Tiba</td>\n",
       "      <td>White</td>\n",
       "      <td>87</td>\n",
       "      <td>1027</td>\n",
       "      <td>120</td>\n",
       "    </tr>\n",
       "    <tr>\n",
       "      <th>4</th>\n",
       "      <td>Nissan Junior</td>\n",
       "      <td>Blue</td>\n",
       "      <td>93</td>\n",
       "      <td>1540</td>\n",
       "      <td>230</td>\n",
       "    </tr>\n",
       "    <tr>\n",
       "      <th>5</th>\n",
       "      <td>Peykan Vanet</td>\n",
       "      <td>Red</td>\n",
       "      <td>80</td>\n",
       "      <td>960</td>\n",
       "      <td>68</td>\n",
       "    </tr>\n",
       "    <tr>\n",
       "      <th>6</th>\n",
       "      <td>renault 5</td>\n",
       "      <td>Silver</td>\n",
       "      <td>48</td>\n",
       "      <td>850</td>\n",
       "      <td>38</td>\n",
       "    </tr>\n",
       "  </tbody>\n",
       "</table>\n",
       "</div>"
      ],
      "text/plain": [
       "           model   Color   HP  Weight (KG)  price\n",
       "0         Peykan     Red   48          990     33\n",
       "1         BMW X6   White  335         2320   2400\n",
       "2    Peugeot 206   Black  105         1025    105\n",
       "3           Tiba   White   87         1027    120\n",
       "4  Nissan Junior    Blue   93         1540    230\n",
       "5   Peykan Vanet     Red   80          960     68\n",
       "6      renault 5  Silver   48          850     38"
      ]
     },
     "execution_count": 141,
     "metadata": {},
     "output_type": "execute_result"
    }
   ],
   "source": [
    "df.convert_dtypes(infer_objects=True, convert_string=True, convert_integer=True, convert_boolean=True, convert_floating=True)"
   ]
  },
  {
   "cell_type": "markdown",
   "id": "5caf1c79-f0af-4787-8d6b-c6db5b6b0486",
   "metadata": {
    "id": "ZRjNvNoBmES8"
   },
   "source": [
    "<p dir=rtl style=\"direction: rtl;text-align: right;line-height:200%;font-family:vazir;font-size:medium\">\n",
    "<font face=\"vazir\" size=4>\n",
    "برای convert نوع یک ستون از دستور astype() استفاده میکنیم."
   ]
  },
  {
   "cell_type": "code",
   "execution_count": 142,
   "id": "b709328d-2fdb-4d79-b464-4c138770ca51",
   "metadata": {},
   "outputs": [
    {
     "data": {
      "text/plain": [
       "0     48\n",
       "1    335\n",
       "2    105\n",
       "3     87\n",
       "4     93\n",
       "5     80\n",
       "6     48\n",
       "Name: HP, dtype: string"
      ]
     },
     "execution_count": 142,
     "metadata": {},
     "output_type": "execute_result"
    }
   ],
   "source": [
    "df['HP'].astype('string')"
   ]
  },
  {
   "cell_type": "markdown",
   "id": "a535fc36-54f2-4cb2-948e-4e6021b053e3",
   "metadata": {},
   "source": [
    "<br>\n",
    "<div dir=rtl id=\"start\" style=\"direction:rtl;line-height:200%;\">\n",
    "\t<font face=\"vazir\" size=6 color='Orange'>\n",
    "تغییر مقدار ستون بر اساس یک شرط"
   ]
  },
  {
   "cell_type": "markdown",
   "id": "be5d72ff-5847-4923-b4a1-f8a21a937562",
   "metadata": {
    "id": "ZRjNvNoBmES8"
   },
   "source": [
    "<p dir=rtl style=\"direction: rtl;text-align: right;line-height:200%;font-family:vazir;font-size:medium\">\n",
    "<font face=\"vazir\" size=4>\n",
    "برای تغییر مقدار یک ستون بر اساس یک شرط از دستور df.loc[condition,column_label]=new_value  استفاده میکنیم."
   ]
  },
  {
   "cell_type": "code",
   "execution_count": 143,
   "id": "3f82b72f-8a83-4ddc-85d0-89fd6a66044c",
   "metadata": {},
   "outputs": [
    {
     "data": {
      "text/html": [
       "<div>\n",
       "<style scoped>\n",
       "    .dataframe tbody tr th:only-of-type {\n",
       "        vertical-align: middle;\n",
       "    }\n",
       "\n",
       "    .dataframe tbody tr th {\n",
       "        vertical-align: top;\n",
       "    }\n",
       "\n",
       "    .dataframe thead th {\n",
       "        text-align: right;\n",
       "    }\n",
       "</style>\n",
       "<table border=\"1\" class=\"dataframe\">\n",
       "  <thead>\n",
       "    <tr style=\"text-align: right;\">\n",
       "      <th></th>\n",
       "      <th>model</th>\n",
       "      <th>Color</th>\n",
       "      <th>HP</th>\n",
       "      <th>Weight (KG)</th>\n",
       "      <th>price</th>\n",
       "    </tr>\n",
       "  </thead>\n",
       "  <tbody>\n",
       "    <tr>\n",
       "      <th>0</th>\n",
       "      <td>Peykan</td>\n",
       "      <td>Red</td>\n",
       "      <td>48</td>\n",
       "      <td>990</td>\n",
       "      <td>36.3</td>\n",
       "    </tr>\n",
       "    <tr>\n",
       "      <th>1</th>\n",
       "      <td>BMW X6</td>\n",
       "      <td>White</td>\n",
       "      <td>335</td>\n",
       "      <td>2320</td>\n",
       "      <td>2400.0</td>\n",
       "    </tr>\n",
       "    <tr>\n",
       "      <th>2</th>\n",
       "      <td>Peugeot 206</td>\n",
       "      <td>Black</td>\n",
       "      <td>105</td>\n",
       "      <td>1025</td>\n",
       "      <td>105.0</td>\n",
       "    </tr>\n",
       "    <tr>\n",
       "      <th>3</th>\n",
       "      <td>Tiba</td>\n",
       "      <td>White</td>\n",
       "      <td>87</td>\n",
       "      <td>1027</td>\n",
       "      <td>120.0</td>\n",
       "    </tr>\n",
       "    <tr>\n",
       "      <th>4</th>\n",
       "      <td>Nissan Junior</td>\n",
       "      <td>Blue</td>\n",
       "      <td>93</td>\n",
       "      <td>1540</td>\n",
       "      <td>230.0</td>\n",
       "    </tr>\n",
       "    <tr>\n",
       "      <th>5</th>\n",
       "      <td>Peykan Vanet</td>\n",
       "      <td>Red</td>\n",
       "      <td>80</td>\n",
       "      <td>960</td>\n",
       "      <td>74.8</td>\n",
       "    </tr>\n",
       "    <tr>\n",
       "      <th>6</th>\n",
       "      <td>renault 5</td>\n",
       "      <td>Silver</td>\n",
       "      <td>48</td>\n",
       "      <td>850</td>\n",
       "      <td>38.0</td>\n",
       "    </tr>\n",
       "  </tbody>\n",
       "</table>\n",
       "</div>"
      ],
      "text/plain": [
       "           model   Color   HP  Weight (KG)   price\n",
       "0         Peykan     Red   48          990    36.3\n",
       "1         BMW X6   White  335         2320  2400.0\n",
       "2    Peugeot 206   Black  105         1025   105.0\n",
       "3           Tiba   White   87         1027   120.0\n",
       "4  Nissan Junior    Blue   93         1540   230.0\n",
       "5   Peykan Vanet     Red   80          960    74.8\n",
       "6      renault 5  Silver   48          850    38.0"
      ]
     },
     "execution_count": 143,
     "metadata": {},
     "output_type": "execute_result"
    }
   ],
   "source": [
    "has_R = df['Color'].str.contains('R')\n",
    "df.loc[has_R,'price']=df['price']*1.1\n",
    "df"
   ]
  },
  {
   "cell_type": "markdown",
   "id": "9639e0fb-5ba6-4f5c-90f3-54202faae934",
   "metadata": {},
   "source": [
    "<br>\n",
    "<div dir=rtl id=\"start\" style=\"direction:rtl;line-height:200%;\">\n",
    "\t<font face=\"vazir\" size=6 color='Orange'>\n",
    "تابع map"
   ]
  },
  {
   "cell_type": "markdown",
   "id": "ad21c849-916f-41c3-bee3-90a80b5dfcbe",
   "metadata": {
    "id": "ZRjNvNoBmES8"
   },
   "source": [
    "<p dir=rtl style=\"direction: rtl;text-align: right;line-height:200%;font-family:vazir;font-size:medium\">\n",
    "<font face=\"vazir\" size=4>\n",
    "نقشه اصطلاحی است که از ریاضیات وام گرفته شده است، برای تابعی که مجموعه ای از مقادیر را می گیرد و آنها را به مجموعه مقادیر دیگری \"نقشه\" می کند. در علم داده اغلب به ایجاد نمایش های جدید از داده های موجود یا تبدیل داده ها از قالبی که اکنون در آن است به قالبی که می خواهیم بعداً باشد نیاز داریم. نقشه ها هستند که این کار را انجام می دهند و آنها را برای انجام کار شما بسیار مهم می کند!\n",
    "    <br>\n",
    "دو روش نقشه برداری وجود دارد که اغلب از آنها استفاده خواهید کرد."
   ]
  },
  {
   "cell_type": "markdown",
   "id": "34662151-870f-49ef-9eca-d15a10f2d9c6",
   "metadata": {
    "id": "ZRjNvNoBmES8"
   },
   "source": [
    "<p dir=rtl style=\"direction: rtl;text-align: right;line-height:200%;font-family:vazir;font-size:medium\">\n",
    "<font face=\"vazir\" size=3 color='midnightblue'>\n",
    "map() اولین و کمی ساده‌تر است. برای مثال، فرض کنید که میانگین وزن ماشینها را حساب کردیم و حالا می‌خواهیم وزنها را به 0 بازگردانیم. می‌توانیم این کار را به صورت زیر انجام دهیم:"
   ]
  },
  {
   "cell_type": "code",
   "execution_count": 145,
   "id": "ad0c7c5c-048f-4135-ae48-17dabf73811c",
   "metadata": {},
   "outputs": [
    {
     "data": {
      "text/html": [
       "<div>\n",
       "<style scoped>\n",
       "    .dataframe tbody tr th:only-of-type {\n",
       "        vertical-align: middle;\n",
       "    }\n",
       "\n",
       "    .dataframe tbody tr th {\n",
       "        vertical-align: top;\n",
       "    }\n",
       "\n",
       "    .dataframe thead th {\n",
       "        text-align: right;\n",
       "    }\n",
       "</style>\n",
       "<table border=\"1\" class=\"dataframe\">\n",
       "  <thead>\n",
       "    <tr style=\"text-align: right;\">\n",
       "      <th></th>\n",
       "      <th>model</th>\n",
       "      <th>Color</th>\n",
       "      <th>Weight</th>\n",
       "      <th>year</th>\n",
       "      <th>price</th>\n",
       "    </tr>\n",
       "  </thead>\n",
       "  <tbody>\n",
       "    <tr>\n",
       "      <th>0</th>\n",
       "      <td>Peykan</td>\n",
       "      <td>Red</td>\n",
       "      <td>990</td>\n",
       "      <td>1346</td>\n",
       "      <td>25</td>\n",
       "    </tr>\n",
       "    <tr>\n",
       "      <th>1</th>\n",
       "      <td>Peykan</td>\n",
       "      <td>White</td>\n",
       "      <td>1000</td>\n",
       "      <td>1357</td>\n",
       "      <td>30</td>\n",
       "    </tr>\n",
       "    <tr>\n",
       "      <th>2</th>\n",
       "      <td>Peykan</td>\n",
       "      <td>Olive</td>\n",
       "      <td>990</td>\n",
       "      <td>1388</td>\n",
       "      <td>48</td>\n",
       "    </tr>\n",
       "    <tr>\n",
       "      <th>3</th>\n",
       "      <td>BMW X6</td>\n",
       "      <td>Black</td>\n",
       "      <td>2320</td>\n",
       "      <td>1391</td>\n",
       "      <td>2200</td>\n",
       "    </tr>\n",
       "    <tr>\n",
       "      <th>4</th>\n",
       "      <td>BMW X6</td>\n",
       "      <td>Ametrine</td>\n",
       "      <td>2320</td>\n",
       "      <td>1393</td>\n",
       "      <td>4800</td>\n",
       "    </tr>\n",
       "    <tr>\n",
       "      <th>5</th>\n",
       "      <td>BMW X6</td>\n",
       "      <td>navy</td>\n",
       "      <td>2220</td>\n",
       "      <td>1393</td>\n",
       "      <td>4800</td>\n",
       "    </tr>\n",
       "    <tr>\n",
       "      <th>6</th>\n",
       "      <td>Nissan Junior</td>\n",
       "      <td>Blue</td>\n",
       "      <td>1540</td>\n",
       "      <td>1375</td>\n",
       "      <td>105</td>\n",
       "    </tr>\n",
       "    <tr>\n",
       "      <th>7</th>\n",
       "      <td>Nissan Junior</td>\n",
       "      <td>White</td>\n",
       "      <td>1540</td>\n",
       "      <td>1383</td>\n",
       "      <td>105</td>\n",
       "    </tr>\n",
       "    <tr>\n",
       "      <th>8</th>\n",
       "      <td>Nissan Junior</td>\n",
       "      <td>Blue</td>\n",
       "      <td>1600</td>\n",
       "      <td>1375</td>\n",
       "      <td>130</td>\n",
       "    </tr>\n",
       "    <tr>\n",
       "      <th>9</th>\n",
       "      <td>Nissan Junior</td>\n",
       "      <td>Red</td>\n",
       "      <td>1540</td>\n",
       "      <td>1389</td>\n",
       "      <td>145</td>\n",
       "    </tr>\n",
       "  </tbody>\n",
       "</table>\n",
       "</div>"
      ],
      "text/plain": [
       "           model     Color  Weight  year  price\n",
       "0         Peykan       Red     990  1346     25\n",
       "1         Peykan     White    1000  1357     30\n",
       "2         Peykan     Olive     990  1388     48\n",
       "3         BMW X6     Black    2320  1391   2200\n",
       "4         BMW X6  Ametrine    2320  1393   4800\n",
       "5         BMW X6      navy    2220  1393   4800\n",
       "6  Nissan Junior      Blue    1540  1375    105\n",
       "7  Nissan Junior     White    1540  1383    105\n",
       "8  Nissan Junior      Blue    1600  1375    130\n",
       "9  Nissan Junior       Red    1540  1389    145"
      ]
     },
     "execution_count": 145,
     "metadata": {},
     "output_type": "execute_result"
    }
   ],
   "source": [
    "cars_dictionary = {\n",
    "    \"model\" :[\"Peykan\", \"Peykan\", \"Peykan\", \"BMW X6\", \"BMW X6\", \"BMW X6\", \"Nissan Junior\", \"Nissan Junior\", \"Nissan Junior\", \"Nissan Junior\"],\n",
    "    \"Color\" :[\"Red\", \"White\", \"Olive\",  \"Black\", \"Ametrine\", \"navy\", \"Blue\", \"White\", \"Blue\", \"Red\"],\n",
    "    \"Weight\" :[990, 1000, 990, 2320, 2320, 2220, 1540, 1540, 1600, 1540],\n",
    "    \"year\" :[1346, 1357, 1388, 1391, 1393, 1393, 1375, 1383, 1375, 1389],\n",
    "    \"price\" :[25, 30, 48, 2200, 4800, 4800, 105, 105, 130, 145]\n",
    "}\n",
    "\n",
    "cars_df = pd.DataFrame(cars_dictionary)\n",
    "cars_df"
   ]
  },
  {
   "cell_type": "code",
   "execution_count": 146,
   "id": "1798080b-fc84-47d7-9c49-bba42360d661",
   "metadata": {},
   "outputs": [
    {
     "data": {
      "text/plain": [
       "1606.0"
      ]
     },
     "execution_count": 146,
     "metadata": {},
     "output_type": "execute_result"
    }
   ],
   "source": [
    "cars_weight_mean = cars_df.Weight.mean()\n",
    "cars_weight_mean"
   ]
  },
  {
   "cell_type": "code",
   "execution_count": 147,
   "id": "b2617b3d-54c8-4f3e-b5fb-969188341b4a",
   "metadata": {},
   "outputs": [
    {
     "data": {
      "text/plain": [
       "0   -616.0\n",
       "1   -606.0\n",
       "2   -616.0\n",
       "3    714.0\n",
       "4    714.0\n",
       "5    614.0\n",
       "6    -66.0\n",
       "7    -66.0\n",
       "8     -6.0\n",
       "9    -66.0\n",
       "Name: Weight, dtype: float64"
      ]
     },
     "execution_count": 147,
     "metadata": {},
     "output_type": "execute_result"
    }
   ],
   "source": [
    "cars_df.Weight.map(lambda p: p - cars_weight_mean)"
   ]
  },
  {
   "cell_type": "markdown",
   "id": "54d264d8-f36a-4c8a-98d3-7273154783e7",
   "metadata": {
    "id": "ZRjNvNoBmES8"
   },
   "source": [
    "<p dir=rtl style=\"direction: rtl;text-align: right;line-height:200%;font-family:vazir;font-size:medium\">\n",
    "<font face=\"vazir\" size=3 color='midnightblue'>\n",
    "تابعی که به map() می‌فرستید باید یک مقدار را از سری انتظار داشته باشد (مقدار نقطه‌ای، در مثال بالا)، و یک نسخه تبدیل شده از آن مقدار را برگرداند. map() یک سری جدید را برمی گرداند که در آن تمام مقادیر توسط تابع شما تبدیل شده اند."
   ]
  },
  {
   "cell_type": "markdown",
   "id": "d3af5e2e-5dee-4423-8dc1-f4aac6543029",
   "metadata": {
    "id": "ZRjNvNoBmES8"
   },
   "source": [
    "<p dir=rtl style=\"direction: rtl;text-align: right;line-height:200%;font-family:vazir;font-size:medium\">\n",
    "<font face=\"vazir\" size=4>\n",
    "در صورتی که بخواهیم کل DataFrame را با فراخوانی یک متد سفارشی در هر سطر تبدیل کنیم، apply متد معادل است."
   ]
  },
  {
   "cell_type": "code",
   "execution_count": 148,
   "id": "66b37c5c-1000-4b16-9aac-f850c6746ef2",
   "metadata": {
    "tags": []
   },
   "outputs": [
    {
     "data": {
      "text/html": [
       "<div>\n",
       "<style scoped>\n",
       "    .dataframe tbody tr th:only-of-type {\n",
       "        vertical-align: middle;\n",
       "    }\n",
       "\n",
       "    .dataframe tbody tr th {\n",
       "        vertical-align: top;\n",
       "    }\n",
       "\n",
       "    .dataframe thead th {\n",
       "        text-align: right;\n",
       "    }\n",
       "</style>\n",
       "<table border=\"1\" class=\"dataframe\">\n",
       "  <thead>\n",
       "    <tr style=\"text-align: right;\">\n",
       "      <th></th>\n",
       "      <th>model</th>\n",
       "      <th>Color</th>\n",
       "      <th>Weight</th>\n",
       "      <th>year</th>\n",
       "      <th>price</th>\n",
       "    </tr>\n",
       "  </thead>\n",
       "  <tbody>\n",
       "    <tr>\n",
       "      <th>0</th>\n",
       "      <td>Peykan</td>\n",
       "      <td>Red</td>\n",
       "      <td>-616.0</td>\n",
       "      <td>1346</td>\n",
       "      <td>25</td>\n",
       "    </tr>\n",
       "    <tr>\n",
       "      <th>1</th>\n",
       "      <td>Peykan</td>\n",
       "      <td>White</td>\n",
       "      <td>-606.0</td>\n",
       "      <td>1357</td>\n",
       "      <td>30</td>\n",
       "    </tr>\n",
       "    <tr>\n",
       "      <th>2</th>\n",
       "      <td>Peykan</td>\n",
       "      <td>Olive</td>\n",
       "      <td>-616.0</td>\n",
       "      <td>1388</td>\n",
       "      <td>48</td>\n",
       "    </tr>\n",
       "    <tr>\n",
       "      <th>3</th>\n",
       "      <td>BMW X6</td>\n",
       "      <td>Black</td>\n",
       "      <td>714.0</td>\n",
       "      <td>1391</td>\n",
       "      <td>2200</td>\n",
       "    </tr>\n",
       "    <tr>\n",
       "      <th>4</th>\n",
       "      <td>BMW X6</td>\n",
       "      <td>Ametrine</td>\n",
       "      <td>714.0</td>\n",
       "      <td>1393</td>\n",
       "      <td>4800</td>\n",
       "    </tr>\n",
       "    <tr>\n",
       "      <th>5</th>\n",
       "      <td>BMW X6</td>\n",
       "      <td>navy</td>\n",
       "      <td>614.0</td>\n",
       "      <td>1393</td>\n",
       "      <td>4800</td>\n",
       "    </tr>\n",
       "    <tr>\n",
       "      <th>6</th>\n",
       "      <td>Nissan Junior</td>\n",
       "      <td>Blue</td>\n",
       "      <td>-66.0</td>\n",
       "      <td>1375</td>\n",
       "      <td>105</td>\n",
       "    </tr>\n",
       "    <tr>\n",
       "      <th>7</th>\n",
       "      <td>Nissan Junior</td>\n",
       "      <td>White</td>\n",
       "      <td>-66.0</td>\n",
       "      <td>1383</td>\n",
       "      <td>105</td>\n",
       "    </tr>\n",
       "    <tr>\n",
       "      <th>8</th>\n",
       "      <td>Nissan Junior</td>\n",
       "      <td>Blue</td>\n",
       "      <td>-6.0</td>\n",
       "      <td>1375</td>\n",
       "      <td>130</td>\n",
       "    </tr>\n",
       "    <tr>\n",
       "      <th>9</th>\n",
       "      <td>Nissan Junior</td>\n",
       "      <td>Red</td>\n",
       "      <td>-66.0</td>\n",
       "      <td>1389</td>\n",
       "      <td>145</td>\n",
       "    </tr>\n",
       "  </tbody>\n",
       "</table>\n",
       "</div>"
      ],
      "text/plain": [
       "           model     Color  Weight  year  price\n",
       "0         Peykan       Red  -616.0  1346     25\n",
       "1         Peykan     White  -606.0  1357     30\n",
       "2         Peykan     Olive  -616.0  1388     48\n",
       "3         BMW X6     Black   714.0  1391   2200\n",
       "4         BMW X6  Ametrine   714.0  1393   4800\n",
       "5         BMW X6      navy   614.0  1393   4800\n",
       "6  Nissan Junior      Blue   -66.0  1375    105\n",
       "7  Nissan Junior     White   -66.0  1383    105\n",
       "8  Nissan Junior      Blue    -6.0  1375    130\n",
       "9  Nissan Junior       Red   -66.0  1389    145"
      ]
     },
     "execution_count": 148,
     "metadata": {},
     "output_type": "execute_result"
    }
   ],
   "source": [
    "def remean_weight(row):\n",
    "    row.Weight = row.Weight - cars_weight_mean\n",
    "    return row\n",
    "\n",
    "cars_df.apply(remean_weight, axis='columns')"
   ]
  },
  {
   "cell_type": "markdown",
   "id": "8df554c0-c258-4a3a-877c-84b97a8328ce",
   "metadata": {},
   "source": [
    "<br>\n",
    "<div dir=rtl id=\"start\" style=\"direction:ltr;line-height:200%;\">\n",
    "\t<font face=\"vazir\" size=7 color='Red'>\n",
    "The END\n",
    "    </font>\n",
    "</div>"
   ]
  }
 ],
 "metadata": {
  "kernelspec": {
   "display_name": "Python 3 (ipykernel)",
   "language": "python",
   "name": "python3"
  },
  "language_info": {
   "codemirror_mode": {
    "name": "ipython",
    "version": 3
   },
   "file_extension": ".py",
   "mimetype": "text/x-python",
   "name": "python",
   "nbconvert_exporter": "python",
   "pygments_lexer": "ipython3",
   "version": "3.9.7"
  }
 },
 "nbformat": 4,
 "nbformat_minor": 5
}
