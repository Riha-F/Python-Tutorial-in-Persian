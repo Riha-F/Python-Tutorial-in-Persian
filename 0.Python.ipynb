{
 "cells": [
  {
   "cell_type": "markdown",
   "id": "3d2fe6f7-5e46-45c2-95dd-48cbcc1df699",
   "metadata": {},
   "source": [
    "<h1 align=ltr style=\"line-height:200%;font-family:vazir;color:#0099cc\">\n",
    "<font face=\"vazir\" size=6 color=\"blue\" >\n",
    "Tutorial in Persian\n",
    "    <br>\n",
    "    by Reyhane Faraji\n",
    "    </font>\n",
    "</h1>"
   ]
  },
  {
   "cell_type": "markdown",
   "id": "b0b76d47-78d6-4b9b-8e6f-3a89e02aab6c",
   "metadata": {},
   "source": [
    "<h1 align=center style=\"line-height:200%;font-family:vazir;color:#0099cc\">\n",
    "<font face=\"vazir\" size=10 color=\"maroon\" >\n",
    "PYTHON\n",
    "</font>\n",
    "</h1>"
   ]
  },
  {
   "cell_type": "markdown",
   "id": "a1e2b110-05d6-4782-a239-292d17ee27b9",
   "metadata": {},
   "source": [
    "<br>\n",
    "<div dir=rtl id=\"start\" style=\"direction:rtl;line-height:200%;\">\n",
    "\t<font face=\"vazir\" size=7 color='Red'>\n",
    "متغیرها و شناسه ها\n",
    "    </font>\n",
    "</div>"
   ]
  },
  {
   "cell_type": "markdown",
   "id": "e9df823a-a1e0-436a-952d-ce93fe74d068",
   "metadata": {},
   "source": [
    "<br>\n",
    "<div dir=rtl id=\"start\" style=\"direction:rtl;line-height:200%;\">\n",
    "\t<font face=\"vazir\" size=6 color='darkorange'>\n",
    "    ۱) چگونگی نامگذاری شناسه\n",
    "    </font>\n",
    "</div>"
   ]
  },
  {
   "cell_type": "markdown",
   "id": "608916ec-41b3-4c5d-98f6-0ac54ecbca65",
   "metadata": {
    "id": "ZRjNvNoBmES8"
   },
   "source": [
    "<p dir=rtl style=\"direction: rtl;text-align: right;line-height:200%;font-family:vazir;font-size:medium\">\n",
    "<font face=\"vazir\" size=4>\n",
    "    حروف بزرگ و کوچک در پایتون فرق دارد.\n",
    "    <br>\n",
    "اسم متغیر میتواند از حروف + اعداد و underline ( _ ) باشد. (عدد نمیتواند اول باشد باید با حروف شروع شود) \n",
    "    <br>\n",
    "    کلمات کلیدی پایتون هم نباید باشد. (33 تا هستند)\n",
    "    <br>\n",
    "    True, False, class, finally, is, return, None, continue, for, lambda, try, def, from, nonlocal, while, and, del, global, not, with, in, assert, else, import, pass, break, as, elif, if, or, yield, except, raise\n",
    "    </font>\n",
    "</p>"
   ]
  },
  {
   "cell_type": "markdown",
   "id": "936a20f7-47a7-418a-8c5d-0209f07aa03b",
   "metadata": {},
   "source": [
    "<br>\n",
    "<div dir=rtl id=\"start\" style=\"direction:rtl;line-height:200%;\">\n",
    "\t<font face=\"vazir\" size=6 color='darkorange'>\n",
    "۲) استفاده از شناسه های توصیفی\n",
    "    </font>\n",
    "</div>"
   ]
  },
  {
   "cell_type": "markdown",
   "id": "7caf2ef9-a891-4818-87d1-197960a00cf3",
   "metadata": {
    "id": "ZRjNvNoBmES8"
   },
   "source": [
    "<p dir=rtl style=\"direction: rtl;text-align: right;line-height:200%;font-family:vazir;font-size:medium\">\n",
    "<font face=\"vazir\" size=4>\n",
    "برای آنکه برنامه قابل مراجعه بعدی باشد، برای ثبت توضیحات از علامت # استفاده میکنیم.\n",
    "    </font>\n",
    "</p>"
   ]
  },
  {
   "cell_type": "code",
   "execution_count": 1,
   "id": "18f4f282-31df-458b-bae3-bccd35651cd6",
   "metadata": {},
   "outputs": [],
   "source": [
    "# This line explaine what we want to do"
   ]
  },
  {
   "cell_type": "markdown",
   "id": "c3605020-46f7-44de-8fbf-3eaab5913ba6",
   "metadata": {},
   "source": [
    "<br>\n",
    "<div dir=rtl id=\"start\" style=\"direction:rtl;line-height:200%;\">\n",
    "\t<font face=\"vazir\" size=6 color='darkorange'>\n",
    "۳) انواع متغیرها\n",
    "    </font>\n",
    "</div>"
   ]
  },
  {
   "cell_type": "markdown",
   "id": "8384156a-5101-427c-96d0-33a1e9fc7e3f",
   "metadata": {
    "id": "ZRjNvNoBmES8"
   },
   "source": [
    "<p dir=rtl style=\"direction: ltr;text-align: left;line-height:200%;font-family:vazir;font-size:medium\">\n",
    "<font face=\"vazir\" size=4>\n",
    "1) int (عدد صحیح)    \n",
    "    <br>\n",
    "2) float (اعشاری)\n",
    "    <br>\n",
    "3) string (رشته ای مثل اسم) (بین ' ' یا \" \" )\n",
    "    <br>\n",
    "4) boolean (False & True) (چیزی که جوابش غلط یا درست باشد.)\n",
    "</font>\n",
    "</p>"
   ]
  },
  {
   "cell_type": "markdown",
   "id": "2a844b98-f3d7-4161-8ac3-dea8128ab976",
   "metadata": {
    "id": "ZRjNvNoBmES8"
   },
   "source": [
    "<p dir=rtl style=\"direction: rtl;text-align: right;line-height:200%;font-family:vazir;font-size:medium\">\n",
    "<font face=\"vazir\" size=3 color='midnightblue'>\n",
    "type به ما میگوید متغیر چه جنسی دارد.\n",
    "</font>\n",
    "</p>"
   ]
  },
  {
   "cell_type": "code",
   "execution_count": 2,
   "id": "d1af04c9-41d1-4483-bf67-f1077d544f23",
   "metadata": {},
   "outputs": [
    {
     "data": {
      "text/plain": [
       "int"
      ]
     },
     "execution_count": 2,
     "metadata": {},
     "output_type": "execute_result"
    }
   ],
   "source": [
    "a = 5\n",
    "type(a)"
   ]
  },
  {
   "cell_type": "markdown",
   "id": "0a05d1be-fc70-4c52-845a-a8feb5764c6a",
   "metadata": {
    "id": "ZRjNvNoBmES8"
   },
   "source": [
    "<p dir=rtl style=\"direction: rtl;text-align: right;line-height:200%;font-family:vazir;font-size:medium\">\n",
    "<font face=\"vazir\" size=3 color='midnightblue'>\n",
    "* اگر متغیری را برابر True یا  False بگیریم و بعد عملیات ریاضی روی آن انجام دهیم، True را برابر 1 و False را برابر 0 میگیرد.\n",
    "    </font>\n",
    "</p>"
   ]
  },
  {
   "cell_type": "code",
   "execution_count": 3,
   "id": "642fe148-82cf-468c-a005-e752e880af16",
   "metadata": {},
   "outputs": [
    {
     "data": {
      "text/plain": [
       "(0, 1)"
      ]
     },
     "execution_count": 3,
     "metadata": {},
     "output_type": "execute_result"
    }
   ],
   "source": [
    "b= True\n",
    "c= False\n",
    "b*c , b+c"
   ]
  },
  {
   "cell_type": "markdown",
   "id": "ce0a35e8-972f-4fb4-9cbf-b6a981c595f0",
   "metadata": {},
   "source": [
    "<br>\n",
    "<div dir=rtl id=\"start\" style=\"direction:rtl;line-height:200%;\">\n",
    "\t<font face=\"vazir\" size=6 color='darkorange'>\n",
    "۴) ورودی گرفتن از کاربران\n",
    "    </font>\n",
    "</div>"
   ]
  },
  {
   "cell_type": "markdown",
   "id": "99257839-4f47-4e8a-a231-1972e2e633dd",
   "metadata": {
    "id": "ZRjNvNoBmES8"
   },
   "source": [
    "<p dir=rtl style=\"direction: rtl;text-align: right;line-height:200%;font-family:vazir;font-size:medium\">\n",
    "<font face=\"vazir\" size=4>\n",
    "برای آنکه یک متغیر را از کابرا بگیریم و موقع نوشتن برنامه آن را وارد نکنیم از دستور ()input استفاده میکنیم.\n",
    "    </font>\n",
    "</p>"
   ]
  },
  {
   "cell_type": "code",
   "execution_count": 4,
   "id": "29caa07e-c322-41e9-9400-3b30b1f33331",
   "metadata": {},
   "outputs": [
    {
     "name": "stdin",
     "output_type": "stream",
     "text": [
      "enter your name reha\n"
     ]
    }
   ],
   "source": [
    "my_name = input ('enter your name')"
   ]
  },
  {
   "cell_type": "code",
   "execution_count": 5,
   "id": "66c7e9a0-632d-4946-9c93-492db9a00643",
   "metadata": {},
   "outputs": [
    {
     "data": {
      "text/plain": [
       "'reha'"
      ]
     },
     "execution_count": 5,
     "metadata": {},
     "output_type": "execute_result"
    }
   ],
   "source": [
    "my_name"
   ]
  },
  {
   "cell_type": "markdown",
   "id": "437d24d7-2b81-47f7-872c-b4066050ed4e",
   "metadata": {
    "id": "ZRjNvNoBmES8"
   },
   "source": [
    "<p dir=rtl style=\"direction: rtl;text-align: right;line-height:200%;font-family:vazir;font-size:medium\">\n",
    "<font face=\"vazir\" size=3 color='midnightblue'>\n",
    "نتیجه input همیشه str است. پس برای انجام عملیلت ریاضی باید به int یا float تبدیل بشود.\n",
    "    </font>\n",
    "</p>"
   ]
  },
  {
   "cell_type": "code",
   "execution_count": 6,
   "id": "22f56022-287b-40d9-8faa-abbf3680c7be",
   "metadata": {},
   "outputs": [
    {
     "name": "stdin",
     "output_type": "stream",
     "text": [
      "enter your age 160\n"
     ]
    }
   ],
   "source": [
    "age=input('enter your age')"
   ]
  },
  {
   "cell_type": "code",
   "execution_count": 7,
   "id": "0af911cd-48ad-4e68-a5bf-e9aa429074e8",
   "metadata": {},
   "outputs": [
    {
     "data": {
      "text/plain": [
       "str"
      ]
     },
     "execution_count": 7,
     "metadata": {},
     "output_type": "execute_result"
    }
   ],
   "source": [
    "type(age)"
   ]
  },
  {
   "cell_type": "code",
   "execution_count": 8,
   "id": "e826136f-a430-45f6-b5ee-fe8d2141e17e",
   "metadata": {},
   "outputs": [
    {
     "data": {
      "text/plain": [
       "int"
      ]
     },
     "execution_count": 8,
     "metadata": {},
     "output_type": "execute_result"
    }
   ],
   "source": [
    "age_i = int(age)\n",
    "type(age_i)"
   ]
  },
  {
   "cell_type": "markdown",
   "id": "044c2d12-f423-4584-b524-e08854f7f59f",
   "metadata": {},
   "source": [
    "<br>\n",
    "<div dir=rtl id=\"start\" style=\"direction:rtl;line-height:200%;\">\n",
    "\t<font face=\"vazir\" size=6 color='darkorange'>\n",
    "۵) علامت تساوی\n",
    "    </font>\n",
    "</div>"
   ]
  },
  {
   "cell_type": "markdown",
   "id": "6cd7d18e-9323-40ad-81d6-db20330a3835",
   "metadata": {
    "id": "ZRjNvNoBmES8"
   },
   "source": [
    "<p dir=rtl style=\"direction: rtl;text-align: right;line-height:200%;font-family:vazir;font-size:medium\">\n",
    "<font face=\"vazir\" size=4>\n",
    "identifier و variable را به هم وصل می کند. میتوانیم متغیر قبلی را تغییر دهیم و دوباره در identifier بریزیم.\n",
    "    </font>\n",
    "</p>"
   ]
  },
  {
   "cell_type": "code",
   "execution_count": 9,
   "id": "9124d26a-90f7-4aac-a931-8bb140532bc9",
   "metadata": {},
   "outputs": [
    {
     "data": {
      "text/plain": [
       "3"
      ]
     },
     "execution_count": 9,
     "metadata": {},
     "output_type": "execute_result"
    }
   ],
   "source": [
    "# a is identifier\n",
    "# 2 is variable\n",
    "a=2\n",
    "a=a+1\n",
    "a"
   ]
  },
  {
   "cell_type": "markdown",
   "id": "156d26d3-2f05-4137-aab9-410e3e78fc22",
   "metadata": {},
   "source": [
    "<br>\n",
    "<div dir=rtl id=\"start\" style=\"direction:rtl;line-height:200%;\">\n",
    "\t<font face=\"vazir\" size=6 color='darkorange'>\n",
    "۶) دستور پرینت\n",
    "    </font>\n",
    "</div>"
   ]
  },
  {
   "cell_type": "markdown",
   "id": "fc680175-be8c-41f3-8fd7-9bf39e936a41",
   "metadata": {
    "id": "ZRjNvNoBmES8"
   },
   "source": [
    "<p dir=rtl style=\"direction: rtl;text-align: right;line-height:200%;font-family:vazir;font-size:medium\">\n",
    "<font face=\"vazir\" size=4>\n",
    "اگر چند دستور پرینت داشته باشیم، هر دستور را در یک خط جدا پرینت می‌کند. اگر بخواهیم پشت هم پرینت کنیم از دستور end=\"\" به صورت زیر استفاده می‌کنیم.\n",
    "    </font>\n",
    "</p>"
   ]
  },
  {
   "cell_type": "code",
   "execution_count": 5,
   "id": "7c3fa335-2dad-4313-aa3d-c5b0615e5ea3",
   "metadata": {},
   "outputs": [
    {
     "name": "stdout",
     "output_type": "stream",
     "text": [
      "seven thounsand\n"
     ]
    }
   ],
   "source": [
    "print(\"seven\", end=\"\")\n",
    "print(\" thounsand\")"
   ]
  },
  {
   "cell_type": "markdown",
   "id": "bdc132ff-a41b-46c4-bf09-f5026bc5a614",
   "metadata": {},
   "source": [
    "<br>\n",
    "<div dir=rtl id=\"start\" style=\"direction:rtl;line-height:200%;\">\n",
    "\t<font face=\"vazir\" size=7 color='Red'>\n",
    "Lists (لیست‌ها)\n",
    "    </font>\n",
    "</div>"
   ]
  },
  {
   "cell_type": "markdown",
   "id": "b9c714ec-06eb-4796-9caa-4794227df014",
   "metadata": {
    "id": "ZRjNvNoBmES8"
   },
   "source": [
    "<p dir=rtl style=\"direction: rtl;text-align: right;line-height:200%;font-family:vazir;font-size:medium\">\n",
    "<font face=\"vazir\" size=4>\n",
    "در پایتون لیست را با [] نشان می‌دهیم.\n",
    "    <br>\n",
    "    انواع متغیرها را میتوان داخل لیست داشت.\n",
    "    </font>\n",
    "</p>"
   ]
  },
  {
   "cell_type": "code",
   "execution_count": 10,
   "id": "a857deda-de98-41a6-adec-2c1540643d9c",
   "metadata": {},
   "outputs": [
    {
     "data": {
      "text/plain": [
       "[5, 4, 'name']"
      ]
     },
     "execution_count": 10,
     "metadata": {},
     "output_type": "execute_result"
    }
   ],
   "source": [
    "my_list = [5,4,'name']\n",
    "my_list"
   ]
  },
  {
   "cell_type": "markdown",
   "id": "e905b5f8-2e13-42ce-bfa6-cb051cf2945b",
   "metadata": {
    "id": "ZRjNvNoBmES8"
   },
   "source": [
    "<p dir=rtl style=\"direction: rtl;text-align: right;line-height:200%;font-family:vazir;font-size:medium\">\n",
    "<font face=\"vazir\" size=4>\n",
    "عناصر داخل لیست را از صفر شروع میکند به شمردن. ترتیب مهم هست. میتوانیم یک عنصر را تغییر دهیم.\n",
    "    <br>\n",
    "    [1-] به آخرین عنصر اشاره میکند. [2-] به یکی مانده به آخر اشاره می‌کند.\n",
    "    </font>\n",
    "</p>"
   ]
  },
  {
   "cell_type": "code",
   "execution_count": 11,
   "id": "b4b45f15-6a15-4945-9004-9247c8f254c5",
   "metadata": {},
   "outputs": [
    {
     "data": {
      "text/plain": [
       "[1, 4, 'name']"
      ]
     },
     "execution_count": 11,
     "metadata": {},
     "output_type": "execute_result"
    }
   ],
   "source": [
    "my_list[0]=1\n",
    "my_list"
   ]
  },
  {
   "cell_type": "code",
   "execution_count": 12,
   "id": "df65f780-2c1f-4c0b-9717-9ff5740be76e",
   "metadata": {},
   "outputs": [
    {
     "data": {
      "text/plain": [
       "'name'"
      ]
     },
     "execution_count": 12,
     "metadata": {},
     "output_type": "execute_result"
    }
   ],
   "source": [
    "my_list[-1]"
   ]
  },
  {
   "cell_type": "code",
   "execution_count": 13,
   "id": "9c2cf34d-fcc8-46e4-bd6f-5f79f16c9c12",
   "metadata": {},
   "outputs": [
    {
     "ename": "IndexError",
     "evalue": "list index out of range",
     "output_type": "error",
     "traceback": [
      "\u001b[1;31m---------------------------------------------------------------------------\u001b[0m",
      "\u001b[1;31mIndexError\u001b[0m                                Traceback (most recent call last)",
      "\u001b[1;32m~\\AppData\\Local\\Temp/ipykernel_6020/1388274891.py\u001b[0m in \u001b[0;36m<module>\u001b[1;34m\u001b[0m\n\u001b[1;32m----> 1\u001b[1;33m \u001b[0mmy_list\u001b[0m\u001b[1;33m[\u001b[0m\u001b[1;36m3\u001b[0m\u001b[1;33m]\u001b[0m\u001b[1;33m\u001b[0m\u001b[1;33m\u001b[0m\u001b[0m\n\u001b[0m",
      "\u001b[1;31mIndexError\u001b[0m: list index out of range"
     ]
    }
   ],
   "source": [
    "my_list[3]"
   ]
  },
  {
   "cell_type": "markdown",
   "id": "02f15465-b8d0-4b5a-9bbd-2692f0b70e1c",
   "metadata": {},
   "source": [
    "<br>\n",
    "<div dir=rtl id=\"start\" style=\"direction:rtl;line-height:200%;\">\n",
    "\t<font face=\"vazir\" size=6 color='darkorange'>\n",
    "لیست‌های چند بعدی\n",
    "    </font>\n",
    "</div>"
   ]
  },
  {
   "cell_type": "markdown",
   "id": "e94b7304-286a-4855-99b4-666d52ced3ce",
   "metadata": {
    "id": "ZRjNvNoBmES8"
   },
   "source": [
    "<p dir=rtl style=\"direction: rtl;text-align: right;line-height:200%;font-family:vazir;font-size:medium\">\n",
    "<font face=\"vazir\" size=4>\n",
    "گاهی شکلی داریم که لیست‌های چند بعدی داریم. مثلا لیست نمرات چند نفر\n",
    "    </font>\n",
    "</p>"
   ]
  },
  {
   "cell_type": "code",
   "execution_count": 6,
   "id": "1e78e121-c92a-4841-898b-df6ec6b5783d",
   "metadata": {},
   "outputs": [
    {
     "data": {
      "text/plain": [
       "[['Ali', 18, 19, 20], ['John', 10, 12, 11]]"
      ]
     },
     "execution_count": 6,
     "metadata": {},
     "output_type": "execute_result"
    }
   ],
   "source": [
    "scores = [['Ali',18,19,20],['John',10,12,11]]\n",
    "scores"
   ]
  },
  {
   "cell_type": "markdown",
   "id": "c603acc7-f530-4049-9fb7-d404f2dbef76",
   "metadata": {
    "id": "ZRjNvNoBmES8"
   },
   "source": [
    "<p dir=rtl style=\"direction: rtl;text-align: right;line-height:200%;font-family:vazir;font-size:medium\">\n",
    "<font face=\"vazir\" size=3 color='midnightblue'>\n",
    "انگار یک لیست ۲ بعدی درست کردیم. میتوانیم لیست چند بعدی درست کنیم. مثلا هر کام از نمرات خودشان یک لیست ۳ تایی از ۳ ثلث باشد.\n",
    "    </font>\n",
    "</p>"
   ]
  },
  {
   "cell_type": "code",
   "execution_count": 13,
   "id": "7ea98d3f-e222-4868-a8fa-8bd4ce5885e1",
   "metadata": {},
   "outputs": [
    {
     "data": {
      "text/plain": [
       "[['Ali', [18, 17, 19], [19, 20, 19], [18, 20, 17]],\n",
       " ['John', [10, 12, 13], [12, 11, 10], [11, 12, 12]]]"
      ]
     },
     "execution_count": 13,
     "metadata": {},
     "output_type": "execute_result"
    }
   ],
   "source": [
    "scores = [['Ali',[18,17,19],[19,20,19],[18,20,17]],['John',[10,12,13],[12,11,10],[11,12,12]]]\n",
    "scores"
   ]
  },
  {
   "cell_type": "markdown",
   "id": "1496aeb6-592c-43bd-8c14-5a82402bc5cc",
   "metadata": {
    "id": "ZRjNvNoBmES8"
   },
   "source": [
    "<p dir=rtl style=\"direction: rtl;text-align: right;line-height:200%;font-family:vazir;font-size:medium\">\n",
    "<font face=\"vazir\" size=4>\n",
    "برای فراخوانی آرگومان‌های داخل هر جز لیست می‌توانیم برای هر آیتم داخل لیست item[n] را فراخوانی کنیم.\n",
    "    </font>\n",
    "</p>"
   ]
  },
  {
   "cell_type": "code",
   "execution_count": 15,
   "id": "4cb40cb3-3e30-4788-9bed-b8497d035674",
   "metadata": {},
   "outputs": [
    {
     "name": "stdout",
     "output_type": "stream",
     "text": [
      "[18, 17, 19]\n",
      "[19, 20, 19]\n",
      "[18, 20, 17]\n",
      "[10, 12, 13]\n",
      "[12, 11, 10]\n",
      "[11, 12, 12]\n"
     ]
    }
   ],
   "source": [
    "for item in scores:\n",
    "    for i in range(1,len(item)):\n",
    "        print(item[i])"
   ]
  },
  {
   "cell_type": "markdown",
   "id": "66ce7c3c-ec9e-4c51-8036-7d5051f0ce33",
   "metadata": {
    "id": "ZRjNvNoBmES8"
   },
   "source": [
    "<p dir=rtl style=\"direction: rtl;text-align: right;line-height:200%;font-family:vazir;font-size:medium\">\n",
    "<font face=\"vazir\" size=4>\n",
    "می‌توان ۲ تا براکت جلوی لیست گذاشت و بعد اول و دوم را تعریف کرد.\n",
    "    <br>\n",
    "    براکت اول به شماره ردیف و براکت دوم به شماره ستون اشاره دارد.\n",
    "    </font>\n",
    "</p>"
   ]
  },
  {
   "cell_type": "code",
   "execution_count": 16,
   "id": "1e587727-34bd-4f0b-928d-85c9fe72dacb",
   "metadata": {},
   "outputs": [
    {
     "data": {
      "text/plain": [
       "[10, 12, 13]"
      ]
     },
     "execution_count": 16,
     "metadata": {},
     "output_type": "execute_result"
    }
   ],
   "source": [
    "scores[1][1]"
   ]
  },
  {
   "cell_type": "code",
   "execution_count": 17,
   "id": "d2524948-238d-4031-8146-25dbfa5b202c",
   "metadata": {},
   "outputs": [
    {
     "data": {
      "text/plain": [
       "12"
      ]
     },
     "execution_count": 17,
     "metadata": {},
     "output_type": "execute_result"
    }
   ],
   "source": [
    "scores[1][1][1]"
   ]
  },
  {
   "cell_type": "markdown",
   "id": "ba22edb0-48f2-46e4-9547-991111b4c202",
   "metadata": {},
   "source": [
    "<br>\n",
    "<div dir=rtl id=\"start\" style=\"direction:rtl;line-height:200%;\">\n",
    "\t<font face=\"vazir\" size=7 color='Red'>\n",
    "Operators (عملگرها)\n",
    "    </font>\n",
    "</div>"
   ]
  },
  {
   "cell_type": "markdown",
   "id": "2bcc9ea6-a1cd-4cc6-bbca-332f5e9a9d62",
   "metadata": {},
   "source": [
    "<br>\n",
    "<div dir=rtl id=\"start\" style=\"direction:rtl;line-height:200%;\">\n",
    "\t<font face=\"vazir\" size=6 color='darkorange'>\n",
    "    ۱) Arithmetic Operators (عملگرهای ریاضی)\n",
    "    </font>\n",
    "</div>"
   ]
  },
  {
   "cell_type": "markdown",
   "id": "7094334c-cf8c-49a9-b36f-ca7dccc3c7cd",
   "metadata": {
    "id": "ZRjNvNoBmES8"
   },
   "source": [
    "<p dir=rtl style=\"direction: rtl;text-align: right;line-height:200%;font-family:vazir;font-size:medium\">\n",
    "<font face=\"vazir\" size=4>\n",
    "دو نوغ عملگر داریم:\n",
    "    <br>\n",
    "    باینری (روی دو تا عملوند عمل می‌کند مثل ضرب و تقسیم) و یونری (روی یک عملوند عمل میکند مثل علامت منفی)\n",
    "    <br>\n",
    "    اپراتورهای ریاضی:\n",
    "    </font>\n",
    "</p>"
   ]
  },
  {
   "cell_type": "markdown",
   "id": "b4337850-ad16-4a04-b752-7e6977c7f4b9",
   "metadata": {
    "id": "ZRjNvNoBmES8"
   },
   "source": [
    "<p dir=rtl style=\"direction: ltr;text-align: left;line-height:200%;font-family:vazir;font-size:medium\">\n",
    "<font face=\"vazir\" size=4>\n",
    "+ , - , * , / , ** (توان), % (modulus)(باقیمانده دو تقسیم را میدهد), // (floor division)(تقسیم صحیح)\n",
    "    </font>\n",
    "</p>"
   ]
  },
  {
   "cell_type": "code",
   "execution_count": 14,
   "id": "22f97b03-1561-4502-a72a-c234c56080b3",
   "metadata": {},
   "outputs": [
    {
     "data": {
      "text/plain": [
       "1"
      ]
     },
     "execution_count": 14,
     "metadata": {},
     "output_type": "execute_result"
    }
   ],
   "source": [
    "10%3"
   ]
  },
  {
   "cell_type": "code",
   "execution_count": 15,
   "id": "fc1e16ee-8f6a-45b8-9d79-a396f8b3f7c1",
   "metadata": {},
   "outputs": [
    {
     "data": {
      "text/plain": [
       "3"
      ]
     },
     "execution_count": 15,
     "metadata": {},
     "output_type": "execute_result"
    }
   ],
   "source": [
    "10//3"
   ]
  },
  {
   "cell_type": "markdown",
   "id": "413b9e01-17ea-4fef-880c-e6bb0001d89f",
   "metadata": {},
   "source": [
    "<br>\n",
    "<div dir=rtl id=\"start\" style=\"direction:rtl;line-height:200%;\">\n",
    "\t<font face=\"vazir\" size=6 color='darkorange'>\n",
    "    ۲) Comparison Operators (عملگرهای رابطه‌ای یا مقایسه‌ای)\n",
    "    </font>\n",
    "</div>"
   ]
  },
  {
   "cell_type": "markdown",
   "id": "7e011a90-1e05-4f0c-a993-36b9b855d8a0",
   "metadata": {
    "id": "ZRjNvNoBmES8"
   },
   "source": [
    "<p dir=rtl style=\"direction: rtl;text-align: right;line-height:200%;font-family:vazir;font-size:medium\">\n",
    "<font face=\"vazir\" size=4>\n",
    "دو تا چیز را می‌سنجد و در جواب True یا False برمی‌گرداند.\n",
    "    <br>\n",
    "    عملگرهای رابطه‌ای:\n",
    "    </font>\n",
    "</p>"
   ]
  },
  {
   "cell_type": "markdown",
   "id": "980ecd54-924d-43a0-83ba-f6240e6616c7",
   "metadata": {
    "id": "ZRjNvNoBmES8"
   },
   "source": [
    "<p dir=rtl style=\"direction: ltr;text-align: left;line-height:200%;font-family:vazir;font-size:medium\">\n",
    "<font face=\"vazir\" size=4>\n",
    "> , < , >= , <= , == (سنجش مساوی، می‌پرسیم که مساوی هست یا خیر) , != (نامساوی), <> (نامساوی)\n",
    "    </font>\n",
    "</p>"
   ]
  },
  {
   "cell_type": "code",
   "execution_count": 16,
   "id": "879baa36-7412-4ae2-b281-f309abfd0016",
   "metadata": {},
   "outputs": [
    {
     "data": {
      "text/plain": [
       "True"
      ]
     },
     "execution_count": 16,
     "metadata": {},
     "output_type": "execute_result"
    }
   ],
   "source": [
    "5>2"
   ]
  },
  {
   "cell_type": "code",
   "execution_count": 17,
   "id": "c2113ae5-1c92-47aa-a318-01829ade594e",
   "metadata": {},
   "outputs": [
    {
     "data": {
      "text/plain": [
       "False"
      ]
     },
     "execution_count": 17,
     "metadata": {},
     "output_type": "execute_result"
    }
   ],
   "source": [
    "5<2"
   ]
  },
  {
   "cell_type": "markdown",
   "id": "6018e759-c4ef-4803-adf6-6f4751ee77f1",
   "metadata": {},
   "source": [
    "<br>\n",
    "<div dir=rtl id=\"start\" style=\"direction:rtl;line-height:200%;\">\n",
    "\t<font face=\"vazir\" size=6 color='darkorange'>\n",
    "    ۳) Logical Operators (عملگرهای منطقی)\n",
    "    </font>\n",
    "</div>"
   ]
  },
  {
   "cell_type": "markdown",
   "id": "eec54c96-aa5a-4105-957b-40ec658e9a29",
   "metadata": {
    "id": "ZRjNvNoBmES8"
   },
   "source": [
    "<p dir=rtl style=\"direction: rtl;text-align: right;line-height:200%;font-family:vazir;font-size:medium\">\n",
    "<font face=\"vazir\" size=4>\n",
    "صحیح و ناصحیح بودن دو یا چند گزاره را می‌سنجد.\n",
    "    <br>\n",
    "    عملگرهای منطقی:\n",
    "    </font>\n",
    "</p>"
   ]
  },
  {
   "cell_type": "markdown",
   "id": "7199e9e5-21fd-4e74-b02e-6794a7755832",
   "metadata": {
    "id": "ZRjNvNoBmES8"
   },
   "source": [
    "<p dir=rtl style=\"direction: ltr;text-align: left;line-height:200%;font-family:vazir;font-size:medium\">\n",
    "<font face=\"vazir\" size=4>\n",
    "and:   (x and y) --> is True if both x and y are true.\n",
    "    <br>\n",
    "or:    (x or y) --> is True if either x or y is true.\n",
    "    <br>\n",
    "not:   (x not y) --> If a condition is true then Logical not operator will make false.\n",
    "    </font>\n",
    "</p>"
   ]
  },
  {
   "cell_type": "code",
   "execution_count": 18,
   "id": "b44b55ed-7551-4c03-922f-a95bdebe1bc5",
   "metadata": {},
   "outputs": [],
   "source": [
    "x = 12\n",
    "y = 15"
   ]
  },
  {
   "cell_type": "code",
   "execution_count": 19,
   "id": "43098cbc-27cc-4f4f-95f2-aeb1d6b6c285",
   "metadata": {},
   "outputs": [
    {
     "data": {
      "text/plain": [
       "True"
      ]
     },
     "execution_count": 19,
     "metadata": {},
     "output_type": "execute_result"
    }
   ],
   "source": [
    "x > 10 and y > 10"
   ]
  },
  {
   "cell_type": "code",
   "execution_count": 20,
   "id": "492d0ed3-3b43-480c-a3bd-6edc234baad0",
   "metadata": {},
   "outputs": [
    {
     "data": {
      "text/plain": [
       "True"
      ]
     },
     "execution_count": 20,
     "metadata": {},
     "output_type": "execute_result"
    }
   ],
   "source": [
    "x > 14 or y > 14"
   ]
  },
  {
   "cell_type": "code",
   "execution_count": 21,
   "id": "743133e3-437c-4804-b591-f636d982a94e",
   "metadata": {},
   "outputs": [
    {
     "data": {
      "text/plain": [
       "False"
      ]
     },
     "execution_count": 21,
     "metadata": {},
     "output_type": "execute_result"
    }
   ],
   "source": [
    "not (x > 10 and y > 10)"
   ]
  },
  {
   "cell_type": "markdown",
   "id": "f2559f9b-2ae8-4a23-9ebe-2fb55cfbb0b5",
   "metadata": {},
   "source": [
    "<br>\n",
    "<div dir=rtl id=\"start\" style=\"direction:rtl;line-height:200%;\">\n",
    "\t<font face=\"vazir\" size=6 color='darkorange'>\n",
    "    ۴) Identity Operators (عملگرهای شناسایی)\n",
    "    </font>\n",
    "</div>"
   ]
  },
  {
   "cell_type": "markdown",
   "id": "9c433db5-0783-4cc9-9933-8ec1b7440f47",
   "metadata": {
    "id": "ZRjNvNoBmES8"
   },
   "source": [
    "<p dir=rtl style=\"direction: rtl;text-align: right;line-height:200%;font-family:vazir;font-size:medium\">\n",
    "<font face=\"vazir\" size=4>\n",
    "عملگرهای هویت برای مقایسه اشیاء استفاده می‌شوند، نه اگر برابر باشند، بلکه اگر در واقع یک شی با مکان حافظه یکسان باشند.\n",
    "    <br>\n",
    "    عملگرهای شناسایی:\n",
    "    </font>\n",
    "</p>"
   ]
  },
  {
   "cell_type": "markdown",
   "id": "84eaefe3-d558-4ce0-b19e-7ab7d1e83537",
   "metadata": {
    "id": "ZRjNvNoBmES8"
   },
   "source": [
    "<p dir=rtl style=\"direction: ltr;text-align: left;line-height:200%;font-family:vazir;font-size:medium\">\n",
    "<font face=\"vazir\" size=4>\n",
    "is: یک چیزی همان چیز هست\n",
    "    <br>\n",
    "is not: یک چیزی همان چیز نیست\n",
    "    </font>\n",
    "</p>"
   ]
  },
  {
   "cell_type": "code",
   "execution_count": 22,
   "id": "57b9e5c2-b5a3-46b9-bc27-faba30303761",
   "metadata": {},
   "outputs": [
    {
     "data": {
      "text/plain": [
       "False"
      ]
     },
     "execution_count": 22,
     "metadata": {},
     "output_type": "execute_result"
    }
   ],
   "source": [
    "a = 4.0\n",
    "b= 4\n",
    "a is b"
   ]
  },
  {
   "cell_type": "markdown",
   "id": "72b03d11-3f26-46af-9c3c-97f7d560eb36",
   "metadata": {
    "id": "ZRjNvNoBmES8"
   },
   "source": [
    "<p dir=rtl style=\"direction: rtl;text-align: right;line-height:200%;font-family:vazir;font-size:medium\">\n",
    "<font face=\"vazir\" size=3 color='midnightblue'>\n",
    "مقدار a و b برابر هست ولی یکی نیستند.\n",
    "    </font>\n",
    "</p>"
   ]
  },
  {
   "cell_type": "code",
   "execution_count": 23,
   "id": "cb36261f-43ec-4a31-a52c-c22c237975ce",
   "metadata": {},
   "outputs": [
    {
     "data": {
      "text/plain": [
       "True"
      ]
     },
     "execution_count": 23,
     "metadata": {},
     "output_type": "execute_result"
    }
   ],
   "source": [
    "a == b"
   ]
  },
  {
   "cell_type": "markdown",
   "id": "22c60b32-33d0-4c21-ae72-638021bceefb",
   "metadata": {},
   "source": [
    "<br>\n",
    "<div dir=rtl id=\"start\" style=\"direction:rtl;line-height:200%;\">\n",
    "\t<font face=\"vazir\" size=6 color='darkorange'>\n",
    "    ۵) Membership Operators (عملگرهای عضویت)\n",
    "    </font>\n",
    "</div>"
   ]
  },
  {
   "cell_type": "markdown",
   "id": "9e8baf98-5301-47c4-adbe-10749f5fae8c",
   "metadata": {
    "id": "ZRjNvNoBmES8"
   },
   "source": [
    "<p dir=rtl style=\"direction: rtl;text-align: right;line-height:200%;font-family:vazir;font-size:medium\">\n",
    "<font face=\"vazir\" size=4>\n",
    " بررسی می‌کند که آیا یک عنصر در یک object وجود دارد یا خیر\n",
    "    <br>\n",
    "    عملگرهای عضویت:\n",
    "    </font>\n",
    "</p>"
   ]
  },
  {
   "cell_type": "markdown",
   "id": "87ba5817-e93c-41e0-981f-fd0f45a7b1e8",
   "metadata": {
    "id": "ZRjNvNoBmES8"
   },
   "source": [
    "<p dir=rtl style=\"direction: ltr;text-align: left;line-height:200%;font-family:vazir;font-size:medium\">\n",
    "<font face=\"vazir\" size=4>\n",
    "in , not in\n",
    "    </font>\n",
    "</p>"
   ]
  },
  {
   "cell_type": "code",
   "execution_count": 24,
   "id": "a1ae033f-f43f-4b51-8e02-81f18f6c9bc3",
   "metadata": {},
   "outputs": [
    {
     "data": {
      "text/plain": [
       "False"
      ]
     },
     "execution_count": 24,
     "metadata": {},
     "output_type": "execute_result"
    }
   ],
   "source": [
    "book_name = '1984'\n",
    "book_list = ['sofi' , 'capital' , 'python' , 'c++']\n",
    "book_name in book_list"
   ]
  },
  {
   "cell_type": "markdown",
   "id": "39ee0519-b77e-451b-a2b3-a35a5356537d",
   "metadata": {
    "id": "ZRjNvNoBmES8"
   },
   "source": [
    "<p dir=rtl style=\"direction: rtl;text-align: right;line-height:200%;font-family:vazir;font-size:medium\">\n",
    "<font face=\"vazir\" size=3 color='midnightblue'>\n",
    " در string ها هم میتواند سرچ کند.\n",
    "    </font>\n",
    "</p>"
   ]
  },
  {
   "cell_type": "code",
   "execution_count": 25,
   "id": "dc5e7699-fb19-4e68-abcb-2ba65b4cc3a6",
   "metadata": {},
   "outputs": [
    {
     "data": {
      "text/plain": [
       "True"
      ]
     },
     "execution_count": 25,
     "metadata": {},
     "output_type": "execute_result"
    }
   ],
   "source": [
    "my_string = 'python is a nice programing language'\n",
    "'p' in my_string"
   ]
  },
  {
   "cell_type": "markdown",
   "id": "37674f3c-f967-40f2-8b62-aba150ad0e2a",
   "metadata": {},
   "source": [
    "<br>\n",
    "<div dir=rtl id=\"start\" style=\"direction:rtl;line-height:200%;\">\n",
    "\t<font face=\"vazir\" size=7 color='Red'>\n",
    "Conditional Statements (عبارات شرطی)\n",
    "    </font>\n",
    "</div>"
   ]
  },
  {
   "cell_type": "markdown",
   "id": "d6d9bcef-973f-43c1-b1de-4c0eb781e62c",
   "metadata": {},
   "source": [
    "<br>\n",
    "<div dir=rtl id=\"start\" style=\"direction:rtl;line-height:200%;\">\n",
    "\t<font face=\"vazir\" size=6 color='darkorange'>\n",
    "if else\n",
    "    </font>\n",
    "</div>"
   ]
  },
  {
   "cell_type": "markdown",
   "id": "42f15611-30dd-4f0a-9a48-c3d5ea711d81",
   "metadata": {
    "id": "ZRjNvNoBmES8"
   },
   "source": [
    "<p dir=rtl style=\"direction: rtl;text-align: right;line-height:200%;font-family:vazir;font-size:medium\">\n",
    "<font face=\"vazir\" size=4>\n",
    "برای آنکه گزاره‌ای با شرط خاصی انجام شود از if استفاد میکنیم. با تایپ if در پایتون خط بعدی جلوتر تایپ می‌شود. اگر در غیر این صورت هم داشتیم از else استفاده میکنیم. اگر سر خط برویم از حلقه if خارج می‌شویم.\n",
    "    </font>\n",
    "</p>"
   ]
  },
  {
   "cell_type": "code",
   "execution_count": 27,
   "id": "17992c01-6408-415a-80aa-846cb7cd5f81",
   "metadata": {},
   "outputs": [
    {
     "name": "stdin",
     "output_type": "stream",
     "text": [
      "Enter a number 40\n"
     ]
    },
    {
     "name": "stdout",
     "output_type": "stream",
     "text": [
      "It is even\n"
     ]
    }
   ],
   "source": [
    "a = input ('Enter a number')\n",
    "a = int(a)\n",
    "if a%2 == 0:\n",
    "    print ('It is even')\n",
    "else:\n",
    "    print ('It is odd')"
   ]
  },
  {
   "cell_type": "markdown",
   "id": "e094e919-fd7e-462b-bde2-aba02404b5fa",
   "metadata": {},
   "source": [
    "<br>\n",
    "<div dir=rtl id=\"start\" style=\"direction:rtl;line-height:200%;\">\n",
    "\t<font face=\"vazir\" size=6 color='darkorange'>\n",
    "if elif else\n",
    "    </font>\n",
    "</div>"
   ]
  },
  {
   "cell_type": "markdown",
   "id": "05b98109-08ff-4817-899e-c0971678cad5",
   "metadata": {
    "id": "ZRjNvNoBmES8"
   },
   "source": [
    "<p dir=rtl style=\"direction: rtl;text-align: right;line-height:200%;font-family:vazir;font-size:medium\">\n",
    "<font face=\"vazir\" size=4>\n",
    "اگر چند تا شرط داشتیم می‌توانیم از چند حلقه if استفاده کنیم یا از عبارت elif استفاده کنیم که برنامه سریعتر و کوتاه‌تر باشد.    </font>\n",
    "</p>"
   ]
  },
  {
   "cell_type": "code",
   "execution_count": 28,
   "id": "df3f9e56-30a6-4208-830a-d6ad871d679b",
   "metadata": {},
   "outputs": [
    {
     "name": "stdin",
     "output_type": "stream",
     "text": [
      "please enter your age: 160\n"
     ]
    },
    {
     "name": "stdout",
     "output_type": "stream",
     "text": [
      "VAMPIRE\n"
     ]
    }
   ],
   "source": [
    "x= input(\"please enter your age:\")\n",
    "x=int(x)\n",
    "\n",
    "if x <= 0 :\n",
    "    print(\"UNBORN\")\n",
    "\n",
    "elif x > 0 and x <= 150:\n",
    "    print(\"ALIVE\")\n",
    "    \n",
    "elif x > 150:\n",
    "    print(\"VAMPIRE\")"
   ]
  },
  {
   "cell_type": "markdown",
   "id": "cead011d-6de3-489c-9a16-18c2478664df",
   "metadata": {
    "id": "ZRjNvNoBmES8"
   },
   "source": [
    "<p dir=rtl style=\"direction: rtl;text-align: right;line-height:200%;font-family:vazir;font-size:medium\">\n",
    "<font face=\"vazir\" size=4>\n",
    "* در پایتون عدد صفر، رشته خالی، لیست خالی، دیکشنری خالی ارزش بولین معادل False دارند و بقیه اعداد، رشته پر، لیست پر، دیکشنری پر، ارزش بولین True دارند. پس هر جا که عبارت جلوی if معادل True باشد آن شرط اجرا می‌شود و اگر False باشد، شرط اجرا نمی‌شود.\n",
    "    </font>\n",
    "</p>"
   ]
  },
  {
   "cell_type": "markdown",
   "id": "a5f71c32-f4f8-405d-9fb4-0befbc7d9159",
   "metadata": {},
   "source": [
    "<br>\n",
    "<div dir=rtl id=\"start\" style=\"direction:rtl;line-height:200%;\">\n",
    "\t<font face=\"vazir\" size=7 color='Red'>\n",
    "Loops (حلقه‌ها)\n",
    "    </font>\n",
    "</div>"
   ]
  },
  {
   "cell_type": "markdown",
   "id": "c9b053a5-6f7d-4d00-8981-1b2106b6bcad",
   "metadata": {},
   "source": [
    "<br>\n",
    "<div dir=rtl id=\"start\" style=\"direction:rtl;line-height:200%;\">\n",
    "\t<font face=\"vazir\" size=6 color='darkorange'>\n",
    "While Loop \n",
    "    </font>\n",
    "</div>"
   ]
  },
  {
   "cell_type": "markdown",
   "id": "02c05b43-8b28-4d45-b7f8-8d677065f665",
   "metadata": {
    "id": "ZRjNvNoBmES8"
   },
   "source": [
    "<p dir=rtl style=\"direction: rtl;text-align: right;line-height:200%;font-family:vazir;font-size:medium\">\n",
    "<font face=\"vazir\" size=4>\n",
    "حلقه برای تکرار است. حلقه while یعنی تا وقتی که شرط برقرار است، گزاره را تکرار کند.\n",
    "    </font>\n",
    "</p>"
   ]
  },
  {
   "cell_type": "markdown",
   "id": "688f2462-4db7-4f8b-9566-35933021d8c3",
   "metadata": {
    "id": "ZRjNvNoBmES8"
   },
   "source": [
    "<p dir=ltr style=\"direction: ltr;text-align: right;line-height:200%;font-family:vazir;font-size:medium\">\n",
    "<font face=\"vazir\" size=4>\n",
    "    </font>\n",
    "    </div>\n",
    "\n",
    "```python\n",
    "while expression:\n",
    "    statement\n",
    "```\n",
    "</p>"
   ]
  },
  {
   "cell_type": "code",
   "execution_count": 29,
   "id": "575918af-cb73-4505-a1a3-eede3b8c23c7",
   "metadata": {},
   "outputs": [
    {
     "name": "stdout",
     "output_type": "stream",
     "text": [
      "1\n",
      "2\n",
      "3\n",
      "4\n",
      "5\n"
     ]
    }
   ],
   "source": [
    "i = 1\n",
    "while i < 6:\n",
    "    print(i)\n",
    "    i += 1"
   ]
  },
  {
   "cell_type": "markdown",
   "id": "8ecd1c6f-7c20-406c-807a-c36bfdbd8ed8",
   "metadata": {
    "id": "ZRjNvNoBmES8"
   },
   "source": [
    "<p dir=rtl style=\"direction: rtl;text-align: right;line-height:200%;font-family:vazir;font-size:medium\">\n",
    "<font face=\"vazir\" size=3 color='midnightblue'>\n",
    "گاهی ممکن است حلقه بینهایت بار تکرار شود و به جواب نرسد. برای پیدا کردن مشکل می‌توانیم یک شمارنده بگذاریم.\n",
    "    </font>\n",
    "</p>"
   ]
  },
  {
   "cell_type": "code",
   "execution_count": 30,
   "id": "1528d08e-a88e-4405-8456-92d0621ada37",
   "metadata": {},
   "outputs": [
    {
     "name": "stdout",
     "output_type": "stream",
     "text": [
      "1\n",
      "iteration: 1\n",
      "2\n",
      "iteration: 2\n",
      "3\n",
      "iteration: 3\n",
      "4\n",
      "iteration: 4\n",
      "5\n",
      "iteration: 5\n"
     ]
    }
   ],
   "source": [
    "iteration = 0\n",
    "i = 1\n",
    "while i < 6:\n",
    "    print(i)\n",
    "    i += 1\n",
    "    iteration += 1\n",
    "    print('iteration:',iteration)\n",
    "    "
   ]
  },
  {
   "cell_type": "markdown",
   "id": "ae34399e-bee6-4d15-8e5d-12bff61bdf25",
   "metadata": {},
   "source": [
    "<br>\n",
    "<div dir=rtl id=\"start\" style=\"direction:rtl;line-height:200%;\">\n",
    "\t<font face=\"vazir\" size=6 color='darkorange'>\n",
    "For Loop \n",
    "    </font>\n",
    "</div>"
   ]
  },
  {
   "cell_type": "markdown",
   "id": "b6babb6d-2fbf-4bd9-8a68-77dff236f6fb",
   "metadata": {
    "id": "ZRjNvNoBmES8"
   },
   "source": [
    "<p dir=rtl style=\"direction: rtl;text-align: right;line-height:200%;font-family:vazir;font-size:medium\">\n",
    "<font face=\"vazir\" size=4>\n",
    "حلقه را برای یک تعداد ... تکرار میکند. یعنی از قبل تعداد تکرار حلقه مشخص است.\n",
    "    </font>\n",
    "</p>"
   ]
  },
  {
   "cell_type": "markdown",
   "id": "710c6ad9-56f0-4424-9208-cd97f1f86152",
   "metadata": {
    "id": "ZRjNvNoBmES8"
   },
   "source": [
    "<p dir=rtl style=\"direction: rtl;text-align: right;line-height:200%;font-family:vazir;font-size:medium\">\n",
    "<font face=\"vazir\" size=4>\n",
    "    </font>\n",
    "    </div>\n",
    "\n",
    "```python\n",
    "for expression:\n",
    "    statement\n",
    "    \n",
    "statement #out of loop\n",
    "```    \n",
    "</p>"
   ]
  },
  {
   "cell_type": "code",
   "execution_count": 31,
   "id": "c9235442-9cc1-45f5-985a-a397267c3c4e",
   "metadata": {},
   "outputs": [
    {
     "name": "stdout",
     "output_type": "stream",
     "text": [
      "sofi\n",
      "capital\n",
      "python\n",
      "c++\n",
      "Finished\n"
     ]
    }
   ],
   "source": [
    "my_book = ['sofi' , 'capital' , 'python' , 'c++']\n",
    "# print the name of all book in the list my_book:\n",
    "for this_book in my_book:\n",
    "    print(this_book)\n",
    "    \n",
    "print('Finished')    "
   ]
  },
  {
   "cell_type": "markdown",
   "id": "330d50b7-b257-4956-8ede-e6ae4650f48f",
   "metadata": {
    "id": "ZRjNvNoBmES8"
   },
   "source": [
    "<p dir=rtl style=\"direction: rtl;text-align: right;line-height:200%;font-family:vazir;font-size:medium\">\n",
    "<font face=\"vazir\" size=3 color='midnightblue'>\n",
    "هر بار متغیر this_book را به یکی از اعضای لیست نسبت می‌دهد.\n",
    "    </font>\n",
    "</p>"
   ]
  },
  {
   "cell_type": "markdown",
   "id": "acc3a73a-89a0-467a-9dc4-92d0721a5e29",
   "metadata": {
    "id": "ZRjNvNoBmES8"
   },
   "source": [
    "<p dir=rtl style=\"direction: rtl;text-align: right;line-height:200%;font-family:vazir;font-size:medium\">\n",
    "<font face=\"vazir\" size=3 color='midnightblue'>\n",
    "اگر بخواهیم حلقه را برای تعداد مشخصی تکرار کند به دو روش دستور for را می‌توانیم بنویسیم:\n",
    "    </font>\n",
    "</p>"
   ]
  },
  {
   "cell_type": "markdown",
   "id": "c2834e97-fe52-4008-b7ed-353e842278e4",
   "metadata": {
    "id": "ZRjNvNoBmES8"
   },
   "source": [
    "<p dir=rtl style=\"direction: rtl;text-align: right;line-height:200%;font-family:vazir;font-size:medium\">\n",
    "<font face=\"vazir\" size=3 color='midnightblue'>\n",
    "    </font>\n",
    "    </div>\n",
    "\n",
    "```python\n",
    "for x in [1,2,3,4,5]:\n",
    "    statement\n",
    "    \n",
    "for x in range (1,6):\n",
    "    statement\n",
    "\n",
    "```  \n",
    "</p>"
   ]
  },
  {
   "cell_type": "markdown",
   "id": "94e09c52-28ef-44f6-aa6f-71dd3e7316dd",
   "metadata": {
    "id": "ZRjNvNoBmES8"
   },
   "source": [
    "<p dir=rtl style=\"direction: rtl;text-align: right;line-height:200%;font-family:vazir;font-size:medium\">\n",
    "<font face=\"vazir\" size=3 color='midnightblue'>\n",
    "رنج (1,6) یعنی از ۱ تا ۵ (سر ۶)\n",
    "    </font>\n",
    "</p>"
   ]
  },
  {
   "cell_type": "markdown",
   "id": "104641a0-37d4-4c32-b3c2-35dc9fa7c3dd",
   "metadata": {},
   "source": [
    "<br>\n",
    "<div dir=rtl id=\"start\" style=\"direction:rtl;line-height:200%;\">\n",
    "\t<font face=\"vazir\" size=6 color='darkorange'>\n",
    "‌Break - Continue\n",
    "    </font>\n",
    "</div>"
   ]
  },
  {
   "cell_type": "markdown",
   "id": "46214790-4a4d-4fcc-bfc3-a175bcc8a399",
   "metadata": {},
   "source": [
    "<br>\n",
    "<div dir=rtl id=\"start\" style=\"direction:rtl;line-height:200%;\">\n",
    "\t<font face=\"vazir\" size=6 color='gold'>\n",
    "Break"
   ]
  },
  {
   "cell_type": "markdown",
   "id": "80f4e8ee-4483-4e5b-b96b-a87d27c70c44",
   "metadata": {
    "id": "ZRjNvNoBmES8"
   },
   "source": [
    "<p dir=rtl style=\"direction: rtl;text-align: right;line-height:200%;font-family:vazir;font-size:medium\">\n",
    "<font face=\"vazir\" size=4>\n",
    "گاهی نیاز داریم از حلقه بیرون بیاییم و حلقه را بشکنیم حتی اگر شرط درست باشد. در این حالت از دستور Break استفاده می‌کنیم.\n",
    "    </font>\n",
    "</p>"
   ]
  },
  {
   "cell_type": "markdown",
   "id": "60b97cd6-d1b2-4c72-bd86-641dfb54a97e",
   "metadata": {
    "id": "ZRjNvNoBmES8"
   },
   "source": [
    "<p dir=rtl style=\"direction: rtl;text-align: right;line-height:200%;font-family:vazir;font-size:medium\">\n",
    "<font face=\"vazir\" size=4>\n",
    "    </font>\n",
    "    </div>\n",
    "\n",
    "```python\n",
    "if ():\n",
    "    Break\n",
    "```    \n",
    "</p>"
   ]
  },
  {
   "cell_type": "code",
   "execution_count": 32,
   "id": "c1a68ced-344c-4f33-ba4a-c3c77236e85b",
   "metadata": {},
   "outputs": [
    {
     "name": "stdout",
     "output_type": "stream",
     "text": [
      "1\n",
      "2\n",
      "3\n"
     ]
    }
   ],
   "source": [
    "i = 1\n",
    "while i < 9:\n",
    "    print(i)\n",
    "    if i == 3:\n",
    "        break\n",
    "    i += 1"
   ]
  },
  {
   "cell_type": "markdown",
   "id": "a4e32790-f65e-486e-beb6-58519e520820",
   "metadata": {},
   "source": [
    "<br>\n",
    "<div dir=rtl id=\"start\" style=\"direction:rtl;line-height:200%;\">\n",
    "\t<font face=\"vazir\" size=6 color='gold'>\n",
    "Continue"
   ]
  },
  {
   "cell_type": "markdown",
   "id": "270d1538-61ff-4a1c-8597-46d331170685",
   "metadata": {
    "id": "ZRjNvNoBmES8"
   },
   "source": [
    "<p dir=rtl style=\"direction: rtl;text-align: right;line-height:200%;font-family:vazir;font-size:medium\">\n",
    "<font face=\"vazir\" size=4>\n",
    "با دستور continue همان یک بار حلقه را بیخیال می‌شود و حلقه را از اول اجرا می‌کند.\n",
    "    </font>\n",
    "</p>"
   ]
  },
  {
   "cell_type": "markdown",
   "id": "7e6a7425-ac78-48d5-98ea-db57f724984d",
   "metadata": {
    "id": "ZRjNvNoBmES8"
   },
   "source": [
    "<p dir=rtl style=\"direction: rtl;text-align: right;line-height:200%;font-family:vazir;font-size:medium\">\n",
    "<font face=\"vazir\" size=4>\n",
    "    </font>\n",
    "    </div>\n",
    "\n",
    "```python\n",
    "if ():\n",
    "    Continue\n",
    "```    \n",
    "</p>"
   ]
  },
  {
   "cell_type": "code",
   "execution_count": 33,
   "id": "840ee379-9b3b-40de-91f4-21ed2b587026",
   "metadata": {},
   "outputs": [
    {
     "name": "stdout",
     "output_type": "stream",
     "text": [
      "1\n",
      "2\n",
      "4\n",
      "5\n",
      "6\n",
      "7\n",
      "8\n",
      "9\n"
     ]
    }
   ],
   "source": [
    "i = 0\n",
    "while i < 9:\n",
    "    i += 1\n",
    "    if i == 3:\n",
    "        continue\n",
    "    print(i)"
   ]
  },
  {
   "cell_type": "markdown",
   "id": "8a1368a4-7556-4d50-bf6b-047085b14e09",
   "metadata": {},
   "source": [
    "<br>\n",
    "<div dir=rtl id=\"start\" style=\"direction:rtl;line-height:200%;\">\n",
    "\t<font face=\"vazir\" size=6 color='darkorange'>\n",
    "حلقه‌های تودرتو\n",
    "    </font>\n",
    "</div>"
   ]
  },
  {
   "cell_type": "markdown",
   "id": "5685b62d-d900-41d6-9b1f-b0bdba66600d",
   "metadata": {
    "id": "ZRjNvNoBmES8"
   },
   "source": [
    "<p dir=rtl style=\"direction: rtl;text-align: right;line-height:200%;font-family:vazir;font-size:medium\">\n",
    "<font face=\"vazir\" size=4>\n",
    "در هر مرحله که می‌نویسیم خروجی می‌گیریم که  debug کنیم. در حلقه‌های تودرتو باید فاصله‌ی statement هر حلقه را چک کنیم که از حلقه خارج نشده باشد.\n",
    "    </font>  \n",
    "</p>"
   ]
  },
  {
   "cell_type": "markdown",
   "id": "ad3e6f8e-1eba-46da-921f-a68163a1d10c",
   "metadata": {},
   "source": [
    "<br>\n",
    "<div dir=rtl id=\"start\" style=\"direction:rtl;line-height:200%;\">\n",
    "\t<font face=\"vazir\" size=7 color='Red'>\n",
    "Functions (توابع)\n",
    "    </font>\n",
    "</div>"
   ]
  },
  {
   "cell_type": "markdown",
   "id": "7081d51f-6c3e-4e24-8297-d60fa62b803c",
   "metadata": {},
   "source": [
    "<br>\n",
    "<div dir=rtl id=\"start\" style=\"direction:rtl;line-height:200%;\">\n",
    "\t<font face=\"vazir\" size=6 color='darkorange'>\n",
    "تعریف تابع\n",
    "    </font>    \n",
    "</p>"
   ]
  },
  {
   "cell_type": "markdown",
   "id": "175d4ac8-2326-4ff1-9f37-76fe7d90005c",
   "metadata": {
    "id": "ZRjNvNoBmES8"
   },
   "source": [
    "<p dir=rtl style=\"direction: rtl;text-align: right;line-height:200%;font-family:vazir;font-size:medium\">\n",
    "<font face=\"vazir\" size=4>\n",
    "آن قسمت از برنامه که تکرار می‌شود را به عنوان تابع تعریف می‌کنیم تا هر جا نیاز داشتیم تابع را فراخوانی کنیم. تابع را با دستور def تعریف میکنیم و یک اسم برای آن انتخاب می‌کنیم. اگر نیاز بود پارامترها را جلوی اسم تابع در پرانتز قرار می‌دهیم(اگر پارامتر نداشت باید پرانتز خالی قرار دهیم). بعد مراحلی که باید انجام شود را در زیرش می‌نویسیم. بعد داخل برنامه هر جا لازم بود اسم تابع را صدا می‌زنیم.\n",
    "    </font>   \n",
    "</p>"
   ]
  },
  {
   "cell_type": "markdown",
   "id": "6c0e00a9-9b43-4b1b-b271-c479f86d7dbc",
   "metadata": {
    "id": "ZRjNvNoBmES8"
   },
   "source": [
    "<p dir=rtl style=\"direction: rtl;text-align: right;line-height:200%;font-family:vazir;font-size:medium\">\n",
    "<font face=\"vazir\" size=4>\n",
    "    </font>\n",
    "    </div>\n",
    "\n",
    "```python\n",
    "def function_name(parameters-optional):\n",
    "    statements\n",
    "    return result (optional)\n",
    "\n",
    "#in tme middle of program:\n",
    "function_name()\n",
    "```    \n",
    "</p>"
   ]
  },
  {
   "cell_type": "code",
   "execution_count": 34,
   "id": "2000b638-f72e-4419-84f6-b856b0032951",
   "metadata": {},
   "outputs": [
    {
     "name": "stdout",
     "output_type": "stream",
     "text": [
      "Hello dog !\n",
      "Hello cat !\n",
      "Hello ReHa !\n"
     ]
    }
   ],
   "source": [
    "def say_hello (to_whom):\n",
    "    print('Hello',to_whom,'!')\n",
    "    \n",
    "for i in ['dog','cat','ReHa']:\n",
    "    say_hello(i)"
   ]
  },
  {
   "cell_type": "markdown",
   "id": "0b906e9d-41e4-445a-aec4-81bf356213eb",
   "metadata": {},
   "source": [
    "<br>\n",
    "<div dir=rtl id=\"start\" style=\"direction:rtl;line-height:200%;\">\n",
    "\t<font face=\"vazir\" size=6 color='gold'>\n",
    "انواع پارامترهای ورودی و خروجی توابع:"
   ]
  },
  {
   "cell_type": "markdown",
   "id": "e150c828-7cf8-444d-95ab-1234d0bc273e",
   "metadata": {
    "id": "ZRjNvNoBmES8"
   },
   "source": [
    "<p dir=rtl style=\"direction: rtl;text-align: right;line-height:200%;font-family:vazir;font-size:medium\">\n",
    "<font face=\"vazir\" size=4>\n",
    "۱) ورودی ندارد، خروجی ندارد:\n",
    "    <br>\n",
    "    گاهی نیاز داریم برخی کارها را بارها و بارها انجام دهیم و این کار تغییر نمی‌کند.\n",
    "    </font>\n",
    "</p>"
   ]
  },
  {
   "cell_type": "code",
   "execution_count": 35,
   "id": "61de81e0-2a2a-49aa-b46f-dff94df012d6",
   "metadata": {},
   "outputs": [
    {
     "name": "stdout",
     "output_type": "stream",
     "text": [
      "***PYTHON IS GREAT***\n"
     ]
    }
   ],
   "source": [
    "def display_message():\n",
    "    print(\"***PYTHON IS GREAT***\")\n",
    "    \n",
    "display_message()"
   ]
  },
  {
   "cell_type": "markdown",
   "id": "71ab5a8a-280d-4a17-b16a-d2bfcf3f7e90",
   "metadata": {
    "id": "ZRjNvNoBmES8"
   },
   "source": [
    "<p dir=rtl style=\"direction: rtl;text-align: right;line-height:200%;font-family:vazir;font-size:medium\">\n",
    "<font face=\"vazir\" size=4>\n",
    "۲) ورودی ندارد، خروجی دارد:\n",
    "    <br>\n",
    "مثلا تابع ساخت اعداد رندوم\n",
    "    </font>\n",
    "</p>"
   ]
  },
  {
   "cell_type": "code",
   "execution_count": 36,
   "id": "4d37f7a6-796d-42b0-b8e8-97d612020192",
   "metadata": {},
   "outputs": [
    {
     "data": {
      "text/plain": [
       "55"
      ]
     },
     "execution_count": 36,
     "metadata": {},
     "output_type": "execute_result"
    }
   ],
   "source": [
    "# define a finction to biuld random integer number between 20 and 99\n",
    "import random \n",
    "def report_random():\n",
    "    my_number = random.randint(20,100)\n",
    "    return my_number\n",
    "report_random()"
   ]
  },
  {
   "cell_type": "markdown",
   "id": "40aa8999-3c3f-45b5-b6f1-e94bc2ad6bb8",
   "metadata": {
    "id": "ZRjNvNoBmES8"
   },
   "source": [
    "<p dir=rtl style=\"direction: rtl;text-align: right;line-height:200%;font-family:vazir;font-size:medium\">\n",
    "<font face=\"vazir\" size=4>\n",
    "۳) ورودی دارد، خروجی ندارد:\n",
    "    <br>\n",
    "گاهی تابع آرگومانی نیاز دارد که عملیاتی را انجام دهد اما چیزی را برنمی‌گرداند.\n",
    "    </font>\n",
    "</p>"
   ]
  },
  {
   "cell_type": "code",
   "execution_count": 37,
   "id": "60560350-1a97-4821-8e15-f78be533d038",
   "metadata": {},
   "outputs": [
    {
     "name": "stdout",
     "output_type": "stream",
     "text": [
      "area is equal to 200\n",
      "perimeter is equal to 400\n"
     ]
    }
   ],
   "source": [
    "def calculate_area(length,breadth):\n",
    "    area = length*breadth\n",
    "    perimeter = 2*length*breadth\n",
    "    print(\"area is equal to\",area)\n",
    "    print(\"perimeter is equal to\",perimeter)\n",
    "\n",
    "    # main program #\n",
    "calculate_area(10,20)"
   ]
  },
  {
   "cell_type": "markdown",
   "id": "0b6d16f7-3d4a-4ff3-a4cc-9b2f6bf8c6d8",
   "metadata": {
    "id": "ZRjNvNoBmES8"
   },
   "source": [
    "<p dir=rtl style=\"direction: rtl;text-align: right;line-height:200%;font-family:vazir;font-size:medium\">\n",
    "<font face=\"vazir\" size=4>\n",
    "۱) ورودی دارد، خروجی دارد:\n",
    "    <br>\n",
    "تابع آرگومان را می‌گیرد، وظایفی را انجام می‌دهد و نتایجی را برمی‌گرداند.\n",
    "    </font>\n",
    "</p>"
   ]
  },
  {
   "cell_type": "code",
   "execution_count": 38,
   "id": "4e9c3d58-0ac8-4ccb-a557-521db0a95f39",
   "metadata": {},
   "outputs": [
    {
     "name": "stdout",
     "output_type": "stream",
     "text": [
      "The resulting list looks like: [200, 400]\n"
     ]
    }
   ],
   "source": [
    "def calculate_area(length,breadth):\n",
    "    area = length*breadth\n",
    "    perimeter = 2*length*breadth\n",
    "    my_result = [area,perimeter] # put result in a list\n",
    "    return my_result\n",
    "\n",
    "my_list = calculate_area(10,20)\n",
    "print(\"The resulting list looks like:\",my_list)"
   ]
  },
  {
   "cell_type": "markdown",
   "id": "a2a643a4-ccb3-4f36-949f-806f34eb63f5",
   "metadata": {},
   "source": [
    "<br>\n",
    "<div dir=rtl id=\"start\" style=\"direction:rtl;line-height:200%;\">\n",
    "\t<font face=\"vazir\" size=6 color='darkorange'>\n",
    "توابع Build_in (از پيش ساخته شده)\n",
    "    </font>    \n",
    "</p>"
   ]
  },
  {
   "cell_type": "markdown",
   "id": "4b145bc3-1bed-42e4-addd-456ccd467ef3",
   "metadata": {
    "id": "ZRjNvNoBmES8"
   },
   "source": [
    "<p dir=rtl style=\"direction: rtl;text-align: right;line-height:200%;font-family:vazir;font-size:medium\">\n",
    "<font face=\"vazir\" size=4>\n",
    "پايتون تعدادي توابع از پيش ساخته شده دارد که هميشه در دسترس هستند.مانند:\n",
    "    <br>\n",
    "<p dir=rtl style=\"direction: ltr;text-align: left;line-height:200%;font-family:vazir;font-size:medium\">\n",
    "<font face=\"vazir\" size=4>\n",
    "    abs(), all(), any(), dict(), input(), int(), bool(), max(), min(), sum()\n",
    "    <br>\n",
    "    pow(x,y) --> x**y\n",
    "    <br>\n",
    "    len(x) --> طول (تعداد ارقام) یک شی\n",
    "    </font>\n",
    "</p>"
   ]
  },
  {
   "cell_type": "markdown",
   "id": "594c8290-6a27-4141-be71-fef30001cb17",
   "metadata": {
    "id": "ZRjNvNoBmES8"
   },
   "source": [
    "<p dir=rtl style=\"direction: ltr;text-align: left;line-height:200%;font-family:vazir;font-size:medium\">\n",
    "<font face=\"vazir\" size=4>\n",
    "    sorted(iterable[,key][,reverse]) --> این تابع یک لیست مرتب شده از موارد موجود در iterable را برمی‌گرداند.\n",
    "    <br>\n",
    "    key: یک تابع یک آرگومانی که برای استخراج یک کلید مقایسه‌ای از هر یک از عناصر لیست استفاده می‌شود.\n",
    "    <br>\n",
    "    Reverse: یک مقدار boolean است که اگر برابر True باشد پس عناصر لیست به صورت معکوس مرتب‌سازی خواهد شد.\n",
    "    </font>\n",
    "</p>"
   ]
  },
  {
   "cell_type": "code",
   "execution_count": 39,
   "id": "64cd7d7c-520f-44d6-89b1-ef48e93681e7",
   "metadata": {},
   "outputs": [
    {
     "name": "stdout",
     "output_type": "stream",
     "text": [
      "The sorted list looks like: [[100, 3], [11, 14], [2, 4], [0, 13], [-14, 12]]\n"
     ]
    }
   ],
   "source": [
    "# Lets sort the following list by the first item in each sub-list.\n",
    "my_list = [[2, 4], [0, 13], [11, 14], [-14, 12], [100, 3]]\n",
    "\n",
    "# First, we need to define a function that specifies what we would like our items sorted by\n",
    "def my_key(item):\n",
    "\n",
    "    return item[0]                                            # Make the first item in each sub-list our key\n",
    "new_sorted_list = sorted(my_list, key=my_key, reverse=True)   # Return a sorted list as specified by our key\n",
    "print(\"The sorted list looks like:\", new_sorted_list)       "
   ]
  },
  {
   "cell_type": "markdown",
   "id": "cceadf7d-bdaf-4117-a3cf-2f96f7e94af7",
   "metadata": {
    "id": "ZRjNvNoBmES8"
   },
   "source": [
    "<p dir=rtl style=\"direction: rtl;text-align: right;line-height:200%;font-family:vazir;font-size:medium\">\n",
    "<font face=\"vazir\" size=4>\n",
    "    zip(*iterables) --> این تابع ، یک تکرار کننده چندتایی است، که در آن چندتایی iام شامل عنصر iام از هریک از دنباله های آرگومان iterables است. Iterables هنگامی متوقف می شود که کوتاه ترین ورودی iterable ، خروجی است.\n",
    "    </font>\n",
    "</p>"
   ]
  },
  {
   "cell_type": "code",
   "execution_count": 40,
   "id": "dc605266-4111-4767-8dc0-a81cc935e705",
   "metadata": {},
   "outputs": [
    {
     "name": "stdout",
     "output_type": "stream",
     "text": [
      "The result of the operation is: [(1, 'a'), (2, 'b'), (3, 'c')]\n"
     ]
    }
   ],
   "source": [
    "x = [1, 2, 3, 4, 5]                                      # Create a list\n",
    "\n",
    "y = ['a', 'b', 'c']                                      # Note that this list only has 3 elements\n",
    "zipped = list(zip(x, y) )                                # Return the zipped object as a list of tuples\n",
    "print(\"The result of the operation is:\", zipped)       "
   ]
  },
  {
   "cell_type": "markdown",
   "id": "81d55b27-1479-4813-8f1a-680f98d0136e",
   "metadata": {},
   "source": [
    "<br>\n",
    "<div dir=rtl id=\"start\" style=\"direction:rtl;line-height:200%;\">\n",
    "\t<font face=\"vazir\" size=6 color='darkorange'>\n",
    "Recursive function (توابع بازگشتی)\n",
    "    </font>\n",
    "</div>"
   ]
  },
  {
   "cell_type": "markdown",
   "id": "179f82b4-7887-44ac-9289-61c7d6a22826",
   "metadata": {
    "id": "ZRjNvNoBmES8"
   },
   "source": [
    "<p dir=rtl style=\"direction: rtl;text-align: right;line-height:200%;font-family:vazir;font-size:medium\">\n",
    "<font face=\"vazir\" size=4>\n",
    "اگر بتوانیم ۳ شزط زیر را پیاده کنیم، یک تابع بازگشتی داریم:\n",
    "    <br>\n",
    "    ۱. اگر یک تابع در حالت پایه جوابش مشخص باشد.\n",
    "    <br>\n",
    "    ۲. هر بار بتوانیم مسئله را به حالت پایه نزدیکتر کنیم.\n",
    "    <br>\n",
    "    ۳. بتوانیم خود تابع را صدا بزنیم برای اینکه به حالت پایه نزدیک شویم.\n",
    "    <br>\n",
    "    در واقع توابع بازگشتی توابعی هستند که خودشان را در برنامه صدا می‌زنند.\n",
    "    </font>\n",
    "</p>"
   ]
  },
  {
   "cell_type": "markdown",
   "id": "c85ef638-d009-4da2-bede-b3cc1bd5c067",
   "metadata": {},
   "source": [
    "<br>\n",
    "<div dir=rtl id=\"start\" style=\"direction:rtl;line-height:200%;\">\n",
    "\t<font face=\"vazir\" size=6 color='gold'>\n",
    "تابع فاکتوریل"
   ]
  },
  {
   "cell_type": "markdown",
   "id": "ff685693-8432-4ed3-aec0-45c09333e927",
   "metadata": {
    "id": "ZRjNvNoBmES8"
   },
   "source": [
    "<p dir=rtl style=\"direction: ltr;text-align: left;line-height:200%;font-family:vazir;font-size:medium\">\n",
    "<font face=\"vazir\" size=4>\n",
    "1! --> حالت پایه، شرط اول\n",
    "    <br>\n",
    "4! = 4 * 3! --> 3! = 3 * 2! --> 2! = 2 * 1! --> شرط دوم\n",
    "    <br>\n",
    "شرط سوم: خودش را صدا می‌زند.\n",
    "    </font>\n",
    "</p>"
   ]
  },
  {
   "cell_type": "code",
   "execution_count": 6,
   "id": "7c29d9e2-4027-4e36-9658-1fcce60bbabe",
   "metadata": {},
   "outputs": [
    {
     "data": {
      "text/plain": [
       "24"
      ]
     },
     "execution_count": 6,
     "metadata": {},
     "output_type": "execute_result"
    }
   ],
   "source": [
    "def factorial (n):\n",
    "    if n <= 1 :\n",
    "        return 1\n",
    "    else:\n",
    "        return n * factorial(n-1)\n",
    "    \n",
    "factorial (4)"
   ]
  },
  {
   "cell_type": "markdown",
   "id": "0078787c-33cb-4f5f-aead-1d6abeeff210",
   "metadata": {},
   "source": [
    "<br>\n",
    "<div dir=rtl id=\"start\" style=\"direction:rtl;line-height:200%;\">\n",
    "\t<font face=\"vazir\" size=6 color='gold'>\n",
    "تابع فیبوناچی"
   ]
  },
  {
   "cell_type": "code",
   "execution_count": 46,
   "id": "229f5aae-4b3c-4172-82bd-9f723ad0214d",
   "metadata": {},
   "outputs": [
    {
     "data": {
      "text/plain": [
       "55"
      ]
     },
     "execution_count": 46,
     "metadata": {},
     "output_type": "execute_result"
    }
   ],
   "source": [
    "def calculate_fibonacci(n):\n",
    "    if n == 0 :\n",
    "        return 0\n",
    "    elif n == 1 :\n",
    "        return 1\n",
    "    else:\n",
    "        return calculate_fibonacci(n-1)+ calculate_fibonacci(n-2)\n",
    "\n",
    "calculate_fibonacci(10)"
   ]
  },
  {
   "cell_type": "code",
   "execution_count": 49,
   "id": "1aa2d59d-1601-40a4-bbd2-27326c1019e2",
   "metadata": {},
   "outputs": [
    {
     "name": "stdout",
     "output_type": "stream",
     "text": [
      " 12hELLO  bABY 98\n"
     ]
    }
   ],
   "source": []
  },
  {
   "cell_type": "markdown",
   "id": "1179d38b-bd5d-41cd-9453-8a3d7feb4461",
   "metadata": {},
   "source": [
    "<br>\n",
    "<div dir=rtl id=\"start\" style=\"direction:rtl;line-height:200%;\">\n",
    "\t<font face=\"vazir\" size=7 color='Red'>\n",
    "Modules (ماژول‌ها)\n",
    "    </font>\n",
    "</div>"
   ]
  },
  {
   "cell_type": "markdown",
   "id": "b1ed53ca-d711-4b2a-b862-8a6835548f39",
   "metadata": {
    "id": "ZRjNvNoBmES8"
   },
   "source": [
    "<p dir=rtl style=\"direction: rtl;text-align: right;line-height:200%;font-family:vazir;font-size:medium\">\n",
    "<font face=\"vazir\" size=4>\n",
    "برنامه‌ای که ما می‌نویسیم و به پایتون اضافه می‌کنیم و در برنامه‌های دیگر استفاده می‌شود. برای این کار تابعی که تعریف کردیم را در یک فایل py جدا باید وارد کنیم. در واقع این py جدید برنامه نیست، فقط تابع روی آن وجود دارد. بعد در برنام‌های دیگر می‌توانیم آن را صدا بزنیم.\n",
    "    <br>\n",
    "صدا زدن ماژول:\n",
    "    </font>\n",
    "    </div>\n",
    "\n",
    "```python\n",
    "import file_name\n",
    "file_name.function_name()\n",
    "#or\n",
    "from file_name import function_name\n",
    "``` \n",
    "</p>"
   ]
  },
  {
   "cell_type": "markdown",
   "id": "6e6b18fa-4b06-4b6f-b2ca-4fba9b3aa697",
   "metadata": {
    "id": "ZRjNvNoBmES8"
   },
   "source": [
    "<p dir=rtl style=\"direction: rtl;text-align: right;line-height:200%;font-family:vazir;font-size:medium\">\n",
    "<font face=\"vazir\" size=3, color='midnightblue'>\n",
    "اگر function_name را نمی‌دانستیم در عبارت دوم می‌توانیم * بگذاریم. تمام تابع‌های فایل file_name را وارد می‌کند.\n",
    "    <br>\n",
    "تابع آرگومان را می‌گیرد، وظایفی را انجام می‌دهد و نتایجی را برمی‌گرداند.\n",
    "    </font>\n",
    "</p>"
   ]
  },
  {
   "cell_type": "markdown",
   "id": "0a98ae65-6d03-42bb-b1fd-559a464e8f69",
   "metadata": {
    "id": "ZRjNvNoBmES8"
   },
   "source": [
    "<p dir=rtl style=\"direction: rtl;text-align: right;line-height:200%;font-family:vazir;font-size:medium\">\n",
    "<font face=\"vazir\" size=4>\n",
    "در پایتون بسیار ماژول از پیش نوشته شده است. مانند math\n",
    "    </font> \n",
    "</p>"
   ]
  },
  {
   "cell_type": "markdown",
   "id": "0ec79aca-f88c-4df4-9240-a2f047a004df",
   "metadata": {
    "id": "ZRjNvNoBmES8"
   },
   "source": [
    "<p dir=rtl style=\"direction: rtl;text-align: right;line-height:200%;font-family:vazir;font-size:medium\">\n",
    "<font face=\"vazir\" size=4>\n",
    "    </font>\n",
    "    </div>\n",
    "\n",
    "```python\n",
    "from math import sqrt\n",
    "``` \n",
    "</p>"
   ]
  },
  {
   "cell_type": "markdown",
   "id": "2af49580-6fa2-4d66-85f8-bff00575af51",
   "metadata": {
    "id": "ZRjNvNoBmES8"
   },
   "source": [
    "<p dir=rtl style=\"direction: rtl;text-align: right;line-height:200%;font-family:vazir;font-size:medium\">\n",
    "<font face=\"vazir\" size=4>\n",
    "می‌توانیم هم‌زمان چند تا تابع را از یک ماژول وارد کنیم.\n",
    "    </font>\n",
    "</p>"
   ]
  },
  {
   "cell_type": "markdown",
   "id": "1be75e24-77b1-4c37-a039-bc11363dc715",
   "metadata": {
    "id": "ZRjNvNoBmES8"
   },
   "source": [
    "<p dir=rtl style=\"direction: rtl;text-align: right;line-height:200%;font-family:vazir;font-size:medium\">\n",
    "<font face=\"vazir\" size=4>\n",
    "    </font>\n",
    "    </div>\n",
    "\n",
    "```python\n",
    "from math import sqrt,sin\n",
    "``` \n",
    "</p>"
   ]
  },
  {
   "cell_type": "markdown",
   "id": "0c120242-843b-4a9c-963d-23aa34478169",
   "metadata": {
    "id": "ZRjNvNoBmES8"
   },
   "source": [
    "<p dir=rtl style=\"direction: rtl;text-align: right;line-height:200%;font-family:vazir;font-size:medium\">\n",
    "<font face=\"vazir\" size=4>\n",
    "برای نصب یک ماژول مانند numpy در پایتون از دستور زیر در cmd استفاده می‌کنیم:\n",
    "    </font>\n",
    "</p>"
   ]
  },
  {
   "cell_type": "markdown",
   "id": "459da6bc-6eca-41be-b471-9efabca429ab",
   "metadata": {
    "id": "ZRjNvNoBmES8"
   },
   "source": [
    "<p dir=rtl style=\"direction: rtl;text-align: right;line-height:200%;font-family:vazir;font-size:medium\">\n",
    "<font face=\"vazir\" size=4>\n",
    "    </font>\n",
    "    </div>\n",
    "\n",
    "```python\n",
    "pip install numpy\n",
    "``` \n",
    "</p>"
   ]
  },
  {
   "cell_type": "markdown",
   "id": "2fe637f7-d653-4c92-b71c-e0a57af61702",
   "metadata": {},
   "source": [
    "<br>\n",
    "<div dir=rtl id=\"start\" style=\"direction:rtl;line-height:200%;\">\n",
    "\t<font face=\"vazir\" size=7 color='Red'>\n",
    "Lists Manipulation (دستکاری لیست‌ها‌)\n",
    "    </font>\n",
    "</div>"
   ]
  },
  {
   "cell_type": "markdown",
   "id": "92241315-cff3-409e-84b8-508ac9712d4a",
   "metadata": {},
   "source": [
    "<br>\n",
    "<div dir=rtl id=\"start\" style=\"direction:rtl;line-height:200%;\">\n",
    "\t<font face=\"vazir\" size=6 color='darkorange'>\n",
    "List Methods (متدهای لیست)\n",
    "    </font>    \n",
    "</p>"
   ]
  },
  {
   "cell_type": "markdown",
   "id": "b1c34664-da53-4e16-9f31-cc314655765d",
   "metadata": {
    "id": "ZRjNvNoBmES8"
   },
   "source": [
    "<p dir=rtl style=\"direction: rtl;text-align: right;line-height:200%;font-family:vazir;font-size:medium\">\n",
    "<font face=\"vazir\" size=4>\n",
    "متدها درست مثل تابع هستند ولی فقط روی یک سری object کار می‌کنند. برای صدا زدن یک متد روی یک شیء، یک نقطه (dot) بین آنها می‌گذاریم و می‌گوییم روی object متد را انجام بده. متدهایی که روی لیست تغییر ایجاد می‌کنند، لیست تغییر یافته را برنمی‌گردانند و باید لیست را صدا بزنیم تا لیست جدید تایپ شود.\n",
    "    </font>\n",
    "</p>"
   ]
  },
  {
   "cell_type": "markdown",
   "id": "ba8a7505-a75a-4195-9f3c-f9de9566f35d",
   "metadata": {
    "id": "ZRjNvNoBmES8"
   },
   "source": [
    "<p dir=rtl style=\"direction: rtl;text-align: right;line-height:200%;font-family:vazir;font-size:medium\">\n",
    "<font face=\"vazir\" size=4>\n",
    "    </font>\n",
    "    </div>\n",
    "\n",
    "```python\n",
    "object.method()\n",
    "``` \n",
    "</p>"
   ]
  },
  {
   "cell_type": "markdown",
   "id": "a99963e4-57cc-4618-a46d-210d6b87d720",
   "metadata": {},
   "source": [
    "<br>\n",
    "<div dir=rtl id=\"start\" style=\"direction:rtl;line-height:200%;\">\n",
    "\t<font face=\"vazir\" size=6 color='gold'>\n",
    "Sort"
   ]
  },
  {
   "cell_type": "markdown",
   "id": "961c035c-ab04-4ec3-a50b-acc36d413be0",
   "metadata": {
    "id": "ZRjNvNoBmES8"
   },
   "source": [
    "<p dir=rtl style=\"direction: rtl;text-align: right;line-height:200%;font-family:vazir;font-size:medium\">\n",
    "<font face=\"vazir\" size=4>\n",
    "sort بر اساس اعداد مرتب می کند. اگر srt داخل لیست باشد error می دهد.\n",
    "    </font>\n",
    "</p>"
   ]
  },
  {
   "cell_type": "code",
   "execution_count": 41,
   "id": "73df716b-1383-4086-8b44-e62096dc7776",
   "metadata": {},
   "outputs": [
    {
     "data": {
      "text/plain": [
       "[1, 4, 8, 9]"
      ]
     },
     "execution_count": 41,
     "metadata": {},
     "output_type": "execute_result"
    }
   ],
   "source": [
    "my_list = [1,8,9,4]\n",
    "my_list.sort()\n",
    "my_list"
   ]
  },
  {
   "cell_type": "code",
   "execution_count": 59,
   "id": "35c88043-3139-49a6-8b7d-b0a2ec51592a",
   "metadata": {},
   "outputs": [],
   "source": [
    "x=my_list.sort()\n",
    "x\n",
    "# it returns nothing"
   ]
  },
  {
   "cell_type": "markdown",
   "id": "39caa1c8-b889-4a8c-93b4-3acae95578cf",
   "metadata": {
    "id": "ZRjNvNoBmES8"
   },
   "source": [
    "<p dir=rtl style=\"direction: rtl;text-align: right;line-height:200%;font-family:vazir;font-size:medium\">\n",
    "<font face=\"vazir\" size=3, color='midnightblue'>\n",
    "اگر بخواهیم لیست نزولی مرتب شود، داخل پرانتز پارامتر reverse را برابرTrue می‌گذاریم.\n",
    "    </font>\n",
    "</p>"
   ]
  },
  {
   "cell_type": "code",
   "execution_count": 69,
   "id": "cc6a4ddb-e08e-41aa-80cc-95c91225390b",
   "metadata": {},
   "outputs": [
    {
     "data": {
      "text/plain": [
       "[9, 8, 4, 1]"
      ]
     },
     "execution_count": 69,
     "metadata": {},
     "output_type": "execute_result"
    }
   ],
   "source": [
    "my_list.sort(reverse=True)\n",
    "my_list"
   ]
  },
  {
   "cell_type": "markdown",
   "id": "63279db4-70bc-4eac-b435-64b05ae9322b",
   "metadata": {},
   "source": [
    "<br>\n",
    "<div dir=rtl id=\"start\" style=\"direction:rtl;line-height:200%;\">\n",
    "\t<font face=\"vazir\" size=6 color='gold'>\n",
    "Insert"
   ]
  },
  {
   "cell_type": "markdown",
   "id": "f8e2dacb-dcc3-412f-9ae4-4f720721030f",
   "metadata": {
    "id": "ZRjNvNoBmES8"
   },
   "source": [
    "<p dir=rtl style=\"direction: rtl;text-align: right;line-height:200%;font-family:vazir;font-size:medium\">\n",
    "<font face=\"vazir\" size=4>\n",
    "insert دو آرگومان می‌گیرد. یکی شماره پوزیشن و دیگر عنصری که باید در آن پوزیشن وارد کند.\n",
    "    </font>\n",
    "</p>"
   ]
  },
  {
   "cell_type": "markdown",
   "id": "35b70fcd-46ef-4f70-9cbb-31b3d13216ac",
   "metadata": {
    "id": "ZRjNvNoBmES8"
   },
   "source": [
    "<p dir=rtl style=\"direction: rtl;text-align: right;line-height:200%;font-family:vazir;font-size:medium\">\n",
    "<font face=\"vazir\" size=4>\n",
    "    </font>\n",
    "    </div>\n",
    "    \n",
    "```python\n",
    "list.insert(position, element)\n",
    "```\n",
    "</p>"
   ]
  },
  {
   "cell_type": "code",
   "execution_count": 47,
   "id": "3e76a8a5-202c-4433-970d-5d03b3d9be2f",
   "metadata": {},
   "outputs": [
    {
     "data": {
      "text/plain": [
       "[1, 'reha', 2, 3, 4, 'dog', 3.4]"
      ]
     },
     "execution_count": 47,
     "metadata": {},
     "output_type": "execute_result"
    }
   ],
   "source": [
    "list = [1,2,3,4,'dog',3.4]\n",
    "list.insert(1,'reha') #enter reha in position 1\n",
    "list"
   ]
  },
  {
   "cell_type": "code",
   "execution_count": 48,
   "id": "a91bcf4d-70d1-45db-9501-8d9ed9f42932",
   "metadata": {},
   "outputs": [
    {
     "data": {
      "text/plain": [
       "[1, 'reha', 2, 3, 4, 'dog', 3.4, 'jadi']"
      ]
     },
     "execution_count": 48,
     "metadata": {},
     "output_type": "execute_result"
    }
   ],
   "source": [
    "list.insert(100,'jadi')\n",
    "list"
   ]
  },
  {
   "cell_type": "markdown",
   "id": "40de78f0-b20d-44a4-8e61-57d09a4e5460",
   "metadata": {
    "id": "ZRjNvNoBmES8"
   },
   "source": [
    "<p dir=rtl style=\"direction: rtl;text-align: right;line-height:200%;font-family:vazir;font-size:medium\">\n",
    "<font face=\"vazir\" size=3, color='midnightblue'>\n",
    "چون لیست ما پوزیشن ۱۰۰ ندارد، عنصر داده شده را در آخرین پوزیشن وارد می‌کند.\n",
    "    </font>\n",
    "</p>"
   ]
  },
  {
   "cell_type": "code",
   "execution_count": 49,
   "id": "9f5c43c6-3901-4e52-8ccb-08da6437d110",
   "metadata": {},
   "outputs": [
    {
     "data": {
      "text/plain": [
       "[1, 'reha', 2, 3, 4, 'dog', 3.4, -1, 'jadi']"
      ]
     },
     "execution_count": 49,
     "metadata": {},
     "output_type": "execute_result"
    }
   ],
   "source": [
    "list.insert(-1,-1)\n",
    "list"
   ]
  },
  {
   "cell_type": "markdown",
   "id": "3b258953-65f0-4405-adba-579dc385c4f7",
   "metadata": {
    "id": "ZRjNvNoBmES8"
   },
   "source": [
    "<p dir=rtl style=\"direction: rtl;text-align: right;line-height:200%;font-family:vazir;font-size:medium\">\n",
    "<font face=\"vazir\" size=3, color='midnightblue'>\n",
    "آرگومان ۱- به jadi اشاره دارد پس عدد داده شده را می‌برد قبل از آن قرار می‌دهد. یعنی در آخرین پوزیشن نمی‌گذارد.\n",
    "    </font>\n",
    "</p>"
   ]
  },
  {
   "cell_type": "markdown",
   "id": "10f57acc-82b7-494e-906e-0dfb42d3cea7",
   "metadata": {},
   "source": [
    "<br>\n",
    "<div dir=rtl id=\"start\" style=\"direction:rtl;line-height:200%;\">\n",
    "\t<font face=\"vazir\" size=6 color='gold'>\n",
    "Append"
   ]
  },
  {
   "cell_type": "markdown",
   "id": "4ba25972-79cd-474d-a8b2-a4cdda02e080",
   "metadata": {
    "id": "ZRjNvNoBmES8"
   },
   "source": [
    "<p dir=rtl style=\"direction: rtl;text-align: right;line-height:200%;font-family:vazir;font-size:medium\">\n",
    "<font face=\"vazir\" size=4>\n",
    "برای آنکه به ته لیست یک عنصر اضافه کنیم از این متد استفاده می‌کنیم.\n",
    "    </font>\n",
    "</p>"
   ]
  },
  {
   "cell_type": "code",
   "execution_count": 50,
   "id": "7244b696-a79e-40e5-9452-5dfcce042294",
   "metadata": {},
   "outputs": [
    {
     "data": {
      "text/plain": [
       "[1, 'reha', 2, 3, 4, 'dog', 3.4, -1, 'jadi', 'end']"
      ]
     },
     "execution_count": 50,
     "metadata": {},
     "output_type": "execute_result"
    }
   ],
   "source": [
    "list.append('end')\n",
    "list"
   ]
  },
  {
   "cell_type": "markdown",
   "id": "2a14a2de-ea65-4358-9f18-e8d9b30b8328",
   "metadata": {
    "id": "ZRjNvNoBmES8"
   },
   "source": [
    "<p dir=rtl style=\"direction: rtl;text-align: right;line-height:200%;font-family:vazir;font-size:medium\">\n",
    "<font face=\"vazir\" size=3, color='midnightblue'>\n",
    "هر متغیری را می‌توان در لیست قرار داد حتی می‌توان یک لیست را داخل لیست گذاشت.\n",
    "    </font>\n",
    "</p>"
   ]
  },
  {
   "cell_type": "code",
   "execution_count": 5,
   "id": "f2df8601-bb86-458f-9a6f-df78c3fea407",
   "metadata": {},
   "outputs": [
    {
     "data": {
      "text/plain": [
       "['Reha', 2, 4, 6, [1, 2, 3]]"
      ]
     },
     "execution_count": 5,
     "metadata": {},
     "output_type": "execute_result"
    }
   ],
   "source": [
    "my_list = ['Reha',2,4,6]\n",
    "my_list.append([1,2,3])\n",
    "my_list"
   ]
  },
  {
   "cell_type": "markdown",
   "id": "259df491-f13a-4e74-b1c1-b91f5c78bb88",
   "metadata": {},
   "source": [
    "<br>\n",
    "<div dir=rtl id=\"start\" style=\"direction:rtl;line-height:200%;\">\n",
    "\t<font face=\"vazir\" size=6 color='gold'>\n",
    "Extend"
   ]
  },
  {
   "cell_type": "markdown",
   "id": "16667cba-44c5-42b5-be47-553561319f89",
   "metadata": {
    "id": "ZRjNvNoBmES8"
   },
   "source": [
    "<p dir=rtl style=\"direction: rtl;text-align: right;line-height:200%;font-family:vazir;font-size:medium\">\n",
    "<font face=\"vazir\" size=4>\n",
    "این متد عناصر لیست مشخص شده (یا هر قابل تکراری (iterable)) را به انتهای لیست فعلی اضافه می کند.\n",
    "    </font>\n",
    "</p>"
   ]
  },
  {
   "cell_type": "code",
   "execution_count": 54,
   "id": "d058a6a4-bba8-456a-9a36-6f1b9c6965e6",
   "metadata": {},
   "outputs": [
    {
     "data": {
      "text/plain": [
       "['apple', 'banana', 'cherry', 'Ford', 'BMW', 'Volvo']"
      ]
     },
     "execution_count": 54,
     "metadata": {},
     "output_type": "execute_result"
    }
   ],
   "source": [
    "fruits = ['apple', 'banana', 'cherry']\n",
    "cars = ['Ford', 'BMW', 'Volvo']\n",
    "\n",
    "fruits.extend(cars)\n",
    "fruits"
   ]
  },
  {
   "cell_type": "markdown",
   "id": "ced94667-ee2f-40e3-afa1-81be39591dd5",
   "metadata": {
    "id": "ZRjNvNoBmES8"
   },
   "source": [
    "<p dir=rtl style=\"direction: rtl;text-align: right;line-height:200%;font-family:vazir;font-size:medium\">\n",
    "<font face=\"vazir\" size=3, color='midnightblue'>\n",
    "* اگر یک رشته را با متد extend به انتهای یک لیست اضافه کنیم. رشته از هم گسسته شده و تک تک عناصر آن به صورت یک آرگومان مجزا به لیست اضافه می‌شود. درحالی‌که با متد append رشته به صورت یک str به انتهای لیست اضافه می‌شود.\n",
    "    </font>\n",
    "</p>"
   ]
  },
  {
   "cell_type": "code",
   "execution_count": 55,
   "id": "5cc2d80d-c25d-419b-bee8-42b192901f44",
   "metadata": {},
   "outputs": [
    {
     "data": {
      "text/plain": [
       "['apple', 'banana', 'cherry', 'Ford', 'BMW', 'Volvo', 'cat']"
      ]
     },
     "execution_count": 55,
     "metadata": {},
     "output_type": "execute_result"
    }
   ],
   "source": [
    "fruits.append('cat')\n",
    "fruits"
   ]
  },
  {
   "cell_type": "code",
   "execution_count": 56,
   "id": "19cbe4ef-af34-420a-aa35-dbf8547c9892",
   "metadata": {},
   "outputs": [
    {
     "data": {
      "text/plain": [
       "['apple', 'banana', 'cherry', 'Ford', 'BMW', 'Volvo', 'cat', 'c', 'a', 't']"
      ]
     },
     "execution_count": 56,
     "metadata": {},
     "output_type": "execute_result"
    }
   ],
   "source": [
    "fruits.extend('cat')\n",
    "fruits"
   ]
  },
  {
   "cell_type": "markdown",
   "id": "ba746786-263e-4933-9e0b-0676ab8a10cb",
   "metadata": {},
   "source": [
    "<br>\n",
    "<div dir=rtl id=\"start\" style=\"direction:rtl;line-height:200%;\">\n",
    "\t<font face=\"vazir\" size=6 color='gold'>\n",
    "Remove"
   ]
  },
  {
   "cell_type": "markdown",
   "id": "01748e88-bc60-4ba0-a3c8-da8e6c2b4a57",
   "metadata": {
    "id": "ZRjNvNoBmES8"
   },
   "source": [
    "<p dir=rtl style=\"direction: rtl;text-align: right;line-height:200%;font-family:vazir;font-size:medium\">\n",
    "<font face=\"vazir\" size=4>\n",
    "این متد مقدار داخل پرانتز (نه ایندکس را) از لیست حذف می‌کند.\n",
    "    <br>\n",
    "    اگر مقدار داده شده بیش از یک بار در لیست وجود داشته باشد، اولین مقدار را حذف می‌کند.\n",
    "    </font>\n",
    "</p>"
   ]
  },
  {
   "cell_type": "code",
   "execution_count": 60,
   "id": "64c3ce50-ad7c-46e2-a77a-f9e9e1fee1ee",
   "metadata": {},
   "outputs": [
    {
     "data": {
      "text/plain": [
       "[1, 'reha', 2, 3, 4, 3.4, -1, 'jadi', 'end']"
      ]
     },
     "execution_count": 60,
     "metadata": {},
     "output_type": "execute_result"
    }
   ],
   "source": [
    "list.remove('dog')\n",
    "list"
   ]
  },
  {
   "cell_type": "code",
   "execution_count": 62,
   "id": "0008a219-5a3e-4ab6-8be2-51500299f0ab",
   "metadata": {},
   "outputs": [
    {
     "data": {
      "text/plain": [
       "[1, 3, 4, 2, 5]"
      ]
     },
     "execution_count": 62,
     "metadata": {},
     "output_type": "execute_result"
    }
   ],
   "source": [
    "list = [1,2,3,4,2,5]\n",
    "list.remove(2)\n",
    "list"
   ]
  },
  {
   "cell_type": "markdown",
   "id": "1a0de574-c7b1-4462-a58c-82307a5172b1",
   "metadata": {},
   "source": [
    "<br>\n",
    "<div dir=rtl id=\"start\" style=\"direction:rtl;line-height:200%;\">\n",
    "\t<font face=\"vazir\" size=6 color='gold'>\n",
    "Pop"
   ]
  },
  {
   "cell_type": "markdown",
   "id": "1b679910-296f-4213-b155-a715144bc276",
   "metadata": {
    "id": "ZRjNvNoBmES8"
   },
   "source": [
    "<p dir=rtl style=\"direction: rtl;text-align: right;line-height:200%;font-family:vazir;font-size:medium\">\n",
    "<font face=\"vazir\" size=4>\n",
    "در این متد اگر چیزی داخل پرانتر ننویسیم، یک آرگومان از انتهای لیست حذف می‌کند. اگر داخل پرانتز عدد بنویسیم، آرگومان مربوط به آن عدد (ایندکس) را حذف می‌کند.\n",
    "    </font>\n",
    "</p>"
   ]
  },
  {
   "cell_type": "code",
   "execution_count": 63,
   "id": "07612f1f-644e-409d-8f39-ea74d4bfebab",
   "metadata": {},
   "outputs": [
    {
     "data": {
      "text/plain": [
       "[1, 3, 4, 2]"
      ]
     },
     "execution_count": 63,
     "metadata": {},
     "output_type": "execute_result"
    }
   ],
   "source": [
    "list.pop()\n",
    "list"
   ]
  },
  {
   "cell_type": "code",
   "execution_count": 64,
   "id": "404daa99-d9d4-4610-8181-4f8b3452fa25",
   "metadata": {},
   "outputs": [
    {
     "data": {
      "text/plain": [
       "[1, 3, 2]"
      ]
     },
     "execution_count": 64,
     "metadata": {},
     "output_type": "execute_result"
    }
   ],
   "source": [
    "list.pop(2)\n",
    "list"
   ]
  },
  {
   "cell_type": "markdown",
   "id": "1faf1ed3-d624-4b85-bc4b-891cad43d59d",
   "metadata": {},
   "source": [
    "<br>\n",
    "<div dir=rtl id=\"start\" style=\"direction:rtl;line-height:200%;\">\n",
    "\t<font face=\"vazir\" size=6 color='gold'>\n",
    "Index"
   ]
  },
  {
   "cell_type": "markdown",
   "id": "660b0552-31e0-4a4b-a9de-6723037314e5",
   "metadata": {
    "id": "ZRjNvNoBmES8"
   },
   "source": [
    "<p dir=rtl style=\"direction: rtl;text-align: right;line-height:200%;font-family:vazir;font-size:medium\">\n",
    "<font face=\"vazir\" size=4>\n",
    "این متد ایندکس مربوط به آرگومانی که داخل پرانتز نوشته می‌شود را به ما می‌دهد.\n",
    "    </font>\n",
    "</p>"
   ]
  },
  {
   "cell_type": "code",
   "execution_count": 65,
   "id": "ae2baded-3341-4b63-ac0b-b9b09bd2bd8c",
   "metadata": {},
   "outputs": [
    {
     "data": {
      "text/plain": [
       "5"
      ]
     },
     "execution_count": 65,
     "metadata": {},
     "output_type": "execute_result"
    }
   ],
   "source": [
    "list = [1, 'reha', 2, 3, 4, 'dog', 3.4, -1, 'jadi', 'end']\n",
    "list.index('dog')"
   ]
  },
  {
   "cell_type": "markdown",
   "id": "336b63c4-d207-4497-a313-e8546fc935ef",
   "metadata": {},
   "source": [
    "<br>\n",
    "<div dir=rtl id=\"start\" style=\"direction:rtl;line-height:200%;\">\n",
    "\t<font face=\"vazir\" size=6 color='gold'>\n",
    "Count"
   ]
  },
  {
   "cell_type": "markdown",
   "id": "870aa5b1-d7bd-4c2a-bf76-d46cd297f8c3",
   "metadata": {
    "id": "ZRjNvNoBmES8"
   },
   "source": [
    "<p dir=rtl style=\"direction: rtl;text-align: right;line-height:200%;font-family:vazir;font-size:medium\">\n",
    "<font face=\"vazir\" size=4>\n",
    "این متد آرگومانی که در پرانتز به آن می‌دهیم را در لیست می‌شمرد.\n",
    "    </font>\n",
    "</p>"
   ]
  },
  {
   "cell_type": "code",
   "execution_count": 66,
   "id": "52a852c7-e44e-40c3-8e4d-ecf9da3fd692",
   "metadata": {},
   "outputs": [
    {
     "data": {
      "text/plain": [
       "3"
      ]
     },
     "execution_count": 66,
     "metadata": {},
     "output_type": "execute_result"
    }
   ],
   "source": [
    "list = [1,2,3,4,2,5,3,6,3]\n",
    "list.count(3)"
   ]
  },
  {
   "cell_type": "markdown",
   "id": "5e4d03c1-a801-46b0-a01f-f076cb89d569",
   "metadata": {},
   "source": [
    "<br>\n",
    "<div dir=rtl id=\"start\" style=\"direction:rtl;line-height:200%;\">\n",
    "\t<font face=\"vazir\" size=6 color='gold'>\n",
    "Reverse"
   ]
  },
  {
   "cell_type": "markdown",
   "id": "f8a6271c-a946-456a-8632-45ee304d6b9e",
   "metadata": {
    "id": "ZRjNvNoBmES8"
   },
   "source": [
    "<p dir=rtl style=\"direction: rtl;text-align: right;line-height:200%;font-family:vazir;font-size:medium\">\n",
    "<font face=\"vazir\" size=4>\n",
    "این متد لیست را معکوس می‌کند.\n",
    "    </font>\n",
    "</p>"
   ]
  },
  {
   "cell_type": "code",
   "execution_count": 67,
   "id": "03d86115-aac5-48e9-8191-8bd71f90d0f0",
   "metadata": {},
   "outputs": [
    {
     "data": {
      "text/plain": [
       "[3, 6, 3, 5, 2, 4, 3, 2, 1]"
      ]
     },
     "execution_count": 67,
     "metadata": {},
     "output_type": "execute_result"
    }
   ],
   "source": [
    "list.reverse()\n",
    "list"
   ]
  },
  {
   "cell_type": "markdown",
   "id": "d5f65bca-a28c-448a-97df-ef7ba8f28540",
   "metadata": {},
   "source": [
    "<br>\n",
    "<div dir=rtl id=\"start\" style=\"direction:rtl;line-height:200%;\">\n",
    "\t<font face=\"vazir\" size=6 color='gold'>\n",
    "Clear"
   ]
  },
  {
   "cell_type": "markdown",
   "id": "88838fde-27ca-4f71-bfa1-775c3adfb4a8",
   "metadata": {
    "id": "ZRjNvNoBmES8"
   },
   "source": [
    "<p dir=rtl style=\"direction: rtl;text-align: right;line-height:200%;font-family:vazir;font-size:medium\">\n",
    "<font face=\"vazir\" size=4>\n",
    "همه آیتم‌ها را از لیست حذف می‌کند.\n",
    "    </font>\n",
    "</p>"
   ]
  },
  {
   "cell_type": "code",
   "execution_count": 71,
   "id": "83ef6431-946d-4ef2-9315-d60bf67ed414",
   "metadata": {},
   "outputs": [
    {
     "data": {
      "text/plain": [
       "[]"
      ]
     },
     "execution_count": 71,
     "metadata": {},
     "output_type": "execute_result"
    }
   ],
   "source": [
    "list.clear()\n",
    "list"
   ]
  },
  {
   "cell_type": "markdown",
   "id": "2f60497f-b6a9-49f5-9c98-8569f7d27441",
   "metadata": {},
   "source": [
    "<br>\n",
    "<div dir=rtl id=\"start\" style=\"direction:rtl;line-height:200%;\">\n",
    "\t<font face=\"vazir\" size=6 color='darkorange'>\n",
    "List Functions (توابع لیست‌ها)\n",
    "    </font>    \n",
    "</p>"
   ]
  },
  {
   "cell_type": "markdown",
   "id": "d3402fb6-4ed8-48dc-9ac0-f90c5ffd5cfc",
   "metadata": {},
   "source": [
    "<div dir=ltr id=\"start\" style=\"direction:ltr;line-height:200%;\">\n",
    "\t<font face=\"vazir\" size=5>\n",
    "Commonly Used Python List Built-in Functions:\n",
    "        <br>\n",
    "      \n",
    "| Name     | Syntax | Description |\n",
    "| ----------- | ----------- | ----------- |\n",
    "| len        | len(s)   |Returns the number of element in the list .|\n",
    "| list        | list([iterable])   |Creates a list out of an iterable.|\n",
    "| range        | range([start,]stop[,step])   |Returns an iterator of integers from start to stop, with an increment of step.|\n",
    "| sum        | sum(iterable[,start])   |Adds all items of an iterable.|\n",
    "| min        | min(iterable[,key, default])   |Gets the smallest item in a sequence.|\n",
    "| max        | max(iterable[,key, default])   |Gets the largest item in a sequence.|\n",
    "| sorted        | sorted(iterable[,key,reverse])   |Returns a new list of sorted items in iterable.|\n",
    "| reversed        | reversed(iterator)   |Reverses an iterator.|\n",
    "| enumerate        | enumerate(sequence, start=0)   |Returns an enumerate object.|\n",
    "| zip        | zip(*iterables)   |Returns an iterator that aggregates items from each iterables.|\n",
    "| map        | map(function, iterable,...]   |Returns iterator that applies function to each item of iterables.|\n",
    "| filter        | filter(function, iterable)   |Returns an iterator from elements of iterable for which function returns true.|\n",
    "| iter        | iter(object[,sentinel])   |Converts an iterable into an iterator.|\n"
   ]
  },
  {
   "cell_type": "markdown",
   "id": "6b7e617b-8b19-4cb6-8fa8-5ef14633a5e2",
   "metadata": {
    "id": "ZRjNvNoBmES8"
   },
   "source": [
    "<p dir=rtl style=\"direction: rtl;text-align: right;line-height:200%;font-family:vazir;font-size:medium\">\n",
    "<font face=\"vazir\" size=4>\n",
    "توابع وقتی روی لیست‌ها اعمال می‌شوند، نتیجه را برمی‌گردانند.\n",
    "    <br>\n",
    "    مثلا تابع Sorted مانند متد sort اعضای لیست را مرتب می‌کند ولی در جواب لیست جدید را برمی‌گرداند درحالی‌که متد sort لیست را تغییر می‌داد ولی آن را برنمی‌گرداند.\n",
    "    </font>\n",
    "</p>"
   ]
  },
  {
   "cell_type": "code",
   "execution_count": 1,
   "id": "bdbe3967-69e1-4280-a6f2-53d95bdb2b85",
   "metadata": {},
   "outputs": [
    {
     "data": {
      "text/plain": [
       "[1, 2, 3, 4, 5, 6, 7]"
      ]
     },
     "execution_count": 1,
     "metadata": {},
     "output_type": "execute_result"
    }
   ],
   "source": [
    "list = [1,3,5,7,2,4,6]\n",
    "sorted(list)"
   ]
  },
  {
   "cell_type": "code",
   "execution_count": 2,
   "id": "aff5c580-6fa2-4ea3-8b52-c45c746b986a",
   "metadata": {},
   "outputs": [
    {
     "data": {
      "text/plain": [
       "[1, 3, 5, 7, 2, 4, 6]"
      ]
     },
     "execution_count": 2,
     "metadata": {},
     "output_type": "execute_result"
    }
   ],
   "source": [
    "list"
   ]
  },
  {
   "cell_type": "code",
   "execution_count": 3,
   "id": "5f4af54a-3deb-4659-a730-959c2b7843dc",
   "metadata": {},
   "outputs": [],
   "source": [
    "list.sort()"
   ]
  },
  {
   "cell_type": "code",
   "execution_count": 4,
   "id": "cea52776-a56a-4923-adc1-77751274dbb0",
   "metadata": {},
   "outputs": [
    {
     "data": {
      "text/plain": [
       "[1, 2, 3, 4, 5, 6, 7]"
      ]
     },
     "execution_count": 4,
     "metadata": {},
     "output_type": "execute_result"
    }
   ],
   "source": [
    "list"
   ]
  },
  {
   "cell_type": "markdown",
   "id": "b1fca622-1b93-43fc-a45f-fc78f1d69566",
   "metadata": {},
   "source": [
    "<br>\n",
    "<div dir=rtl id=\"start\" style=\"direction:rtl;line-height:200%;\">\n",
    "\t<font face=\"vazir\" size=6 color='darkorange'>\n",
    "Cut List (برش لیست)\n",
    "    </font>    \n",
    "</p>"
   ]
  },
  {
   "cell_type": "markdown",
   "id": "de94cadd-0d8c-44d0-af26-9bb44378a44a",
   "metadata": {
    "id": "ZRjNvNoBmES8"
   },
   "source": [
    "<p dir=rtl style=\"direction: rtl;text-align: right;line-height:200%;font-family:vazir;font-size:medium\">\n",
    "<font face=\"vazir\" size=4>\n",
    "به روش‌های مختلف می‌توانیم برشی از یک لیست را برگردانیم. مثلا دستور list[a:b] ایندکس‌های aم تا یکی قبل از b  را برمی‌گرداند.\n",
    "    <br>\n",
    "اگر طول لیست کمتر از مقدار b باشد، تا آخرین ایندکس را برمی‌گرداند.\n",
    "    </font>\n",
    "</p>"
   ]
  },
  {
   "cell_type": "code",
   "execution_count": 5,
   "id": "92cb8804-1c1b-4b22-be95-1e5ca8d76149",
   "metadata": {},
   "outputs": [
    {
     "data": {
      "text/plain": [
       "[1, 3, 8]"
      ]
     },
     "execution_count": 5,
     "metadata": {},
     "output_type": "execute_result"
    }
   ],
   "source": [
    "list = [1,3,8,2,'dog',-5,'cat']\n",
    "list[0:3] # it returns indexes 0 , 1 , 2"
   ]
  },
  {
   "cell_type": "code",
   "execution_count": 6,
   "id": "52625443-ba6a-4069-b624-be3024940812",
   "metadata": {},
   "outputs": [
    {
     "data": {
      "text/plain": [
       "['dog', -5, 'cat']"
      ]
     },
     "execution_count": 6,
     "metadata": {},
     "output_type": "execute_result"
    }
   ],
   "source": [
    "list[4:7]"
   ]
  },
  {
   "cell_type": "code",
   "execution_count": 7,
   "id": "219a409c-f2aa-461f-a536-29365e9b75b7",
   "metadata": {},
   "outputs": [
    {
     "data": {
      "text/plain": [
       "[8, 2, 'dog', -5, 'cat']"
      ]
     },
     "execution_count": 7,
     "metadata": {},
     "output_type": "execute_result"
    }
   ],
   "source": [
    "list[2:10]"
   ]
  },
  {
   "cell_type": "markdown",
   "id": "b2b9877a-0f1d-45c7-96cd-fb4049edc9b5",
   "metadata": {},
   "source": [
    "<br>\n",
    "<div dir=rtl id=\"start\" style=\"direction:rtl;line-height:200%;\">\n",
    "\t<font face=\"vazir\" size=6 color='gold'>\n",
    "برش لیست با ایندکس منفی"
   ]
  },
  {
   "cell_type": "markdown",
   "id": "449870b3-b14a-4abc-b5ba-7cf472fa06fd",
   "metadata": {
    "id": "ZRjNvNoBmES8"
   },
   "source": [
    "<p dir=rtl style=\"direction: rtl;text-align: right;line-height:200%;font-family:vazir;font-size:medium\">\n",
    "<font face=\"vazir\" size=4>\n",
    "ایندکس‌های منفی از آخر می‌شمرد. ۱- به آخرین ایندکس اشاره دارد و ۲- به یکی مانده به آخر\n",
    "    <br>\n",
    "list[0:-1] از اول لیست تا یکی قبل از آخری را برمی‌گرداند.\n",
    "    </font>\n",
    "</p>"
   ]
  },
  {
   "cell_type": "code",
   "execution_count": 8,
   "id": "350a2b9e-373b-4062-99d4-6e67962a9264",
   "metadata": {},
   "outputs": [
    {
     "data": {
      "text/plain": [
       "[1, 3, 8, 2, 'dog', -5]"
      ]
     },
     "execution_count": 8,
     "metadata": {},
     "output_type": "execute_result"
    }
   ],
   "source": [
    "list[0:-1]"
   ]
  },
  {
   "cell_type": "code",
   "execution_count": 10,
   "id": "13b399c7-31d0-4371-a9d2-48e35febfb32",
   "metadata": {},
   "outputs": [
    {
     "data": {
      "text/plain": [
       "[2, 'dog', -5]"
      ]
     },
     "execution_count": 10,
     "metadata": {},
     "output_type": "execute_result"
    }
   ],
   "source": [
    "list[-4:-1]"
   ]
  },
  {
   "cell_type": "markdown",
   "id": "70415c40-14ad-40cd-961a-3c4c801b4306",
   "metadata": {},
   "source": [
    "<br>\n",
    "<div dir=rtl id=\"start\" style=\"direction:rtl;line-height:200%;\">\n",
    "\t<font face=\"vazir\" size=6 color='gold'>\n",
    "برش لیست با قدم"
   ]
  },
  {
   "cell_type": "markdown",
   "id": "870660a9-f8f3-4e4c-80f9-105164a76c41",
   "metadata": {
    "id": "ZRjNvNoBmES8"
   },
   "source": [
    "<p dir=rtl style=\"direction: rtl;text-align: right;line-height:200%;font-family:vazir;font-size:medium\">\n",
    "<font face=\"vazir\" size=4>\n",
    "می‌توانیم لیست را یکی در میان یا چند تا در میان برش بزنیم. این عدد را با پارامتر step هنگام برش مشخص می‌کنیم..\n",
    "    </font>\n",
    "</p>"
   ]
  },
  {
   "cell_type": "markdown",
   "id": "e4b233b0-2f1d-423c-8b56-8c74d19a171b",
   "metadata": {
    "id": "ZRjNvNoBmES8"
   },
   "source": [
    "<p dir=rtl style=\"direction: rtl;text-align: right;line-height:200%;font-family:vazir;font-size:medium\">\n",
    "<font face=\"vazir\" size=4>\n",
    "    </font>\n",
    "    </div>\n",
    "    \n",
    "```python\n",
    "list[start index:end index:step]\n",
    "```\n",
    "</p>"
   ]
  },
  {
   "cell_type": "code",
   "execution_count": 11,
   "id": "7e7babff-af30-45dd-9d20-671140ebfd21",
   "metadata": {},
   "outputs": [
    {
     "data": {
      "text/plain": [
       "[2, 4]"
      ]
     },
     "execution_count": 11,
     "metadata": {},
     "output_type": "execute_result"
    }
   ],
   "source": [
    "list = [1,2,3,4,5,6]\n",
    "list[1:4:2] # it refers to index 1 , 3"
   ]
  },
  {
   "cell_type": "markdown",
   "id": "84ad7262-8beb-4a34-8ad6-3d0534189a77",
   "metadata": {},
   "source": [
    "<br>\n",
    "<div dir=rtl id=\"start\" style=\"direction:rtl;line-height:200%;\">\n",
    "\t<font face=\"vazir\" size=6 color='gold'>\n",
    "پیشفرض‌های برش لیست"
   ]
  },
  {
   "cell_type": "markdown",
   "id": "a8f0cc1b-1aa8-479e-8584-aa5a8e112ba4",
   "metadata": {
    "id": "ZRjNvNoBmES8"
   },
   "source": [
    "<p dir=rtl style=\"direction: rtl;text-align: right;line-height:200%;font-family:vazir;font-size:medium\">\n",
    "<font face=\"vazir\" size=4>\n",
    "برنامه یک سری default دارد که اگر پارامتری را ندهیم از آن‌ها استفاده می‌کند.\n",
    "    <br>\n",
    "    مثلا اگر step را ندهیم به طور پیشفرض ۱ در نظر می‌گیرد.\n",
    "    <br>\n",
    "اگر start را ندهیم از ۰ در نظر می‌گیرد. یعنی از اول لیست شروع می‌کند.\n",
    "    <br>\n",
    "    اگر end را ندهیم تا آخر در نظر می‌گیرد.\n",
    "    </font>\n",
    "</p>"
   ]
  },
  {
   "cell_type": "markdown",
   "id": "40ce3b45-cf45-466b-b40f-58fe793b75a3",
   "metadata": {},
   "source": [
    "<br>\n",
    "<div dir=rtl id=\"start\" style=\"direction:rtl;line-height:200%;\">\n",
    "\t<font face=\"vazir\" size=6 color='darkorange'>\n",
    "* Range\n",
    "    </font>    \n",
    "</p>"
   ]
  },
  {
   "cell_type": "markdown",
   "id": "486235ef-0cc7-4cd4-a3e4-e6514971ac81",
   "metadata": {
    "id": "ZRjNvNoBmES8"
   },
   "source": [
    "<p dir=rtl style=\"direction: rtl;text-align: right;line-height:200%;font-family:vazir;font-size:medium\">\n",
    "<font face=\"vazir\" size=4>\n",
    "در عبارت range هم میتوانیم برای طی کردن طول یک لیست قدم تعریف کنیم\n",
    "    <br>\n",
    "reange(2,11,3) یعنی از عدد ۲ تا ۱۱ را ۳ تا ۳ تا طی کند.\n",
    "    <br>\n",
    "برای آنکه range از عدد بزرگتر تا کوچکتر باشد، اول عدد بزرگتر و بعد کوچکتر را می‌نویسیم و step را ۱- می‌گیریم.\n",
    "    <br>\n",
    "range(11,2,-1)\n",
    "    </font>\n",
    "</p>"
   ]
  },
  {
   "cell_type": "markdown",
   "id": "b40c0d2a-15c4-40d4-8e79-8901f6473a8e",
   "metadata": {},
   "source": [
    "<br>\n",
    "<div dir=rtl id=\"start\" style=\"direction:rtl;line-height:200%;\">\n",
    "\t<font face=\"vazir\" size=7 color='Red'>\n",
    "Strings (رشته‌ها)\n",
    "    </font>\n",
    "</div>"
   ]
  },
  {
   "cell_type": "markdown",
   "id": "88e0c694-b2a0-4bf7-99c8-ad89f3b46f46",
   "metadata": {
    "id": "ZRjNvNoBmES8"
   },
   "source": [
    "<p dir=rtl style=\"direction: rtl;text-align: right;line-height:200%;font-family:vazir;font-size:medium\">\n",
    "<font face=\"vazir\" size=4>\n",
    "stringها یک رشته‌ای از کاراکترها هستند که بین دو تا ' ' یا \" \" تعریف می‌شوند. در پایتون 'hello' و \"hello\" یک معنا دارند. \n",
    "    <br>\n",
    "اگر بخواهیم داخل رشته یک دبل کوت (\") داشته باشیم، دور رشته باید از سینگل کوت (') استفاده کنیم.\n",
    "    </font>\n",
    "    </vib>\n",
    "    \n",
    "```python\n",
    "learn = 'if you want to use \"double quote\" in your sentensec'\n",
    "```\n",
    "</p>"
   ]
  },
  {
   "cell_type": "markdown",
   "id": "eba5fdae-d6e0-48d0-bab4-27853f141100",
   "metadata": {
    "id": "ZRjNvNoBmES8"
   },
   "source": [
    "<p dir=rtl style=\"direction: rtl;text-align: right;line-height:200%;font-family:vazir;font-size:medium\">\n",
    "<font face=\"vazir\" size=4>\n",
    "برای رشته‌های طولانی از ۳ تا دبل کوت استفاده می‌کنیم. در این حالت وقتی به خط بعد می‌رویم پایتون متوجه می‌شود که این ادامه‌ی خط قبلی است. بعد هنگام پرینت، enterها را با (\\n) جایگزین می‌کند.\n",
    "    </font>\n",
    "</p>"
   ]
  },
  {
   "cell_type": "code",
   "execution_count": 6,
   "id": "5a160072-2b9e-47c2-8366-16666f8a40d1",
   "metadata": {},
   "outputs": [
    {
     "data": {
      "text/plain": [
       "' this is to show that\\nI can go to the next line\\nor use this \" character'"
      ]
     },
     "execution_count": 6,
     "metadata": {},
     "output_type": "execute_result"
    }
   ],
   "source": [
    "my_string = \"\"\" this is to show that\n",
    "I can go to the next line\n",
    "or use this \" character\"\"\"\n",
    "my_string"
   ]
  },
  {
   "cell_type": "markdown",
   "id": "d95fa2c3-56c9-4598-a442-aa9284318765",
   "metadata": {
    "id": "ZRjNvNoBmES8"
   },
   "source": [
    "<p dir=rtl style=\"direction: rtl;text-align: right;line-height:200%;font-family:vazir;font-size:medium\">\n",
    "<font face=\"vazir\" size=4>\n",
    "* رشته‌ها را می‌توانیم مانند لیست فراخوانی کنیم.\n",
    "    </font>\n",
    "</p>"
   ]
  },
  {
   "cell_type": "code",
   "execution_count": 1,
   "id": "b0ea1a0b-652e-49bd-8616-dd0514d12b48",
   "metadata": {},
   "outputs": [
    {
     "data": {
      "text/plain": [
       "'R'"
      ]
     },
     "execution_count": 1,
     "metadata": {},
     "output_type": "execute_result"
    }
   ],
   "source": [
    "name = \"Reha\"\n",
    "name[0]"
   ]
  },
  {
   "cell_type": "markdown",
   "id": "c9cf1ef6-20cf-40f0-b9e4-dc009a10f04a",
   "metadata": {
    "id": "ZRjNvNoBmES8"
   },
   "source": [
    "<p dir=rtl style=\"direction: rtl;text-align: right;line-height:200%;font-family:vazir;font-size:medium\">\n",
    "<font face=\"vazir\" size=4>\n",
    "* اگر دو تا رشته را باهم جمع کنیم، پشت سر هم تایپ می‌کند. می‌توانیم با یک فاصله بین دبل کوت‌ از هم جدا کنیم. \n",
    "    </font>\n",
    "</p>"
   ]
  },
  {
   "cell_type": "code",
   "execution_count": 2,
   "id": "2273257d-7925-4c6a-a5b4-bedbac65d85a",
   "metadata": {},
   "outputs": [
    {
     "data": {
      "text/plain": [
       "'Rehahome'"
      ]
     },
     "execution_count": 2,
     "metadata": {},
     "output_type": "execute_result"
    }
   ],
   "source": [
    "org = 'home'\n",
    "name+org"
   ]
  },
  {
   "cell_type": "code",
   "execution_count": 3,
   "id": "8ef261ae-cfd3-492a-8bc5-6392f98e8c4a",
   "metadata": {},
   "outputs": [
    {
     "data": {
      "text/plain": [
       "'Reha home'"
      ]
     },
     "execution_count": 3,
     "metadata": {},
     "output_type": "execute_result"
    }
   ],
   "source": [
    "name+\" \"+org"
   ]
  },
  {
   "cell_type": "markdown",
   "id": "5580f0a4-4504-47f3-954b-d3e678205d15",
   "metadata": {
    "id": "ZRjNvNoBmES8"
   },
   "source": [
    "<p dir=rtl style=\"direction: rtl;text-align: right;line-height:200%;font-family:vazir;font-size:medium\">\n",
    "<font face=\"vazir\" size=4>\n",
    "* رشته را می‌توانیم در یک عدد ضرب کنیم و به تعداد اون عدد رشته را تکرار می‌کند.\n",
    "    </font>\n",
    "</p>"
   ]
  },
  {
   "cell_type": "code",
   "execution_count": 4,
   "id": "51308faa-8151-4ca5-aff4-53091904fb47",
   "metadata": {},
   "outputs": [
    {
     "data": {
      "text/plain": [
       "'homehomehome'"
      ]
     },
     "execution_count": 4,
     "metadata": {},
     "output_type": "execute_result"
    }
   ],
   "source": [
    "3*org"
   ]
  },
  {
   "cell_type": "markdown",
   "id": "51e6de11-8cb3-4b82-8e15-08f277a836c3",
   "metadata": {
    "id": "ZRjNvNoBmES8"
   },
   "source": [
    "<p dir=rtl style=\"direction: rtl;text-align: right;line-height:200%;font-family:vazir;font-size:medium\">\n",
    "<font face=\"vazir\" size=4>\n",
    "با تابع str می‌توانیم عدد را تبدیل به رشته کنیم.\n",
    "    </font>\n",
    "</p>"
   ]
  },
  {
   "cell_type": "code",
   "execution_count": 5,
   "id": "59c3a145-a5fb-4258-91e2-00734256d211",
   "metadata": {},
   "outputs": [
    {
     "data": {
      "text/plain": [
       "'3'"
      ]
     },
     "execution_count": 5,
     "metadata": {},
     "output_type": "execute_result"
    }
   ],
   "source": [
    "str(3)"
   ]
  },
  {
   "cell_type": "markdown",
   "id": "313d05d0-bdb3-42dd-a05a-7002a5b8fd54",
   "metadata": {},
   "source": [
    "<br>\n",
    "<div dir=rtl id=\"start\" style=\"direction:rtl;line-height:200%;\">\n",
    "\t<font face=\"vazir\" size=6 color='darkorange'>\n",
    "Encoding (کدگذاری کاراکتر)\n",
    "    </font>    \n",
    "</p>"
   ]
  },
  {
   "cell_type": "markdown",
   "id": "17ffd66d-907d-483f-9092-68a60fb1945a",
   "metadata": {
    "id": "ZRjNvNoBmES8"
   },
   "source": [
    "<p dir=rtl style=\"direction: rtl;text-align: right;line-height:200%;font-family:vazir;font-size:medium\">\n",
    "<font face=\"vazir\" size=4>\n",
    "استاندارد ASCI و UTF-8 داریم.\n",
    "    <br>\n",
    "    پایتون از استاندارد UTF_8 استفاده می‌کند. هر کاراکتر به یک عدد مربوط می‌شود. دستور ord عدد مربوط به کاراکتر را نشان می‌دهد.\n",
    "    </font>\n",
    "</p>"
   ]
  },
  {
   "cell_type": "code",
   "execution_count": 6,
   "id": "0dde5635-b3a9-4bbe-8358-b2390eaac48f",
   "metadata": {},
   "outputs": [
    {
     "data": {
      "text/plain": [
       "65"
      ]
     },
     "execution_count": 6,
     "metadata": {},
     "output_type": "execute_result"
    }
   ],
   "source": [
    "ord('A')"
   ]
  },
  {
   "cell_type": "markdown",
   "id": "364d5c7a-f186-42f8-91c9-37550a2c5dc0",
   "metadata": {
    "id": "ZRjNvNoBmES8"
   },
   "source": [
    "<p dir=rtl style=\"direction: rtl;text-align: right;line-height:200%;font-family:vazir;font-size:medium\">\n",
    "<font face=\"vazir\" size=4>\n",
    "دستور chr کاراکتر مربوط به عدد را به ما می‌دهد.\n",
    "    </font>\n",
    "</p>"
   ]
  },
  {
   "cell_type": "code",
   "execution_count": 7,
   "id": "6fdc1590-f10a-45a8-b060-ccebfde627eb",
   "metadata": {},
   "outputs": [
    {
     "data": {
      "text/plain": [
       "'A'"
      ]
     },
     "execution_count": 7,
     "metadata": {},
     "output_type": "execute_result"
    }
   ],
   "source": [
    "chr(65)"
   ]
  },
  {
   "cell_type": "markdown",
   "id": "e91fdae5-71bb-4a36-b030-36c0c526f746",
   "metadata": {
    "id": "ZRjNvNoBmES8"
   },
   "source": [
    "<p dir=rtl style=\"direction: rtl;text-align: right;line-height:200%;font-family:vazir;font-size:medium\">\n",
    "<font face=\"vazir\" size=3, color='midnightblue'>\n",
    "* با استفاده از این اعداد پایتون وقتی یک string دریافت می‌کند عناصر آن را در حافظه‌اش نگهداری می‌کند.\n",
    "    </font>\n",
    "</p>"
   ]
  },
  {
   "cell_type": "markdown",
   "id": "95679ccf-99af-4e21-8f99-4e09155f0656",
   "metadata": {},
   "source": [
    "<br>\n",
    "<div dir=rtl id=\"start\" style=\"direction:rtl;line-height:200%;\">\n",
    "\t<font face=\"vazir\" size=6 color='gold'>\n",
    "Escape Sequence\n",
    "    </font>    \n",
    "</p>"
   ]
  },
  {
   "cell_type": "markdown",
   "id": "1ea8c0f0-edf2-4f4a-9132-a75bb556a36e",
   "metadata": {
    "id": "ZRjNvNoBmES8"
   },
   "source": [
    "<p dir=rtl style=\"direction: rtl;text-align: right;line-height:200%;font-family:vazir;font-size:medium\">\n",
    "<font face=\"vazir\" size=4>\n",
    "برای آنکه در یک خط پرینت به خط بعدی برود و پرینت کند، از کاراکتر n\\ استفاده می‌کنیم.\n",
    "    <br>\n",
    "کاراکتر \\t به جای خط بعدی فاصله می‌اندازد.\n",
    "    </font>\n",
    "</p>"
   ]
  },
  {
   "cell_type": "code",
   "execution_count": 9,
   "id": "7992eaf3-6e00-47d7-b465-a72655e74c44",
   "metadata": {},
   "outputs": [
    {
     "name": "stdout",
     "output_type": "stream",
     "text": [
      "the\n",
      "last\n",
      "value\n"
     ]
    }
   ],
   "source": [
    "print(\"the\\nlast\\nvalue\")"
   ]
  },
  {
   "cell_type": "code",
   "execution_count": 10,
   "id": "7cdcc033-2496-4f14-a114-5e19410a608c",
   "metadata": {},
   "outputs": [
    {
     "name": "stdout",
     "output_type": "stream",
     "text": [
      "the\tlast\tvalue\n"
     ]
    }
   ],
   "source": [
    "print(\"the\\tlast\\tvalue\")"
   ]
  },
  {
   "cell_type": "markdown",
   "id": "b50f7a1f-9317-41cd-a26b-a1bf4481e894",
   "metadata": {
    "id": "ZRjNvNoBmES8"
   },
   "source": [
    "<p dir=rtl style=\"direction: rtl;text-align: right;line-height:200%;font-family:vazir;font-size:medium\">\n",
    "<font face=\"vazir\" size=4>\n",
    "برای آنکه چند متغیر را در چند خط پرینت کنیم از دستور زیر استفاده می‌کنیم.\n",
    "    </font>\n",
    "</p>"
   ]
  },
  {
   "cell_type": "markdown",
   "id": "2a2790d4-6ed1-4638-8db2-b407c115bc69",
   "metadata": {
    "id": "ZRjNvNoBmES8"
   },
   "source": [
    "<p dir=rtl style=\"direction: rtl;text-align: right;line-height:200%;font-family:vazir;font-size:medium\">\n",
    "<font face=\"vazir\" size=4>\n",
    "    </font>\n",
    "    </div>\n",
    "    \n",
    "```python\n",
    "print(var1, var2, var3, sep='\\n')\n",
    "```\n",
    "</p>"
   ]
  },
  {
   "cell_type": "code",
   "execution_count": 2,
   "id": "5fddc24c-be21-4a93-891a-4deeb315eac4",
   "metadata": {},
   "outputs": [
    {
     "name": "stdout",
     "output_type": "stream",
     "text": [
      "1\n",
      "2\n",
      "3\n"
     ]
    }
   ],
   "source": [
    "x = 1\n",
    "y = 2\n",
    "z = 3\n",
    "print(x,y,z,sep='\\n')"
   ]
  },
  {
   "cell_type": "markdown",
   "id": "ab6b0f26-1678-448d-ad97-54b028853451",
   "metadata": {
    "id": "ZRjNvNoBmES8"
   },
   "source": [
    "<p dir=rtl style=\"direction: rtl;text-align: right;line-height:200%;font-family:vazir;font-size:medium\">\n",
    "<font face=\"vazir\" size=4>\n",
    "اگر وسط یک رشته کاراکتر ' را داشتیم، برای اینکه خطا ندهد قبلش کاراکتر \\ را قرار می‌دهیم.\n",
    "    </font>\n",
    "</p>"
   ]
  },
  {
   "cell_type": "code",
   "execution_count": 11,
   "id": "ee2c0b6f-355b-47a1-8eed-b8b5fbb79753",
   "metadata": {},
   "outputs": [
    {
     "name": "stdout",
     "output_type": "stream",
     "text": [
      "my brother's name is ...\n"
     ]
    }
   ],
   "source": [
    "print(\"my brother\\'s name is ...\")"
   ]
  },
  {
   "cell_type": "markdown",
   "id": "4707caec-1925-48a6-9f3e-dcc6ac44c0f4",
   "metadata": {
    "id": "ZRjNvNoBmES8"
   },
   "source": [
    "<p dir=rtl style=\"direction: rtl;text-align: right;line-height:200%;font-family:vazir;font-size:medium\">\n",
    "<font face=\"vazir\" size=4>\n",
    "اگر بخواهیم در خروجی کاراکتر \" را داشته باشیم و پایتون به عنوان دستور نگیرد هم از \\ استفاده می‌کنیم.\n",
    "    </font>\n",
    "</p>"
   ]
  },
  {
   "cell_type": "code",
   "execution_count": 12,
   "id": "9f1e5365-6054-4a38-ae79-c91e909527c6",
   "metadata": {},
   "outputs": [
    {
     "name": "stdout",
     "output_type": "stream",
     "text": [
      "we use this character \" for ...\n"
     ]
    }
   ],
   "source": [
    "print(\"we use this character \\\" for ...\")"
   ]
  },
  {
   "cell_type": "markdown",
   "id": "26f50b58-2401-4325-956f-670ad952c542",
   "metadata": {
    "id": "ZRjNvNoBmES8"
   },
   "source": [
    "<p dir=rtl style=\"direction: rtl;text-align: right;line-height:200%;font-family:vazir;font-size:medium\">\n",
    "<font face=\"vazir\" size=3, color='midnightblue'>\n",
    "* با سرچ عبارت python escape sequence کاراکترهای مختلفی را برای back slash (\\) می‌توان معرفی کرد.\n",
    "    </font>\n",
    "</p>"
   ]
  },
  {
   "cell_type": "markdown",
   "id": "b85c12f0-c4fc-4e9a-9ec3-fb1d941dd96e",
   "metadata": {},
   "source": [
    "<br>\n",
    "<div dir=rtl id=\"start\" style=\"direction:rtl;line-height:200%;\">\n",
    "\t<font face=\"vazir\" size=6 color='darkorange'>\n",
    "String Methods (متدهای رشته)\n",
    "    </font>    \n",
    "</p>"
   ]
  },
  {
   "cell_type": "markdown",
   "id": "adfdec3d-0e24-46c1-b179-2b316aec1c7e",
   "metadata": {
    "id": "ZRjNvNoBmES8"
   },
   "source": [
    "<p dir=rtl style=\"direction: rtl;text-align: right;line-height:200%;font-family:vazir;font-size:medium\">\n",
    "<font face=\"vazir\" size=4>\n",
    "رشته‌ها immutable هستند یعنی بعد از اینکه یک رشته ایجاد شد نمی‌توان آن را تغییر داد. نمی‌توان وسط چیزی اضافه کرد. بنابراین متدها روی خود رشته‌ها کار نمی‌کنند و رشته‌ی جدید را برمی‌گردانند.\n",
    "    <br>\n",
    "    تعدادی از متدهای مرسوم: count, replace, split\n",
    "    </font>\n",
    "</p>"
   ]
  },
  {
   "cell_type": "markdown",
   "id": "a7d43a0c-1016-47a3-ad21-cb4856c319b6",
   "metadata": {},
   "source": [
    "<br>\n",
    "<div dir=rtl id=\"start\" style=\"direction:rtl;line-height:200%;\">\n",
    "\t<font face=\"vazir\" size=6 color='gold'>\n",
    "count\n",
    "    </font>    \n",
    "</p>"
   ]
  },
  {
   "cell_type": "markdown",
   "id": "c29c58e4-ed0b-4835-87bf-8627d76c6228",
   "metadata": {
    "id": "ZRjNvNoBmES8"
   },
   "source": [
    "<p dir=rtl style=\"direction: rtl;text-align: right;line-height:200%;font-family:vazir;font-size:medium\">\n",
    "<font face=\"vazir\" size=4>\n",
    "یک کاراکتر را در کل رشته می‌شمرد. می‌توانیم بگوییم از کاراکتر چندم تا چندم بشمرد.\n",
    "    </font>\n",
    "</p>"
   ]
  },
  {
   "cell_type": "code",
   "execution_count": 13,
   "id": "f01217c9-e7bf-468f-ba2e-662c51389bc9",
   "metadata": {},
   "outputs": [
    {
     "data": {
      "text/plain": [
       "8"
      ]
     },
     "execution_count": 13,
     "metadata": {},
     "output_type": "execute_result"
    }
   ],
   "source": [
    "s = 'It will return the total count of a given element in a string'\n",
    "s.count('t')"
   ]
  },
  {
   "cell_type": "code",
   "execution_count": 14,
   "id": "840dff57-3bab-4189-b9e2-2e25205888da",
   "metadata": {},
   "outputs": [
    {
     "data": {
      "text/plain": [
       "2"
      ]
     },
     "execution_count": 14,
     "metadata": {},
     "output_type": "execute_result"
    }
   ],
   "source": [
    "s.count('t',20,30)"
   ]
  },
  {
   "cell_type": "markdown",
   "id": "7c8fc7e2-c3dc-4431-90c9-8b7f754032e9",
   "metadata": {},
   "source": [
    "<br>\n",
    "<div dir=rtl id=\"start\" style=\"direction:rtl;line-height:200%;\">\n",
    "\t<font face=\"vazir\" size=6 color='gold'>\n",
    "replace\n",
    "    </font>    \n",
    "</p>"
   ]
  },
  {
   "cell_type": "markdown",
   "id": "00d7a995-228f-477b-9197-08afe00665a8",
   "metadata": {
    "id": "ZRjNvNoBmES8"
   },
   "source": [
    "<p dir=rtl style=\"direction: rtl;text-align: right;line-height:200%;font-family:vazir;font-size:medium\">\n",
    "<font face=\"vazir\" size=4>\n",
    "یک کاراکتر را در رشته با کاراکتر دیگری جایگزین می‌کنیم ولی رشته اول تغییر نمی‌کند و اگر \\رینت بگیریم همان اولی را برمی‌گرداند.\n",
    "    </font>\n",
    "</p>"
   ]
  },
  {
   "cell_type": "markdown",
   "id": "040dc212-12f4-469d-b7bd-1939a1b7476a",
   "metadata": {
    "id": "ZRjNvNoBmES8"
   },
   "source": [
    "<p dir=rtl style=\"direction: rtl;text-align: right;line-height:200%;font-family:vazir;font-size:medium\">\n",
    "<font face=\"vazir\" size=4>\n",
    "    </font>\n",
    "    </div>\n",
    "    \n",
    "```python\n",
    "string.replace(old , new , count)\n",
    "```    \n",
    "</p>"
   ]
  },
  {
   "cell_type": "markdown",
   "id": "53df7f4b-af39-4b75-87d5-4b3a47116a25",
   "metadata": {
    "id": "ZRjNvNoBmES8"
   },
   "source": [
    "<p dir=rtl style=\"direction: rtl;text-align: right;line-height:200%;font-family:vazir;font-size:medium\">\n",
    "<font face=\"vazir\" size=4>\n",
    "count مشخص می‌کند چه تعداد از کاراکتر old را با کاراکتر new جایگزین کنیم.\n",
    "    </font>\n",
    "</p>"
   ]
  },
  {
   "cell_type": "code",
   "execution_count": 1,
   "id": "257fd232-8835-4c5d-8d41-c3e158f23508",
   "metadata": {},
   "outputs": [
    {
     "data": {
      "text/plain": [
       "'This is The new one of the book'"
      ]
     },
     "execution_count": 1,
     "metadata": {},
     "output_type": "execute_result"
    }
   ],
   "source": [
    "s = \"this is the new one of the book\"\n",
    "s.replace(\"t\",\"T\",2)"
   ]
  },
  {
   "cell_type": "code",
   "execution_count": 2,
   "id": "cdc44167-c2b1-4307-8801-465670c9eefd",
   "metadata": {},
   "outputs": [
    {
     "data": {
      "text/plain": [
       "'this is the new one of the book'"
      ]
     },
     "execution_count": 2,
     "metadata": {},
     "output_type": "execute_result"
    }
   ],
   "source": [
    "s"
   ]
  },
  {
   "cell_type": "markdown",
   "id": "4c5cc075-d5be-40fa-ac46-f2712a2b3ee7",
   "metadata": {},
   "source": [
    "<br>\n",
    "<div dir=rtl id=\"start\" style=\"direction:rtl;line-height:200%;\">\n",
    "\t<font face=\"vazir\" size=6 color='gold'>\n",
    "split\n",
    "    </font>    \n",
    "</p>"
   ]
  },
  {
   "cell_type": "markdown",
   "id": "6b865c71-aa25-4a13-b3fa-c6c887028647",
   "metadata": {
    "id": "ZRjNvNoBmES8"
   },
   "source": [
    "<p dir=rtl style=\"direction: rtl;text-align: right;line-height:200%;font-family:vazir;font-size:medium\">\n",
    "<font face=\"vazir\" size=4>\n",
    "رشته را تکه تکه می‌کند و یک لیست درست می‌کند. (هر جا که space دارد.)\n",
    "    </font>\n",
    "</p>"
   ]
  },
  {
   "cell_type": "code",
   "execution_count": 3,
   "id": "41bbf092-d4cf-4a01-a510-d15be191aedc",
   "metadata": {},
   "outputs": [
    {
     "data": {
      "text/plain": [
       "['Hello', 'and', 'Good', 'morning']"
      ]
     },
     "execution_count": 3,
     "metadata": {},
     "output_type": "execute_result"
    }
   ],
   "source": [
    "s = \"Hello and Good morning\"\n",
    "s.split()"
   ]
  },
  {
   "cell_type": "markdown",
   "id": "4dd52d99-4cbf-4906-bc7b-dd0860510f62",
   "metadata": {
    "id": "ZRjNvNoBmES8"
   },
   "source": [
    "<p dir=rtl style=\"direction: rtl;text-align: right;line-height:200%;font-family:vazir;font-size:medium\">\n",
    "<font face=\"vazir\" size=3, color='midnightblue'>\n",
    "* می‌توانیم بهش seprator بدهیم و بگوییم از کجا جدا کند. مثلا در دستور زیر می‌گوییم هر جا به نقطه رسیدی جدا کن.\n",
    "    </font> \n",
    "</p>"
   ]
  },
  {
   "cell_type": "markdown",
   "id": "06f24414-98b8-4062-9c6b-5f84173bef44",
   "metadata": {
    "id": "ZRjNvNoBmES8"
   },
   "source": [
    "<p dir=rtl style=\"direction: rtl;text-align: right;line-height:200%;font-family:vazir;font-size:medium\">\n",
    "<font face=\"vazir\" size=3, color='midnightblue'>\n",
    "    </font>\n",
    "    </div>\n",
    "    \n",
    "```python\n",
    "string.split('.')\n",
    "```   \n",
    "</p>"
   ]
  },
  {
   "cell_type": "markdown",
   "id": "d9452014-20fb-4fd0-93ff-cff538e716dc",
   "metadata": {
    "id": "ZRjNvNoBmES8"
   },
   "source": [
    "<p dir=rtl style=\"direction: rtl;text-align: right;line-height:200%;font-family:vazir;font-size:medium\">\n",
    "<font face=\"vazir\" size=3, color='midnightblue'>\n",
    "* می‌توانیم count هم بدهیم که چند تا جدا کند.\n",
    "    </font> \n",
    "</p>"
   ]
  },
  {
   "cell_type": "markdown",
   "id": "4e7cd404-6460-42f0-9d13-d534508b6275",
   "metadata": {
    "id": "ZRjNvNoBmES8"
   },
   "source": [
    "<p dir=rtl style=\"direction: rtl;text-align: right;line-height:200%;font-family:vazir;font-size:medium\">\n",
    "<font face=\"vazir\" size=3, color='midnightblue'>\n",
    "    </font>\n",
    "    </div>\n",
    "    \n",
    "```python\n",
    "string.split('character',number)\n",
    "```   \n",
    "</p>"
   ]
  },
  {
   "cell_type": "code",
   "execution_count": 6,
   "id": "166f815c-cfa6-4e7f-b94f-2eab77c92018",
   "metadata": {},
   "outputs": [
    {
     "data": {
      "text/plain": [
       "['apple', 'banana#cherry#orange']"
      ]
     },
     "execution_count": 6,
     "metadata": {},
     "output_type": "execute_result"
    }
   ],
   "source": [
    "txt = \"apple#banana#cherry#orange\"\n",
    "\n",
    "txt.split(\"#\", 1)"
   ]
  },
  {
   "cell_type": "markdown",
   "id": "356df132-3e16-44f6-93bc-827c22df5405",
   "metadata": {},
   "source": [
    "<br>\n",
    "<div dir=rtl id=\"start\" style=\"direction:rtl;line-height:200%;\">\n",
    "\t<font face=\"vazir\" size=6 color='gold'>\n",
    "capitalize\n",
    "    </font>    \n",
    "</p>"
   ]
  },
  {
   "cell_type": "markdown",
   "id": "f2a10679-a8cb-4ded-b092-3d4e4d82da60",
   "metadata": {
    "id": "ZRjNvNoBmES8"
   },
   "source": [
    "<p dir=rtl style=\"direction: rtl;text-align: right;line-height:200%;font-family:vazir;font-size:medium\">\n",
    "<font face=\"vazir\" size=4>\n",
    "اولین کاراکتر رشته را به حرف بزرگ تبدیل می‌کند.\n",
    "    </font>\n",
    "</p>"
   ]
  },
  {
   "cell_type": "code",
   "execution_count": 2,
   "id": "f7808668-17a5-4672-a142-13fa7e53d062",
   "metadata": {},
   "outputs": [
    {
     "data": {
      "text/plain": [
       "'Hello and good morning'"
      ]
     },
     "execution_count": 2,
     "metadata": {},
     "output_type": "execute_result"
    }
   ],
   "source": [
    "s = \"hello and Good morning\"\n",
    "s.capitalize()"
   ]
  },
  {
   "cell_type": "markdown",
   "id": "a74f89e1-6afd-4513-989f-4bcfc4d852dd",
   "metadata": {},
   "source": [
    "<br>\n",
    "<div dir=rtl id=\"start\" style=\"direction:rtl;line-height:200%;\">\n",
    "\t<font face=\"vazir\" size=6 color='gold'>\n",
    "format\n",
    "    </font>    \n",
    "</p>"
   ]
  },
  {
   "cell_type": "markdown",
   "id": "5af39252-7fa9-4269-977d-f08277e8af3f",
   "metadata": {
    "id": "ZRjNvNoBmES8"
   },
   "source": [
    "<p dir=rtl style=\"direction: rtl;text-align: right;line-height:200%;font-family:vazir;font-size:medium\">\n",
    "<font face=\"vazir\" size=4>\n",
    "رشته را قالب‌بندی می‌کند.\n",
    "    </font>\n",
    "</p>"
   ]
  },
  {
   "cell_type": "code",
   "execution_count": 4,
   "id": "5307224f-ff5b-4664-a03e-15714d1ec110",
   "metadata": {},
   "outputs": [
    {
     "data": {
      "text/plain": [
       "'The sum of a and b is 40 and their product is 300'"
      ]
     },
     "execution_count": 4,
     "metadata": {},
     "output_type": "execute_result"
    }
   ],
   "source": [
    "a = 10\n",
    "b = 30\n",
    "\"The sum of a and b is {0} and their product is {1}\".format(a+b,a*b)"
   ]
  },
  {
   "cell_type": "markdown",
   "id": "cd7ae703-c9eb-4d55-99a8-dfb493083f37",
   "metadata": {},
   "source": [
    "<br>\n",
    "<div dir=rtl id=\"start\" style=\"direction:rtl;line-height:200%;\">\n",
    "\t<font face=\"vazir\" size=7 color='Red'>\n",
    "Dictionaries (دیکشنری‌ها)\n",
    "    </font>\n",
    "</div>"
   ]
  },
  {
   "cell_type": "markdown",
   "id": "453e297d-e465-4b3c-a1bb-ccbce4a3c637",
   "metadata": {
    "id": "ZRjNvNoBmES8"
   },
   "source": [
    "<p dir=rtl style=\"direction: rtl;text-align: right;line-height:200%;font-family:vazir;font-size:medium\">\n",
    "<font face=\"vazir\" size=4>\n",
    "برای تعریف از {} استفاده می‌کنیم. برای فراخوانی از [] استفاده می‌کنیم. در دیکشنری یک سری key داریم یک سری value که با : آنها به هم مربوط می‌شوند.\n",
    "    <br>\n",
    "    برخلاف لیست ترتیب ندارد و index آن عدد نیست پس برای فراخوانی با key فراخوانی می‌شود.\n",
    "    </font>\n",
    "    </div>\n",
    "    \n",
    "```python\n",
    "name = {'key1':value1,'key2':value2}\n",
    "name['key1']\n",
    "```   \n",
    "</p>"
   ]
  },
  {
   "cell_type": "code",
   "execution_count": 2,
   "id": "6a7fd7fe-ca93-4fed-aae3-9fbc98e2dfa6",
   "metadata": {},
   "outputs": [
    {
     "data": {
      "text/plain": [
       "'fun'"
      ]
     },
     "execution_count": 2,
     "metadata": {},
     "output_type": "execute_result"
    }
   ],
   "source": [
    "my_dict = {'dog':'fun','ghad':80}\n",
    "my_dict['dog']"
   ]
  },
  {
   "cell_type": "markdown",
   "id": "5aca85b2-0214-49d3-a7ef-054f7151e739",
   "metadata": {
    "id": "ZRjNvNoBmES8"
   },
   "source": [
    "<p dir=rtl style=\"direction: rtl;text-align: right;line-height:200%;font-family:vazir;font-size:medium\">\n",
    "<font face=\"vazir\" size=4>\n",
    "برای اضافه کردن key آن را داخل براکت [] تعریف می‌کنیم و برابر value قرار می‌دهیم.\n",
    "    </font>\n",
    "    </div>\n",
    "    \n",
    "```python\n",
    "name['key3'] = value3\n",
    "```   \n",
    "</p>\n"
   ]
  },
  {
   "cell_type": "code",
   "execution_count": 3,
   "id": "26536352-9615-4935-99e0-fd4e41894b6e",
   "metadata": {},
   "outputs": [
    {
     "data": {
      "text/plain": [
       "{'dog': 'fun', 'ghad': 80, 'age': 2}"
      ]
     },
     "execution_count": 3,
     "metadata": {},
     "output_type": "execute_result"
    }
   ],
   "source": [
    "my_dict['age'] = 2\n",
    "my_dict"
   ]
  },
  {
   "cell_type": "markdown",
   "id": "a8148748-48b1-4aa3-9049-248f35567db0",
   "metadata": {
    "id": "ZRjNvNoBmES8"
   },
   "source": [
    "<p dir=rtl style=\"direction: rtl;text-align: right;line-height:200%;font-family:vazir;font-size:medium\">\n",
    "<font face=\"vazir\" size=4>\n",
    "برای حذف key از del استفاده می‌کنیم.\n",
    "    </font>\n",
    "    </div>\n",
    "    \n",
    "```python\n",
    "del name['key3']\n",
    "```   \n",
    "</p>\n"
   ]
  },
  {
   "cell_type": "code",
   "execution_count": 4,
   "id": "73cb3285-bf02-4691-abe4-72730eef222a",
   "metadata": {},
   "outputs": [
    {
     "data": {
      "text/plain": [
       "{'dog': 'fun', 'ghad': 80}"
      ]
     },
     "execution_count": 4,
     "metadata": {},
     "output_type": "execute_result"
    }
   ],
   "source": [
    "del my_dict['age']\n",
    "my_dict"
   ]
  },
  {
   "cell_type": "markdown",
   "id": "0f43925d-0c7d-484b-8386-c5b59ad6111f",
   "metadata": {},
   "source": [
    "<br>\n",
    "<div dir=rtl id=\"start\" style=\"direction:rtl;line-height:200%;\">\n",
    "\t<font face=\"vazir\" size=6 color='darkorange'>\n",
    "Dictionary Methods (متدهای دیکشنری)\n",
    "    </font>    \n",
    "</p>"
   ]
  },
  {
   "cell_type": "markdown",
   "id": "381c55a2-73c8-4098-b5c6-29f50a3a8655",
   "metadata": {
    "id": "ZRjNvNoBmES8"
   },
   "source": [
    "<p dir=rtl style=\"direction: rtl;text-align: right;line-height:200%;font-family:vazir;font-size:medium\">\n",
    "<font face=\"vazir\" size=4>\n",
    "متدها توابعی هستند که روی یک object خاص کار می‌کنند.\n",
    "    </font>\n",
    "</p>\n"
   ]
  },
  {
   "cell_type": "markdown",
   "id": "0dd4a767-2f2e-43f9-a851-be6104dfc4d2",
   "metadata": {},
   "source": [
    "<br>\n",
    "<div dir=rtl id=\"start\" style=\"direction:rtl;line-height:200%;\">\n",
    "\t<font face=\"vazir\" size=6 color='gold'>\n",
    "clear\n",
    "    </font>    \n",
    "</p>"
   ]
  },
  {
   "cell_type": "markdown",
   "id": "72874c5a-c862-4854-a74d-8f8c492acb1e",
   "metadata": {
    "id": "ZRjNvNoBmES8"
   },
   "source": [
    "<p dir=rtl style=\"direction: rtl;text-align: right;line-height:200%;font-family:vazir;font-size:medium\">\n",
    "<font face=\"vazir\" size=4>\n",
    "کل دیکشنری را پاک می‌کند ولی همچنان type آن dict می‌ماند.\n",
    "    </font>\n",
    "</p>\n"
   ]
  },
  {
   "cell_type": "code",
   "execution_count": 6,
   "id": "533d8d0c-1cc3-4cd2-93d5-d62baf9269b7",
   "metadata": {},
   "outputs": [
    {
     "data": {
      "text/plain": [
       "{}"
      ]
     },
     "execution_count": 6,
     "metadata": {},
     "output_type": "execute_result"
    }
   ],
   "source": [
    "my_dict.clear()\n",
    "my_dict"
   ]
  },
  {
   "cell_type": "markdown",
   "id": "675f55d1-b3b2-406c-9b64-0deeedde4059",
   "metadata": {},
   "source": [
    "<br>\n",
    "<div dir=rtl id=\"start\" style=\"direction:rtl;line-height:200%;\">\n",
    "\t<font face=\"vazir\" size=6 color='gold'>\n",
    "get\n",
    "    </font>    \n",
    "</p>"
   ]
  },
  {
   "cell_type": "markdown",
   "id": "4ab31970-f694-4151-9e1b-146cf5a9420d",
   "metadata": {
    "id": "ZRjNvNoBmES8"
   },
   "source": [
    "<p dir=rtl style=\"direction: rtl;text-align: right;line-height:200%;font-family:vazir;font-size:medium\">\n",
    "<font face=\"vazir\" size=4>\n",
    "در واقع برای ما key را فراخوانی می‌کند اما تفاوت از زمانی است که اسم dict را با [] می‌نویسیم و key را فراخوانی می‌کنیم.\n",
    "    <br>\n",
    "    وقتی که یک key را با [] فراخانی می‌کنیم، اگر آن key داخل dict نباشد خطا می‌دهد. اما اگر با get صدا بزنیم، چیزی برنمی‌گرداند (در حالت default) و میتوانیم بگوییم اگر نبود چه چیزی را جایگزین کند.\n",
    "    </font>\n",
    "</p>\n"
   ]
  },
  {
   "cell_type": "code",
   "execution_count": 7,
   "id": "ed02bf86-e79c-4508-8a16-469393d4215c",
   "metadata": {},
   "outputs": [
    {
     "ename": "KeyError",
     "evalue": "'age'",
     "output_type": "error",
     "traceback": [
      "\u001b[1;31m---------------------------------------------------------------------------\u001b[0m",
      "\u001b[1;31mKeyError\u001b[0m                                  Traceback (most recent call last)",
      "\u001b[1;32m~\\AppData\\Local\\Temp/ipykernel_10256/2829676585.py\u001b[0m in \u001b[0;36m<module>\u001b[1;34m\u001b[0m\n\u001b[1;32m----> 1\u001b[1;33m \u001b[0mmy_dict\u001b[0m\u001b[1;33m[\u001b[0m\u001b[1;34m'age'\u001b[0m\u001b[1;33m]\u001b[0m\u001b[1;33m\u001b[0m\u001b[1;33m\u001b[0m\u001b[0m\n\u001b[0m",
      "\u001b[1;31mKeyError\u001b[0m: 'age'"
     ]
    }
   ],
   "source": [
    "my_dict['age']"
   ]
  },
  {
   "cell_type": "code",
   "execution_count": 8,
   "id": "95633f53-8cae-49b5-a50e-056ed49c8b11",
   "metadata": {},
   "outputs": [],
   "source": [
    "my_dict.get('age')"
   ]
  },
  {
   "cell_type": "code",
   "execution_count": 9,
   "id": "55697b7f-f240-48e0-a487-1d9becc02466",
   "metadata": {},
   "outputs": [
    {
     "data": {
      "text/plain": [
       "2"
      ]
     },
     "execution_count": 9,
     "metadata": {},
     "output_type": "execute_result"
    }
   ],
   "source": [
    "my_dict.get('age',2)"
   ]
  },
  {
   "cell_type": "markdown",
   "id": "f7719fec-5989-4b11-bc2a-424269f6970a",
   "metadata": {},
   "source": [
    "<br>\n",
    "<div dir=rtl id=\"start\" style=\"direction:rtl;line-height:200%;\">\n",
    "\t<font face=\"vazir\" size=6 color='gold'>\n",
    "keys\n",
    "    </font>    \n",
    "</p>"
   ]
  },
  {
   "cell_type": "markdown",
   "id": "b4834160-a379-4b41-8c87-e2472e3472a1",
   "metadata": {
    "id": "ZRjNvNoBmES8"
   },
   "source": [
    "<p dir=rtl style=\"direction: rtl;text-align: right;line-height:200%;font-family:vazir;font-size:medium\">\n",
    "<font face=\"vazir\" size=4>\n",
    "keyهای داخل dict را برمیگرداند.\n",
    "    </font>\n",
    "</p>\n"
   ]
  },
  {
   "cell_type": "code",
   "execution_count": 11,
   "id": "dae2c4a5-8f6b-4bd2-86ec-14ad94ccfbc4",
   "metadata": {},
   "outputs": [
    {
     "data": {
      "text/plain": [
       "dict_keys(['dog', 'ghad', 'age'])"
      ]
     },
     "execution_count": 11,
     "metadata": {},
     "output_type": "execute_result"
    }
   ],
   "source": [
    "my_dict = {'dog':'fun','ghad':80,'age':2}\n",
    "my_dict.keys()"
   ]
  },
  {
   "cell_type": "markdown",
   "id": "9d36c44e-8cf3-464b-a4b3-5142c7ce7bc6",
   "metadata": {},
   "source": [
    "<br>\n",
    "<div dir=rtl id=\"start\" style=\"direction:rtl;line-height:200%;\">\n",
    "\t<font face=\"vazir\" size=6 color='gold'>\n",
    "values\n",
    "    </font>    \n",
    "</p>"
   ]
  },
  {
   "cell_type": "markdown",
   "id": "4c19402c-fa69-4eae-b771-55425b9a5e6a",
   "metadata": {
    "id": "ZRjNvNoBmES8"
   },
   "source": [
    "<p dir=rtl style=\"direction: rtl;text-align: right;line-height:200%;font-family:vazir;font-size:medium\">\n",
    "<font face=\"vazir\" size=4>\n",
    "valueهای داخل dict را برمیگرداند.\n",
    "    </font>\n",
    "</p>\n"
   ]
  },
  {
   "cell_type": "code",
   "execution_count": 12,
   "id": "ac4e1e4e-e089-4ee3-a2c2-d643073018e1",
   "metadata": {},
   "outputs": [
    {
     "data": {
      "text/plain": [
       "dict_values(['fun', 80, 2])"
      ]
     },
     "execution_count": 12,
     "metadata": {},
     "output_type": "execute_result"
    }
   ],
   "source": [
    "my_dict.values()"
   ]
  },
  {
   "cell_type": "markdown",
   "id": "170a9678-f7d7-46d1-a381-fe49b7a79827",
   "metadata": {},
   "source": [
    "<br>\n",
    "<div dir=rtl id=\"start\" style=\"direction:rtl;line-height:200%;\">\n",
    "\t<font face=\"vazir\" size=6 color='gold'>\n",
    "update\n",
    "    </font>    \n",
    "</p>"
   ]
  },
  {
   "cell_type": "markdown",
   "id": "4f292c82-6416-44f3-bd01-181b766c94ad",
   "metadata": {
    "id": "ZRjNvNoBmES8"
   },
   "source": [
    "<p dir=rtl style=\"direction: rtl;text-align: right;line-height:200%;font-family:vazir;font-size:medium\">\n",
    "<font face=\"vazir\" size=4>\n",
    "valueهای یک dict جدید را به قبلی اضافه می‌کند. اگر key تکراری داشته باشد، key اولی پاک می‌شود. در واقع key را update می‌کند.\n",
    "    </font>\n",
    "</p>\n"
   ]
  },
  {
   "cell_type": "code",
   "execution_count": 14,
   "id": "acafd319-654a-4d77-8ba3-75ad6d55d1db",
   "metadata": {},
   "outputs": [
    {
     "data": {
      "text/plain": [
       "{'dog': 'fun', 'ghad': 80, 'age': 1, 'cat': 'fun'}"
      ]
     },
     "execution_count": 14,
     "metadata": {},
     "output_type": "execute_result"
    }
   ],
   "source": [
    "my_dict2 = {'cat':'fun','age':1}\n",
    "my_dict.update(my_dict2)\n",
    "my_dict"
   ]
  },
  {
   "cell_type": "markdown",
   "id": "7d041ee3-dca3-4422-bb00-aa13ad3f515a",
   "metadata": {
    "id": "ZRjNvNoBmES8"
   },
   "source": [
    "<p dir=rtl style=\"direction: rtl;text-align: right;line-height:200%;font-family:vazir;font-size:medium\">\n",
    "<font face=\"vazir\" size=4>\n",
    "برای اضافه کردن یک key, value هم می‌توان از این متد با دستور زیر استفاده کرد.\n",
    "    </font>   \n",
    "</p>"
   ]
  },
  {
   "cell_type": "markdown",
   "id": "89ae43fd-d5d1-4156-bb5c-06052124209c",
   "metadata": {
    "id": "ZRjNvNoBmES8"
   },
   "source": [
    "<p dir=rtl style=\"direction: rtl;text-align: right;line-height:200%;font-family:vazir;font-size:medium\">\n",
    "<font face=\"vazir\" size=4>\n",
    "    </font>\n",
    "    </div>\n",
    "    \n",
    "```python\n",
    "name.update([(key,values)])\n",
    "```   \n",
    "</p>"
   ]
  },
  {
   "cell_type": "markdown",
   "id": "48043d64-37cf-4932-b78a-e3b525143f59",
   "metadata": {
    "id": "ZRjNvNoBmES8"
   },
   "source": [
    "<p dir=rtl style=\"direction: rtl;text-align: right;line-height:200%;font-family:vazir;font-size:medium\">\n",
    "<font face=\"vazir\" size=4>\n",
    "یا حتی اضافه کردن چند key, value .\n",
    "    </font>\n",
    "</p>"
   ]
  },
  {
   "cell_type": "markdown",
   "id": "4a1a9747-3920-43ee-a501-6dd00eecfc02",
   "metadata": {
    "id": "ZRjNvNoBmES8"
   },
   "source": [
    "<p dir=rtl style=\"direction: rtl;text-align: right;line-height:200%;font-family:vazir;font-size:medium\">\n",
    "<font face=\"vazir\" size=4>\n",
    "    </font>\n",
    "    </div>\n",
    "    \n",
    "```python\n",
    "name.update([(key1,values1),(key2,values2)])\n",
    "```   \n",
    "</p>"
   ]
  },
  {
   "cell_type": "markdown",
   "id": "a5c80d6e-0926-4bfc-8ad2-f7c3717d561f",
   "metadata": {},
   "source": [
    "<br>\n",
    "<div dir=rtl id=\"start\" style=\"direction:rtl;line-height:200%;\">\n",
    "\t<font face=\"vazir\" size=6 color='gold'>\n",
    "copy\n",
    "    </font>    \n",
    "</p>"
   ]
  },
  {
   "cell_type": "markdown",
   "id": "3e0c08ea-b366-4993-bc28-9c706871b96f",
   "metadata": {
    "id": "ZRjNvNoBmES8"
   },
   "source": [
    "<p dir=rtl style=\"direction: rtl;text-align: right;line-height:200%;font-family:vazir;font-size:medium\">\n",
    "<font face=\"vazir\" size=4>\n",
    "یک کپی سطحی از دیکشنری را برمی‌گرداند.\n",
    "    </font>\n",
    "</p>\n"
   ]
  },
  {
   "cell_type": "markdown",
   "id": "39fe547f-e977-4af4-aaf9-c021465a3a58",
   "metadata": {},
   "source": [
    "<br>\n",
    "<div dir=rtl id=\"start\" style=\"direction:rtl;line-height:200%;\">\n",
    "\t<font face=\"vazir\" size=6 color='gold'>\n",
    "fromkeys\n",
    "    </font>    \n",
    "</p>"
   ]
  },
  {
   "cell_type": "markdown",
   "id": "a8839f7c-eb08-4c63-9fa2-5b90cbcbecc0",
   "metadata": {
    "id": "ZRjNvNoBmES8"
   },
   "source": [
    "<p dir=rtl style=\"direction: rtl;text-align: right;line-height:200%;font-family:vazir;font-size:medium\">\n",
    "<font face=\"vazir\" size=4>\n",
    "یک دیکشنری جدید با کلیدهایی از seq برمی‌گرداند و مقادیر را به مقدار موجود در value تنظیم می‌کند.\n",
    "    </font> \n",
    "</p>\n"
   ]
  },
  {
   "cell_type": "markdown",
   "id": "9e1e415c-7cdd-49d5-b555-d910b9342e9d",
   "metadata": {
    "id": "ZRjNvNoBmES8"
   },
   "source": [
    "<p dir=rtl style=\"direction: rtl;text-align: right;line-height:200%;font-family:vazir;font-size:medium\">\n",
    "<font face=\"vazir\" size=4>\n",
    "    </font>\n",
    "    </div>\n",
    "    \n",
    "```python\n",
    "name.fromkeys(seq[,values])\n",
    "```   \n",
    "</p>\n"
   ]
  },
  {
   "cell_type": "code",
   "execution_count": 17,
   "id": "78726cf8-7b44-4bd3-b0d7-9bd997559d5c",
   "metadata": {},
   "outputs": [
    {
     "data": {
      "text/plain": [
       "{'e': None, 'c': None, 'b': None, 'a': None, 'd': None}"
      ]
     },
     "execution_count": 17,
     "metadata": {},
     "output_type": "execute_result"
    }
   ],
   "source": [
    "seq = {'a', 'b', 'c', 'd', 'e'}\n",
    "# creating dict with default values as None\n",
    "dict1 = dict1.fromkeys(seq)\n",
    "dict1"
   ]
  },
  {
   "cell_type": "code",
   "execution_count": 18,
   "id": "dbc323dd-0787-4c68-aefe-a0a6e248b62b",
   "metadata": {},
   "outputs": [
    {
     "data": {
      "text/plain": [
       "{'e': 1, 'c': 1, 'b': 1, 'a': 1, 'd': 1}"
      ]
     },
     "execution_count": 18,
     "metadata": {},
     "output_type": "execute_result"
    }
   ],
   "source": [
    "dict2 = dict.fromkeys(seq, 1)\n",
    "dict2"
   ]
  },
  {
   "cell_type": "code",
   "execution_count": 19,
   "id": "3033e9c0-d8c0-4a38-a687-6b9e361fecb8",
   "metadata": {},
   "outputs": [
    {
     "data": {
      "text/plain": [
       "{'e': [1, 2, 3, 4],\n",
       " 'c': [1, 2, 3, 4],\n",
       " 'b': [1, 2, 3, 4],\n",
       " 'a': [1, 2, 3, 4],\n",
       " 'd': [1, 2, 3, 4]}"
      ]
     },
     "execution_count": 19,
     "metadata": {},
     "output_type": "execute_result"
    }
   ],
   "source": [
    "dict3 = dict.fromkeys(seq, [1,2,3,4])\n",
    "dict3"
   ]
  },
  {
   "cell_type": "markdown",
   "id": "ffcfaf76-44cc-4441-9023-89f9e41a143a",
   "metadata": {},
   "source": [
    "<br>\n",
    "<div dir=rtl id=\"start\" style=\"direction:rtl;line-height:200%;\">\n",
    "\t<font face=\"vazir\" size=6 color='gold'>\n",
    "setdefault\n",
    "    </font>    \n",
    "</p>"
   ]
  },
  {
   "cell_type": "markdown",
   "id": "12053acd-e62c-4e9d-bb31-664546682a24",
   "metadata": {
    "id": "ZRjNvNoBmES8"
   },
   "source": [
    "<p dir=rtl style=\"direction: rtl;text-align: right;line-height:200%;font-family:vazir;font-size:medium\">\n",
    "<font face=\"vazir\" size=4>\n",
    "اگر key در dict نباشد، آنگاه آنرا با مقدار value اضافه می‌کند.\n",
    "    <br>\n",
    "    در get مقدار به dict اضافه نمی‌شود و فقط مقدار value را برمی‌گرداند.\n",
    "    </font>  \n",
    "</p>\n"
   ]
  },
  {
   "cell_type": "markdown",
   "id": "ed1fd11b-10be-4657-9580-08c67ecd0581",
   "metadata": {
    "id": "ZRjNvNoBmES8"
   },
   "source": [
    "<p dir=rtl style=\"direction: rtl;text-align: right;line-height:200%;font-family:vazir;font-size:medium\">\n",
    "<font face=\"vazir\" size=4>\n",
    "    </font>\n",
    "    </div>\n",
    "    \n",
    "```python\n",
    "name.setdefault(key,value)\n",
    "```   \n",
    "</p>\n"
   ]
  },
  {
   "cell_type": "code",
   "execution_count": 23,
   "id": "e30e0d85-35d4-4ae2-8550-d578a9bd2076",
   "metadata": {},
   "outputs": [
    {
     "data": {
      "text/plain": [
       "{'a': 97, 'b': 98, 'c': 99, 'd': 100, 'e': 32}"
      ]
     },
     "execution_count": 23,
     "metadata": {},
     "output_type": "execute_result"
    }
   ],
   "source": [
    "dict4 = {'a': 97, 'b': 98, 'c': 99, 'd': 100}\n",
    "# space key added using setdefault() method\n",
    "dict4.setdefault('e', 32)\n",
    "dict4"
   ]
  },
  {
   "cell_type": "markdown",
   "id": "5e7a8fb9-8cc6-4fcf-93d2-4c163932d2ab",
   "metadata": {},
   "source": [
    "<br>\n",
    "<div dir=rtl id=\"start\" style=\"direction:rtl;line-height:200%;\">\n",
    "\t<font face=\"vazir\" size=6 color='gold'>\n",
    "items\n",
    "    </font>    \n",
    "</p>"
   ]
  },
  {
   "cell_type": "markdown",
   "id": "051def47-b227-4a75-98fc-2cb009dde786",
   "metadata": {
    "id": "ZRjNvNoBmES8"
   },
   "source": [
    "<p dir=rtl style=\"direction: rtl;text-align: right;line-height:200%;font-family:vazir;font-size:medium\">\n",
    "<font face=\"vazir\" size=4>\n",
    "یک شیئ نمایشی از اقلام dict را برمی‌گرداند.\n",
    "    </font>\n",
    "</p>\n"
   ]
  },
  {
   "cell_type": "code",
   "execution_count": 25,
   "id": "726a67c0-f826-4cfd-9225-5f8679afd559",
   "metadata": {},
   "outputs": [
    {
     "data": {
      "text/plain": [
       "dict_items([('A', 'Geeks'), ('B', 4), ('C', 'Geeks')])"
      ]
     },
     "execution_count": 25,
     "metadata": {},
     "output_type": "execute_result"
    }
   ],
   "source": [
    "Dict5 = { 'A': 'Geeks', 'B': 4, 'C': 'Geeks' }\n",
    "Dict5.items()"
   ]
  },
  {
   "cell_type": "markdown",
   "id": "5f16f5d8-293d-41b7-9f31-01d85234c249",
   "metadata": {},
   "source": [
    "<br>\n",
    "<div dir=rtl id=\"start\" style=\"direction:rtl;line-height:200%;\">\n",
    "\t<font face=\"vazir\" size=6 color='gold'>\n",
    "pop\n",
    "    </font>    \n",
    "</p>"
   ]
  },
  {
   "cell_type": "markdown",
   "id": "4f147988-48ad-48f2-a8a2-a8865aee742f",
   "metadata": {
    "id": "ZRjNvNoBmES8"
   },
   "source": [
    "<p dir=rtl style=\"direction: rtl;text-align: right;line-height:200%;font-family:vazir;font-size:medium\">\n",
    "<font face=\"vazir\" size=4>\n",
    "key را حذف می‌کند ولی نگه می‌دارد و برمی‌گرداند.\n",
    "    </font>\n",
    "</p>\n"
   ]
  },
  {
   "cell_type": "code",
   "execution_count": 26,
   "id": "99a117ba-28de-4bcd-b408-b7a092f66c6e",
   "metadata": {},
   "outputs": [
    {
     "data": {
      "text/plain": [
       "3"
      ]
     },
     "execution_count": 26,
     "metadata": {},
     "output_type": "execute_result"
    }
   ],
   "source": [
    "numbers = {'a': 1 , 'b' : 2 , 'c' : 3}\n",
    "numbers.pop('c')"
   ]
  },
  {
   "cell_type": "code",
   "execution_count": 27,
   "id": "ab701d0c-6ff6-41d1-9e30-8a7936bab660",
   "metadata": {},
   "outputs": [
    {
     "data": {
      "text/plain": [
       "{'a': 1, 'b': 2}"
      ]
     },
     "execution_count": 27,
     "metadata": {},
     "output_type": "execute_result"
    }
   ],
   "source": [
    "numbers"
   ]
  },
  {
   "cell_type": "markdown",
   "id": "29854105-be2d-40e2-a427-08bc61ca0466",
   "metadata": {},
   "source": [
    "<br>\n",
    "<div dir=rtl id=\"start\" style=\"direction:rtl;line-height:200%;\">\n",
    "\t<font face=\"vazir\" size=7 color='Red'>\n",
    "فایل‌ها\n",
    "    </font>\n",
    "</div>"
   ]
  },
  {
   "cell_type": "markdown",
   "id": "d88c84fa-c75c-41a1-9b88-e2c554acf708",
   "metadata": {},
   "source": [
    "<br>\n",
    "<div dir=rtl id=\"start\" style=\"direction:rtl;line-height:200%;\">\n",
    "\t<font face=\"vazir\" size=6 color='darkorange'>\n",
    "ورودی و خروجی\n",
    "    </font>    \n",
    "</p>"
   ]
  },
  {
   "cell_type": "markdown",
   "id": "857b8fd8-0bed-480e-a5b1-36812159a302",
   "metadata": {
    "id": "ZRjNvNoBmES8"
   },
   "source": [
    "<p dir=rtl style=\"direction: rtl;text-align: right;line-height:200%;font-family:vazir;font-size:medium\">\n",
    "<font face=\"vazir\" size=4>\n",
    "می‌خواهیم دیتای یک فایل را وارد کنیم یا دیتا را روی یک فایل write کنیم. برای وارد کردن فایل از تابع open استفاده می‌کنیم.ممکن است از روی فایلی که باز می‌کنیم فقط بخوانیم یا روی آن بنویسیم یا هم بخوانیم هم بنویسیم.\n",
    "    </font>\n",
    "</p>\n"
   ]
  },
  {
   "cell_type": "markdown",
   "id": "91f41dd4-ea29-43ca-8984-21978d1cce8e",
   "metadata": {
    "id": "ZRjNvNoBmES8"
   },
   "source": [
    "<p dir=rtl style=\"direction: rtl;text-align: right;line-height:200%;font-family:vazir;font-size:medium\">\n",
    "<font face=\"vazir\" size=4>\n",
    "مثلا می‌توانیم اطلاعات ورودی را روی یک Notepad قرار دهیم و دقیقا کنار فایل پایتون در یک جا ذخیره کنیم.\n",
    "    </font>\n",
    "</p>\n"
   ]
  },
  {
   "cell_type": "markdown",
   "id": "7439860a-3a62-41bd-a514-c88f81a87d74",
   "metadata": {
    "id": "ZRjNvNoBmES8"
   },
   "source": [
    "<p dir=rtl style=\"direction: rtl;text-align: right;line-height:200%;font-family:vazir;font-size:medium\">\n",
    "<font face=\"vazir\" size=4>\n",
    "برای کار با فایل‌ها از دستور open به شکل زیر استفاده می‌کنیم.\n",
    "    </font>\n",
    "</p>\n"
   ]
  },
  {
   "cell_type": "markdown",
   "id": "7caf54ae-96b5-4100-9233-401b5b2deceb",
   "metadata": {
    "id": "ZRjNvNoBmES8"
   },
   "source": [
    "<p dir=rtl style=\"direction: rtl;text-align: right;line-height:200%;font-family:vazir;font-size:medium\">\n",
    "<font face=\"vazir\" size=4>\n",
    "    </font>\n",
    "    </div>\n",
    "    \n",
    "```python\n",
    "file_object = open(file_name,mode)\n",
    "```   \n",
    "</p>\n"
   ]
  },
  {
   "cell_type": "markdown",
   "id": "571f46ec-b419-4958-8c59-36e9d3d8c12a",
   "metadata": {},
   "source": [
    "<br>\n",
    "<div dir=rtl id=\"start\" style=\"direction:rtl;line-height:200%;\">\n",
    "\t<font face=\"vazir\" size=6 color='darkorange'>\n",
    "متدهای فایل\n",
    "    </font>    \n",
    "</p>"
   ]
  },
  {
   "cell_type": "markdown",
   "id": "c27cd52a-a6db-444f-a472-478cbc481e7e",
   "metadata": {},
   "source": [
    "<br>\n",
    "<div dir=rtl id=\"start\" style=\"direction:rtl;line-height:200%;\">\n",
    "\t<font face=\"vazir\" size=6 color='gold'>\n",
    "read\n",
    "    </font>    \n",
    "</p>"
   ]
  },
  {
   "cell_type": "markdown",
   "id": "1236008d-934a-4f05-8b0a-c9e05e55c4a7",
   "metadata": {
    "id": "ZRjNvNoBmES8"
   },
   "source": [
    "<p dir=rtl style=\"direction: rtl;text-align: right;line-height:200%;font-family:vazir;font-size:medium\">\n",
    "<font face=\"vazir\" size=4>\n",
    "این متد از فایلی که باز کردیم می‌خواند و داخل string می‌ریزد.\n",
    "    <br>\n",
    "    آرگومان داخل پرانتز سایز است که متد به اندازه کاراکتر تعیین شده از فایل می‌خواند.\n",
    "    </font>\n",
    "</p>\n"
   ]
  },
  {
   "cell_type": "markdown",
   "id": "bbe0b5e5-757c-4760-ae09-83b2e2f2bd30",
   "metadata": {
    "id": "ZRjNvNoBmES8"
   },
   "source": [
    "<p dir=rtl style=\"direction: rtl;text-align: right;line-height:200%;font-family:vazir;font-size:medium\">\n",
    "<font face=\"vazir\" size=4>\n",
    "    </font>\n",
    "    </div>\n",
    "    \n",
    "```python\n",
    "my_file = open('test.text','r')\n",
    "data = my_file.read()\n",
    "```   \n",
    "</p>\n"
   ]
  },
  {
   "cell_type": "markdown",
   "id": "fc63c82b-cb6a-4c26-bf28-387479948217",
   "metadata": {},
   "source": [
    "<br>\n",
    "<div dir=rtl id=\"start\" style=\"direction:rtl;line-height:200%;\">\n",
    "\t<font face=\"vazir\" size=6 color='gold'>\n",
    "close\n",
    "    </font>    \n",
    "</p>"
   ]
  },
  {
   "cell_type": "markdown",
   "id": "8a1a26d3-8cf9-4170-a84a-fe9e73cbc863",
   "metadata": {
    "id": "ZRjNvNoBmES8"
   },
   "source": [
    "<p dir=rtl style=\"direction: rtl;text-align: right;line-height:200%;font-family:vazir;font-size:medium\">\n",
    "<font face=\"vazir\" size=4>\n",
    "معمول است که وقتی فایلی را باز می‌کنیم، بعد از آنکه از دیتای آن استفاده کردیم فایل را ببندیم.\n",
    "    </font>  \n",
    "</p>\n"
   ]
  },
  {
   "cell_type": "markdown",
   "id": "849756fe-2612-480f-96b9-698ad5e3bb1b",
   "metadata": {
    "id": "ZRjNvNoBmES8"
   },
   "source": [
    "<p dir=rtl style=\"direction: rtl;text-align: right;line-height:200%;font-family:vazir;font-size:medium\">\n",
    "<font face=\"vazir\" size=4>\n",
    "    </font>\n",
    "    </div>\n",
    "    \n",
    "```python\n",
    "my_file.close()\n",
    "```   \n",
    "</p>\n"
   ]
  },
  {
   "cell_type": "markdown",
   "id": "8e12e173-7471-4709-8660-5ce50557f4e1",
   "metadata": {},
   "source": [
    "<br>\n",
    "<div dir=rtl id=\"start\" style=\"direction:rtl;line-height:200%;\">\n",
    "\t<font face=\"vazir\" size=6 color='gold'>\n",
    "readline\n",
    "    </font>    \n",
    "</p>"
   ]
  },
  {
   "cell_type": "markdown",
   "id": "7d843fb5-f2ea-496b-b034-f6aaf55bb3d2",
   "metadata": {
    "id": "ZRjNvNoBmES8"
   },
   "source": [
    "<p dir=rtl style=\"direction: rtl;text-align: right;line-height:200%;font-family:vazir;font-size:medium\">\n",
    "<font face=\"vazir\" size=4>\n",
    "این متد فقط یک خط را می‌خواند. اگر چند بار در برنامه استفاده کنیم، دفعه اول خط اول، دفعه دوم خط دوم را به ما می‌دهد.\n",
    "    </font>  \n",
    "</p>\n"
   ]
  },
  {
   "cell_type": "markdown",
   "id": "30e08791-3380-4a2a-8c52-e5dd2fd2413f",
   "metadata": {},
   "source": [
    "<br>\n",
    "<div dir=rtl id=\"start\" style=\"direction:rtl;line-height:200%;\">\n",
    "\t<font face=\"vazir\" size=6 color='gold'>\n",
    "readlines\n",
    "    </font>    \n",
    "</p>"
   ]
  },
  {
   "cell_type": "markdown",
   "id": "1062b788-4f5f-4b8c-b78e-a24e3c300a97",
   "metadata": {
    "id": "ZRjNvNoBmES8"
   },
   "source": [
    "<p dir=rtl style=\"direction: rtl;text-align: right;line-height:200%;font-family:vazir;font-size:medium\">\n",
    "<font face=\"vazir\" size=4>\n",
    "کل خطها را به صورت لیست میدهد. هر خط یک آرگومان\n",
    "    </font>\n",
    "</p>\n"
   ]
  },
  {
   "cell_type": "markdown",
   "id": "b144bd56-28c5-41bd-bb49-9cec7e6ede0e",
   "metadata": {},
   "source": [
    "<br>\n",
    "<div dir=rtl id=\"start\" style=\"direction:rtl;line-height:200%;\">\n",
    "\t<font face=\"vazir\" size=6 color='gold'>\n",
    "write\n",
    "    </font>    \n",
    "</p>"
   ]
  },
  {
   "cell_type": "markdown",
   "id": "c738d0cc-aa17-4f88-b81c-74ddc32a4e3e",
   "metadata": {
    "id": "ZRjNvNoBmES8"
   },
   "source": [
    "<p dir=rtl style=\"direction: rtl;text-align: right;line-height:200%;font-family:vazir;font-size:medium\">\n",
    "<font face=\"vazir\" size=4>\n",
    "روی فایل می‌نویسد فقط باید mode  را به 'w' تغییر دهیم.\n",
    "    </font> \n",
    "</p>\n"
   ]
  },
  {
   "cell_type": "markdown",
   "id": "d6474121-dae2-4ca4-98dc-6d536cd72a1f",
   "metadata": {
    "id": "ZRjNvNoBmES8"
   },
   "source": [
    "<p dir=rtl style=\"direction: rtl;text-align: right;line-height:200%;font-family:vazir;font-size:medium\">\n",
    "<font face=\"vazir\" size=4>\n",
    "    </font>\n",
    "    </div>\n",
    "    \n",
    "```python\n",
    "my_file = open('test.text','w')\n",
    "my_file.write()\n",
    "```   \n",
    "</p>\n"
   ]
  },
  {
   "cell_type": "markdown",
   "id": "48537b85-5e24-4d11-bf4e-90f7bf480505",
   "metadata": {
    "id": "ZRjNvNoBmES8"
   },
   "source": [
    "<p dir=rtl style=\"direction: rtl;text-align: right;line-height:200%;font-family:vazir;font-size:medium\">\n",
    "<font face=\"vazir\" size=4>\n",
    "می‌توانیم چند بار write را استفاده کنیم و پشت هم می‌نویسد. اگر بخواهیم سر خط برود باید از کاراکتر سر خط \\n استفاده کنیم.\n",
    "    </font>\n",
    "</p>\n"
   ]
  },
  {
   "cell_type": "markdown",
   "id": "8f1c25cc-a21c-4bd6-8e1f-f39584c8df8b",
   "metadata": {
    "id": "ZRjNvNoBmES8"
   },
   "source": [
    "<p dir=rtl style=\"direction: rtl;text-align: right;line-height:200%;font-family:vazir;font-size:medium\">\n",
    "<font face=\"vazir\" size=4>\n",
    "    </font>\n",
    "    </div>\n",
    "    \n",
    "```python\n",
    "my_file.write(\"!/n\")\n",
    "my_file.write(\"another data\")\n",
    "```   \n",
    "</p>\n"
   ]
  },
  {
   "cell_type": "markdown",
   "id": "371339f1-d91c-42a6-b668-d44fd02940c9",
   "metadata": {},
   "source": [
    "<br>\n",
    "<div dir=rtl id=\"start\" style=\"direction:rtl;line-height:200%;\">\n",
    "\t<font face=\"vazir\" size=6 color='darkorange'>\n",
    "روش دسترسی به فایل\n",
    "    </font>    \n",
    "</p>"
   ]
  },
  {
   "cell_type": "markdown",
   "id": "d7b5266d-0151-4bb8-9be2-a260756fea96",
   "metadata": {
    "id": "ZRjNvNoBmES8"
   },
   "source": [
    "<p dir=rtl style=\"direction: rtl;text-align: right;line-height:200%;font-family:vazir;font-size:medium\">\n",
    "<font face=\"vazir\" size=4>\n",
    "با سرچ عبارت python open file mode میتوانیم انواع روش دسترسی به فایل را ببینیم.\n",
    "    </font>\n",
    "</p>\n"
   ]
  },
  {
   "cell_type": "markdown",
   "id": "e3ba9e75-c2f3-47ca-a33b-afc86f9421c4",
   "metadata": {},
   "source": [
    "<br>\n",
    "<div dir=rtl id=\"start\" style=\"direction:rtl;line-height:200%;\">\n",
    "\t<font face=\"vazir\" size=6 color='gold'>\n",
    "'r'\n",
    "    </font>    \n",
    "</p>"
   ]
  },
  {
   "cell_type": "markdown",
   "id": "5cfefb78-05aa-47b6-a4a9-f7ac2276d0a0",
   "metadata": {
    "id": "ZRjNvNoBmES8"
   },
   "source": [
    "<p dir=rtl style=\"direction: rtl;text-align: right;line-height:200%;font-family:vazir;font-size:medium\">\n",
    "<font face=\"vazir\" size=4>\n",
    " فایل را برای خواندن باز می‌کند و از اول فایل شروع به خواندن می‌کند.\n",
    "    </font>\n",
    "</p>\n"
   ]
  },
  {
   "cell_type": "markdown",
   "id": "0c9420c3-ee26-431a-969c-3d2939f2778a",
   "metadata": {},
   "source": [
    "<br>\n",
    "<div dir=rtl id=\"start\" style=\"direction:rtl;line-height:200%;\">\n",
    "\t<font face=\"vazir\" size=6 color='gold'>\n",
    "'+r'\n",
    "    </font>    \n",
    "</p>"
   ]
  },
  {
   "cell_type": "markdown",
   "id": "f3249b27-eadd-4875-934e-52f0a0aaec22",
   "metadata": {
    "id": "ZRjNvNoBmES8"
   },
   "source": [
    "<p dir=rtl style=\"direction: rtl;text-align: right;line-height:200%;font-family:vazir;font-size:medium\">\n",
    "<font face=\"vazir\" size=4>\n",
    "فایل را برای خواندن و نوشتن باز می‌کند و در ابتدای فایل قرار می‌گیرد. انگار در فایل یک position داریم که خواندن و نوشتن را از آنجا (اول فایل) انجام می‌دهد. \n",
    "    </font>\n",
    "</p>\n"
   ]
  },
  {
   "cell_type": "markdown",
   "id": "7093e7c5-786c-4fd1-8ac0-b27d40a19191",
   "metadata": {},
   "source": [
    "<br>\n",
    "<div dir=rtl id=\"start\" style=\"direction:rtl;line-height:200%;\">\n",
    "\t<font face=\"vazir\" size=6 color='gold'>\n",
    "'w'\n",
    "    </font>    \n",
    "</p>"
   ]
  },
  {
   "cell_type": "markdown",
   "id": "511f896e-946b-4129-a305-81048f754eda",
   "metadata": {
    "id": "ZRjNvNoBmES8"
   },
   "source": [
    "<p dir=rtl style=\"direction: rtl;text-align: right;line-height:200%;font-family:vazir;font-size:medium\">\n",
    "<font face=\"vazir\" size=4>\n",
    "فایل را خالی می‌کند و شروع می‌کند در آن نوشتن. حتی اگر فایل وجود نداشت هم فایل را ایجاد می‌کند.\n",
    "    </font>\n",
    "</p>\n"
   ]
  },
  {
   "cell_type": "markdown",
   "id": "b1f02c5c-7e76-48c4-97b8-aeb6dbe3007a",
   "metadata": {},
   "source": [
    "<br>\n",
    "<div dir=rtl id=\"start\" style=\"direction:rtl;line-height:200%;\">\n",
    "\t<font face=\"vazir\" size=6 color='gold'>\n",
    "'+w'\n",
    "    </font>    \n",
    "</p>"
   ]
  },
  {
   "cell_type": "markdown",
   "id": "bb51c696-8340-4266-a41c-83e86c475b70",
   "metadata": {
    "id": "ZRjNvNoBmES8"
   },
   "source": [
    "<p dir=rtl style=\"direction: rtl;text-align: right;line-height:200%;font-family:vazir;font-size:medium\">\n",
    "<font face=\"vazir\" size=4>\n",
    "باز می‌کند برای خواندن و نوشتن.فایل را خالی می‌کند. اگر فایل وجود نداشته باشد، ایجاد می‌کند.\n",
    "    </font>\n",
    "</p>\n"
   ]
  },
  {
   "cell_type": "markdown",
   "id": "d28bb42f-0b61-44ab-b23a-83b170ee17ce",
   "metadata": {},
   "source": [
    "<br>\n",
    "<div dir=rtl id=\"start\" style=\"direction:rtl;line-height:200%;\">\n",
    "\t<font face=\"vazir\" size=6 color='gold'>\n",
    "'a'\n",
    "    </font>    \n",
    "</p>"
   ]
  },
  {
   "cell_type": "markdown",
   "id": "22f7813e-b7f9-4d4c-9281-3402e0e2df39",
   "metadata": {
    "id": "ZRjNvNoBmES8"
   },
   "source": [
    "<p dir=rtl style=\"direction: rtl;text-align: right;line-height:200%;font-family:vazir;font-size:medium\">\n",
    "<font face=\"vazir\" size=4>\n",
    "باز می‌کند برای نوشتن، اگر نباشد هم ایجاد می‌کند. به ته فایل می‌رود و روی اطلاعات قبلی نمی‌نویسد و در ادامه آنها می‌نویسد.\n",
    "    </font>\n",
    "</p>\n"
   ]
  },
  {
   "cell_type": "markdown",
   "id": "346d3d08-2a2b-4a8f-888e-8bd2dbf2f5f4",
   "metadata": {},
   "source": [
    "<br>\n",
    "<div dir=rtl id=\"start\" style=\"direction:rtl;line-height:200%;\">\n",
    "\t<font face=\"vazir\" size=6 color='gold'>\n",
    "'+a'\n",
    "    </font>    \n",
    "</p>"
   ]
  },
  {
   "cell_type": "markdown",
   "id": "27fbf233-7cc6-40bf-aff3-eeb2c1f4f300",
   "metadata": {
    "id": "ZRjNvNoBmES8"
   },
   "source": [
    "<p dir=rtl style=\"direction: rtl;text-align: right;line-height:200%;font-family:vazir;font-size:medium\">\n",
    "<font face=\"vazir\" size=4>\n",
    "مانند mode a فقط هم برای خواندن باز می‌کند هم نوشتن.\n",
    "    </font>\n",
    "</p>\n"
   ]
  },
  {
   "cell_type": "markdown",
   "id": "ae5442d5-8e24-4517-8cab-810e31dbbbff",
   "metadata": {},
   "source": [
    "<br>\n",
    "<div dir=rtl id=\"start\" style=\"direction:rtl;line-height:200%;\">\n",
    "\t<font face=\"vazir\" size=6 color='darkorange'>\n",
    "موقعیت فایل\n",
    "    </font>    \n",
    "</p>"
   ]
  },
  {
   "cell_type": "markdown",
   "id": "88952b0d-ddd9-47b4-b58c-8b8eb6bc3a94",
   "metadata": {
    "id": "ZRjNvNoBmES8"
   },
   "source": [
    "<p dir=rtl style=\"direction: rtl;text-align: right;line-height:200%;font-family:vazir;font-size:medium\">\n",
    "<font face=\"vazir\" size=4>\n",
    "برای تغییر موقعیت برای نوشتن و خواندن ۲ تا متد اصلی داریم:\n",
    "    </font>\n",
    "</p>\n"
   ]
  },
  {
   "cell_type": "markdown",
   "id": "0e56bdb2-36c6-4093-a8eb-df9fa57e3da0",
   "metadata": {},
   "source": [
    "<br>\n",
    "<div dir=rtl id=\"start\" style=\"direction:rtl;line-height:200%;\">\n",
    "\t<font face=\"vazir\" size=6 color='gold'>\n",
    "tell\n",
    "    </font>    \n",
    "</p>"
   ]
  },
  {
   "cell_type": "markdown",
   "id": "3fcd90b7-c6e4-49b9-94f3-edac85730cb4",
   "metadata": {
    "id": "ZRjNvNoBmES8"
   },
   "source": [
    "<p dir=rtl style=\"direction: rtl;text-align: right;line-height:200%;font-family:vazir;font-size:medium\">\n",
    "<font face=\"vazir\" size=4>\n",
    "به ما می‌گوید کجای فایل قرار داریم. (enter را هم می‌شمارد.)\n",
    "    </font>   \n",
    "</p>\n"
   ]
  },
  {
   "cell_type": "markdown",
   "id": "f6f41fbb-d66c-45ec-bcac-5d220979d896",
   "metadata": {
    "id": "ZRjNvNoBmES8"
   },
   "source": [
    "<p dir=rtl style=\"direction: rtl;text-align: right;line-height:200%;font-family:vazir;font-size:medium\">\n",
    "<font face=\"vazir\" size=4>\n",
    "    </font>\n",
    "    </div>\n",
    "    \n",
    "```python\n",
    "my_file.tell()\n",
    "```   \n",
    "</p>\n"
   ]
  },
  {
   "cell_type": "markdown",
   "id": "f600a354-ccd4-46d0-8cfe-db27d0305f10",
   "metadata": {},
   "source": [
    "<br>\n",
    "<div dir=rtl id=\"start\" style=\"direction:rtl;line-height:200%;\">\n",
    "\t<font face=\"vazir\" size=6 color='gold'>\n",
    "seek\n",
    "    </font>    \n",
    "</p>"
   ]
  },
  {
   "cell_type": "markdown",
   "id": "36b9371b-ca18-4b35-b1e9-8a0793dc6c2f",
   "metadata": {
    "id": "ZRjNvNoBmES8"
   },
   "source": [
    "<p dir=rtl style=\"direction: rtl;text-align: right;line-height:200%;font-family:vazir;font-size:medium\">\n",
    "<font face=\"vazir\" size=4>\n",
    "حرکت می‌کند و به جای خاصی می‌رود. (موقعیتی که آرگومان اشاره می‌کند)\n",
    "    </font> \n",
    "</p>\n"
   ]
  },
  {
   "cell_type": "markdown",
   "id": "f3efb8ea-f6b1-4d2f-ab44-aca602e646bc",
   "metadata": {
    "id": "ZRjNvNoBmES8"
   },
   "source": [
    "<p dir=rtl style=\"direction: rtl;text-align: right;line-height:200%;font-family:vazir;font-size:medium\">\n",
    "<font face=\"vazir\" size=4>\n",
    "    </font>\n",
    "    </div>\n",
    "    \n",
    "```python\n",
    "my_file.seek(0)\n",
    "```   \n",
    "</p>\n"
   ]
  },
  {
   "cell_type": "markdown",
   "id": "426e6a68-d7a5-42e9-943d-7f779e758aa5",
   "metadata": {},
   "source": [
    "<br>\n",
    "<div dir=rtl id=\"start\" style=\"direction:rtl;line-height:200%;\">\n",
    "\t<font face=\"vazir\" size=6 color='darkgoldenrod'>\n",
    "Example\n",
    "    </font>    \n",
    "</p>"
   ]
  },
  {
   "cell_type": "markdown",
   "id": "24536745-c944-4d35-9db9-3065e3ba40dd",
   "metadata": {
    "id": "ZRjNvNoBmES8"
   },
   "source": [
    "<p dir=rtl style=\"direction: rtl;text-align: right;line-height:200%;font-family:vazir;font-size:medium\">\n",
    "<font face=\"vazir\" size=4>\n",
    "از یک فایل حاوی متن می‌خواهیم یک دیکشنری بسازیم و لیست کسانی که نمره ریاضی و شیمی بالاتر از ۷۰ دارند را همراه نمراتشان چاپ کنیم. گاهی خط اول نام اطلاعات در فایل است، گاهی در خط‌های میانی است و معمولا با # شروع می‌شود.\n",
    "    <br>\n",
    "    اگر فایل در همان فایل برنامه بود فقط اسم فایل را فراخوانی می‌کنیم. اگر در فایل دیگری بود آدرس آن را قبل از اسم مانند مثال می‌آوریم.\n",
    "    </font>  \n",
    "</p>\n"
   ]
  },
  {
   "cell_type": "code",
   "execution_count": 45,
   "id": "f28aae25-ca2d-4090-8cff-0098c73196a3",
   "metadata": {},
   "outputs": [
    {
     "data": {
      "text/plain": [
       "{'Luke': [89.0, 94.0, 81.0, 97.0], 'Oliver': [73.0, 74.0, 89.0, 91.0]}"
      ]
     },
     "execution_count": 45,
     "metadata": {},
     "output_type": "execute_result"
    }
   ],
   "source": [
    "def dict_from_file(file_name):\n",
    "    \n",
    "    file_pointer = open(file_name, 'r')\n",
    "\n",
    "    data = file_pointer.readlines()\n",
    "        \n",
    "    result_dict = {}\n",
    "    for line in data:\n",
    "        if line[0] == \"#\":\n",
    "            continue\n",
    "        list_stripped_line = line.strip().split(',')\n",
    "        first_name,math,physics,chemistry,biology = list_stripped_line\n",
    "\n",
    "        if float(math) > 70 and float(chemistry) > 70 :\n",
    "            result_dict[first_name] = [float(math),float(physics),float(chemistry),float(biology)]\n",
    "                                                                            \n",
    "    return result_dict\n",
    "\n",
    "dict_from_file(\"./0.Python/text_to_dict.txt\")"
   ]
  },
  {
   "cell_type": "markdown",
   "id": "80800e4f-5e95-4e06-85a3-4a12fe64fb26",
   "metadata": {},
   "source": [
    "<br>\n",
    "<div dir=rtl id=\"start\" style=\"direction:rtl;line-height:200%;\">\n",
    "\t<font face=\"vazir\" size=7 color='Red'>\n",
    "Tuple (چندتایی‌ها)\n",
    "    </font>\n",
    "</div>"
   ]
  },
  {
   "cell_type": "markdown",
   "id": "62026485-c407-43f9-a73a-52f1d5534955",
   "metadata": {
    "id": "ZRjNvNoBmES8"
   },
   "source": [
    "<p dir=rtl style=\"direction: rtl;text-align: right;line-height:200%;font-family:vazir;font-size:medium\">\n",
    "<font face=\"vazir\" size=4>\n",
    "شکل خاصی از توالی داده‌ها شبیه لیست با این تفادت که بعد از ایجاد دیگر نمی‌توانیم آنها را تغییر دهیم. در واقع immutable هستند. آنها را با پرانتز تعریف می‌کنیم.\n",
    "    </font>  \n",
    "</p>\n"
   ]
  },
  {
   "cell_type": "markdown",
   "id": "c9bdff93-2ca4-4d90-bb5b-86f8e1c8c400",
   "metadata": {
    "id": "ZRjNvNoBmES8"
   },
   "source": [
    "<p dir=rtl style=\"direction: rtl;text-align: right;line-height:200%;font-family:vazir;font-size:medium\">\n",
    "<font face=\"vazir\" size=4>\n",
    "    </font>\n",
    "    </div>\n",
    "    \n",
    "```python\n",
    "my_tuple = (item 1, item 2, ...)\n",
    "```   \n",
    "</p>\n"
   ]
  },
  {
   "cell_type": "markdown",
   "id": "1c3b117e-6529-41e7-9260-fbef5a32ab25",
   "metadata": {
    "id": "ZRjNvNoBmES8"
   },
   "source": [
    "<p dir=rtl style=\"direction: rtl;text-align: right;line-height:200%;font-family:vazir;font-size:medium\">\n",
    "<font face=\"vazir\" size=4>\n",
    "indexهای tuple مانند لیست است و می‌توانیم صدا بزنیم.\n",
    "    </font>  \n",
    "</p>\n"
   ]
  },
  {
   "cell_type": "code",
   "execution_count": 1,
   "id": "6dd581b7-0d28-477c-8632-7bd575ee5f77",
   "metadata": {},
   "outputs": [
    {
     "data": {
      "text/plain": [
       "1"
      ]
     },
     "execution_count": 1,
     "metadata": {},
     "output_type": "execute_result"
    }
   ],
   "source": [
    "my_tuple = (1,2,3,4,'dog')\n",
    "my_tuple[0]"
   ]
  },
  {
   "cell_type": "markdown",
   "id": "2daeb284-31d5-4460-be5c-c5719ebd1c45",
   "metadata": {
    "id": "ZRjNvNoBmES8"
   },
   "source": [
    "<p dir=rtl style=\"direction: rtl;text-align: right;line-height:200%;font-family:vazir;font-size:medium\">\n",
    "<font face=\"vazir\" size=4>\n",
    "تمام متدهای لیست را می‌توان روی tuple اجرا کرد ولی نمی‌توان تغییرش داد. مثلا نمیتوانیم بنویسیم:\n",
    "    </font>   \n",
    "</p>\n"
   ]
  },
  {
   "cell_type": "markdown",
   "id": "41c5a212-af48-40ef-91eb-424b567dd559",
   "metadata": {
    "id": "ZRjNvNoBmES8"
   },
   "source": [
    "<p dir=rtl style=\"direction: rtl;text-align: right;line-height:200%;font-family:vazir;font-size:medium\">\n",
    "<font face=\"vazir\" size=4>\n",
    "    </font>\n",
    "    </div>\n",
    "    \n",
    "```python\n",
    "my_tuple[3] = 5\n",
    "```   \n",
    "</p>\n"
   ]
  },
  {
   "cell_type": "markdown",
   "id": "c6f04392-3485-4d3a-9deb-1c97ee017aa8",
   "metadata": {
    "id": "ZRjNvNoBmES8"
   },
   "source": [
    "<p dir=rtl style=\"direction: rtl;text-align: right;line-height:200%;font-family:vazir;font-size:medium\">\n",
    "<font face=\"vazir\" size=4>\n",
    "می‌توانیم tuple را به لیست تبدیل کنیم.\n",
    "    </font>\n",
    "</p>\n"
   ]
  },
  {
   "cell_type": "markdown",
   "id": "edc8dd7d-3973-4f46-a670-481241bbc4e0",
   "metadata": {
    "id": "ZRjNvNoBmES8"
   },
   "source": [
    "<p dir=rtl style=\"direction: rtl;text-align: right;line-height:200%;font-family:vazir;font-size:medium\">\n",
    "<font face=\"vazir\" size=4>\n",
    "    </font>\n",
    "    </div>\n",
    "    \n",
    "```python\n",
    "name = list(my_tuple)\n",
    "```   \n",
    "</p>\n"
   ]
  },
  {
   "cell_type": "markdown",
   "id": "6c05c9ba-4acc-4aea-a581-bb0ea9f6af12",
   "metadata": {
    "id": "ZRjNvNoBmES8"
   },
   "source": [
    "<p dir=rtl style=\"direction: rtl;text-align: right;line-height:200%;font-family:vazir;font-size:medium\">\n",
    "<font face=\"vazir\" size=4>\n",
    "اگر پرانتز نگذاریم پایتون می‌فهمد که tuple است به شرطی که بین itemها کاما بگذاریم.\n",
    "    </font>   \n",
    "</p>"
   ]
  },
  {
   "cell_type": "markdown",
   "id": "c7c02eee-4235-4bb5-a6c2-a8ed35206012",
   "metadata": {
    "id": "ZRjNvNoBmES8"
   },
   "source": [
    "<p dir=rtl style=\"direction: rtl;text-align: right;line-height:200%;font-family:vazir;font-size:medium\">\n",
    "<font face=\"vazir\" size=4>\n",
    "    </font>\n",
    "    </div>\n",
    "    \n",
    "```python\n",
    "my_tuple = item1, item2, item3\n",
    "```   \n",
    "</p>"
   ]
  },
  {
   "cell_type": "markdown",
   "id": "499661a9-2ad9-4529-9373-20a4d0c58686",
   "metadata": {
    "id": "ZRjNvNoBmES8"
   },
   "source": [
    "<p dir=rtl style=\"direction: rtl;text-align: right;line-height:200%;font-family:vazir;font-size:medium\">\n",
    "<font face=\"vazir\" size=4>\n",
    "اگر tuple یک عنصر داشته باشد حتما باید داخل پرانتز بنویسیم و بعد از آن کاما بگذاریم وگرنه به عنوان tuple نمی‌شناسد.\n",
    "    </font>\n",
    "</p>"
   ]
  },
  {
   "cell_type": "markdown",
   "id": "921adb79-c0e2-4d5a-84ac-180ded4c40b1",
   "metadata": {
    "id": "ZRjNvNoBmES8"
   },
   "source": [
    "<p dir=rtl style=\"direction: rtl;text-align: right;line-height:200%;font-family:vazir;font-size:medium\">\n",
    "<font face=\"vazir\" size=4>\n",
    "    </font>\n",
    "    </div>\n",
    "    \n",
    "```python\n",
    "my_tuple = (item1,)\n",
    "```   \n",
    "</p>"
   ]
  },
  {
   "cell_type": "markdown",
   "id": "e82c6a89-8d8d-4598-91a4-479182bc7a25",
   "metadata": {
    "id": "ZRjNvNoBmES8"
   },
   "source": [
    "<p dir=rtl style=\"direction: rtl;text-align: right;line-height:200%;font-family:vazir;font-size:medium\">\n",
    "<font face=\"vazir\" size=4>\n",
    "اگر داخل یک tuple یک لیست داشته باشیم، اعضای آن لیست قابل تغییر هستند ولی خود لیست را نمیتوانیم جایگزین کنیم. ولی می‌توان متد روی آن اجرا کرد.\n",
    "    </font>\n",
    "</p>"
   ]
  },
  {
   "cell_type": "code",
   "execution_count": 10,
   "id": "e4213e54-8a79-4fcf-a388-3f83dbbfb4e3",
   "metadata": {},
   "outputs": [
    {
     "data": {
      "text/plain": [
       "(1, 2, [3, 100, 5])"
      ]
     },
     "execution_count": 10,
     "metadata": {},
     "output_type": "execute_result"
    }
   ],
   "source": [
    "t = (1,2,[3,4,5])\n",
    "t[2][1] = 100\n",
    "t"
   ]
  },
  {
   "cell_type": "code",
   "execution_count": 11,
   "id": "7b660de3-af1c-4b3e-9a10-d5373b5c96df",
   "metadata": {},
   "outputs": [
    {
     "ename": "TypeError",
     "evalue": "'tuple' object does not support item assignment",
     "output_type": "error",
     "traceback": [
      "\u001b[1;31m---------------------------------------------------------------------------\u001b[0m",
      "\u001b[1;31mTypeError\u001b[0m                                 Traceback (most recent call last)",
      "\u001b[1;32m~\\AppData\\Local\\Temp/ipykernel_6352/1493524473.py\u001b[0m in \u001b[0;36m<module>\u001b[1;34m\u001b[0m\n\u001b[1;32m----> 1\u001b[1;33m \u001b[0mt\u001b[0m\u001b[1;33m[\u001b[0m\u001b[1;36m2\u001b[0m\u001b[1;33m]\u001b[0m \u001b[1;33m=\u001b[0m \u001b[1;36m100\u001b[0m\u001b[1;33m\u001b[0m\u001b[1;33m\u001b[0m\u001b[0m\n\u001b[0m",
      "\u001b[1;31mTypeError\u001b[0m: 'tuple' object does not support item assignment"
     ]
    }
   ],
   "source": [
    "t[2] = 100"
   ]
  },
  {
   "cell_type": "code",
   "execution_count": 12,
   "id": "55663440-cd67-4e23-b611-8b86dcbd8ce9",
   "metadata": {},
   "outputs": [
    {
     "data": {
      "text/plain": [
       "(1, 2, [3, 100, 5, 3])"
      ]
     },
     "execution_count": 12,
     "metadata": {},
     "output_type": "execute_result"
    }
   ],
   "source": [
    "t[2].append(3)\n",
    "t"
   ]
  },
  {
   "cell_type": "markdown",
   "id": "d55ceb81-d067-46b8-8602-503342ca64af",
   "metadata": {},
   "source": [
    "<br>\n",
    "<div dir=rtl id=\"start\" style=\"direction:rtl;line-height:200%;\">\n",
    "\t<font face=\"vazir\" size=6 color='darkorange'>\n",
    "توابع بازگشتی در چندتایی‌ها\n",
    "    </font>    \n",
    "</p>"
   ]
  },
  {
   "cell_type": "markdown",
   "id": "f6e5c4e6-907f-49b8-ba95-a24a2b2aa855",
   "metadata": {
    "id": "ZRjNvNoBmES8"
   },
   "source": [
    "<p dir=rtl style=\"direction: rtl;text-align: right;line-height:200%;font-family:vazir;font-size:medium\">\n",
    "<font face=\"vazir\" size=4>\n",
    "گاهی یک تابع می‌نویسیم که بیشتر از یک خروجی دارد در این حالت خروجی را به صورت یک tuple تعریف می‌کنیم.\n",
    "    </font>\n",
    "</p>"
   ]
  },
  {
   "cell_type": "code",
   "execution_count": 13,
   "id": "c7868e37-bc03-472f-a7f9-8d244238c319",
   "metadata": {},
   "outputs": [
    {
     "name": "stdout",
     "output_type": "stream",
     "text": [
      "(7, 12)\n"
     ]
    }
   ],
   "source": [
    "def add_muliple(x,y):\n",
    "    add = x+y\n",
    "    multiple = x*y\n",
    "    return (add, multiple)\n",
    "t = add_muliple(3,4)\n",
    "print(t)"
   ]
  },
  {
   "cell_type": "markdown",
   "id": "0ceb3fd8-5058-4ac1-a26a-a3b442b78f52",
   "metadata": {},
   "source": [
    "<br>\n",
    "<div dir=rtl id=\"start\" style=\"direction:rtl;line-height:200%;\">\n",
    "\t<font face=\"vazir\" size=7 color='Red'>\n",
    "قالب‌بندی\n",
    "    </font>\n",
    "</div>"
   ]
  },
  {
   "cell_type": "markdown",
   "id": "0cc0e2a9-e1c9-4d3e-88cd-a0c13b88d4c8",
   "metadata": {
    "id": "ZRjNvNoBmES8"
   },
   "source": [
    "<p dir=rtl style=\"direction: rtl;text-align: right;line-height:200%;font-family:vazir;font-size:medium\">\n",
    "<font face=\"vazir\" size=4>\n",
    "قالب‌بندی یعنی فرمت کردن خروجی، شکل‌دهی خروجی\n",
    "    </font>\n",
    "</p>"
   ]
  },
  {
   "cell_type": "markdown",
   "id": "6c33e477-2a6d-4c1c-96eb-0ca6772f44fd",
   "metadata": {
    "id": "ZRjNvNoBmES8"
   },
   "source": [
    "<p dir=rtl style=\"direction: rtl;text-align: right;line-height:200%;font-family:vazir;font-size:medium\">\n",
    "<font face=\"vazir\" size=4>\n",
    "در پرینت می‌توانیم بگوییم end برابر با چه چیزی باشد. در حالت پیش‌فرض به خط بعد می‌رود. با دستور زیر همه را در یک خط پرینت می‌گیرد و بین itemها * می‌گذارد. \n",
    "    </font>\n",
    "</p>"
   ]
  },
  {
   "cell_type": "markdown",
   "id": "70dfd7fc-9ff0-4d57-b90b-3a5f3047267d",
   "metadata": {
    "id": "ZRjNvNoBmES8"
   },
   "source": [
    "<p dir=rtl style=\"direction: rtl;text-align: right;line-height:200%;font-family:vazir;font-size:medium\">\n",
    "<font face=\"vazir\" size=4>\n",
    "    </font>\n",
    "    </div>\n",
    "    \n",
    "```python\n",
    "print(item, end='*')\n",
    "```   \n",
    "</p>"
   ]
  },
  {
   "cell_type": "markdown",
   "id": "86ee992b-ec41-49fe-941a-cb40e7c0b44e",
   "metadata": {
    "id": "ZRjNvNoBmES8"
   },
   "source": [
    "<p dir=rtl style=\"direction: rtl;text-align: right;line-height:200%;font-family:vazir;font-size:medium\">\n",
    "<font face=\"vazir\" size=4>\n",
    "دستور زیر همه را پشت سر هم بدون فاصله پرینت می‌کند.\n",
    "    </font>  \n",
    "</p>"
   ]
  },
  {
   "cell_type": "markdown",
   "id": "8e13fb7f-e816-4b42-90c6-6f0a5f34d5db",
   "metadata": {
    "id": "ZRjNvNoBmES8"
   },
   "source": [
    "<p dir=rtl style=\"direction: rtl;text-align: right;line-height:200%;font-family:vazir;font-size:medium\">\n",
    "<font face=\"vazir\" size=4>\n",
    "    </font>\n",
    "    </div>\n",
    "    \n",
    "```python\n",
    "print(item, end='')\n",
    "```   \n",
    "</p>"
   ]
  },
  {
   "cell_type": "markdown",
   "id": "f91b0399-10b7-4d22-8996-0e7b9ad08a92",
   "metadata": {
    "id": "ZRjNvNoBmES8"
   },
   "source": [
    "<p dir=rtl style=\"direction: rtl;text-align: right;line-height:200%;font-family:vazir;font-size:medium\">\n",
    "<font face=\"vazir\" size=4>\n",
    "می‌توانیم یک رشته پیش‌فرض درست کنیم و بعد به آن فرمت بدهیم.\n",
    "    </font>\n",
    "</p>"
   ]
  },
  {
   "cell_type": "markdown",
   "id": "3360eef6-7884-4ace-b27c-0ba83098ac35",
   "metadata": {
    "id": "ZRjNvNoBmES8"
   },
   "source": [
    "<p dir=rtl style=\"direction: rtl;text-align: right;line-height:200%;font-family:vazir;font-size:medium\">\n",
    "<font face=\"vazir\" size=4>\n",
    "    </font>\n",
    "    </div>\n",
    "    \n",
    "```python\n",
    "template_string.format(arguments)\n",
    "```   \n",
    "</p>"
   ]
  },
  {
   "cell_type": "code",
   "execution_count": 15,
   "id": "d4a55d26-9fdf-4d59-bec9-d7eddc4793dc",
   "metadata": {},
   "outputs": [
    {
     "data": {
      "text/plain": [
       "'x=7 and y=9'"
      ]
     },
     "execution_count": 15,
     "metadata": {},
     "output_type": "execute_result"
    }
   ],
   "source": [
    "x = 7\n",
    "y = 9\n",
    "my_str = \"x={} and y={}\".format(x,y)\n",
    "my_str"
   ]
  },
  {
   "cell_type": "markdown",
   "id": "2a09224a-600d-4260-8f0f-7c0a631f8e49",
   "metadata": {},
   "source": [
    "<br>\n",
    "<div dir=rtl id=\"start\" style=\"direction:rtl;line-height:200%;\">\n",
    "\t<font face=\"vazir\" size=6 color='darkorange'>\n",
    "قالب‌بندی وابسته به موقعیت\n",
    "    </font>    \n",
    "</p>"
   ]
  },
  {
   "cell_type": "markdown",
   "id": "3e76bb93-eb5d-4a96-a20c-057fa38e43a8",
   "metadata": {
    "id": "ZRjNvNoBmES8"
   },
   "source": [
    "<p dir=rtl style=\"direction: rtl;text-align: right;line-height:200%;font-family:vazir;font-size:medium\">\n",
    "<font face=\"vazir\" size=4>\n",
    "در دستور پرینت با format می‌توانیم داخل {} تعیین کنیم که چندمی را بردارد. در حالت پیش‌فرض به ترتیب عمل می‌کند ولی می‌توان index داد.\n",
    "    </font>  \n",
    "</p>"
   ]
  },
  {
   "cell_type": "code",
   "execution_count": 16,
   "id": "2163855f-2eaf-42e7-a25c-e577080a3fbf",
   "metadata": {},
   "outputs": [
    {
     "data": {
      "text/plain": [
       "'x=9 and y=7'"
      ]
     },
     "execution_count": 16,
     "metadata": {},
     "output_type": "execute_result"
    }
   ],
   "source": [
    "x = 7\n",
    "y = 9\n",
    "my_str = \"x={1} and y={0}\".format(x,y)\n",
    "my_str"
   ]
  },
  {
   "cell_type": "markdown",
   "id": "4f014d80-d035-4e44-aa96-487e5fab43ab",
   "metadata": {},
   "source": [
    "<br>\n",
    "<div dir=rtl id=\"start\" style=\"direction:rtl;line-height:200%;\">\n",
    "\t<font face=\"vazir\" size=6 color='darkorange'>\n",
    "قالب‌بندی دقیق عرض\n",
    "    </font>    \n",
    "</p>"
   ]
  },
  {
   "cell_type": "markdown",
   "id": "f8c374ed-a3f0-4eb4-a6e7-3d4fe89e162e",
   "metadata": {
    "id": "ZRjNvNoBmES8"
   },
   "source": [
    "<p dir=rtl style=\"direction: rtl;text-align: right;line-height:200%;font-family:vazir;font-size:medium\">\n",
    "<font face=\"vazir\" size=4>\n",
    "می‌توانیم تعداد رقم، digit و اعشار پرینت زا در فرمت بگوییم.\n",
    "    </font>   \n",
    "</p>"
   ]
  },
  {
   "cell_type": "code",
   "execution_count": 24,
   "id": "b1c375ac-6525-4677-b0dd-13afb240bd76",
   "metadata": {},
   "outputs": [
    {
     "name": "stdout",
     "output_type": "stream",
     "text": [
      "x=   7\n",
      "y= 809\n",
      "z=   3.14\n",
      "w=dog \n"
     ]
    }
   ],
   "source": [
    "x = 7\n",
    "y = 809\n",
    "z = 3.1415\n",
    "w = 'dog'\n",
    "my_str = \"x={0:4d}\\ny={1:4d}\\nz={2:7.2f}\\nw={3:4s}\".format(x,y,z,w)\n",
    "print(my_str)"
   ]
  },
  {
   "cell_type": "markdown",
   "id": "7fcf4916-873d-40cc-b9ca-350986a6f4da",
   "metadata": {
    "id": "ZRjNvNoBmES8"
   },
   "source": [
    "<p dir=rtl style=\"direction: rtl;text-align: right;line-height:200%;font-family:vazir;font-size:medium\">\n",
    "<font face=\"vazir\" size=3, color='midnightblue'>\n",
    "x={0:4d} به این معناست که با مقدار رقم x، ۴ رقم فضا به آن بدهیم و آن را به سمت راست شیفت می‌دهد\n",
    "    <br>\n",
    "    برای رشته در تعیین تعداد رقم از حرف s استفاده می‌کنیم. فاصله را در سمت راست رشته قرار می‌دهد.\n",
    "    <br>\n",
    "    f در فرمت z به تعداد رقم اعشار آن اشاره می‌کند. z={2:7.2f} یعنی کل عدد ۷ رقم فضا بگیرد و اعشار تا ۲ رقم برود. اگر به جای تعداد اعشار صفر بدهیم، عدد را گرد می‌کند.\n",
    "    </font>\n",
    "</p>"
   ]
  },
  {
   "cell_type": "code",
   "execution_count": 51,
   "id": "668a5ba1-9db2-45e8-bd09-d98649427c4a",
   "metadata": {},
   "outputs": [
    {
     "name": "stdout",
     "output_type": "stream",
     "text": [
      "6\n"
     ]
    }
   ],
   "source": [
    "print(\"{0:.0f}\".format(5.8))"
   ]
  },
  {
   "cell_type": "markdown",
   "id": "1ebd6075-5d6e-4759-8166-90cdb0b9ee95",
   "metadata": {
    "id": "ZRjNvNoBmES8"
   },
   "source": [
    "<p dir=rtl style=\"direction: rtl;text-align: right;line-height:200%;font-family:vazir;font-size:medium\">\n",
    "<font face=\"vazir\" size=4>\n",
    "حروف d,f,S در واقع type را مشخص می‌کنند. می‌توانیم type را ندهیم و برای همه یک فرمت تعریف کنیم.    \n",
    "    </font>   \n",
    "</p>"
   ]
  },
  {
   "cell_type": "code",
   "execution_count": 31,
   "id": "44bff02e-9e27-4f67-86b3-7d875dc51f5b",
   "metadata": {},
   "outputs": [
    {
     "name": "stdout",
     "output_type": "stream",
     "text": [
      "Ali  | 19.5  | 20  | 18  | \n",
      "Sara  | 20  | 19  | 9.75  | \n",
      "Nina  | 19  | 19.25  | 18  | \n"
     ]
    }
   ],
   "source": [
    "scores = [['Ali', 19.5, 20, 18],\n",
    "          ['Sara', 20, 19, 9.75],\n",
    "          ['Nina', 19, 19.25, 18]]\n",
    "for person in scores:\n",
    "    for item in person:\n",
    "        print(item, \" | \", end='')\n",
    "        \n",
    "    print()"
   ]
  },
  {
   "cell_type": "code",
   "execution_count": 32,
   "id": "d1e98697-4c9b-48c9-9764-2aedff4fd232",
   "metadata": {},
   "outputs": [
    {
     "name": "stdout",
     "output_type": "stream",
     "text": [
      "Ali     |    19.5 |      20 |      18 | \n",
      "Sara    |      20 |      19 |    9.75 | \n",
      "Nina    |      19 |   19.25 |      18 | \n"
     ]
    }
   ],
   "source": [
    "for person in scores:\n",
    "    for item in person:\n",
    "        print(\"{0:7} | \".format(item), end='')\n",
    "        \n",
    "    print()"
   ]
  },
  {
   "cell_type": "markdown",
   "id": "624d9a12-241d-4a0c-9c4b-2e7dafa699f0",
   "metadata": {
    "id": "ZRjNvNoBmES8"
   },
   "source": [
    "<p dir=rtl style=\"direction: rtl;text-align: right;line-height:200%;font-family:vazir;font-size:medium\">\n",
    "<font face=\"vazir\" size=3, color='midnightblue'>\n",
    "اگر طول یکی از رشته‌ها زیاد باشد، بهتر است فرمت رشته‌ها و اعداد را جدا مشخص کنیم.\n",
    "    </font>\n",
    "</p>"
   ]
  },
  {
   "cell_type": "code",
   "execution_count": 34,
   "id": "e28148bc-a47f-4cf0-b929-b8b68b0c84e3",
   "metadata": {},
   "outputs": [
    {
     "name": "stdout",
     "output_type": "stream",
     "text": [
      "Ali Mohammadi   |  19.50 |  20.00 |  18.00 | \n",
      "Sara            |  20.00 |  19.00 |   9.75 | \n",
      "Nina            |  19.00 |  19.25 |  18.00 | \n"
     ]
    }
   ],
   "source": [
    "scores = [['Ali Mohammadi', 19.5, 20, 18],\n",
    "          ['Sara', 20, 19, 9.75],\n",
    "          ['Nina', 19, 19.25, 18]]\n",
    "for person in scores:\n",
    "    for item in person:\n",
    "        if type(item) == str:\n",
    "            print(\"{0:15s} | \".format(item), end='')\n",
    "        else:\n",
    "            print(\"{0:6.2f} | \".format(item), end='')\n",
    "        \n",
    "    print()"
   ]
  },
  {
   "cell_type": "markdown",
   "id": "03ca82c4-386b-418b-8413-01bf7d326e8a",
   "metadata": {},
   "source": [
    "<br>\n",
    "<div dir=rtl id=\"start\" style=\"direction:rtl;line-height:200%;\">\n",
    "\t<font face=\"vazir\" size=6 color='darkorange'>\n",
    "قالب بندی Fill Align Sign\n",
    "    </font>    \n",
    "</p>"
   ]
  },
  {
   "cell_type": "markdown",
   "id": "331d47ae-dc45-49b7-9488-b1b7a7faa397",
   "metadata": {
    "id": "ZRjNvNoBmES8"
   },
   "source": [
    "<p dir=rtl style=\"direction: rtl;text-align: right;line-height:200%;font-family:vazir;font-size:medium\">\n",
    "<font face=\"vazir\" size=4>\n",
    "می‌توانیم به جای space از کاراکترهای دیگری در فرمت استفاده کنیم. در این صورت کاراکتر را قبل از عدد قرار می‌دهیم. علامت < عدد را سمت راست کاراکتر، علامت > سمت چپ و علامت ^ عدد را وسط قرار می‌دهد.\n",
    "    </font>   \n",
    "</p>"
   ]
  },
  {
   "cell_type": "code",
   "execution_count": 49,
   "id": "ece3a2e0-a378-4fe6-af70-fa050f3e45bd",
   "metadata": {},
   "outputs": [
    {
     "name": "stdout",
     "output_type": "stream",
     "text": [
      "_x700x_\n"
     ]
    }
   ],
   "source": [
    "x = 700\n",
    "print(\"_{0:x^5d}_\".format(x))"
   ]
  },
  {
   "cell_type": "markdown",
   "id": "7b64873a-efbe-4c74-bb8d-4f785a207ee6",
   "metadata": {
    "id": "ZRjNvNoBmES8"
   },
   "source": [
    "<p dir=rtl style=\"direction: rtl;text-align: right;line-height:200%;font-family:vazir;font-size:medium\">\n",
    "<font face=\"vazir\" size=4>\n",
    "دستور فرمت {,:} عدد را سه رقم سه رقم از راست جدا می‌کند.\n",
    "    </font>   \n",
    "</p>"
   ]
  },
  {
   "cell_type": "code",
   "execution_count": 52,
   "id": "f4e2ec69-328e-4045-8b1a-def9e86a9045",
   "metadata": {},
   "outputs": [
    {
     "name": "stdout",
     "output_type": "stream",
     "text": [
      "1,234,567,890\n"
     ]
    }
   ],
   "source": [
    "print(\"{:,}\".format(1234567890))"
   ]
  },
  {
   "cell_type": "markdown",
   "id": "59f93b30-b4c0-4ad6-a473-d38fd9662ecd",
   "metadata": {},
   "source": [
    "<br>\n",
    "<div dir=rtl id=\"start\" style=\"direction:rtl;line-height:200%;\">\n",
    "\t<font face=\"vazir\" size=6 color='gold'>\n",
    "مثال\n",
    "    </font>    \n",
    "</p>"
   ]
  },
  {
   "cell_type": "markdown",
   "id": "aa79baf6-c98d-4f53-8f1a-b0f82ddd8895",
   "metadata": {
    "id": "ZRjNvNoBmES8"
   },
   "source": [
    "<p dir=rtl style=\"direction: rtl;text-align: right;line-height:200%;font-family:vazir;font-size:medium\">\n",
    "<font face=\"vazir\" size=3, color='midnightblue'>\n",
    "میخواهیم لیست نمرات دانشجویان را به صورت جدولی پرینت کنیم\n",
    "    </font>\n",
    "</p>"
   ]
  },
  {
   "cell_type": "code",
   "execution_count": 1,
   "id": "7595a9ce-7e1d-41fe-b499-6673c2743eb4",
   "metadata": {},
   "outputs": [
    {
     "name": "stdout",
     "output_type": "stream",
     "text": [
      "[[1000123456, 'Rubble', 'Test_3', 80, 'Test_4', 80, 'quiz', 90], [1000123210, 'Bunny', 'Test_2', 100, 'Test_1', 100, 'Test_3', 100, 'Test_4', 100], [1000123458, 'Duck', 'Test_1', 86, 'Test_5', 100, 'Test_2', 93, 'Test_4', 94]]\n"
     ]
    }
   ],
   "source": [
    "Scores_list = [[1000123456, 'Rubble', 'Test_3',  80, 'Test_4' , 80, 'quiz' , 90],\n",
    "               [1000123210, 'Bunny', 'Test_2', 100, 'Test_1', 100,'Test_3'   , 100 ,'Test_4' , 100],\n",
    "               [1000123458, 'Duck', 'Test_1', 86, 'Test_5'   , 100 , 'Test_2' ,93 ,'Test_4', 94]]\n",
    "print(Scores_list)"
   ]
  },
  {
   "cell_type": "markdown",
   "id": "cb0f0d79-cda0-49ae-83d1-9edf09bcac2f",
   "metadata": {
    "id": "ZRjNvNoBmES8"
   },
   "source": [
    "<p dir=rtl style=\"direction: rtl;text-align: right;line-height:200%;font-family:vazir;font-size:medium\">\n",
    "<font face=\"vazir\" size=3, color='midnightblue'>\n",
    "ابتدا لیست را به دیکشنری تبدیل می‌کنیم به طوری که آی‌دی هر دانشجو key های ما و نام و نمرات به ترتیب شماره تست‌ها valueها باشند.  \n",
    "    <br>\n",
    "نام ستون‌ها را با فرمت مشخص پرینت می‌کنیم. کلید دیکشنری را مرتب می‌کنیم، سپس مقادیر را با همان فرمت نام ستون‌ها پرینت می‌گیریم.   \n",
    "    </font>\n",
    "</p>"
   ]
  },
  {
   "cell_type": "code",
   "execution_count": 26,
   "id": "f277bee5-fb33-4f84-bb4d-d182a487bb47",
   "metadata": {},
   "outputs": [
    {
     "data": {
      "text/plain": [
       "{1000123456: ['Rubble', 0, 0, 80, 80, 40.0],\n",
       " 1000123210: ['Bunny', 100, 100, 100, 100, 100.0],\n",
       " 1000123458: ['Duck', 86, 93, 0, 94, 68.25]}"
      ]
     },
     "execution_count": 26,
     "metadata": {},
     "output_type": "execute_result"
    }
   ],
   "source": [
    "students_list = Scores_list.copy()\n",
    "Grades_dict = {}\n",
    "for student in students_list:\n",
    "    test_1,test_2,test_3,test_4 = 0,0,0,0\n",
    "    if 'Test_1' in student:\n",
    "         test_1 = int(student[student.index('Test_1')+1])\n",
    "    if 'Test_2' in student:\n",
    "        test_2 = int(student[student.index('Test_2')+1])\n",
    "    if 'Test_3' in student:\n",
    "        test_3 = int(student[student.index('Test_3')+1])\n",
    "    if 'Test_4' in student:\n",
    "        test_4 = int(student[student.index('Test_4')+1])\n",
    "    average = (test_1+test_2+test_3+test_4)/4\n",
    "    Grades_dict[student[0]] = [student[1],test_1,test_2,test_3,test_4,average]\n",
    "Grades_dict "
   ]
  },
  {
   "cell_type": "code",
   "execution_count": 37,
   "id": "a231cd59-8f1f-4bd5-8dfd-a401da82489a",
   "metadata": {},
   "outputs": [
    {
     "name": "stdout",
     "output_type": "stream",
     "text": [
      "    ID     |       Name       | Test_1 | Test_2 | Test_3 | Test_4 |  Avg.  |\n",
      "1000123210 | Bunny            |    100 |    100 |    100 |    100 | 100.00 |\n",
      "1000123456 | Rubble           |      0 |      0 |     80 |     80 |  40.00 |\n",
      "1000123458 | Duck             |     86 |     93 |      0 |     94 |  68.25 |\n"
     ]
    }
   ],
   "source": [
    "#print columns titles\n",
    "column_title = \"{0:^10} | {1:^16} | {2:^6} | {3:^6} | {4:^6} | {5:^6} | {6:^6} |\".format('ID',\n",
    "                                             'Name','Test_1','Test_2','Test_3','Test_4','Avg.')\n",
    "print(column_title)\n",
    "\n",
    "#sort students' ID \n",
    "grades_dict_keys = list(Grades_dict.keys())\n",
    "grades_dict_keys = [int(x) for x in grades_dict_keys]\n",
    "grades_dict_keys.sort()\n",
    "\n",
    "#print students' ID , name, scores\n",
    "for ID in grades_dict_keys:\n",
    "    column_value = \"{0:10} | {1:16} | {2:6} | {3:6} | {4:6} | {5:6} | {6:6.2f} |\".format(ID,Grades_dict[ID][0],\n",
    "                Grades_dict[ID][1],Grades_dict[ID][2],Grades_dict[ID][3],Grades_dict[ID][4],Grades_dict[ID][5])\n",
    "    print(column_value)"
   ]
  },
  {
   "cell_type": "markdown",
   "id": "e2bcb959-c22b-42fd-a167-f8ff3357b779",
   "metadata": {},
   "source": [
    "<br>\n",
    "<div dir=rtl id=\"start\" style=\"direction:rtl;line-height:200%;\">\n",
    "\t<font face=\"vazir\" size=7 color='Red'>\n",
    "فضاهای نام‌\n",
    "    </font>\n",
    "</div>"
   ]
  },
  {
   "cell_type": "markdown",
   "id": "8f663f96-4640-4542-a58c-a9d47f0b2f9f",
   "metadata": {
    "id": "ZRjNvNoBmES8"
   },
   "source": [
    "<p dir=rtl style=\"direction: rtl;text-align: right;line-height:200%;font-family:vazir;font-size:medium\">\n",
    "<font face=\"vazir\" size=4>\n",
    "هر متغیری که تعریف می‌کنیم در یک فضایی ذخیره می‌شود. یک فضای نام کلی داریم (name space global) که متغیرهای اصلی در آن ذخیره می‌شوند و یک فضای نام تابع داریم که هرگاه تابع را صدا می‌زنیم آن فضا و حافظه ایجاد می‌شود و بعد از آنکه جواب گرفتیم، فضای نام تابع از حافظه پاک می‌شود. برای مثال اگر همچین برنامه‌ای داشته باشیم:\n",
    "    </font>\n",
    "</p>"
   ]
  },
  {
   "cell_type": "markdown",
   "id": "1c82a90b-f726-4ea0-a808-a3358031fb59",
   "metadata": {
    "id": "ZRjNvNoBmES8"
   },
   "source": [
    "<p dir=rtl style=\"direction: rtl;text-align: right;line-height:200%;font-family:vazir;font-size:medium\">\n",
    "<font face=\"vazir\" size=4>\n",
    "    </font>\n",
    "    </div>\n",
    "    \n",
    "```python\n",
    "def addtwo(n):\n",
    "    adder = 2\n",
    "    output = n + adder\n",
    "    return output\n",
    "x = 5\n",
    "y = addtwo(x)\n",
    "print(y)\n",
    "```   \n",
    "</p>"
   ]
  },
  {
   "cell_type": "markdown",
   "id": "c44b787b-bb5d-4591-9b0a-c9f074a24560",
   "metadata": {
    "id": "ZRjNvNoBmES8"
   },
   "source": [
    "<p dir=rtl style=\"direction: rtl;text-align: right;line-height:200%;font-family:vazir;font-size:medium\">\n",
    "<font face=\"vazir\" size=4>\n",
    "در برنامه بالا در فضای global این متغیرها تشکیل می‌شوند.\n",
    "    </font>   \n",
    "</p>"
   ]
  },
  {
   "cell_type": "markdown",
   "id": "09c1b0ff-b9d9-455c-b67f-ddbab521f3ef",
   "metadata": {},
   "source": [
    "# ns global:\n",
    "\n",
    "    addtwo --> داخل تابع نمی‌رود چون هنوز صدا زده نشده\n",
    "    \n",
    "    x --> 5\n",
    "    \n",
    "    y --> ...\n",
    "\n",
    "# ns addtwo: \n",
    "وقتی تابع را صدا می‌زند، داخل تابع می‌رود\n",
    "    \n",
    "    n --> (5)\n",
    "    \n",
    "    adder --> 2\n",
    "    \n",
    "    output --> 7 بعد از خروج از تابع فضای نام تابع را می‌بندد\n",
    "    "
   ]
  },
  {
   "cell_type": "markdown",
   "id": "34b5cc16-447f-4977-a41e-6eef218399f4",
   "metadata": {
    "id": "ZRjNvNoBmES8"
   },
   "source": [
    "<p dir=rtl style=\"direction: rtl;text-align: right;line-height:200%;font-family:vazir;font-size:medium\">\n",
    "<font face=\"vazir\" size=4>\n",
    "حتی اگر در تابع یک متغیر هم نام برنامه اصلی باشد، از آنجایی که فضای نام آنها جدا تشکیل می‌شود هیچ مشکلی ندارد.\n",
    "    </font>   \n",
    "</p>"
   ]
  },
  {
   "cell_type": "markdown",
   "id": "fe28ae0d-4093-4936-a0f9-6afa8a0812ed",
   "metadata": {},
   "source": [
    "<br>\n",
    "<div dir=rtl id=\"start\" style=\"direction:rtl;line-height:200%;\">\n",
    "\t<font face=\"vazir\" size=6 color='darkorange'>\n",
    "محدوده متغیرها\n",
    "    </font>    \n",
    "</p>"
   ]
  },
  {
   "cell_type": "markdown",
   "id": "c0ad74dd-7564-4b18-a9ee-3baf6d4f43ef",
   "metadata": {
    "id": "ZRjNvNoBmES8"
   },
   "source": [
    "<p dir=rtl style=\"direction: rtl;text-align: right;line-height:200%;font-family:vazir;font-size:medium\">\n",
    "<font face=\"vazir\" size=4>\n",
    "اگر یک تابع درون یک تابع دیگر در برنامه اصلی داشته باشیم و داخل همه‌ی انها یک متغیر مشترک وجود داشته باشد، اگر در هر مرحله x را نداشته باشیم از x مرحله قبل استفاده می‌کند. مثلا اگر x داخل تابع داخلی تعریف نشده باشد از x بیرونی استفاده می‌کند و اگر در تابع بیرونی هم نداشته باشیم از x خود برنامه (global) اگر آن هم نباشد و در build-in باشد، از آنجا فراخوانی می‌کند.\n",
    "    </font>   \n",
    "</p>"
   ]
  },
  {
   "cell_type": "code",
   "execution_count": 4,
   "id": "dc9d914c-c193-4b0f-bbb3-da4d98f0972e",
   "metadata": {},
   "outputs": [
    {
     "name": "stdout",
     "output_type": "stream",
     "text": [
      "11\n"
     ]
    }
   ],
   "source": [
    "def test():\n",
    "    x = 7\n",
    "    return x\n",
    "\n",
    "x=11\n",
    "test()\n",
    "print(x)"
   ]
  },
  {
   "cell_type": "code",
   "execution_count": 5,
   "id": "8ad4b1bf-7368-4ffe-9419-f212ea664be4",
   "metadata": {},
   "outputs": [
    {
     "name": "stdout",
     "output_type": "stream",
     "text": [
      "7\n"
     ]
    }
   ],
   "source": [
    "def test():\n",
    "    global x\n",
    "    x = 7\n",
    "    \n",
    "\n",
    "x=11\n",
    "test()\n",
    "print(x)"
   ]
  },
  {
   "cell_type": "markdown",
   "id": "3516ad68-89da-40ea-9be1-ad218cf11db2",
   "metadata": {},
   "source": [
    "<br>\n",
    "<div dir=rtl id=\"start\" style=\"direction:rtl;line-height:200%;\">\n",
    "\t<font face=\"vazir\" size=7 color='Red'>\n",
    "مدیریت خطاها\n",
    "    </font>\n",
    "</div>"
   ]
  },
  {
   "cell_type": "markdown",
   "id": "05b4efac-4d95-432e-9990-e402f8bd5682",
   "metadata": {},
   "source": [
    "<br>\n",
    "<div dir=rtl id=\"start\" style=\"direction:rtl;line-height:200%;\">\n",
    "\t<font face=\"vazir\" size=6 color='darkorange'>\n",
    "خطاها و استثناها\n",
    "    </font>    \n",
    "</p>"
   ]
  },
  {
   "cell_type": "markdown",
   "id": "34c3e866-f0e6-42a2-a0a5-f7dc8f1ecbd0",
   "metadata": {
    "id": "ZRjNvNoBmES8"
   },
   "source": [
    "<p dir=rtl style=\"direction: rtl;text-align: right;line-height:200%;font-family:vazir;font-size:medium\">\n",
    "<font face=\"vazir\" size=4>\n",
    "سه مدل خطا داریم و تقسیم‌بندی می‌کنیم:   \n",
    "    </font>   \n",
    "</p>"
   ]
  },
  {
   "cell_type": "markdown",
   "id": "767f14be-13f0-45fd-ad84-9d84689f914f",
   "metadata": {},
   "source": [
    "<br>\n",
    "<div dir=rtl id=\"start\" style=\"direction:ltr;line-height:200%;\">\n",
    "\t<font face=\"vazir\" size=6 color='gold'>\n",
    "1. Syntax error\n",
    "    </font>    \n",
    "</p>"
   ]
  },
  {
   "cell_type": "markdown",
   "id": "d5a56fea-dda8-4ec6-816c-c6d07fd2677d",
   "metadata": {
    "id": "ZRjNvNoBmES8"
   },
   "source": [
    "<p dir=rtl style=\"direction: rtl;text-align: right;line-height:200%;font-family:vazir;font-size:medium\">\n",
    "<font face=\"vazir\" size=4>\n",
    "یعنی چیزی که نوشته شده از لحاظ دستور آن زبان اشتباه است. در این صورت برنامه کلا run نمی‌شود.\n",
    "    </font>   \n",
    "</p>"
   ]
  },
  {
   "cell_type": "code",
   "execution_count": 7,
   "id": "1a50e8c6-a459-4b74-8f57-fc738eb660e5",
   "metadata": {},
   "outputs": [
    {
     "ename": "SyntaxError",
     "evalue": "cannot assign to literal (Temp/ipykernel_3268/1228457407.py, line 1)",
     "output_type": "error",
     "traceback": [
      "\u001b[1;36m  File \u001b[1;32m\"C:\\Users\\REHAFA\\AppData\\Local\\Temp/ipykernel_3268/1228457407.py\"\u001b[1;36m, line \u001b[1;32m1\u001b[0m\n\u001b[1;33m    4 = x\u001b[0m\n\u001b[1;37m    ^\u001b[0m\n\u001b[1;31mSyntaxError\u001b[0m\u001b[1;31m:\u001b[0m cannot assign to literal\n"
     ]
    }
   ],
   "source": [
    "4 = x"
   ]
  },
  {
   "cell_type": "markdown",
   "id": "04ffc404-7fde-4bf8-bc34-e818a7428d8d",
   "metadata": {},
   "source": [
    "<br>\n",
    "<div dir=rtl id=\"start\" style=\"direction:ltr;line-height:200%;\">\n",
    "\t<font face=\"vazir\" size=6 color='gold'>\n",
    "2. Semantic error\n",
    "    </font>    \n",
    "</p>"
   ]
  },
  {
   "cell_type": "markdown",
   "id": "8528ba7f-4ecf-4595-aaad-adee80216a31",
   "metadata": {
    "id": "ZRjNvNoBmES8"
   },
   "source": [
    "<p dir=rtl style=\"direction: rtl;text-align: right;line-height:200%;font-family:vazir;font-size:medium\">\n",
    "<font face=\"vazir\" size=4>\n",
    "دستور زبان درست باشد ولی دستور قابل اجرا نباشد. مثلا جمع عدد و رشته\n",
    "    </font>   \n",
    "</p>"
   ]
  },
  {
   "cell_type": "code",
   "execution_count": 8,
   "id": "7dddce35-5c67-48b3-a478-eb2289c91a01",
   "metadata": {},
   "outputs": [
    {
     "ename": "TypeError",
     "evalue": "unsupported operand type(s) for +: 'int' and 'str'",
     "output_type": "error",
     "traceback": [
      "\u001b[1;31m---------------------------------------------------------------------------\u001b[0m",
      "\u001b[1;31mTypeError\u001b[0m                                 Traceback (most recent call last)",
      "\u001b[1;32m~\\AppData\\Local\\Temp/ipykernel_3268/766114419.py\u001b[0m in \u001b[0;36m<module>\u001b[1;34m\u001b[0m\n\u001b[0;32m      1\u001b[0m \u001b[0mx\u001b[0m \u001b[1;33m=\u001b[0m \u001b[1;36m4\u001b[0m\u001b[1;33m\u001b[0m\u001b[1;33m\u001b[0m\u001b[0m\n\u001b[0;32m      2\u001b[0m \u001b[0my\u001b[0m \u001b[1;33m=\u001b[0m \u001b[1;34m'dog'\u001b[0m\u001b[1;33m\u001b[0m\u001b[1;33m\u001b[0m\u001b[0m\n\u001b[1;32m----> 3\u001b[1;33m \u001b[0mz\u001b[0m \u001b[1;33m=\u001b[0m \u001b[0mx\u001b[0m \u001b[1;33m+\u001b[0m \u001b[0my\u001b[0m\u001b[1;33m\u001b[0m\u001b[1;33m\u001b[0m\u001b[0m\n\u001b[0m",
      "\u001b[1;31mTypeError\u001b[0m: unsupported operand type(s) for +: 'int' and 'str'"
     ]
    }
   ],
   "source": [
    "x = 4\n",
    "y = 'dog'\n",
    "z = x + y"
   ]
  },
  {
   "cell_type": "markdown",
   "id": "64ed6f33-49db-4c2a-9a9e-cd993b089008",
   "metadata": {},
   "source": [
    "<br>\n",
    "<div dir=rtl id=\"start\" style=\"direction:ltr;line-height:200%;\">\n",
    "\t<font face=\"vazir\" size=6 color='gold'>\n",
    "3. Logical error\n",
    "    </font>    \n",
    "</p>"
   ]
  },
  {
   "cell_type": "markdown",
   "id": "709f50ef-fa88-4adc-bc6b-1dc5a4924493",
   "metadata": {
    "id": "ZRjNvNoBmES8"
   },
   "source": [
    "<p dir=rtl style=\"direction: rtl;text-align: right;line-height:200%;font-family:vazir;font-size:medium\">\n",
    "<font face=\"vazir\" size=4>\n",
    "برنامه اجرا می‌شود و خطا هم ندارد ولی جواب درست نمی‌دهد.\n",
    "    </font>   \n",
    "</p>"
   ]
  },
  {
   "cell_type": "markdown",
   "id": "8cca73ab-897b-46c3-b7f4-db3c9e3159c6",
   "metadata": {},
   "source": [
    "<br>\n",
    "<div dir=rtl id=\"start\" style=\"direction:rtl;line-height:200%;\">\n",
    "\t<font face=\"vazir\" size=6 color='darkorange'>\n",
    "مدیریت استثناها\n",
    "    </font>    \n",
    "</p>"
   ]
  },
  {
   "cell_type": "markdown",
   "id": "2748b852-af91-41a2-aca3-c8fa0b7e65bb",
   "metadata": {
    "id": "ZRjNvNoBmES8"
   },
   "source": [
    "<p dir=rtl style=\"direction: rtl;text-align: right;line-height:200%;font-family:vazir;font-size:medium\">\n",
    "<font face=\"vazir\" size=4>\n",
    "* پایتون یک جاهایی exception درست می‌کند. جاهایی که syntax درسته ولی در حین اجرا مشکل‌زاست. semantic error را می‌توانیم در برنامه به نوعی هندل کنیم. می‌گوییم اگر به مشکل خوردی چه کاری انجام بده.\n",
    "    </font>\n",
    "</p>"
   ]
  },
  {
   "cell_type": "markdown",
   "id": "f289c70b-d672-41ec-b1a2-ad1e2ba2b29a",
   "metadata": {
    "id": "ZRjNvNoBmES8",
    "tags": []
   },
   "source": [
    "<p dir=rtl style=\"direction: rtl;text-align: right;line-height:200%;font-family:vazir;font-size:medium\">\n",
    "<font face=\"vazir\" size=4>\n",
    "    </font>\n",
    "    </div>\n",
    "    \n",
    "```python\n",
    "try:\n",
    "    statement\n",
    "    ...\n",
    "except exception1, var:\n",
    "    statement\n",
    "except exception2, var:\n",
    "    statement\n",
    "else:\n",
    "    statement\n",
    "finally:\n",
    "    statement\n",
    "```   \n",
    "</p>"
   ]
  },
  {
   "cell_type": "markdown",
   "id": "04f87caa-2e6a-416c-9b7c-9aefd684d9b9",
   "metadata": {
    "id": "ZRjNvNoBmES8"
   },
   "source": [
    "<p dir=rtl style=\"direction: rtl;text-align: right;line-height:200%;font-family:vazir;font-size:medium\">\n",
    "<font face=\"vazir\" size=4>\n",
    "با سرچ عبارت python exceptions به لیستی از خطاها می‌رسیم.\n",
    "    </font>   \n",
    "</p>"
   ]
  },
  {
   "cell_type": "code",
   "execution_count": 14,
   "id": "fdfda494-590f-46bd-a0ea-4250bb175f1d",
   "metadata": {},
   "outputs": [
    {
     "name": "stdin",
     "output_type": "stream",
     "text": [
      "give me a number 5\n"
     ]
    },
    {
     "name": "stdout",
     "output_type": "stream",
     "text": [
      "15.0\n"
     ]
    }
   ],
   "source": [
    "number = input ('give me a number')\n",
    "try:\n",
    "    number = float(number)\n",
    "except ValueError:\n",
    "    number = 0\n",
    "finally:\n",
    "    number += 10\n",
    "    \n",
    "print(number)"
   ]
  },
  {
   "cell_type": "code",
   "execution_count": 16,
   "id": "1257b9f0-ef7b-4821-a84f-dedd6faaa503",
   "metadata": {},
   "outputs": [
    {
     "name": "stdin",
     "output_type": "stream",
     "text": [
      "give me a number \"dog\"\n"
     ]
    },
    {
     "name": "stdout",
     "output_type": "stream",
     "text": [
      "Not a Number, I replace 0\n",
      "10\n"
     ]
    }
   ],
   "source": [
    "number = input ('give me a number')\n",
    "try:\n",
    "    number = float(number)\n",
    "except ValueError:\n",
    "    number = 0\n",
    "    print('Not a Number, I replace 0')\n",
    "finally:\n",
    "    number += 10\n",
    "    \n",
    "print(number)"
   ]
  },
  {
   "cell_type": "markdown",
   "id": "fe3fe320-2255-48f3-ac61-00ebe171b0b5",
   "metadata": {},
   "source": [
    "<br>\n",
    "<div dir=rtl id=\"start\" style=\"direction:ltr;line-height:200%;\">\n",
    "\t<font face=\"vazir\" size=7 color='Red'>\n",
    "The END\n",
    "    </font>\n",
    "</div>"
   ]
  }
 ],
 "metadata": {
  "kernelspec": {
   "display_name": "Python 3 (ipykernel)",
   "language": "python",
   "name": "python3"
  },
  "language_info": {
   "codemirror_mode": {
    "name": "ipython",
    "version": 3
   },
   "file_extension": ".py",
   "mimetype": "text/x-python",
   "name": "python",
   "nbconvert_exporter": "python",
   "pygments_lexer": "ipython3",
   "version": "3.9.7"
  }
 },
 "nbformat": 4,
 "nbformat_minor": 5
}
