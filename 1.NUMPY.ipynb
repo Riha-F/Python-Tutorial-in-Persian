{
 "cells": [
  {
   "cell_type": "markdown",
   "id": "7be07490-1b63-4ce2-97e6-89463cfcca10",
   "metadata": {},
   "source": [
    "<h1 align=ltr style=\"line-height:200%;font-family:vazir;color:#0099cc\">\n",
    "<font face=\"vazir\" size=6 color=\"blue\" >\n",
    "Tutorial in Persian\n",
    "    <br>\n",
    "    by Reyhane Faraji\n",
    "    </font>\n",
    "</h1>"
   ]
  },
  {
   "cell_type": "markdown",
   "id": "0046aefc-b1b1-4a73-acb2-55ecbe798c2e",
   "metadata": {},
   "source": [
    "<h1 align=center style=\"line-height:200%;font-family:vazir;color:#0099cc\">\n",
    "<font face=\"vazir\" size=10 color=\"maroon\" >\n",
    "NUMPY\n",
    "</font>\n",
    "</h1>"
   ]
  },
  {
   "cell_type": "markdown",
   "id": "0c0758a6-7207-4162-83b7-fceb8e625d92",
   "metadata": {
    "id": "ZRjNvNoBmES8"
   },
   "source": [
    "<p dir=rtl style=\"direction: rtl;text-align: right;line-height:200%;font-family:vazir;font-size:medium\">\n",
    "<font face=\"vazir\" size=4>\n",
    "نامپاي یک کتابخانه جبر خطی برای پایتون است، به دليل اينکه تقریباً همه کتابخانه‌های مربوط به علم داده در يکي از بلوک‌های خود به آن متکی است، کتابخانه‌ی مهمی برای آن است.\n",
    "    <br>\n",
    "    برای استفاده از آن ابتدا باید آن را import کنیم. برای راحتی در طول برنامه نویسی مرسوم است که آن را با حروف اختصاری np وارد می‌کنیم.\n",
    "    </font>\n",
    "</p>"
   ]
  },
  {
   "cell_type": "code",
   "execution_count": 1,
   "id": "cc51012a-9c7b-4340-9340-cea739ca787e",
   "metadata": {},
   "outputs": [],
   "source": [
    "import numpy as np"
   ]
  },
  {
   "cell_type": "markdown",
   "id": "940693de-9391-4b28-acc3-9d5692f4027c",
   "metadata": {},
   "source": [
    "<br>\n",
    "<div dir=rtl id=\"start\" style=\"direction:rtl;line-height:200%;\">\n",
    "\t<font face=\"vazir\" size=7 color='Red'>\n",
    "    Array and Matrix\n",
    "    </font>\n",
    "</div>"
   ]
  },
  {
   "cell_type": "markdown",
   "id": "17dd17d8-a16b-424a-87ec-0ce4586d3f38",
   "metadata": {
    "id": "ZRjNvNoBmES8"
   },
   "source": [
    "<p dir=rtl style=\"direction: rtl;text-align: right;line-height:200%;font-family:vazir;font-size:medium\">\n",
    "<font face=\"vazir\" size=4>\n",
    " میتوانیم با array و  matrix در np، آرایه و ماتریس را تعریف کنیم:\n",
    "</font>\n",
    "</p>"
   ]
  },
  {
   "cell_type": "code",
   "execution_count": 2,
   "id": "2a10beeb-5070-488a-a055-cf6b678d03d6",
   "metadata": {},
   "outputs": [
    {
     "data": {
      "text/plain": [
       "array([[1, 2],\n",
       "       [3, 4]])"
      ]
     },
     "execution_count": 2,
     "metadata": {},
     "output_type": "execute_result"
    }
   ],
   "source": [
    "a=np.array([[1,2],[3,4]])\n",
    "a"
   ]
  },
  {
   "cell_type": "code",
   "execution_count": 3,
   "id": "f474804d-e8b3-4362-8b88-57d68a1e2def",
   "metadata": {},
   "outputs": [
    {
     "data": {
      "text/plain": [
       "matrix([[1, 2],\n",
       "        [3, 4]])"
      ]
     },
     "execution_count": 3,
     "metadata": {},
     "output_type": "execute_result"
    }
   ],
   "source": [
    "b=np.matrix([[1,2],[3,4]])\n",
    "b"
   ]
  },
  {
   "cell_type": "markdown",
   "id": "1dc38556-9aac-44a1-9a84-5688528af17a",
   "metadata": {},
   "source": [
    "<br>\n",
    "<div dir=rtl id=\"start\" style=\"direction:rtl;line-height:200%;\">\n",
    "\t<font face=\"vazir\" size=6 color='Orange'>\n",
    "    تفاوت Array و Matrix\n",
    "    </font>\n",
    "</div>"
   ]
  },
  {
   "cell_type": "markdown",
   "id": "f1d28247-cc21-488f-b682-ac166748fc63",
   "metadata": {
    "id": "ZRjNvNoBmES8"
   },
   "source": [
    "<p dir=rtl style=\"direction: rtl;text-align: right;line-height:200%;font-family:vazir;font-size:medium\">\n",
    "<font face=\"vazir\" size=4>\n",
    " 1) ماتریس دو بعدی است فقط، ولی array میتواند 1d, 2d, 3d یا بالاتر باشد.\n",
    "    عملگر .ndim بعد را میدهد\n",
    "</font>\n",
    "</p>"
   ]
  },
  {
   "cell_type": "code",
   "execution_count": 4,
   "id": "7f0b9ff7-0316-40a0-8fad-23a95f0da981",
   "metadata": {},
   "outputs": [
    {
     "name": "stdout",
     "output_type": "stream",
     "text": [
      "[1 2 3]\n",
      "\n",
      "Dimension: (3,)\n",
      "No. of Dimension: 1\n"
     ]
    }
   ],
   "source": [
    "A=np.array([1,2,3])\n",
    "print(A)\n",
    "print('\\nDimension:',A.shape)\n",
    "print('No. of Dimension:',A.ndim)"
   ]
  },
  {
   "cell_type": "markdown",
   "id": "7df7d30d-598d-4d29-960b-6bf2ff34685d",
   "metadata": {
    "id": "ZRjNvNoBmES8"
   },
   "source": [
    "<p dir=rtl style=\"direction: rtl;text-align: right;line-height:200%;font-family:vazir;font-size:medium\">\n",
    "<font face=\"vazir\" size=3 color='midnightblue'>\n",
    "اگر مثال بالا را به جای array با matrix تعریف کنیم، بعد را 2 نشان میدهد زیرا ماتریس همیشه 2 بعدی است.\n",
    "</font>\n",
    "</p>"
   ]
  },
  {
   "cell_type": "code",
   "execution_count": 5,
   "id": "f570c235-c506-4c16-a623-c7182478a4c3",
   "metadata": {},
   "outputs": [
    {
     "name": "stdout",
     "output_type": "stream",
     "text": [
      "[[1 2 3]]\n",
      "\n",
      "Dimension: (1, 3)\n",
      "No. of Dimension: 2\n"
     ]
    }
   ],
   "source": [
    "A=np.matrix([1,2,3])\n",
    "print(A)\n",
    "print('\\nDimension:',A.shape)\n",
    "print('No. of Dimension:',A.ndim)"
   ]
  },
  {
   "cell_type": "markdown",
   "id": "3b952225-4bf0-4e38-8461-fe673913fa82",
   "metadata": {
    "id": "ZRjNvNoBmES8"
   },
   "source": [
    "<p dir=rtl style=\"direction: rtl;text-align: right;line-height:200%;font-family:vazir;font-size:medium\">\n",
    "<font face=\"vazir\" size=3 color='midnightblue'>\n",
    "آرایه دو بعدی و ماتریس دو بعدی مانند هم هستند:\n",
    "</font>\n",
    "</p>"
   ]
  },
  {
   "cell_type": "code",
   "execution_count": 6,
   "id": "fd78237f-b9ba-499f-a708-3be7f4ee649a",
   "metadata": {},
   "outputs": [
    {
     "name": "stdout",
     "output_type": "stream",
     "text": [
      "[[1 2]\n",
      " [3 4]]\n",
      "\n",
      "Dimension: (2, 2)\n",
      "No. of Dimension: 2\n"
     ]
    }
   ],
   "source": [
    "B=np.array([[1,2],[3,4]])\n",
    "print(B)\n",
    "print('\\nDimension:',B.shape)\n",
    "print('No. of Dimension:',B.ndim)"
   ]
  },
  {
   "cell_type": "code",
   "execution_count": 7,
   "id": "3b929b33-8a38-4497-bf57-ba29ac1445bb",
   "metadata": {},
   "outputs": [
    {
     "name": "stdout",
     "output_type": "stream",
     "text": [
      "[[1 2]\n",
      " [3 4]]\n",
      "\n",
      "Dimension: (2, 2)\n",
      "No. of Dimension: 2\n"
     ]
    }
   ],
   "source": [
    "B=np.matrix([[1,2],[3,4]])\n",
    "print(B)\n",
    "print('\\nDimension:',B.shape)\n",
    "print('No. of Dimension:',B.ndim)"
   ]
  },
  {
   "cell_type": "markdown",
   "id": "b0b73907-e923-4003-a77c-fb60f8330e92",
   "metadata": {
    "id": "ZRjNvNoBmES8"
   },
   "source": [
    "<p dir=rtl style=\"direction: rtl;text-align: right;line-height:200%;font-family:vazir;font-size:medium\">\n",
    "<font face=\"vazir\" size=3 color='midnightblue'>\n",
    "آرایه بیشتر از 2 بعد هم داریم ولی ماتریس خیر. مثال زیر با دستور matrix خطا میدهد.\n",
    "</font>\n",
    "</p>"
   ]
  },
  {
   "cell_type": "code",
   "execution_count": 8,
   "id": "259adc02-8b68-4ade-a853-e3a5c2f51026",
   "metadata": {},
   "outputs": [
    {
     "name": "stdout",
     "output_type": "stream",
     "text": [
      "[[[ 1  2]\n",
      "  [ 3  4]]\n",
      "\n",
      " [[ 5  6]\n",
      "  [ 7  8]]\n",
      "\n",
      " [[ 9 10]\n",
      "  [11 12]]]\n",
      "\n",
      "Dimension: (3, 2, 2)\n",
      "No. of Dimension: 3\n"
     ]
    }
   ],
   "source": [
    "C=np.array([[[1,2],[3,4]],[[5,6],[7,8]],[[9,10],[11,12]]])\n",
    "print(C)\n",
    "print('\\nDimension:',C.shape)\n",
    "print('No. of Dimension:',C.ndim)"
   ]
  },
  {
   "cell_type": "code",
   "execution_count": 9,
   "id": "0a9d8118-2a4e-42bc-b1a2-034a2c52654c",
   "metadata": {},
   "outputs": [],
   "source": [
    "# C=np.matrix([[[1,2],[3,4]],[[5,6],[7,8]],[[9,10],[11,12]]])"
   ]
  },
  {
   "cell_type": "markdown",
   "id": "92f25c6c-562c-4ca0-b936-b8d255e01540",
   "metadata": {
    "id": "ZRjNvNoBmES8"
   },
   "source": [
    "<p dir=rtl style=\"direction: rtl;text-align: right;line-height:200%;font-family:vazir;font-size:medium\">\n",
    "<font face=\"vazir\" size=4>\n",
    "2) ماتریس و آرایه رفتار متفاوتی در برابر عملگر * دارند. * دو آرایه را عنصر به عنصر ضرب می کند ولی برای ماتریس، ضرب دو ماتریس را انجام میدهد.\n",
    "</font>\n",
    "</p>"
   ]
  },
  {
   "cell_type": "code",
   "execution_count": 10,
   "id": "d7d5f300-b24c-4024-bb78-bcea0b408b35",
   "metadata": {},
   "outputs": [
    {
     "name": "stdout",
     "output_type": "stream",
     "text": [
      "a*a:  [[ 1  4]\n",
      " [ 9 16]]\n",
      "b*b:  [[ 7 10]\n",
      " [15 22]]\n"
     ]
    }
   ],
   "source": [
    "a=np.array([[1,2],[3,4]])\n",
    "b=np.matrix([[1,2],[3,4]])\n",
    "print('a*a: ',a*a)\n",
    "print('b*b: ',b*b)"
   ]
  },
  {
   "cell_type": "markdown",
   "id": "d18ef740-7812-468d-81af-0d233d88a826",
   "metadata": {
    "id": "ZRjNvNoBmES8"
   },
   "source": [
    "<p dir=rtl style=\"direction: rtl;text-align: right;line-height:200%;font-family:vazir;font-size:medium\">\n",
    "<font face=\"vazir\" size=4>\n",
    "3) عملگر ** برای آرایه هر عنصر را به توان میرساند ولی برای ملتریس ضرب در خود ماتریس میکند.\n",
    "</font>\n",
    "</p>"
   ]
  },
  {
   "cell_type": "code",
   "execution_count": 11,
   "id": "a0b98b98-b50c-4195-9d29-f7b267cccf94",
   "metadata": {},
   "outputs": [
    {
     "name": "stdout",
     "output_type": "stream",
     "text": [
      "a**2:  [[ 1  4]\n",
      " [ 9 16]]\n",
      "b**2:  [[ 7 10]\n",
      " [15 22]]\n"
     ]
    }
   ],
   "source": [
    "print('a**2: ',a**2)\n",
    "print('b**2: ',b**2)"
   ]
  },
  {
   "cell_type": "markdown",
   "id": "67207b7f-d903-44ec-b981-908ae60bbff6",
   "metadata": {
    "id": "ZRjNvNoBmES8"
   },
   "source": [
    "<p dir=rtl style=\"direction: rtl;text-align: right;line-height:200%;font-family:vazir;font-size:medium\">\n",
    "<font face=\"vazir\" size=4>\n",
    "4) ماتریس زیرمجموعه آرایه است و تمام روشهای آرایه را ارث بری میکند.\n",
    "</font>\n",
    "</p>"
   ]
  },
  {
   "cell_type": "markdown",
   "id": "44d2321c-5189-4eb1-b9ee-0e8f5802a69e",
   "metadata": {
    "id": "ZRjNvNoBmES8"
   },
   "source": [
    "<p dir=rtl style=\"direction: rtl;text-align: right;line-height:200%;font-family:vazir;font-size:medium\">\n",
    "<font face=\"vazir\" size=4>\n",
    "5) عملگر .I عمل معکوس را برای ماتریس انجام میدهد ولی روی آرایه عمل نمیکند.\n",
    "</font>\n",
    "</p>"
   ]
  },
  {
   "cell_type": "code",
   "execution_count": 12,
   "id": "57e438a4-e095-48a0-8126-4238c5bad226",
   "metadata": {},
   "outputs": [
    {
     "name": "stdout",
     "output_type": "stream",
     "text": [
      "[[-2.   1. ]\n",
      " [ 1.5 -0.5]]\n"
     ]
    }
   ],
   "source": [
    "print(b.I)"
   ]
  },
  {
   "cell_type": "markdown",
   "id": "06293068-7152-4ba7-8801-96f0fa38886e",
   "metadata": {
    "id": "ZRjNvNoBmES8"
   },
   "source": [
    "<p dir=rtl style=\"direction: rtl;text-align: right;line-height:200%;font-family:vazir;font-size:medium\">\n",
    "<font face=\"vazir\" size=3 color='midnightblue'>\n",
    "برای معکوس کردن آرایه از عملگر np.linalg.inv() استفاده میکنیم.\n",
    "</font>\n",
    "</p>"
   ]
  },
  {
   "cell_type": "code",
   "execution_count": 13,
   "id": "c2814cb4-bbaa-4dd1-811c-96dfb6647bee",
   "metadata": {},
   "outputs": [
    {
     "data": {
      "text/plain": [
       "array([[-2. ,  1. ],\n",
       "       [ 1.5, -0.5]])"
      ]
     },
     "execution_count": 13,
     "metadata": {},
     "output_type": "execute_result"
    }
   ],
   "source": [
    "np.linalg.inv(a)"
   ]
  },
  {
   "cell_type": "markdown",
   "id": "50b4a29c-7f1b-4e34-93ad-2426e091e92d",
   "metadata": {
    "id": "ZRjNvNoBmES8"
   },
   "source": [
    "<p dir=rtl style=\"direction: rtl;text-align: right;line-height:200%;font-family:vazir;font-size:medium\">\n",
    "<font face=\"vazir\" size=4>\n",
    "6) array class از matrix class بیشتر استفاده میشود.\n",
    "</font>\n",
    "</p>"
   ]
  },
  {
   "cell_type": "markdown",
   "id": "29d564c4-dc74-4745-9400-b733cb7b80e4",
   "metadata": {},
   "source": [
    "<br>\n",
    "<div dir=rtl id=\"start\" style=\"direction:rtl;line-height:200%;\">\n",
    "\t<font face=\"vazir\" size=6 color='Orange'>\n",
    "    عملگرهای آرایه:\n",
    "    </font>\n",
    "</div>"
   ]
  },
  {
   "cell_type": "markdown",
   "id": "a834a049-d7a8-4656-96a0-565f07745712",
   "metadata": {
    "id": "ZRjNvNoBmES8"
   },
   "source": [
    "<p dir=rtl style=\"direction: rtl;text-align: right;line-height:200%;font-family:vazir;font-size:medium\">\n",
    "<font face=\"vazir\" size=4>\n",
    "برای ضرب ماتریسی دو آرایه از عملگر @ استفاده میکنیم.\n",
    "</font>\n",
    "</p>"
   ]
  },
  {
   "cell_type": "code",
   "execution_count": 14,
   "id": "b5e39327-c68c-4fb8-8888-ac1365f803e3",
   "metadata": {},
   "outputs": [
    {
     "data": {
      "text/plain": [
       "array([[ 7, 10],\n",
       "       [15, 22]])"
      ]
     },
     "execution_count": 14,
     "metadata": {},
     "output_type": "execute_result"
    }
   ],
   "source": [
    "a@a"
   ]
  },
  {
   "cell_type": "markdown",
   "id": "05067e57-a9fb-4fe9-aff8-8ce0073bc8f2",
   "metadata": {
    "id": "ZRjNvNoBmES8"
   },
   "source": [
    "<p dir=rtl style=\"direction: rtl;text-align: right;line-height:200%;font-family:vazir;font-size:medium\">\n",
    "<font face=\"vazir\" size=4>\n",
    "عملگر dot هم با دستور زیر همان کار را انجام میدهد.\n",
    "</font>\n",
    "</p>"
   ]
  },
  {
   "cell_type": "code",
   "execution_count": 15,
   "id": "521349cb-4a0b-46f7-a2a1-84b3c42abe40",
   "metadata": {},
   "outputs": [
    {
     "data": {
      "text/plain": [
       "array([[ 7, 10],\n",
       "       [15, 22]])"
      ]
     },
     "execution_count": 15,
     "metadata": {},
     "output_type": "execute_result"
    }
   ],
   "source": [
    "np.dot(a,a)"
   ]
  },
  {
   "cell_type": "markdown",
   "id": "e09b9308-45a3-439a-bcf7-65b0d94987b2",
   "metadata": {
    "id": "ZRjNvNoBmES8"
   },
   "source": [
    "<p dir=rtl style=\"direction: rtl;text-align: right;line-height:200%;font-family:vazir;font-size:medium\">\n",
    "<font face=\"vazir\" size=4>\n",
    "عملگر multiply روی آرایه مانند * عمل میکند.\n",
    "</font>\n",
    "</p>"
   ]
  },
  {
   "cell_type": "code",
   "execution_count": 16,
   "id": "7e4483cf-126f-4af1-957a-3e01a243bc54",
   "metadata": {},
   "outputs": [
    {
     "data": {
      "text/plain": [
       "array([[ 1,  4],\n",
       "       [ 9, 16]])"
      ]
     },
     "execution_count": 16,
     "metadata": {},
     "output_type": "execute_result"
    }
   ],
   "source": [
    "np.multiply(a,a)"
   ]
  },
  {
   "cell_type": "markdown",
   "id": "06111519-6088-43b5-aad7-76e1152c1773",
   "metadata": {
    "id": "ZRjNvNoBmES8"
   },
   "source": [
    "<p dir=rtl style=\"direction: rtl;text-align: right;line-height:200%;font-family:vazir;font-size:medium\">\n",
    "<font face=\"vazir\" size=4>\n",
    "عملگر prod تمام عناصر آرایه را در هم ضرب میکند.\n",
    "</font>\n",
    "</p>"
   ]
  },
  {
   "cell_type": "code",
   "execution_count": 17,
   "id": "d6b8396d-3614-45b9-b4df-0cb0fcbeedf7",
   "metadata": {},
   "outputs": [
    {
     "data": {
      "text/plain": [
       "24"
      ]
     },
     "execution_count": 17,
     "metadata": {},
     "output_type": "execute_result"
    }
   ],
   "source": [
    "np.prod(a)"
   ]
  },
  {
   "cell_type": "markdown",
   "id": "918dba92-abf0-4deb-ac33-a99fafc3773e",
   "metadata": {
    "id": "ZRjNvNoBmES8"
   },
   "source": [
    "<p dir=rtl style=\"direction: rtl;text-align: right;line-height:200%;font-family:vazir;font-size:medium\">\n",
    "<font face=\"vazir\" size=4>\n",
    "عمل broad casting:\n",
    "    <br>\n",
    "    یک عدد را با آرایه جمع میکنیم، عدد را گسترش میدهد و با تک تک عناصر جمع میکند.\n",
    "</font>\n",
    "</p>"
   ]
  },
  {
   "cell_type": "code",
   "execution_count": 18,
   "id": "4df5db5c-a1f0-4925-9f73-d0dd904fc4cf",
   "metadata": {},
   "outputs": [
    {
     "data": {
      "text/plain": [
       "array([6, 7, 8])"
      ]
     },
     "execution_count": 18,
     "metadata": {},
     "output_type": "execute_result"
    }
   ],
   "source": [
    "a=np.array([1,2,3])\n",
    "a+5"
   ]
  },
  {
   "cell_type": "markdown",
   "id": "72f41058-8b50-45a5-b518-cb9a2c2804a1",
   "metadata": {
    "id": "ZRjNvNoBmES8"
   },
   "source": [
    "<p dir=rtl style=\"direction: rtl;text-align: right;line-height:200%;font-family:vazir;font-size:medium\">\n",
    "<font face=\"vazir\" size=3 color='midnightblue'>\n",
    "در جمع یک آرایه 3*1 در 3*3 هم همین اتفاق می افتد.\n",
    "    <br>\n",
    "    این گسترش برای چهار عمل اصلی انجام میشود.\n",
    "</font>\n",
    "</p>"
   ]
  },
  {
   "cell_type": "markdown",
   "id": "70f1d71f-f01d-4e61-9c45-846b17bd219f",
   "metadata": {
    "id": "ZRjNvNoBmES8"
   },
   "source": [
    "<p dir=rtl style=\"direction: rtl;text-align: right;line-height:200%;font-family:vazir;font-size:medium\">\n",
    "<font face=\"vazir\" size=4>\n",
    "عملگر sum جمع تمام عناصر آرایه را میدهد.\n",
    "</font>\n",
    "</p>"
   ]
  },
  {
   "cell_type": "code",
   "execution_count": 19,
   "id": "6d37b901-cc1e-46cb-8239-c506cf636450",
   "metadata": {},
   "outputs": [
    {
     "data": {
      "text/plain": [
       "6"
      ]
     },
     "execution_count": 19,
     "metadata": {},
     "output_type": "execute_result"
    }
   ],
   "source": [
    "np.sum(a)"
   ]
  },
  {
   "cell_type": "markdown",
   "id": "208f53ba-ce2e-48b7-97d2-ae67d3d30da5",
   "metadata": {
    "id": "ZRjNvNoBmES8"
   },
   "source": [
    "<p dir=rtl style=\"direction: rtl;text-align: right;line-height:200%;font-family:vazir;font-size:medium\">\n",
    "<font face=\"vazir\" size=4>\n",
    "عملگر cumsum اولی را در اولین آرایه، جمع اول و دوم را در دومی و جمع اول و دوم و سوم را در سوم میگذارد و همین جور جلو میرود و آرایه ها را با هم جمع میکند..\n",
    "</font>\n",
    "</p>"
   ]
  },
  {
   "cell_type": "code",
   "execution_count": 20,
   "id": "5fb8ab64-8943-416d-98dc-932ac67779cf",
   "metadata": {},
   "outputs": [
    {
     "data": {
      "text/plain": [
       "array([ 1,  3,  6, 10])"
      ]
     },
     "execution_count": 20,
     "metadata": {},
     "output_type": "execute_result"
    }
   ],
   "source": [
    "a=np.array([[1,2],[3,4]])\n",
    "np.cumsum(a)"
   ]
  },
  {
   "cell_type": "markdown",
   "id": "5088d699-2dc5-435f-b5bf-65726f38de6c",
   "metadata": {
    "id": "ZRjNvNoBmES8"
   },
   "source": [
    "<p dir=rtl style=\"direction: rtl;text-align: right;line-height:200%;font-family:vazir;font-size:medium\">\n",
    "<font face=\"vazir\" size=3 color='midnightblue'>\n",
    "میتوانیم axis بدهیم. axis=0 برای ستون انجام میدهد و اگر axis=1 باشد برای سطرها انجام میدهد.\n",
    "    <br>\n",
    "    axis بالاتر برای آرایه با بعد بالاتر است.\n",
    "</font>\n",
    "</p>"
   ]
  },
  {
   "cell_type": "code",
   "execution_count": 21,
   "id": "69608589-64eb-4dd7-b596-925a7eaebd6e",
   "metadata": {},
   "outputs": [
    {
     "data": {
      "text/plain": [
       "array([[1, 2],\n",
       "       [4, 6]])"
      ]
     },
     "execution_count": 21,
     "metadata": {},
     "output_type": "execute_result"
    }
   ],
   "source": [
    "np.cumsum(a,axis=0)"
   ]
  },
  {
   "cell_type": "code",
   "execution_count": 22,
   "id": "3849abd3-7945-4480-b356-43bcb7c23746",
   "metadata": {},
   "outputs": [
    {
     "data": {
      "text/plain": [
       "array([[1, 3],\n",
       "       [3, 7]])"
      ]
     },
     "execution_count": 22,
     "metadata": {},
     "output_type": "execute_result"
    }
   ],
   "source": [
    "np.cumsum(a,axis=1)"
   ]
  },
  {
   "cell_type": "markdown",
   "id": "58e2e85c-5428-4500-b000-d3803237c473",
   "metadata": {
    "id": "ZRjNvNoBmES8"
   },
   "source": [
    "<p dir=rtl style=\"direction: rtl;text-align: right;line-height:200%;font-family:vazir;font-size:medium\">\n",
    "<font face=\"vazir\" size=4>\n",
    "عملگر subtract روی 2 آرایه، تک تک عناصر آرایه ها را از هم کم میکند.\n",
    "</font>\n",
    "</p>"
   ]
  },
  {
   "cell_type": "code",
   "execution_count": 23,
   "id": "c10ded7f-05ad-49dc-9049-d57f1097d406",
   "metadata": {},
   "outputs": [
    {
     "data": {
      "text/plain": [
       "array([[0, 0],\n",
       "       [0, 0]])"
      ]
     },
     "execution_count": 23,
     "metadata": {},
     "output_type": "execute_result"
    }
   ],
   "source": [
    "np.subtract(a,a)"
   ]
  },
  {
   "cell_type": "markdown",
   "id": "31f8dcfc-9dd6-4397-9dae-2e90ab7f8b3a",
   "metadata": {
    "id": "ZRjNvNoBmES8"
   },
   "source": [
    "<p dir=rtl style=\"direction: rtl;text-align: right;line-height:200%;font-family:vazir;font-size:medium\">\n",
    "<font face=\"vazir\" size=4>\n",
    "عملگر divide روی 2 آرایه، تک تک عناصر آرایه ها را تقسیم بر هم میکند. اگر روی یک آرایه و عدد اعمال شود، عناصر آرایه را تقسیم بر عدد میکند.\n",
    "</font>\n",
    "</p>"
   ]
  },
  {
   "cell_type": "code",
   "execution_count": 24,
   "id": "7554f5b8-b2c9-4377-9207-aafa4127c9ec",
   "metadata": {},
   "outputs": [
    {
     "data": {
      "text/plain": [
       "array([1.66666667, 2.        , 2.33333333])"
      ]
     },
     "execution_count": 24,
     "metadata": {},
     "output_type": "execute_result"
    }
   ],
   "source": [
    "np.divide([5,6,7],3)"
   ]
  },
  {
   "cell_type": "markdown",
   "id": "23f52869-6e57-4f55-a8d3-4fc513dbcbd8",
   "metadata": {
    "id": "ZRjNvNoBmES8"
   },
   "source": [
    "<p dir=rtl style=\"direction: rtl;text-align: right;line-height:200%;font-family:vazir;font-size:medium\">\n",
    "<font face=\"vazir\" size=3 color='midnightblue'>\n",
    "برای اینکه نتیجه اعداد صحیح باشد:\n",
    "</font>\n",
    "</p>"
   ]
  },
  {
   "cell_type": "code",
   "execution_count": 25,
   "id": "47c2080d-bbf8-4ac5-b8ce-20ebc24213ac",
   "metadata": {},
   "outputs": [
    {
     "data": {
      "text/plain": [
       "array([1, 2, 2], dtype=int32)"
      ]
     },
     "execution_count": 25,
     "metadata": {},
     "output_type": "execute_result"
    }
   ],
   "source": [
    "np.floor_divide([5,6,7],3)"
   ]
  },
  {
   "cell_type": "markdown",
   "id": "337de3c2-c345-4bd1-9d5c-c366e3bce778",
   "metadata": {
    "id": "ZRjNvNoBmES8"
   },
   "source": [
    "<p dir=rtl style=\"direction: rtl;text-align: right;line-height:200%;font-family:vazir;font-size:medium\">\n",
    "<font face=\"vazir\" size=4>\n",
    "عملگر sqrt روی اعداد حقیقی اعمال میشود. باید math را هم وارد کنیم.\n",
    "</font>\n",
    "</p>"
   ]
  },
  {
   "cell_type": "code",
   "execution_count": 26,
   "id": "2d2d3725-d277-4a8f-a3ad-c751b59a9895",
   "metadata": {},
   "outputs": [
    {
     "data": {
      "text/plain": [
       "2.449489742783178"
      ]
     },
     "execution_count": 26,
     "metadata": {},
     "output_type": "execute_result"
    }
   ],
   "source": [
    "np.math.sqrt(6)"
   ]
  },
  {
   "cell_type": "markdown",
   "id": "ec68d5c3-5e03-483f-bf51-d910b691dc9d",
   "metadata": {
    "id": "ZRjNvNoBmES8"
   },
   "source": [
    "<p dir=rtl style=\"direction: rtl;text-align: right;line-height:200%;font-family:vazir;font-size:medium\">\n",
    "<font face=\"vazir\" size=4>\n",
    "عملگر size مشخص میکند یک آرایه چند عنصر دارد.\n",
    "</font>\n",
    "</p>"
   ]
  },
  {
   "cell_type": "code",
   "execution_count": 28,
   "id": "e6f984b9-5e1b-46da-808f-998cdf6eaaf8",
   "metadata": {},
   "outputs": [
    {
     "data": {
      "text/plain": [
       "4"
      ]
     },
     "execution_count": 28,
     "metadata": {},
     "output_type": "execute_result"
    }
   ],
   "source": [
    "np.size(a)"
   ]
  },
  {
   "cell_type": "markdown",
   "id": "26b6edbf-b667-4376-8705-87b293226da7",
   "metadata": {
    "id": "ZRjNvNoBmES8"
   },
   "source": [
    "<p dir=rtl style=\"direction: rtl;text-align: right;line-height:200%;font-family:vazir;font-size:medium\">\n",
    "<font face=\"vazir\" size=4>\n",
    "عملگر shape ابعاد یک آرایه را میدهد.\n",
    "</font>\n",
    "</p>"
   ]
  },
  {
   "cell_type": "code",
   "execution_count": 29,
   "id": "c8a0c33a-29f2-40b1-a0eb-971e2fd917f4",
   "metadata": {},
   "outputs": [
    {
     "data": {
      "text/plain": [
       "(2, 2)"
      ]
     },
     "execution_count": 29,
     "metadata": {},
     "output_type": "execute_result"
    }
   ],
   "source": [
    "np.shape(a)"
   ]
  },
  {
   "cell_type": "markdown",
   "id": "6f8e0654-e643-48e3-839e-edf9bf232c69",
   "metadata": {
    "id": "ZRjNvNoBmES8"
   },
   "source": [
    "<p dir=rtl style=\"direction: rtl;text-align: right;line-height:200%;font-family:vazir;font-size:medium\">\n",
    "<font face=\"vazir\" size=4>\n",
    "تعداد بایت برای هر خانه آرایه\n",
    "    <br>\n",
    "    تعداد بایت برای کل آرایه\n",
    "</font>\n",
    "</p>"
   ]
  },
  {
   "cell_type": "code",
   "execution_count": 30,
   "id": "d9849222-055e-4e50-ac25-da4243f1d54c",
   "metadata": {},
   "outputs": [
    {
     "name": "stdout",
     "output_type": "stream",
     "text": [
      "4\n",
      "20\n"
     ]
    }
   ],
   "source": [
    "d = np.array(['h', 'e', 'l', 'l', 'o'])\n",
    "print(d.itemsize)\n",
    "print(d.nbytes)"
   ]
  },
  {
   "cell_type": "markdown",
   "id": "16f99ce3-8da8-4a73-a604-297b07684e02",
   "metadata": {
    "id": "ZRjNvNoBmES8"
   },
   "source": [
    "<p dir=rtl style=\"direction: rtl;text-align: right;line-height:200%;font-family:vazir;font-size:medium\">\n",
    "<font face=\"vazir\" size=4>\n",
    "عملگر tolist آرایه را به لیست تبدیل میکند.\n",
    "</font>\n",
    "</p>"
   ]
  },
  {
   "cell_type": "code",
   "execution_count": 31,
   "id": "76bde7fe-25e8-4889-8676-29b4cb0aa027",
   "metadata": {},
   "outputs": [
    {
     "data": {
      "text/plain": [
       "[1, 2, 3, 4]"
      ]
     },
     "execution_count": 31,
     "metadata": {},
     "output_type": "execute_result"
    }
   ],
   "source": [
    "e = np.array([1,2,3,4])\n",
    "e.tolist()"
   ]
  },
  {
   "cell_type": "markdown",
   "id": "6cf059e2-cb04-4ac9-8b4c-fb9176f7d60e",
   "metadata": {
    "id": "ZRjNvNoBmES8"
   },
   "source": [
    "<p dir=rtl style=\"direction: rtl;text-align: right;line-height:200%;font-family:vazir;font-size:medium\">\n",
    "<font face=\"vazir\" size=4>\n",
    "عملگر flatten ماتریس یا آرایه چند بعدی را تبدیل به یک ماتریس یا عملگر خطی میکند.\n",
    "    <br>\n",
    "    یک کپی از آرایه میگیرد و آرایه اولیه را تغییر نمیدهد.\n",
    "</font>\n",
    "</p>"
   ]
  },
  {
   "cell_type": "code",
   "execution_count": 32,
   "id": "d6890355-a01e-40a6-b1bc-bfd35ee93cd8",
   "metadata": {},
   "outputs": [
    {
     "data": {
      "text/plain": [
       "array([[1, 2, 3],\n",
       "       [4, 5, 6],\n",
       "       [7, 8, 9]])"
      ]
     },
     "execution_count": 32,
     "metadata": {},
     "output_type": "execute_result"
    }
   ],
   "source": [
    "a_array = np.array([[1,2,3],[4,5,6],[7,8,9]])\n",
    "a_array"
   ]
  },
  {
   "cell_type": "code",
   "execution_count": 33,
   "id": "600a672d-7d54-4646-aabc-ca61701914d1",
   "metadata": {},
   "outputs": [
    {
     "data": {
      "text/plain": [
       "array([1, 2, 3, 4, 5, 6, 7, 8, 9])"
      ]
     },
     "execution_count": 33,
     "metadata": {},
     "output_type": "execute_result"
    }
   ],
   "source": [
    "a_array.flatten()"
   ]
  },
  {
   "cell_type": "markdown",
   "id": "f0993554-7bc7-4c4e-b18d-1700d2164c68",
   "metadata": {
    "id": "ZRjNvNoBmES8"
   },
   "source": [
    "<p dir=rtl style=\"direction: rtl;text-align: right;line-height:200%;font-family:vazir;font-size:medium\">\n",
    "<font face=\"vazir\" size=3 color='midnightblue'>\n",
    "عملگر ravel هم همان کار را انجام میدهد با این تفاوت که کپی نمیگیرد و آرایه اولیه را تغییر میدهد.\n",
    "</font>\n",
    "</p>"
   ]
  },
  {
   "cell_type": "code",
   "execution_count": 34,
   "id": "23cc6382-466f-48bf-bf17-cdbf23edf0de",
   "metadata": {},
   "outputs": [
    {
     "data": {
      "text/plain": [
       "array([1, 2, 3, 4, 5, 6, 7, 8, 9])"
      ]
     },
     "execution_count": 34,
     "metadata": {},
     "output_type": "execute_result"
    }
   ],
   "source": [
    "a_array.ravel()"
   ]
  },
  {
   "cell_type": "markdown",
   "id": "723ca199-1195-4c64-8069-edb9c712e2e9",
   "metadata": {
    "id": "ZRjNvNoBmES8"
   },
   "source": [
    "<p dir=rtl style=\"direction: rtl;text-align: right;line-height:200%;font-family:vazir;font-size:medium\">\n",
    "<font face=\"vazir\" size=4>\n",
    "اگر آرایه را مانند set (مجموعه) در نظر بگیریم، عملگرهای زیر را روی آن اعمال میکنیم:\n",
    "    </font>\n",
    "</p>"
   ]
  },
  {
   "cell_type": "markdown",
   "id": "d81d4f6f-8a5b-4b63-970d-7541f5c9c68e",
   "metadata": {
    "id": "ZRjNvNoBmES8"
   },
   "source": [
    "<p dir=rtl style=\"direction: rtl;text-align: right;line-height:200%;font-family:vazir;font-size:medium\">\n",
    "<font face=\"vazir\" size=3 color='midnightblue'>\n",
    "    عملگر unique مقادیر غیرتکراری یک آرایه را میدهد.\n",
    "</font>\n",
    "</p>"
   ]
  },
  {
   "cell_type": "code",
   "execution_count": 35,
   "id": "531a5e0c-a732-4f2d-b754-2723cdb0be18",
   "metadata": {},
   "outputs": [
    {
     "data": {
      "text/plain": [
       "array([1, 2, 3, 4])"
      ]
     },
     "execution_count": 35,
     "metadata": {},
     "output_type": "execute_result"
    }
   ],
   "source": [
    "a = np.array([1,2,3,4,1,3])\n",
    "np.unique(a)"
   ]
  },
  {
   "cell_type": "markdown",
   "id": "33463af9-7551-404f-a37a-ca7f02468b49",
   "metadata": {
    "id": "ZRjNvNoBmES8"
   },
   "source": [
    "<p dir=rtl style=\"direction: rtl;text-align: right;line-height:200%;font-family:vazir;font-size:medium\">\n",
    "<font face=\"vazir\" size=3 color='midnightblue'>\n",
    "    عملگر union1d اتحاد (اجتماع) دو آرایه را میدهد.\n",
    "</font>\n",
    "</p>"
   ]
  },
  {
   "cell_type": "code",
   "execution_count": 36,
   "id": "db840b95-5b79-42d2-b315-b75b0f9f5e13",
   "metadata": {},
   "outputs": [
    {
     "data": {
      "text/plain": [
       "array([1, 2, 3, 4, 7, 8, 9])"
      ]
     },
     "execution_count": 36,
     "metadata": {},
     "output_type": "execute_result"
    }
   ],
   "source": [
    "b = np.array([7,8,9,1,3])\n",
    "np.union1d(a,b)"
   ]
  },
  {
   "cell_type": "markdown",
   "id": "ad760ffd-7dab-4919-8332-a136d7b8008e",
   "metadata": {
    "id": "ZRjNvNoBmES8"
   },
   "source": [
    "<p dir=rtl style=\"direction: rtl;text-align: right;line-height:200%;font-family:vazir;font-size:medium\">\n",
    "<font face=\"vazir\" size=3 color='midnightblue'>\n",
    "    عملگر intersect1d اشتراک دو آرایه را میدهد.\n",
    "</font>\n",
    "</p>"
   ]
  },
  {
   "cell_type": "code",
   "execution_count": 37,
   "id": "4ed2c6cc-6590-43aa-96ce-9960ea8b9061",
   "metadata": {},
   "outputs": [
    {
     "data": {
      "text/plain": [
       "array([1, 3])"
      ]
     },
     "execution_count": 37,
     "metadata": {},
     "output_type": "execute_result"
    }
   ],
   "source": [
    "np.intersect1d(a,b)"
   ]
  },
  {
   "cell_type": "markdown",
   "id": "81f5eeae-e017-496d-a890-32167c661261",
   "metadata": {},
   "source": [
    "<br>\n",
    "<div dir=rtl id=\"start\" style=\"direction:rtl;line-height:200%;\">\n",
    "\t<font face=\"vazir\" size=6 color='Orange'>\n",
    "    ساخت آرایه:\n",
    "    </font>\n",
    "</div>"
   ]
  },
  {
   "cell_type": "markdown",
   "id": "09cf17a8-2236-48ee-8612-cfc596437833",
   "metadata": {
    "id": "ZRjNvNoBmES8"
   },
   "source": [
    "<p dir=rtl style=\"direction: rtl;text-align: right;line-height:200%;font-family:vazir;font-size:medium\">\n",
    "<font face=\"vazir\" size=4>\n",
    "از عمگر ones , zeroe  برای ساخت آرایه با عناصر یک و صفر استفاده میکنیم.\n",
    "    <br>\n",
    "    اعداد داخل پرانتز تعیین کننده ابعاد آرایه هستند.\n",
    "</font>\n",
    "</p>"
   ]
  },
  {
   "cell_type": "code",
   "execution_count": 38,
   "id": "ac8541f2-cda6-458d-bf16-b35ce1498e99",
   "metadata": {},
   "outputs": [
    {
     "data": {
      "text/plain": [
       "array([[1., 1., 1.]])"
      ]
     },
     "execution_count": 38,
     "metadata": {},
     "output_type": "execute_result"
    }
   ],
   "source": [
    "np.ones((1,3))"
   ]
  },
  {
   "cell_type": "code",
   "execution_count": 39,
   "id": "a7c4ee14-94b7-43a0-87c0-a34744b80338",
   "metadata": {},
   "outputs": [
    {
     "data": {
      "text/plain": [
       "array([[0., 0., 0.],\n",
       "       [0., 0., 0.]])"
      ]
     },
     "execution_count": 39,
     "metadata": {},
     "output_type": "execute_result"
    }
   ],
   "source": [
    "np.zeros((2,3))"
   ]
  },
  {
   "cell_type": "markdown",
   "id": "e05c6d0b-fa0e-4466-a73f-b277de73c6dc",
   "metadata": {
    "id": "ZRjNvNoBmES8"
   },
   "source": [
    "<p dir=rtl style=\"direction: rtl;text-align: right;line-height:200%;font-family:vazir;font-size:medium\">\n",
    "<font face=\"vazir\" size=4>\n",
    "آرایه با مقدار دلخواه:\n",
    "    <br>\n",
    "    برای مثال دستور زیر یک آرایه 2*3 با عناصر # ایجاد میکند:\n",
    "</font>\n",
    "</p>"
   ]
  },
  {
   "cell_type": "code",
   "execution_count": 40,
   "id": "4a1704f2-062d-4311-aa11-438558386c84",
   "metadata": {},
   "outputs": [
    {
     "data": {
      "text/plain": [
       "array([['#', '#'],\n",
       "       ['#', '#'],\n",
       "       ['#', '#']], dtype='<U1')"
      ]
     },
     "execution_count": 40,
     "metadata": {},
     "output_type": "execute_result"
    }
   ],
   "source": [
    "np.full((3,2),'#')"
   ]
  },
  {
   "cell_type": "markdown",
   "id": "773e4760-85bf-486b-98dd-67f3fc654c49",
   "metadata": {
    "id": "ZRjNvNoBmES8"
   },
   "source": [
    "<p dir=rtl style=\"direction: rtl;text-align: right;line-height:200%;font-family:vazir;font-size:medium\">\n",
    "<font face=\"vazir\" size=4>\n",
    "آرایه با مربع با بعد n، متناظر با ماتریش همانی (قطر برابر 1 و بقیه عناصر صفر):\n",
    "\n",
    "</font>\n",
    "</p>"
   ]
  },
  {
   "cell_type": "code",
   "execution_count": 41,
   "id": "fa0c528c-431d-4df3-bccb-06ca93f83b0e",
   "metadata": {},
   "outputs": [
    {
     "data": {
      "text/plain": [
       "array([[1., 0., 0.],\n",
       "       [0., 1., 0.],\n",
       "       [0., 0., 1.]])"
      ]
     },
     "execution_count": 41,
     "metadata": {},
     "output_type": "execute_result"
    }
   ],
   "source": [
    "np.eye(3)"
   ]
  },
  {
   "cell_type": "markdown",
   "id": "f1ecc4de-2b8d-47f2-8f32-2b95d0f36407",
   "metadata": {
    "id": "ZRjNvNoBmES8"
   },
   "source": [
    "<p dir=rtl style=\"direction: rtl;text-align: right;line-height:200%;font-family:vazir;font-size:medium\">\n",
    "<font face=\"vazir\" size=4>\n",
    "آرایه 1 بعدی شامل 3 عدد نامشخص (بسته به مقدار داخل حافظه):\n",
    "</font>\n",
    "</p>"
   ]
  },
  {
   "cell_type": "code",
   "execution_count": 42,
   "id": "6fe86df1-e423-47da-b3f8-d2b42d4b647b",
   "metadata": {},
   "outputs": [
    {
     "data": {
      "text/plain": [
       "array([1., 1., 1.])"
      ]
     },
     "execution_count": 42,
     "metadata": {},
     "output_type": "execute_result"
    }
   ],
   "source": [
    "np.empty(3)"
   ]
  },
  {
   "cell_type": "markdown",
   "id": "e70e9729-8461-4e2d-96a7-5daf4f82021a",
   "metadata": {
    "id": "ZRjNvNoBmES8"
   },
   "source": [
    "<p dir=rtl style=\"direction: rtl;text-align: right;line-height:200%;font-family:vazir;font-size:medium\">\n",
    "<font face=\"vazir\" size=4>\n",
    "مقدار خالی:\n",
    "</font>\n",
    "</p>"
   ]
  },
  {
   "cell_type": "code",
   "execution_count": 43,
   "id": "52083ee7-efb2-4699-9675-d61c308683f6",
   "metadata": {},
   "outputs": [
    {
     "data": {
      "text/plain": [
       "nan"
      ]
     },
     "execution_count": 43,
     "metadata": {},
     "output_type": "execute_result"
    }
   ],
   "source": [
    "np.math.nan"
   ]
  },
  {
   "cell_type": "markdown",
   "id": "060ab50d-fbcb-46d2-9dd4-a25c0eb1967c",
   "metadata": {
    "id": "ZRjNvNoBmES8"
   },
   "source": [
    "<p dir=rtl style=\"direction: rtl;text-align: right;line-height:200%;font-family:vazir;font-size:medium\">\n",
    "<font face=\"vazir\" size=4>\n",
    "مقدار بینهایت:\n",
    "</font>\n",
    "</p>"
   ]
  },
  {
   "cell_type": "code",
   "execution_count": 44,
   "id": "f5c09da1-5844-48d2-a7cd-64aec5e33d2c",
   "metadata": {},
   "outputs": [
    {
     "data": {
      "text/plain": [
       "inf"
      ]
     },
     "execution_count": 44,
     "metadata": {},
     "output_type": "execute_result"
    }
   ],
   "source": [
    "np.math.inf"
   ]
  },
  {
   "cell_type": "markdown",
   "id": "492c1f54-9b0e-44a8-8e62-1a569dda44f0",
   "metadata": {
    "id": "ZRjNvNoBmES8"
   },
   "source": [
    "<p dir=rtl style=\"direction: rtl;text-align: right;line-height:200%;font-family:vazir;font-size:medium\">\n",
    "<font face=\"vazir\" size=4>\n",
    "آرایه رندم با بعد دلخواه و بین دو عدد دلخواه:\n",
    "</font>\n",
    "</p>"
   ]
  },
  {
   "cell_type": "code",
   "execution_count": 45,
   "id": "c73fdc02-a192-4c79-a6f9-9f2063dce174",
   "metadata": {},
   "outputs": [
    {
     "data": {
      "text/plain": [
       "array([[4.98011277, 1.74936552, 2.45356378],\n",
       "       [3.55262689, 3.8457503 , 1.39550138]])"
      ]
     },
     "execution_count": 45,
     "metadata": {},
     "output_type": "execute_result"
    }
   ],
   "source": [
    "np.random.uniform(1,5,(2,3))"
   ]
  },
  {
   "cell_type": "markdown",
   "id": "b3900421-327b-4f3b-b9a4-5a492977cf01",
   "metadata": {
    "id": "ZRjNvNoBmES8"
   },
   "source": [
    "<p dir=rtl style=\"direction: rtl;text-align: right;line-height:200%;font-family:vazir;font-size:medium\">\n",
    "<font face=\"vazir\" size=4>\n",
    "آرایه رندم نرمال با دادن بعد:\n",
    "</font>\n",
    "</p>"
   ]
  },
  {
   "cell_type": "code",
   "execution_count": 46,
   "id": "d2e1e340-be94-40c4-a393-5eb1e80fbe71",
   "metadata": {},
   "outputs": [
    {
     "data": {
      "text/plain": [
       "array([[-0.71762832],\n",
       "       [-0.72352512]])"
      ]
     },
     "execution_count": 46,
     "metadata": {},
     "output_type": "execute_result"
    }
   ],
   "source": [
    "np.random.standard_normal((2,1))"
   ]
  },
  {
   "cell_type": "markdown",
   "id": "77ce6a4a-7eeb-43b9-a222-fd0f9bc0698c",
   "metadata": {
    "id": "ZRjNvNoBmES8"
   },
   "source": [
    "<p dir=rtl style=\"direction: rtl;text-align: right;line-height:200%;font-family:vazir;font-size:medium\">\n",
    "<font face=\"vazir\" size=4>\n",
    "آرایه دو بعدی 3*2 شامل اعداد تصادفی از توزیع نرمال با میانگین 0 و واریانس 1 :\n",
    "</font>\n",
    "</p>"
   ]
  },
  {
   "cell_type": "code",
   "execution_count": 47,
   "id": "28e93601-622b-414d-8602-4f26853da0fb",
   "metadata": {},
   "outputs": [
    {
     "data": {
      "text/plain": [
       "array([[ 0.73315306,  0.62286347, -1.47733943],\n",
       "       [-0.68899221,  0.6566576 ,  0.44772731]])"
      ]
     },
     "execution_count": 47,
     "metadata": {},
     "output_type": "execute_result"
    }
   ],
   "source": [
    "np.random.normal(0, 1, (2, 3))"
   ]
  },
  {
   "cell_type": "markdown",
   "id": "676565b6-435c-4018-adea-5edf08619c7d",
   "metadata": {
    "id": "ZRjNvNoBmES8"
   },
   "source": [
    "<p dir=rtl style=\"direction: rtl;text-align: right;line-height:200%;font-family:vazir;font-size:medium\">\n",
    "<font face=\"vazir\" size=4>\n",
    "آرایه یک بعدی شامل 3 عدد تصادفی از توزیع یکنواخت بین 0 و 1:\n",
    "</font>\n",
    "</p>"
   ]
  },
  {
   "cell_type": "code",
   "execution_count": 48,
   "id": "0bd00e5c-f0c4-4203-afe9-133e2efe0c3b",
   "metadata": {},
   "outputs": [
    {
     "data": {
      "text/plain": [
       "array([0.11049604, 0.8917876 , 0.07974302])"
      ]
     },
     "execution_count": 48,
     "metadata": {},
     "output_type": "execute_result"
    }
   ],
   "source": [
    "np.random.random(3)"
   ]
  },
  {
   "cell_type": "markdown",
   "id": "55f8e340-0e4b-473f-8087-7e189f252512",
   "metadata": {
    "id": "ZRjNvNoBmES8"
   },
   "source": [
    "<p dir=rtl style=\"direction: rtl;text-align: right;line-height:200%;font-family:vazir;font-size:medium\">\n",
    "<font face=\"vazir\" size=4>\n",
    "آرایه دو بعدی 3*3 شامل اعداد صحیح تصادفی بین 0 تا 9:\n",
    "</font>\n",
    "</p>"
   ]
  },
  {
   "cell_type": "code",
   "execution_count": 49,
   "id": "c09b83d2-000c-4c38-989a-9c5c1a0f13d9",
   "metadata": {},
   "outputs": [
    {
     "data": {
      "text/plain": [
       "array([[2, 5, 3],\n",
       "       [1, 4, 7],\n",
       "       [9, 1, 1]])"
      ]
     },
     "execution_count": 49,
     "metadata": {},
     "output_type": "execute_result"
    }
   ],
   "source": [
    "np.random.randint(0, 10, (3, 3))"
   ]
  },
  {
   "cell_type": "markdown",
   "id": "47c42e60-3198-4d9d-97c1-83b26b583d5b",
   "metadata": {
    "id": "ZRjNvNoBmES8"
   },
   "source": [
    "<p dir=rtl style=\"direction: rtl;text-align: right;line-height:200%;font-family:vazir;font-size:medium\">\n",
    "<font face=\"vazir\" size=4>\n",
    "آرایه پر از 3 با ابعاد مشابه آرایه ورودی (3*2):\n",
    "</font>\n",
    "</p>"
   ]
  },
  {
   "cell_type": "code",
   "execution_count": 50,
   "id": "92b80ca8-d102-4fd4-8a0c-f1ced3ac2692",
   "metadata": {},
   "outputs": [
    {
     "data": {
      "text/plain": [
       "array([[3, 3, 3],\n",
       "       [3, 3, 3]])"
      ]
     },
     "execution_count": 50,
     "metadata": {},
     "output_type": "execute_result"
    }
   ],
   "source": [
    "a = np.random.randint(0, 10, (2, 3))\n",
    "np.full_like(a, 3)"
   ]
  },
  {
   "cell_type": "markdown",
   "id": "6c28a606-e6f6-48e0-841a-76201c9059c5",
   "metadata": {
    "id": "ZRjNvNoBmES8"
   },
   "source": [
    "<p dir=rtl style=\"direction: rtl;text-align: right;line-height:200%;font-family:vazir;font-size:medium\">\n",
    "<font face=\"vazir\" size=4>\n",
    "میتوانیم برای انتخاب اعداد رندم گزینه بدهیم و وزن یا احتمال برای هر کدام مشخص کنیم:\n",
    "    <br>\n",
    "    گزینه ها به صورت لیست در پارامتر p قرار میگیرند و به ترتیب احتمال انتخاب را مشخص میکنند.\n",
    "</font>\n",
    "</p>"
   ]
  },
  {
   "cell_type": "code",
   "execution_count": 51,
   "id": "a500a54a-b34e-404f-b444-af6fbd2a2eff",
   "metadata": {},
   "outputs": [
    {
     "data": {
      "text/plain": [
       "array(['S'], dtype='<U1')"
      ]
     },
     "execution_count": 51,
     "metadata": {},
     "output_type": "execute_result"
    }
   ],
   "source": [
    "np.random.choice(['G','S','B'], size=1, p=[0.1, 0.3, 0.6])"
   ]
  },
  {
   "cell_type": "markdown",
   "id": "b734f1e8-52d8-4e34-b08e-b2d93b337dd1",
   "metadata": {
    "id": "ZRjNvNoBmES8"
   },
   "source": [
    "<p dir=rtl style=\"direction: rtl;text-align: right;line-height:200%;font-family:vazir;font-size:medium\">\n",
    "<font face=\"vazir\" size=4>\n",
    "ساخت دنباله اعداد :\n",
    "</font>\n",
    "</p>"
   ]
  },
  {
   "cell_type": "markdown",
   "id": "32d7b5e3-4b85-4c06-824a-521e1cd6ddef",
   "metadata": {
    "id": "ZRjNvNoBmES8"
   },
   "source": [
    "<p dir=rtl style=\"direction: rtl;text-align: right;line-height:200%;font-family:vazir;font-size:medium\">\n",
    "<font face=\"vazir\" size=3 color='midnightblue'>\n",
    "    (گام، پایان، شروع):\n",
    "    <br>\n",
    "از 1 شروع میشه تا قبل 10، 3 تا 3 تا میره:\n",
    "</font>\n",
    "</p>"
   ]
  },
  {
   "cell_type": "code",
   "execution_count": 52,
   "id": "10b3ee5f-aed2-4f47-ab59-29556ddc2870",
   "metadata": {},
   "outputs": [
    {
     "data": {
      "text/plain": [
       "array([1, 4, 7])"
      ]
     },
     "execution_count": 52,
     "metadata": {},
     "output_type": "execute_result"
    }
   ],
   "source": [
    "np.arange(1,10,3)"
   ]
  },
  {
   "cell_type": "markdown",
   "id": "4a4c05d9-65f9-4a48-abf2-a057218ba76c",
   "metadata": {
    "id": "ZRjNvNoBmES8"
   },
   "source": [
    "<p dir=rtl style=\"direction: rtl;text-align: right;line-height:200%;font-family:vazir;font-size:medium\">\n",
    "<font face=\"vazir\" size=3 color='midnightblue'>\n",
    "    (تعداد، پایان، شروع):\n",
    "    <br>\n",
    "از 1 شروع میشه تا 10(10 هم شامل میشود) 4 تا عدد میخواهیم (اعداد را با فواصل مساوی میدهد):\n",
    "</font>\n",
    "</p>"
   ]
  },
  {
   "cell_type": "code",
   "execution_count": 53,
   "id": "196b8c6c-c730-43ef-ba32-c8e7f090cf9d",
   "metadata": {},
   "outputs": [
    {
     "data": {
      "text/plain": [
       "array([ 1.,  4.,  7., 10.])"
      ]
     },
     "execution_count": 53,
     "metadata": {},
     "output_type": "execute_result"
    }
   ],
   "source": [
    "np.linspace(1,10,4)"
   ]
  },
  {
   "cell_type": "markdown",
   "id": "5c733c25-fe67-4362-920b-298573d8fc14",
   "metadata": {
    "id": "ZRjNvNoBmES8"
   },
   "source": [
    "<p dir=rtl style=\"direction: rtl;text-align: right;line-height:200%;font-family:vazir;font-size:medium\">\n",
    "<font face=\"vazir\" size=4>\n",
    "فیلتر کردن: از یک آرایه یا ماتریس، مقادیری که میخواهیم را نشان بدهد.\n",
    "</font>\n",
    "</p>"
   ]
  },
  {
   "cell_type": "code",
   "execution_count": 54,
   "id": "7425e0a0-9aef-4e8e-9c8b-8efafd1f743d",
   "metadata": {},
   "outputs": [
    {
     "data": {
      "text/plain": [
       "array([3, 4, 9, 3])"
      ]
     },
     "execution_count": 54,
     "metadata": {},
     "output_type": "execute_result"
    }
   ],
   "source": [
    "my_mask1 = a>2\n",
    "a[my_mask1]"
   ]
  },
  {
   "cell_type": "code",
   "execution_count": 55,
   "id": "19554c5b-6197-4818-9d8a-d801c30842d8",
   "metadata": {},
   "outputs": [
    {
     "data": {
      "text/plain": [
       "array([3, 3])"
      ]
     },
     "execution_count": 55,
     "metadata": {},
     "output_type": "execute_result"
    }
   ],
   "source": [
    "my_mask2 = np.logical_and(a>1,a<4)\n",
    "a[my_mask2]"
   ]
  },
  {
   "cell_type": "markdown",
   "id": "d7c49f6e-43b2-4104-9bce-b1e6febb0f2a",
   "metadata": {
    "id": "ZRjNvNoBmES8"
   },
   "source": [
    "<p dir=rtl style=\"direction: rtl;text-align: right;line-height:200%;font-family:vazir;font-size:medium\">\n",
    "<font face=\"vazir\" size=4>\n",
    "    چند جمله ای ها در نامپای:\n",
    "    <br>\n",
    "    میتوان ضرایب یک چند جمله ای را به صورت آرایه تعریف کرد و روی آن عملیات ریاضی مثل جاگذاری مقدار، مشتق و انتگرال اعمال کرد.\n",
    "    <br>\n",
    "    چند جمله ای x^2+2x+5 را به صورت زیر تعریف میکنیم:\n",
    "    </font>\n",
    "</p>"
   ]
  },
  {
   "cell_type": "code",
   "execution_count": 56,
   "id": "2a1c46d9-dd81-437a-93de-6b024cd8de07",
   "metadata": {},
   "outputs": [],
   "source": [
    "chandjomleii = np.array([1,2,5]) # 1, 2 & 5 are polynomial coefficients"
   ]
  },
  {
   "cell_type": "code",
   "execution_count": 57,
   "id": "aa1e5983-1254-47ef-94ee-39fbd7b784d4",
   "metadata": {},
   "outputs": [
    {
     "data": {
      "text/plain": [
       "8"
      ]
     },
     "execution_count": 57,
     "metadata": {},
     "output_type": "execute_result"
    }
   ],
   "source": [
    "np.polyval(chandjomleii,1) # Put the value 1 instead of x and calculate the result"
   ]
  },
  {
   "cell_type": "markdown",
   "id": "6513afc8-c711-4bc8-97b8-f285b45dfd46",
   "metadata": {
    "id": "ZRjNvNoBmES8"
   },
   "source": [
    "<p dir=rtl style=\"direction: rtl;text-align: right;line-height:200%;font-family:vazir;font-size:medium\">\n",
    "<font face=\"vazir\" size=3 color='midnightblue'>\n",
    "    عملگر polyder مشتق چندجمله ای را حساب میکند و ضرایب را در قالب یک آرایه میدهد.\n",
    "</font>\n",
    "</p>"
   ]
  },
  {
   "cell_type": "code",
   "execution_count": 58,
   "id": "117cc8b3-d4bc-4c47-b1ae-8f9106b811bd",
   "metadata": {},
   "outputs": [
    {
     "data": {
      "text/plain": [
       "array([2, 2])"
      ]
     },
     "execution_count": 58,
     "metadata": {},
     "output_type": "execute_result"
    }
   ],
   "source": [
    "np.polyder(chandjomleii) # x^2+2x+5 ---> 2x+2"
   ]
  },
  {
   "cell_type": "markdown",
   "id": "6469c410-d85e-4b5e-b169-343df3deacd9",
   "metadata": {
    "id": "ZRjNvNoBmES8"
   },
   "source": [
    "<p dir=rtl style=\"direction: rtl;text-align: right;line-height:200%;font-family:vazir;font-size:medium\">\n",
    "<font face=\"vazir\" size=3 color='midnightblue'>\n",
    "    عملگر polyint انتگرال چندجمله ای را حساب میکند و ضرایب را در قالب یک آرایه میدهد.\n",
    "</font>\n",
    "</p>"
   ]
  },
  {
   "cell_type": "code",
   "execution_count": 59,
   "id": "8946f88a-c45a-4b5a-af48-05314c4aa767",
   "metadata": {},
   "outputs": [
    {
     "data": {
      "text/plain": [
       "array([0.33333333, 1.        , 5.        , 0.        ])"
      ]
     },
     "execution_count": 59,
     "metadata": {},
     "output_type": "execute_result"
    }
   ],
   "source": [
    "np.polyint(chandjomleii) # x^2+2x+5 ---> 1/3 x^3+x^2+5x+0"
   ]
  },
  {
   "cell_type": "markdown",
   "id": "d9106c57-3a5b-4721-95a4-3831ab424020",
   "metadata": {},
   "source": [
    "<br>\n",
    "<div dir=rtl id=\"start\" style=\"direction:rtl;line-height:200%;\">\n",
    "\t<font face=\"vazir\" size=6 color='Orange'>\n",
    "    نوع داده:\n",
    "    </font>\n",
    "</div>"
   ]
  },
  {
   "cell_type": "markdown",
   "id": "c7cb5590-a4e1-4bf4-a59d-fbf7b7d2bb65",
   "metadata": {
    "id": "ZRjNvNoBmES8"
   },
   "source": [
    "<p dir=rtl style=\"direction: rtl;text-align: right;line-height:200%;font-family:vazir;font-size:medium\">\n",
    "<font face=\"vazir\" size=4>\n",
    "عملگردر آرایه نامپای، نوع داده داخل خانه‌ها یکسان است و موقع ساخت آرایه مشخص می‌شود. نوع این داده‌ها می‌تواند از انواع مختلفی چون عدد حقیقی، عدد صحیح، مقدار بولی و رشته باشد. تعیین نوع خانه‌ها از روی ورودی را می‌توان به نامپای سپرد و یا با تعیین پارامتر dtype آن را مشخص کرد..\n",
    "</font>\n",
    "</p>"
   ]
  },
  {
   "cell_type": "markdown",
   "id": "8cc9d6ee-6b7e-43d6-92ea-692fdd753910",
   "metadata": {
    "id": "ZRjNvNoBmES8"
   },
   "source": [
    "<p dir=rtl style=\"direction: rtl;text-align: right;line-height:200%;font-family:vazir;font-size:medium\">\n",
    "<font face=\"vazir\" size=4>\n",
    "نوع مقدار بولی\n",
    "</font>\n",
    "</p>"
   ]
  },
  {
   "cell_type": "markdown",
   "id": "0db36307-d259-44c9-b428-a0a577368376",
   "metadata": {
    "id": "ZRjNvNoBmES8"
   },
   "source": [
    "<p dir=rtl style=\"direction: rtl;text-align: right;line-height:200%;font-family:vazir;font-size:medium\">\n",
    "<font face=\"vazir\" size=3 color='midnightblue'>\n",
    "کاراکتر _ برای اشاره به نوع داخل نامپای است اما می‌توان آن را برداشت\n",
    "</font>\n",
    "</p>"
   ]
  },
  {
   "cell_type": "code",
   "execution_count": 60,
   "id": "6a18d54f-18bd-481c-af29-963fbc625292",
   "metadata": {},
   "outputs": [
    {
     "data": {
      "text/plain": [
       "array([False,  True])"
      ]
     },
     "execution_count": 60,
     "metadata": {},
     "output_type": "execute_result"
    }
   ],
   "source": [
    "np.array([False, True], dtype='bool_')"
   ]
  },
  {
   "cell_type": "markdown",
   "id": "b1ceb69e-4554-459f-b08e-69be2cf86d99",
   "metadata": {
    "id": "ZRjNvNoBmES8"
   },
   "source": [
    "<p dir=rtl style=\"direction: rtl;text-align: right;line-height:200%;font-family:vazir;font-size:medium\">\n",
    "<font face=\"vazir\" size=4>\n",
    "نوع عدد صحیح (عدد سوم تبدیل به 3 می‌شود)\n",
    "</font>\n",
    "</p>"
   ]
  },
  {
   "cell_type": "code",
   "execution_count": 61,
   "id": "88391fcb-a112-41a3-8081-43c272ecd84c",
   "metadata": {},
   "outputs": [
    {
     "data": {
      "text/plain": [
       "array([1, 2, 3])"
      ]
     },
     "execution_count": 61,
     "metadata": {},
     "output_type": "execute_result"
    }
   ],
   "source": [
    "np.array([1, 2, 3.14], dtype='int_')"
   ]
  },
  {
   "cell_type": "markdown",
   "id": "2e29f83d-b98a-420d-801e-e01814e137fd",
   "metadata": {
    "id": "ZRjNvNoBmES8"
   },
   "source": [
    "<p dir=rtl style=\"direction: rtl;text-align: right;line-height:200%;font-family:vazir;font-size:medium\">\n",
    "<font face=\"vazir\" size=4>\n",
    "نوع عدد حقیقی 64 بیتی\n",
    "</font>\n",
    "</p>"
   ]
  },
  {
   "cell_type": "code",
   "execution_count": 62,
   "id": "78f3d261-4efc-459f-ba83-442da46a980e",
   "metadata": {},
   "outputs": [
    {
     "data": {
      "text/plain": [
       "array([2.71828183, 3.14159265])"
      ]
     },
     "execution_count": 62,
     "metadata": {},
     "output_type": "execute_result"
    }
   ],
   "source": [
    "np.array([2.71828182845, 3.14159265359], dtype='float64')"
   ]
  },
  {
   "cell_type": "markdown",
   "id": "b5e9fff4-ade6-40be-a2a2-b353d5f8e259",
   "metadata": {
    "id": "ZRjNvNoBmES8"
   },
   "source": [
    "<p dir=rtl style=\"direction: rtl;text-align: right;line-height:200%;font-family:vazir;font-size:medium\">\n",
    "<font face=\"vazir\" size=4>\n",
    "نوع عدد صحیح نامنفی 8 بیتی\n",
    "</font>\n",
    "</p>"
   ]
  },
  {
   "cell_type": "code",
   "execution_count": 63,
   "id": "e937602f-234c-4bc1-805e-038700b6baea",
   "metadata": {},
   "outputs": [
    {
     "data": {
      "text/plain": [
       "array([255], dtype=uint8)"
      ]
     },
     "execution_count": 63,
     "metadata": {},
     "output_type": "execute_result"
    }
   ],
   "source": [
    "np.array([255], dtype='uint8')"
   ]
  },
  {
   "cell_type": "markdown",
   "id": "f5e30913-a1dd-434d-9a79-f633f3c7278b",
   "metadata": {
    "id": "ZRjNvNoBmES8"
   },
   "source": [
    "<p dir=rtl style=\"direction: rtl;text-align: right;line-height:200%;font-family:vazir;font-size:medium\">\n",
    "<font face=\"vazir\" size=4>\n",
    "نوع رشته\n",
    "</font>\n",
    "</p>"
   ]
  },
  {
   "cell_type": "code",
   "execution_count": 64,
   "id": "7ec6fa07-b170-4d87-baaa-332e2dd3f00f",
   "metadata": {},
   "outputs": [
    {
     "data": {
      "text/plain": [
       "array(['Hello', 'World'], dtype='<U5')"
      ]
     },
     "execution_count": 64,
     "metadata": {},
     "output_type": "execute_result"
    }
   ],
   "source": [
    "np.array(['Hello', 'World'], dtype='str_')"
   ]
  },
  {
   "cell_type": "markdown",
   "id": "6593ae57-861b-4a06-898c-8a2275cadee2",
   "metadata": {},
   "source": [
    "<br>\n",
    "<div dir=rtl id=\"start\" style=\"direction:rtl;line-height:200%;\">\n",
    "\t<font face=\"vazir\" size=7 color='Red'>\n",
    "    کار با آرایه\n",
    "    </font>\n",
    "</div>"
   ]
  },
  {
   "cell_type": "markdown",
   "id": "88f18067-4e42-448c-9279-f4663ebc0d16",
   "metadata": {},
   "source": [
    "<br>\n",
    "<div dir=rtl id=\"start\" style=\"direction:rtl;line-height:200%;\">\n",
    "\t<font face=\"vazir\" size=6 color='Orange'>\n",
    "    نمایه سازی (indexing)\n",
    "    </font>\n",
    "</div>"
   ]
  },
  {
   "cell_type": "markdown",
   "id": "8037b446-6922-4d5b-bd58-25050900be41",
   "metadata": {
    "id": "ZRjNvNoBmES8"
   },
   "source": [
    "<p dir=rtl style=\"direction: rtl;text-align: right;line-height:200%;font-family:vazir;font-size:medium\">\n",
    "<font face=\"vazir\" size=4>\n",
    "برای دسترسی به یک خانه دلخواه آرایه، می‌توان مختصات آن را داخل <code>[]</code> قرار داد. مشابه لیست پایتون، شماره‌ها از صفر آغاز می‌شوند و شماره منفی به معنای شروع از انتهای آرایه است.\n",
    "</font>\n",
    "</p>"
   ]
  },
  {
   "cell_type": "code",
   "execution_count": 65,
   "id": "eeea4822-5b9a-4531-a7eb-180921be30fa",
   "metadata": {},
   "outputs": [
    {
     "name": "stdout",
     "output_type": "stream",
     "text": [
      "[0 1 2 3]\n",
      "a[0] = 0\n",
      "a[2] = 2\n",
      "a[-1] = 3\n"
     ]
    }
   ],
   "source": [
    "a = np.array([0, 1, 2, 3])\n",
    "print(a)\n",
    "print('a[0] =', a[0])\n",
    "print('a[2] =', a[2])\n",
    "print('a[-1] =', a[-1])"
   ]
  },
  {
   "cell_type": "code",
   "execution_count": 66,
   "id": "b3206ec6-1609-4f7f-b07a-f9361b96ba23",
   "metadata": {},
   "outputs": [
    {
     "name": "stdout",
     "output_type": "stream",
     "text": [
      "[[1 0 0 3 5]\n",
      " [9 8 0 9 0]\n",
      " [1 1 6 0 7]]\n",
      "a[2, 3] = 0\n"
     ]
    }
   ],
   "source": [
    "a = np.random.randint(0, 10, (3, 5))\n",
    "print(a)\n",
    "print('a[2, 3] =', a[2, 3])"
   ]
  },
  {
   "cell_type": "markdown",
   "id": "69217675-898d-4b5d-bf8c-2e5b15907880",
   "metadata": {
    "id": "ZRjNvNoBmES8"
   },
   "source": [
    "<p dir=rtl style=\"direction: rtl;text-align: right;line-height:200%;font-family:vazir;font-size:medium\">\n",
    "<font face=\"vazir\" size=3 color='midnightblue'>\n",
    "می‌توانیم مقدار یک خانه را ضمن دسترسی به آن تغییر دهیم.\n",
    "</font>\n",
    "</p>"
   ]
  },
  {
   "cell_type": "code",
   "execution_count": 67,
   "id": "72317a51-7faf-4cfd-ae38-bf6aca0d3fae",
   "metadata": {},
   "outputs": [
    {
     "name": "stdout",
     "output_type": "stream",
     "text": [
      "a[2, 3] = 10\n"
     ]
    }
   ],
   "source": [
    "a[2, 3] = 10\n",
    "print('a[2, 3] =', a[2, 3])"
   ]
  },
  {
   "cell_type": "markdown",
   "id": "3043126f-baed-4381-af90-9c286384226a",
   "metadata": {
    "id": "ZRjNvNoBmES8"
   },
   "source": [
    "<p dir=rtl style=\"direction: rtl;text-align: right;line-height:200%;font-family:vazir;font-size:medium\">\n",
    "<font face=\"vazir\" size=3 color='midnightblue'>\n",
    "چون آرایه نوع داده مشخصی دارد، مقداری که داخل یک خانه آن قرار می‌دهید در صورت امکان به نوع داده آرایه تبدیل می‌شود. برای مثال اگر در یک آرایه از جنس اعداد صحیح یک مقدار حقیقی قرار دهید، بخش صحیح عدد داخل آرایه قرار می‌گیرد.\n",
    "</font>\n",
    "</p>"
   ]
  },
  {
   "cell_type": "code",
   "execution_count": 68,
   "id": "491ae8b3-ea21-43c3-ab5f-49f118701483",
   "metadata": {},
   "outputs": [
    {
     "name": "stdout",
     "output_type": "stream",
     "text": [
      "a[2, 3] = 3\n"
     ]
    }
   ],
   "source": [
    "a[2, 3] = 3.14\n",
    "print('a[2, 3] =', a[2, 3])"
   ]
  },
  {
   "cell_type": "markdown",
   "id": "c15508cc-4c1c-4ced-a199-06cfaa4e0699",
   "metadata": {},
   "source": [
    "<br>\n",
    "<div dir=rtl id=\"start\" style=\"direction:rtl;line-height:200%;\">\n",
    "\t<font face=\"vazir\" size=6 color='Orange'>\n",
    "    برش (slicing)\n",
    "    </font>\n",
    "</div>"
   ]
  },
  {
   "cell_type": "markdown",
   "id": "59dcc28c-7f11-46fd-9d17-2ede534b9d89",
   "metadata": {
    "id": "ZRjNvNoBmES8"
   },
   "source": [
    "<p dir=rtl style=\"direction: rtl;text-align: right;line-height:200%;font-family:vazir;font-size:medium\">\n",
    "<font face=\"vazir\" size=4>\n",
    "برای دسترسی به زیرآرایه‌های یک آرایه نامپای، می‌توان مثل لیست پایتون آن را برش داد و ابتدای برش، انتهای برش و گام‌ برش را با دونقطه (:) از هم جدا کرد. در صورت مشخص نکردن این مقادیر، مقدار پیش‌فرض (صفر برای شروع، اندازه آرایه برای پایان و یک برای گام پرش) برای هر یک لحاظ می‌شود.\n",
    "</font>\n",
    "</p>"
   ]
  },
  {
   "cell_type": "code",
   "execution_count": 69,
   "id": "25879ad9-9b12-4ef0-8cd9-36a4d8b3f800",
   "metadata": {},
   "outputs": [
    {
     "name": "stdout",
     "output_type": "stream",
     "text": [
      "[0 1 2]\n",
      "[2 3]\n",
      "[1 3]\n",
      "[4 3 2 1 0]\n"
     ]
    }
   ],
   "source": [
    "a = np.array([0, 1, 2, 3, 4])\n",
    "print(a[:3])\n",
    "print(a[2:4])\n",
    "print(a[1:5:2])\n",
    "print(a[::-1])"
   ]
  },
  {
   "cell_type": "markdown",
   "id": "2997fc3f-04f4-4d08-9268-b1e8173fec52",
   "metadata": {
    "id": "ZRjNvNoBmES8"
   },
   "source": [
    "<p dir=rtl style=\"direction: rtl;text-align: right;line-height:200%;font-family:vazir;font-size:medium\">\n",
    "<font face=\"vazir\" size=3 color='midnightblue'>\n",
    "b برابر با ردیف 0 و 1، ستون 1 تا آخر\n",
    "    <br>\n",
    "    c برابر با ردیف 1 و 2، تمام ستونها با گام 2\n",
    "    <br>\n",
    "    d همه ردیفها، ستون 1\n",
    "</font>\n",
    "</p>"
   ]
  },
  {
   "cell_type": "code",
   "execution_count": 70,
   "id": "f9f3d6c6-fbfb-4371-a450-8159b0bc273a",
   "metadata": {},
   "outputs": [
    {
     "name": "stdout",
     "output_type": "stream",
     "text": [
      "[[1 2]\n",
      " [4 5]]\n",
      "[[3 5]\n",
      " [6 8]]\n",
      "[ 1  4  7 10]\n"
     ]
    }
   ],
   "source": [
    "a = np.array([[0, 1, 2],\n",
    "             [3, 4, 5],\n",
    "             [6, 7, 8],\n",
    "             [9, 10, 11]])\n",
    "b=a[:2, 1:]\n",
    "c=a[1:3, ::2]\n",
    "d=a[:,1]\n",
    "a[2,:]=a[2]\n",
    "print(b)\n",
    "print(c)\n",
    "print(d)"
   ]
  },
  {
   "cell_type": "markdown",
   "id": "1ce55c35-5e1b-4b8b-9938-4ead7e2c8f4b",
   "metadata": {
    "id": "ZRjNvNoBmES8"
   },
   "source": [
    "<p dir=rtl style=\"direction: rtl;text-align: right;line-height:200%;font-family:vazir;font-size:medium\">\n",
    "<font face=\"vazir\" size=3 color='midnightblue'>\n",
    "با تغییر دادن زیرآرایه حاصل، آرایه اصلی هم تغییر می‌کند.\n",
    "</font>\n",
    "</p>"
   ]
  },
  {
   "cell_type": "code",
   "execution_count": 71,
   "id": "5b1a064f-a88b-47db-8a57-ed501de50364",
   "metadata": {},
   "outputs": [
    {
     "name": "stdout",
     "output_type": "stream",
     "text": [
      "[[ 0  1  2]\n",
      " [ 3 10  5]\n",
      " [ 6  7  8]]\n"
     ]
    }
   ],
   "source": [
    "a = np.array([[0, 1, 2],\n",
    "             [3, 4, 5],\n",
    "             [6, 7, 8]])\n",
    "sub_a = a[1:3, 1:]\n",
    "sub_a[0, 0] = 10\n",
    "print(a)"
   ]
  },
  {
   "cell_type": "markdown",
   "id": "60f6c584-9f80-40e6-abd8-bf385b2fcd82",
   "metadata": {
    "id": "ZRjNvNoBmES8"
   },
   "source": [
    "<p dir=rtl style=\"direction: rtl;text-align: right;line-height:200%;font-family:vazir;font-size:medium\">\n",
    "<font face=\"vazir\" size=4>\n",
    "برای کپی گرفتن از یک آرایه متد copy را صدا میزنیم.\n",
    "</font>\n",
    "</p>"
   ]
  },
  {
   "cell_type": "code",
   "execution_count": 72,
   "id": "2e33ef8c-91f9-44e6-a6d9-7976a5a85bce",
   "metadata": {},
   "outputs": [
    {
     "name": "stdout",
     "output_type": "stream",
     "text": [
      "[[0 1 2]\n",
      " [3 4 5]\n",
      " [6 7 8]]\n"
     ]
    }
   ],
   "source": [
    "a = np.array([[0, 1, 2],\n",
    "             [3, 4, 5],\n",
    "             [6, 7, 8]])\n",
    "sub_copy_a = a[2:4, 1:].copy()\n",
    "sub_copy_a[0, 0] = 10\n",
    "print(a)"
   ]
  },
  {
   "cell_type": "markdown",
   "id": "69c05d0e-886a-4fde-a1de-689f60ecb30d",
   "metadata": {},
   "source": [
    "<br>\n",
    "<div dir=rtl id=\"start\" style=\"direction:rtl;line-height:200%;\">\n",
    "\t<font face=\"vazir\" size=6 color='Orange'>\n",
    "    بازآرایی و ترانهادن\n",
    "    </font>\n",
    "</div>"
   ]
  },
  {
   "cell_type": "markdown",
   "id": "0c9e30cb-e24a-45d6-950f-76ed650a234f",
   "metadata": {
    "id": "ZRjNvNoBmES8"
   },
   "source": [
    "<p dir=rtl style=\"direction: rtl;text-align: right;line-height:200%;font-family:vazir;font-size:medium\">\n",
    "<font face=\"vazir\" size=4>\n",
    "یک آرایه از پیش تعریف شده را می‌توان بازآرایی کرد و به آن ابعاد تازه‌ای داد؛ به شرط آن که اندازه آرایه برابر با اندازه حاصل از ابعاد داده‌شده باشد. برای این منظور کافیست متد reshape را برای آرایه صدا بزنیم و اندازه ابعاد تازه را در قالب یک چندتایی یا یک عدد (برای آرایه تک‌بعدی) به آن ورودی دهیم.\n",
    "</font>\n",
    "</p>"
   ]
  },
  {
   "cell_type": "code",
   "execution_count": 73,
   "id": "fbe69cc4-3534-4a38-953e-78deea913fc5",
   "metadata": {},
   "outputs": [
    {
     "name": "stdout",
     "output_type": "stream",
     "text": [
      "[ 0  1  2  3  4  5  6  7  8  9 10 11 12 13 14 15]\n",
      "[[ 0  1  2  3]\n",
      " [ 4  5  6  7]\n",
      " [ 8  9 10 11]\n",
      " [12 13 14 15]]\n"
     ]
    }
   ],
   "source": [
    "a = np.arange(16)\n",
    "print(a)\n",
    "print(a.reshape(4, 4))"
   ]
  },
  {
   "cell_type": "code",
   "execution_count": 74,
   "id": "05ffa5a9-8f9c-4d31-a597-70225e52abe5",
   "metadata": {},
   "outputs": [
    {
     "name": "stdout",
     "output_type": "stream",
     "text": [
      "[[1]\n",
      " [2]\n",
      " [3]]\n",
      "[[1 2 3]]\n"
     ]
    }
   ],
   "source": [
    "a = np.array([1, 2, 3])\n",
    "print(a.reshape(3, 1))\n",
    "print(a.reshape(1, 3))"
   ]
  },
  {
   "cell_type": "markdown",
   "id": "8c3894eb-72fe-4eee-a4b4-5211fce4f63d",
   "metadata": {
    "id": "ZRjNvNoBmES8"
   },
   "source": [
    "<p dir=rtl style=\"direction: rtl;text-align: right;line-height:200%;font-family:vazir;font-size:medium\">\n",
    "<font face=\"vazir\" size=3 color='midnightblue'>\n",
    "اگر برای بازآرایی اندازه دقیقا یکی از بعدها را 1- ورودی دهیم، نامپای از روی اندازه آرایه و اندازه سایر ابعاد ورودی، اندازه آن بعد را هم تشخیص می‌دهد.\n",
    "</font>\n",
    "</p>"
   ]
  },
  {
   "cell_type": "code",
   "execution_count": 75,
   "id": "c74f6c39-acd8-4a30-b7d6-4b718ae29dbe",
   "metadata": {},
   "outputs": [
    {
     "name": "stdout",
     "output_type": "stream",
     "text": [
      "[[[ 0  1  2]\n",
      "  [ 3  4  5]]\n",
      "\n",
      " [[ 6  7  8]\n",
      "  [ 9 10 11]]]\n"
     ]
    }
   ],
   "source": [
    "a = np.arange(12)\n",
    "print(a.reshape(2, -1, 3))"
   ]
  },
  {
   "cell_type": "markdown",
   "id": "fc6ca760-38eb-407b-b657-b916f8511cf8",
   "metadata": {
    "id": "ZRjNvNoBmES8"
   },
   "source": [
    "<p dir=rtl style=\"direction: rtl;text-align: right;line-height:200%;font-family:vazir;font-size:medium\">\n",
    "<font face=\"vazir\" size=4>\n",
    "ترتیب ابعاد یک آرایه را هم می‌توان تغییر داد. با صدا زدن متد T یا transpose (بدون ورودی) ترتیب ابعاد آرایه برعکس می‌شود. برای مثال با برعکس کردن بعدهای یک آرایه دوبعدی جای سطرها و ستون‌های آن عوض می‌شود. بنابراین اگر آرایه دوبعدی را یک ماتریس در نظر بگیریم، ماتریس ترانهاده به دست می‌آید.\n",
    "</font>\n",
    "</p>"
   ]
  },
  {
   "cell_type": "code",
   "execution_count": 76,
   "id": "421b0504-ece6-4bd5-9a4a-b2d7f115ca77",
   "metadata": {},
   "outputs": [
    {
     "name": "stdout",
     "output_type": "stream",
     "text": [
      "[[0 1 2 3]\n",
      " [4 5 6 7]]\n",
      "[[0 4]\n",
      " [1 5]\n",
      " [2 6]\n",
      " [3 7]]\n"
     ]
    }
   ],
   "source": [
    "a = np.arange(8).reshape(2, 4)\n",
    "print(a)\n",
    "print(a.T)"
   ]
  },
  {
   "cell_type": "markdown",
   "id": "69e81fbc-86ed-40b5-b4bc-aa05d7ff4652",
   "metadata": {
    "id": "ZRjNvNoBmES8"
   },
   "source": [
    "<p dir=rtl style=\"direction: rtl;text-align: right;line-height:200%;font-family:vazir;font-size:medium\">\n",
    "<font face=\"vazir\" size=3 color='midnightblue'>\n",
    "می‌توان ترتیب دلخواهی را هم با ورودی دادن به متد transpose اعمال کرد.\n",
    "    <br>\n",
    "    a سه بعد دارد که به ترتیب اندازه‌های 2، 3 و 4 دارند و برای اشاره به هر خانه از آن به ترتیب باید مختصات خانه در این بعدها را تعیین کنیم. برای مثال عدد 23 در خانه a[1, 2, 3]‍ قرار دارد. حال اگر متد transpose را برای a صدا بزنیم و ترتیب تازه‌ای را به آن ورودی دهیم، ترتیب بعدها تغییر می‌کند.\n",
    "</font>\n",
    "</p>"
   ]
  },
  {
   "cell_type": "code",
   "execution_count": 77,
   "id": "b5a14445-efb7-4caf-97be-6afca07cfa81",
   "metadata": {},
   "outputs": [
    {
     "name": "stdout",
     "output_type": "stream",
     "text": [
      "[[[ 0  1  2  3]\n",
      "  [ 4  5  6  7]\n",
      "  [ 8  9 10 11]]\n",
      "\n",
      " [[12 13 14 15]\n",
      "  [16 17 18 19]\n",
      "  [20 21 22 23]]]\n"
     ]
    }
   ],
   "source": [
    "a = np.arange(24).reshape(2, 3, 4)\n",
    "print(a)"
   ]
  },
  {
   "cell_type": "markdown",
   "id": "19eb4377-21aa-4790-985d-518deb2cd574",
   "metadata": {
    "id": "ZRjNvNoBmES8"
   },
   "source": [
    "<p dir=rtl style=\"direction: rtl;text-align: right;line-height:200%;font-family:vazir;font-size:medium\">\n",
    "<font face=\"vazir\" size=3 color='midnightblue'>\n",
    "در کد زیر با صدا زدن a.transpose(1, 2, 0)، بُعد دوم (شماره 1) تبدیل به بُعد اول آرایه جدید، بُعد سوم (شماره 2) تبدیل به بُعد دوم آرایه جدید و بُعد نخست (شماره 0) تبدیل به بُعد سوم آرایه جدید می‌شود. به این ترتیب اندازه ابعاد آرایه جدید به ترتیب 3، 4 و 2 خواهد بود و عدد 23 این بار در خانه [2, 3, 1] قرار می‌گیرد.\n",
    "</font>\n",
    "</p>"
   ]
  },
  {
   "cell_type": "code",
   "execution_count": 78,
   "id": "9b3410ad-d696-433b-a29f-44b7ea0a61e5",
   "metadata": {},
   "outputs": [
    {
     "data": {
      "text/plain": [
       "array([[[ 0, 12],\n",
       "        [ 1, 13],\n",
       "        [ 2, 14],\n",
       "        [ 3, 15]],\n",
       "\n",
       "       [[ 4, 16],\n",
       "        [ 5, 17],\n",
       "        [ 6, 18],\n",
       "        [ 7, 19]],\n",
       "\n",
       "       [[ 8, 20],\n",
       "        [ 9, 21],\n",
       "        [10, 22],\n",
       "        [11, 23]]])"
      ]
     },
     "execution_count": 78,
     "metadata": {},
     "output_type": "execute_result"
    }
   ],
   "source": [
    "a.transpose(1, 2, 0)"
   ]
  },
  {
   "cell_type": "markdown",
   "id": "13c2f941-dad0-4cfd-be21-45fcb4c91c2d",
   "metadata": {
    "id": "ZRjNvNoBmES8"
   },
   "source": [
    "<p dir=rtl style=\"direction: rtl;text-align: right;line-height:200%;font-family:vazir;font-size:medium\">\n",
    "<font face=\"vazir\" size=3 color='midnightblue'>\n",
    "اگر تنها بخواهیم تنها دو تا از بعدها را با هم جابجا کنیم می‌توانیم از متد swapaxes استفاده کنیم و شماره دو بعد آرایه (با شروع از 0) را به آن ورودی دهیم.\n",
    "    <br>\n",
    "    کلمه axes در این متد اسم جمع کلمه axis به معنای محور است.\n",
    "</font>\n",
    "</p>"
   ]
  },
  {
   "cell_type": "code",
   "execution_count": 79,
   "id": "20193bcc-dac9-4c16-80bb-8babfe395517",
   "metadata": {},
   "outputs": [
    {
     "data": {
      "text/plain": [
       "array([[[ 0, 12],\n",
       "        [ 4, 16],\n",
       "        [ 8, 20]],\n",
       "\n",
       "       [[ 1, 13],\n",
       "        [ 5, 17],\n",
       "        [ 9, 21]],\n",
       "\n",
       "       [[ 2, 14],\n",
       "        [ 6, 18],\n",
       "        [10, 22]],\n",
       "\n",
       "       [[ 3, 15],\n",
       "        [ 7, 19],\n",
       "        [11, 23]]])"
      ]
     },
     "execution_count": 79,
     "metadata": {},
     "output_type": "execute_result"
    }
   ],
   "source": [
    "a.swapaxes(0, 2)"
   ]
  },
  {
   "cell_type": "markdown",
   "id": "9bbae023-b0fa-4dce-9952-bd2ab377e137",
   "metadata": {},
   "source": [
    "<img src='./1.Numpy_file/01.jpg'/>"
   ]
  },
  {
   "cell_type": "markdown",
   "id": "e45ef923-edfe-42a8-9ab6-802510e82a90",
   "metadata": {},
   "source": [
    "<br>\n",
    "<div dir=rtl id=\"start\" style=\"direction:rtl;line-height:200%;\">\n",
    "\t<font face=\"vazir\" size=6 color='Orange'>\n",
    "    به هم دوختن و شکافتن آرایه‌ها\n",
    "    </font>\n",
    "</div>"
   ]
  },
  {
   "cell_type": "markdown",
   "id": "42e39d5e-3566-475f-8628-671d3569f294",
   "metadata": {
    "id": "ZRjNvNoBmES8"
   },
   "source": [
    "<p dir=rtl style=\"direction: rtl;text-align: right;line-height:200%;font-family:vazir;font-size:medium\">\n",
    "<font face=\"vazir\" size=4>\n",
    "برای به هم دوختن چند آرایه می‌توان از تابع concatenate استفاده کرد. به این شکل که در یک لیست تعدادی آرایه به آن می‌دهیم تا آرایه‌ها را در جهت محوری که با پارامتر axis مشخص می‌شود (به طور پیش‌فرض محور نخست) به هم بدوزد. آرایه‌های داده‌شده باید در جهت سایر محورها ابعاد یکسانی داشته باشند. \n",
    "</font>\n",
    "</p>"
   ]
  },
  {
   "cell_type": "code",
   "execution_count": 80,
   "id": "88ed6f08-15c1-4c11-a1ef-720735f78ab7",
   "metadata": {},
   "outputs": [
    {
     "data": {
      "text/plain": [
       "array([[ 0,  1,  2],\n",
       "       [ 3,  4,  5],\n",
       "       [ 6,  7,  8],\n",
       "       [ 9, 10, 11],\n",
       "       [12, 13, 14]])"
      ]
     },
     "execution_count": 80,
     "metadata": {},
     "output_type": "execute_result"
    }
   ],
   "source": [
    "x = np.arange(6).reshape(2, 3)\n",
    "y = np.arange(6, 12).reshape(2, 3)\n",
    "z = np.arange(12, 15).reshape(1, 3)\n",
    "np.concatenate([x, y, z])"
   ]
  },
  {
   "cell_type": "code",
   "execution_count": 81,
   "id": "76cfab4a-633c-4e49-9297-086adfa057ee",
   "metadata": {},
   "outputs": [
    {
     "data": {
      "text/plain": [
       "array([[ 0,  1,  2,  6,  7,  8],\n",
       "       [ 3,  4,  5,  9, 10, 11]])"
      ]
     },
     "execution_count": 81,
     "metadata": {},
     "output_type": "execute_result"
    }
   ],
   "source": [
    "np.concatenate([x, y], axis=1)"
   ]
  },
  {
   "cell_type": "markdown",
   "id": "d27507cf-f1f1-4df7-88c9-43d6d062bfd5",
   "metadata": {},
   "source": [
    "<img src='./1.Numpy_file/02.jpg'/>"
   ]
  },
  {
   "cell_type": "markdown",
   "id": "61837d85-a3df-46c2-b5fa-61ca35b76890",
   "metadata": {
    "id": "ZRjNvNoBmES8"
   },
   "source": [
    "<p dir=rtl style=\"direction: rtl;text-align: right;line-height:200%;font-family:vazir;font-size:medium\">\n",
    "<font face=\"vazir\" size=4>\n",
    "با متد split یک آرایه را در جهت محوری که با پارامتر axis مشخص میکنیم، از نقاطی که با یک لیست داده مشود، میشکافد.\n",
    "</font>\n",
    "</p>"
   ]
  },
  {
   "cell_type": "code",
   "execution_count": 82,
   "id": "1b9ff0a4-e297-4465-840c-721c761f644e",
   "metadata": {},
   "outputs": [
    {
     "name": "stdout",
     "output_type": "stream",
     "text": [
      "[0 1]\n",
      "[2 3 4]\n",
      "[5 6 7 8 9]\n"
     ]
    }
   ],
   "source": [
    "a = np.arange(10)\n",
    "x, y, z = np.split(a, [2, 5])\n",
    "print(x)\n",
    "print(y)\n",
    "print(z)"
   ]
  },
  {
   "cell_type": "markdown",
   "id": "751b8884-6cb7-4ecd-9a76-f03a61cfc419",
   "metadata": {
    "id": "ZRjNvNoBmES8"
   },
   "source": [
    "<p dir=rtl style=\"direction: rtl;text-align: right;line-height:200%;font-family:vazir;font-size:medium\">\n",
    "<font face=\"vazir\" size=3 color='midnightblue'>\n",
    "به جای نقطه برش میتوان عدد داد تا آرایه تقسیم بر آن تعداد شود. باید اندازه بعد آرایه در راستای محور axis بر این عدد بخشپذیر باشد.\n",
    "</font>\n",
    "</p>"
   ]
  },
  {
   "cell_type": "code",
   "execution_count": 83,
   "id": "2e3c14d5-2822-49c3-93cd-f851fc03605e",
   "metadata": {},
   "outputs": [
    {
     "name": "stdout",
     "output_type": "stream",
     "text": [
      "[[0 1]\n",
      " [6 7]]\n",
      "[[2 3]\n",
      " [8 9]]\n",
      "[[ 4  5]\n",
      " [10 11]]\n"
     ]
    }
   ],
   "source": [
    "a = np.arange(12).reshape(2, 6)\n",
    "x, y, z = np.split(a, 3, axis=1)\n",
    "print(x)\n",
    "print(y)\n",
    "print(z)"
   ]
  },
  {
   "cell_type": "markdown",
   "id": "8f85f24b-1f00-42da-a515-edb157511803",
   "metadata": {
    "id": "ZRjNvNoBmES8"
   },
   "source": [
    "<p dir=rtl style=\"direction: rtl;text-align: right;line-height:200%;font-family:vazir;font-size:medium\">\n",
    "<font face=\"vazir\" size=3 color='midnightblue'>\n",
    "بعد از برش اگر فقط بخش دوم را بخواهیم از دستور زیر استفاده میکنیم.\n",
    "</font>\n",
    "</p>"
   ]
  },
  {
   "cell_type": "code",
   "execution_count": 84,
   "id": "7e223c78-b664-4dbe-82d1-6557b2da051a",
   "metadata": {},
   "outputs": [
    {
     "name": "stdout",
     "output_type": "stream",
     "text": [
      "[[ 6  7  8  9 10 11]]\n"
     ]
    }
   ],
   "source": [
    "a = np.arange(12).reshape(2, 6)\n",
    "y = np.split(a,2)[1]\n",
    "print(y)"
   ]
  },
  {
   "cell_type": "markdown",
   "id": "cfd7cfd3-af77-4d11-9ce3-fe99152f0280",
   "metadata": {},
   "source": [
    "<br>\n",
    "<div dir=rtl id=\"start\" style=\"direction:rtl;line-height:200%;\">\n",
    "\t<font face=\"vazir\" size=7 color='Red'>\n",
    "    توابع عمومی (Ufuncs)\n",
    "    </font>\n",
    "</div>"
   ]
  },
  {
   "cell_type": "markdown",
   "id": "ede6e210-fdc8-46f5-9238-4fed9b0f065c",
   "metadata": {
    "id": "ZRjNvNoBmES8"
   },
   "source": [
    "<p dir=rtl style=\"direction: rtl;text-align: right;line-height:200%;font-family:vazir;font-size:medium\">\n",
    "<font face=\"vazir\" size=4>\n",
    "عمل‌هایی که عملیات‌ برداری (vectorized operations) نامیده می‌شوند با استفاده از توابع نامپای بسیار سریع‌تر انجام می‌شوند. کتابخانه نامپای برای این منظور توابع عمومی (universal functions یا به اختصار ufuncs) را پیش‌بینی کرده است.\n",
    "</font>\n",
    "</p>"
   ]
  },
  {
   "cell_type": "markdown",
   "id": "4bdbea3c-3d68-4c6a-833e-3bf5c423ffbd",
   "metadata": {
    "id": "ZRjNvNoBmES8"
   },
   "source": [
    "<p dir=rtl style=\"direction: rtl;text-align: right;line-height:200%;font-family:vazir;font-size:medium\">\n",
    "<font face=\"vazir\" size=4>\n",
    "توابع عمومی دو عملوندی (binary ufuncs): (عملیات را روی دو آرایه انجام می‌دهند)\n",
    "</font>\n",
    "</p>"
   ]
  },
  {
   "cell_type": "markdown",
   "id": "eb1f071c-902b-460d-bd28-f9c962a4a154",
   "metadata": {
    "id": "ZRjNvNoBmES8"
   },
   "source": [
    "<p dir=rtl style=\"direction: rtl;text-align: right;line-height:200%;font-family:vazir;font-size:medium\">\n",
    "<font face=\"vazir\" size=3 color='midnightblue'>\n",
    "تابع add دو آرایه ورودی را عنصر به عنصر با هم جمع می‌کند:\n",
    "</font>\n",
    "</p>"
   ]
  },
  {
   "cell_type": "code",
   "execution_count": 85,
   "id": "fbf49f0a-7070-447a-9485-d43ca1bd0ebe",
   "metadata": {},
   "outputs": [
    {
     "name": "stdout",
     "output_type": "stream",
     "text": [
      "a + b = [-2 11  3  8]\n",
      "a + b = [-2 11  3  8]\n"
     ]
    }
   ],
   "source": [
    "a = np.array([0, 1, 2, 3])\n",
    "b = np.array([-2, 10, 1, 5])\n",
    "print('a + b =', np.add(a, b)) \n",
    "print('a + b =', a + b) # است a + b معادل np.add(a, b)"
   ]
  },
  {
   "cell_type": "markdown",
   "id": "2518a860-60c4-4d42-a53f-96b56a9075f0",
   "metadata": {
    "id": "ZRjNvNoBmES8"
   },
   "source": [
    "<p dir=rtl style=\"direction: rtl;text-align: right;line-height:200%;font-family:vazir;font-size:medium\">\n",
    "<font face=\"vazir\" size=3 color='midnightblue'>\n",
    "تابع subtract دو آرایه ورودی را عنصر به عنصر از هم کم می‌کند:\n",
    "</font>\n",
    "</p>"
   ]
  },
  {
   "cell_type": "code",
   "execution_count": 88,
   "id": "dca6b742-3d5e-4905-8b09-75a83dcd8676",
   "metadata": {},
   "outputs": [
    {
     "name": "stdout",
     "output_type": "stream",
     "text": [
      "a - b = [ 2 -9  1 -2]\n",
      "a - b = [ 2 -9  1 -2]\n"
     ]
    }
   ],
   "source": [
    "print('a - b =', np.subtract(a, b)) \n",
    "print('a - b =', a - b) # است a - b معادل np.subtract(a, b)"
   ]
  },
  {
   "cell_type": "markdown",
   "id": "42146459-18b8-41a0-be66-22a039279e2c",
   "metadata": {
    "id": "ZRjNvNoBmES8"
   },
   "source": [
    "<p dir=rtl style=\"direction: rtl;text-align: right;line-height:200%;font-family:vazir;font-size:medium\">\n",
    "<font face=\"vazir\" size=3 color='midnightblue'>\n",
    "تابع multiply دو آرایه ورودی را عنصر به عنصر در هم ضرب می‌کند:\n",
    "</font>\n",
    "</p>"
   ]
  },
  {
   "cell_type": "code",
   "execution_count": 89,
   "id": "335a373f-c2e0-4bea-b0b2-b488fd3e1246",
   "metadata": {},
   "outputs": [
    {
     "name": "stdout",
     "output_type": "stream",
     "text": [
      "a * b = [ 0 10  2 15]\n",
      "a * b = [ 0 10  2 15]\n"
     ]
    }
   ],
   "source": [
    "print('a * b =', np.multiply(a, b)) \n",
    "print('a * b =', a * b) # است a * b معادل np.multiply(a, b)"
   ]
  },
  {
   "cell_type": "markdown",
   "id": "8ba85496-b986-4734-b1a7-3475efb6d3cc",
   "metadata": {
    "id": "ZRjNvNoBmES8"
   },
   "source": [
    "<p dir=rtl style=\"direction: rtl;text-align: right;line-height:200%;font-family:vazir;font-size:medium\">\n",
    "<font face=\"vazir\" size=3 color='midnightblue'>\n",
    "تابع divide دو آرایه ورودی را عنصر به عنصر بر هم تقسیم می‌کند:\n",
    "</font>\n",
    "</p>"
   ]
  },
  {
   "cell_type": "code",
   "execution_count": 90,
   "id": "d2a66e33-d987-449f-80be-30cdcdb444d2",
   "metadata": {},
   "outputs": [
    {
     "name": "stdout",
     "output_type": "stream",
     "text": [
      "a / b = [-0.   0.1  2.   0.6]\n",
      "a / b = [-0.   0.1  2.   0.6]\n"
     ]
    }
   ],
   "source": [
    "print('a / b =', np.divide(a, b)) \n",
    "print('a / b =', a / b) # است a / b معادل np.divide(a, b)"
   ]
  },
  {
   "cell_type": "markdown",
   "id": "b2b1982c-cd97-441f-a264-ff37e2c8a057",
   "metadata": {
    "id": "ZRjNvNoBmES8"
   },
   "source": [
    "<p dir=rtl style=\"direction: rtl;text-align: right;line-height:200%;font-family:vazir;font-size:medium\">\n",
    "<font face=\"vazir\" size=4>\n",
    "توابع عمومی تک عملوندی: (عملیات را روی یک آرایه انجام می‌دهند)\n",
    "</font>\n",
    "</p>"
   ]
  },
  {
   "cell_type": "markdown",
   "id": "12beef62-fb96-4495-9c0b-2fc0f953169c",
   "metadata": {
    "id": "ZRjNvNoBmES8"
   },
   "source": [
    "<p dir=rtl style=\"direction: rtl;text-align: right;line-height:200%;font-family:vazir;font-size:medium\">\n",
    "<font face=\"vazir\" size=3 color='midnightblue'>\n",
    "تابع abs قدرمطلق مقادیر یک آرایه را محاسبه می‌کند:\n",
    "</font>\n",
    "</p>"
   ]
  },
  {
   "cell_type": "code",
   "execution_count": 91,
   "id": "86df79d0-8743-4438-9d1a-5d64b40a2429",
   "metadata": {},
   "outputs": [
    {
     "name": "stdout",
     "output_type": "stream",
     "text": [
      "absolute values of b = [8 6 7 6 1]\n"
     ]
    }
   ],
   "source": [
    "a = [4, 8, 3, 6, 6]\n",
    "b = [-8,  6, -7,  6,  1]\n",
    "print('absolute values of b =', np.abs(b)) "
   ]
  },
  {
   "cell_type": "markdown",
   "id": "3232d5e6-12d9-4c03-8f81-174a80f3f28b",
   "metadata": {
    "id": "ZRjNvNoBmES8"
   },
   "source": [
    "<p dir=rtl style=\"direction: rtl;text-align: right;line-height:200%;font-family:vazir;font-size:medium\">\n",
    "<font face=\"vazir\" size=3 color='midnightblue'>\n",
    "تابع square توان دوم عناصر یک آرایه را محاسبه می‌کند:\n",
    "</font>\n",
    "</p>"
   ]
  },
  {
   "cell_type": "code",
   "execution_count": 92,
   "id": "70bf42c2-7e1b-4057-b1c9-911cdf02a76d",
   "metadata": {},
   "outputs": [
    {
     "name": "stdout",
     "output_type": "stream",
     "text": [
      "square values of a = [16 64  9 36 36]\n"
     ]
    }
   ],
   "source": [
    "print('square values of a =', np.square(a) ) "
   ]
  },
  {
   "cell_type": "markdown",
   "id": "a59d4393-76ba-4bce-9539-b0e286f15a42",
   "metadata": {
    "id": "ZRjNvNoBmES8"
   },
   "source": [
    "<p dir=rtl style=\"direction: rtl;text-align: right;line-height:200%;font-family:vazir;font-size:medium\">\n",
    "<font face=\"vazir\" size=3 color='midnightblue'>\n",
    "تابع sqrt ریشه دوم عناصر یک آرایه را محاسبه می‌کند:\n",
    "    <br>\n",
    "    تابع isnan، رای نشان دادن عدد نبودن مقدار یک خانه در آرایه عددی استفاده می‌شود. nan بودن عناصر یک آرایه عدد را مشخص می کند:\n",
    "</font>\n",
    "</p>"
   ]
  },
  {
   "cell_type": "code",
   "execution_count": 93,
   "id": "8abb9995-97b8-4bcb-a48c-a79b16742f9a",
   "metadata": {},
   "outputs": [
    {
     "name": "stdout",
     "output_type": "stream",
     "text": [
      "a =  [ 1  2 -3  4 -5]\n",
      "isnan results for a = [False False False False False]\n",
      "sqrt(a) =  [1.         1.41421356        nan 2.                nan]\n",
      "isnan resultes for sqrt(a) = [False False  True False  True]\n"
     ]
    }
   ],
   "source": [
    "np.seterr(invalid=\"ignore\") # خطای ناشی از عملیات غیرمجاز را نادیده می‌گیرد\n",
    "a = np.array([1 , 2 , -3 , 4, -5])\n",
    "print('a = ', a)\n",
    "print('isnan results for a =', np.isnan(a))\n",
    "print('sqrt(a) = ', np.sqrt(a))\n",
    "print('isnan resultes for sqrt(a) =', np.isnan(np.sqrt(a)))"
   ]
  },
  {
   "cell_type": "markdown",
   "id": "9c96d228-37de-4a4a-abf7-8414f53ec40a",
   "metadata": {},
   "source": [
    "<br>\n",
    "<div dir=rtl id=\"start\" style=\"direction:rtl;line-height:200%;\">\n",
    "\t<font face=\"vazir\" size=7 color='Red'>\n",
    "    توابع تجمیعی\n",
    "    </font>\n",
    "</div>"
   ]
  },
  {
   "cell_type": "markdown",
   "id": "76f084d0-d41f-4ac9-9d10-e13d896715be",
   "metadata": {
    "id": "ZRjNvNoBmES8"
   },
   "source": [
    "<p dir=rtl style=\"direction: rtl;text-align: right;line-height:200%;font-family:vazir;font-size:medium\">\n",
    "<font face=\"vazir\" size=4>\n",
    "برای توصیف داده معمولا از آماره هایی چون میانگین و انحراف معیار استفاده می‌شود که داده را در قالب اعداد توصیف می‌کنند. به توابعی از این دست که درباره یک مجموعه از داده یک عدد گزارش می‌کنند، توابع تجمیعی می‌گوییم. توابعی چون مجموع (sum) ، کمینه (min) و بیشینه (max)\n",
    "</font>\n",
    "</p>"
   ]
  },
  {
   "cell_type": "code",
   "execution_count": 94,
   "id": "1cdeb2e5-5588-45de-8700-5e0fb113ae47",
   "metadata": {},
   "outputs": [
    {
     "name": "stdout",
     "output_type": "stream",
     "text": [
      "[4 0 4 6 1 4 8 0 6 8 5 5 2 7 7 6 3 5 6 7]\n",
      "sum = 94\n",
      "min = 0\n",
      "max = 8\n"
     ]
    }
   ],
   "source": [
    "a = np.random.randint(0, 10, 20)\n",
    "print(a)\n",
    "print('sum =', np.sum(a))\n",
    "print('min =', np.min(a))\n",
    "print('max =', np.max(a))"
   ]
  },
  {
   "cell_type": "markdown",
   "id": "82eee337-fd65-47b1-8293-afa3abdc65bc",
   "metadata": {
    "id": "ZRjNvNoBmES8"
   },
   "source": [
    "<p dir=rtl style=\"direction: rtl;text-align: right;line-height:200%;font-family:vazir;font-size:medium\">\n",
    "<font face=\"vazir\" size=3 color='midnightblue'>\n",
    "برخی از این توابع به شکل متدهایی برای آرایه هم موجود هستند و می‌توان به شکل زیر از آن‌ها استفاده کرد.\n",
    "</font>\n",
    "</p>"
   ]
  },
  {
   "cell_type": "code",
   "execution_count": 95,
   "id": "0a1e73da-1a7e-479c-a503-b8a329574569",
   "metadata": {},
   "outputs": [
    {
     "name": "stdout",
     "output_type": "stream",
     "text": [
      "0 8 94\n"
     ]
    }
   ],
   "source": [
    "print(a.min(), a.max(), a.sum())"
   ]
  },
  {
   "cell_type": "markdown",
   "id": "7d6c0a92-5466-4fdd-99dd-09c5530f1bc5",
   "metadata": {
    "id": "ZRjNvNoBmES8"
   },
   "source": [
    "<p dir=rtl style=\"direction: rtl;text-align: right;line-height:200%;font-family:vazir;font-size:medium\">\n",
    "<font face=\"vazir\" size=4>\n",
    "با تعیین محور تجمیع می‌توان این کار را در راستای تنها یک محور هم انجام داد. برای مثال اگر یک آرایه دو بعدی داشته باشیم و بخواهیم مقدار کمینه ستون‌ها را به صورت یک آرایه داشته باشیم، کافیست متد min را با ورودی axis=0 برای آرایه صدا بزنیم. چرا که بُعد مربوط به سطرها که می‌خواهیم تجمیع‌شده و از بین برود، هم‌راستا با محور شماره 0 است. به این ترتیب خروجی آرایه‌ایست یک بُعدی که به ازای هر ستون کمینه خانه‌های آن ستون در سطرهای مختلف قرار گرفته است (به طور کلی شکل خروجی شبیه آرایه ابتداییست، با این تفاوت که بُعدی از آن، که در جهت محور axis است تجمیع شده و از بین رفته‌است).\n",
    "</font>\n",
    "</p>"
   ]
  },
  {
   "cell_type": "code",
   "execution_count": 96,
   "id": "d8b19c93-9aef-4d05-90da-2e4e23534062",
   "metadata": {},
   "outputs": [
    {
     "data": {
      "text/plain": [
       "array([1, 0, 6, 3])"
      ]
     },
     "execution_count": 96,
     "metadata": {},
     "output_type": "execute_result"
    }
   ],
   "source": [
    "a = np.random.randint(0, 10, (3, 4))\n",
    "a.min(axis=0)"
   ]
  },
  {
   "cell_type": "code",
   "execution_count": 97,
   "id": "bab594fd-ac4e-4bb8-be36-6bac5b1cc3a5",
   "metadata": {},
   "outputs": [
    {
     "data": {
      "text/plain": [
       "array([9, 9, 7])"
      ]
     },
     "execution_count": 97,
     "metadata": {},
     "output_type": "execute_result"
    }
   ],
   "source": [
    "a.max(axis=1)"
   ]
  },
  {
   "cell_type": "markdown",
   "id": "e1be738b-3364-47fd-a57a-67a72c35da0a",
   "metadata": {},
   "source": [
    "<img src='./1.Numpy_file/03.jpg'/>"
   ]
  },
  {
   "cell_type": "markdown",
   "id": "99b248f4-fc29-4c78-8891-bd394f647616",
   "metadata": {
    "id": "ZRjNvNoBmES8"
   },
   "source": [
    "<p dir=rtl style=\"direction: rtl;text-align: right;line-height:200%;font-family:vazir;font-size:medium\">\n",
    "<font face=\"vazir\" size=3 color='midnightblue'>\n",
    "تابع percentile چارک ها را حساب میکند.\n",
    "    <br>\n",
    "    np.var واریانس عناصر را محاسبه می‌کند.\n",
    "    <br>\n",
    "    np.median میانه عناصر را محاسبه میکند.\n",
    "    <br>\n",
    "    np.std انحراف معیار را محاسبه میکند.\n",
    "    <br>\n",
    "np.argmin شماره خانه کمینه را برمی‌گرداند.\n",
    "    <br>\n",
    "np.argmax شماره خانه بیشینه را برمی‌گرداند.\t\n",
    "</font>\n",
    "</p>"
   ]
  },
  {
   "cell_type": "code",
   "execution_count": 98,
   "id": "60e2ba84-1532-4f0f-838e-af8afe48c948",
   "metadata": {},
   "outputs": [
    {
     "name": "stdout",
     "output_type": "stream",
     "text": [
      "Iran vs Spain\n",
      "Mean height: [184.63636364 179.63636364]\n",
      "Standard deviation: [4.79152144 8.91650897]\n",
      "25th percentile: [181.  171.5]\n"
     ]
    }
   ],
   "source": [
    "heights = np.array([[194, 185, 183, 184, 178, 178, 190, 187, 187, 179, 186], \n",
    "                    [192, 173, 194, 184, 170, 189, 170, 170, 176, 173, 185]])\n",
    "print('Iran vs Spain')\n",
    "print('Mean height:', heights.mean(axis=1))\n",
    "print('Standard deviation:', heights.std(axis=1))\n",
    "print('25th percentile:', np.percentile(heights, 25, axis=1)) "
   ]
  },
  {
   "cell_type": "markdown",
   "id": "44402bef-e08a-45b6-acd0-24c64612197c",
   "metadata": {},
   "source": [
    "<br>\n",
    "<div dir=rtl id=\"start\" style=\"direction:rtl;line-height:200%;\">\n",
    "\t<font face=\"vazir\" size=7 color='Red'>\n",
    "    پخش آرایه\n",
    "    </font>\n",
    "</div>"
   ]
  },
  {
   "cell_type": "markdown",
   "id": "a9cbb053-81a1-4123-9c78-a1f20d2edb4f",
   "metadata": {
    "id": "ZRjNvNoBmES8"
   },
   "source": [
    "<p dir=rtl style=\"direction: rtl;text-align: right;line-height:200%;font-family:vazir;font-size:medium\">\n",
    "<font face=\"vazir\" size=4>\n",
    "وقتی یک عدد ثابت را در یک آرایه ضرب میکنیم، انگار عدد به صورت آرایه یک بعدی در می آید و عنصر به عنصر در آرایه ضرب میشود.\n",
    "    <br>\n",
    "    اگر آرایه دو بعدی را با یک بعدی جمع کنیم (با ستونهای برابر) همین تفاق می افتد.\n",
    "</font>\n",
    "</p>"
   ]
  },
  {
   "cell_type": "code",
   "execution_count": 99,
   "id": "be0dd8a6-bf4d-497f-b09a-5f61f6e4fbcd",
   "metadata": {},
   "outputs": [
    {
     "name": "stdout",
     "output_type": "stream",
     "text": [
      "[[ 0  1  2  3]\n",
      " [ 4  5  6  7]\n",
      " [ 8  9 10 11]]\n",
      "[3 2 1 0]\n"
     ]
    },
    {
     "data": {
      "text/plain": [
       "array([[ 3,  3,  3,  3],\n",
       "       [ 7,  7,  7,  7],\n",
       "       [11, 11, 11, 11]])"
      ]
     },
     "execution_count": 99,
     "metadata": {},
     "output_type": "execute_result"
    }
   ],
   "source": [
    "a = np.arange(12).reshape(3, 4)\n",
    "print(a)\n",
    "b = np.array([3, 2, 1, 0])\n",
    "print(b)\n",
    "a + b"
   ]
  },
  {
   "cell_type": "markdown",
   "id": "cc245ef3-2bde-4bcf-9b32-961d1e71d152",
   "metadata": {
    "id": "ZRjNvNoBmES8"
   },
   "source": [
    "<p dir=rtl style=\"direction: rtl;text-align: right;line-height:200%;font-family:vazir;font-size:medium\">\n",
    "<font face=\"vazir\" size=3 color='midnightblue'>\n",
    "گاهی هم هر دو آرایه پخش میشوند تا ابعادشان برابر شود.\n",
    "</font>\n",
    "</p>"
   ]
  },
  {
   "cell_type": "code",
   "execution_count": 100,
   "id": "c973952e-6865-47dc-a281-a20048b47b69",
   "metadata": {},
   "outputs": [
    {
     "name": "stdout",
     "output_type": "stream",
     "text": [
      "[1 2 3 4 5]\n",
      "[[1]\n",
      " [2]\n",
      " [3]\n",
      " [4]]\n"
     ]
    },
    {
     "data": {
      "text/plain": [
       "array([[ 1,  2,  3,  4,  5],\n",
       "       [ 2,  4,  6,  8, 10],\n",
       "       [ 3,  6,  9, 12, 15],\n",
       "       [ 4,  8, 12, 16, 20]])"
      ]
     },
     "execution_count": 100,
     "metadata": {},
     "output_type": "execute_result"
    }
   ],
   "source": [
    "a = np.array([1, 2, 3, 4, 5])\n",
    "b = np.array([1, 2, 3, 4]).reshape(4, 1)\n",
    "print(a)\n",
    "print(b)\n",
    "a * b"
   ]
  },
  {
   "cell_type": "markdown",
   "id": "14fc4ec4-40e8-4fb4-823b-ecb27779c575",
   "metadata": {
    "id": "ZRjNvNoBmES8"
   },
   "source": [
    "<p dir=rtl style=\"direction: rtl;text-align: right;line-height:200%;font-family:vazir;font-size:medium\">\n",
    "<font face=\"vazir\" size=3 color='midnightblue'>\n",
    "به طور کلی قانون دقیق پخش شدن آرایه‌ها برای هم‌اندازه شدن به شکل زیر است:\n",
    "    <br>\n",
    "اگر دو آرایه هم‌مرتبه (با تعداد بُعد برابر) نبودند، به ابتدای ابعاد آرایه با مرتبه کوچک‌تر تعدادی بعد با اندازه ۱ اضافه کن تا جایی که هم‌مرتبه شوند.\n",
    "    <br>\n",
    "اگر اندازه دو آرایه در بُعدی برابر نبود، آرایه‌ای که اندازه آن بُعدش ۱ است را در جهت محور آن بُعد بکش تا مثل آرایه دیگر شود.\n",
    "    <br>\n",
    "اگر اندازه دو آرایه در بُعدی برابر نبود و اندازه هیچ‌یک در آن بُعد برابر با ۱ نبود، پیام خطا بده.\n",
    "</font>\n",
    "</p>"
   ]
  },
  {
   "cell_type": "markdown",
   "id": "09a01f2b-473d-4fc9-8b69-8d30e4f43f3d",
   "metadata": {},
   "source": [
    "<br>\n",
    "<div dir=rtl id=\"start\" style=\"direction:rtl;line-height:200%;\">\n",
    "\t<font face=\"vazir\" size=7 color='Red'>\n",
    "    مقایسه و منطق بولی\n",
    "    </font>\n",
    "</div>"
   ]
  },
  {
   "cell_type": "markdown",
   "id": "02c87719-7ff9-4c54-8b70-9f47526398b9",
   "metadata": {
    "id": "ZRjNvNoBmES8"
   },
   "source": [
    "<p dir=rtl style=\"direction: rtl;text-align: right;line-height:200%;font-family:vazir;font-size:medium\">\n",
    "<font face=\"vazir\" size=4>\n",
    "نوع دیگری از عملیات‌ روی آرایه‌ها که کاربرد زیادی دارند، عملیات‌ مقایسه‌ای هستند. خروجی مقایسه دو آرایه، یک آرایه از جنس مقدار بولی است که در هر خانه آن حاصل مقایسه عناصر متناظر دو آرایه قرار می‌گیرد. دقت کنید که دو آرایه مقایسه شونده ممکن است هم‌شکل نباشند و در آن صورت حاصل مقایسه هم‌شکل شده آن‌ها به کمک خاصیت پخش آرایه‌ها (broadcasting) خروجی داده می‌شود (ابعاد آرایه خروجی هم مشابه آرایه‌های هم‌شکل شده خواهد بود). \n",
    "</font>\n",
    "</p>"
   ]
  },
  {
   "cell_type": "markdown",
   "id": "bd373cdc-7eac-4c79-906a-e3b24532fcee",
   "metadata": {},
   "source": [
    "<img src='./1.Numpy_file/04.jpg'/>"
   ]
  },
  {
   "cell_type": "code",
   "execution_count": 101,
   "id": "a46c2642-ec07-4dad-8027-19b3375051b5",
   "metadata": {},
   "outputs": [
    {
     "data": {
      "text/plain": [
       "array([ True, False,  True,  True, False,  True])"
      ]
     },
     "execution_count": 101,
     "metadata": {},
     "output_type": "execute_result"
    }
   ],
   "source": [
    "a = np.array([2, 13, -5, -3, 19, -17])\n",
    "a < 7 # سمت راست مقایسه به شکل یک آرایه (,6) با مقادیر 7 در می‌آید"
   ]
  },
  {
   "cell_type": "code",
   "execution_count": 102,
   "id": "2f38c48e-d290-4144-96e9-658f5bee594b",
   "metadata": {},
   "outputs": [
    {
     "data": {
      "text/plain": [
       "array([ True,  True, False, False,  True, False])"
      ]
     },
     "execution_count": 102,
     "metadata": {},
     "output_type": "execute_result"
    }
   ],
   "source": [
    "a == np.sqrt(a ** 2)  # دو سمت مقایسه می‌توانند هم‌نوع نباشند اما مقایسه‌پذیر باشند"
   ]
  },
  {
   "cell_type": "markdown",
   "id": "4dd2e9b2-3dec-4c3a-acae-36da5b3d9215",
   "metadata": {},
   "source": [
    "<br>\n",
    "<div dir=rtl id=\"start\" style=\"direction:rtl;line-height:200%;\">\n",
    "\t<font face=\"vazir\" size=6 color='Orange'>\n",
    "    توابع مخصوص آرایه‌های بولی\n",
    "    </font>\n",
    "</div>"
   ]
  },
  {
   "cell_type": "markdown",
   "id": "ce00b901-7fdb-45a9-94ad-1171e1a37938",
   "metadata": {
    "id": "ZRjNvNoBmES8"
   },
   "source": [
    "<p dir=rtl style=\"direction: rtl;text-align: right;line-height:200%;font-family:vazir;font-size:medium\">\n",
    "<font face=\"vazir\" size=4>\n",
    "اگر بخواهیم در یک آرایه مثلا اعداد بزرگتر از 20 را بشماریم از تابع np.count_nonzero استفاده میکنیم. این توابع False را صفر و True را یک در نظر میگیرند. برای این کار از تابع np.sum هم میتوانیم استفاده کنیم.\n",
    "</font>\n",
    "</p>"
   ]
  },
  {
   "cell_type": "code",
   "execution_count": 103,
   "id": "5d65bb72-c6b9-436f-b4ab-ba1c74f9f22e",
   "metadata": {},
   "outputs": [
    {
     "data": {
      "text/plain": [
       "array([[False, False, False, False, False, False, False],\n",
       "       [False, False, False,  True, False, False, False],\n",
       "       [False, False,  True, False,  True,  True,  True],\n",
       "       [False,  True, False,  True,  True,  True,  True]])"
      ]
     },
     "execution_count": 103,
     "metadata": {},
     "output_type": "execute_result"
    }
   ],
   "source": [
    "# آرایه دو بعدی t با ابعاد (7 ,4) دمای روزانه هوای شهر شیراز \n",
    "# طی هفت روز هفته را در چهار هفته ماه اردیبهشت به سانتی‌گراد نشان می‌دهد.\n",
    "t = np.array([[10, 12, 11, 17, 15, 11, 14],\n",
    "             [13, 15, 18, 21, 19, 18, 17],\n",
    "             [18, 20, 21, 19, 23, 24, 22],\n",
    "             [20, 23, 19, 21, 25, 22, 21]])\n",
    "t > 20 # خروجی یک آرایه (7 ,4) با مقادیر بولی است"
   ]
  },
  {
   "cell_type": "code",
   "execution_count": 104,
   "id": "3af25f86-53d7-44f8-bd4a-519bd5ed5dab",
   "metadata": {},
   "outputs": [
    {
     "data": {
      "text/plain": [
       "10"
      ]
     },
     "execution_count": 104,
     "metadata": {},
     "output_type": "execute_result"
    }
   ],
   "source": [
    "np.count_nonzero(t > 20)"
   ]
  },
  {
   "cell_type": "code",
   "execution_count": 105,
   "id": "6a6c1975-25ca-4bd1-ab94-af054fb33a7d",
   "metadata": {},
   "outputs": [
    {
     "data": {
      "text/plain": [
       "10"
      ]
     },
     "execution_count": 105,
     "metadata": {},
     "output_type": "execute_result"
    }
   ],
   "source": [
    "np.sum(t > 20)"
   ]
  },
  {
   "cell_type": "markdown",
   "id": "bc5434e5-ac0f-4993-9034-4ac1ae0fa1e4",
   "metadata": {
    "id": "ZRjNvNoBmES8"
   },
   "source": [
    "<p dir=rtl style=\"direction: rtl;text-align: right;line-height:200%;font-family:vazir;font-size:medium\">\n",
    "<font face=\"vazir\" size=3 color='midnightblue'>\n",
    "با مشخص کردن محور محاسبه می‌توانیم تعداد روزهای با دمای بالاتر از ۲۰ را به تفکیک هفته‌ها هم محاسبه کنیم.\n",
    "</font>\n",
    "</p>"
   ]
  },
  {
   "cell_type": "code",
   "execution_count": 106,
   "id": "9ec369a5-f460-43a4-93eb-5cf0ba65c301",
   "metadata": {},
   "outputs": [
    {
     "data": {
      "text/plain": [
       "array([0, 1, 4, 5])"
      ]
     },
     "execution_count": 106,
     "metadata": {},
     "output_type": "execute_result"
    }
   ],
   "source": [
    "np.sum(t > 20, axis=1)"
   ]
  },
  {
   "cell_type": "markdown",
   "id": "c12c885e-0955-4c8f-856a-7ae0c7c46df6",
   "metadata": {
    "id": "ZRjNvNoBmES8"
   },
   "source": [
    "<p dir=rtl style=\"direction: rtl;text-align: right;line-height:200%;font-family:vazir;font-size:medium\">\n",
    "<font face=\"vazir\" size=4>\n",
    "    از تابع np.any برای بررسی True بودن حداقل یک خانه و از تابع np.all  برای بررسی True بودن تمام خانه ها استفاده میکنیم.\n",
    "</font>\n",
    "</p>"
   ]
  },
  {
   "cell_type": "code",
   "execution_count": 107,
   "id": "72a73dda-d223-42ac-b6b5-970a86b14558",
   "metadata": {},
   "outputs": [
    {
     "data": {
      "text/plain": [
       "False"
      ]
     },
     "execution_count": 107,
     "metadata": {},
     "output_type": "execute_result"
    }
   ],
   "source": [
    "np.any(t > 30)"
   ]
  },
  {
   "cell_type": "code",
   "execution_count": 108,
   "id": "c65124c5-4cd0-4daf-9cc4-1ad73bf97908",
   "metadata": {},
   "outputs": [
    {
     "data": {
      "text/plain": [
       "True"
      ]
     },
     "execution_count": 108,
     "metadata": {},
     "output_type": "execute_result"
    }
   ],
   "source": [
    "np.all(t >= 10)"
   ]
  },
  {
   "cell_type": "markdown",
   "id": "49fb55b1-206c-4514-9f97-5aa0e7f58930",
   "metadata": {},
   "source": [
    "<br>\n",
    "<div dir=rtl id=\"start\" style=\"direction:rtl;line-height:200%;\">\n",
    "\t<font face=\"vazir\" size=6 color='Orange'>\n",
    "    عملیات‌ منطق بولی\n",
    "    </font>\n",
    "</div>"
   ]
  },
  {
   "cell_type": "markdown",
   "id": "4d8bd875-e2a1-4848-a483-b6d97d2815a6",
   "metadata": {},
   "source": [
    "<img src='./1.Numpy_file/05.jpg'/>"
   ]
  },
  {
   "cell_type": "markdown",
   "id": "df52689d-8b6b-4c3d-8bb8-a5054e750490",
   "metadata": {
    "id": "ZRjNvNoBmES8"
   },
   "source": [
    "<p dir=rtl style=\"direction: rtl;text-align: right;line-height:200%;font-family:vazir;font-size:medium\">\n",
    "<font face=\"vazir\" size=4>\n",
    "    برای مثال، در مسئله قبلی برای شمردن تعداد روزهای ماه با دمای بین ۱۵ و ۲۰ می‌توان دو مقایسه را به صورت جداگانه انجام داد و با وَ (and‍‍‍) بیتی گرفتن از دو آرایه حاصل به آرایه دیگری رسید که در آن خانه‌های متناظر با روزهای مدنظرمان True هستند. این کار را می‌توان با ترکیب عملگرهای یا (or) و وارون (not) بیتی هم انجام داد.\n",
    "</font>\n",
    "</p>"
   ]
  },
  {
   "cell_type": "code",
   "execution_count": 109,
   "id": "87c48ea4-8c42-4ddd-acb4-8d7072eba5f9",
   "metadata": {},
   "outputs": [
    {
     "data": {
      "text/plain": [
       "12"
      ]
     },
     "execution_count": 109,
     "metadata": {},
     "output_type": "execute_result"
    }
   ],
   "source": [
    "np.sum((t >= 15) & (t <= 20))"
   ]
  },
  {
   "cell_type": "code",
   "execution_count": 110,
   "id": "b18de3cd-ca90-41ad-9c1b-ad69a9732823",
   "metadata": {},
   "outputs": [
    {
     "data": {
      "text/plain": [
       "12"
      ]
     },
     "execution_count": 110,
     "metadata": {},
     "output_type": "execute_result"
    }
   ],
   "source": [
    "np.sum(~((t < 15) | (t > 20)))"
   ]
  },
  {
   "cell_type": "markdown",
   "id": "92ec706b-33b1-4b51-84c0-24cabfbaeab7",
   "metadata": {},
   "source": [
    "<br>\n",
    "<div dir=rtl id=\"start\" style=\"direction:rtl;line-height:200%;\">\n",
    "\t<font face=\"vazir\" size=7 color='Red'>\n",
    "    نمایه‌سازی با آرایه‌ها\n",
    "    </font>\n",
    "</div>"
   ]
  },
  {
   "cell_type": "markdown",
   "id": "7cf44cff-606f-42e7-8719-06e0f3a896ad",
   "metadata": {},
   "source": [
    "<br>\n",
    "<div dir=rtl id=\"start\" style=\"direction:rtl;line-height:200%;\">\n",
    "\t<font face=\"vazir\" size=6 color='Orange'>\n",
    "    نمایه‌سازی با آرایه‌های بولی (boolean indexing)\n",
    "    </font>\n",
    "</div>"
   ]
  },
  {
   "cell_type": "markdown",
   "id": "dc36ce9e-f13b-4cb4-9c02-dc45a2c122dd",
   "metadata": {
    "id": "ZRjNvNoBmES8"
   },
   "source": [
    "<p dir=rtl style=\"direction: rtl;text-align: right;line-height:200%;font-family:vazir;font-size:medium\">\n",
    "<font face=\"vazir\" size=4>\n",
    "    با قابلیت نمایه سازی (indexing) از آرایه ها به وسیله آرایه های بولی، میتوانیم به یک زیرمجموعه از آرایه که ویژگی مشخصی دارند دسترسی پیدا کنیم.\n",
    "</font>\n",
    "</p>"
   ]
  },
  {
   "cell_type": "code",
   "execution_count": 111,
   "id": "d0daeac4-e012-43b2-9ad4-c039b0120f8d",
   "metadata": {},
   "outputs": [
    {
     "data": {
      "text/plain": [
       "array([17, 15, 15, 18, 19, 18, 17, 18, 20, 19, 20, 19])"
      ]
     },
     "execution_count": 111,
     "metadata": {},
     "output_type": "execute_result"
    }
   ],
   "source": [
    "t = np.array([[10, 12, 11, 17, 15, 11, 14],\n",
    "             [13, 15, 18, 21, 19, 18, 17],\n",
    "             [18, 20, 21, 19, 23, 24, 22],\n",
    "             [20, 23, 19, 21, 25, 22, 21]])\n",
    "t[(t >= 15) & (t <= 20)]"
   ]
  },
  {
   "cell_type": "markdown",
   "id": "4384b7ae-54bf-457c-8754-d7faf620ef3f",
   "metadata": {
    "id": "ZRjNvNoBmES8"
   },
   "source": [
    "<p dir=rtl style=\"direction: rtl;text-align: right;line-height:200%;font-family:vazir;font-size:medium\">\n",
    "<font face=\"vazir\" size=4>\n",
    "    می‌توانیم در داخل [] جلوی نام آرایه، یک آرایه بولی هم‌شکل آرایه قرار دهیم. در نتیجه آن، یک آرایه یک بعدی شامل عناصری از آرایه برگردانده می‌شود که خانه متناظرشان در آرایه بولی مقدار True داشته باشد. به این کار اصطلاحا masking هم می‌گویند.\n",
    "</font>\n",
    "</p>"
   ]
  },
  {
   "cell_type": "code",
   "execution_count": 112,
   "id": "a155a32d-4d1c-4491-a4b3-b0922bc3317f",
   "metadata": {},
   "outputs": [
    {
     "name": "stdout",
     "output_type": "stream",
     "text": [
      "میانگین دمای هوا در روزهای گرم‌تر از ۲۰ درجه: 22.3\n",
      "میانه دمای هوا در روزهای سردتر از ۲۰ و گرم‌تر از ۱۵ درجه: 18.0\n"
     ]
    }
   ],
   "source": [
    "print('میانگین دمای هوا در روزهای گرم‌تر از ۲۰ درجه:', t[t > 20].mean())\n",
    "print('میانه دمای هوا در روزهای سردتر از ۲۰ و گرم‌تر از ۱۵ درجه:', np.median(t[(t > 15) & (t < 20)]))"
   ]
  },
  {
   "cell_type": "code",
   "execution_count": 113,
   "id": "8751fb63-9642-4f09-827c-10c49c01bf5e",
   "metadata": {},
   "outputs": [
    {
     "name": "stdout",
     "output_type": "stream",
     "text": [
      "میانه دمای روزهای آخرِ هفته کل ماه: 19.5\n",
      "میانه دمای دو هفته نخست ماه: 15.0\n",
      "میانگین دمای روزهای آخرِ هفته در دو هفته پایانی ماه: 22.25\n"
     ]
    }
   ],
   "source": [
    "calendar = np.arange(4*7).reshape(4, 7)\n",
    "holidays = (calendar%7 >= 5) # آرایه بولی متناظر روزهای آخر هفته (پنج‌شنبه و جمعه)\n",
    "first_mid = (calendar < 2*7) # آرایه بولی متناظر روزهای دو هفته اول اردیبهشت\n",
    "print('میانه دمای روزهای آخرِ هفته کل ماه:', np.median(t[holidays]))\n",
    "print('میانه دمای دو هفته نخست ماه:', np.median(t[first_mid]))\n",
    "print('میانگین دمای روزهای آخرِ هفته در دو هفته پایانی ماه:', np.mean(t[~first_mid & holidays]))"
   ]
  },
  {
   "cell_type": "markdown",
   "id": "8d889afa-c44f-44ff-a0f1-2675f7d75513",
   "metadata": {},
   "source": [
    "<br>\n",
    "<div dir=rtl id=\"start\" style=\"direction:rtl;line-height:200%;\">\n",
    "\t<font face=\"vazir\" size=6 color='Orange'>\n",
    "نمایه‌سازی با آرایه‌های عددی (fancy indexing)\n",
    "    </font>\n",
    "</div>"
   ]
  },
  {
   "cell_type": "markdown",
   "id": "848fdf6d-e877-4d36-9917-683eea9f4c0b",
   "metadata": {
    "id": "ZRjNvNoBmES8"
   },
   "source": [
    "<p dir=rtl style=\"direction: rtl;text-align: right;line-height:200%;font-family:vazir;font-size:medium\">\n",
    "<font face=\"vazir\" size=4>\n",
    "    مثلا در یک آرایه، خانه های شماره 2 و 3 و 5 را بخواهیم.\n",
    "</font>\n",
    "</p>"
   ]
  },
  {
   "cell_type": "code",
   "execution_count": 114,
   "id": "a3e8bca6-58d2-451f-be17-f1f823fea3f7",
   "metadata": {},
   "outputs": [
    {
     "data": {
      "text/plain": [
       "array([ 4,  8, 32])"
      ]
     },
     "execution_count": 114,
     "metadata": {},
     "output_type": "execute_result"
    }
   ],
   "source": [
    "a = np.array([1, 2, 4, 8, 16, 32])\n",
    "ind = [2, 3, 5]\n",
    "a[ind]"
   ]
  },
  {
   "cell_type": "markdown",
   "id": "05d18497-a31d-44ee-8ae7-b0ab8d48a5b5",
   "metadata": {
    "id": "ZRjNvNoBmES8"
   },
   "source": [
    "<p dir=rtl style=\"direction: rtl;text-align: right;line-height:200%;font-family:vazir;font-size:medium\">\n",
    "<font face=\"vazir\" size=3 color='midnightblue'>\n",
    "میتوانیم آرایه ind را دو بعدی تعریف کنیم و در هر خانه آن مقدار خانه‌ای از آرایه اصلی که در ind به شماره آن اشاره شده قرار می‌گیرد.\n",
    "    </font>\n",
    "</p>"
   ]
  },
  {
   "cell_type": "code",
   "execution_count": 115,
   "id": "c56798fe-a8fa-49b8-9cb3-7374349662e9",
   "metadata": {},
   "outputs": [
    {
     "data": {
      "text/plain": [
       "array([[ 4,  8],\n",
       "       [16,  2]])"
      ]
     },
     "execution_count": 115,
     "metadata": {},
     "output_type": "execute_result"
    }
   ],
   "source": [
    "ind = np.array([[2, 3],\n",
    "               [4, 1]])\n",
    "a[ind]"
   ]
  },
  {
   "cell_type": "markdown",
   "id": "8719a8c8-e081-4246-92be-ad793b0d239a",
   "metadata": {
    "id": "ZRjNvNoBmES8"
   },
   "source": [
    "<p dir=rtl style=\"direction: rtl;text-align: right;line-height:200%;font-family:vazir;font-size:medium\">\n",
    "<font face=\"vazir\" size=4>\n",
    "این شکل از نمایه‌سازی را برای آرایه‌های چندبعدی هم می‌توان انجام داد. برای این منظور، مختصات خانه‌هایی که می‌خواهیم را برای هر بُعد جدا می‌کنیم و در یک آرایه نگه می‌داریم. سپس از این آرایه‌ها را برای نمایه‌سازی استفاده می‌کنیم.\n",
    "</font>\n",
    "</p>"
   ]
  },
  {
   "cell_type": "code",
   "execution_count": 116,
   "id": "0e07d9e1-f6e4-44dd-9122-6866da5be3ef",
   "metadata": {},
   "outputs": [
    {
     "name": "stdout",
     "output_type": "stream",
     "text": [
      "[[ 0  1  2]\n",
      " [ 3  4  5]\n",
      " [ 6  7  8]\n",
      " [ 9 10 11]]\n"
     ]
    },
    {
     "data": {
      "text/plain": [
       "array([ 0,  8, 10,  6])"
      ]
     },
     "execution_count": 116,
     "metadata": {},
     "output_type": "execute_result"
    }
   ],
   "source": [
    "a = np.arange(12).reshape(4, 3)\n",
    "print(a)\n",
    "row = np.array([0, 2, 3, 2])\n",
    "col = np.array([0, 2, 1, 0])\n",
    "a[row, col]"
   ]
  },
  {
   "cell_type": "markdown",
   "id": "93f8752e-e582-42e3-9f1d-148d52097a15",
   "metadata": {
    "id": "ZRjNvNoBmES8"
   },
   "source": [
    "<p dir=rtl style=\"direction: rtl;text-align: right;line-height:200%;font-family:vazir;font-size:medium\">\n",
    "<font face=\"vazir\" size=3 color='midnightblue'>\n",
    "در ترکیب شدن آرایه های مربوط به بعدهای مختلف، خاصیت پخش آرایه ها برقرار است.\n",
    "    </font>\n",
    "</p>"
   ]
  },
  {
   "cell_type": "markdown",
   "id": "fc175e87-b317-4ef6-8c01-c2eaa6e29b16",
   "metadata": {
    "id": "ZRjNvNoBmES8"
   },
   "source": [
    "<p dir=rtl style=\"direction: rtl;text-align: right;line-height:200%;font-family:vazir;font-size:medium\">\n",
    "<font face=\"vazir\" size=4>\n",
    "گذاشتن np.newaxis در جایی از براکت، به معنای اضافه کردن یک بُعد با اندازه یک به آرایه در آنجا است.\n",
    "    <br>\n",
    "    برای مثال row[:, np.newaxis] معادل است با row.reshape(4, 1).\n",
    "    </font>\n",
    "</p>"
   ]
  },
  {
   "cell_type": "code",
   "execution_count": 117,
   "id": "1994a172-dd8d-4474-9701-558af26c5bc9",
   "metadata": {},
   "outputs": [
    {
     "data": {
      "text/plain": [
       "array([[ 0,  2,  1,  0],\n",
       "       [ 6,  8,  7,  6],\n",
       "       [ 9, 11, 10,  9],\n",
       "       [ 6,  8,  7,  6]])"
      ]
     },
     "execution_count": 117,
     "metadata": {},
     "output_type": "execute_result"
    }
   ],
   "source": [
    "a[row[:, np.newaxis], col]"
   ]
  },
  {
   "cell_type": "markdown",
   "id": "2b8b72d4-ebd7-49e0-a9b4-27feb5351eb4",
   "metadata": {
    "id": "ZRjNvNoBmES8"
   },
   "source": [
    "<p dir=rtl style=\"direction: rtl;text-align: right;line-height:200%;font-family:vazir;font-size:medium\">\n",
    "<font face=\"vazir\" size=4>\n",
    "هم‌چنین می‌توانیم ضمن نمایه‌سازی به این شیوه، آرایه مورد نظر را تغییر دهیم. مثلا با کد زیر می‌توانیم خانه‌های با مقدار زوج آرایه را ده برابر کنیم.\n",
    "    </font>\n",
    "</p>"
   ]
  },
  {
   "cell_type": "code",
   "execution_count": 118,
   "id": "cf7fd257-1bd8-4f9c-a3d9-4488a81e0e97",
   "metadata": {},
   "outputs": [
    {
     "name": "stdout",
     "output_type": "stream",
     "text": [
      "[20  1  3 40  5]\n"
     ]
    }
   ],
   "source": [
    "a = np.array([2, 1, 3, 4, 5])\n",
    "a[a%2 == 0] *= 10\n",
    "print(a)"
   ]
  },
  {
   "cell_type": "markdown",
   "id": "76f8c166-79f6-4ad5-829a-5a40124dca64",
   "metadata": {
    "id": "ZRjNvNoBmES8"
   },
   "source": [
    "<p dir=rtl style=\"direction: rtl;text-align: right;line-height:200%;font-family:vazir;font-size:medium\">\n",
    "<font face=\"vazir\" size=4>\n",
    "برای تکرار چند باره یک عملیات در یک خانه خاص از تابع عمومی at استفاده میکنیم. این تابع عملیات را به تعدادی که شماره خانه تکرار شده است انجام میدهد.\n",
    "    </font>\n",
    "</p>"
   ]
  },
  {
   "cell_type": "markdown",
   "id": "5a179113-05a2-476e-9393-7998f9199416",
   "metadata": {
    "id": "ZRjNvNoBmES8"
   },
   "source": [
    "<p dir=rtl style=\"direction: rtl;text-align: right;line-height:200%;font-family:vazir;font-size:medium\">\n",
    "<font face=\"vazir\" size=3 color='midnightblue'>\n",
    "به خانه صفر 3 بار 5 را اضافه میکند، به خانه 1، 2 بار و به خانه 2، 1 بار.\n",
    "    </font>\n",
    "</p>"
   ]
  },
  {
   "cell_type": "code",
   "execution_count": 119,
   "id": "4602996d-042c-4aec-b5b7-7b707fec9fc1",
   "metadata": {},
   "outputs": [
    {
     "name": "stdout",
     "output_type": "stream",
     "text": [
      "[35 11  8 40  5]\n"
     ]
    }
   ],
   "source": [
    "np.add.at(a, [0, 0, 0, 1, 1, 2], 5)\n",
    "print(a)"
   ]
  },
  {
   "cell_type": "markdown",
   "id": "6a90a3e8-63f7-47b0-86e9-b63f9773b75b",
   "metadata": {},
   "source": [
    "<br>\n",
    "<div dir=rtl id=\"start\" style=\"direction:rtl;line-height:200%;\">\n",
    "\t<font face=\"vazir\" size=7 color='Red'>\n",
    "    مرتب‌سازی و جبرخطی\n",
    "    </font>\n",
    "</div>"
   ]
  },
  {
   "cell_type": "markdown",
   "id": "59fbb702-ae46-43d0-abb9-5aa685e71f36",
   "metadata": {},
   "source": [
    "<br>\n",
    "<div dir=rtl id=\"start\" style=\"direction:rtl;line-height:200%;\">\n",
    "\t<font face=\"vazir\" size=6 color='Orange'>\n",
    "    مرتب سازی\n",
    "    </font>\n",
    "</div>"
   ]
  },
  {
   "cell_type": "markdown",
   "id": "1ab1b838-e10b-4ecf-a034-a94a9ab8a0ff",
   "metadata": {
    "id": "ZRjNvNoBmES8"
   },
   "source": [
    "<p dir=rtl style=\"direction: rtl;text-align: right;line-height:200%;font-family:vazir;font-size:medium\">\n",
    "<font face=\"vazir\" size=4>\n",
    "در الگوریتم مرتب‌سازی درجی (insertion sort) پس از مرتب کردن عناصر قبل از عنصر iم، این عنصر تا جایی که کوچکتر از عنصر قبلی خود باشد با آن جابجا می‌شود و به این ترتیب در جای مناسب خود درج می‌شود. \n",
    "    </font>\n",
    "</p>"
   ]
  },
  {
   "cell_type": "code",
   "execution_count": 120,
   "id": "fe0195cc-1f21-44cc-9161-c8842a3f96cd",
   "metadata": {},
   "outputs": [
    {
     "name": "stdout",
     "output_type": "stream",
     "text": [
      "[ 3  5  7 11 13]\n"
     ]
    }
   ],
   "source": [
    "def insertion_sort(a):\n",
    "    for i in range(len(a)):\n",
    "        j = i\n",
    "        while j > 0 and a[j] < a[j-1]:\n",
    "            a[j], a[j-1] = a[j-1], a[j]\n",
    "            j -= 1         \n",
    "            \n",
    "a = np.array([7, 3, 11, 13, 5])\n",
    "insertion_sort(a)\n",
    "print(a)"
   ]
  },
  {
   "cell_type": "markdown",
   "id": "18ef7c23-48d1-44d8-8601-337a4e0a16b1",
   "metadata": {
    "id": "ZRjNvNoBmES8"
   },
   "source": [
    "<p dir=rtl style=\"direction: rtl;text-align: right;line-height:200%;font-family:vazir;font-size:medium\">\n",
    "<font face=\"vazir\" size=3 color='midnightblue'>\n",
    "مرتبه زمانی این الگوریتم برای آرایه n تایی از O(n^2)\n",
    "  است و مناسب آرایه‌های بزرگ نیست. به جهت پرتکرار بودن الگوریتم مرتب‌سازی در برنامه‌ها و لزوم بهینگی آن، الگوریتم‌های سریع‌تری چون مرتب‌سازی سریع (quick sort) در توابع آماده sort پایتون و نامپای پیاده‌سازی شده‌اند (مرتبه زمانی این الگوریتم‌ها از O(nlogn) است). به این ترتیب، برای مرتب‌سازی آرایه‌های نامپای از تابع np.sort استفاده می‌کنیم که آرایه را به صورت مرتب خروجی می‌دهد.\n",
    "   </font>\n",
    "</p>"
   ]
  },
  {
   "cell_type": "code",
   "execution_count": 121,
   "id": "d45dcf43-4a69-4800-8afc-b1137456aae0",
   "metadata": {},
   "outputs": [
    {
     "data": {
      "text/plain": [
       "array([1, 2, 4, 5, 9])"
      ]
     },
     "execution_count": 121,
     "metadata": {},
     "output_type": "execute_result"
    }
   ],
   "source": [
    "a = np.array([5, 2, 9, 4, 1])\n",
    "np.sort(a)"
   ]
  },
  {
   "cell_type": "markdown",
   "id": "8b7a1a56-bcb3-4865-a0d0-10b91f4e33e4",
   "metadata": {
    "id": "ZRjNvNoBmES8"
   },
   "source": [
    "<p dir=rtl style=\"direction: rtl;text-align: right;line-height:200%;font-family:vazir;font-size:medium\">\n",
    "<font face=\"vazir\" size=3 color='midnightblue'>\n",
    "    عملیات مرتب‌سازی را می‌توان با استفاده از متد sort آرایه به صورت درجا هم انجام داد.\n",
    "    </font>\n",
    "</p>"
   ]
  },
  {
   "cell_type": "code",
   "execution_count": 122,
   "id": "7a840d97-5d9c-43ef-9249-86f4aca4b3ab",
   "metadata": {},
   "outputs": [
    {
     "name": "stdout",
     "output_type": "stream",
     "text": [
      "[1 2 4 5 9]\n"
     ]
    }
   ],
   "source": [
    "a.sort()\n",
    "print(a)"
   ]
  },
  {
   "cell_type": "markdown",
   "id": "2567f443-2d66-4b5c-a38c-29a39c2ece35",
   "metadata": {
    "id": "ZRjNvNoBmES8"
   },
   "source": [
    "<p dir=rtl style=\"direction: rtl;text-align: right;line-height:200%;font-family:vazir;font-size:medium\">\n",
    "<font face=\"vazir\" size=3 color='midnightblue'>\n",
    "    میتوانیم برای مرتب سازی axis هم مشخص کنیم تا در همون راستا مرتب کند.\n",
    "    </font>\n",
    "</p>"
   ]
  },
  {
   "cell_type": "code",
   "execution_count": 123,
   "id": "bb21c741-f3a4-4aa7-9e0f-10e8a0b94b78",
   "metadata": {},
   "outputs": [
    {
     "name": "stdout",
     "output_type": "stream",
     "text": [
      "[[6 3 4 5 9]\n",
      " [0 4 3 2 1]\n",
      " [7 6 6 4 0]\n",
      " [7 6 6 6 1]]\n"
     ]
    }
   ],
   "source": [
    "a = np.random.randint(0, 10, (4, 5))\n",
    "print(a)"
   ]
  },
  {
   "cell_type": "code",
   "execution_count": 124,
   "id": "b2f8128f-c2f9-43c1-9e02-1b6ec23b56ab",
   "metadata": {},
   "outputs": [
    {
     "data": {
      "text/plain": [
       "array([[0, 3, 3, 2, 0],\n",
       "       [6, 4, 4, 4, 1],\n",
       "       [7, 6, 6, 5, 1],\n",
       "       [7, 6, 6, 6, 9]])"
      ]
     },
     "execution_count": 124,
     "metadata": {},
     "output_type": "execute_result"
    }
   ],
   "source": [
    "np.sort(a,axis=0)"
   ]
  },
  {
   "cell_type": "code",
   "execution_count": 125,
   "id": "2ec0858e-cccc-426e-94c3-7b0d361461fd",
   "metadata": {},
   "outputs": [
    {
     "data": {
      "text/plain": [
       "array([[3, 4, 5, 6, 9],\n",
       "       [0, 1, 2, 3, 4],\n",
       "       [0, 4, 6, 6, 7],\n",
       "       [1, 6, 6, 6, 7]])"
      ]
     },
     "execution_count": 125,
     "metadata": {},
     "output_type": "execute_result"
    }
   ],
   "source": [
    "np.sort(a,axis=1)"
   ]
  },
  {
   "cell_type": "markdown",
   "id": "96196184-3ac2-4c3d-89c9-dbfd38c9d486",
   "metadata": {
    "id": "ZRjNvNoBmES8"
   },
   "source": [
    "<p dir=rtl style=\"direction: rtl;text-align: right;line-height:200%;font-family:vazir;font-size:medium\">\n",
    "<font face=\"vazir\" size=4>\n",
    "تابع np.partition با ورودی گرفتن مقدار k، آرایه‌ای را خروجی می‌دهد که در آن، k+1 عنصرِ کوچک‌ترِ آرایه، پیش از سایر عناصر آمده‌اند.\n",
    "    <br>\n",
    "    با توجه به خطی بودن عملیات partition ، مرتبه زمانی این الگوریتم هم از O(nlogn) است.\n",
    "    </font>\n",
    "</p>"
   ]
  },
  {
   "cell_type": "code",
   "execution_count": 126,
   "id": "0d5ccc3b-ea36-4ef0-b661-c46398e685b0",
   "metadata": {},
   "outputs": [
    {
     "name": "stdout",
     "output_type": "stream",
     "text": [
      "[[2 1 2 4 0]\n",
      " [5 5 1 6 0]\n",
      " [1 6 2 4 5]\n",
      " [9 7 1 8 1]]\n"
     ]
    }
   ],
   "source": [
    "a = np.random.randint(0, 10, (4, 5))\n",
    "print(a)"
   ]
  },
  {
   "cell_type": "code",
   "execution_count": 127,
   "id": "8730008e-9d65-4637-bbc1-01a0b7116192",
   "metadata": {},
   "outputs": [
    {
     "data": {
      "text/plain": [
       "array([[0, 1, 2, 4, 2],\n",
       "       [0, 1, 5, 6, 5],\n",
       "       [1, 2, 4, 6, 5],\n",
       "       [1, 1, 7, 8, 9]])"
      ]
     },
     "execution_count": 127,
     "metadata": {},
     "output_type": "execute_result"
    }
   ],
   "source": [
    "np.partition(a, 2,axis=1)"
   ]
  },
  {
   "cell_type": "markdown",
   "id": "1cc8f5d5-afd6-498c-b293-1953abfb6685",
   "metadata": {
    "id": "ZRjNvNoBmES8"
   },
   "source": [
    "<p dir=rtl style=\"direction: rtl;text-align: right;line-height:200%;font-family:vazir;font-size:medium\">\n",
    "<font face=\"vazir\" size=3 color='midnightblue'>\n",
    "    عملگر argpartition مرتب میکند و اندیس آرایه اولیه را میدهد\n",
    "    </font>\n",
    "</p>"
   ]
  },
  {
   "cell_type": "code",
   "execution_count": 128,
   "id": "7d27a54f-a9c9-47de-a719-5c29a8550aa8",
   "metadata": {},
   "outputs": [
    {
     "data": {
      "text/plain": [
       "array([[4, 1, 2, 3, 0],\n",
       "       [4, 2, 1, 3, 0],\n",
       "       [0, 2, 3, 1, 4],\n",
       "       [2, 4, 1, 3, 0]], dtype=int64)"
      ]
     },
     "execution_count": 128,
     "metadata": {},
     "output_type": "execute_result"
    }
   ],
   "source": [
    "np.argpartition(a,2,axis=1)"
   ]
  },
  {
   "cell_type": "markdown",
   "id": "0a00cdbe-566a-4563-8cc1-519efcf76027",
   "metadata": {
    "id": "ZRjNvNoBmES8"
   },
   "source": [
    "<p dir=rtl style=\"direction: rtl;text-align: right;line-height:200%;font-family:vazir;font-size:medium\">\n",
    "<font face=\"vazir\" size=4>\n",
    "تابع np.argsort به جای آرایه مرتب شده، آرایه‌ای بر می‌گرداند که در خانه iم آن، شماره خانه iمین کوچک‌ترین عنصر آرایه قرار دارد. \n",
    "    </font>\n",
    "</p>"
   ]
  },
  {
   "cell_type": "code",
   "execution_count": 129,
   "id": "bc1625a5-94b6-4189-9a76-251d9c049270",
   "metadata": {},
   "outputs": [
    {
     "name": "stdout",
     "output_type": "stream",
     "text": [
      "[4 1 3 0 2]\n"
     ]
    }
   ],
   "source": [
    "a = np.array([5, 2, 7, 3, 1])\n",
    "ind = np.argsort(a)\n",
    "print(ind)"
   ]
  },
  {
   "cell_type": "markdown",
   "id": "27e4a965-2fd9-4010-97fc-aade6d0886e4",
   "metadata": {},
   "source": [
    "<br>\n",
    "<div dir=rtl id=\"start\" style=\"direction:rtl;line-height:200%;\">\n",
    "\t<font face=\"vazir\" size=6 color='Orange'>\n",
    "    جبر خطی\n",
    "    </font>\n",
    "</div>"
   ]
  },
  {
   "cell_type": "markdown",
   "id": "1a7f7f2c-91b5-465f-bdc7-c0cbf62838fa",
   "metadata": {
    "id": "ZRjNvNoBmES8"
   },
   "source": [
    "<p dir=rtl style=\"direction: rtl;text-align: right;line-height:200%;font-family:vazir;font-size:medium\">\n",
    "<font face=\"vazir\" size=4>\n",
    "برای ضرب ماتریسی دو آرایه از توابع np.matmul , np.dot استفاده میکنیم. \n",
    "    </font>\n",
    "</p>"
   ]
  },
  {
   "cell_type": "code",
   "execution_count": 130,
   "id": "a2c38d37-9271-42aa-b5f5-2358bb561733",
   "metadata": {},
   "outputs": [
    {
     "name": "stdout",
     "output_type": "stream",
     "text": [
      "x = [1 2 3]\n",
      "y = [4 5 6]\n"
     ]
    }
   ],
   "source": [
    "x = np.array([1, 2, 3])\n",
    "y = np.array([4, 5, 6])\n",
    "print('x =', x)\n",
    "print('y =', y)"
   ]
  },
  {
   "cell_type": "code",
   "execution_count": 131,
   "id": "d384bca7-ba71-487a-bc86-142f519e4876",
   "metadata": {},
   "outputs": [
    {
     "data": {
      "text/plain": [
       "32"
      ]
     },
     "execution_count": 131,
     "metadata": {},
     "output_type": "execute_result"
    }
   ],
   "source": [
    "np.matmul(x, y) # np.matmul(x,y) = a @ b"
   ]
  },
  {
   "cell_type": "code",
   "execution_count": 132,
   "id": "fe3ab7d6-078c-4581-8427-64b6659cf23f",
   "metadata": {},
   "outputs": [
    {
     "name": "stdout",
     "output_type": "stream",
     "text": [
      "[[6 3]\n",
      " [5 9]\n",
      " [6 7]]\n",
      "[[6 2 7]\n",
      " [8 8 1]]\n"
     ]
    }
   ],
   "source": [
    "a = np.random.randint(1, 10, (3, 2))\n",
    "b = np.random.randint(1, 10, (2, 3))\n",
    "print(a)\n",
    "print(b)"
   ]
  },
  {
   "cell_type": "code",
   "execution_count": 133,
   "id": "2771e47f-8950-4318-8235-980b47293ad0",
   "metadata": {},
   "outputs": [
    {
     "data": {
      "text/plain": [
       "array([34, 42])"
      ]
     },
     "execution_count": 133,
     "metadata": {},
     "output_type": "execute_result"
    }
   ],
   "source": [
    "np.matmul(x, a)"
   ]
  },
  {
   "cell_type": "code",
   "execution_count": 134,
   "id": "36fa2f61-830d-4766-96a0-4252a996365b",
   "metadata": {},
   "outputs": [
    {
     "data": {
      "text/plain": [
       "array([31, 27])"
      ]
     },
     "execution_count": 134,
     "metadata": {},
     "output_type": "execute_result"
    }
   ],
   "source": [
    "np.matmul(b,x)"
   ]
  },
  {
   "cell_type": "code",
   "execution_count": 135,
   "id": "e7bffa2b-f044-4d33-ade1-720be5182499",
   "metadata": {},
   "outputs": [
    {
     "data": {
      "text/plain": [
       "array([[ 60,  36,  45],\n",
       "       [102,  82,  44],\n",
       "       [ 92,  68,  49]])"
      ]
     },
     "execution_count": 135,
     "metadata": {},
     "output_type": "execute_result"
    }
   ],
   "source": [
    "np.dot(a,b) # np.dot(a,b) = a.dot(b)"
   ]
  },
  {
   "cell_type": "markdown",
   "id": "7e2bc1ef-fc77-491e-9a4b-583bad37a9e9",
   "metadata": {
    "id": "ZRjNvNoBmES8"
   },
   "source": [
    "<p dir=rtl style=\"direction: rtl;text-align: right;line-height:200%;font-family:vazir;font-size:medium\">\n",
    "<font face=\"vazir\" size=4>\n",
    "زیربخش linalg در نامپای برای گردآوری عملیات جبری روی ماتریس ها است.\n",
    "    <br>\n",
    "    برای مثال دو تابع det , inv به ترتیب، دترمینان و ماتریس معکوس یک ماتریس مربعی (با تعریف آرایه) را محاسبه میکنند.\n",
    "    </font>\n",
    "</p>"
   ]
  },
  {
   "cell_type": "code",
   "execution_count": 136,
   "id": "5fc911fc-fb5e-493e-a95f-6b5a7498aef8",
   "metadata": {},
   "outputs": [
    {
     "name": "stdout",
     "output_type": "stream",
     "text": [
      "[[-0.27105384  0.44113455  0.36564294 -0.76724398]\n",
      " [-1.22188381 -0.81487745 -0.98462859 -0.16129166]\n",
      " [-0.24546808  0.74500184 -1.42373121 -1.93741905]\n",
      " [ 0.60685054 -0.20108201 -1.03793707  1.24279168]]\n"
     ]
    }
   ],
   "source": [
    "from numpy.linalg import inv, det\n",
    "a = np.random.randn(4, 4)\n",
    "print(a)"
   ]
  },
  {
   "cell_type": "code",
   "execution_count": 137,
   "id": "580dd23c-8f44-4631-92a4-8f03a2d96305",
   "metadata": {},
   "outputs": [
    {
     "data": {
      "text/plain": [
       "-1.3200602229003648"
      ]
     },
     "execution_count": 137,
     "metadata": {},
     "output_type": "execute_result"
    }
   ],
   "source": [
    "det(a)"
   ]
  },
  {
   "cell_type": "code",
   "execution_count": 138,
   "id": "f6f9dcd3-4f69-4da9-ac07-bc4753ff9baa",
   "metadata": {},
   "outputs": [
    {
     "data": {
      "text/plain": [
       "array([[-2.86309129, -0.7960169 ,  0.55189066, -1.01049677],\n",
       "       [ 4.01189154,  0.11518496, -0.40526504,  1.85993345],\n",
       "       [-0.09025381, -0.16699237, -0.2591389 , -0.48136933],\n",
       "       [ 1.97177852,  0.26786254, -0.55148142,  1.19697341]])"
      ]
     },
     "execution_count": 138,
     "metadata": {},
     "output_type": "execute_result"
    }
   ],
   "source": [
    "inv(a)"
   ]
  },
  {
   "cell_type": "markdown",
   "id": "b5b9c19c-f06f-4178-8cde-33414f9796e9",
   "metadata": {},
   "source": [
    "<br>\n",
    "<div dir=rtl id=\"start\" style=\"direction:ltr;line-height:200%;\">\n",
    "\t<font face=\"vazir\" size=7 color='Red'>\n",
    "The END\n",
    "    </font>\n",
    "</div>"
   ]
  }
 ],
 "metadata": {
  "kernelspec": {
   "display_name": "Python 3 (ipykernel)",
   "language": "python",
   "name": "python3"
  },
  "language_info": {
   "codemirror_mode": {
    "name": "ipython",
    "version": 3
   },
   "file_extension": ".py",
   "mimetype": "text/x-python",
   "name": "python",
   "nbconvert_exporter": "python",
   "pygments_lexer": "ipython3",
   "version": "3.9.7"
  }
 },
 "nbformat": 4,
 "nbformat_minor": 5
}
